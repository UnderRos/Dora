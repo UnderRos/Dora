{
 "cells": [
  {
   "cell_type": "code",
   "execution_count": null,
   "metadata": {},
   "outputs": [
    {
     "name": "stdout",
     "output_type": "stream",
     "text": [
      "변환 완료: /home/usou/dev_ws/superbad/data/usou/record/test_2.wav\n",
      "인식된 텍스트: 50분 알람\n",
      "{\n",
      "    \"error\": \"API 요청 실패 (HTTP 403)\"\n",
      "}\n"
     ]
    }
   ],
   "source": [
    "import requests\n",
    "import json\n",
    "import speech_recognition as sr\n",
    "import os\n",
    "from pydub import AudioSegment\n",
    "\n",
    "def converto_to_wav(input_path, output_path = None):\n",
    "    \"\"\"\n",
    "    오디오 파일을 WAV로 변환하는 함수\n",
    "    \n",
    "    :param input_path: 변환할 원본 오디오 파일 경로\n",
    "    :param output_path: 변환된 WAV 파일 경로 (기본적으로 동일한 폴더에 저장)\n",
    "    :return: 변환된 WAV 파일 경로\n",
    "    \"\"\"\n",
    "    if not os.path.exists(input_path):\n",
    "        raise FileNotFoundError(f\"파일을 찾을 수 없습니다. {input_path}\")\n",
    "    \n",
    "    # 출력 경로 설정    \n",
    "    if output_path is None:\n",
    "        output_path = os.path.splitext(input_path)[0] + \".wav\"\n",
    "    \n",
    "    #오디오 파일 로드 및 WAV로 변환\n",
    "    audio = AudioSegment.from_file(input_path)\n",
    "    audio.export(output_path, format = \"wav\")\n",
    "\n",
    "    print(f\"변환 완료: {output_path}\")\n",
    "    return output_path\n",
    "\n",
    "\n",
    "\n",
    "# ETRI API 키 입력\n",
    "API_KEY = \"41a2a58b-2dae-4d98-b3cc-70a7f0d57887\"\n",
    "\n",
    "# ETRI API 엔드포인트\n",
    "URL = \"http://aiopen.etri.re.kr:8000/WiseNLU\"\n",
    "\n",
    "# 음성을 텍스트로 변환하는 함수\n",
    "def speech_to_text(audio_file):\n",
    "    recognizer = sr.Recognizer()\n",
    "    \n",
    "    if not os.path.exists(audio_file):\n",
    "        return \"파일이 존재하지 않습니다.\"\n",
    "\n",
    "    with sr.AudioFile(audio_file) as source:\n",
    "        audio_data = recognizer.record(source)\n",
    "\n",
    "    try:\n",
    "        text = recognizer.recognize_google(audio_data, language=\"ko-KR\")\n",
    "        return text\n",
    "    except sr.UnknownValueError:\n",
    "        return \"음성을 인식할 수 없습니다.\"\n",
    "    except sr.RequestError as e:\n",
    "        return f\"Google API 요청 오류: {e}\"\n",
    "\n",
    "# 텍스트 감정 분석 요청 함수    \n",
    "def analyze_emotion(text):\n",
    "    request_body = {\n",
    "        \"access_key\": API_KEY,\n",
    "        \"argument\": {\n",
    "            \"text\": text,\n",
    "            \"analysis_code\": \"SA\"\n",
    "        }\n",
    "    }\n",
    "    response = requests.post(URL, json=request_body)\n",
    "    \n",
    "    if response.status_code == 200:\n",
    "        return response.json()\n",
    "    else:\n",
    "        return {\"error\": f\"API 요청 실패 (HTTP {response.status_code})\"}\n",
    "\n",
    "# 음성 파일 입력\n",
    "audio_file = \"/home/usou/dev_ws/superbad/data/usou/record/test_2.m4a\"  # 분석할 음성 파일\n",
    "\n",
    "# 음성을 텍스트로 변환\n",
    "recognized_text = speech_to_text(converto_to_wav(audio_file))\n",
    "print(f\"인식된 텍스트: {recognized_text}\")\n",
    "\n",
    "# 오류 메시지가 아닌 경우 감정 분석 실행\n",
    "# if recognized_text and \"오류\" not in recognized_text and \"없습니다\" not in recognized_text:\n",
    "#     sentiment_result = analyze_emotion(recognized_text)\n",
    "#     print(json.dumps(sentiment_result, indent=4, ensure_ascii=False))\n",
    "# else:\n",
    "#     print(\"텍스트 변환 실패로 인해 감정 분석을 수행하지 않습니다.\")\n",
    "\n",
    "\n",
    "# 텍스트를 수어체로 변환\n",
    "\n"
   ]
  },
  {
   "cell_type": "markdown",
   "metadata": {},
   "source": [
    "# 형태소 분석 테스트 코드"
   ]
  },
  {
   "cell_type": "code",
   "execution_count": 5,
   "metadata": {},
   "outputs": [
    {
     "name": "stdout",
     "output_type": "stream",
     "text": [
      "형태소 분석 API 응답 코드: 403\n",
      "형태소 분석 API 응답 결과: {'result': -1, 'reason': 'Empty Auth Header'}\n"
     ]
    }
   ],
   "source": [
    "import requests\n",
    "import json\n",
    "\n",
    "# ETRI API 키\n",
    "API_KEY = \"41a2a58b-2dae-4d98-b3cc-70a7f0d57887\"  # 본인의 키 입력\n",
    "\n",
    "# ETRI 형태소 분석 API 엔드포인트\n",
    "URL = \"http://aiopen.etri.re.kr:8000/WiseNLU\"\n",
    "\n",
    "# 요청 데이터\n",
    "request_body = {\n",
    "    \"access_key\": API_KEY,\n",
    "    \"argument\": {\n",
    "        \"text\": \"오늘 날씨가 좋네요.\",  # 테스트 문장\n",
    "        \"analysis_code\": \"morp\"  # 형태소 분석 코드\n",
    "    }\n",
    "}\n",
    "\n",
    "# API 요청 실행\n",
    "response = requests.post(URL, json=request_body)\n",
    "\n",
    "# 결과 출력\n",
    "print(\"형태소 분석 API 응답 코드:\", response.status_code)\n",
    "print(\"형태소 분석 API 응답 결과:\", response.json())\n"
   ]
  }
 ],
 "metadata": {
  "kernelspec": {
   "display_name": "superbad",
   "language": "python",
   "name": "python3"
  },
  "language_info": {
   "codemirror_mode": {
    "name": "ipython",
    "version": 3
   },
   "file_extension": ".py",
   "mimetype": "text/x-python",
   "name": "python",
   "nbconvert_exporter": "python",
   "pygments_lexer": "ipython3",
   "version": "3.12.3"
  }
 },
 "nbformat": 4,
 "nbformat_minor": 2
}
