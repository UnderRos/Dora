{
 "cells": [
  {
   "cell_type": "markdown",
   "metadata": {},
   "source": [
    "# Traindata 전처리\n",
    "\n",
    "# JSON -> DataFrame"
   ]
  },
  {
   "cell_type": "code",
   "execution_count": null,
   "metadata": {},
   "outputs": [],
   "source": [
    "import os\n",
    "import json\n",
    "import pandas as pd\n",
    "\n",
    "# 라벨링 JSON 파일이 있는 최상위 폴더 경로\n",
    "label_root = \"/media/usou/PortableSSD/mldl/015.감성 및 발화 스타일별 음성합성 데이터/01.데이터/1.Training/라벨링데이터/\"\n",
    "\n",
    "# 실제 WAV 파일이 존재하는 원천 데이터의 최상위 경로\n",
    "wav_root = \"/media/usou/PortableSSD/mldl/015.감성 및 발화 스타일별 음성합성 데이터/01.데이터/1.Training/원천데이터/\"\n",
    "\n",
    "# 정상적으로 처리된 데이터 정보를 담을 리스트\n",
    "data = []\n",
    "\n",
    "# 오류 발생 시 해당 JSON 파일 또는 존재하지 않는 WAV 경로를 저장할 리스트\n",
    "broken_files = []\n",
    "\n",
    "# 라벨링 폴더 내부의 모든 JSON 파일을 재귀적으로 탐색\n",
    "for folder_path, _, files in os.walk(label_root):\n",
    "    for file_name in files:\n",
    "        if file_name.endswith(\".json\"):\n",
    "            # 현재 JSON 파일의 전체 경로 구성\n",
    "            json_path = os.path.join(folder_path, file_name)\n",
    "            try:\n",
    "                # JSON 파일 열기 및 파싱\n",
    "                with open(json_path, 'r', encoding='utf-8') as f:\n",
    "                    content = json.load(f)\n",
    "\n",
    "                # JSON 내부 정보 추출\n",
    "                emotion = content[\"화자정보\"][\"Emotion\"]\n",
    "                style = content[\"화자정보\"].get(\"SpeechStyle\", \"N/A\")\n",
    "                sensitivity = content[\"화자정보\"].get(\"Sensitivity\", \"N/A\")\n",
    "                wav_file = content[\"파일정보\"][\"FileName\"]\n",
    "\n",
    "                # 현재 JSON 경로를 라벨 기준 상대경로로 변환\n",
    "                relative_path = os.path.relpath(folder_path, start=label_root)\n",
    "\n",
    "                # 상대 경로에서 모든 TL을 TS로 변경\n",
    "                relative_path = relative_path.replace(\"TL\", \"TS\")\n",
    "\n",
    "                # WAV 경로를 원천 데이터 기준으로 재구성\n",
    "                wav_path = os.path.join(wav_root, relative_path, wav_file)\n",
    "\n",
    "                # WAV 파일 존재 여부 확인\n",
    "                if os.path.exists(wav_path):\n",
    "                    # 정상 데이터 추가\n",
    "                    data.append({\n",
    "                        \"wav_path\": wav_path,\n",
    "                        \"emotion\": emotion,\n",
    "                        \"style\": style,\n",
    "                        \"sensitivity\": sensitivity\n",
    "                    })\n",
    "                else:\n",
    "                    # WAV 파일이 존재하지 않는 경우 로그에 기록\n",
    "                    print(f\"WAV 파일 없음: {wav_path}\")\n",
    "                    broken_files.append(wav_path)\n",
    "\n",
    "            except Exception as e:\n",
    "                # JSON 파싱 중 오류 발생 시 기록\n",
    "                print(f\"JSON 읽기 오류: {json_path}: {e}\")\n",
    "                broken_files.append(json_path)\n",
    "\n",
    "# 정상적으로 수집된 데이터를 DataFrame으로 변환\n",
    "df = pd.DataFrame(data)\n",
    "\n",
    "# 결과 CSV 파일로 저장\n",
    "os.makedirs(\"./data/usou\", exist_ok=True)\n",
    "df.to_csv(\"./data/usou/metadata_cleaned.csv\", index=False)\n",
    "\n",
    "# 오류가 발생한 경로들을 텍스트 파일로 저장\n",
    "with open(\"./data/usou/broken_files.txt\", \"w\") as f:\n",
    "    for path in broken_files:\n",
    "        f.write(path + \"\\n\")\n",
    "\n",
    "# 최종 처리 결과 출력\n",
    "print(f\"정상 처리된 JSON 수: {len(df)}\")\n",
    "print(f\"에러 발생 수: {len(broken_files)}\")\n"
   ]
  },
  {
   "cell_type": "markdown",
   "metadata": {},
   "source": [
    "# MFCC 추출\n",
    "-  MFCC 추출이란\n",
    "    - 음성에서 특징을 뽑아낸 백터\n",
    "-  데이터 형태\n",
    "    - 2차원 배열(시간 프레임수, 13)\n",
    "- 배치\n",
    "    - 배치 : 전체 데이터를 나누어 처리하는 단위\n",
    "- 나누는 이유\n",
    "    - 메모리 부족으로 컴퓨터 프리징 발생\n",
    "\n",
    "\n",
    "\n"
   ]
  },
  {
   "cell_type": "code",
   "execution_count": null,
   "metadata": {},
   "outputs": [],
   "source": [
    "import os\n",
    "import librosa\n",
    "import pandas as pd\n",
    "import numpy as np\n",
    "from tqdm import tqdm\n",
    "\n",
    "# ============================\n",
    "# 1. 메타데이터 로드\n",
    "# ============================\n",
    "# 사전에 정제된 메타데이터 CSV 파일 경로\n",
    "csv_path = \"/media/usou/PortableSSD/mldl_project/data/metadata_cleaned.csv\"\n",
    "df = pd.read_csv(csv_path)\n",
    "\n",
    "# ============================\n",
    "# 2. 설정값 정의\n",
    "# ============================\n",
    "sample_rate = 16000            # 음성 파일 샘플링 레이트 (Hz)\n",
    "max_duration = 5.0             # WAV 파일 최대 로딩 시간 (초) → 너무 긴 파일 방지\n",
    "save_interval = 10000          # 몇 개마다 배치로 저장할지 설정\n",
    "\n",
    "# 저장용 리스트 초기화\n",
    "mfcc_features = []             # MFCC 벡터 리스트\n",
    "labels = []                    # 감정 레이블 리스트\n",
    "error_files = []               # 처리 중 실패한 파일 목록\n",
    "save_counter = 0               # 배치 저장 인덱스\n",
    "\n",
    "# 저장 디렉토리 설정\n",
    "save_dir = \"/media/usou/PortableSSD/mldl_project/data/mfcc_batches\"\n",
    "os.makedirs(save_dir, exist_ok=True)\n",
    "\n",
    "# ============================\n",
    "# 3. MFCC 추출 루프\n",
    "# ============================\n",
    "for idx, row in tqdm(df.iterrows(), total=len(df)):\n",
    "    wav_path = row[\"wav_path\"]  # 메타데이터에 포함된 wav 파일 전체 경로\n",
    "    try:\n",
    "        # WAV 파일 로딩 (최대 max_duration 초까지만 로드)\n",
    "        y, sr = librosa.load(wav_path, sr=sample_rate, duration=max_duration)\n",
    "\n",
    "        # MFCC 13차원 추출\n",
    "        mfcc = librosa.feature.mfcc(y=y, sr=sr, n_mfcc=13)\n",
    "\n",
    "        # 시간 축 기준으로 전치 (time_step, n_mfcc)\n",
    "        mfcc_features.append(mfcc.T)\n",
    "        labels.append(row[\"emotion\"])\n",
    "\n",
    "    except Exception as e:\n",
    "        # 에러 발생 시 파일 경로 저장\n",
    "        print(f\"Error processing {wav_path}: {e}\")\n",
    "        error_files.append(wav_path)\n",
    "\n",
    "    # 일정 수 이상 쌓이면 배치 저장 후 메모리 초기화\n",
    "    if len(mfcc_features) >= save_interval:\n",
    "        np.save(os.path.join(save_dir, f\"mfcc_batch_{save_counter}.npy\"), np.array(mfcc_features, dtype=object))\n",
    "        np.save(os.path.join(save_dir, f\"label_batch_{save_counter}.npy\"), np.array(labels))\n",
    "        save_counter += 1\n",
    "        mfcc_features = []\n",
    "        labels = []\n",
    "\n",
    "# 남은 데이터가 있다면 마지막 배치 저장\n",
    "if mfcc_features:\n",
    "    np.save(os.path.join(save_dir, f\"mfcc_batch_{save_counter}.npy\"), np.array(mfcc_features, dtype=object))\n",
    "    np.save(os.path.join(save_dir, f\"label_batch_{save_counter}.npy\"), np.array(labels))\n",
    "\n",
    "# ============================\n",
    "# 4. 에러 파일 저장\n",
    "# ============================\n",
    "error_log_path = \"/media/usou/PortableSSD/mldl_project/data/broken_audio_files.txt\"\n",
    "with open(error_log_path, \"w\") as f:\n",
    "    for path in error_files:\n",
    "        f.write(path + \"\\n\")\n",
    "\n",
    "# ============================\n",
    "# 5. 처리 결과 출력\n",
    "# ============================\n",
    "print(f\"성공적으로 저장된 배치 수: {save_counter + 1}\")\n",
    "print(f\"실패한 파일 수: {len(error_files)}\")\n"
   ]
  },
  {
   "cell_type": "markdown",
   "metadata": {},
   "source": [
    "# 레이블 인코딩"
   ]
  },
  {
   "cell_type": "code",
   "execution_count": null,
   "metadata": {},
   "outputs": [],
   "source": [
    "import os\n",
    "import numpy as np\n",
    "import glob\n",
    "import pickle\n",
    "from sklearn.preprocessing import LabelEncoder\n",
    "\n",
    "# ============================\n",
    "# 1. 설정\n",
    "# ============================\n",
    "# 레이블 배치가 저장된 경로\n",
    "label_dir = \"/media/usou/PortableSSD/mldl_project/data/mfcc_batches\"\n",
    "\n",
    "# 인코딩된 레이블 저장 경로\n",
    "encoded_label_dir = os.path.join(label_dir, \"encoded_labels\")\n",
    "os.makedirs(encoded_label_dir, exist_ok=True)\n",
    "\n",
    "# ============================\n",
    "# 2. 모든 배치 레이블 수집\n",
    "# ============================\n",
    "# label_batch_*.npy 파일 경로 리스트\n",
    "label_files = sorted(glob.glob(os.path.join(label_dir, \"label_batch_*.npy\")))\n",
    "\n",
    "# 전체 레이블 리스트 생성\n",
    "all_labels = []\n",
    "batch_label_data = []  # 배치별 데이터도 임시 저장\n",
    "for label_file in label_files:\n",
    "    labels = np.load(label_file, allow_pickle=True)\n",
    "    batch_label_data.append(labels)\n",
    "    all_labels.extend(labels)\n",
    "\n",
    "# ============================\n",
    "# 3. 레이블 인코딩\n",
    "# ============================\n",
    "label_encoder = LabelEncoder()\n",
    "label_encoder.fit(all_labels)\n",
    "\n",
    "# 인코더 저장 (추후 예측 결과 복원용)\n",
    "with open(os.path.join(label_dir, \"label_encoder.pkl\"), \"wb\") as f:\n",
    "    pickle.dump(label_encoder, f)\n",
    "\n",
    "# ============================\n",
    "# 4. 인코딩된 레이블 배치별로 저장\n",
    "# ============================\n",
    "for i, labels in enumerate(batch_label_data):\n",
    "    encoded = label_encoder.transform(labels)\n",
    "    save_path = os.path.join(encoded_label_dir, f\"label_batch_{i}.npy\")\n",
    "    np.save(save_path, encoded)\n",
    "\n",
    "print(f\"총 레이블 개수: {len(all_labels)}\")\n",
    "print(f\"인코딩된 클래스 목록: {label_encoder.classes_}\")\n",
    "print(f\"배치 수: {len(label_files)}\")\n",
    "print(\"레이블 인코딩 및 저장 완료\")\n"
   ]
  },
  {
   "cell_type": "markdown",
   "metadata": {},
   "source": [
    "# CNN 모델 정의"
   ]
  },
  {
   "cell_type": "code",
   "execution_count": null,
   "metadata": {},
   "outputs": [],
   "source": [
    "import tensorflow as tf\n",
    "from tensorflow.keras import layers, models\n",
    "\n",
    "def create_cnn_model(input_shape, num_classes):\n",
    "    \"\"\"\n",
    "    CNN 기반 음성 감정 분류 모델 정의\n",
    "\n",
    "    Parameters:\n",
    "        input_shape (tuple): 입력 데이터 형태 (예: (시간축 길이, MFCC 차원 수, 채널 수))\n",
    "        num_classes (int): 분류할 감정 클래스 수\n",
    "\n",
    "    Returns:\n",
    "        tensorflow.keras.Model: 컴파일 완료된 CNN 모델\n",
    "    \"\"\"\n",
    "    model = models.Sequential()\n",
    "\n",
    "    # 첫 번째 컨볼루션 레이어: 필터 수 32, 커널 사이즈 3x3, 활성화 함수 ReLU\n",
    "    model.add(layers.Conv2D(32, kernel_size=(3, 3), activation='relu', input_shape=input_shape))\n",
    "    # 배치 정규화: 학습 안정성과 속도 개선\n",
    "    model.add(layers.BatchNormalization())\n",
    "    # 최대 풀링: 출력 크기 절반으로 줄임 (특징 추출과 과적합 방지)\n",
    "    model.add(layers.MaxPooling2D(pool_size=(2, 2)))\n",
    "\n",
    "    # 두 번째 컨볼루션 레이어: 필터 수 64\n",
    "    model.add(layers.Conv2D(64, kernel_size=(3, 3), activation='relu'))\n",
    "    model.add(layers.BatchNormalization())\n",
    "    model.add(layers.MaxPooling2D(pool_size=(2, 2)))\n",
    "\n",
    "    # 세 번째 컨볼루션 레이어: 필터 수 128\n",
    "    model.add(layers.Conv2D(128, kernel_size=(3, 3), activation='relu'))\n",
    "    model.add(layers.BatchNormalization())\n",
    "    # 전역 평균 풀링: 전체 피처 맵의 평균을 계산하여 1D 벡터로 변환\n",
    "    model.add(layers.GlobalAveragePooling2D())\n",
    "\n",
    "    # 완전 연결층(Dense Layer) 추가\n",
    "    model.add(layers.Dense(128, activation='relu'))\n",
    "    # 과적합 방지를 위한 드롭아웃 (30%)\n",
    "    model.add(layers.Dropout(0.3))\n",
    "    # 출력층: softmax로 감정 클래스 확률 예측\n",
    "    model.add(layers.Dense(num_classes, activation='softmax'))\n",
    "\n",
    "    # 모델 컴파일: Adam 옵티마이저, sparse_categorical_crossentropy 손실 함수, 정확도 지표\n",
    "    model.compile(optimizer='adam',\n",
    "                  loss='sparse_categorical_crossentropy',\n",
    "                  metrics=['accuracy'])\n",
    "\n",
    "    return model\n"
   ]
  },
  {
   "cell_type": "markdown",
   "metadata": {},
   "source": [
    "# Validation 전처리"
   ]
  },
  {
   "cell_type": "markdown",
   "metadata": {},
   "source": [
    "# 메타데이터 csv로 저장"
   ]
  },
  {
   "cell_type": "code",
   "execution_count": null,
   "metadata": {},
   "outputs": [],
   "source": [
    "import os\n",
    "import json\n",
    "import pandas as pd\n",
    "\n",
    "# ========================================\n",
    "# 1. 경로 설정\n",
    "# ========================================\n",
    "\n",
    "# 라벨링 JSON 파일이 저장된 루트 폴더\n",
    "label_root = \"/media/usou/PortableSSD/mldl/015.감성 및 발화 스타일별 음성합성 데이터/01.데이터/2.Validation/라벨링데이터/VL1\"\n",
    "\n",
    "# 실제 음성 WAV 파일이 있는 루트 폴더\n",
    "wav_root = \"/media/usou/PortableSSD/mldl/015.감성 및 발화 스타일별 음성합성 데이터/01.데이터/2.Validation/원천데이터/VS1\"\n",
    "\n",
    "# ========================================\n",
    "# 2. 결과 저장 리스트 초기화\n",
    "# ========================================\n",
    "data = []             # 메타데이터 저장용 리스트\n",
    "broken_files = []     # 에러 발생한 파일 로그용 리스트\n",
    "\n",
    "# ========================================\n",
    "# 3. JSON 파일 순회 및 정보 추출\n",
    "# ========================================\n",
    "for folder_path, _, files in os.walk(label_root):\n",
    "    for file_name in files:\n",
    "        if file_name.endswith(\".json\"):\n",
    "            json_path = os.path.join(folder_path, file_name)\n",
    "            try:\n",
    "                # JSON 파일 열기\n",
    "                with open(json_path, 'r', encoding='utf-8') as f:\n",
    "                    content = json.load(f)\n",
    "\n",
    "                # 화자 정보에서 감정, 스타일, 세부 감정 추출\n",
    "                emotion = content[\"화자정보\"][\"Emotion\"]\n",
    "                style = content[\"화자정보\"].get(\"SpeechStyle\", \"N/A\")\n",
    "                sensitivity = content[\"화자정보\"].get(\"Sensitivity\", \"N/A\")\n",
    "\n",
    "                # WAV 파일 이름 추출\n",
    "                wav_file = content[\"파일정보\"][\"FileName\"]\n",
    "\n",
    "                # 현재 JSON 경로에서 라벨 루트를 기준으로 상대 경로 추출\n",
    "                relative_path = os.path.relpath(folder_path, start=label_root)\n",
    "\n",
    "                # 실제 WAV 파일 경로 생성\n",
    "                wav_path = os.path.join(wav_root, relative_path, wav_file)\n",
    "\n",
    "                # WAV 파일이 존재하면 메타데이터에 추가\n",
    "                if os.path.exists(wav_path):\n",
    "                    data.append({\n",
    "                        \"wav_path\": wav_path,\n",
    "                        \"emotion\": emotion,\n",
    "                        \"style\": style,\n",
    "                        \"sensitivity\": sensitivity\n",
    "                    })\n",
    "                else:\n",
    "                    # WAV 파일이 없는 경우 기록\n",
    "                    print(f\"WAV 파일 없음: {wav_path}\")\n",
    "                    broken_files.append(wav_path)\n",
    "\n",
    "            except Exception as e:\n",
    "                # JSON 파싱 실패 시 기록\n",
    "                print(f\"JSON 읽기 오류: {json_path}, 에러: {e}\")\n",
    "                broken_files.append(json_path)\n",
    "\n",
    "# ========================================\n",
    "# 4. 결과 저장\n",
    "# ========================================\n",
    "\n",
    "# DataFrame 생성\n",
    "df = pd.DataFrame(data)\n",
    "\n",
    "# 저장 경로 생성\n",
    "os.makedirs(\"/media/usou/PortableSSD/mldl_project/data/validation\", exist_ok=True)\n",
    "\n",
    "# 메타데이터 CSV 저장\n",
    "df.to_csv(\"/media/usou/PortableSSD/mldl_project/data/validation/metadata_cleaned_val.csv\", index=False)\n",
    "\n",
    "# 에러 파일 로그 저장\n",
    "with open(\"/media/usou/PortableSSD/mldl_project/data/validation/broken_val_files.txt\", \"w\") as f:\n",
    "    for path in broken_files:\n",
    "        f.write(path + \"\\n\")\n",
    "\n",
    "# 요약 출력\n",
    "print(f\"정상 처리된 JSON 수: {len(df)}\")\n",
    "print(f\"에러 발생 수: {len(broken_files)}\")\n"
   ]
  },
  {
   "cell_type": "markdown",
   "metadata": {},
   "source": [
    "# MFCC 추출 Validation 용"
   ]
  },
  {
   "cell_type": "code",
   "execution_count": null,
   "metadata": {},
   "outputs": [],
   "source": [
    "import os\n",
    "import librosa\n",
    "import pandas as pd\n",
    "import numpy as np\n",
    "from tqdm import tqdm\n",
    "\n",
    "# ========================================\n",
    "# 1. 메타데이터 로드\n",
    "# ========================================\n",
    "\n",
    "# validation용 정제된 메타데이터 CSV 경로\n",
    "csv_path = \"/media/usou/PortableSSD/mldl_project/data/validation/metadata_cleaned_val.csv\"\n",
    "df = pd.read_csv(csv_path)\n",
    "\n",
    "# ========================================\n",
    "# 2. 설정값 정의\n",
    "# ========================================\n",
    "\n",
    "sample_rate = 16000             # 음성 샘플링 레이트 (16kHz)\n",
    "max_duration = 5.0              # WAV 최대 로딩 시간 (초)\n",
    "save_interval = 10000           # 배치 저장 기준 개수\n",
    "save_dir = \"/media/usou/PortableSSD/mldl_project/data/validation/mfcc_batches\"\n",
    "os.makedirs(save_dir, exist_ok=True)\n",
    "\n",
    "# 저장용 리스트 초기화\n",
    "mfcc_features = []              # 추출된 MFCC 벡터 리스트\n",
    "labels = []                     # 감정 레이블 리스트\n",
    "error_files = []                # 실패한 파일 목록\n",
    "save_counter = 0                # 배치 파일 번호\n",
    "\n",
    "# ========================================\n",
    "# 3. MFCC 추출 루프\n",
    "# ========================================\n",
    "\n",
    "for idx, row in tqdm(df.iterrows(), total=len(df)):\n",
    "    wav_path = row[\"wav_path\"]\n",
    "\n",
    "    try:\n",
    "        # WAV 파일 로딩 (최대 max_duration 초까지만 로드)\n",
    "        y, sr = librosa.load(wav_path, sr=sample_rate, duration=max_duration)\n",
    "\n",
    "        # MFCC 추출 (13차원)\n",
    "        mfcc = librosa.feature.mfcc(y=y, sr=sr, n_mfcc=13)\n",
    "\n",
    "        # 시간 축 기준으로 전치 (time_step, 13)\n",
    "        mfcc_features.append(mfcc.T)\n",
    "        labels.append(row[\"emotion\"])\n",
    "\n",
    "    except Exception as e:\n",
    "        # 로딩 실패 시 에러 출력 및 로그 저장\n",
    "        print(f\"Error processing {wav_path}: {e}\")\n",
    "        error_files.append(wav_path)\n",
    "\n",
    "    # 일정 개수 이상이면 배치 저장\n",
    "    if len(mfcc_features) >= save_interval:\n",
    "        np.save(os.path.join(save_dir, f\"mfcc_batch_{save_counter}.npy\"), np.array(mfcc_features, dtype=object))\n",
    "        np.save(os.path.join(save_dir, f\"label_batch_{save_counter}.npy\"), np.array(labels))\n",
    "        save_counter += 1\n",
    "        mfcc_features = []\n",
    "        labels = []\n",
    "\n",
    "# 루프 종료 후 남은 데이터 저장\n",
    "if mfcc_features:\n",
    "    np.save(os.path.join(save_dir, f\"mfcc_batch_{save_counter}.npy\"), np.array(mfcc_features, dtype=object))\n",
    "    np.save(os.path.join(save_dir, f\"label_batch_{save_counter}.npy\"), np.array(labels))\n",
    "\n",
    "# ========================================\n",
    "# 4. 에러 파일 저장\n",
    "# ========================================\n",
    "\n",
    "error_log_path = \"/media/usou/PortableSSD/mldl_project/data/validation/broken_audio_files_val.txt\"\n",
    "with open(error_log_path, \"w\") as f:\n",
    "    for path in error_files:\n",
    "        f.write(path + \"\\n\")\n",
    "\n",
    "# ========================================\n",
    "# 5. 처리 결과 출력\n",
    "# ========================================\n",
    "\n",
    "print(f\"성공적으로 저장된 배치 수: {save_counter + 1}\")\n",
    "print(f\"실패한 파일 수: {len(error_files)}\")\n"
   ]
  },
  {
   "cell_type": "markdown",
   "metadata": {},
   "source": [
    "# Validation 데이터용 레이블 인코딩"
   ]
  },
  {
   "cell_type": "code",
   "execution_count": null,
   "metadata": {},
   "outputs": [],
   "source": [
    "import os\n",
    "import numpy as np\n",
    "import glob\n",
    "import pickle\n",
    "from sklearn.preprocessing import LabelEncoder\n",
    "\n",
    "# ============================\n",
    "# 1. 설정\n",
    "# ============================\n",
    "# 레이블 배치가 저장된 경로\n",
    "label_dir = \"/media/usou/PortableSSD/mldl_project/data/mfcc_batches\"\n",
    "\n",
    "# 인코딩된 레이블 저장 경로\n",
    "encoded_label_dir = os.path.join(label_dir, \"encoded_labels\")\n",
    "os.makedirs(encoded_label_dir, exist_ok=True)\n",
    "\n",
    "# ============================\n",
    "# 2. 모든 배치 레이블 수집\n",
    "# ============================\n",
    "# label_batch_*.npy 파일 경로 리스트\n",
    "label_files = sorted(glob.glob(os.path.join(label_dir, \"label_batch_*.npy\")))\n",
    "\n",
    "# 전체 레이블 리스트 생성\n",
    "all_labels = []\n",
    "batch_label_data = []  # 배치별 데이터도 임시 저장\n",
    "for label_file in label_files:\n",
    "    labels = np.load(label_file, allow_pickle=True)\n",
    "    batch_label_data.append(labels)\n",
    "    all_labels.extend(labels)\n",
    "\n",
    "# ============================\n",
    "# 3. 레이블 인코딩\n",
    "# ============================\n",
    "label_encoder = LabelEncoder()\n",
    "label_encoder.fit(all_labels)\n",
    "\n",
    "# 인코더 저장 (추후 예측 결과 복원용)\n",
    "with open(os.path.join(label_dir, \"label_encoder.pkl\"), \"wb\") as f:\n",
    "    pickle.dump(label_encoder, f)\n",
    "\n",
    "# ============================\n",
    "# 4. 인코딩된 레이블 배치별로 저장\n",
    "# ============================\n",
    "for i, labels in enumerate(batch_label_data):\n",
    "    encoded = label_encoder.transform(labels)\n",
    "    save_path = os.path.join(encoded_label_dir, f\"label_batch_{i}.npy\")\n",
    "    np.save(save_path, encoded)\n",
    "\n",
    "print(f\"총 레이블 개수: {len(all_labels)}\")\n",
    "print(f\"인코딩된 클래스 목록: {label_encoder.classes_}\")\n",
    "print(f\"배치 수: {len(label_files)}\")\n",
    "print(\"레이블 인코딩 및 저장 완료\")\n"
   ]
  },
  {
   "cell_type": "markdown",
   "metadata": {},
   "source": [
    "# MFCC DataGenerator 클래스 생성"
   ]
  },
  {
   "cell_type": "code",
   "execution_count": null,
   "metadata": {},
   "outputs": [],
   "source": [
    "import os\n",
    "import numpy as np\n",
    "import tensorflow as tf\n",
    "\n",
    "class MFCCDataGenerator(tf.keras.utils.Sequence):\n",
    "    def __init__(self, batch_dir, prefix, batch_size=1, shuffle=True):\n",
    "        self.batch_dir = batch_dir\n",
    "        self.prefix = prefix\n",
    "        self.batch_size = batch_size\n",
    "        self.shuffle = shuffle\n",
    "\n",
    "        # 배치 파일 목록 생성\n",
    "        self.mfcc_files = sorted([\n",
    "            f for f in os.listdir(batch_dir) if f.startswith(f\"{prefix}_batch_\")\n",
    "        ])\n",
    "        self.indices = list(range(len(self.mfcc_files)))\n",
    "        if self.shuffle:\n",
    "            np.random.shuffle(self.indices)\n",
    "\n",
    "    def __len__(self):\n",
    "        return len(self.indices) // self.batch_size\n",
    "\n",
    "    def __getitem__(self, index):\n",
    "        batch_indices = self.indices[index * self.batch_size:(index + 1) * self.batch_size]\n",
    "        batch_mfccs = []\n",
    "        batch_labels = []\n",
    "\n",
    "        for idx in batch_indices:\n",
    "            mfcc_path = os.path.join(self.batch_dir, f\"{self.prefix}_batch_{idx}.npy\")\n",
    "            label_path = os.path.join(self.batch_dir, \"encoded_labels\", f\"label_batch_{idx}.npy\")\n",
    "\n",
    "            mfcc_data = np.load(mfcc_path, allow_pickle=True)\n",
    "            label_data = np.load(label_path)\n",
    "\n",
    "            # 가장 긴 시퀀스 기준으로 padding\n",
    "            max_len = max([x.shape[0] for x in mfcc_data])\n",
    "            padded = tf.keras.preprocessing.sequence.pad_sequences(mfcc_data, maxlen=max_len, dtype='float32', padding='post')\n",
    "            padded = np.expand_dims(padded, -1)  # (batch, time, n_mfcc, 1)\n",
    "\n",
    "            batch_mfccs.append(padded)\n",
    "            batch_labels.append(label_data)\n",
    "\n",
    "        X = np.concatenate(batch_mfccs, axis=0)\n",
    "        y = np.concatenate(batch_labels, axis=0)\n",
    "        return X, y\n",
    "\n",
    "    def on_epoch_end(self):\n",
    "        if self.shuffle:\n",
    "            np.random.shuffle(self.indices)\n"
   ]
  },
  {
   "cell_type": "markdown",
   "metadata": {},
   "source": [
    "# GPU 활성화 및 안정 설정 코드"
   ]
  },
  {
   "cell_type": "code",
   "execution_count": null,
   "metadata": {},
   "outputs": [],
   "source": [
    "import tensorflow as tf\n",
    "\n",
    "# 1. GPU 장치 목록 출력\n",
    "gpus = tf.config.list_physical_devices('GPU')\n",
    "print(\"사용 가능한 GPU:\", gpus)\n",
    "\n",
    "# 2. 메모리 자동 증가 설정 (안정성을 위해 권장)\n",
    "if gpus:\n",
    "    try:\n",
    "        for gpu in gpus:\n",
    "            tf.config.experimental.set_memory_growth(gpu, True)\n",
    "        print(\"✔ GPU 메모리 자동 증가 설정 완료\")\n",
    "    except RuntimeError as e:\n",
    "        print(\"⚠ 메모리 설정 중 오류 발생:\", e)\n",
    "else:\n",
    "    print(\"❌ GPU를 찾을 수 없습니다. CPU로 진행됩니다.\")\n"
   ]
  },
  {
   "cell_type": "markdown",
   "metadata": {},
   "source": [
    "# label_encoder.pkl을 로드해 동일하게 인코딩하는 코드"
   ]
  },
  {
   "cell_type": "code",
   "execution_count": null,
   "metadata": {},
   "outputs": [],
   "source": [
    "import os\n",
    "import numpy as np\n",
    "import glob\n",
    "import pickle\n",
    "\n",
    "# ============================\n",
    "# 1. 설정\n",
    "# ============================\n",
    "val_label_dir = \"/media/usou/PortableSSD/mldl_project/data/validation/mfcc_batches\"\n",
    "encoded_label_dir = os.path.join(val_label_dir, \"encoded_labels\")\n",
    "os.makedirs(encoded_label_dir, exist_ok=True)\n",
    "\n",
    "# 학습 데이터에서 저장한 LabelEncoder 로드\n",
    "with open(\"/media/usou/PortableSSD/mldl_project/data/mfcc_batches/label_encoder.pkl\", \"rb\") as f:\n",
    "    label_encoder = pickle.load(f)\n",
    "\n",
    "# ============================\n",
    "# 2. 모든 validation 레이블 수집\n",
    "# ============================\n",
    "label_files = sorted(glob.glob(os.path.join(val_label_dir, \"label_batch_*.npy\")))\n",
    "\n",
    "for i, label_file in enumerate(label_files):\n",
    "    labels = np.load(label_file, allow_pickle=True)\n",
    "    encoded = label_encoder.transform(labels)\n",
    "    save_path = os.path.join(encoded_label_dir, f\"label_batch_{i}.npy\")\n",
    "    np.save(save_path, encoded)\n",
    "\n",
    "print(f\"✅ Validation 레이블 인코딩 및 저장 완료 (배치 수: {len(label_files)})\")\n"
   ]
  },
  {
   "cell_type": "markdown",
   "metadata": {},
   "source": [
    "# CNN 모델 정의"
   ]
  },
  {
   "cell_type": "code",
   "execution_count": null,
   "metadata": {},
   "outputs": [],
   "source": [
    "import tensorflow as tf\n",
    "from tensorflow.keras import layers, models\n",
    "\n",
    "def create_cnn_model(input_shape, num_classes):\n",
    "    \"\"\"\n",
    "    CNN 기반 음성 감정 분류 모델 정의\n",
    "\n",
    "    Parameters:\n",
    "        input_shape (tuple): 입력 데이터 형태 (예: (시간축 길이, MFCC 차원 수, 채널 수))\n",
    "        num_classes (int): 분류할 감정 클래스 수\n",
    "\n",
    "    Returns:\n",
    "        tensorflow.keras.Model: 컴파일 완료된 CNN 모델\n",
    "    \"\"\"\n",
    "    model = models.Sequential()\n",
    "\n",
    "    # [1] 첫 번째 컨볼루션 블록\n",
    "    model.add(layers.Conv2D(32, kernel_size=(3, 3), activation='relu', input_shape=input_shape))\n",
    "    model.add(layers.BatchNormalization())               # 학습 안정성 향상\n",
    "    model.add(layers.MaxPooling2D(pool_size=(2, 2)))     # 공간 크기 감소\n",
    "\n",
    "    # [2] 두 번째 컨볼루션 블록\n",
    "    model.add(layers.Conv2D(64, kernel_size=(3, 3), activation='relu'))\n",
    "    model.add(layers.BatchNormalization())\n",
    "    model.add(layers.MaxPooling2D(pool_size=(2, 2)))\n",
    "\n",
    "    # [3] 세 번째 컨볼루션 블록\n",
    "    model.add(layers.Conv2D(128, kernel_size=(3, 3), activation='relu'))\n",
    "    model.add(layers.BatchNormalization())\n",
    "    model.add(layers.GlobalAveragePooling2D())           # 피처맵 전체 평균값\n",
    "\n",
    "    # [4] 완전 연결층 + 드롭아웃\n",
    "    model.add(layers.Dense(128, activation='relu'))\n",
    "    model.add(layers.Dropout(0.3))                       # 과적합 방지\n",
    "\n",
    "    # [5] 출력층 - 클래스 수만큼 softmax 출력\n",
    "    model.add(layers.Dense(num_classes, activation='softmax'))\n",
    "\n",
    "    # 모델 컴파일\n",
    "    model.compile(optimizer='adam',\n",
    "                  loss='sparse_categorical_crossentropy',\n",
    "                  metrics=['accuracy'])\n",
    "\n",
    "    return model\n"
   ]
  },
  {
   "cell_type": "markdown",
   "metadata": {},
   "source": [
    "# 학습"
   ]
  },
  {
   "cell_type": "code",
   "execution_count": null,
   "metadata": {},
   "outputs": [],
   "source": [
    "import tensorflow as tf\n",
    "\n",
    "# ============================\n",
    "# 1. 데이터 제너레이터 생성\n",
    "# ============================\n",
    "train_generator = MFCCDataGenerator(\n",
    "    batch_dir=\"/media/usou/PortableSSD/mldl_project/data/mfcc_batches\",\n",
    "    prefix=\"mfcc\",\n",
    "    batch_size=1  # 메모리 안정 위해 소량으로 시작\n",
    ")\n",
    "\n",
    "val_generator = MFCCDataGenerator(\n",
    "    batch_dir=\"/media/usou/PortableSSD/mldl_project/data/validation/mfcc_batches\",\n",
    "    prefix=\"mfcc\",\n",
    "    batch_size=1\n",
    ")\n",
    "\n",
    "# ============================\n",
    "# 2. 클래스 수 설정\n",
    "# ============================\n",
    "import pickle\n",
    "\n",
    "# 학습 데이터의 레이블 인코더를 불러와 클래스 수 확인\n",
    "with open(\"/media/usou/PortableSSD/mldl_project/data/mfcc_batches/label_encoder.pkl\", \"rb\") as f:\n",
    "    label_encoder = pickle.load(f)\n",
    "\n",
    "num_classes = len(label_encoder.classes_)\n",
    "\n",
    "# ============================\n",
    "# 3. 입력 형태 설정\n",
    "# ============================\n",
    "# 예시 입력 크기 지정 (임의 값, 실제 학습 데이터 확인 후 조정 가능)\n",
    "# 이 부분은 train_generator[0][0].shape 로 확인 가능\n",
    "sample_input = train_generator[0][0]  # shape: (batch, time, n_mfcc, 1)\n",
    "input_shape = sample_input.shape[1:]  # (time, n_mfcc, 1)\n",
    "\n",
    "# ============================\n",
    "# 4. 모델 생성 및 요약\n",
    "# ============================\n",
    "model = create_cnn_model(input_shape=input_shape, num_classes=num_classes)\n",
    "model.summary()\n",
    "\n",
    "# ============================\n",
    "# 5. 콜백 정의 (모델 저장 및 EarlyStopping)\n",
    "# ============================\n",
    "checkpoint_path = \"/media/usou/PortableSSD/mldl_project/models/best_model.h5\"\n",
    "os.makedirs(os.path.dirname(checkpoint_path), exist_ok=True)\n",
    "\n",
    "callbacks = [\n",
    "    tf.keras.callbacks.ModelCheckpoint(\n",
    "        filepath=checkpoint_path,\n",
    "        monitor='val_accuracy',\n",
    "        save_best_only=True,\n",
    "        verbose=1\n",
    "    ),\n",
    "    tf.keras.callbacks.EarlyStopping(\n",
    "        monitor='val_accuracy',\n",
    "        patience=5,\n",
    "        restore_best_weights=True\n",
    "    )\n",
    "]\n",
    "\n",
    "# ============================\n",
    "# 6. 학습 실행\n",
    "# ============================\n",
    "history = model.fit(\n",
    "    train_generator,\n",
    "    validation_data=val_generator,\n",
    "    epochs=30,\n",
    "    callbacks=callbacks\n",
    ")\n"
   ]
  },
  {
   "cell_type": "markdown",
   "metadata": {},
   "source": [
    "- 학습 실패한 이유 \n",
    "- Conv2D 커널이 너무 커서 작은 입력에 비해 작동을 못함 - kernel size 축소 or padding =\"same\" 적용 -> 모델 재정의"
   ]
  },
  {
   "cell_type": "markdown",
   "metadata": {},
   "source": [
    "# 안정적인 CNN 모델 정의"
   ]
  },
  {
   "cell_type": "code",
   "execution_count": null,
   "metadata": {},
   "outputs": [],
   "source": [
    "from tensorflow.keras import layers, models\n",
    "\n",
    "def create_cnn_model(input_shape, num_classes):\n",
    "    \"\"\"\n",
    "    음성 감정 분류를 위한 CNN 모델 정의\n",
    "    \n",
    "    Parameters:\n",
    "        input_shape (tuple): 입력 데이터의 형태 (시간축, MFCC 차원, 채널 수)\n",
    "        num_classes (int): 분류할 감정 클래스 수\n",
    "        \n",
    "    Returns:\n",
    "        keras.models.Sequential: 컴파일된 모델 객체\n",
    "    \"\"\"\n",
    "\n",
    "    model = models.Sequential()\n",
    "\n",
    "    # ===============================\n",
    "    # [1] 첫 번째 컨볼루션 블록\n",
    "    # ===============================\n",
    "    # Conv2D: 32개의 필터, 3x3 커널, relu 활성화 함수 사용\n",
    "    # padding='same'으로 출력 크기 감소 방지\n",
    "    model.add(layers.Conv2D(32, (3, 3), activation='relu', padding='same', input_shape=input_shape))\n",
    "    model.add(layers.BatchNormalization())  # 정규화로 학습 안정화\n",
    "    model.add(layers.MaxPooling2D((2, 2)))  # 출력 크기 절반으로 축소\n",
    "\n",
    "    # ===============================\n",
    "    # [2] 두 번째 컨볼루션 블록\n",
    "    # ===============================\n",
    "    model.add(layers.Conv2D(64, (3, 3), activation='relu', padding='same'))\n",
    "    model.add(layers.BatchNormalization())\n",
    "    model.add(layers.MaxPooling2D((2, 2)))\n",
    "\n",
    "    # ===============================\n",
    "    # [3] 세 번째 컨볼루션 블록\n",
    "    # ===============================\n",
    "    model.add(layers.Conv2D(128, (3, 3), activation='relu', padding='same'))\n",
    "    model.add(layers.BatchNormalization())\n",
    "    \n",
    "    # GlobalAveragePooling2D: 각 채널의 평균을 취해 1D 벡터로 변환\n",
    "    model.add(layers.GlobalAveragePooling2D())\n",
    "\n",
    "    # ===============================\n",
    "    # [4] 완전 연결층 + 출력층\n",
    "    # ===============================\n",
    "    model.add(layers.Dense(128, activation='relu'))\n",
    "    model.add(layers.Dropout(0.3))  # 과적합 방지\n",
    "    model.add(layers.Dense(num_classes, activation='softmax'))  # 감정 클래스 확률 출력\n",
    "\n",
    "    # ===============================\n",
    "    # [5] 모델 컴파일\n",
    "    # ===============================\n",
    "    model.compile(\n",
    "        optimizer='adam',\n",
    "        loss='sparse_categorical_crossentropy',\n",
    "        metrics=['accuracy']\n",
    "    )\n",
    "\n",
    "    return model\n"
   ]
  },
  {
   "cell_type": "markdown",
   "metadata": {},
   "source": [
    "# 학습\n",
    "- 학습 도중 시스템이 멈추지 않도록 작은 배치 크기와 적절한 콜백 설정 포함"
   ]
  },
  {
   "cell_type": "code",
   "execution_count": null,
   "metadata": {},
   "outputs": [],
   "source": [
    "import os\n",
    "import pickle\n",
    "import tensorflow as tf\n",
    "\n",
    "# ============================\n",
    "# 1. 데이터 제너레이터 생성\n",
    "# ============================\n",
    "train_generator = MFCCDataGenerator(\n",
    "    batch_dir=\"/media/usou/PortableSSD/mldl_project/data/mfcc_batches\",\n",
    "    prefix=\"mfcc\",\n",
    "    batch_size=1  # 메모리 절약을 위한 작은 배치\n",
    ")\n",
    "\n",
    "val_generator = MFCCDataGenerator(\n",
    "    batch_dir=\"/media/usou/PortableSSD/mldl_project/data/validation/mfcc_batches\",\n",
    "    prefix=\"mfcc\",\n",
    "    batch_size=1\n",
    ")\n",
    "\n",
    "# ============================\n",
    "# 2. 레이블 인코더 로드 및 클래스 수 설정\n",
    "# ============================\n",
    "# 학습 데이터용 레이블 인코더를 통해 클래스 수 파악\n",
    "with open(\"/media/usou/PortableSSD/mldl_project/data/mfcc_batches/label_encoder.pkl\", \"rb\") as f:\n",
    "    label_encoder = pickle.load(f)\n",
    "\n",
    "num_classes = len(label_encoder.classes_)\n",
    "\n",
    "# ============================\n",
    "# 3. 입력 형태 설정\n",
    "# ============================\n",
    "# 첫 배치에서 입력 형태 파악\n",
    "sample_input = train_generator[0][0]  # shape: (batch, time, n_mfcc, 1)\n",
    "input_shape = sample_input.shape[1:]  # (time, n_mfcc, 1)\n",
    "\n",
    "# ============================\n",
    "# 4. 모델 생성\n",
    "# ============================\n",
    "model = create_cnn_model(input_shape=input_shape, num_classes=num_classes)\n",
    "model.summary()\n",
    "\n",
    "# ============================\n",
    "# 5. 콜백 설정\n",
    "# ============================\n",
    "checkpoint_path = \"/media/usou/PortableSSD/mldl_project/models/best_model.h5\"\n",
    "os.makedirs(os.path.dirname(checkpoint_path), exist_ok=True)\n",
    "\n",
    "callbacks = [\n",
    "    tf.keras.callbacks.ModelCheckpoint(\n",
    "        filepath=checkpoint_path,\n",
    "        monitor='val_accuracy',\n",
    "        save_best_only=True,\n",
    "        verbose=1\n",
    "    ),\n",
    "    tf.keras.callbacks.EarlyStopping(\n",
    "        monitor='val_accuracy',\n",
    "        patience=5,\n",
    "        restore_best_weights=True\n",
    "    )\n",
    "]\n",
    "\n",
    "# ============================\n",
    "# 6. 학습 실행\n",
    "# ============================\n",
    "history = model.fit(\n",
    "    train_generator,\n",
    "    validation_data=val_generator,\n",
    "    epochs=30,\n",
    "    callbacks=callbacks\n",
    ")\n"
   ]
  },
  {
   "cell_type": "markdown",
   "metadata": {},
   "source": [
    "- GPU 메모리 부족"
   ]
  },
  {
   "cell_type": "markdown",
   "metadata": {},
   "source": [
    "# 모델 경량화 프루닝 라이브러리 및 모델 정의"
   ]
  },
  {
   "cell_type": "code",
   "execution_count": null,
   "metadata": {},
   "outputs": [],
   "source": [
    "import tensorflow_model_optimization as tfmot\n",
    "from tensorflow.keras import layers, models\n",
    "\n",
    "def create_pruned_cnn_model(input_shape, num_classes):\n",
    "    # 프루닝 설정: 가중치의 50%를 0으로 만듦 (비율은 조절 가능)\n",
    "    pruning_params = {\n",
    "        'pruning_schedule': tfmot.sparsity.keras.PolynomialDecay(\n",
    "            initial_sparsity=0.0,\n",
    "            final_sparsity=0.5,\n",
    "            begin_step=0,\n",
    "            end_step=1000  # 조절 가능\n",
    "        )\n",
    "    }\n",
    "\n",
    "    model = models.Sequential()\n",
    "\n",
    "    # 첫 번째 블록\n",
    "    model.add(tfmot.sparsity.keras.prune_low_magnitude(\n",
    "        layers.Conv2D(32, (3, 3), activation='relu', input_shape=input_shape),\n",
    "        **pruning_params\n",
    "    ))\n",
    "    model.add(layers.BatchNormalization())\n",
    "    model.add(layers.MaxPooling2D((2, 2)))\n",
    "\n",
    "    # 두 번째 블록\n",
    "    model.add(tfmot.sparsity.keras.prune_low_magnitude(\n",
    "        layers.Conv2D(64, (3, 3), activation='relu'),\n",
    "        **pruning_params\n",
    "    ))\n",
    "    model.add(layers.BatchNormalization())\n",
    "    model.add(layers.MaxPooling2D((2, 2)))\n",
    "\n",
    "    # 세 번째 블록\n",
    "    model.add(tfmot.sparsity.keras.prune_low_magnitude(\n",
    "        layers.Conv2D(128, (3, 3), activation='relu'),\n",
    "        **pruning_params\n",
    "    ))\n",
    "    model.add(layers.BatchNormalization())\n",
    "    model.add(layers.GlobalAveragePooling2D())\n",
    "\n",
    "    # 밀집층\n",
    "    model.add(tfmot.sparsity.keras.prune_low_magnitude(\n",
    "        layers.Dense(128, activation='relu'),\n",
    "        **pruning_params\n",
    "    ))\n",
    "    model.add(layers.Dropout(0.3))\n",
    "    model.add(tfmot.sparsity.keras.prune_low_magnitude(\n",
    "        layers.Dense(num_classes, activation='softmax'),\n",
    "        **pruning_params\n",
    "    ))\n",
    "\n",
    "    # 컴파일\n",
    "    model.compile(optimizer='adam',\n",
    "                  loss='sparse_categorical_crossentropy',\n",
    "                  metrics=['accuracy'])\n",
    "\n",
    "    return model\n"
   ]
  },
  {
   "cell_type": "code",
   "execution_count": null,
   "metadata": {},
   "outputs": [],
   "source": [
    "import tensorflow_model_optimization as tfmot\n",
    "from tensorflow.keras import layers, models\n",
    "\n",
    "def create_pruned_cnn_model(input_shape, num_classes):\n",
    "    # 프루닝 설정: 가중치의 50%를 0으로 만듦 (비율은 조절 가능)\n",
    "    pruning_params = {\n",
    "        'pruning_schedule': tfmot.sparsity.keras.PolynomialDecay(\n",
    "            initial_sparsity=0.0,\n",
    "            final_sparsity=0.5,\n",
    "            begin_step=0,\n",
    "            end_step=1000  # 조절 가능\n",
    "        )\n",
    "    }\n",
    "\n",
    "    model = models.Sequential()\n",
    "\n",
    "    # 첫 번째 블록\n",
    "    model.add(tfmot.sparsity.keras.prune_low_magnitude(\n",
    "        layers.Conv2D(32, (3, 3), activation='relu', input_shape=input_shape),\n",
    "        **pruning_params\n",
    "    ))\n",
    "    model.add(layers.BatchNormalization())\n",
    "    model.add(layers.MaxPooling2D((2, 2)))\n",
    "\n",
    "    # 두 번째 블록\n",
    "    model.add(tfmot.sparsity.keras.prune_low_magnitude(\n",
    "        layers.Conv2D(64, (3, 3), activation='relu'),\n",
    "        **pruning_params\n",
    "    ))\n",
    "    model.add(layers.BatchNormalization())\n",
    "    model.add(layers.MaxPooling2D((2, 2)))\n",
    "\n",
    "    # 세 번째 블록\n",
    "    model.add(tfmot.sparsity.keras.prune_low_magnitude(\n",
    "        layers.Conv2D(128, (3, 3), activation='relu'),\n",
    "        **pruning_params\n",
    "    ))\n",
    "    model.add(layers.BatchNormalization())\n",
    "    model.add(layers.GlobalAveragePooling2D())\n",
    "\n",
    "    # 밀집층\n",
    "    model.add(tfmot.sparsity.keras.prune_low_magnitude(\n",
    "        layers.Dense(128, activation='relu'),\n",
    "        **pruning_params\n",
    "    ))\n",
    "    model.add(layers.Dropout(0.3))\n",
    "    model.add(tfmot.sparsity.keras.prune_low_magnitude(\n",
    "        layers.Dense(num_classes, activation='softmax'),\n",
    "        **pruning_params\n",
    "    ))\n",
    "\n",
    "    # 컴파일\n",
    "    model.compile(optimizer='adam',\n",
    "                  loss='sparse_categorical_crossentropy',\n",
    "                  metrics=['accuracy'])\n",
    "\n",
    "    return model\n"
   ]
  },
  {
   "cell_type": "markdown",
   "metadata": {},
   "source": [
    "- 프루닝 실패\n",
    "1. Sequential 모델 안에 잘못된 레이어 구조를 넣었거나\n",
    "\n",
    "2. 프루닝 대상에 이미 프루닝된 레이어를 다시 적용하려고 하거나\n",
    "\n",
    "3. 모델 구조에서 무한 루프가 생겼거나\n",
    "\n",
    "4. 너무 많은 프루닝 wrapper가 중첩된 경우\n",
    "\n"
   ]
  },
  {
   "cell_type": "markdown",
   "metadata": {},
   "source": [
    "# 여기서 부터 "
   ]
  },
  {
   "cell_type": "markdown",
   "metadata": {},
   "source": [
    "# MFCCDataGenerator 클래스\n",
    "- tf.keras.utils.Sequence를 상속받아, 저장된 MFCC 및 레이블 배치 데이터를 Keras 모델 학습에 적합하게 동적으로 불러오고 전처리해주는 제너레이터"
   ]
  },
  {
   "cell_type": "code",
   "execution_count": null,
   "metadata": {},
   "outputs": [],
   "source": [
    "import os\n",
    "import numpy as np\n",
    "import tensorflow as tf\n",
    "\n",
    "class MFCCDataGenerator(tf.keras.utils.Sequence):\n",
    "    def __init__(self, batch_dir, prefix, batch_size=1, shuffle=True):\n",
    "        self.batch_dir = batch_dir\n",
    "        self.prefix = prefix\n",
    "        self.batch_size = batch_size\n",
    "        self.shuffle = shuffle\n",
    "\n",
    "        # 배치 리스트 구성\n",
    "        self.mfcc_files = sorted([\n",
    "            f for f in os.listdir(batch_dir) if f.startswith(f\"{prefix}_batch_\")\n",
    "        ])\n",
    "        self.indices = list(range(len(self.mfcc_files)))\n",
    "        if shuffle:\n",
    "            np.random.shuffle(self.indices)\n",
    "\n",
    "    def __len__(self):\n",
    "        return len(self.indices) // self.batch_size\n",
    "\n",
    "    def __getitem__(self, index):\n",
    "        # 현재 배치 인덱스 범위 계산\n",
    "        batch_indices = self.indices[index * self.batch_size:(index + 1) * self.batch_size]\n",
    "\n",
    "        batch_mfccs = []\n",
    "        batch_labels = []\n",
    "\n",
    "        for idx in batch_indices:\n",
    "            mfcc_path = os.path.join(self.batch_dir, f\"{self.prefix}_batch_{idx}.npy\")\n",
    "            label_path = os.path.join(self.batch_dir, \"encoded_labels\", f\"label_batch_{idx}.npy\")\n",
    "\n",
    "            mfcc_data = np.load(mfcc_path, allow_pickle=True)\n",
    "            label_data = np.load(label_path)\n",
    "\n",
    "            # 시퀀스 길이 맞추기 (Zero-padding)\n",
    "            max_len = max([x.shape[0] for x in mfcc_data])\n",
    "            padded = tf.keras.preprocessing.sequence.pad_sequences(mfcc_data, maxlen=max_len, dtype='float32', padding='post')\n",
    "            padded = np.expand_dims(padded, -1)  # CNN 입력 형식 맞추기\n",
    "\n",
    "            batch_mfccs.append(padded)\n",
    "            batch_labels.append(label_data)\n",
    "\n",
    "        X = np.concatenate(batch_mfccs, axis=0)\n",
    "        y = np.concatenate(batch_labels, axis=0)\n",
    "        return X, y\n",
    "\n",
    "    def on_epoch_end(self):\n",
    "        if self.shuffle:\n",
    "            np.random.shuffle(self.indices)\n"
   ]
  },
  {
   "cell_type": "markdown",
   "metadata": {},
   "source": [
    "# 음성 감정 분류를 위한 CNN 모델을 정의한 함수"
   ]
  },
  {
   "cell_type": "code",
   "execution_count": null,
   "metadata": {},
   "outputs": [],
   "source": [
    "from tensorflow.keras import layers, models\n",
    "\n",
    "def create_cnn_model(input_shape, num_classes):\n",
    "    \"\"\"\n",
    "    음성 감정 인식을 위한 CNN 모델 정의\n",
    "    - 입력: MFCC 시퀀스 (batch, time, n_mfcc, 1)\n",
    "    - 출력: 감정 클래스 확률 (softmax)\n",
    "    \"\"\"\n",
    "\n",
    "    model = models.Sequential()\n",
    "\n",
    "    # [1] 첫 번째 컨볼루션 블록\n",
    "    model.add(layers.Conv2D(32, (3, 3), activation='relu', padding='same', input_shape=input_shape))\n",
    "    model.add(layers.BatchNormalization())\n",
    "    model.add(layers.MaxPooling2D((2, 2)))\n",
    "\n",
    "    # [2] 두 번째 컨볼루션 블록\n",
    "    model.add(layers.Conv2D(64, (3, 3), activation='relu', padding='same'))\n",
    "    model.add(layers.BatchNormalization())\n",
    "    model.add(layers.MaxPooling2D((2, 2)))\n",
    "\n",
    "    # [3] 세 번째 컨볼루션 블록\n",
    "    model.add(layers.Conv2D(128, (3, 3), activation='relu', padding='same'))\n",
    "    model.add(layers.BatchNormalization())\n",
    "    model.add(layers.GlobalAveragePooling2D())  # 피처맵 전체 평균값\n",
    "\n",
    "    # [4] 완전 연결층\n",
    "    model.add(layers.Dense(128, activation='relu'))\n",
    "    model.add(layers.Dropout(0.3))\n",
    "    model.add(layers.Dense(num_classes, activation='softmax'))  # 감정 클래스 개수만큼 출력\n",
    "\n",
    "    # 모델 컴파일\n",
    "    model.compile(\n",
    "        optimizer='adam',\n",
    "        loss='sparse_categorical_crossentropy',\n",
    "        metrics=['accuracy']\n",
    "    )\n",
    "\n",
    "    return model\n"
   ]
  },
  {
   "cell_type": "markdown",
   "metadata": {},
   "source": [
    "# 학습"
   ]
  },
  {
   "cell_type": "code",
   "execution_count": null,
   "metadata": {},
   "outputs": [],
   "source": [
    "import os\n",
    "import pickle\n",
    "import tensorflow as tf\n",
    "\n",
    "# ===============================\n",
    "# [0] GPU 메모리 설정 (OOM 방지)\n",
    "# ===============================\n",
    "gpus = tf.config.list_physical_devices('GPU')\n",
    "if gpus:\n",
    "    try:\n",
    "        for gpu in gpus:\n",
    "            tf.config.experimental.set_memory_growth(gpu, True)\n",
    "        print(\"✅ GPU memory growth enabled\")\n",
    "    except RuntimeError as e:\n",
    "        print(\"❌ RuntimeError:\", e)\n",
    "\n",
    "# ===============================\n",
    "# [1] 데이터 제너레이터 생성\n",
    "# ===============================\n",
    "train_generator = MFCCDataGenerator(\n",
    "    batch_dir=\"/media/usou/PortableSSD/mldl_project/data/mfcc_batches\",\n",
    "    prefix=\"mfcc\",\n",
    "    batch_size=1  # 메모리 안전 위해 최소 배치\n",
    ")\n",
    "\n",
    "val_generator = MFCCDataGenerator(\n",
    "    batch_dir=\"/media/usou/PortableSSD/mldl_project/data/validation/mfcc_batches\",\n",
    "    prefix=\"mfcc\",\n",
    "    batch_size=1\n",
    ")\n",
    "\n",
    "# ===============================\n",
    "# [2] 레이블 인코더 로드 및 클래스 수\n",
    "# ===============================\n",
    "with open(\"/media/usou/PortableSSD/mldl_project/data/mfcc_batches/label_encoder.pkl\", \"rb\") as f:\n",
    "    label_encoder = pickle.load(f)\n",
    "\n",
    "num_classes = len(label_encoder.classes_)\n",
    "\n",
    "# ===============================\n",
    "# [3] 입력 형태 확인\n",
    "# ===============================\n",
    "sample_input = train_generator[0][0]  # shape: (batch, time, n_mfcc, 1)\n",
    "input_shape = sample_input.shape[1:]\n",
    "\n",
    "# ===============================\n",
    "# [4] 모델 생성\n",
    "# ===============================\n",
    "model = create_cnn_model(input_shape=input_shape, num_classes=num_classes)\n",
    "model.summary()\n",
    "\n",
    "# ===============================\n",
    "# [5] 콜백 설정 (모델 저장 + 조기 종료)\n",
    "# ===============================\n",
    "checkpoint_path = \"/media/usou/PortableSSD/mldl_project/models/best_model.h5\"\n",
    "os.makedirs(os.path.dirname(checkpoint_path), exist_ok=True)\n",
    "\n",
    "callbacks = [\n",
    "    tf.keras.callbacks.ModelCheckpoint(\n",
    "        filepath=checkpoint_path,\n",
    "        monitor='val_accuracy',\n",
    "        save_best_only=True,\n",
    "        verbose=1\n",
    "    ),\n",
    "    tf.keras.callbacks.EarlyStopping(\n",
    "        monitor='val_accuracy',\n",
    "        patience=5,\n",
    "        restore_best_weights=True\n",
    "    )\n",
    "]\n",
    "\n",
    "# ===============================\n",
    "# [6] 모델 학습\n",
    "# ===============================\n",
    "history = model.fit(\n",
    "    train_generator,\n",
    "    validation_data=val_generator,\n",
    "    epochs=30,\n",
    "    callbacks=callbacks\n",
    ")\n"
   ]
  },
  {
   "cell_type": "markdown",
   "metadata": {},
   "source": [
    "# 모델 변경  PyTorch 기반 간단한 CNN 모델 예시"
   ]
  },
  {
   "cell_type": "code",
   "execution_count": null,
   "metadata": {},
   "outputs": [],
   "source": [
    "import torch\n",
    "import torch.nn as nn\n",
    "import torch.nn.functional as F\n",
    "\n",
    "class AudioEmotionCNN(nn.Module):\n",
    "    def __init__(self, num_classes):\n",
    "        super(AudioEmotionCNN, self).__init__()\n",
    "        self.conv1 = nn.Conv2d(1, 32, kernel_size=3, padding=1)\n",
    "        self.pool1 = nn.MaxPool2d(2)\n",
    "        self.conv2 = nn.Conv2d(32, 64, kernel_size=3, padding=1)\n",
    "        self.pool2 = nn.MaxPool2d(2)\n",
    "        self.conv3 = nn.Conv2d(64, 128, kernel_size=3, padding=1)\n",
    "        self.global_pool = nn.AdaptiveAvgPool2d(1)\n",
    "        self.fc = nn.Linear(128, num_classes)\n",
    "\n",
    "    def forward(self, x):\n",
    "        x = self.pool1(F.relu(self.conv1(x)))\n",
    "        x = self.pool2(F.relu(self.conv2(x)))\n",
    "        x = F.relu(self.conv3(x))\n",
    "        x = self.global_pool(x)\n",
    "        x = x.view(x.size(0), -1)\n",
    "        x = self.fc(x)\n",
    "        return x\n"
   ]
  },
  {
   "cell_type": "markdown",
   "metadata": {},
   "source": [
    " # 데이터 로더 정의 (PyTorch용)"
   ]
  },
  {
   "cell_type": "code",
   "execution_count": null,
   "metadata": {},
   "outputs": [],
   "source": [
    "from torch.utils.data import Dataset\n",
    "import torch\n",
    "import numpy as np\n",
    "import os\n",
    "\n",
    "class MFCCDataset(Dataset):\n",
    "    def __init__(self, batch_dir, prefix):\n",
    "        self.batch_dir = batch_dir\n",
    "        self.prefix = prefix\n",
    "\n",
    "        self.mfcc_files = sorted([\n",
    "            f for f in os.listdir(batch_dir) if f.startswith(f\"{prefix}_batch_\")\n",
    "        ])\n",
    "\n",
    "    def __len__(self):\n",
    "        return len(self.mfcc_files)\n",
    "\n",
    "    def __getitem__(self, idx):\n",
    "        mfcc_path = os.path.join(self.batch_dir, f\"{self.prefix}_batch_{idx}.npy\")\n",
    "        label_path = os.path.join(self.batch_dir, \"encoded_labels\", f\"label_batch_{idx}.npy\")\n",
    "\n",
    "        # 여기서도 배치 데이터임\n",
    "        mfcc_batch = np.load(mfcc_path, allow_pickle=True)\n",
    "        label_batch = np.load(label_path)\n",
    "\n",
    "        # 리스트로 묶어서 반환 (collate_fn에서 처리)\n",
    "        return list(zip(mfcc_batch, label_batch))\n"
   ]
  },
  {
   "cell_type": "markdown",
   "metadata": {},
   "source": [
    "# collate_fn 추가 (패딩과 텐서 변환)"
   ]
  },
  {
   "cell_type": "code",
   "execution_count": null,
   "metadata": {},
   "outputs": [],
   "source": [
    "def collate_fn(batch):\n",
    "    batch = sum(batch, [])  # [(mfcc1, label1), ..., (mfccN, labelN)]로 평탄화\n",
    "    seq_lens = [x[0].shape[0] for x in batch]\n",
    "    max_len = max(seq_lens)\n",
    "    n_mfcc = batch[0][0].shape[1]\n",
    "\n",
    "    padded_mfccs = []\n",
    "    labels = []\n",
    "\n",
    "    for mfcc, label in batch:\n",
    "        padded = np.zeros((max_len, n_mfcc), dtype=np.float32)\n",
    "        padded[:mfcc.shape[0], :] = mfcc\n",
    "        padded_mfccs.append(padded)\n",
    "        labels.append(label)\n",
    "\n",
    "    X = torch.tensor(padded_mfccs).unsqueeze(1)  # (batch, 1, time, n_mfcc)\n",
    "    y = torch.tensor(labels, dtype=torch.long)\n",
    "    return X, y\n"
   ]
  },
  {
   "cell_type": "markdown",
   "metadata": {},
   "source": [
    "# DataLoader 생성"
   ]
  },
  {
   "cell_type": "code",
   "execution_count": null,
   "metadata": {},
   "outputs": [],
   "source": [
    "train_dataset = MFCCDataset(\"/media/usou/PortableSSD/mldl_project/data/mfcc_batches\", \"mfcc\")\n",
    "val_dataset = MFCCDataset(\"/media/usou/PortableSSD/mldl_project/data/validation/mfcc_batches\", \"mfcc\")\n",
    "\n",
    "train_loader = DataLoader(train_dataset, batch_size=4, shuffle=True, collate_fn=collate_fn)\n",
    "val_loader = DataLoader(val_dataset, batch_size=4, shuffle=False, collate_fn=collate_fn)\n"
   ]
  },
  {
   "cell_type": "markdown",
   "metadata": {},
   "source": [
    "# 모델 학습"
   ]
  },
  {
   "cell_type": "code",
   "execution_count": null,
   "metadata": {},
   "outputs": [],
   "source": [
    "import torch\n",
    "import torch.nn as nn\n",
    "import torch.optim as optim\n",
    "from tqdm import tqdm\n",
    "import os\n",
    "\n",
    "# ============================\n",
    "# 0. 기본 설정\n",
    "# ============================\n",
    "device = torch.device(\"cuda\" if torch.cuda.is_available() else \"cpu\")\n",
    "print(f\"✅ Using device: {device}\")\n",
    "\n",
    "num_classes = len(label_encoder.classes_)\n",
    "model = AudioEmotionCNN(num_classes=num_classes).to(device)\n",
    "\n",
    "criterion = nn.CrossEntropyLoss()\n",
    "optimizer = optim.Adam(model.parameters(), lr=0.001)\n",
    "num_epochs = 30\n",
    "\n",
    "# ============================\n",
    "# 1. 학습 루프\n",
    "# ============================\n",
    "best_val_acc = 0.0\n",
    "save_path = \"/media/usou/PortableSSD/mldl_project/models/best_model_pt.pth\"\n",
    "os.makedirs(os.path.dirname(save_path), exist_ok=True)\n",
    "\n",
    "for epoch in range(num_epochs):\n",
    "    model.train()\n",
    "    running_loss = 0.0\n",
    "    correct = 0\n",
    "    total = 0\n",
    "\n",
    "    for inputs, targets in tqdm(train_loader, desc=f\"Epoch {epoch+1}/{num_epochs} [Train]\"):\n",
    "        inputs, targets = inputs.to(device), targets.to(device)\n",
    "\n",
    "        optimizer.zero_grad()\n",
    "        outputs = model(inputs)\n",
    "\n",
    "        loss = criterion(outputs, targets)\n",
    "        loss.backward()\n",
    "        optimizer.step()\n",
    "\n",
    "        running_loss += loss.item()\n",
    "        _, predicted = torch.max(outputs, 1)\n",
    "        correct += (predicted == targets).sum().item()\n",
    "        total += targets.size(0)\n",
    "\n",
    "    train_acc = correct / total\n",
    "    print(f\"🟢 Epoch {epoch+1}: Train Loss: {running_loss:.4f} | Train Acc: {train_acc:.4f}\")\n",
    "\n",
    "    # ============================\n",
    "    # 2. 검증 루프\n",
    "    # ============================\n",
    "    model.eval()\n",
    "    val_correct = 0\n",
    "    val_total = 0\n",
    "    with torch.no_grad():\n",
    "        for inputs, targets in tqdm(val_loader, desc=f\"Epoch {epoch+1}/{num_epochs} [Validation]\"):\n",
    "            inputs, targets = inputs.to(device), targets.to(device)\n",
    "            outputs = model(inputs)\n",
    "            _, predicted = torch.max(outputs, 1)\n",
    "            val_correct += (predicted == targets).sum().item()\n",
    "            val_total += targets.size(0)\n",
    "\n",
    "    val_acc = val_correct / val_total\n",
    "    print(f\"🔵 Epoch {epoch+1}: Val Acc: {val_acc:.4f}\")\n",
    "\n",
    "    # ============================\n",
    "    # 3. 모델 저장\n",
    "    # ============================\n",
    "    if val_acc > best_val_acc:\n",
    "        best_val_acc = val_acc\n",
    "        torch.save(model.state_dict(), save_path)\n",
    "        print(f\"💾 Best model saved with Val Acc: {val_acc:.4f}\")\n",
    "\n",
    "print(\"✅ 학습 완료\")\n"
   ]
  },
  {
   "cell_type": "markdown",
   "metadata": {},
   "source": [
    "- 에러 :  배치 안의 샘플들이 시퀀스 길이(time step)가 서로 달라서 torch.stack() 실패.\n",
    "PyTorch DataLoader는 collate_fn이 내부에서 torch.stack()을 사용하기 때문에, 입력 데이터들 크기가 다르면 에러가 납니다.\n",
    "TensorFlow에서는 padding으로 해결됐던 부분\n",
    "\n",
    "- 해결 방안 : 배치 크기를 맞추는 collate_fn 함수 구현\n",
    "    - collate_fn을 사용하여 배치 내 데이터 크기를 맞추는 방법을 추가"
   ]
  },
  {
   "cell_type": "code",
   "execution_count": null,
   "metadata": {},
   "outputs": [],
   "source": [
    "import torch\n",
    "import torch.nn.functional as F\n",
    "from torch.utils.data import Dataset, DataLoader\n",
    "import numpy as np\n",
    "import os\n",
    "import pickle\n",
    "\n",
    "# ============================\n",
    "# 0. 기본 설정\n",
    "# ============================\n",
    "device = torch.device(\"cuda\" if torch.cuda.is_available() else \"cpu\")\n",
    "print(f\"✅ Using device: {device}\")\n",
    "\n",
    "# ============================\n",
    "# 1. 레이블 인코더 로드 및 클래스 수 확인\n",
    "# ============================\n",
    "with open(\"/media/usou/PortableSSD/mldl_project/data/mfcc_batches/label_encoder.pkl\", \"rb\") as f:\n",
    "    label_encoder = pickle.load(f)\n",
    "\n",
    "num_classes = len(label_encoder.classes_)\n",
    "\n",
    "# ============================\n",
    "# 2. 데이터셋 클래스 정의\n",
    "# ============================\n",
    "class MFCCDataset(Dataset):\n",
    "    def __init__(self, batch_dir, prefix):\n",
    "        self.batch_dir = batch_dir\n",
    "        self.prefix = prefix\n",
    "        self.mfcc_files = sorted([f for f in os.listdir(batch_dir) if f.startswith(f\"{prefix}_batch_\")])\n",
    "\n",
    "    def __len__(self):\n",
    "        return len(self.mfcc_files)\n",
    "\n",
    "    def __getitem__(self, idx):\n",
    "        mfcc_path = os.path.join(self.batch_dir, f\"{self.prefix}_batch_{idx}.npy\")\n",
    "        label_path = os.path.join(self.batch_dir, \"encoded_labels\", f\"label_batch_{idx}.npy\")\n",
    "\n",
    "        mfcc_data = np.load(mfcc_path, allow_pickle=True)\n",
    "        label_data = np.load(label_path)\n",
    "\n",
    "        # 리스트 형태일 경우 numpy 배열로 변환\n",
    "        if isinstance(mfcc_data, list):\n",
    "            mfcc_data = np.array(mfcc_data)\n",
    "\n",
    "        # 2D 배열인지 확인 (time, n_mfcc)\n",
    "        if mfcc_data.ndim != 2:\n",
    "            raise ValueError(f\"[{mfcc_path}] shape 오류: (time, n_mfcc) 형식이 아님 → 실제 shape: {mfcc_data.shape}\")\n",
    "\n",
    "        return mfcc_data, label_data\n",
    "\n",
    "\n",
    "# 패딩을 위한 collate_fn 정의\n",
    "def collate_fn(batch):\n",
    "    # 각 샘플은 (sequence_len, n_mfcc)\n",
    "    seq_lens = [sample[0].shape[0] for sample in batch]\n",
    "    max_len = max(seq_lens)\n",
    "\n",
    "    padded_batch = []\n",
    "    labels = []\n",
    "\n",
    "    for mfcc_data, label_data in batch:\n",
    "        # mfcc_data shape: (time, n_mfcc)\n",
    "        time_len = mfcc_data.shape[0]\n",
    "        n_mfcc = mfcc_data.shape[1]\n",
    "\n",
    "        # (time, n_mfcc) → (max_len, n_mfcc)\n",
    "        padded = np.zeros((max_len, n_mfcc), dtype=np.float32)\n",
    "        padded[:time_len, :] = mfcc_data\n",
    "\n",
    "        padded_batch.append(padded)\n",
    "        labels.append(label_data)\n",
    "\n",
    "    # (batch, 1, time, n_mfcc)\n",
    "    X = torch.tensor(padded_batch).unsqueeze(1)\n",
    "    y = torch.tensor(labels, dtype=torch.long)\n",
    "    return X, y\n",
    "\n",
    "\n",
    "# 데이터셋 로딩\n",
    "train_dataset = MFCCDataset(batch_dir=\"/media/usou/PortableSSD/mldl_project/data/mfcc_batches\", prefix=\"mfcc\")\n",
    "val_dataset = MFCCDataset(batch_dir=\"/media/usou/PortableSSD/mldl_project/data/validation/mfcc_batches\", prefix=\"mfcc\")\n",
    "\n",
    "train_loader = DataLoader(train_dataset, batch_size=4, shuffle=True, collate_fn=collate_fn)\n",
    "val_loader = DataLoader(val_dataset, batch_size=4, shuffle=False, collate_fn=collate_fn)\n",
    "\n",
    "# ============================\n",
    "# 3. 모델 정의\n",
    "# ============================\n",
    "class AudioEmotionCNN(nn.Module):\n",
    "    def __init__(self, num_classes):\n",
    "        super(AudioEmotionCNN, self).__init__()\n",
    "        self.conv1 = nn.Conv2d(1, 32, kernel_size=3, padding=1)\n",
    "        self.pool1 = nn.MaxPool2d(2)\n",
    "        self.conv2 = nn.Conv2d(32, 64, kernel_size=3, padding=1)\n",
    "        self.pool2 = nn.MaxPool2d(2)\n",
    "        self.conv3 = nn.Conv2d(64, 128, kernel_size=3, padding=1)\n",
    "        self.global_pool = nn.AdaptiveAvgPool2d(1)\n",
    "        self.fc = nn.Linear(128, num_classes)\n",
    "\n",
    "    def forward(self, x):\n",
    "        x = self.pool1(F.relu(self.conv1(x)))\n",
    "        x = self.pool2(F.relu(self.conv2(x)))\n",
    "        x = F.relu(self.conv3(x))\n",
    "        x = self.global_pool(x)\n",
    "        x = x.view(x.size(0), -1)\n",
    "        x = self.fc(x)\n",
    "        return x\n",
    "\n",
    "# 모델과 손실 함수, 옵티마이저 설정\n",
    "model = AudioEmotionCNN(num_classes=num_classes).to(device)\n",
    "criterion = nn.CrossEntropyLoss()\n",
    "optimizer = optim.Adam(model.parameters(), lr=0.001)\n",
    "num_epochs = 30\n",
    "\n",
    "# ============================\n",
    "# 4. 학습 루프\n",
    "# ============================\n",
    "best_val_acc = 0.0\n",
    "save_path = \"/media/usou/PortableSSD/mldl_project/models/best_model_pt.pth\"\n",
    "os.makedirs(os.path.dirname(save_path), exist_ok=True)\n",
    "\n",
    "for epoch in range(num_epochs):\n",
    "    model.train()\n",
    "    running_loss = 0.0\n",
    "    correct = 0\n",
    "    total = 0\n",
    "\n",
    "    for inputs, targets in tqdm(train_loader, desc=f\"Epoch {epoch+1}/{num_epochs} [Train]\"):\n",
    "        inputs, targets = inputs.to(device), targets.to(device)\n",
    "\n",
    "        optimizer.zero_grad()\n",
    "        outputs = model(inputs)\n",
    "\n",
    "        loss = criterion(outputs, targets)\n",
    "        loss.backward()\n",
    "        optimizer.step()\n",
    "\n",
    "        running_loss += loss.item()\n",
    "        _, predicted = torch.max(outputs, 1)\n",
    "        correct += (predicted == targets).sum().item()\n",
    "        total += targets.size(0)\n",
    "\n",
    "    train_acc = correct / total\n",
    "    print(f\"🟢 Epoch {epoch+1}: Train Loss: {running_loss:.4f} | Train Acc: {train_acc:.4f}\")\n",
    "\n",
    "    # ============================\n",
    "    # 5. 검증 루프\n",
    "    # ============================\n",
    "    model.eval()\n",
    "    val_correct = 0\n",
    "    val_total = 0\n",
    "    with torch.no_grad():\n",
    "        for inputs, targets in tqdm(val_loader, desc=f\"Epoch {epoch+1}/{num_epochs} [Validation]\"):\n",
    "            inputs, targets = inputs.to(device), targets.to(device)\n",
    "            outputs = model(inputs)\n",
    "            _, predicted = torch.max(outputs, 1)\n",
    "            val_correct += (predicted == targets).sum().item()\n",
    "            val_total += targets.size(0)\n",
    "\n",
    "    val_acc = val_correct / val_total\n",
    "    print(f\"🔵 Epoch {epoch+1}: Val Acc: {val_acc:.4f}\")\n",
    "\n",
    "    # ============================\n",
    "    # 6. 모델 저장\n",
    "    # ============================\n",
    "    if val_acc > best_val_acc:\n",
    "        best_val_acc = val_acc\n",
    "        torch.save(model.state_dict(), save_path)\n",
    "        print(f\"💾 Best model saved with Val Acc: {val_acc:.4f}\")\n",
    "\n",
    "print(\"✅ 학습 완료\")\n"
   ]
  },
  {
   "cell_type": "markdown",
   "metadata": {},
   "source": [
    "- 에러\n",
    "allow_pickle=True 옵션으로 불러온 데이터를 np.load() 하면, 원래는 List[np.ndarray] 혹은 (time, n_mfcc) 구조여야 합니다.\n",
    "\n",
    "만약 이전에 이 mfcc_batch_1.npy를 배치 단위 리스트 형태로 저장했었다면:\n",
    "\n",
    "지금처럼 __getitem__에서 개별 .npy를 꺼낼 경우 배치 전체가 한 개의 1D 배열로 저장되어 있을 수 있습니다."
   ]
  },
  {
   "cell_type": "markdown",
   "metadata": {},
   "source": [
    "- 해결 방법: 각 샘플을 개별 .npy 파일로 저장"
   ]
  },
  {
   "cell_type": "code",
   "execution_count": null,
   "metadata": {},
   "outputs": [],
   "source": [
    "import numpy as np\n",
    "import os\n",
    "\n",
    "# 원본 다중샘플 npy 경로\n",
    "input_path = \"/media/usou/PortableSSD/mldl_project/data/mfcc_batches/mfcc_batch_1.npy\"\n",
    "\n",
    "# 저장할 경로\n",
    "output_dir = \"/media/usou/PortableSSD/mldl_project/data/mfcc_batches/split_samples\"\n",
    "os.makedirs(output_dir, exist_ok=True)\n",
    "\n",
    "# 데이터 로드\n",
    "data = np.load(input_path, allow_pickle=True)\n",
    "\n",
    "# 각 샘플 저장\n",
    "for i, sample in enumerate(data):\n",
    "    save_path = os.path.join(output_dir, f\"sample_{i:04d}.npy\")\n",
    "    np.save(save_path, sample)\n",
    "\n",
    "print(f\"✅ 총 {len(data)}개 샘플 저장 완료: {output_dir}\")\n"
   ]
  },
  {
   "cell_type": "markdown",
   "metadata": {},
   "source": [
    "# 레이블 분할 저장 코드"
   ]
  },
  {
   "cell_type": "code",
   "execution_count": null,
   "metadata": {},
   "outputs": [],
   "source": [
    "import numpy as np\n",
    "import os\n",
    "\n",
    "# 레이블 경로\n",
    "label_path = \"/media/usou/PortableSSD/mldl_project/data/mfcc_batches/encoded_labels/label_batch_1.npy\"\n",
    "labels = np.load(label_path)\n",
    "\n",
    "# 저장할 디렉토리\n",
    "label_output_dir = \"/media/usou/PortableSSD/mldl_project/data/mfcc_batches/split_labels\"\n",
    "os.makedirs(label_output_dir, exist_ok=True)\n",
    "\n",
    "# 분할 저장\n",
    "for i, label in enumerate(labels):\n",
    "    save_path = os.path.join(label_output_dir, f\"label_{i:04d}.npy\")\n",
    "    np.save(save_path, label)\n",
    "\n",
    "print(f\"✅ 총 {len(labels)}개 레이블 저장 완료: {label_output_dir}\")\n"
   ]
  },
  {
   "cell_type": "markdown",
   "metadata": {},
   "source": [
    "# MFCCSampleDataset 정의 (샘플 단위)"
   ]
  },
  {
   "cell_type": "code",
   "execution_count": null,
   "metadata": {},
   "outputs": [],
   "source": [
    "from torch.utils.data import Dataset\n",
    "import numpy as np\n",
    "import os\n",
    "import torch\n",
    "\n",
    "class MFCCSampleDataset(Dataset):\n",
    "    def __init__(self, sample_dir, label_dir):\n",
    "        self.sample_paths = sorted([\n",
    "            os.path.join(sample_dir, f) for f in os.listdir(sample_dir) if f.endswith(\".npy\")\n",
    "        ])\n",
    "        self.label_paths = sorted([\n",
    "            os.path.join(label_dir, f) for f in os.listdir(label_dir) if f.endswith(\".npy\")\n",
    "        ])\n",
    "\n",
    "    def __len__(self):\n",
    "        return len(self.sample_paths)\n",
    "\n",
    "    def __getitem__(self, idx):\n",
    "        mfcc = np.load(self.sample_paths[idx])          # shape: (time, n_mfcc)\n",
    "        label = np.load(self.label_paths[idx])          # shape: ()\n",
    "\n",
    "        # 텐서로 변환 (채널 추가)\n",
    "        mfcc_tensor = torch.tensor(mfcc, dtype=torch.float32).unsqueeze(0)  # (1, time, n_mfcc)\n",
    "        label_tensor = torch.tensor(label, dtype=torch.long)\n",
    "\n",
    "        return mfcc_tensor, label_tensor\n"
   ]
  },
  {
   "cell_type": "markdown",
   "metadata": {},
   "source": [
    "# collate_fn 정의"
   ]
  },
  {
   "cell_type": "code",
   "execution_count": null,
   "metadata": {},
   "outputs": [],
   "source": [
    "def collate_fn(batch):\n",
    "    seq_lens = [x[0].shape[0] for x in batch]\n",
    "    max_len = max(seq_lens)\n",
    "\n",
    "    # n_mfcc 추정 시 더 안전하게\n",
    "    n_mfcc = None\n",
    "    for mfcc_data, _ in batch:\n",
    "        if isinstance(mfcc_data, np.ndarray) and mfcc_data.ndim == 2:\n",
    "            n_mfcc = mfcc_data.shape[1]\n",
    "            break\n",
    "\n",
    "    if n_mfcc is None:\n",
    "        raise ValueError(\"모든 샘플에서 유효한 2D MFCC 데이터를 찾을 수 없습니다.\")\n",
    "\n",
    "    padded_batch = []\n",
    "    labels = []\n",
    "\n",
    "    for mfcc_data, label_data in batch:\n",
    "        time_len = mfcc_data.shape[0]\n",
    "        padded = np.zeros((max_len, n_mfcc), dtype=np.float32)\n",
    "        padded[:time_len, :] = mfcc_data\n",
    "        padded_batch.append(padded)\n",
    "        labels.append(label_data)\n",
    "\n",
    "    X = torch.tensor(padded_batch).unsqueeze(1)  # (batch, 1, time, n_mfcc)\n",
    "    y = torch.tensor(labels, dtype=torch.long)\n",
    "    return X, y\n"
   ]
  },
  {
   "cell_type": "markdown",
   "metadata": {},
   "source": [
    "# DataLoader 생성"
   ]
  },
  {
   "cell_type": "code",
   "execution_count": null,
   "metadata": {},
   "outputs": [],
   "source": [
    "from torch.utils.data import DataLoader\n",
    "\n",
    "train_loader = DataLoader(\n",
    "    train_dataset,\n",
    "    batch_size=4,\n",
    "    shuffle=True,\n",
    "    collate_fn=collate_fn\n",
    ")\n",
    "\n",
    "val_loader = DataLoader(\n",
    "    val_dataset,\n",
    "    batch_size=4,\n",
    "    shuffle=False,\n",
    "    collate_fn=collate_fn\n",
    ")\n"
   ]
  },
  {
   "cell_type": "markdown",
   "metadata": {},
   "source": [
    "#  기본 설정 및 모델 불러오기"
   ]
  },
  {
   "cell_type": "code",
   "execution_count": null,
   "metadata": {},
   "outputs": [],
   "source": [
    "import torch\n",
    "import torch.nn as nn\n",
    "import torch.nn.functional as F\n",
    "import torch.optim as optim\n",
    "from tqdm import tqdm\n",
    "\n",
    "# 디바이스 설정\n",
    "device = torch.device(\"cuda\" if torch.cuda.is_available() else \"cpu\")\n",
    "print(f\"✅ Using device: {device}\")\n",
    "\n",
    "# 모델 정의 (이전에 정의한 AudioEmotionCNN 사용)\n",
    "model = AudioEmotionCNN(num_classes=8).to(device)  # 클래스 수에 맞게 수정\n",
    "criterion = nn.CrossEntropyLoss()\n",
    "optimizer = optim.Adam(model.parameters(), lr=0.001)\n",
    "num_epochs = 30\n"
   ]
  },
  {
   "cell_type": "markdown",
   "metadata": {},
   "source": [
    "# 학습 루프"
   ]
  },
  {
   "cell_type": "code",
   "execution_count": null,
   "metadata": {},
   "outputs": [],
   "source": [
    "best_val_acc = 0.0\n",
    "save_path = \"/media/usou/PortableSSD/mldl_project/models/best_model_pt.pth\"\n",
    "os.makedirs(os.path.dirname(save_path), exist_ok=True)\n",
    "\n",
    "for epoch in range(num_epochs):\n",
    "    model.train()\n",
    "    running_loss = 0.0\n",
    "    correct = 0\n",
    "    total = 0\n",
    "\n",
    "    for inputs, targets in tqdm(train_loader, desc=f\"Epoch {epoch+1}/{num_epochs} [Train]\"):\n",
    "        inputs, targets = inputs.to(device), targets.to(device)\n",
    "\n",
    "        optimizer.zero_grad()\n",
    "        outputs = model(inputs)\n",
    "\n",
    "        loss = criterion(outputs, targets)\n",
    "        loss.backward()\n",
    "        optimizer.step()\n",
    "\n",
    "        running_loss += loss.item()\n",
    "        _, predicted = torch.max(outputs, 1)\n",
    "        correct += (predicted == targets).sum().item()\n",
    "        total += targets.size(0)\n",
    "\n",
    "    train_acc = correct / total\n",
    "    print(f\"🟢 Epoch {epoch+1}: Train Loss: {running_loss:.4f} | Train Acc: {train_acc:.4f}\")\n"
   ]
  },
  {
   "cell_type": "markdown",
   "metadata": {},
   "source": [
    "# Tensorflow 로 변경"
   ]
  },
  {
   "cell_type": "markdown",
   "metadata": {},
   "source": [
    "# 1. 샘플 단위 .npy 파일을 위한 DataGenerator 정의"
   ]
  },
  {
   "cell_type": "code",
   "execution_count": null,
   "metadata": {},
   "outputs": [],
   "source": [
    "import os\n",
    "import numpy as np\n",
    "import tensorflow as tf\n",
    "\n",
    "class SampleMFCCDataGenerator(tf.keras.utils.Sequence):\n",
    "    def __init__(self, mfcc_dir, label_dir, batch_size=32, shuffle=True):\n",
    "        self.mfcc_paths = sorted([\n",
    "            os.path.join(mfcc_dir, f) for f in os.listdir(mfcc_dir) if f.endswith(\".npy\")\n",
    "        ])\n",
    "        self.label_paths = sorted([\n",
    "            os.path.join(label_dir, f) for f in os.listdir(label_dir) if f.endswith(\".npy\")\n",
    "        ])\n",
    "        self.batch_size = batch_size\n",
    "        self.shuffle = shuffle\n",
    "        self.indices = np.arange(len(self.mfcc_paths))\n",
    "        self.on_epoch_end()\n",
    "\n",
    "    def __len__(self):\n",
    "        return int(np.ceil(len(self.mfcc_paths) / self.batch_size))\n",
    "\n",
    "    def __getitem__(self, index):\n",
    "        batch_indices = self.indices[index * self.batch_size:(index + 1) * self.batch_size]\n",
    "        X, y = [], []\n",
    "\n",
    "        for i in batch_indices:\n",
    "            mfcc = np.load(self.mfcc_paths[i])  # (time, n_mfcc)\n",
    "            label = np.load(self.label_paths[i])  # 정수 인코딩 레이블\n",
    "\n",
    "            X.append(mfcc)\n",
    "            y.append(label)\n",
    "\n",
    "        # Zero-padding\n",
    "        max_len = max(x.shape[0] for x in X)\n",
    "        X_pad = tf.keras.preprocessing.sequence.pad_sequences(\n",
    "            X, maxlen=max_len, padding='post', dtype='float32'\n",
    "        )\n",
    "        X_pad = np.expand_dims(X_pad, -1)  # (batch, time, n_mfcc, 1)\n",
    "        y = np.array(y)\n",
    "\n",
    "        return X_pad, y\n",
    "\n",
    "    def on_epoch_end(self):\n",
    "        if self.shuffle:\n",
    "            np.random.shuffle(self.indices)\n"
   ]
  },
  {
   "cell_type": "markdown",
   "metadata": {},
   "source": [
    "# CNN 모델 정의"
   ]
  },
  {
   "cell_type": "code",
   "execution_count": null,
   "metadata": {},
   "outputs": [],
   "source": [
    "from tensorflow.keras import layers, models\n",
    "\n",
    "def create_cnn_model(input_shape, num_classes):\n",
    "    model = models.Sequential()\n",
    "    model.add(layers.Conv2D(32, (3, 3), activation='relu', padding='same', input_shape=input_shape))\n",
    "    model.add(layers.BatchNormalization())\n",
    "    model.add(layers.MaxPooling2D((2, 2)))\n",
    "\n",
    "    model.add(layers.Conv2D(64, (3, 3), activation='relu', padding='same'))\n",
    "    model.add(layers.BatchNormalization())\n",
    "    model.add(layers.MaxPooling2D((2, 2)))\n",
    "\n",
    "    model.add(layers.Conv2D(128, (3, 3), activation='relu', padding='same'))\n",
    "    model.add(layers.BatchNormalization())\n",
    "    model.add(layers.GlobalAveragePooling2D())\n",
    "\n",
    "    model.add(layers.Dense(128, activation='relu'))\n",
    "    model.add(layers.Dropout(0.3))\n",
    "    model.add(layers.Dense(num_classes, activation='softmax'))\n",
    "\n",
    "    model.compile(optimizer='adam', loss='sparse_categorical_crossentropy', metrics=['accuracy'])\n",
    "    return model\n"
   ]
  },
  {
   "cell_type": "markdown",
   "metadata": {},
   "source": [
    "# 2.1  validation 데이터도 split "
   ]
  },
  {
   "cell_type": "code",
   "execution_count": null,
   "metadata": {},
   "outputs": [],
   "source": [
    "import numpy as np\n",
    "import os\n",
    "\n",
    "val_input_path = \"/media/usou/PortableSSD/mldl_project/data/validation/mfcc_batches/mfcc_batch_0.npy\"\n",
    "val_label_path = \"/media/usou/PortableSSD/mldl_project/data/validation/mfcc_batches/label_batch_0.npy\"\n",
    "\n",
    "# 저장할 폴더\n",
    "val_sample_dir = \"/media/usou/PortableSSD/mldl_project/data/validation/mfcc_batches/split_samples\"\n",
    "val_label_dir = \"/media/usou/PortableSSD/mldl_project/data/validation/mfcc_batches/split_labels\"\n",
    "os.makedirs(val_sample_dir, exist_ok=True)\n",
    "os.makedirs(val_label_dir, exist_ok=True)\n",
    "\n",
    "# 데이터 로드\n",
    "mfcc_data = np.load(val_input_path, allow_pickle=True)\n",
    "label_data = np.load(val_label_path)\n",
    "\n",
    "# 저장\n",
    "for i, (sample, label) in enumerate(zip(mfcc_data, label_data)):\n",
    "    np.save(os.path.join(val_sample_dir, f\"sample_{i:04d}.npy\"), sample)\n",
    "    np.save(os.path.join(val_label_dir, f\"label_{i:04d}.npy\"), label)\n",
    "\n",
    "print(f\"✅ validation용 {len(mfcc_data)}개 샘플 및 레이블 저장 완료\")\n"
   ]
  },
  {
   "cell_type": "markdown",
   "metadata": {},
   "source": [
    "# 3. 콜백 설정 및 모델 학습"
   ]
  },
  {
   "cell_type": "code",
   "execution_count": null,
   "metadata": {},
   "outputs": [],
   "source": [
    "import os\n",
    "from tensorflow.keras.callbacks import ModelCheckpoint, EarlyStopping\n",
    "\n",
    "# ===============================\n",
    "# [1] 학습 및 검증용 DataGenerator 정의\n",
    "# ===============================\n",
    "train_generator = SampleMFCCDataGenerator(\n",
    "    mfcc_dir=\"/media/usou/PortableSSD/mldl_project/data/mfcc_batches/split_samples\",\n",
    "    label_dir=\"/media/usou/PortableSSD/mldl_project/data/mfcc_batches/split_labels\",\n",
    "    batch_size=8\n",
    ")\n",
    "\n",
    "val_generator = SampleMFCCDataGenerator(\n",
    "    mfcc_dir=\"/media/usou/PortableSSD/mldl_project/data/validation/mfcc_batches/split_samples\",\n",
    "    label_dir=\"/media/usou/PortableSSD/mldl_project/data/validation/mfcc_batches/split_labels\",\n",
    "    batch_size=8\n",
    ")\n",
    "\n",
    "# ===============================\n",
    "# [2] 입력 형태 확인 및 모델 생성\n",
    "# ===============================\n",
    "sample_input, _ = train_generator[0]\n",
    "input_shape = sample_input.shape[1:]  # (time, n_mfcc, 1)\n",
    "\n",
    "# 클래스 수 확인\n",
    "import glob\n",
    "label_paths = sorted(glob.glob(\"/media/usou/PortableSSD/mldl_project/data/mfcc_batches/split_labels/*.npy\"))\n",
    "all_labels = [int(np.load(p)) for p in label_paths]\n",
    "num_classes = len(set(all_labels))\n",
    "\n",
    "model = create_cnn_model(input_shape=input_shape, num_classes=num_classes)\n",
    "model.summary()\n",
    "\n",
    "# ===============================\n",
    "# [3] 콜백 설정\n",
    "# ===============================\n",
    "checkpoint_path = \"/media/usou/PortableSSD/mldl_project/models/best_model_tf.h5\"\n",
    "os.makedirs(os.path.dirname(checkpoint_path), exist_ok=True)\n",
    "\n",
    "callbacks = [\n",
    "    ModelCheckpoint(\n",
    "        filepath=checkpoint_path,\n",
    "        monitor='val_accuracy',\n",
    "        save_best_only=True,\n",
    "        verbose=1\n",
    "    ),\n",
    "    EarlyStopping(\n",
    "        monitor='val_accuracy',\n",
    "        patience=5,\n",
    "        restore_best_weights=True\n",
    "    )\n",
    "]\n",
    "\n",
    "# GPU 초기화를 위한 예열용 더미 실행 (CPU에서 실행)\n",
    "with tf.device(\"/CPU:0\"):\n",
    "    model(tf.random.normal((1,) + input_shape))\n",
    "\n",
    "# ===============================\n",
    "# [4] 모델 학습 실행\n",
    "# ===============================\n",
    "history = model.fit(\n",
    "    train_generator,\n",
    "    validation_data=val_generator,\n",
    "    epochs=30,\n",
    "    callbacks=callbacks\n",
    ")\n",
    "\n",
    "print(\"✅ 모델 학습 완료 및 저장 완료\")\n"
   ]
  },
  {
   "cell_type": "markdown",
   "metadata": {},
   "source": [
    "# gpu 사용 확인"
   ]
  },
  {
   "cell_type": "code",
   "execution_count": null,
   "metadata": {},
   "outputs": [],
   "source": [
    "import tensorflow as tf\n",
    "print(\"Num GPUs Available: \", len(tf.config.list_physical_devices('GPU')))\n"
   ]
  },
  {
   "cell_type": "markdown",
   "metadata": {},
   "source": [
    "# cpu로 학습 시도"
   ]
  },
  {
   "cell_type": "code",
   "execution_count": null,
   "metadata": {},
   "outputs": [],
   "source": [
    "# 0. GPU 완전 비활성화 (가장 먼저 실행)\n",
    "import os\n",
    "os.environ[\"CUDA_VISIBLE_DEVICES\"] = \"-1\"\n",
    "\n",
    "# 1. 필수 라이브러리 임포트\n",
    "import numpy as np\n",
    "import tensorflow as tf\n",
    "from tensorflow.keras.callbacks import ModelCheckpoint, EarlyStopping\n",
    "from tensorflow.keras import layers, models\n",
    "import glob\n",
    "\n",
    "# 2. 사용자 정의 DataGenerator\n",
    "class SampleMFCCDataGenerator(tf.keras.utils.Sequence):\n",
    "    def __init__(self, mfcc_dir, label_dir, batch_size=32, shuffle=True):\n",
    "        self.mfcc_paths = sorted([\n",
    "            os.path.join(mfcc_dir, f) for f in os.listdir(mfcc_dir) if f.endswith(\".npy\")\n",
    "        ])\n",
    "        self.label_paths = sorted([\n",
    "            os.path.join(label_dir, f) for f in os.listdir(label_dir) if f.endswith(\".npy\")\n",
    "        ])\n",
    "        self.batch_size = batch_size\n",
    "        self.shuffle = shuffle\n",
    "        self.indexes = np.arange(len(self.mfcc_paths))\n",
    "        self.on_epoch_end()\n",
    "\n",
    "    def __len__(self):\n",
    "        return int(np.ceil(len(self.mfcc_paths) / self.batch_size))\n",
    "\n",
    "    def __getitem__(self, index):\n",
    "        batch_indexes = self.indexes[index * self.batch_size:(index + 1) * self.batch_size]\n",
    "        batch_mfcc = [np.load(self.mfcc_paths[i]) for i in batch_indexes]\n",
    "        batch_label = [np.load(self.label_paths[i]).item() for i in batch_indexes]  # .item() 추가\n",
    "\n",
    "        batch_mfcc = [np.expand_dims(x, axis=-1) for x in batch_mfcc]  # (time, n_mfcc, 1)\n",
    "\n",
    "        max_len = max(x.shape[0] for x in batch_mfcc)\n",
    "        padded_mfcc = np.array([\n",
    "            np.pad(x, ((0, max_len - x.shape[0]), (0, 0), (0, 0)), mode='constant')\n",
    "            for x in batch_mfcc\n",
    "        ])\n",
    "\n",
    "        labels = np.array(batch_label, dtype=np.int32)\n",
    "        return padded_mfcc, labels\n",
    "\n",
    "    def on_epoch_end(self):\n",
    "        if self.shuffle:\n",
    "            np.random.shuffle(self.indexes)\n",
    "\n",
    "# 3. CNN 모델 생성 함수\n",
    "def create_cnn_model(input_shape, num_classes):\n",
    "    model = models.Sequential()\n",
    "    model.add(layers.Conv2D(32, (3, 3), activation='relu', padding='same', input_shape=input_shape))\n",
    "    model.add(layers.BatchNormalization())\n",
    "    model.add(layers.MaxPooling2D((2, 2)))\n",
    "\n",
    "    model.add(layers.Conv2D(64, (3, 3), activation='relu', padding='same'))\n",
    "    model.add(layers.BatchNormalization())\n",
    "    model.add(layers.MaxPooling2D((2, 2)))\n",
    "\n",
    "    model.add(layers.Conv2D(128, (3, 3), activation='relu', padding='same'))\n",
    "    model.add(layers.BatchNormalization())\n",
    "    model.add(layers.GlobalAveragePooling2D())\n",
    "\n",
    "    model.add(layers.Dense(128, activation='relu'))\n",
    "    model.add(layers.Dropout(0.3))\n",
    "    model.add(layers.Dense(num_classes, activation='softmax'))\n",
    "\n",
    "    model.compile(optimizer='adam', loss='sparse_categorical_crossentropy', metrics=['accuracy'])\n",
    "    return model\n",
    "\n",
    "# 4. DataGenerator 설정\n",
    "train_generator = SampleMFCCDataGenerator(\n",
    "    mfcc_dir=\"/media/usou/PortableSSD/mldl_project/data/mfcc_batches/split_samples\",\n",
    "    label_dir=\"/media/usou/PortableSSD/mldl_project/data/mfcc_batches/split_labels\",\n",
    "    batch_size=8\n",
    ")\n",
    "\n",
    "val_generator = SampleMFCCDataGenerator(\n",
    "    mfcc_dir=\"/media/usou/PortableSSD/mldl_project/data/validation/mfcc_batches/split_samples\",\n",
    "    label_dir=\"/media/usou/PortableSSD/mldl_project/data/validation/mfcc_batches/split_labels\",\n",
    "    batch_size=8\n",
    ")\n",
    "\n",
    "# 5. 입력 형상 및 클래스 수 확인\n",
    "sample_input, _ = train_generator[0]\n",
    "input_shape = sample_input.shape[1:]\n",
    "\n",
    "label_paths = sorted(glob.glob(\"/media/usou/PortableSSD/mldl_project/data/mfcc_batches/split_labels/*.npy\"))\n",
    "all_labels = [np.load(p).item() for p in label_paths]  # .item()으로 스칼라 추출\n",
    "num_classes = len(set(all_labels))\n",
    "print(f\"클래스 수: {num_classes}\")\n",
    "\n",
    "# 6. 모델 생성 및 콜백 설정\n",
    "model = create_cnn_model(input_shape=input_shape, num_classes=num_classes)\n",
    "\n",
    "checkpoint_path = \"/media/usou/PortableSSD/mldl_project/models/best_model_tf.h5\"\n",
    "os.makedirs(os.path.dirname(checkpoint_path), exist_ok=True)\n",
    "\n",
    "callbacks = [\n",
    "    ModelCheckpoint(filepath=checkpoint_path, monitor='val_accuracy', save_best_only=True, verbose=1),\n",
    "    EarlyStopping(monitor='val_accuracy', patience=5, restore_best_weights=True)\n",
    "]\n",
    "\n",
    "# 7. 모델 학습\n",
    "history = model.fit(\n",
    "    train_generator,\n",
    "    validation_data=val_generator,\n",
    "    epochs=30,\n",
    "    callbacks=callbacks\n",
    ")\n",
    "\n",
    "print(\"모델 학습 완료 및 저장 완료\")\n"
   ]
  },
  {
   "cell_type": "markdown",
   "metadata": {},
   "source": [
    "# 머신 러닝 시도\n",
    "## 작업 순서\n",
    "1. 데이터 로딩 및 통합\n",
    "    - metadata_cleaned (train)\n",
    "    - metadata_cleaned_val (validation)\n",
    "\n",
    "2. 특징(X)과 레이블(y) 분리\n",
    "    - MFCC는 X\n",
    "    - 감정 레이블은 y\n",
    "\n",
    "3. 레이블 인코딩\n",
    "    - 문자열 레이블(Happy, Sad 등)을 숫자로 변환\n",
    "\n",
    "4. 머신러닝 모델 선택 및 학습\n",
    "    - 예: RandomForestClassifier, SVC, GradientBoosting, LogisticRegression\n",
    "\n",
    "5. 검증 및 평가\n",
    "    - accuracy_score, classification_report, confusion_matrix"
   ]
  },
  {
   "cell_type": "markdown",
   "metadata": {},
   "source": [
    "# 데이터 로딩 및 통합"
   ]
  },
  {
   "cell_type": "code",
   "execution_count": null,
   "metadata": {},
   "outputs": [],
   "source": [
    "import numpy as np\n",
    "import os\n",
    "from glob import glob\n",
    "\n",
    "# 경로\n",
    "train_dir = \"/media/usou/PortableSSD/mldl_project/data/mfcc_batches/metadata_cleaned\"\n",
    "val_dir = \"/media/usou/PortableSSD/mldl_project/data/validation/mfcc_batches/metadata_cleaned_val\"\n",
    "\n",
    "# 파일 불러오기\n",
    "train_mfcc_paths = sorted(glob(os.path.join(train_dir, \"*.npy\")))\n",
    "val_mfcc_paths = sorted(glob(os.path.join(val_dir, \"*.npy\")))\n",
    "\n",
    "# 데이터 로딩\n",
    "train_data = [np.load(f, allow_pickle=True).item() for f in train_mfcc_paths]\n",
    "val_data = [np.load(f, allow_pickle=True).item() for f in val_mfcc_paths]\n",
    "\n",
    "# 분리\n",
    "X_train = [d[\"mfcc\"] for d in train_data]\n",
    "y_train = [d[\"emotion\"] for d in train_data]\n",
    "\n",
    "X_val = [d[\"mfcc\"] for d in val_data]\n",
    "y_val = [d[\"emotion\"] for d in val_data]\n"
   ]
  },
  {
   "cell_type": "markdown",
   "metadata": {},
   "source": [
    "# 특징(X)과 레이블(y) 분리"
   ]
  },
  {
   "cell_type": "code",
   "execution_count": null,
   "metadata": {},
   "outputs": [],
   "source": [
    "import pandas as pd\n",
    "\n",
    "# 학습용 데이터 로딩\n",
    "train_path = \"/media/usou/PortableSSD/mldl_project/data/metadata_cleaned.csv\"\n",
    "metadata_cleaned = pd.read_csv(train_path)\n",
    "\n",
    "# 검증용 데이터 로딩\n",
    "val_path = \"/media/usou/PortableSSD/mldl_project/data/validation/metadata_cleaned_val.csv\"\n",
    "metadata_cleaned_val = pd.read_csv(val_path)\n",
    "\n",
    "# X: MFCC 특징, y: 감정 레이블\n",
    "X_train = metadata_cleaned[\"mfcc\"]\n",
    "y_train = metadata_cleaned[\"emotion\"]\n",
    "\n",
    "X_val = metadata_cleaned_val[\"mfcc\"]\n",
    "y_val = metadata_cleaned_val[\"emotion\"]\n"
   ]
  },
  {
   "cell_type": "code",
   "execution_count": null,
   "metadata": {},
   "outputs": [],
   "source": [
    "print(metadata_cleaned.columns)\n"
   ]
  },
  {
   "cell_type": "code",
   "execution_count": null,
   "metadata": {},
   "outputs": [],
   "source": [
    "base_mfcc_dir = \"/media/usou/PortableSSD/mldl_project/data/mfcc_batches/split_samples\"\n",
    "\n",
    "def load_mfcc_from_path(path_series):\n",
    "    mfcc_list = []\n",
    "    for rel_path in path_series:\n",
    "        fname = os.path.splitext(os.path.basename(rel_path))[0]\n",
    "        mfcc_path = os.path.join(base_mfcc_dir, f\"{fname}.npy\")\n",
    "        if not os.path.exists(mfcc_path):\n",
    "            print(f\"⚠️ 누락된 MFCC 파일: {mfcc_path}\")\n",
    "            continue\n",
    "        mfcc = np.load(mfcc_path)\n",
    "        mfcc_list.append(mfcc.flatten())  # 머신러닝용 1D 벡터로\n",
    "    return np.array(mfcc_list)\n"
   ]
  },
  {
   "cell_type": "code",
   "execution_count": null,
   "metadata": {},
   "outputs": [],
   "source": [
    "# X (특징) 로딩\n",
    "X_train = load_mfcc_from_path(metadata_cleaned[\"wav_path\"])\n",
    "X_val = load_mfcc_from_path(metadata_cleaned_val[\"wav_path\"])\n",
    "\n",
    "# y (레이블) 추출\n",
    "y_train = metadata_cleaned[\"emotion\"].values\n",
    "y_val = metadata_cleaned_val[\"emotion\"].values\n"
   ]
  },
  {
   "cell_type": "markdown",
   "metadata": {},
   "source": [
    "# MFCC 추출 이후 부터 딥러닝 다시 "
   ]
  },
  {
   "cell_type": "markdown",
   "metadata": {},
   "source": [
    "## 데이터 로딩 및 전처리 "
   ]
  },
  {
   "cell_type": "code",
   "execution_count": null,
   "metadata": {},
   "outputs": [],
   "source": [
    "import numpy as np\n",
    "import os\n",
    "from glob import glob\n",
    "\n",
    "# 경로 설정\n",
    "mfcc_dir = \"/media/usou/PortableSSD/mldl_project/data/mfcc_batches\"\n",
    "label_dir = \"/media/usou/PortableSSD/mldl_project/data/mfcc_batches/encoded_labels\"\n",
    "\n",
    "# 파일 경로 정렬\n",
    "mfcc_paths = sorted(glob(os.path.join(mfcc_dir, \"mfcc_batch_*.npy\")))\n",
    "label_paths = sorted(glob(os.path.join(label_dir, \"label_batch_*.npy\")))\n",
    "\n",
    "# 전체 로딩\n",
    "X_raw = [np.load(p, allow_pickle=True) for p in mfcc_paths]\n",
    "y_raw = [np.load(p) for p in label_paths]\n",
    "\n",
    "# 리스트로 되어 있는 MFCC들을 한 리스트로 합치기\n",
    "X_all = [sample for batch in X_raw for sample in batch]\n",
    "y_all = np.concatenate(y_raw)\n",
    "\n",
    "print(f\"총 MFCC 샘플 수: {len(X_all)}\")\n",
    "print(f\"총 레이블 수: {len(y_all)}\")\n"
   ]
  },
  {
   "cell_type": "markdown",
   "metadata": {},
   "source": [
    "# MFCC 샘플 길이 정규화(패딩)"
   ]
  },
  {
   "cell_type": "code",
   "execution_count": null,
   "metadata": {},
   "outputs": [],
   "source": [
    "from tensorflow.keras.preprocessing.sequence import pad_sequences\n",
    "\n",
    "# MFCC의 각 샘플은 (time, 13) 형태 → 시퀀스 길이 맞추기\n",
    "max_len = max([x.shape[0] for x in X_all])\n",
    "print(\"가장 긴 MFCC 시퀀스 길이:\", max_len)\n",
    "\n",
    "# (샘플 수, time, n_mfcc)\n",
    "X_padded = pad_sequences(X_all, maxlen=max_len, padding='post', dtype='float32')\n",
    "print(\"패딩된 X shape:\", X_padded.shape)\n",
    "\n",
    "# 마지막 차원을 명시적으로 추가: (샘플 수, time, n_mfcc, 1)\n",
    "X_padded = np.expand_dims(X_padded, -1)\n"
   ]
  },
  {
   "cell_type": "code",
   "execution_count": null,
   "metadata": {},
   "outputs": [],
   "source": [
    "# 검증용 MFCC 데이터 로딩\n",
    "val_mfcc_dir = \"/media/usou/PortableSSD/mldl_project/data/validation/mfcc_batches\"\n",
    "val_label_dir = \"/media/usou/PortableSSD/mldl_project/data/validation/mfcc_batches/encoded_labels\"\n",
    "\n",
    "val_mfcc_paths = sorted(glob(os.path.join(val_mfcc_dir, \"mfcc_batch_*.npy\")))\n",
    "val_label_paths = sorted(glob(os.path.join(val_label_dir, \"label_batch_*.npy\")))\n",
    "\n",
    "X_val_raw = [np.load(p, allow_pickle=True) for p in val_mfcc_paths]\n",
    "y_val_raw = [np.load(p) for p in val_label_paths]\n",
    "\n",
    "X_val_all = [sample for batch in X_val_raw for sample in batch]\n",
    "y_val = np.concatenate(y_val_raw)\n",
    "\n",
    "print(f\"검증용 MFCC 샘플 수: {len(X_val_all)}\")\n",
    "print(f\"검증용 레이블 수: {len(y_val)}\")\n"
   ]
  },
  {
   "cell_type": "markdown",
   "metadata": {},
   "source": [
    "# CNN 기반 모델 정의"
   ]
  },
  {
   "cell_type": "code",
   "execution_count": null,
   "metadata": {},
   "outputs": [],
   "source": [
    "from tensorflow.keras import models, layers\n",
    "\n",
    "def create_cnn_model(input_shape, num_classes):\n",
    "    model = models.Sequential()\n",
    "\n",
    "    model.add(layers.Conv2D(32, (3, 3), activation='relu', padding='same', input_shape=input_shape))\n",
    "    model.add(layers.BatchNormalization())\n",
    "    model.add(layers.MaxPooling2D((2, 2)))\n",
    "\n",
    "    model.add(layers.Conv2D(64, (3, 3), activation='relu', padding='same'))\n",
    "    model.add(layers.BatchNormalization())\n",
    "    model.add(layers.MaxPooling2D((2, 2)))\n",
    "\n",
    "    model.add(layers.Conv2D(128, (3, 3), activation='relu', padding='same'))\n",
    "    model.add(layers.BatchNormalization())\n",
    "    model.add(layers.GlobalAveragePooling2D())\n",
    "\n",
    "    model.add(layers.Dense(128, activation='relu'))\n",
    "    model.add(layers.Dropout(0.3))\n",
    "    model.add(layers.Dense(num_classes, activation='softmax'))\n",
    "\n",
    "    model.compile(optimizer='adam', loss='sparse_categorical_crossentropy', metrics=['accuracy'])\n",
    "    return model\n"
   ]
  },
  {
   "cell_type": "code",
   "execution_count": null,
   "metadata": {},
   "outputs": [],
   "source": [
    "input_shape = X_padded.shape[1:]  # (157, 13, 1)\n",
    "num_classes = len(np.unique(y_all))\n",
    "\n",
    "model = create_cnn_model(input_shape=input_shape, num_classes=num_classes)\n",
    "model.summary()\n"
   ]
  },
  {
   "cell_type": "markdown",
   "metadata": {},
   "source": [
    "# 콜백 설정 & 모델 학습 준비"
   ]
  },
  {
   "cell_type": "code",
   "execution_count": null,
   "metadata": {},
   "outputs": [],
   "source": [
    "from tensorflow.keras.callbacks import ModelCheckpoint, EarlyStopping\n",
    "\n",
    "# 저장 경로\n",
    "checkpoint_path = \"/media/usou/PortableSSD/mldl_project/models/best_model_cnn.h5\"\n",
    "os.makedirs(os.path.dirname(checkpoint_path), exist_ok=True)\n",
    "\n",
    "# 콜백 설정\n",
    "callbacks = [\n",
    "    ModelCheckpoint(filepath=checkpoint_path, monitor='val_accuracy', save_best_only=True, verbose=1),\n",
    "    EarlyStopping(monitor='val_accuracy', patience=5, restore_best_weights=True)\n",
    "]\n"
   ]
  },
  {
   "cell_type": "markdown",
   "metadata": {},
   "source": [
    "# 학습"
   ]
  },
  {
   "cell_type": "code",
   "execution_count": null,
   "metadata": {},
   "outputs": [],
   "source": [
    "history = model.fit(\n",
    "    X_train, y_train,\n",
    "    validation_data=(X_val, y_val),\n",
    "    batch_size=64,\n",
    "    epochs=30,\n",
    "    callbacks=callbacks\n",
    ")\n"
   ]
  },
  {
   "cell_type": "markdown",
   "metadata": {},
   "source": [
    "# 커널 재시작 후"
   ]
  },
  {
   "cell_type": "code",
   "execution_count": null,
   "metadata": {},
   "outputs": [],
   "source": [
    "# 1. MFCC 및 레이블 로딩\n",
    "import numpy as np\n",
    "import os\n",
    "from glob import glob\n",
    "from tensorflow.keras.preprocessing.sequence import pad_sequences\n",
    "from sklearn.model_selection import train_test_split\n",
    "\n",
    "# 경로\n",
    "mfcc_dir = \"/media/usou/PortableSSD/mldl_project/data/mfcc_batches\"\n",
    "label_dir = \"/media/usou/PortableSSD/mldl_project/data/mfcc_batches/encoded_labels\"\n",
    "\n",
    "# 데이터 로딩\n",
    "mfcc_paths = sorted(glob(os.path.join(mfcc_dir, \"mfcc_batch_*.npy\")))\n",
    "label_paths = sorted(glob(os.path.join(label_dir, \"label_batch_*.npy\")))\n",
    "X_raw = [np.load(p, allow_pickle=True) for p in mfcc_paths]\n",
    "y_raw = [np.load(p) for p in label_paths]\n",
    "\n",
    "X_all = [sample for batch in X_raw for sample in batch]\n",
    "y_all = np.concatenate(y_raw)\n",
    "\n",
    "# 시퀀스 패딩\n",
    "max_len = 157  # 고정\n",
    "X_padded = pad_sequences(X_all, maxlen=max_len, padding='post', dtype='float32')\n",
    "X_padded = np.expand_dims(X_padded, -1)\n",
    "\n",
    "# 훈련/검증 분리\n",
    "X_train, X_val, y_train, y_val = train_test_split(\n",
    "    X_padded, y_all, test_size=0.12, random_state=42, stratify=y_all\n",
    ")\n",
    "\n",
    "print(\"✅ 데이터 준비 완료\")\n"
   ]
  },
  {
   "cell_type": "markdown",
   "metadata": {},
   "source": [
    "- 이 상황은 매우 자주 발생하는 Jupyter Notebook의 커널 메모리 한계 문제\n",
    "\n",
    "- 위 방법으로 해결 예저\n",
    "1. generator 정의\n",
    "2. gc.collect()\n",
    "3. model.fit(generator, validation_data=(X_val, y_val))\n",
    "\n"
   ]
  },
  {
   "cell_type": "markdown",
   "metadata": {},
   "source": [
    "# 배치 제너레이터 정의(훈련용)"
   ]
  },
  {
   "cell_type": "code",
   "execution_count": null,
   "metadata": {},
   "outputs": [],
   "source": [
    "import numpy as np\n",
    "import tensorflow as tf  # ✅ 반드시 필요\n"
   ]
  },
  {
   "cell_type": "code",
   "execution_count": null,
   "metadata": {},
   "outputs": [],
   "source": [
    "class MFCCBatchGenerator(tf.keras.utils.Sequence):\n",
    "    def __init__(self, mfcc_paths, label_paths, batch_size=16, max_len=157, shuffle=True):\n",
    "        self.mfcc_paths = mfcc_paths\n",
    "        self.label_paths = label_paths\n",
    "        self.batch_size = batch_size\n",
    "        self.max_len = max_len\n",
    "        self.shuffle = shuffle\n",
    "        self.indices = np.arange(len(self.mfcc_paths))\n",
    "        self.on_epoch_end()\n",
    "\n",
    "    def __len__(self):\n",
    "        return int(np.ceil(len(self.mfcc_paths) / self.batch_size))\n",
    "\n",
    "    def __getitem__(self, index):\n",
    "        batch_idx = self.indices[index * self.batch_size:(index + 1) * self.batch_size]\n",
    "        X_batch = []\n",
    "        y_batch = []\n",
    "\n",
    "        for i in batch_idx:\n",
    "            mfcc = np.load(self.mfcc_paths[i], allow_pickle=True)\n",
    "            label = np.load(self.label_paths[i])\n",
    "\n",
    "            # 유효한 MFCC만 처리\n",
    "            if isinstance(mfcc, np.ndarray) and len(mfcc.shape) == 2 and mfcc.shape[1] == 13:\n",
    "                padded = tf.keras.preprocessing.sequence.pad_sequences(\n",
    "                    [mfcc], maxlen=self.max_len, padding='post', dtype='float32'\n",
    "                )[0]\n",
    "                X_batch.append(padded)\n",
    "                y_batch.append(label)\n",
    "\n",
    "        X_batch = np.expand_dims(np.array(X_batch), -1)  # (batch, time, n_mfcc, 1)\n",
    "        y_batch = np.array(y_batch)\n",
    "\n",
    "        return X_batch, y_batch\n",
    "\n",
    "    def on_epoch_end(self):\n",
    "        if self.shuffle:\n",
    "            np.random.shuffle(self.indices)\n"
   ]
  },
  {
   "cell_type": "markdown",
   "metadata": {},
   "source": [
    "# 제너레이터 생성 및 모델 학습"
   ]
  },
  {
   "cell_type": "code",
   "execution_count": null,
   "metadata": {},
   "outputs": [],
   "source": [
    "import gc\n",
    "import tensorflow as tf\n",
    "\n",
    "# 경로 설정\n",
    "mfcc_dir = \"/media/usou/PortableSSD/mldl_project/data/mfcc_batches\"\n",
    "label_dir = \"/media/usou/PortableSSD/mldl_project/data/mfcc_batches/encoded_labels\"\n",
    "\n",
    "from glob import glob\n",
    "import os\n",
    "\n",
    "mfcc_paths = sorted(glob(os.path.join(mfcc_dir, \"mfcc_batch_*.npy\")))\n",
    "label_paths = sorted(glob(os.path.join(label_dir, \"label_batch_*.npy\")))\n",
    "\n",
    "# 학습용 제너레이터\n",
    "train_generator = MFCCBatchGenerator(mfcc_paths, label_paths, batch_size=64, max_len=157, shuffle=True)\n",
    "\n",
    "# 가비지 컬렉션 실행 (메모리 확보)\n",
    "gc.collect()\n",
    "\n",
    "from tensorflow.keras import models, layers\n",
    "\n",
    "def create_cnn_model(input_shape, num_classes):\n",
    "    model = models.Sequential()\n",
    "\n",
    "    model.add(layers.Conv2D(32, (3, 3), activation='relu', input_shape=input_shape, padding='same'))\n",
    "    model.add(layers.BatchNormalization())\n",
    "    model.add(layers.MaxPooling2D((2, 2)))\n",
    "\n",
    "    model.add(layers.Conv2D(64, (3, 3), activation='relu', padding='same'))\n",
    "    model.add(layers.BatchNormalization())\n",
    "    model.add(layers.MaxPooling2D((2, 2)))\n",
    "\n",
    "    model.add(layers.Conv2D(128, (3, 3), activation='relu', padding='same'))\n",
    "    model.add(layers.BatchNormalization())\n",
    "    model.add(layers.GlobalAveragePooling2D())\n",
    "\n",
    "    model.add(layers.Dense(128, activation='relu'))\n",
    "    model.add(layers.Dropout(0.3))\n",
    "    model.add(layers.Dense(num_classes, activation='softmax'))\n",
    "\n",
    "    model.compile(optimizer='adam',\n",
    "                  loss='sparse_categorical_crossentropy',\n",
    "                  metrics=['accuracy'])\n",
    "\n",
    "    return model\n",
    "\n",
    "\n",
    "# 모델 정의\n",
    "input_shape = (157, 13, 1)\n",
    "num_classes = 8\n",
    "model = create_cnn_model(input_shape=input_shape, num_classes=num_classes)\n",
    "\n",
    "\n",
    "# 콜백 정의\n",
    "from tensorflow.keras.callbacks import ModelCheckpoint, EarlyStopping\n",
    "\n",
    "checkpoint_path = \"/media/usou/PortableSSD/mldl_project/models/best_model_generator.h5\"\n",
    "callbacks = [\n",
    "    ModelCheckpoint(filepath=checkpoint_path, monitor='val_accuracy', save_best_only=True, verbose=1),\n",
    "    EarlyStopping(monitor='val_accuracy', patience=5, restore_best_weights=True)\n",
    "]\n",
    "\n",
    "# 검증용 데이터는 메모리 적재 방식으로 유지\n",
    "# 이 부분은 이전에 분리한 X_val, y_val을 사용해야 합니다\n",
    "# 혹시 없다면 validation set 따로 만들 수 있도록 알려주세요"
   ]
  },
  {
   "cell_type": "code",
   "execution_count": null,
   "metadata": {},
   "outputs": [],
   "source": [
    "# 전체 레이블 로딩\n",
    "all_labels = [np.load(p) for p in label_paths]\n",
    "y_all = np.concatenate(all_labels)\n",
    "\n",
    "# 전체 MFCC 로딩 (메모리 작은 검증셋만 로딩)\n",
    "val_size = 112157  # 예: 전체의 약 13%\n",
    "X_val_paths = mfcc_paths[-val_size:]\n",
    "y_val_paths = label_paths[-val_size:]\n",
    "\n",
    "# 검증 데이터 로딩\n",
    "X_val_list = []\n",
    "for path in X_val_paths:\n",
    "    mfcc = np.load(path, allow_pickle=True)\n",
    "    padded = tf.keras.preprocessing.sequence.pad_sequences(\n",
    "        [mfcc], maxlen=157, padding='post', dtype='float32'\n",
    "    )[0]\n",
    "    X_val_list.append(padded)\n",
    "\n",
    "X_val = np.expand_dims(np.array(X_val_list), -1)\n",
    "y_val = np.concatenate([np.load(p) for p in y_val_paths])\n"
   ]
  },
  {
   "cell_type": "code",
   "execution_count": null,
   "metadata": {},
   "outputs": [],
   "source": [
    "X_val_list = []\n",
    "valid_y_list = []\n",
    "\n",
    "for mfcc_path, label_path in zip(X_val_paths, y_val_paths):\n",
    "    mfcc = np.load(mfcc_path, allow_pickle=True)\n",
    "    \n",
    "    # (time, 13) 형식인지 확인\n",
    "    if isinstance(mfcc, np.ndarray) and len(mfcc.shape) == 2 and mfcc.shape[1] == 13:\n",
    "        padded = tf.keras.preprocessing.sequence.pad_sequences(\n",
    "            [mfcc], maxlen=157, padding='post', dtype='float32'\n",
    "        )[0]\n",
    "        X_val_list.append(padded)\n",
    "\n",
    "        label = np.load(label_path)\n",
    "        valid_y_list.append(label)\n",
    "    else:\n",
    "        print(\"❌ 잘못된 MFCC:\", mfcc_path)\n",
    "\n",
    "# 최종 배열로 변환\n",
    "X_val = np.expand_dims(np.array(X_val_list), -1)\n",
    "y_val = np.array(valid_y_list)\n",
    "\n",
    "print(\"검증용 X shape:\", X_val.shape)\n",
    "print(\"검증용 y shape:\", y_val.shape)\n"
   ]
  },
  {
   "cell_type": "code",
   "execution_count": null,
   "metadata": {},
   "outputs": [],
   "source": [
    "import numpy as np\n",
    "import tensorflow as tf\n",
    "from glob import glob\n",
    "import os\n",
    "\n",
    "# 경로\n",
    "mfcc_dir = \"/media/usou/PortableSSD/mldl_project/data/mfcc_batches\"\n",
    "label_dir = \"/media/usou/PortableSSD/mldl_project/data/mfcc_batches/encoded_labels\"\n",
    "\n",
    "# 배치 파일 리스트\n",
    "mfcc_batch_paths = sorted(glob(os.path.join(mfcc_dir, \"mfcc_batch_*.npy\")))\n",
    "label_batch_paths = sorted(glob(os.path.join(label_dir, \"label_batch_*.npy\")))\n",
    "\n",
    "# 검증용 비율 기준으로 뒤에서 N개 배치만 선택\n",
    "val_batch_count = 10  # 예: 마지막 10개 배치만 사용\n",
    "X_val_list = []\n",
    "y_val_list = []\n",
    "\n",
    "for mfcc_batch_path, label_batch_path in zip(mfcc_batch_paths[-val_batch_count:], label_batch_paths[-val_batch_count:]):\n",
    "    mfcc_batch = np.load(mfcc_batch_path, allow_pickle=True)\n",
    "    label_batch = np.load(label_batch_path)\n",
    "\n",
    "    for mfcc, label in zip(mfcc_batch, label_batch):\n",
    "        if isinstance(mfcc, np.ndarray) and len(mfcc.shape) == 2 and mfcc.shape[1] == 13:\n",
    "            padded = tf.keras.preprocessing.sequence.pad_sequences(\n",
    "                [mfcc], maxlen=157, padding='post', dtype='float32'\n",
    "            )[0]\n",
    "            X_val_list.append(padded)\n",
    "            y_val_list.append(label)\n",
    "\n",
    "# 배열로 변환\n",
    "X_val = np.expand_dims(np.array(X_val_list), -1)\n",
    "y_val = np.array(y_val_list)\n",
    "\n",
    "print(\"✅ 검증용 X shape:\", X_val.shape)\n",
    "print(\"✅ 검증용 y shape:\", y_val.shape)\n"
   ]
  },
  {
   "cell_type": "code",
   "execution_count": null,
   "metadata": {},
   "outputs": [],
   "source": [
    "history = model.fit(\n",
    "    train_generator,\n",
    "    validation_data=(X_val, y_val),  # 이 부분이 메모리에 있어야 해요!\n",
    "    epochs=30,\n",
    "    callbacks=callbacks\n",
    ")\n"
   ]
  },
  {
   "cell_type": "markdown",
   "metadata": {},
   "source": [
    "# 다시 정리 커널 재시작 후"
   ]
  },
  {
   "cell_type": "markdown",
   "metadata": {},
   "source": [
    "# 1 "
   ]
  },
  {
   "cell_type": "code",
   "execution_count": null,
   "metadata": {},
   "outputs": [],
   "source": [
    "import numpy as np\n",
    "import tensorflow as tf\n",
    "import os, gc\n",
    "from glob import glob\n",
    "from tensorflow.keras.preprocessing.sequence import pad_sequences\n",
    "from tensorflow.keras.callbacks import ModelCheckpoint, EarlyStopping\n"
   ]
  },
  {
   "cell_type": "markdown",
   "metadata": {},
   "source": [
    "# 2"
   ]
  },
  {
   "cell_type": "code",
   "execution_count": null,
   "metadata": {},
   "outputs": [],
   "source": [
    "mfcc_dir = \"/media/usou/PortableSSD/mldl_project/data/mfcc_batches\"\n",
    "label_dir = \"/media/usou/PortableSSD/mldl_project/data/mfcc_batches/encoded_labels\"\n",
    "\n",
    "mfcc_paths = sorted(glob(os.path.join(mfcc_dir, \"mfcc_batch_*.npy\")))\n",
    "label_paths = sorted(glob(os.path.join(label_dir, \"label_batch_*.npy\")))\n"
   ]
  },
  {
   "cell_type": "markdown",
   "metadata": {},
   "source": [
    "# 3"
   ]
  },
  {
   "cell_type": "code",
   "execution_count": null,
   "metadata": {},
   "outputs": [],
   "source": [
    "from tensorflow.keras.preprocessing.sequence import pad_sequences\n",
    "import numpy as np\n",
    "\n",
    "# 검증용 샘플 수 고정\n",
    "val_sample_size = 112157\n",
    "\n",
    "X_val_list = []\n",
    "y_val_list = []\n",
    "loaded = 0\n",
    "\n",
    "for mfcc_path, label_path in zip(reversed(mfcc_paths), reversed(label_paths)):\n",
    "    mfcc_batch = np.load(mfcc_path, allow_pickle=True)\n",
    "    label_batch = np.load(label_path)\n",
    "\n",
    "    for mfcc, label in zip(mfcc_batch, label_batch):\n",
    "        if isinstance(mfcc, np.ndarray) and len(mfcc.shape) == 2 and mfcc.shape[1] == 13:\n",
    "            padded = pad_sequences([mfcc], maxlen=157, padding='post', dtype='float32')[0]\n",
    "            X_val_list.append(padded)\n",
    "            y_val_list.append(label)\n",
    "            loaded += 1\n",
    "            if loaded >= val_sample_size:\n",
    "                break\n",
    "    if loaded >= val_sample_size:\n",
    "        break\n",
    "\n",
    "# numpy 배열로 변환 (꼭 확인!)\n",
    "X_val = np.array(X_val_list).reshape(-1, 157, 13, 1)\n",
    "y_val = np.array(y_val_list)\n",
    "\n",
    "print(\"✅ 검증 데이터 재구성 완료\")\n",
    "print(\"검증용 X shape:\", X_val.shape)\n",
    "print(\"검증용 y shape:\", y_val.shape)\n"
   ]
  },
  {
   "cell_type": "markdown",
   "metadata": {},
   "source": [
    "# 4"
   ]
  },
  {
   "cell_type": "code",
   "execution_count": null,
   "metadata": {},
   "outputs": [],
   "source": [
    "class MFCCBatchGenerator(tf.keras.utils.Sequence):\n",
    "    def __init__(self, mfcc_paths, label_paths, batch_size=16, max_len=157, shuffle=True):\n",
    "        self.mfcc_paths = mfcc_paths\n",
    "        self.label_paths = label_paths\n",
    "        self.max_len = max_len\n",
    "        self.batch_size = batch_size\n",
    "        self.shuffle = shuffle\n",
    "\n",
    "        # 전체 샘플을 flatten\n",
    "        self.X_all = []\n",
    "        self.y_all = []\n",
    "\n",
    "        for mfcc_path, label_path in zip(mfcc_paths, label_paths):\n",
    "            mfcc_batch = np.load(mfcc_path, allow_pickle=True)\n",
    "            label_batch = np.load(label_path)\n",
    "\n",
    "            for mfcc, label in zip(mfcc_batch, label_batch):\n",
    "                if isinstance(mfcc, np.ndarray) and mfcc.ndim == 2 and mfcc.shape[1] == 13:\n",
    "                    self.X_all.append(mfcc)\n",
    "                    self.y_all.append(label)\n",
    "\n",
    "        self.indices = np.arange(len(self.X_all))\n",
    "        self.on_epoch_end()\n",
    "\n",
    "    def __len__(self):\n",
    "        return int(np.ceil(len(self.X_all) / self.batch_size))\n",
    "\n",
    "    def __getitem__(self, index):\n",
    "        batch_indices = self.indices[index * self.batch_size:(index + 1) * self.batch_size]\n",
    "        X_batch = []\n",
    "        y_batch = []\n",
    "\n",
    "        for i in batch_indices:\n",
    "            mfcc = self.X_all[i]\n",
    "            padded = tf.keras.preprocessing.sequence.pad_sequences(\n",
    "                [mfcc], maxlen=self.max_len, padding='post', dtype='float32'\n",
    "            )[0]\n",
    "            X_batch.append(padded)\n",
    "            y_batch.append(self.y_all[i])\n",
    "\n",
    "        X_batch = np.array(X_batch).reshape(-1, 157, 13, 1)\n",
    "        y_batch = np.array(y_batch)\n",
    "        return X_batch, y_batch\n",
    "\n",
    "    def on_epoch_end(self):\n",
    "        if self.shuffle:\n",
    "            np.random.shuffle(self.indices)\n"
   ]
  },
  {
   "cell_type": "markdown",
   "metadata": {},
   "source": [
    "# 5"
   ]
  },
  {
   "cell_type": "code",
   "execution_count": null,
   "metadata": {},
   "outputs": [],
   "source": [
    "from tensorflow.keras import models, layers\n",
    "\n",
    "def create_cnn_model(input_shape, num_classes):\n",
    "    model = models.Sequential()\n",
    "\n",
    "    model.add(layers.Conv2D(32, (3, 3), activation='relu', input_shape=input_shape, padding='same'))\n",
    "    model.add(layers.BatchNormalization())\n",
    "    model.add(layers.MaxPooling2D((2, 2)))\n",
    "\n",
    "    model.add(layers.Conv2D(64, (3, 3), activation='relu', padding='same'))\n",
    "    model.add(layers.BatchNormalization())\n",
    "    model.add(layers.MaxPooling2D((2, 2)))\n",
    "\n",
    "    model.add(layers.Conv2D(128, (3, 3), activation='relu', padding='same'))\n",
    "    model.add(layers.BatchNormalization())\n",
    "    model.add(layers.GlobalAveragePooling2D())\n",
    "\n",
    "    model.add(layers.Dense(128, activation='relu'))\n",
    "    model.add(layers.Dropout(0.3))\n",
    "    model.add(layers.Dense(num_classes, activation='softmax'))\n",
    "\n",
    "    model.compile(optimizer='adam',\n",
    "                  loss='sparse_categorical_crossentropy',\n",
    "                  metrics=['accuracy'])\n",
    "\n",
    "    return model\n"
   ]
  },
  {
   "cell_type": "markdown",
   "metadata": {},
   "source": [
    "# 6"
   ]
  },
  {
   "cell_type": "code",
   "execution_count": null,
   "metadata": {},
   "outputs": [],
   "source": [
    "input_shape = (157, 13, 1)\n",
    "num_classes = 8\n",
    "model = create_cnn_model(input_shape, num_classes)\n",
    "\n",
    "checkpoint_path = \"/media/usou/PortableSSD/mldl_project/models/best_model_generator.h5\"\n",
    "callbacks = [\n",
    "    ModelCheckpoint(filepath=checkpoint_path, monitor='val_accuracy', save_best_only=True, verbose=1),\n",
    "    EarlyStopping(monitor='val_accuracy', patience=5, restore_best_weights=True)\n",
    "]\n"
   ]
  },
  {
   "cell_type": "markdown",
   "metadata": {},
   "source": [
    "# 7"
   ]
  },
  {
   "cell_type": "code",
   "execution_count": null,
   "metadata": {},
   "outputs": [],
   "source": [
    "history = model.fit(\n",
    "    train_generator,\n",
    "    validation_data=(X_val, y_val),\n",
    "    epochs=30,\n",
    "    callbacks=callbacks\n",
    ")\n"
   ]
  },
  {
   "cell_type": "code",
   "execution_count": null,
   "metadata": {},
   "outputs": [],
   "source": [
    "# 1. 기본 라이브러리\n",
    "import numpy as np\n",
    "import tensorflow as tf\n",
    "import os, gc\n",
    "from glob import glob\n",
    "from tensorflow.keras.preprocessing.sequence import pad_sequences\n",
    "from tensorflow.keras.callbacks import ModelCheckpoint, EarlyStopping\n",
    "import os\n",
    "os.environ['TF_FORCE_GPU_ALLOW_GROWTH'] = 'true'\n",
    "\n",
    "\n",
    "# 2. 경로 설정\n",
    "mfcc_dir = \"/media/usou/PortableSSD/mldl_project/data/mfcc_batches\"\n",
    "label_dir = \"/media/usou/PortableSSD/mldl_project/data/mfcc_batches/encoded_labels\"\n",
    "\n",
    "mfcc_paths = sorted(glob(os.path.join(mfcc_dir, \"mfcc_batch_*.npy\")))\n",
    "label_paths = sorted(glob(os.path.join(label_dir, \"label_batch_*.npy\")))\n",
    "\n",
    "# 3. 검증 데이터 구성\n",
    "val_sample_size = 112157\n",
    "X_val_list, y_val_list = [], []\n",
    "loaded = 0\n",
    "\n",
    "for mfcc_path, label_path in zip(reversed(mfcc_paths), reversed(label_paths)):\n",
    "    mfcc_batch = np.load(mfcc_path, allow_pickle=True)\n",
    "    label_batch = np.load(label_path)\n",
    "    \n",
    "    for mfcc, label in zip(mfcc_batch, label_batch):\n",
    "        if isinstance(mfcc, np.ndarray) and mfcc.ndim == 2 and mfcc.shape[1] == 13:\n",
    "            padded = pad_sequences([mfcc], maxlen=157, padding='post', dtype='float32')[0]\n",
    "            X_val_list.append(padded)\n",
    "            y_val_list.append(label)\n",
    "            loaded += 1\n",
    "            if loaded >= val_sample_size:\n",
    "                break\n",
    "    if loaded >= val_sample_size:\n",
    "        break\n",
    "\n",
    "X_val = np.array(X_val_list).reshape(-1, 157, 13, 1)\n",
    "y_val = np.array(y_val_list)\n",
    "print(\"✅ 검증 데이터 준비 완료\")\n",
    "print(\"검증용 X shape:\", X_val.shape)\n",
    "print(\"검증용 y shape:\", y_val.shape)\n",
    "\n",
    "# 4. 학습용 제너레이터 정의 및 생성\n",
    "class MFCCBatchGenerator(tf.keras.utils.Sequence):\n",
    "    def __init__(self, mfcc_paths, label_paths, batch_size=16, max_len=157, shuffle=True):\n",
    "        self.max_len = max_len\n",
    "        self.batch_size = batch_size\n",
    "        self.shuffle = shuffle\n",
    "\n",
    "        self.X_all = []\n",
    "        self.y_all = []\n",
    "\n",
    "        for mfcc_path, label_path in zip(mfcc_paths, label_paths):\n",
    "            mfcc_batch = np.load(mfcc_path, allow_pickle=True)\n",
    "            label_batch = np.load(label_path)\n",
    "            for mfcc, label in zip(mfcc_batch, label_batch):\n",
    "                if isinstance(mfcc, np.ndarray) and mfcc.ndim == 2 and mfcc.shape[1] == 13:\n",
    "                    self.X_all.append(mfcc)\n",
    "                    self.y_all.append(label)\n",
    "\n",
    "        self.indices = np.arange(len(self.X_all))\n",
    "        self.on_epoch_end()\n",
    "\n",
    "    def __len__(self):\n",
    "        return int(np.ceil(len(self.X_all) / self.batch_size))\n",
    "\n",
    "    def __getitem__(self, index):\n",
    "        batch_indices = self.indices[index * self.batch_size:(index + 1) * self.batch_size]\n",
    "        X_batch = []\n",
    "        y_batch = []\n",
    "        for i in batch_indices:\n",
    "            mfcc = self.X_all[i]\n",
    "            padded = tf.keras.preprocessing.sequence.pad_sequences(\n",
    "                [mfcc], maxlen=self.max_len, padding='post', dtype='float32'\n",
    "            )[0]\n",
    "            X_batch.append(padded)\n",
    "            y_batch.append(self.y_all[i])\n",
    "\n",
    "        X_batch = np.array(X_batch).reshape(-1, 157, 13, 1)\n",
    "        y_batch = np.array(y_batch)\n",
    "        return X_batch, y_batch\n",
    "\n",
    "    def on_epoch_end(self):\n",
    "        if self.shuffle:\n",
    "            np.random.shuffle(self.indices)\n",
    "\n",
    "train_generator = MFCCBatchGenerator(mfcc_paths, label_paths, batch_size=16)\n",
    "print(\"✅ 유효한 학습용 샘플 수:\", len(train_generator) * 16)\n",
    "\n",
    "# 5. 모델 정의\n",
    "from tensorflow.keras import models, layers\n",
    "\n",
    "def create_cnn_model(input_shape, num_classes):\n",
    "    model = models.Sequential()\n",
    "    model.add(layers.Conv2D(32, (3, 3), activation='relu', input_shape=input_shape, padding='same'))\n",
    "    model.add(layers.BatchNormalization())\n",
    "    model.add(layers.MaxPooling2D((2, 2)))\n",
    "\n",
    "    model.add(layers.Conv2D(64, (3, 3), activation='relu', padding='same'))\n",
    "    model.add(layers.BatchNormalization())\n",
    "    model.add(layers.MaxPooling2D((2, 2)))\n",
    "\n",
    "    model.add(layers.Conv2D(128, (3, 3), activation='relu', padding='same'))\n",
    "    model.add(layers.BatchNormalization())\n",
    "    model.add(layers.GlobalAveragePooling2D())\n",
    "\n",
    "    model.add(layers.Dense(128, activation='relu'))\n",
    "    model.add(layers.Dropout(0.3))\n",
    "    model.add(layers.Dense(num_classes, activation='softmax'))\n",
    "\n",
    "    model.compile(optimizer='adam', loss='sparse_categorical_crossentropy', metrics=['accuracy'])\n",
    "    return model\n",
    "\n",
    "# 6. 모델 생성 및 콜백 정의\n",
    "input_shape = (157, 13, 1)\n",
    "num_classes = 8\n",
    "model = create_cnn_model(input_shape, num_classes)\n",
    "\n",
    "checkpoint_path = \"/media/usou/PortableSSD/mldl_project/models/best_model_generator.h5\"\n",
    "callbacks = [\n",
    "    ModelCheckpoint(filepath=checkpoint_path, monitor='val_accuracy', save_best_only=True, verbose=1),\n",
    "    EarlyStopping(monitor='val_accuracy', patience=5, restore_best_weights=True)\n",
    "]\n",
    "\n",
    "# 7. 가비지 컬렉션\n",
    "gc.collect()\n",
    "\n",
    "# 8. 학습 시작\n",
    "history = model.fit(\n",
    "    train_generator,\n",
    "    validation_data=(X_val, y_val),\n",
    "    epochs=30,\n",
    "    callbacks=callbacks\n",
    ")\n"
   ]
  },
  {
   "cell_type": "markdown",
   "metadata": {},
   "source": [
    "# 저장된 모델 불러오기\n"
   ]
  },
  {
   "cell_type": "code",
   "execution_count": null,
   "metadata": {},
   "outputs": [],
   "source": [
    "from tensorflow.keras.models import load_model\n",
    "\n",
    "model_path = \"/media/usou/PortableSSD/mldl_project/models/best_model_generator.h5\"\n",
    "model = load_model(model_path)\n",
    "print(\"✅ 모델 로드 완료\")\n"
   ]
  },
  {
   "cell_type": "code",
   "execution_count": null,
   "metadata": {},
   "outputs": [],
   "source": [
    "y_pred = model.predict(X_val)\n",
    "y_pred_classes = np.argmax(y_pred, axis=1)"
   ]
  },
  {
   "cell_type": "code",
   "execution_count": null,
   "metadata": {},
   "outputs": [],
   "source": [
    "from sklearn.metrics import accuracy_score, classification_report, confusion_matrix\n",
    "\n",
    "acc = accuracy_score(y_val, y_pred_classes)\n",
    "print(f\"✅ 검증 정확도: {acc:.4f}\\n\")\n",
    "\n",
    "print(\"📊 분류 리포트:\")\n",
    "print(classification_report(y_val, y_pred_classes))\n",
    "\n",
    "print(\"🌀 혼동 행렬:\")\n",
    "print(confusion_matrix(y_val, y_pred_classes))\n"
   ]
  },
  {
   "cell_type": "code",
   "execution_count": null,
   "metadata": {},
   "outputs": [],
   "source": [
    "import matplotlib.pyplot as plt\n",
    "import seaborn as sns\n",
    "\n",
    "cm = confusion_matrix(y_val, y_pred_classes)\n",
    "plt.figure(figsize=(8, 6))\n",
    "sns.heatmap(cm, annot=True, fmt='d', cmap='Blues')\n",
    "plt.xlabel(\"Predicted Label\")\n",
    "plt.ylabel(\"True Label\")\n",
    "plt.title(\"Confusion Matrix\")\n",
    "plt.show()\n"
   ]
  },
  {
   "cell_type": "markdown",
   "metadata": {},
   "source": [
    "# 학습 로그 저장"
   ]
  },
  {
   "cell_type": "code",
   "execution_count": null,
   "metadata": {},
   "outputs": [],
   "source": [
    "import pickle\n",
    "\n",
    "# 학습 직후 저장\n",
    "with open(\"/media/usou/PortableSSD/mldl_project/models/history.pkl\", \"wb\") as f:\n",
    "    pickle.dump(history.history, f)\n",
    "\n",
    "print(\"✅ 학습 로그 저장 완료\")\n"
   ]
  },
  {
   "cell_type": "markdown",
   "metadata": {},
   "source": [
    "# 학습 로그 불러 오기"
   ]
  },
  {
   "cell_type": "code",
   "execution_count": null,
   "metadata": {},
   "outputs": [],
   "source": [
    "import pickle\n",
    "\n",
    "with open(\"/media/usou/PortableSSD/mldl_project/models/history.pkl\", \"rb\") as f:\n",
    "    history_dict = pickle.load(f)\n",
    "\n",
    "print(\"✅ 학습 로그 불러오기 완료\")\n"
   ]
  },
  {
   "cell_type": "markdown",
   "metadata": {},
   "source": [
    "# 시각화"
   ]
  },
  {
   "cell_type": "code",
   "execution_count": null,
   "metadata": {},
   "outputs": [],
   "source": [
    "import matplotlib.pyplot as plt\n",
    "\n",
    "acc = history_dict[\"accuracy\"]\n",
    "val_acc = history_dict[\"val_accuracy\"]\n",
    "loss = history_dict[\"loss\"]\n",
    "val_loss = history_dict[\"val_loss\"]\n",
    "epochs = range(1, len(acc) + 1)\n",
    "\n",
    "plt.figure(figsize=(12, 5))\n",
    "\n",
    "plt.subplot(1, 2, 1)\n",
    "plt.plot(epochs, acc, label='Training Accuracy')\n",
    "plt.plot(epochs, val_acc, label='Validation Accuracy')\n",
    "plt.title('Accuracy over Epochs')\n",
    "plt.xlabel('Epochs')\n",
    "plt.ylabel('Accuracy')\n",
    "plt.legend()\n",
    "\n",
    "plt.subplot(1, 2, 2)\n",
    "plt.plot(epochs, loss, label='Training Loss')\n",
    "plt.plot(epochs, val_loss, label='Validation Loss')\n",
    "plt.title('Loss over Epochs')\n",
    "plt.xlabel('Epochs')\n",
    "plt.ylabel('Loss')\n",
    "plt.legend()\n",
    "\n",
    "plt.tight_layout()\n",
    "plt.show()\n"
   ]
  },
  {
   "cell_type": "markdown",
   "metadata": {},
   "source": [
    "# epoch 300 으로 accuracy 더 올리기"
   ]
  },
  {
   "cell_type": "code",
   "execution_count": 2,
   "metadata": {},
   "outputs": [
    {
     "name": "stderr",
     "output_type": "stream",
     "text": [
      "2025-04-04 11:29:40.450437: E external/local_xla/xla/stream_executor/cuda/cuda_fft.cc:467] Unable to register cuFFT factory: Attempting to register factory for plugin cuFFT when one has already been registered\n",
      "WARNING: All log messages before absl::InitializeLog() is called are written to STDERR\n",
      "E0000 00:00:1743733780.511469    4638 cuda_dnn.cc:8579] Unable to register cuDNN factory: Attempting to register factory for plugin cuDNN when one has already been registered\n",
      "E0000 00:00:1743733780.530245    4638 cuda_blas.cc:1407] Unable to register cuBLAS factory: Attempting to register factory for plugin cuBLAS when one has already been registered\n",
      "W0000 00:00:1743733780.669660    4638 computation_placer.cc:177] computation placer already registered. Please check linkage and avoid linking the same target more than once.\n",
      "W0000 00:00:1743733780.669689    4638 computation_placer.cc:177] computation placer already registered. Please check linkage and avoid linking the same target more than once.\n",
      "W0000 00:00:1743733780.669690    4638 computation_placer.cc:177] computation placer already registered. Please check linkage and avoid linking the same target more than once.\n",
      "W0000 00:00:1743733780.669692    4638 computation_placer.cc:177] computation placer already registered. Please check linkage and avoid linking the same target more than once.\n",
      "2025-04-04 11:29:40.686493: I tensorflow/core/platform/cpu_feature_guard.cc:210] This TensorFlow binary is optimized to use available CPU instructions in performance-critical operations.\n",
      "To enable the following instructions: AVX2 FMA, in other operations, rebuild TensorFlow with the appropriate compiler flags.\n"
     ]
    },
    {
     "name": "stdout",
     "output_type": "stream",
     "text": [
      "검증 데이터 준비 완료\n",
      "검증용 X shape: (112157, 157, 13, 1)\n",
      "검증용 y shape: (112157,)\n",
      "유효한 학습용 샘플 수: 525776\n"
     ]
    },
    {
     "name": "stderr",
     "output_type": "stream",
     "text": [
      "/home/usou/dev_ws/superbad/deeplearning-repo-3/dolbom_venv/lib/python3.12/site-packages/keras/src/layers/convolutional/base_conv.py:107: UserWarning: Do not pass an `input_shape`/`input_dim` argument to a layer. When using Sequential models, prefer using an `Input(shape)` object as the first layer in the model instead.\n",
      "  super().__init__(activity_regularizer=activity_regularizer, **kwargs)\n",
      "2025-04-04 11:30:04.276858: W tensorflow/core/common_runtime/gpu/gpu_bfc_allocator.cc:47] Overriding orig_value setting because the TF_FORCE_GPU_ALLOW_GROWTH environment variable is set. Original config value was 0.\n",
      "I0000 00:00:1743733804.277331    4638 gpu_device.cc:2019] Created device /job:localhost/replica:0/task:0/device:GPU:0 with 4738 MB memory:  -> device: 0, name: NVIDIA GeForce RTX 2060, pci bus id: 0000:01:00.0, compute capability: 7.5\n"
     ]
    },
    {
     "data": {
      "text/plain": [
       "0"
      ]
     },
     "execution_count": 2,
     "metadata": {},
     "output_type": "execute_result"
    }
   ],
   "source": [
    "# 1. 기본 라이브러리 불러오기 및 GPU 설정\n",
    "import numpy as np\n",
    "import tensorflow as tf\n",
    "import os, gc\n",
    "from glob import glob\n",
    "from tensorflow.keras.preprocessing.sequence import pad_sequences\n",
    "from tensorflow.keras.callbacks import ModelCheckpoint, EarlyStopping\n",
    "\n",
    "# GPU 메모리 과도할당 방지 설정\n",
    "os.environ['TF_FORCE_GPU_ALLOW_GROWTH'] = 'true'\n",
    "\n",
    "# 2. MFCC 및 레이블 파일 경로 설정\n",
    "mfcc_dir = \"/media/usou/PortableSSD/mldl_project/data/mfcc_batches\"\n",
    "label_dir = \"/media/usou/PortableSSD/mldl_project/data/mfcc_batches/encoded_labels\"\n",
    "mfcc_paths = sorted(glob(os.path.join(mfcc_dir, \"mfcc_batch_*.npy\")))\n",
    "label_paths = sorted(glob(os.path.join(label_dir, \"label_batch_*.npy\")))\n",
    "\n",
    "# 3. 검증 데이터셋 구성 (112157개 샘플)\n",
    "val_sample_size = 112157\n",
    "X_val_list, y_val_list = [], []\n",
    "loaded = 0\n",
    "\n",
    "for mfcc_path, label_path in zip(reversed(mfcc_paths), reversed(label_paths)):\n",
    "    mfcc_batch = np.load(mfcc_path, allow_pickle=True)\n",
    "    label_batch = np.load(label_path)\n",
    "    \n",
    "    for mfcc, label in zip(mfcc_batch, label_batch):\n",
    "        if isinstance(mfcc, np.ndarray) and mfcc.ndim == 2 and mfcc.shape[1] == 13:\n",
    "            padded = pad_sequences([mfcc], maxlen=157, padding='post', dtype='float32')[0]\n",
    "            X_val_list.append(padded)\n",
    "            y_val_list.append(label)\n",
    "            loaded += 1\n",
    "            if loaded >= val_sample_size:\n",
    "                break\n",
    "    if loaded >= val_sample_size:\n",
    "        break\n",
    "\n",
    "X_val = np.array(X_val_list).reshape(-1, 157, 13, 1)\n",
    "y_val = np.array(y_val_list)\n",
    "\n",
    "print(\"검증 데이터 준비 완료\")\n",
    "print(\"검증용 X shape:\", X_val.shape)\n",
    "print(\"검증용 y shape:\", y_val.shape)\n",
    "\n",
    "# 4. 학습용 데이터 제너레이터 정의\n",
    "class MFCCBatchGenerator(tf.keras.utils.Sequence):\n",
    "    def __init__(self, mfcc_paths, label_paths, batch_size=16, max_len=157, shuffle=True):\n",
    "        self.max_len = max_len\n",
    "        self.batch_size = batch_size\n",
    "        self.shuffle = shuffle\n",
    "        self.X_all = []\n",
    "        self.y_all = []\n",
    "\n",
    "        for mfcc_path, label_path in zip(mfcc_paths, label_paths):\n",
    "            mfcc_batch = np.load(mfcc_path, allow_pickle=True)\n",
    "            label_batch = np.load(label_path)\n",
    "            for mfcc, label in zip(mfcc_batch, label_batch):\n",
    "                if isinstance(mfcc, np.ndarray) and mfcc.ndim == 2 and mfcc.shape[1] == 13:\n",
    "                    self.X_all.append(mfcc)\n",
    "                    self.y_all.append(label)\n",
    "\n",
    "        self.indices = np.arange(len(self.X_all))\n",
    "        self.on_epoch_end()\n",
    "\n",
    "    def __len__(self):\n",
    "        return int(np.ceil(len(self.X_all) / self.batch_size))\n",
    "\n",
    "    def __getitem__(self, index):\n",
    "        batch_indices = self.indices[index * self.batch_size:(index + 1) * self.batch_size]\n",
    "        X_batch, y_batch = [], []\n",
    "        for i in batch_indices:\n",
    "            mfcc = self.X_all[i]\n",
    "            padded = pad_sequences([mfcc], maxlen=self.max_len, padding='post', dtype='float32')[0]\n",
    "            X_batch.append(padded)\n",
    "            y_batch.append(self.y_all[i])\n",
    "        X_batch = np.array(X_batch).reshape(-1, 157, 13, 1)\n",
    "        y_batch = np.array(y_batch)\n",
    "        return X_batch, y_batch\n",
    "\n",
    "    def on_epoch_end(self):\n",
    "        if self.shuffle:\n",
    "            np.random.shuffle(self.indices)\n",
    "\n",
    "train_generator = MFCCBatchGenerator(mfcc_paths, label_paths, batch_size=16)\n",
    "print(\"유효한 학습용 샘플 수:\", len(train_generator) * 16)\n",
    "\n",
    "# 5. CNN 모델 정의 함수\n",
    "from tensorflow.keras import models, layers\n",
    "\n",
    "def create_cnn_model(input_shape, num_classes):\n",
    "    model = models.Sequential()\n",
    "    model.add(layers.Conv2D(32, (3, 3), activation='relu', input_shape=input_shape, padding='same'))\n",
    "    model.add(layers.BatchNormalization())\n",
    "    model.add(layers.MaxPooling2D((2, 2)))\n",
    "\n",
    "    model.add(layers.Conv2D(64, (3, 3), activation='relu', padding='same'))\n",
    "    model.add(layers.BatchNormalization())\n",
    "    model.add(layers.MaxPooling2D((2, 2)))\n",
    "\n",
    "    model.add(layers.Conv2D(128, (3, 3), activation='relu', padding='same'))\n",
    "    model.add(layers.BatchNormalization())\n",
    "    model.add(layers.GlobalAveragePooling2D())\n",
    "\n",
    "    model.add(layers.Dense(128, activation='relu'))\n",
    "    model.add(layers.Dropout(0.3))\n",
    "    model.add(layers.Dense(num_classes, activation='softmax'))\n",
    "\n",
    "    model.compile(optimizer='adam', loss='sparse_categorical_crossentropy', metrics=['accuracy'])\n",
    "    return model\n",
    "\n",
    "# 6. 모델 구성 및 콜백 정의\n",
    "input_shape = (157, 13, 1)\n",
    "num_classes = 8\n",
    "model = create_cnn_model(input_shape, num_classes)\n",
    "\n",
    "checkpoint_path = \"/media/usou/PortableSSD/mldl_project/models/best_model_generator.h5\"\n",
    "callbacks = [\n",
    "    ModelCheckpoint(filepath=checkpoint_path, monitor='val_accuracy', save_best_only=True, verbose=1),\n",
    "    EarlyStopping(monitor='val_accuracy', patience=30, restore_best_weights=True)\n",
    "]\n",
    "\n",
    "# 7. 불필요한 메모리 수거\n",
    "gc.collect()\n",
    "\n",
    "# # 8. 모델 학습 (epoch 300으로 확장)\n",
    "# history = model.fit(\n",
    "#     train_generator,\n",
    "#     validation_data=(X_val, y_val),\n",
    "#     epochs=300,\n",
    "#     callbacks=callbacks\n",
    "# )\n"
   ]
  },
  {
   "cell_type": "markdown",
   "metadata": {},
   "source": [
    "# 시각화"
   ]
  },
  {
   "cell_type": "code",
   "execution_count": 4,
   "metadata": {},
   "outputs": [
    {
     "name": "stderr",
     "output_type": "stream",
     "text": [
      "2025-04-04 11:30:53.196941: W external/local_xla/xla/tsl/framework/cpu_allocator_impl.cc:83] Allocation of 915649748 exceeds 10% of free system memory.\n",
      "2025-04-04 11:30:54.313232: W external/local_xla/xla/tsl/framework/cpu_allocator_impl.cc:83] Allocation of 915649748 exceeds 10% of free system memory.\n",
      "WARNING: All log messages before absl::InitializeLog() is called are written to STDERR\n",
      "I0000 00:00:1743733855.058142    8477 service.cc:152] XLA service 0x79e7ec0029d0 initialized for platform CUDA (this does not guarantee that XLA will be used). Devices:\n",
      "I0000 00:00:1743733855.058176    8477 service.cc:160]   StreamExecutor device (0): NVIDIA GeForce RTX 2060, Compute Capability 7.5\n",
      "2025-04-04 11:30:55.079536: I tensorflow/compiler/mlir/tensorflow/utils/dump_mlir_util.cc:269] disabling MLIR crash reproducer, set env var `MLIR_CRASH_REPRODUCER_DIRECTORY` to enable.\n",
      "I0000 00:00:1743733855.180731    8477 cuda_dnn.cc:529] Loaded cuDNN version 90800\n",
      "2025-04-04 11:30:55.615828: I external/local_xla/xla/service/gpu/autotuning/conv_algorithm_picker.cc:549] Omitted potentially buggy algorithm eng14{k25=2} for conv %cudnn-conv-bias-activation.9 = (f32[32,32,157,13]{3,2,1,0}, u8[0]{0}) custom-call(f32[32,1,157,13]{3,2,1,0} %bitcast.352, f32[32,1,3,3]{3,2,1,0} %bitcast.359, f32[32]{0} %bitcast.361), window={size=3x3 pad=1_1x1_1}, dim_labels=bf01_oi01->bf01, custom_call_target=\"__cudnn$convBiasActivationForward\", metadata={op_type=\"Conv2D\" op_name=\"sequential_1/conv2d_1/convolution\" source_file=\"/home/usou/dev_ws/superbad/deeplearning-repo-3/dolbom_venv/lib/python3.12/site-packages/tensorflow/python/framework/ops.py\" source_line=1200}, backend_config={\"operation_queue_id\":\"0\",\"wait_on_operation_queues\":[],\"cudnn_conv_backend_config\":{\"conv_result_scale\":1,\"activation_mode\":\"kRelu\",\"side_input_scale\":0,\"leakyrelu_alpha\":0},\"force_earliest_schedule\":false}\n",
      "2025-04-04 11:30:55.704393: I external/local_xla/xla/service/gpu/autotuning/conv_algorithm_picker.cc:549] Omitted potentially buggy algorithm eng14{k25=2} for conv %cudnn-conv-bias-activation.10 = (f32[32,64,78,6]{3,2,1,0}, u8[0]{0}) custom-call(f32[32,32,78,6]{3,2,1,0} %bitcast.389, f32[64,32,3,3]{3,2,1,0} %bitcast.396, f32[64]{0} %bitcast.398), window={size=3x3 pad=1_1x1_1}, dim_labels=bf01_oi01->bf01, custom_call_target=\"__cudnn$convBiasActivationForward\", metadata={op_type=\"Conv2D\" op_name=\"sequential_1/conv2d_1_2/convolution\" source_file=\"/home/usou/dev_ws/superbad/deeplearning-repo-3/dolbom_venv/lib/python3.12/site-packages/tensorflow/python/framework/ops.py\" source_line=1200}, backend_config={\"operation_queue_id\":\"0\",\"wait_on_operation_queues\":[],\"cudnn_conv_backend_config\":{\"conv_result_scale\":1,\"activation_mode\":\"kRelu\",\"side_input_scale\":0,\"leakyrelu_alpha\":0},\"force_earliest_schedule\":false}\n",
      "2025-04-04 11:30:55.844944: I external/local_xla/xla/service/gpu/autotuning/conv_algorithm_picker.cc:549] Omitted potentially buggy algorithm eng14{k25=2} for conv %cudnn-conv-bias-activation.11 = (f32[32,128,39,3]{3,2,1,0}, u8[0]{0}) custom-call(f32[32,64,39,3]{3,2,1,0} %bitcast.426, f32[128,64,3,3]{3,2,1,0} %bitcast.433, f32[128]{0} %bitcast.435), window={size=3x3 pad=1_1x1_1}, dim_labels=bf01_oi01->bf01, custom_call_target=\"__cudnn$convBiasActivationForward\", metadata={op_type=\"Conv2D\" op_name=\"sequential_1/conv2d_2_1/convolution\" source_file=\"/home/usou/dev_ws/superbad/deeplearning-repo-3/dolbom_venv/lib/python3.12/site-packages/tensorflow/python/framework/ops.py\" source_line=1200}, backend_config={\"operation_queue_id\":\"0\",\"wait_on_operation_queues\":[],\"cudnn_conv_backend_config\":{\"conv_result_scale\":1,\"activation_mode\":\"kRelu\",\"side_input_scale\":0,\"leakyrelu_alpha\":0},\"force_earliest_schedule\":false}\n"
     ]
    },
    {
     "name": "stdout",
     "output_type": "stream",
     "text": [
      "\u001b[1m  26/3505\u001b[0m \u001b[37m━━━━━━━━━━━━━━━━━━━━\u001b[0m \u001b[1m24s\u001b[0m 7ms/step "
     ]
    },
    {
     "name": "stderr",
     "output_type": "stream",
     "text": [
      "I0000 00:00:1743733856.306102    8477 device_compiler.h:188] Compiled cluster using XLA!  This line is logged at most once for the lifetime of the process.\n"
     ]
    },
    {
     "name": "stdout",
     "output_type": "stream",
     "text": [
      "\u001b[1m3498/3505\u001b[0m \u001b[32m━━━━━━━━━━━━━━━━━━━\u001b[0m\u001b[37m━\u001b[0m \u001b[1m0s\u001b[0m 3ms/step"
     ]
    },
    {
     "name": "stderr",
     "output_type": "stream",
     "text": [
      "2025-04-04 11:31:06.529920: I external/local_xla/xla/service/gpu/autotuning/conv_algorithm_picker.cc:549] Omitted potentially buggy algorithm eng14{k25=2} for conv %cudnn-conv-bias-activation.9 = (f32[29,32,157,13]{3,2,1,0}, u8[0]{0}) custom-call(f32[29,1,157,13]{3,2,1,0} %bitcast.352, f32[32,1,3,3]{3,2,1,0} %bitcast.359, f32[32]{0} %bitcast.361), window={size=3x3 pad=1_1x1_1}, dim_labels=bf01_oi01->bf01, custom_call_target=\"__cudnn$convBiasActivationForward\", metadata={op_type=\"Conv2D\" op_name=\"sequential_1/conv2d_1/convolution\" source_file=\"/home/usou/dev_ws/superbad/deeplearning-repo-3/dolbom_venv/lib/python3.12/site-packages/tensorflow/python/framework/ops.py\" source_line=1200}, backend_config={\"operation_queue_id\":\"0\",\"wait_on_operation_queues\":[],\"cudnn_conv_backend_config\":{\"conv_result_scale\":1,\"activation_mode\":\"kRelu\",\"side_input_scale\":0,\"leakyrelu_alpha\":0},\"force_earliest_schedule\":false}\n",
      "2025-04-04 11:31:06.591286: I external/local_xla/xla/service/gpu/autotuning/conv_algorithm_picker.cc:549] Omitted potentially buggy algorithm eng14{k25=2} for conv %cudnn-conv-bias-activation.10 = (f32[29,64,78,6]{3,2,1,0}, u8[0]{0}) custom-call(f32[29,32,78,6]{3,2,1,0} %bitcast.389, f32[64,32,3,3]{3,2,1,0} %bitcast.396, f32[64]{0} %bitcast.398), window={size=3x3 pad=1_1x1_1}, dim_labels=bf01_oi01->bf01, custom_call_target=\"__cudnn$convBiasActivationForward\", metadata={op_type=\"Conv2D\" op_name=\"sequential_1/conv2d_1_2/convolution\" source_file=\"/home/usou/dev_ws/superbad/deeplearning-repo-3/dolbom_venv/lib/python3.12/site-packages/tensorflow/python/framework/ops.py\" source_line=1200}, backend_config={\"operation_queue_id\":\"0\",\"wait_on_operation_queues\":[],\"cudnn_conv_backend_config\":{\"conv_result_scale\":1,\"activation_mode\":\"kRelu\",\"side_input_scale\":0,\"leakyrelu_alpha\":0},\"force_earliest_schedule\":false}\n",
      "2025-04-04 11:31:06.689536: I external/local_xla/xla/service/gpu/autotuning/conv_algorithm_picker.cc:549] Omitted potentially buggy algorithm eng14{k25=2} for conv %cudnn-conv-bias-activation.11 = (f32[29,128,39,3]{3,2,1,0}, u8[0]{0}) custom-call(f32[29,64,39,3]{3,2,1,0} %bitcast.426, f32[128,64,3,3]{3,2,1,0} %bitcast.433, f32[128]{0} %bitcast.435), window={size=3x3 pad=1_1x1_1}, dim_labels=bf01_oi01->bf01, custom_call_target=\"__cudnn$convBiasActivationForward\", metadata={op_type=\"Conv2D\" op_name=\"sequential_1/conv2d_2_1/convolution\" source_file=\"/home/usou/dev_ws/superbad/deeplearning-repo-3/dolbom_venv/lib/python3.12/site-packages/tensorflow/python/framework/ops.py\" source_line=1200}, backend_config={\"operation_queue_id\":\"0\",\"wait_on_operation_queues\":[],\"cudnn_conv_backend_config\":{\"conv_result_scale\":1,\"activation_mode\":\"kRelu\",\"side_input_scale\":0,\"leakyrelu_alpha\":0},\"force_earliest_schedule\":false}\n"
     ]
    },
    {
     "name": "stdout",
     "output_type": "stream",
     "text": [
      "\u001b[1m3505/3505\u001b[0m \u001b[32m━━━━━━━━━━━━━━━━━━━━\u001b[0m\u001b[37m\u001b[0m \u001b[1m12s\u001b[0m 3ms/step\n"
     ]
    },
    {
     "name": "stderr",
     "output_type": "stream",
     "text": [
      "/home/usou/dev_ws/superbad/deeplearning-repo-3/dolbom_venv/lib/python3.12/site-packages/sklearn/metrics/_classification.py:1565: UndefinedMetricWarning: Precision is ill-defined and being set to 0.0 in labels with no predicted samples. Use `zero_division` parameter to control this behavior.\n",
      "  _warn_prf(average, modifier, f\"{metric.capitalize()} is\", len(result))\n",
      "/home/usou/dev_ws/superbad/deeplearning-repo-3/dolbom_venv/lib/python3.12/site-packages/sklearn/metrics/_classification.py:1565: UndefinedMetricWarning: Recall is ill-defined and being set to 0.0 in labels with no true samples. Use `zero_division` parameter to control this behavior.\n",
      "  _warn_prf(average, modifier, f\"{metric.capitalize()} is\", len(result))\n"
     ]
    },
    {
     "ename": "ValueError",
     "evalue": "shape mismatch: objects cannot be broadcast to a single shape.  Mismatch is between arg 0 with shape (8,) and arg 1 with shape (7,).",
     "output_type": "error",
     "traceback": [
      "\u001b[31m---------------------------------------------------------------------------\u001b[39m",
      "\u001b[31mValueError\u001b[39m                                Traceback (most recent call last)",
      "\u001b[36mCell\u001b[39m\u001b[36m \u001b[39m\u001b[32mIn[4]\u001b[39m\u001b[32m, line 23\u001b[39m\n\u001b[32m     21\u001b[39m plt.figure(figsize=(\u001b[32m8\u001b[39m, \u001b[32m6\u001b[39m))\n\u001b[32m     22\u001b[39m bar_width = \u001b[32m0.25\u001b[39m\n\u001b[32m---> \u001b[39m\u001b[32m23\u001b[39m \u001b[43mplt\u001b[49m\u001b[43m.\u001b[49m\u001b[43mbar\u001b[49m\u001b[43m(\u001b[49m\u001b[43mx\u001b[49m\u001b[43m,\u001b[49m\u001b[43m \u001b[49m\u001b[43mprecision\u001b[49m\u001b[43m,\u001b[49m\u001b[43m \u001b[49m\u001b[43mwidth\u001b[49m\u001b[43m=\u001b[49m\u001b[43mbar_width\u001b[49m\u001b[43m,\u001b[49m\u001b[43m \u001b[49m\u001b[43mlabel\u001b[49m\u001b[43m=\u001b[49m\u001b[33;43m'\u001b[39;49m\u001b[33;43mprecision\u001b[39;49m\u001b[33;43m'\u001b[39;49m\u001b[43m)\u001b[49m\n\u001b[32m     24\u001b[39m plt.bar(x + bar_width, recall, width=bar_width, label=\u001b[33m'\u001b[39m\u001b[33mrecall\u001b[39m\u001b[33m'\u001b[39m)\n\u001b[32m     25\u001b[39m plt.bar(x + \u001b[32m2\u001b[39m*bar_width, f1, width=bar_width, label=\u001b[33m'\u001b[39m\u001b[33mf1-score\u001b[39m\u001b[33m'\u001b[39m)\n",
      "\u001b[36mFile \u001b[39m\u001b[32m~/dev_ws/superbad/deeplearning-repo-3/dolbom_venv/lib/python3.12/site-packages/matplotlib/pyplot.py:2979\u001b[39m, in \u001b[36mbar\u001b[39m\u001b[34m(x, height, width, bottom, align, data, **kwargs)\u001b[39m\n\u001b[32m   2968\u001b[39m \u001b[38;5;129m@_copy_docstring_and_deprecators\u001b[39m(Axes.bar)\n\u001b[32m   2969\u001b[39m \u001b[38;5;28;01mdef\u001b[39;00m\u001b[38;5;250m \u001b[39m\u001b[34mbar\u001b[39m(\n\u001b[32m   2970\u001b[39m     x: \u001b[38;5;28mfloat\u001b[39m | ArrayLike,\n\u001b[32m   (...)\u001b[39m\u001b[32m   2977\u001b[39m     **kwargs,\n\u001b[32m   2978\u001b[39m ) -> BarContainer:\n\u001b[32m-> \u001b[39m\u001b[32m2979\u001b[39m     \u001b[38;5;28;01mreturn\u001b[39;00m \u001b[43mgca\u001b[49m\u001b[43m(\u001b[49m\u001b[43m)\u001b[49m\u001b[43m.\u001b[49m\u001b[43mbar\u001b[49m\u001b[43m(\u001b[49m\n\u001b[32m   2980\u001b[39m \u001b[43m        \u001b[49m\u001b[43mx\u001b[49m\u001b[43m,\u001b[49m\n\u001b[32m   2981\u001b[39m \u001b[43m        \u001b[49m\u001b[43mheight\u001b[49m\u001b[43m,\u001b[49m\n\u001b[32m   2982\u001b[39m \u001b[43m        \u001b[49m\u001b[43mwidth\u001b[49m\u001b[43m=\u001b[49m\u001b[43mwidth\u001b[49m\u001b[43m,\u001b[49m\n\u001b[32m   2983\u001b[39m \u001b[43m        \u001b[49m\u001b[43mbottom\u001b[49m\u001b[43m=\u001b[49m\u001b[43mbottom\u001b[49m\u001b[43m,\u001b[49m\n\u001b[32m   2984\u001b[39m \u001b[43m        \u001b[49m\u001b[43malign\u001b[49m\u001b[43m=\u001b[49m\u001b[43malign\u001b[49m\u001b[43m,\u001b[49m\n\u001b[32m   2985\u001b[39m \u001b[43m        \u001b[49m\u001b[43m*\u001b[49m\u001b[43m*\u001b[49m\u001b[43m(\u001b[49m\u001b[43m{\u001b[49m\u001b[33;43m\"\u001b[39;49m\u001b[33;43mdata\u001b[39;49m\u001b[33;43m\"\u001b[39;49m\u001b[43m:\u001b[49m\u001b[43m \u001b[49m\u001b[43mdata\u001b[49m\u001b[43m}\u001b[49m\u001b[43m \u001b[49m\u001b[38;5;28;43;01mif\u001b[39;49;00m\u001b[43m \u001b[49m\u001b[43mdata\u001b[49m\u001b[43m \u001b[49m\u001b[38;5;129;43;01mis\u001b[39;49;00m\u001b[43m \u001b[49m\u001b[38;5;129;43;01mnot\u001b[39;49;00m\u001b[43m \u001b[49m\u001b[38;5;28;43;01mNone\u001b[39;49;00m\u001b[43m \u001b[49m\u001b[38;5;28;43;01melse\u001b[39;49;00m\u001b[43m \u001b[49m\u001b[43m{\u001b[49m\u001b[43m}\u001b[49m\u001b[43m)\u001b[49m\u001b[43m,\u001b[49m\n\u001b[32m   2986\u001b[39m \u001b[43m        \u001b[49m\u001b[43m*\u001b[49m\u001b[43m*\u001b[49m\u001b[43mkwargs\u001b[49m\u001b[43m,\u001b[49m\n\u001b[32m   2987\u001b[39m \u001b[43m    \u001b[49m\u001b[43m)\u001b[49m\n",
      "\u001b[36mFile \u001b[39m\u001b[32m~/dev_ws/superbad/deeplearning-repo-3/dolbom_venv/lib/python3.12/site-packages/matplotlib/__init__.py:1521\u001b[39m, in \u001b[36m_preprocess_data.<locals>.inner\u001b[39m\u001b[34m(ax, data, *args, **kwargs)\u001b[39m\n\u001b[32m   1518\u001b[39m \u001b[38;5;129m@functools\u001b[39m.wraps(func)\n\u001b[32m   1519\u001b[39m \u001b[38;5;28;01mdef\u001b[39;00m\u001b[38;5;250m \u001b[39m\u001b[34minner\u001b[39m(ax, *args, data=\u001b[38;5;28;01mNone\u001b[39;00m, **kwargs):\n\u001b[32m   1520\u001b[39m     \u001b[38;5;28;01mif\u001b[39;00m data \u001b[38;5;129;01mis\u001b[39;00m \u001b[38;5;28;01mNone\u001b[39;00m:\n\u001b[32m-> \u001b[39m\u001b[32m1521\u001b[39m         \u001b[38;5;28;01mreturn\u001b[39;00m \u001b[43mfunc\u001b[49m\u001b[43m(\u001b[49m\n\u001b[32m   1522\u001b[39m \u001b[43m            \u001b[49m\u001b[43max\u001b[49m\u001b[43m,\u001b[49m\n\u001b[32m   1523\u001b[39m \u001b[43m            \u001b[49m\u001b[43m*\u001b[49m\u001b[38;5;28;43mmap\u001b[39;49m\u001b[43m(\u001b[49m\u001b[43mcbook\u001b[49m\u001b[43m.\u001b[49m\u001b[43msanitize_sequence\u001b[49m\u001b[43m,\u001b[49m\u001b[43m \u001b[49m\u001b[43margs\u001b[49m\u001b[43m)\u001b[49m\u001b[43m,\u001b[49m\n\u001b[32m   1524\u001b[39m \u001b[43m            \u001b[49m\u001b[43m*\u001b[49m\u001b[43m*\u001b[49m\u001b[43m{\u001b[49m\u001b[43mk\u001b[49m\u001b[43m:\u001b[49m\u001b[43m \u001b[49m\u001b[43mcbook\u001b[49m\u001b[43m.\u001b[49m\u001b[43msanitize_sequence\u001b[49m\u001b[43m(\u001b[49m\u001b[43mv\u001b[49m\u001b[43m)\u001b[49m\u001b[43m \u001b[49m\u001b[38;5;28;43;01mfor\u001b[39;49;00m\u001b[43m \u001b[49m\u001b[43mk\u001b[49m\u001b[43m,\u001b[49m\u001b[43m \u001b[49m\u001b[43mv\u001b[49m\u001b[43m \u001b[49m\u001b[38;5;129;43;01min\u001b[39;49;00m\u001b[43m \u001b[49m\u001b[43mkwargs\u001b[49m\u001b[43m.\u001b[49m\u001b[43mitems\u001b[49m\u001b[43m(\u001b[49m\u001b[43m)\u001b[49m\u001b[43m}\u001b[49m\u001b[43m)\u001b[49m\n\u001b[32m   1526\u001b[39m     bound = new_sig.bind(ax, *args, **kwargs)\n\u001b[32m   1527\u001b[39m     auto_label = (bound.arguments.get(label_namer)\n\u001b[32m   1528\u001b[39m                   \u001b[38;5;129;01mor\u001b[39;00m bound.kwargs.get(label_namer))\n",
      "\u001b[36mFile \u001b[39m\u001b[32m~/dev_ws/superbad/deeplearning-repo-3/dolbom_venv/lib/python3.12/site-packages/matplotlib/axes/_axes.py:2583\u001b[39m, in \u001b[36mAxes.bar\u001b[39m\u001b[34m(self, x, height, width, bottom, align, **kwargs)\u001b[39m\n\u001b[32m   2580\u001b[39m     \u001b[38;5;28;01mif\u001b[39;00m yerr \u001b[38;5;129;01mis\u001b[39;00m \u001b[38;5;129;01mnot\u001b[39;00m \u001b[38;5;28;01mNone\u001b[39;00m:\n\u001b[32m   2581\u001b[39m         yerr = \u001b[38;5;28mself\u001b[39m._convert_dx(yerr, y0, y, \u001b[38;5;28mself\u001b[39m.convert_yunits)\n\u001b[32m-> \u001b[39m\u001b[32m2583\u001b[39m x, height, width, y, linewidth, hatch = \u001b[43mnp\u001b[49m\u001b[43m.\u001b[49m\u001b[43mbroadcast_arrays\u001b[49m\u001b[43m(\u001b[49m\n\u001b[32m   2584\u001b[39m \u001b[43m    \u001b[49m\u001b[38;5;66;43;03m# Make args iterable too.\u001b[39;49;00m\n\u001b[32m   2585\u001b[39m \u001b[43m    \u001b[49m\u001b[43mnp\u001b[49m\u001b[43m.\u001b[49m\u001b[43matleast_1d\u001b[49m\u001b[43m(\u001b[49m\u001b[43mx\u001b[49m\u001b[43m)\u001b[49m\u001b[43m,\u001b[49m\u001b[43m \u001b[49m\u001b[43mheight\u001b[49m\u001b[43m,\u001b[49m\u001b[43m \u001b[49m\u001b[43mwidth\u001b[49m\u001b[43m,\u001b[49m\u001b[43m \u001b[49m\u001b[43my\u001b[49m\u001b[43m,\u001b[49m\u001b[43m \u001b[49m\u001b[43mlinewidth\u001b[49m\u001b[43m,\u001b[49m\u001b[43m \u001b[49m\u001b[43mhatch\u001b[49m\u001b[43m)\u001b[49m\n\u001b[32m   2587\u001b[39m \u001b[38;5;66;03m# Now that units have been converted, set the tick locations.\u001b[39;00m\n\u001b[32m   2588\u001b[39m \u001b[38;5;28;01mif\u001b[39;00m orientation == \u001b[33m'\u001b[39m\u001b[33mvertical\u001b[39m\u001b[33m'\u001b[39m:\n",
      "\u001b[36mFile \u001b[39m\u001b[32m~/dev_ws/superbad/deeplearning-repo-3/dolbom_venv/lib/python3.12/site-packages/numpy/lib/stride_tricks.py:540\u001b[39m, in \u001b[36mbroadcast_arrays\u001b[39m\u001b[34m(subok, *args)\u001b[39m\n\u001b[32m    533\u001b[39m \u001b[38;5;66;03m# nditer is not used here to avoid the limit of 32 arrays.\u001b[39;00m\n\u001b[32m    534\u001b[39m \u001b[38;5;66;03m# Otherwise, something like the following one-liner would suffice:\u001b[39;00m\n\u001b[32m    535\u001b[39m \u001b[38;5;66;03m# return np.nditer(args, flags=['multi_index', 'zerosize_ok'],\u001b[39;00m\n\u001b[32m    536\u001b[39m \u001b[38;5;66;03m#                  order='C').itviews\u001b[39;00m\n\u001b[32m    538\u001b[39m args = [np.array(_m, copy=\u001b[38;5;28;01mFalse\u001b[39;00m, subok=subok) \u001b[38;5;28;01mfor\u001b[39;00m _m \u001b[38;5;129;01min\u001b[39;00m args]\n\u001b[32m--> \u001b[39m\u001b[32m540\u001b[39m shape = \u001b[43m_broadcast_shape\u001b[49m\u001b[43m(\u001b[49m\u001b[43m*\u001b[49m\u001b[43margs\u001b[49m\u001b[43m)\u001b[49m\n\u001b[32m    542\u001b[39m \u001b[38;5;28;01mif\u001b[39;00m \u001b[38;5;28mall\u001b[39m(array.shape == shape \u001b[38;5;28;01mfor\u001b[39;00m array \u001b[38;5;129;01min\u001b[39;00m args):\n\u001b[32m    543\u001b[39m     \u001b[38;5;66;03m# Common case where nothing needs to be broadcasted.\u001b[39;00m\n\u001b[32m    544\u001b[39m     \u001b[38;5;28;01mreturn\u001b[39;00m args\n",
      "\u001b[36mFile \u001b[39m\u001b[32m~/dev_ws/superbad/deeplearning-repo-3/dolbom_venv/lib/python3.12/site-packages/numpy/lib/stride_tricks.py:422\u001b[39m, in \u001b[36m_broadcast_shape\u001b[39m\u001b[34m(*args)\u001b[39m\n\u001b[32m    417\u001b[39m \u001b[38;5;250m\u001b[39m\u001b[33;03m\"\"\"Returns the shape of the arrays that would result from broadcasting the\u001b[39;00m\n\u001b[32m    418\u001b[39m \u001b[33;03msupplied arrays against each other.\u001b[39;00m\n\u001b[32m    419\u001b[39m \u001b[33;03m\"\"\"\u001b[39;00m\n\u001b[32m    420\u001b[39m \u001b[38;5;66;03m# use the old-iterator because np.nditer does not handle size 0 arrays\u001b[39;00m\n\u001b[32m    421\u001b[39m \u001b[38;5;66;03m# consistently\u001b[39;00m\n\u001b[32m--> \u001b[39m\u001b[32m422\u001b[39m b = \u001b[43mnp\u001b[49m\u001b[43m.\u001b[49m\u001b[43mbroadcast\u001b[49m\u001b[43m(\u001b[49m\u001b[43m*\u001b[49m\u001b[43margs\u001b[49m\u001b[43m[\u001b[49m\u001b[43m:\u001b[49m\u001b[32;43m32\u001b[39;49m\u001b[43m]\u001b[49m\u001b[43m)\u001b[49m\n\u001b[32m    423\u001b[39m \u001b[38;5;66;03m# unfortunately, it cannot handle 32 or more arguments directly\u001b[39;00m\n\u001b[32m    424\u001b[39m \u001b[38;5;28;01mfor\u001b[39;00m pos \u001b[38;5;129;01min\u001b[39;00m \u001b[38;5;28mrange\u001b[39m(\u001b[32m32\u001b[39m, \u001b[38;5;28mlen\u001b[39m(args), \u001b[32m31\u001b[39m):\n\u001b[32m    425\u001b[39m     \u001b[38;5;66;03m# ironically, np.broadcast does not properly handle np.broadcast\u001b[39;00m\n\u001b[32m    426\u001b[39m     \u001b[38;5;66;03m# objects (it treats them as scalars)\u001b[39;00m\n\u001b[32m    427\u001b[39m     \u001b[38;5;66;03m# use broadcasting to avoid allocating the full array\u001b[39;00m\n",
      "\u001b[31mValueError\u001b[39m: shape mismatch: objects cannot be broadcast to a single shape.  Mismatch is between arg 0 with shape (8,) and arg 1 with shape (7,)."
     ]
    },
    {
     "data": {
      "image/png": "[encoded data removed]",
      "text/plain": [
       "<Figure size 800x600 with 1 Axes>"
      ]
     },
     "metadata": {},
     "output_type": "display_data"
    }
   ],
   "source": [
    "import numpy as np\n",
    "import matplotlib.pyplot as plt\n",
    "from sklearn.metrics import classification_report, confusion_matrix\n",
    "import seaborn as sns\n",
    "import joblib\n",
    "\n",
    "# 예시: 모델 예측값이 있다고 가정\n",
    "y_pred = model.predict(X_val)\n",
    "y_pred_labels = np.argmax(y_pred, axis=1)\n",
    "\n",
    "# 레이블 디코더 로딩 (있다면)\n",
    "label_encoder = joblib.load(\"label_encoder.pkl\")\n",
    "class_names = label_encoder.classes_\n",
    "\n",
    "# classification report\n",
    "from sklearn.metrics import precision_recall_fscore_support\n",
    "\n",
    "precision, recall, f1, _ = precision_recall_fscore_support(y_val, y_pred_labels)\n",
    "x = np.arange(len(class_names))\n",
    "\n",
    "plt.figure(figsize=(8, 6))\n",
    "bar_width = 0.25\n",
    "plt.bar(x, precision, width=bar_width, label='precision')\n",
    "plt.bar(x + bar_width, recall, width=bar_width, label='recall')\n",
    "plt.bar(x + 2*bar_width, f1, width=bar_width, label='f1-score')\n",
    "plt.xticks(x + bar_width, class_names)\n",
    "plt.title(\"Precision / Recall / F1-score by Class\")\n",
    "plt.legend()\n",
    "plt.tight_layout()\n",
    "plt.show()\n"
   ]
  },
  {
   "cell_type": "markdown",
   "metadata": {},
   "source": [
    "# 모델 저장 및 시각화"
   ]
  },
  {
   "cell_type": "code",
   "execution_count": 1,
   "metadata": {},
   "outputs": [
    {
     "ename": "NameError",
     "evalue": "name 'history' is not defined",
     "output_type": "error",
     "traceback": [
      "\u001b[31m---------------------------------------------------------------------------\u001b[39m",
      "\u001b[31mNameError\u001b[39m                                 Traceback (most recent call last)",
      "\u001b[36mCell\u001b[39m\u001b[36m \u001b[39m\u001b[32mIn[1]\u001b[39m\u001b[32m, line 9\u001b[39m\n\u001b[32m      7\u001b[39m \u001b[38;5;66;03m# history 객체를 JSON으로 저장\u001b[39;00m\n\u001b[32m      8\u001b[39m \u001b[38;5;28;01mwith\u001b[39;00m \u001b[38;5;28mopen\u001b[39m(log_path, \u001b[33m\"\u001b[39m\u001b[33mw\u001b[39m\u001b[33m\"\u001b[39m) \u001b[38;5;28;01mas\u001b[39;00m f:\n\u001b[32m----> \u001b[39m\u001b[32m9\u001b[39m     json.dump(\u001b[43mhistory\u001b[49m.history, f)\n\u001b[32m     10\u001b[39m \u001b[38;5;28mprint\u001b[39m(\u001b[33m\"\u001b[39m\u001b[33m✅ 학습 로그 저장 완료\u001b[39m\u001b[33m\"\u001b[39m)\n\u001b[32m     12\u001b[39m \u001b[38;5;66;03m# 시각화\u001b[39;00m\n",
      "\u001b[31mNameError\u001b[39m: name 'history' is not defined"
     ]
    }
   ],
   "source": [
    "import json\n",
    "import matplotlib.pyplot as plt\n",
    "\n",
    "# 로그 저장 경로\n",
    "log_path = \"/media/usou/PortableSSD/mldl_project/models/train_history_log.json\"\n",
    "\n",
    "# history 객체를 JSON으로 저장\n",
    "with open(log_path, \"w\") as f:\n",
    "    json.dump(history.history, f)\n",
    "print(\"✅ 학습 로그 저장 완료\")\n",
    "\n",
    "# 시각화\n",
    "plt.figure(figsize=(12, 5))\n",
    "\n",
    "# 정확도 그래프\n",
    "plt.subplot(1, 2, 1)\n",
    "plt.plot(history.history[\"accuracy\"], label=\"Train Accuracy\")\n",
    "plt.plot(history.history[\"val_accuracy\"], label=\"Validation Accuracy\")\n",
    "plt.title(\"Model Accuracy\")\n",
    "plt.xlabel(\"Epoch\")\n",
    "plt.ylabel(\"Accuracy\")\n",
    "plt.legend()\n",
    "\n",
    "# 손실 그래프\n",
    "plt.subplot(1, 2, 2)\n",
    "plt.plot(history.history[\"loss\"], label=\"Train Loss\")\n",
    "plt.plot(history.history[\"val_loss\"], label=\"Validation Loss\")\n",
    "plt.title(\"Model Loss\")\n",
    "plt.xlabel(\"Epoch\")\n",
    "plt.ylabel(\"Loss\")\n",
    "plt.legend()\n",
    "\n",
    "plt.tight_layout()\n",
    "plt.show()\n"
   ]
  },
  {
   "cell_type": "markdown",
   "metadata": {},
   "source": [
    "# .keras 포맷 으로 저장"
   ]
  },
  {
   "cell_type": "code",
   "execution_count": null,
   "metadata": {},
   "outputs": [],
   "source": [
    "from tensorflow.keras.models import load_model\n",
    "\n",
    "model = load_model(\"/media/usou/PortableSSD/mldl_project/models/best_model_generator.h5\")\n"
   ]
  },
  {
   "cell_type": "code",
   "execution_count": null,
   "metadata": {},
   "outputs": [],
   "source": [
    "model.save(\"best_model_generator.keras\")"
   ]
  },
  {
   "cell_type": "markdown",
   "metadata": {},
   "source": [
    "# .keras -> .h5 로 변경"
   ]
  },
  {
   "cell_type": "code",
   "execution_count": 3,
   "metadata": {},
   "outputs": [
    {
     "name": "stderr",
     "output_type": "stream",
     "text": [
      "WARNING:absl:You are saving your model as an HDF5 file via `model.save()` or `keras.saving.save_model(model)`. This file format is considered legacy. We recommend using instead the native Keras format, e.g. `model.save('my_model.keras')` or `keras.saving.save_model(model, 'my_model.keras')`. \n"
     ]
    },
    {
     "name": "stdout",
     "output_type": "stream",
     "text": [
      "✅ 변환 완료: .keras → .h5\n"
     ]
    }
   ],
   "source": [
    "from tensorflow.keras.models import load_model\n",
    "\n",
    "# 1. 기존 .keras 모델 경로\n",
    "keras_path = \"/home/usou/dev_ws/superbad/deeplearning-repo-3/ai/models//voice_emotion_model.keras\"\n",
    "\n",
    "# 2. 저장할 .h5 모델 경로\n",
    "h5_path = \"/home/usou/dev_ws/superbad/deeplearning-repo-3/ai/models//voice_emotion_model.h5\"\n",
    "\n",
    "# 3. 모델 로드 후 저장\n",
    "model = load_model(keras_path, compile=False)\n",
    "model.save(h5_path)\n",
    "\n",
    "print(\"✅ 변환 완료: .keras → .h5\")\n"
   ]
  },
  {
   "cell_type": "markdown",
   "metadata": {},
   "source": [
    "# 모델 테스트"
   ]
  },
  {
   "cell_type": "markdown",
   "metadata": {},
   "source": [
    "## m4a → wav 변환"
   ]
  },
  {
   "cell_type": "code",
   "execution_count": null,
   "metadata": {},
   "outputs": [],
   "source": [
    "from pydub import AudioSegment\n",
    "import os\n",
    "\n",
    "def convert_to_wav(input_path, output_path=None):\n",
    "    if not os.path.exists(input_path):\n",
    "        raise FileNotFoundError(f\"파일이 존재하지 않아요: {input_path}\")\n",
    "\n",
    "    if output_path is None:\n",
    "        output_path = os.path.splitext(input_path)[0] + \".wav\"\n",
    "\n",
    "    audio = AudioSegment.from_file(input_path, format=\"m4a\")\n",
    "    audio.export(output_path, format=\"wav\")\n",
    "    print(\"✅ 변환 완료:\", output_path)\n",
    "    return output_path\n"
   ]
  },
  {
   "cell_type": "markdown",
   "metadata": {},
   "source": [
    "## m4a, mp3, mp4 -> wav"
   ]
  },
  {
   "cell_type": "code",
   "execution_count": 13,
   "metadata": {},
   "outputs": [],
   "source": [
    "import os\n",
    "from pydub import AudioSegment\n",
    "\n",
    "def convert_to_wav(input_path, output_path=None):\n",
    "    \"\"\"\n",
    "    오디오 또는 비디오 파일을 WAV로 변환합니다.\n",
    "    지원 포맷: .wav, .m4a, .mp3, .mp4 등\n",
    "    내부적으로 ffmpeg가 설치되어 있어야 합니다.\n",
    "\n",
    "    :param input_path: 입력 파일 경로\n",
    "    :param output_path: 출력 파일 경로 (None이면 자동 생성)\n",
    "    :return: 변환된 WAV 파일 경로\n",
    "    \"\"\"\n",
    "    if not os.path.exists(input_path):\n",
    "        raise FileNotFoundError(f\"파일이 존재하지 않아요: {input_path}\")\n",
    "\n",
    "    ext = os.path.splitext(input_path)[1].lower()\n",
    "    if output_path is None:\n",
    "        output_path = os.path.splitext(input_path)[0] + \".wav\"\n",
    "\n",
    "    # pydub이 ffmpeg를 통해 모든 형식 처리함\n",
    "    try:\n",
    "        audio = AudioSegment.from_file(input_path)\n",
    "        audio.export(output_path, format=\"wav\")\n",
    "    except Exception as e:\n",
    "        raise RuntimeError(f\"오디오 변환 실패: {e}\")\n",
    "\n",
    "    print(\"변환 완료:\", output_path)\n",
    "    return output_path\n"
   ]
  },
  {
   "cell_type": "markdown",
   "metadata": {},
   "source": [
    "## MFCC 추출(모델 입력 준비)"
   ]
  },
  {
   "cell_type": "code",
   "execution_count": 14,
   "metadata": {},
   "outputs": [],
   "source": [
    "import librosa\n",
    "import numpy as np\n",
    "\n",
    "def extract_mfcc(file_path, sr=16000, n_mfcc=40):\n",
    "    y, sr = librosa.load(file_path, sr=sr)\n",
    "    mfcc = librosa.feature.mfcc(y=y, sr=sr, n_mfcc=n_mfcc)\n",
    "    mfcc = np.expand_dims(mfcc, axis=-1)  # CNN 입력을 위해 채널 차원 추가\n",
    "    return mfcc\n"
   ]
  },
  {
   "cell_type": "markdown",
   "metadata": {},
   "source": [
    "## 레이블 인코딩"
   ]
  },
  {
   "cell_type": "code",
   "execution_count": 15,
   "metadata": {},
   "outputs": [
    {
     "name": "stdout",
     "output_type": "stream",
     "text": [
      "총 유효 레이블 개수 (nan 제외): 530280\n",
      "인코딩된 클래스 목록: ['Angry' 'Anxious' 'Embarrassed' 'Happy' 'Hurt' 'Neutrality' 'Sad']\n",
      "유효 배치 수: 82\n",
      "nan 제거 및 레이블 인코딩 완료\n"
     ]
    }
   ],
   "source": [
    "import os\n",
    "import numpy as np\n",
    "import glob\n",
    "import pickle\n",
    "from sklearn.preprocessing import LabelEncoder\n",
    "\n",
    "# ============================\n",
    "# 1. 설정\n",
    "# ============================\n",
    "# 레이블 배치가 저장된 경로\n",
    "label_dir = \"/media/usou/PortableSSD/mldl_project/data/mfcc_batches\"\n",
    "\n",
    "# 인코딩된 레이블 저장 경로\n",
    "encoded_label_dir = os.path.join(label_dir, \"encoded_labels\")\n",
    "os.makedirs(encoded_label_dir, exist_ok=True)\n",
    "\n",
    "# ============================\n",
    "# 2. 모든 배치 레이블 수집 및 'nan' 제거\n",
    "# ============================\n",
    "label_files = sorted(glob.glob(os.path.join(label_dir, \"label_batch_*.npy\")))\n",
    "\n",
    "all_labels = []\n",
    "batch_label_data = []\n",
    "valid_indices_per_batch = []\n",
    "\n",
    "for label_file in label_files:\n",
    "    labels = np.load(label_file, allow_pickle=True)\n",
    "    \n",
    "    # 'nan' 문자열 제거\n",
    "    valid_indices = [i for i, l in enumerate(labels) if str(l).lower() != 'nan']\n",
    "    valid_labels = [labels[i] for i in valid_indices]\n",
    "\n",
    "    all_labels.extend(valid_labels)\n",
    "    batch_label_data.append(valid_labels)\n",
    "    valid_indices_per_batch.append(valid_indices)\n",
    "\n",
    "# ============================\n",
    "# 3. 레이블 인코딩\n",
    "# ============================\n",
    "label_encoder = LabelEncoder()\n",
    "label_encoder.fit(all_labels)\n",
    "\n",
    "# 인코더 저장\n",
    "with open(os.path.join(label_dir, \"label_encoder.pkl\"), \"wb\") as f:\n",
    "    pickle.dump(label_encoder, f)\n",
    "\n",
    "# ============================\n",
    "# 4. 인코딩된 레이블 배치별로 저장\n",
    "# ============================\n",
    "for i, labels in enumerate(batch_label_data):\n",
    "    encoded = label_encoder.transform(labels)\n",
    "    save_path = os.path.join(encoded_label_dir, f\"label_batch_{i}.npy\")\n",
    "    np.save(save_path, encoded)\n",
    "\n",
    "print(f\"총 유효 레이블 개수 (nan 제외): {len(all_labels)}\")\n",
    "print(f\"인코딩된 클래스 목록: {label_encoder.classes_}\")\n",
    "print(f\"유효 배치 수: {len(label_files)}\")\n",
    "print(\"nan 제거 및 레이블 인코딩 완료\")\n"
   ]
  },
  {
   "cell_type": "markdown",
   "metadata": {},
   "source": [
    "## 감정 분석 예측"
   ]
  },
  {
   "cell_type": "code",
   "execution_count": 16,
   "metadata": {},
   "outputs": [
    {
     "name": "stderr",
     "output_type": "stream",
     "text": [
      "/home/usou/venv/test_super/lib/python3.12/site-packages/keras/src/saving/saving_lib.py:757: UserWarning: Skipping variable loading for optimizer 'adam', because it has 34 variables whereas the saved optimizer has 2 variables. \n",
      "  saveable.load_own_variables(weights_store.get(inner_path))\n"
     ]
    }
   ],
   "source": [
    "from tensorflow.keras.models import load_model\n",
    "import numpy as np\n",
    "\n",
    "# 모델 로드\n",
    "model_path = \"best_model_generator_voice_emotion_analyze.keras\"\n",
    "model = load_model(model_path)\n",
    "\n",
    "# LabelEncoder 로드\n",
    "import pickle\n",
    "with open(\"label_encoder.pkl\", \"rb\") as f:\n",
    "    le = pickle.load(f)\n",
    "\n",
    "def predict_emotion(mfcc_data):\n",
    "    # 입력 형태 맞추기 (1, time, freq, 1)\n",
    "    X = np.expand_dims(mfcc_data, axis=0)\n",
    "    pred = model.predict(X)\n",
    "    idx = np.argmax(pred)\n",
    "    label = le.inverse_transform([idx])[0]\n",
    "    confidence = float(np.max(pred))\n",
    "    return label, confidence\n"
   ]
  },
  {
   "cell_type": "markdown",
   "metadata": {},
   "source": [
    "## 전체 파이프라인 실행 예시"
   ]
  },
  {
   "cell_type": "code",
   "execution_count": 17,
   "metadata": {},
   "outputs": [
    {
     "name": "stdout",
     "output_type": "stream",
     "text": [
      "변환 완료: /media/usou/PortableSSD/mldl/015.감성 및 발화 스타일별 음성합성 데이터/01.데이터/2.Validation/원천데이터/VS1/1.감정/5.상처/0005_G1A3E5S0C0_LJB/0005_G1A3E5S0C0_LJB_000011.wav\n",
      "WARNING:tensorflow:5 out of the last 5 calls to <function TensorFlowTrainer.make_predict_function.<locals>.one_step_on_data_distributed at 0x7bb037ece200> triggered tf.function retracing. Tracing is expensive and the excessive number of tracings could be due to (1) creating @tf.function repeatedly in a loop, (2) passing tensors with different shapes, (3) passing Python objects instead of tensors. For (1), please define your @tf.function outside of the loop. For (2), @tf.function has reduce_retracing=True option that can avoid unnecessary retracing. For (3), please refer to https://www.tensorflow.org/guide/function#controlling_retracing and https://www.tensorflow.org/api_docs/python/tf/function for  more details.\n",
      "\u001b[1m1/1\u001b[0m \u001b[32m━━━━━━━━━━━━━━━━━━━━\u001b[0m\u001b[37m\u001b[0m \u001b[1m0s\u001b[0m 412ms/step\n",
      "\n",
      " 감정 분석 결과: Happy (100.00% 확신)\n"
     ]
    }
   ],
   "source": [
    "# 1. 파일 변환\n",
    "m4a_path = \"/media/usou/PortableSSD/mldl/015.감성 및 발화 스타일별 음성합성 데이터/01.데이터/2.Validation/원천데이터/VS1/1.감정/5.상처/0005_G1A3E5S0C0_LJB/0005_G1A3E5S0C0_LJB_000011.wav\"\n",
    "\n",
    "wav_path = convert_to_wav(m4a_path)\n",
    "\n",
    "# 2. MFCC 추출\n",
    "mfcc = extract_mfcc(wav_path)\n",
    "\n",
    "# 3. 감정 예측\n",
    "emotion, score = predict_emotion(mfcc)\n",
    "print(f\"\\n 감정 분석 결과: {emotion} ({score:.2%} 확신)\")\n"
   ]
  },
  {
   "cell_type": "code",
   "execution_count": 10,
   "metadata": {},
   "outputs": [
    {
     "name": "stderr",
     "output_type": "stream",
     "text": [
      "/home/usou/venv/test_super/lib/python3.12/site-packages/keras/src/saving/saving_lib.py:757: UserWarning: Skipping variable loading for optimizer 'adam', because it has 34 variables whereas the saved optimizer has 2 variables. \n",
      "  saveable.load_own_variables(weights_store.get(inner_path))\n",
      "2025-04-02 12:21:20.363584: I external/local_xla/xla/service/gpu/autotuning/conv_algorithm_picker.cc:549] Omitted potentially buggy algorithm eng14{k25=2} for conv %cudnn-conv-bias-activation.11 = (f32[1,128,10,75]{3,2,1,0}, u8[0]{0}) custom-call(f32[1,64,10,75]{3,2,1,0} %bitcast.440, f32[128,64,3,3]{3,2,1,0} %bitcast.447, f32[128]{0} %bitcast.449), window={size=3x3 pad=1_1x1_1}, dim_labels=bf01_oi01->bf01, custom_call_target=\"__cudnn$convBiasActivationForward\", metadata={op_type=\"Conv2D\" op_name=\"sequential_1/conv2d_2_1/convolution\" source_file=\"/home/usou/venv/test_super/lib/python3.12/site-packages/tensorflow/python/framework/ops.py\" source_line=1200}, backend_config={\"operation_queue_id\":\"0\",\"wait_on_operation_queues\":[],\"cudnn_conv_backend_config\":{\"conv_result_scale\":1,\"activation_mode\":\"kRelu\",\"side_input_scale\":0,\"leakyrelu_alpha\":0},\"force_earliest_schedule\":false}\n"
     ]
    },
    {
     "name": "stdout",
     "output_type": "stream",
     "text": [
      "\u001b[1m1/1\u001b[0m \u001b[32m━━━━━━━━━━━━━━━━━━━━\u001b[0m\u001b[37m\u001b[0m \u001b[1m1s\u001b[0m 694ms/step\n",
      "Softmax 확률 분포: [6.35206882e-17 7.89071120e-13 1.22968635e-10 1.00000000e+00\n",
      " 3.78825990e-27 1.18888200e-12 5.54563053e-27 1.00396704e-16]\n",
      "예측된 감정: Happy\n"
     ]
    }
   ],
   "source": [
    "import librosa\n",
    "import numpy as np\n",
    "import tensorflow as tf\n",
    "import pickle\n",
    "\n",
    "# 설정\n",
    "wav_path = \"/media/usou/PortableSSD/mldl/015.감성 및 발화 스타일별 음성합성 데이터/01.데이터/2.Validation/원천데이터/VS1/1.감정/5.상처/0005_G1A3E5S0C0_LJB/0005_G1A3E5S0C0_LJB_000011.wav\"  # 예: ./val_data/sample_001.wav\n",
    "label_encoder_path = \"/media/usou/PortableSSD/mldl_project/data/mfcc_batches/label_encoder.pkl\"  # 예: ./label_encoder.pkl\n",
    "model_path = \"best_model_generator_voice_emotion_analyze.keras\"\n",
    "\n",
    "\n",
    "# 1. 모델 및 라벨 인코더 로드\n",
    "model = tf.keras.models.load_model(model_path)\n",
    "\n",
    "with open(label_encoder_path, \"rb\") as f:\n",
    "    label_encoder = pickle.load(f)\n",
    "\n",
    "# 2. wav 파일에서 MFCC 추출\n",
    "def extract_mfcc(wav_path, sr=16000, n_mfcc=40, max_len=300):\n",
    "    y, sr = librosa.load(wav_path, sr=sr)\n",
    "    mfcc = librosa.feature.mfcc(y=y, sr=sr, n_mfcc=n_mfcc)\n",
    "    \n",
    "    # 길이 고정 (짧으면 패딩, 길면 자름)\n",
    "    if mfcc.shape[1] < max_len:\n",
    "        pad_width = max_len - mfcc.shape[1]\n",
    "        mfcc = np.pad(mfcc, pad_width=((0, 0), (0, pad_width)), mode='constant')\n",
    "    else:\n",
    "        mfcc = mfcc[:, :max_len]\n",
    "\n",
    "    return mfcc\n",
    "\n",
    "# 3. 예측\n",
    "mfcc = extract_mfcc(wav_path)\n",
    "mfcc_input = mfcc[np.newaxis, ..., np.newaxis]  # (1, 40, 300, 1) 형태로 reshape\n",
    "\n",
    "y_pred = model.predict(mfcc_input)\n",
    "\n",
    "# 4. 결과 출력\n",
    "pred_index = np.argmax(y_pred)\n",
    "pred_emotion = label_encoder.inverse_transform([pred_index])[0]\n",
    "\n",
    "print(\"Softmax 확률 분포:\", y_pred[0])\n",
    "print(\"예측된 감정:\", pred_emotion)\n"
   ]
  },
  {
   "cell_type": "markdown",
   "metadata": {},
   "source": [
    "## 재학습\n",
    "\n",
    "-  감정 클래스 7 -> 4개 축소\n",
    "- 행복, 슬픔, 분노, 중립\n",
    "- 데이터 증강 및 개선 모델 필요\n",
    "- 모델 성능 향상 전략\n",
    "    - 데이터 증강 + 하이퍼 파라미터 튜닝 + 과적합 방지"
   ]
  },
  {
   "cell_type": "markdown",
   "metadata": {},
   "source": [
    "# 전체 흐름 요약\n",
    "✅ 전체 흐름 요약\n",
    "\n",
    "| 단계         | 설명                                              |\n",
    "|--------------|---------------------------------------------------|\n",
    "| 1단계 (완료) | JSON → `metadata_cleaned.csv` 생성               |\n",
    "| 2단계        | 4개 감정만 필터링 → `metadata_4class.csv` 저장   |\n",
    "| 3단계        | MFCC 추출 + 증강 적용                             |\n",
    "| 4단계        | 인코딩 → 배치 분할 저장                          |\n"
   ]
  },
  {
   "cell_type": "markdown",
   "metadata": {},
   "source": [
    "# 1단계: JSON → DataFrame 변환 "
   ]
  },
  {
   "cell_type": "code",
   "execution_count": 6,
   "metadata": {},
   "outputs": [
    {
     "name": "stdout",
     "output_type": "stream",
     "text": [
      "총 수집된 샘플: 300584\n",
      "에러 발생 수: 0\n"
     ]
    }
   ],
   "source": [
    "import os\n",
    "import json\n",
    "import pandas as pd\n",
    "\n",
    "# 라벨링 JSON이 위치한 최상위 폴더 경로\n",
    "label_root = \"/media/usou/PortableSSD/mldl/015.감성 및 발화 스타일별 음성합성 데이터/01.데이터/1.Training/라벨링데이터/\"\n",
    "\n",
    "# 실제 wav 파일이 존재하는 원천 데이터 경로\n",
    "wav_root = \"/media/usou/PortableSSD/mldl/015.감성 및 발화 스타일별 음성합성 데이터/01.데이터/1.Training/원천데이터/\"\n",
    "\n",
    "# 결과 CSV 및 로그를 저장할 폴더 경로\n",
    "save_dir = \"./data/usou\"\n",
    "os.makedirs(save_dir, exist_ok=True)\n",
    "\n",
    "# 사용할 감정 4개만 필터링 대상\n",
    "target_classes = ['Happy', 'Sad', 'Angry', 'Neutrality']\n",
    "\n",
    "# 정제된 데이터와 누락 파일 로그를 담을 리스트\n",
    "data = []\n",
    "broken_files = []\n",
    "\n",
    "# 모든 하위 폴더를 순회하며 JSON 파일 탐색\n",
    "for folder_path, _, files in os.walk(label_root):\n",
    "    for file_name in files:\n",
    "        if not file_name.endswith(\".json\"):\n",
    "            continue  # JSON 파일만 처리\n",
    "\n",
    "        json_path = os.path.join(folder_path, file_name)\n",
    "        try:\n",
    "            # JSON 파일 로딩\n",
    "            with open(json_path, 'r', encoding='utf-8') as f:\n",
    "                content = json.load(f)\n",
    "\n",
    "            # 감정 정보 추출 및 필터링\n",
    "            emotion = content[\"화자정보\"][\"Emotion\"]\n",
    "            if emotion not in target_classes:\n",
    "                continue  # 지정된 감정이 아닌 경우 제외\n",
    "\n",
    "            # 그 외 부가 정보 추출\n",
    "            style = content[\"화자정보\"].get(\"SpeechStyle\", \"N/A\")\n",
    "            sensitivity = content[\"화자정보\"].get(\"Sensitivity\", \"N/A\")\n",
    "            wav_file = content[\"파일정보\"][\"FileName\"]\n",
    "\n",
    "            # 경로 변환 (TL → TS로 수정하여 wav 경로 재구성)\n",
    "            relative_path = os.path.relpath(folder_path, start=label_root)\n",
    "            relative_path = relative_path.replace(\"TL\", \"TS\")\n",
    "            wav_path = os.path.join(wav_root, relative_path, wav_file)\n",
    "\n",
    "            # wav 파일 존재 여부 확인 후 저장\n",
    "            if os.path.exists(wav_path):\n",
    "                data.append({\n",
    "                    \"wav_path\": wav_path,\n",
    "                    \"emotion\": emotion,\n",
    "                    \"style\": style,\n",
    "                    \"sensitivity\": sensitivity\n",
    "                })\n",
    "            else:\n",
    "                broken_files.append(wav_path)\n",
    "        except Exception as e:\n",
    "            # JSON 로딩 실패 또는 파싱 오류 발생 시 경로 저장\n",
    "            broken_files.append(json_path)\n",
    "\n",
    "# 수집된 데이터를 DataFrame으로 변환\n",
    "df = pd.DataFrame(data)\n",
    "\n",
    "# 결과 CSV 저장\n",
    "df.to_csv(os.path.join(save_dir, \"metadata_4class.csv\"), index=False)\n",
    "\n",
    "# 누락된 경로 저장\n",
    "with open(os.path.join(save_dir, \"broken_files.txt\"), \"w\") as f:\n",
    "    for path in broken_files:\n",
    "        f.write(path + \"\\n\")\n",
    "\n",
    "# 최종 처리 결과 출력\n",
    "print(\"총 수집된 샘플:\", len(df))\n",
    "print(\"에러 발생 수:\", len(broken_files))\n"
   ]
  },
  {
   "cell_type": "markdown",
   "metadata": {},
   "source": [
    "# MFCC 추출 + 증강\n",
    "\n",
    "- metadata_4class.csv에서 경로와 감정 읽기\n",
    "\n",
    "- audiomentations로 증강 (2배)\n",
    "\n",
    "- MFCC 추출 (40 x 300)\n",
    "\n",
    "- mfcc_data.npy, labels.npy 저장"
   ]
  },
  {
   "cell_type": "code",
   "execution_count": 1,
   "metadata": {},
   "outputs": [
    {
     "name": "stderr",
     "output_type": "stream",
     "text": [
      "/tmp/ipykernel_4643/3246010131.py:20: DtypeWarning: Columns (2,3) have mixed types. Specify dtype option on import or set low_memory=False.\n",
      "  df = pd.read_csv(csv_path)\n",
      "MFCC 추출 및 증강:   0%|          | 335/300584 [00:25<7:26:13, 11.21it/s]"
     ]
    },
    {
     "name": "stdout",
     "output_type": "stream",
     "text": [
      "배치 0 저장 완료 - 1002개\n"
     ]
    },
    {
     "name": "stderr",
     "output_type": "stream",
     "text": [
      "MFCC 추출 및 증강:   0%|          | 669/300584 [00:52<7:05:35, 11.75it/s]"
     ]
    },
    {
     "name": "stdout",
     "output_type": "stream",
     "text": [
      "배치 1 저장 완료 - 1002개\n"
     ]
    },
    {
     "name": "stderr",
     "output_type": "stream",
     "text": [
      "MFCC 추출 및 증강:   0%|          | 1003/300584 [01:19<6:33:32, 12.69it/s]"
     ]
    },
    {
     "name": "stdout",
     "output_type": "stream",
     "text": [
      "배치 2 저장 완료 - 1002개\n"
     ]
    },
    {
     "name": "stderr",
     "output_type": "stream",
     "text": [
      "MFCC 추출 및 증강:   0%|          | 1339/300584 [01:45<5:59:34, 13.87it/s]"
     ]
    },
    {
     "name": "stdout",
     "output_type": "stream",
     "text": [
      "배치 3 저장 완료 - 1002개\n"
     ]
    },
    {
     "name": "stderr",
     "output_type": "stream",
     "text": [
      "MFCC 추출 및 증강:   1%|          | 1672/300584 [02:12<7:22:27, 11.26it/s]"
     ]
    },
    {
     "name": "stdout",
     "output_type": "stream",
     "text": [
      "배치 4 저장 완료 - 1002개\n"
     ]
    },
    {
     "name": "stderr",
     "output_type": "stream",
     "text": [
      "MFCC 추출 및 증강:   1%|          | 2005/300584 [02:39<7:08:27, 11.61it/s]"
     ]
    },
    {
     "name": "stdout",
     "output_type": "stream",
     "text": [
      "배치 5 저장 완료 - 1002개\n"
     ]
    },
    {
     "name": "stderr",
     "output_type": "stream",
     "text": [
      "MFCC 추출 및 증강:   1%|          | 2339/300584 [03:09<9:13:48,  8.98it/s] "
     ]
    },
    {
     "name": "stdout",
     "output_type": "stream",
     "text": [
      "배치 6 저장 완료 - 1002개\n"
     ]
    },
    {
     "name": "stderr",
     "output_type": "stream",
     "text": [
      "MFCC 추출 및 증강:   1%|          | 2673/300584 [03:38<7:00:54, 11.80it/s]"
     ]
    },
    {
     "name": "stdout",
     "output_type": "stream",
     "text": [
      "배치 7 저장 완료 - 1002개\n"
     ]
    },
    {
     "name": "stderr",
     "output_type": "stream",
     "text": [
      "MFCC 추출 및 증강:   1%|          | 3007/300584 [04:06<7:00:46, 11.79it/s]"
     ]
    },
    {
     "name": "stdout",
     "output_type": "stream",
     "text": [
      "배치 8 저장 완료 - 1002개\n"
     ]
    },
    {
     "name": "stderr",
     "output_type": "stream",
     "text": [
      "MFCC 추출 및 증강:   1%|          | 3341/300584 [04:36<10:25:53,  7.92it/s]"
     ]
    },
    {
     "name": "stdout",
     "output_type": "stream",
     "text": [
      "배치 9 저장 완료 - 1002개\n"
     ]
    },
    {
     "name": "stderr",
     "output_type": "stream",
     "text": [
      "MFCC 추출 및 증강:   1%|          | 3675/300584 [05:06<8:14:35, 10.01it/s] "
     ]
    },
    {
     "name": "stdout",
     "output_type": "stream",
     "text": [
      "배치 10 저장 완료 - 1002개\n"
     ]
    },
    {
     "name": "stderr",
     "output_type": "stream",
     "text": [
      "MFCC 추출 및 증강:   1%|▏         | 4011/300584 [05:34<5:49:34, 14.14it/s]"
     ]
    },
    {
     "name": "stdout",
     "output_type": "stream",
     "text": [
      "배치 11 저장 완료 - 1002개\n"
     ]
    },
    {
     "name": "stderr",
     "output_type": "stream",
     "text": [
      "MFCC 추출 및 증강:   1%|▏         | 4343/300584 [06:02<6:37:31, 12.42it/s] "
     ]
    },
    {
     "name": "stdout",
     "output_type": "stream",
     "text": [
      "배치 12 저장 완료 - 1002개\n"
     ]
    },
    {
     "name": "stderr",
     "output_type": "stream",
     "text": [
      "MFCC 추출 및 증강:   2%|▏         | 4678/300584 [06:30<6:45:41, 12.16it/s]"
     ]
    },
    {
     "name": "stdout",
     "output_type": "stream",
     "text": [
      "배치 13 저장 완료 - 1002개\n"
     ]
    },
    {
     "name": "stderr",
     "output_type": "stream",
     "text": [
      "MFCC 추출 및 증강:   2%|▏         | 5012/300584 [06:59<6:58:11, 11.78it/s]"
     ]
    },
    {
     "name": "stdout",
     "output_type": "stream",
     "text": [
      "배치 14 저장 완료 - 1002개\n"
     ]
    },
    {
     "name": "stderr",
     "output_type": "stream",
     "text": [
      "MFCC 추출 및 증강:   2%|▏         | 5345/300584 [07:27<7:35:58, 10.79it/s]"
     ]
    },
    {
     "name": "stdout",
     "output_type": "stream",
     "text": [
      "배치 15 저장 완료 - 1002개\n"
     ]
    },
    {
     "name": "stderr",
     "output_type": "stream",
     "text": [
      "MFCC 추출 및 증강:   2%|▏         | 5680/300584 [07:54<6:02:02, 13.58it/s]"
     ]
    },
    {
     "name": "stdout",
     "output_type": "stream",
     "text": [
      "배치 16 저장 완료 - 1002개\n"
     ]
    },
    {
     "name": "stderr",
     "output_type": "stream",
     "text": [
      "MFCC 추출 및 증강:   2%|▏         | 6014/300584 [08:21<6:38:06, 12.33it/s]"
     ]
    },
    {
     "name": "stdout",
     "output_type": "stream",
     "text": [
      "배치 17 저장 완료 - 1002개\n"
     ]
    },
    {
     "name": "stderr",
     "output_type": "stream",
     "text": [
      "MFCC 추출 및 증강:   2%|▏         | 6349/300584 [08:48<6:16:18, 13.03it/s]"
     ]
    },
    {
     "name": "stdout",
     "output_type": "stream",
     "text": [
      "배치 18 저장 완료 - 1002개\n"
     ]
    },
    {
     "name": "stderr",
     "output_type": "stream",
     "text": [
      "MFCC 추출 및 증강:   2%|▏         | 6683/300584 [09:15<6:27:29, 12.64it/s]"
     ]
    },
    {
     "name": "stdout",
     "output_type": "stream",
     "text": [
      "배치 19 저장 완료 - 1002개\n"
     ]
    },
    {
     "name": "stderr",
     "output_type": "stream",
     "text": [
      "MFCC 추출 및 증강:   2%|▏         | 7015/300584 [09:42<7:19:14, 11.14it/s]"
     ]
    },
    {
     "name": "stdout",
     "output_type": "stream",
     "text": [
      "배치 20 저장 완료 - 1002개\n"
     ]
    },
    {
     "name": "stderr",
     "output_type": "stream",
     "text": [
      "MFCC 추출 및 증강:   2%|▏         | 7350/300584 [10:09<6:11:35, 13.15it/s]"
     ]
    },
    {
     "name": "stdout",
     "output_type": "stream",
     "text": [
      "배치 21 저장 완료 - 1002개\n"
     ]
    },
    {
     "name": "stderr",
     "output_type": "stream",
     "text": [
      "MFCC 추출 및 증강:   3%|▎         | 7685/300584 [10:36<6:33:22, 12.41it/s]"
     ]
    },
    {
     "name": "stdout",
     "output_type": "stream",
     "text": [
      "배치 22 저장 완료 - 1002개\n"
     ]
    },
    {
     "name": "stderr",
     "output_type": "stream",
     "text": [
      "MFCC 추출 및 증강:   3%|▎         | 8018/300584 [11:03<7:40:19, 10.59it/s]"
     ]
    },
    {
     "name": "stdout",
     "output_type": "stream",
     "text": [
      "배치 23 저장 완료 - 1002개\n"
     ]
    },
    {
     "name": "stderr",
     "output_type": "stream",
     "text": [
      "MFCC 추출 및 증강:   3%|▎         | 8351/300584 [11:28<7:38:08, 10.63it/s]"
     ]
    },
    {
     "name": "stdout",
     "output_type": "stream",
     "text": [
      "배치 24 저장 완료 - 1002개\n"
     ]
    },
    {
     "name": "stderr",
     "output_type": "stream",
     "text": [
      "MFCC 추출 및 증강:   3%|▎         | 8686/300584 [11:55<5:35:51, 14.49it/s]"
     ]
    },
    {
     "name": "stdout",
     "output_type": "stream",
     "text": [
      "배치 25 저장 완료 - 1002개\n"
     ]
    },
    {
     "name": "stderr",
     "output_type": "stream",
     "text": [
      "MFCC 추출 및 증강:   3%|▎         | 9020/300584 [12:22<4:54:02, 16.53it/s]"
     ]
    },
    {
     "name": "stdout",
     "output_type": "stream",
     "text": [
      "배치 26 저장 완료 - 1002개\n"
     ]
    },
    {
     "name": "stderr",
     "output_type": "stream",
     "text": [
      "MFCC 추출 및 증강:   3%|▎         | 9354/300584 [12:48<7:11:23, 11.25it/s]"
     ]
    },
    {
     "name": "stdout",
     "output_type": "stream",
     "text": [
      "배치 27 저장 완료 - 1002개\n"
     ]
    },
    {
     "name": "stderr",
     "output_type": "stream",
     "text": [
      "MFCC 추출 및 증강:   3%|▎         | 9689/300584 [13:14<5:33:36, 14.53it/s]"
     ]
    },
    {
     "name": "stdout",
     "output_type": "stream",
     "text": [
      "배치 28 저장 완료 - 1002개\n"
     ]
    },
    {
     "name": "stderr",
     "output_type": "stream",
     "text": [
      "MFCC 추출 및 증강:   3%|▎         | 10022/300584 [13:41<6:44:33, 11.97it/s]"
     ]
    },
    {
     "name": "stdout",
     "output_type": "stream",
     "text": [
      "배치 29 저장 완료 - 1002개\n"
     ]
    },
    {
     "name": "stderr",
     "output_type": "stream",
     "text": [
      "MFCC 추출 및 증강:   3%|▎         | 10357/300584 [14:08<6:08:25, 13.13it/s]"
     ]
    },
    {
     "name": "stdout",
     "output_type": "stream",
     "text": [
      "배치 30 저장 완료 - 1002개\n"
     ]
    },
    {
     "name": "stderr",
     "output_type": "stream",
     "text": [
      "MFCC 추출 및 증강:   4%|▎         | 10689/300584 [14:34<6:47:13, 11.86it/s]"
     ]
    },
    {
     "name": "stdout",
     "output_type": "stream",
     "text": [
      "배치 31 저장 완료 - 1002개\n"
     ]
    },
    {
     "name": "stderr",
     "output_type": "stream",
     "text": [
      "MFCC 추출 및 증강:   4%|▎         | 11023/300584 [15:00<6:32:27, 12.30it/s]"
     ]
    },
    {
     "name": "stdout",
     "output_type": "stream",
     "text": [
      "배치 32 저장 완료 - 1002개\n"
     ]
    },
    {
     "name": "stderr",
     "output_type": "stream",
     "text": [
      "MFCC 추출 및 증강:   4%|▍         | 11357/300584 [15:27<6:18:30, 12.74it/s]"
     ]
    },
    {
     "name": "stdout",
     "output_type": "stream",
     "text": [
      "배치 33 저장 완료 - 1002개\n"
     ]
    },
    {
     "name": "stderr",
     "output_type": "stream",
     "text": [
      "MFCC 추출 및 증강:   4%|▍         | 11693/300584 [15:55<7:05:06, 11.33it/s]"
     ]
    },
    {
     "name": "stdout",
     "output_type": "stream",
     "text": [
      "배치 34 저장 완료 - 1002개\n"
     ]
    },
    {
     "name": "stderr",
     "output_type": "stream",
     "text": [
      "MFCC 추출 및 증강:   4%|▍         | 12024/300584 [16:23<6:30:57, 12.30it/s]"
     ]
    },
    {
     "name": "stdout",
     "output_type": "stream",
     "text": [
      "배치 35 저장 완료 - 1002개\n"
     ]
    },
    {
     "name": "stderr",
     "output_type": "stream",
     "text": [
      "MFCC 추출 및 증강:   4%|▍         | 12360/300584 [16:51<6:31:45, 12.26it/s]"
     ]
    },
    {
     "name": "stdout",
     "output_type": "stream",
     "text": [
      "배치 36 저장 완료 - 1002개\n"
     ]
    },
    {
     "name": "stderr",
     "output_type": "stream",
     "text": [
      "MFCC 추출 및 증강:   4%|▍         | 12693/300584 [17:17<6:25:28, 12.45it/s]"
     ]
    },
    {
     "name": "stdout",
     "output_type": "stream",
     "text": [
      "배치 37 저장 완료 - 1002개\n"
     ]
    },
    {
     "name": "stderr",
     "output_type": "stream",
     "text": [
      "MFCC 추출 및 증강:   4%|▍         | 13027/300584 [17:44<8:38:10,  9.25it/s]"
     ]
    },
    {
     "name": "stdout",
     "output_type": "stream",
     "text": [
      "배치 38 저장 완료 - 1002개\n"
     ]
    },
    {
     "name": "stderr",
     "output_type": "stream",
     "text": [
      "MFCC 추출 및 증강:   4%|▍         | 13362/300584 [18:11<6:04:20, 13.14it/s]"
     ]
    },
    {
     "name": "stdout",
     "output_type": "stream",
     "text": [
      "배치 39 저장 완료 - 1002개\n"
     ]
    },
    {
     "name": "stderr",
     "output_type": "stream",
     "text": [
      "MFCC 추출 및 증강:   5%|▍         | 13696/300584 [18:39<7:36:52, 10.47it/s]"
     ]
    },
    {
     "name": "stdout",
     "output_type": "stream",
     "text": [
      "배치 40 저장 완료 - 1002개\n"
     ]
    },
    {
     "name": "stderr",
     "output_type": "stream",
     "text": [
      "MFCC 추출 및 증강:   5%|▍         | 14029/300584 [19:06<7:31:44, 10.57it/s]"
     ]
    },
    {
     "name": "stdout",
     "output_type": "stream",
     "text": [
      "배치 41 저장 완료 - 1002개\n"
     ]
    },
    {
     "name": "stderr",
     "output_type": "stream",
     "text": [
      "MFCC 추출 및 증강:   5%|▍         | 14363/300584 [19:33<6:59:13, 11.38it/s]"
     ]
    },
    {
     "name": "stdout",
     "output_type": "stream",
     "text": [
      "배치 42 저장 완료 - 1002개\n"
     ]
    },
    {
     "name": "stderr",
     "output_type": "stream",
     "text": [
      "MFCC 추출 및 증강:   5%|▍         | 14699/300584 [20:01<6:29:44, 12.23it/s]"
     ]
    },
    {
     "name": "stdout",
     "output_type": "stream",
     "text": [
      "배치 43 저장 완료 - 1002개\n"
     ]
    },
    {
     "name": "stderr",
     "output_type": "stream",
     "text": [
      "MFCC 추출 및 증강:   5%|▌         | 15031/300584 [20:29<7:42:30, 10.29it/s]"
     ]
    },
    {
     "name": "stdout",
     "output_type": "stream",
     "text": [
      "배치 44 저장 완료 - 1002개\n"
     ]
    },
    {
     "name": "stderr",
     "output_type": "stream",
     "text": [
      "MFCC 추출 및 증강:   5%|▌         | 15364/300584 [20:57<6:24:02, 12.38it/s]"
     ]
    },
    {
     "name": "stdout",
     "output_type": "stream",
     "text": [
      "배치 45 저장 완료 - 1002개\n"
     ]
    },
    {
     "name": "stderr",
     "output_type": "stream",
     "text": [
      "MFCC 추출 및 증강:   5%|▌         | 15698/300584 [21:24<6:33:22, 12.07it/s]"
     ]
    },
    {
     "name": "stdout",
     "output_type": "stream",
     "text": [
      "배치 46 저장 완료 - 1002개\n"
     ]
    },
    {
     "name": "stderr",
     "output_type": "stream",
     "text": [
      "MFCC 추출 및 증강:   5%|▌         | 16034/300584 [21:51<5:45:14, 13.74it/s]"
     ]
    },
    {
     "name": "stdout",
     "output_type": "stream",
     "text": [
      "배치 47 저장 완료 - 1002개\n"
     ]
    },
    {
     "name": "stderr",
     "output_type": "stream",
     "text": [
      "MFCC 추출 및 증강:   5%|▌         | 16368/300584 [22:18<6:55:04, 11.41it/s]"
     ]
    },
    {
     "name": "stdout",
     "output_type": "stream",
     "text": [
      "배치 48 저장 완료 - 1002개\n"
     ]
    },
    {
     "name": "stderr",
     "output_type": "stream",
     "text": [
      "MFCC 추출 및 증강:   6%|▌         | 16701/300584 [22:47<6:55:37, 11.38it/s]"
     ]
    },
    {
     "name": "stdout",
     "output_type": "stream",
     "text": [
      "배치 49 저장 완료 - 1002개\n"
     ]
    },
    {
     "name": "stderr",
     "output_type": "stream",
     "text": [
      "MFCC 추출 및 증강:   6%|▌         | 17034/300584 [23:16<7:40:21, 10.27it/s]"
     ]
    },
    {
     "name": "stdout",
     "output_type": "stream",
     "text": [
      "배치 50 저장 완료 - 1002개\n"
     ]
    },
    {
     "name": "stderr",
     "output_type": "stream",
     "text": [
      "MFCC 추출 및 증강:   6%|▌         | 17370/300584 [23:43<7:05:24, 11.10it/s]"
     ]
    },
    {
     "name": "stdout",
     "output_type": "stream",
     "text": [
      "배치 51 저장 완료 - 1002개\n"
     ]
    },
    {
     "name": "stderr",
     "output_type": "stream",
     "text": [
      "MFCC 추출 및 증강:   6%|▌         | 17703/300584 [24:09<7:04:26, 11.11it/s]"
     ]
    },
    {
     "name": "stdout",
     "output_type": "stream",
     "text": [
      "배치 52 저장 완료 - 1002개\n"
     ]
    },
    {
     "name": "stderr",
     "output_type": "stream",
     "text": [
      "MFCC 추출 및 증강:   6%|▌         | 18037/300584 [24:39<6:26:37, 12.18it/s]"
     ]
    },
    {
     "name": "stdout",
     "output_type": "stream",
     "text": [
      "배치 53 저장 완료 - 1002개\n"
     ]
    },
    {
     "name": "stderr",
     "output_type": "stream",
     "text": [
      "MFCC 추출 및 증강:   6%|▌         | 18371/300584 [25:08<8:10:08,  9.60it/s]"
     ]
    },
    {
     "name": "stdout",
     "output_type": "stream",
     "text": [
      "배치 54 저장 완료 - 1002개\n"
     ]
    },
    {
     "name": "stderr",
     "output_type": "stream",
     "text": [
      "MFCC 추출 및 증강:   6%|▌         | 18706/300584 [25:34<5:56:39, 13.17it/s]"
     ]
    },
    {
     "name": "stdout",
     "output_type": "stream",
     "text": [
      "배치 55 저장 완료 - 1002개\n"
     ]
    },
    {
     "name": "stderr",
     "output_type": "stream",
     "text": [
      "MFCC 추출 및 증강:   6%|▋         | 19039/300584 [26:03<6:39:39, 11.74it/s]"
     ]
    },
    {
     "name": "stdout",
     "output_type": "stream",
     "text": [
      "배치 56 저장 완료 - 1002개\n"
     ]
    },
    {
     "name": "stderr",
     "output_type": "stream",
     "text": [
      "MFCC 추출 및 증강:   6%|▋         | 19374/300584 [26:30<7:01:24, 11.12it/s]"
     ]
    },
    {
     "name": "stdout",
     "output_type": "stream",
     "text": [
      "배치 57 저장 완료 - 1002개\n"
     ]
    },
    {
     "name": "stderr",
     "output_type": "stream",
     "text": [
      "MFCC 추출 및 증강:   7%|▋         | 19707/300584 [26:58<5:38:40, 13.82it/s]"
     ]
    },
    {
     "name": "stdout",
     "output_type": "stream",
     "text": [
      "배치 58 저장 완료 - 1002개\n"
     ]
    },
    {
     "name": "stderr",
     "output_type": "stream",
     "text": [
      "MFCC 추출 및 증강:   7%|▋         | 20041/300584 [27:25<6:55:44, 11.25it/s]"
     ]
    },
    {
     "name": "stdout",
     "output_type": "stream",
     "text": [
      "배치 59 저장 완료 - 1002개\n"
     ]
    },
    {
     "name": "stderr",
     "output_type": "stream",
     "text": [
      "MFCC 추출 및 증강:   7%|▋         | 20375/300584 [27:52<9:08:28,  8.51it/s] "
     ]
    },
    {
     "name": "stdout",
     "output_type": "stream",
     "text": [
      "배치 60 저장 완료 - 1002개\n"
     ]
    },
    {
     "name": "stderr",
     "output_type": "stream",
     "text": [
      "MFCC 추출 및 증강:   7%|▋         | 20708/300584 [28:24<11:21:42,  6.84it/s]"
     ]
    },
    {
     "name": "stdout",
     "output_type": "stream",
     "text": [
      "배치 61 저장 완료 - 1002개\n"
     ]
    },
    {
     "name": "stderr",
     "output_type": "stream",
     "text": [
      "MFCC 추출 및 증강:   7%|▋         | 21043/300584 [28:53<6:35:56, 11.77it/s] "
     ]
    },
    {
     "name": "stdout",
     "output_type": "stream",
     "text": [
      "배치 62 저장 완료 - 1002개\n"
     ]
    },
    {
     "name": "stderr",
     "output_type": "stream",
     "text": [
      "MFCC 추출 및 증강:   7%|▋         | 21378/300584 [29:20<6:21:37, 12.19it/s]"
     ]
    },
    {
     "name": "stdout",
     "output_type": "stream",
     "text": [
      "배치 63 저장 완료 - 1002개\n"
     ]
    },
    {
     "name": "stderr",
     "output_type": "stream",
     "text": [
      "MFCC 추출 및 증강:   7%|▋         | 21713/300584 [29:45<5:36:24, 13.82it/s]"
     ]
    },
    {
     "name": "stdout",
     "output_type": "stream",
     "text": [
      "배치 64 저장 완료 - 1002개\n"
     ]
    },
    {
     "name": "stderr",
     "output_type": "stream",
     "text": [
      "MFCC 추출 및 증강:   7%|▋         | 22047/300584 [30:11<5:27:02, 14.20it/s]"
     ]
    },
    {
     "name": "stdout",
     "output_type": "stream",
     "text": [
      "배치 65 저장 완료 - 1002개\n"
     ]
    },
    {
     "name": "stderr",
     "output_type": "stream",
     "text": [
      "MFCC 추출 및 증강:   7%|▋         | 22381/300584 [30:38<6:23:49, 12.08it/s]"
     ]
    },
    {
     "name": "stdout",
     "output_type": "stream",
     "text": [
      "배치 66 저장 완료 - 1002개\n"
     ]
    },
    {
     "name": "stderr",
     "output_type": "stream",
     "text": [
      "MFCC 추출 및 증강:   8%|▊         | 22715/300584 [31:03<6:10:05, 12.51it/s]"
     ]
    },
    {
     "name": "stdout",
     "output_type": "stream",
     "text": [
      "배치 67 저장 완료 - 1002개\n"
     ]
    },
    {
     "name": "stderr",
     "output_type": "stream",
     "text": [
      "MFCC 추출 및 증강:   8%|▊         | 23048/300584 [31:31<6:14:15, 12.36it/s]"
     ]
    },
    {
     "name": "stdout",
     "output_type": "stream",
     "text": [
      "배치 68 저장 완료 - 1002개\n"
     ]
    },
    {
     "name": "stderr",
     "output_type": "stream",
     "text": [
      "MFCC 추출 및 증강:   8%|▊         | 23382/300584 [31:59<7:04:44, 10.88it/s]"
     ]
    },
    {
     "name": "stdout",
     "output_type": "stream",
     "text": [
      "배치 69 저장 완료 - 1002개\n"
     ]
    },
    {
     "name": "stderr",
     "output_type": "stream",
     "text": [
      "MFCC 추출 및 증강:   8%|▊         | 23716/300584 [32:25<6:20:27, 12.13it/s] "
     ]
    },
    {
     "name": "stdout",
     "output_type": "stream",
     "text": [
      "배치 70 저장 완료 - 1002개\n"
     ]
    },
    {
     "name": "stderr",
     "output_type": "stream",
     "text": [
      "MFCC 추출 및 증강:   8%|▊         | 24050/300584 [32:52<5:44:22, 13.38it/s]"
     ]
    },
    {
     "name": "stdout",
     "output_type": "stream",
     "text": [
      "배치 71 저장 완료 - 1002개\n"
     ]
    },
    {
     "name": "stderr",
     "output_type": "stream",
     "text": [
      "MFCC 추출 및 증강:   8%|▊         | 24383/300584 [33:19<6:53:25, 11.13it/s]"
     ]
    },
    {
     "name": "stdout",
     "output_type": "stream",
     "text": [
      "배치 72 저장 완료 - 1002개\n"
     ]
    },
    {
     "name": "stderr",
     "output_type": "stream",
     "text": [
      "MFCC 추출 및 증강:   8%|▊         | 24719/300584 [33:45<5:48:29, 13.19it/s]"
     ]
    },
    {
     "name": "stdout",
     "output_type": "stream",
     "text": [
      "배치 73 저장 완료 - 1002개\n"
     ]
    },
    {
     "name": "stderr",
     "output_type": "stream",
     "text": [
      "MFCC 추출 및 증강:   8%|▊         | 25051/300584 [34:12<7:25:22, 10.31it/s]"
     ]
    },
    {
     "name": "stdout",
     "output_type": "stream",
     "text": [
      "배치 74 저장 완료 - 1002개\n"
     ]
    },
    {
     "name": "stderr",
     "output_type": "stream",
     "text": [
      "MFCC 추출 및 증강:   8%|▊         | 25386/300584 [34:40<5:18:55, 14.38it/s]"
     ]
    },
    {
     "name": "stdout",
     "output_type": "stream",
     "text": [
      "배치 75 저장 완료 - 1002개\n"
     ]
    },
    {
     "name": "stderr",
     "output_type": "stream",
     "text": [
      "MFCC 추출 및 증강:   9%|▊         | 25719/300584 [35:07<6:28:26, 11.79it/s]"
     ]
    },
    {
     "name": "stdout",
     "output_type": "stream",
     "text": [
      "배치 76 저장 완료 - 1002개\n"
     ]
    },
    {
     "name": "stderr",
     "output_type": "stream",
     "text": [
      "MFCC 추출 및 증강:   9%|▊         | 26053/300584 [35:34<7:16:49, 10.47it/s]"
     ]
    },
    {
     "name": "stdout",
     "output_type": "stream",
     "text": [
      "배치 77 저장 완료 - 1002개\n"
     ]
    },
    {
     "name": "stderr",
     "output_type": "stream",
     "text": [
      "MFCC 추출 및 증강:   9%|▉         | 26386/300584 [36:04<6:30:50, 11.69it/s] "
     ]
    },
    {
     "name": "stdout",
     "output_type": "stream",
     "text": [
      "배치 78 저장 완료 - 1002개\n"
     ]
    },
    {
     "name": "stderr",
     "output_type": "stream",
     "text": [
      "MFCC 추출 및 증강:   9%|▉         | 26723/300584 [36:30<5:33:30, 13.69it/s]"
     ]
    },
    {
     "name": "stdout",
     "output_type": "stream",
     "text": [
      "배치 79 저장 완료 - 1002개\n"
     ]
    },
    {
     "name": "stderr",
     "output_type": "stream",
     "text": [
      "MFCC 추출 및 증강:   9%|▉         | 27054/300584 [36:58<8:05:43,  9.39it/s]"
     ]
    },
    {
     "name": "stdout",
     "output_type": "stream",
     "text": [
      "배치 80 저장 완료 - 1002개\n"
     ]
    },
    {
     "name": "stderr",
     "output_type": "stream",
     "text": [
      "MFCC 추출 및 증강:   9%|▉         | 27389/300584 [37:29<8:02:09,  9.44it/s] "
     ]
    },
    {
     "name": "stdout",
     "output_type": "stream",
     "text": [
      "배치 81 저장 완료 - 1002개\n"
     ]
    },
    {
     "name": "stderr",
     "output_type": "stream",
     "text": [
      "MFCC 추출 및 증강:   9%|▉         | 27725/300584 [37:55<6:48:43, 11.13it/s]"
     ]
    },
    {
     "name": "stdout",
     "output_type": "stream",
     "text": [
      "배치 82 저장 완료 - 1002개\n"
     ]
    },
    {
     "name": "stderr",
     "output_type": "stream",
     "text": [
      "MFCC 추출 및 증강:   9%|▉         | 28058/300584 [38:21<5:41:57, 13.28it/s]"
     ]
    },
    {
     "name": "stdout",
     "output_type": "stream",
     "text": [
      "배치 83 저장 완료 - 1002개\n"
     ]
    },
    {
     "name": "stderr",
     "output_type": "stream",
     "text": [
      "MFCC 추출 및 증강:   9%|▉         | 28392/300584 [38:47<6:44:39, 11.21it/s]"
     ]
    },
    {
     "name": "stdout",
     "output_type": "stream",
     "text": [
      "배치 84 저장 완료 - 1002개\n"
     ]
    },
    {
     "name": "stderr",
     "output_type": "stream",
     "text": [
      "MFCC 추출 및 증강:  10%|▉         | 28725/300584 [39:13<5:37:48, 13.41it/s]"
     ]
    },
    {
     "name": "stdout",
     "output_type": "stream",
     "text": [
      "배치 85 저장 완료 - 1002개\n"
     ]
    },
    {
     "name": "stderr",
     "output_type": "stream",
     "text": [
      "MFCC 추출 및 증강:  10%|▉         | 29059/300584 [39:40<5:58:31, 12.62it/s]"
     ]
    },
    {
     "name": "stdout",
     "output_type": "stream",
     "text": [
      "배치 86 저장 완료 - 1002개\n"
     ]
    },
    {
     "name": "stderr",
     "output_type": "stream",
     "text": [
      "MFCC 추출 및 증강:  10%|▉         | 29395/300584 [40:07<5:41:57, 13.22it/s]"
     ]
    },
    {
     "name": "stdout",
     "output_type": "stream",
     "text": [
      "배치 87 저장 완료 - 1002개\n"
     ]
    },
    {
     "name": "stderr",
     "output_type": "stream",
     "text": [
      "MFCC 추출 및 증강:  10%|▉         | 29727/300584 [40:33<6:23:40, 11.77it/s]"
     ]
    },
    {
     "name": "stdout",
     "output_type": "stream",
     "text": [
      "배치 88 저장 완료 - 1002개\n"
     ]
    },
    {
     "name": "stderr",
     "output_type": "stream",
     "text": [
      "MFCC 추출 및 증강:  10%|█         | 30062/300584 [40:59<5:44:52, 13.07it/s]"
     ]
    },
    {
     "name": "stdout",
     "output_type": "stream",
     "text": [
      "배치 89 저장 완료 - 1002개\n"
     ]
    },
    {
     "name": "stderr",
     "output_type": "stream",
     "text": [
      "MFCC 추출 및 증강:  10%|█         | 30395/300584 [41:27<8:33:38,  8.77it/s]"
     ]
    },
    {
     "name": "stdout",
     "output_type": "stream",
     "text": [
      "배치 90 저장 완료 - 1002개\n"
     ]
    },
    {
     "name": "stderr",
     "output_type": "stream",
     "text": [
      "MFCC 추출 및 증강:  10%|█         | 30728/300584 [41:58<6:32:35, 11.46it/s] "
     ]
    },
    {
     "name": "stdout",
     "output_type": "stream",
     "text": [
      "배치 91 저장 완료 - 1002개\n"
     ]
    },
    {
     "name": "stderr",
     "output_type": "stream",
     "text": [
      "MFCC 추출 및 증강:  10%|█         | 31062/300584 [42:26<8:10:57,  9.15it/s]"
     ]
    },
    {
     "name": "stdout",
     "output_type": "stream",
     "text": [
      "배치 92 저장 완료 - 1002개\n"
     ]
    },
    {
     "name": "stderr",
     "output_type": "stream",
     "text": [
      "MFCC 추출 및 증강:  10%|█         | 31397/300584 [42:56<8:03:38,  9.28it/s]"
     ]
    },
    {
     "name": "stdout",
     "output_type": "stream",
     "text": [
      "배치 93 저장 완료 - 1002개\n"
     ]
    },
    {
     "name": "stderr",
     "output_type": "stream",
     "text": [
      "MFCC 추출 및 증강:  11%|█         | 31732/300584 [43:26<7:46:42,  9.60it/s]"
     ]
    },
    {
     "name": "stdout",
     "output_type": "stream",
     "text": [
      "배치 94 저장 완료 - 1002개\n"
     ]
    },
    {
     "name": "stderr",
     "output_type": "stream",
     "text": [
      "MFCC 추출 및 증강:  11%|█         | 32064/300584 [43:54<7:16:46, 10.25it/s]"
     ]
    },
    {
     "name": "stdout",
     "output_type": "stream",
     "text": [
      "배치 95 저장 완료 - 1002개\n"
     ]
    },
    {
     "name": "stderr",
     "output_type": "stream",
     "text": [
      "MFCC 추출 및 증강:  11%|█         | 32401/300584 [44:22<5:59:09, 12.45it/s]"
     ]
    },
    {
     "name": "stdout",
     "output_type": "stream",
     "text": [
      "배치 96 저장 완료 - 1002개\n"
     ]
    },
    {
     "name": "stderr",
     "output_type": "stream",
     "text": [
      "MFCC 추출 및 증강:  11%|█         | 32732/300584 [44:49<6:10:44, 12.04it/s]"
     ]
    },
    {
     "name": "stdout",
     "output_type": "stream",
     "text": [
      "배치 97 저장 완료 - 1002개\n"
     ]
    },
    {
     "name": "stderr",
     "output_type": "stream",
     "text": [
      "MFCC 추출 및 증강:  11%|█         | 33068/300584 [45:18<6:16:20, 11.85it/s]"
     ]
    },
    {
     "name": "stdout",
     "output_type": "stream",
     "text": [
      "배치 98 저장 완료 - 1002개\n"
     ]
    },
    {
     "name": "stderr",
     "output_type": "stream",
     "text": [
      "MFCC 추출 및 증강:  11%|█         | 33401/300584 [45:46<7:26:32,  9.97it/s]"
     ]
    },
    {
     "name": "stdout",
     "output_type": "stream",
     "text": [
      "배치 99 저장 완료 - 1002개\n"
     ]
    },
    {
     "name": "stderr",
     "output_type": "stream",
     "text": [
      "MFCC 추출 및 증강:  11%|█         | 33736/300584 [46:15<5:53:52, 12.57it/s]"
     ]
    },
    {
     "name": "stdout",
     "output_type": "stream",
     "text": [
      "배치 100 저장 완료 - 1002개\n"
     ]
    },
    {
     "name": "stderr",
     "output_type": "stream",
     "text": [
      "MFCC 추출 및 증강:  11%|█▏        | 34070/300584 [46:43<6:17:56, 11.75it/s]"
     ]
    },
    {
     "name": "stdout",
     "output_type": "stream",
     "text": [
      "배치 101 저장 완료 - 1002개\n"
     ]
    },
    {
     "name": "stderr",
     "output_type": "stream",
     "text": [
      "MFCC 추출 및 증강:  11%|█▏        | 34403/300584 [47:10<6:59:45, 10.57it/s]"
     ]
    },
    {
     "name": "stdout",
     "output_type": "stream",
     "text": [
      "배치 102 저장 완료 - 1002개\n"
     ]
    },
    {
     "name": "stderr",
     "output_type": "stream",
     "text": [
      "MFCC 추출 및 증강:  12%|█▏        | 34738/300584 [47:37<7:14:55, 10.19it/s]"
     ]
    },
    {
     "name": "stdout",
     "output_type": "stream",
     "text": [
      "배치 103 저장 완료 - 1002개\n"
     ]
    },
    {
     "name": "stderr",
     "output_type": "stream",
     "text": [
      "MFCC 추출 및 증강:  12%|█▏        | 35073/300584 [48:05<6:38:47, 11.10it/s]"
     ]
    },
    {
     "name": "stdout",
     "output_type": "stream",
     "text": [
      "배치 104 저장 완료 - 1002개\n"
     ]
    },
    {
     "name": "stderr",
     "output_type": "stream",
     "text": [
      "MFCC 추출 및 증강:  12%|█▏        | 35404/300584 [48:32<5:53:39, 12.50it/s]"
     ]
    },
    {
     "name": "stdout",
     "output_type": "stream",
     "text": [
      "배치 105 저장 완료 - 1002개\n"
     ]
    },
    {
     "name": "stderr",
     "output_type": "stream",
     "text": [
      "MFCC 추출 및 증강:  12%|█▏        | 35739/300584 [49:00<6:34:12, 11.20it/s] "
     ]
    },
    {
     "name": "stdout",
     "output_type": "stream",
     "text": [
      "배치 106 저장 완료 - 1002개\n"
     ]
    },
    {
     "name": "stderr",
     "output_type": "stream",
     "text": [
      "MFCC 추출 및 증강:  12%|█▏        | 36073/300584 [49:28<7:33:03,  9.73it/s]"
     ]
    },
    {
     "name": "stdout",
     "output_type": "stream",
     "text": [
      "배치 107 저장 완료 - 1002개\n"
     ]
    },
    {
     "name": "stderr",
     "output_type": "stream",
     "text": [
      "MFCC 추출 및 증강:  12%|█▏        | 36408/300584 [49:56<6:51:10, 10.71it/s]"
     ]
    },
    {
     "name": "stdout",
     "output_type": "stream",
     "text": [
      "배치 108 저장 완료 - 1002개\n"
     ]
    },
    {
     "name": "stderr",
     "output_type": "stream",
     "text": [
      "MFCC 추출 및 증강:  12%|█▏        | 36742/300584 [50:25<7:42:21,  9.51it/s]"
     ]
    },
    {
     "name": "stdout",
     "output_type": "stream",
     "text": [
      "배치 109 저장 완료 - 1002개\n"
     ]
    },
    {
     "name": "stderr",
     "output_type": "stream",
     "text": [
      "MFCC 추출 및 증강:  12%|█▏        | 37077/300584 [50:53<6:37:57, 11.04it/s]"
     ]
    },
    {
     "name": "stdout",
     "output_type": "stream",
     "text": [
      "배치 110 저장 완료 - 1002개\n"
     ]
    },
    {
     "name": "stderr",
     "output_type": "stream",
     "text": [
      "MFCC 추출 및 증강:  12%|█▏        | 37410/300584 [51:24<7:01:46, 10.40it/s]"
     ]
    },
    {
     "name": "stdout",
     "output_type": "stream",
     "text": [
      "배치 111 저장 완료 - 1002개\n"
     ]
    },
    {
     "name": "stderr",
     "output_type": "stream",
     "text": [
      "MFCC 추출 및 증강:  13%|█▎        | 37744/300584 [51:53<6:54:57, 10.56it/s]"
     ]
    },
    {
     "name": "stdout",
     "output_type": "stream",
     "text": [
      "배치 112 저장 완료 - 1002개\n"
     ]
    },
    {
     "name": "stderr",
     "output_type": "stream",
     "text": [
      "MFCC 추출 및 증강:  13%|█▎        | 38077/300584 [52:21<6:13:23, 11.72it/s]"
     ]
    },
    {
     "name": "stdout",
     "output_type": "stream",
     "text": [
      "배치 113 저장 완료 - 1002개\n"
     ]
    },
    {
     "name": "stderr",
     "output_type": "stream",
     "text": [
      "MFCC 추출 및 증강:  13%|█▎        | 38412/300584 [52:49<8:07:04,  8.97it/s]"
     ]
    },
    {
     "name": "stdout",
     "output_type": "stream",
     "text": [
      "배치 114 저장 완료 - 1002개\n"
     ]
    },
    {
     "name": "stderr",
     "output_type": "stream",
     "text": [
      "MFCC 추출 및 증강:  13%|█▎        | 38747/300584 [53:18<6:17:29, 11.56it/s]"
     ]
    },
    {
     "name": "stdout",
     "output_type": "stream",
     "text": [
      "배치 115 저장 완료 - 1002개\n"
     ]
    },
    {
     "name": "stderr",
     "output_type": "stream",
     "text": [
      "MFCC 추출 및 증강:  13%|█▎        | 39079/300584 [53:45<8:45:32,  8.29it/s]"
     ]
    },
    {
     "name": "stdout",
     "output_type": "stream",
     "text": [
      "배치 116 저장 완료 - 1002개\n"
     ]
    },
    {
     "name": "stderr",
     "output_type": "stream",
     "text": [
      "MFCC 추출 및 증강:  13%|█▎        | 39413/300584 [54:11<6:43:02, 10.80it/s]"
     ]
    },
    {
     "name": "stdout",
     "output_type": "stream",
     "text": [
      "배치 117 저장 완료 - 1002개\n"
     ]
    },
    {
     "name": "stderr",
     "output_type": "stream",
     "text": [
      "MFCC 추출 및 증강:  13%|█▎        | 39748/300584 [54:35<6:34:44, 11.01it/s]"
     ]
    },
    {
     "name": "stdout",
     "output_type": "stream",
     "text": [
      "배치 118 저장 완료 - 1002개\n"
     ]
    },
    {
     "name": "stderr",
     "output_type": "stream",
     "text": [
      "MFCC 추출 및 증강:  13%|█▎        | 40082/300584 [55:01<5:41:57, 12.70it/s]"
     ]
    },
    {
     "name": "stdout",
     "output_type": "stream",
     "text": [
      "배치 119 저장 완료 - 1002개\n"
     ]
    },
    {
     "name": "stderr",
     "output_type": "stream",
     "text": [
      "MFCC 추출 및 증강:  13%|█▎        | 40416/300584 [55:25<6:54:30, 10.46it/s]"
     ]
    },
    {
     "name": "stdout",
     "output_type": "stream",
     "text": [
      "배치 120 저장 완료 - 1002개\n"
     ]
    },
    {
     "name": "stderr",
     "output_type": "stream",
     "text": [
      "MFCC 추출 및 증강:  14%|█▎        | 40749/300584 [55:53<6:15:25, 11.54it/s] "
     ]
    },
    {
     "name": "stdout",
     "output_type": "stream",
     "text": [
      "배치 121 저장 완료 - 1002개\n"
     ]
    },
    {
     "name": "stderr",
     "output_type": "stream",
     "text": [
      "MFCC 추출 및 증강:  14%|█▎        | 41085/300584 [56:20<5:37:39, 12.81it/s]"
     ]
    },
    {
     "name": "stdout",
     "output_type": "stream",
     "text": [
      "배치 122 저장 완료 - 1002개\n"
     ]
    },
    {
     "name": "stderr",
     "output_type": "stream",
     "text": [
      "MFCC 추출 및 증강:  14%|█▍        | 41419/300584 [56:47<6:52:00, 10.48it/s]"
     ]
    },
    {
     "name": "stdout",
     "output_type": "stream",
     "text": [
      "배치 123 저장 완료 - 1002개\n"
     ]
    },
    {
     "name": "stderr",
     "output_type": "stream",
     "text": [
      "MFCC 추출 및 증강:  14%|█▍        | 41751/300584 [57:12<6:04:29, 11.84it/s]"
     ]
    },
    {
     "name": "stdout",
     "output_type": "stream",
     "text": [
      "배치 124 저장 완료 - 1002개\n"
     ]
    },
    {
     "name": "stderr",
     "output_type": "stream",
     "text": [
      "MFCC 추출 및 증강:  14%|█▍        | 42085/300584 [57:38<7:05:15, 10.13it/s]"
     ]
    },
    {
     "name": "stdout",
     "output_type": "stream",
     "text": [
      "배치 125 저장 완료 - 1002개\n"
     ]
    },
    {
     "name": "stderr",
     "output_type": "stream",
     "text": [
      "MFCC 추출 및 증강:  14%|█▍        | 42420/300584 [58:03<6:33:10, 10.94it/s]"
     ]
    },
    {
     "name": "stdout",
     "output_type": "stream",
     "text": [
      "배치 126 저장 완료 - 1002개\n"
     ]
    },
    {
     "name": "stderr",
     "output_type": "stream",
     "text": [
      "MFCC 추출 및 증강:  14%|█▍        | 42754/300584 [58:29<6:14:19, 11.48it/s]"
     ]
    },
    {
     "name": "stdout",
     "output_type": "stream",
     "text": [
      "배치 127 저장 완료 - 1002개\n"
     ]
    },
    {
     "name": "stderr",
     "output_type": "stream",
     "text": [
      "MFCC 추출 및 증강:  14%|█▍        | 43088/300584 [58:58<7:13:24,  9.90it/s]"
     ]
    },
    {
     "name": "stdout",
     "output_type": "stream",
     "text": [
      "배치 128 저장 완료 - 1002개\n"
     ]
    },
    {
     "name": "stderr",
     "output_type": "stream",
     "text": [
      "MFCC 추출 및 증강:  14%|█▍        | 43422/300584 [59:27<6:35:31, 10.84it/s]"
     ]
    },
    {
     "name": "stdout",
     "output_type": "stream",
     "text": [
      "배치 129 저장 완료 - 1002개\n"
     ]
    },
    {
     "name": "stderr",
     "output_type": "stream",
     "text": [
      "MFCC 추출 및 증강:  15%|█▍        | 43758/300584 [59:53<5:46:19, 12.36it/s]"
     ]
    },
    {
     "name": "stdout",
     "output_type": "stream",
     "text": [
      "배치 130 저장 완료 - 1002개\n"
     ]
    },
    {
     "name": "stderr",
     "output_type": "stream",
     "text": [
      "MFCC 추출 및 증강:  15%|█▍        | 44089/300584 [1:00:23<7:26:08,  9.58it/s]"
     ]
    },
    {
     "name": "stdout",
     "output_type": "stream",
     "text": [
      "배치 131 저장 완료 - 1002개\n"
     ]
    },
    {
     "name": "stderr",
     "output_type": "stream",
     "text": [
      "MFCC 추출 및 증강:  15%|█▍        | 44423/300584 [1:00:54<7:04:34, 10.06it/s] "
     ]
    },
    {
     "name": "stdout",
     "output_type": "stream",
     "text": [
      "배치 132 저장 완료 - 1002개\n"
     ]
    },
    {
     "name": "stderr",
     "output_type": "stream",
     "text": [
      "MFCC 추출 및 증강:  15%|█▍        | 44757/300584 [1:01:28<9:09:55,  7.75it/s] "
     ]
    },
    {
     "name": "stdout",
     "output_type": "stream",
     "text": [
      "배치 133 저장 완료 - 1002개\n"
     ]
    },
    {
     "name": "stderr",
     "output_type": "stream",
     "text": [
      "MFCC 추출 및 증강:  15%|█▌        | 45092/300584 [1:02:04<6:15:40, 11.34it/s] "
     ]
    },
    {
     "name": "stdout",
     "output_type": "stream",
     "text": [
      "배치 134 저장 완료 - 1002개\n"
     ]
    },
    {
     "name": "stderr",
     "output_type": "stream",
     "text": [
      "MFCC 추출 및 증강:  15%|█▌        | 45424/300584 [1:02:36<13:53:21,  5.10it/s]"
     ]
    },
    {
     "name": "stdout",
     "output_type": "stream",
     "text": [
      "배치 135 저장 완료 - 1002개\n"
     ]
    },
    {
     "name": "stderr",
     "output_type": "stream",
     "text": [
      "MFCC 추출 및 증강:  15%|█▌        | 45759/300584 [1:03:16<9:04:47,  7.80it/s] "
     ]
    },
    {
     "name": "stdout",
     "output_type": "stream",
     "text": [
      "배치 136 저장 완료 - 1002개\n"
     ]
    },
    {
     "name": "stderr",
     "output_type": "stream",
     "text": [
      "MFCC 추출 및 증강:  15%|█▌        | 46093/300584 [1:03:47<6:46:32, 10.43it/s] "
     ]
    },
    {
     "name": "stdout",
     "output_type": "stream",
     "text": [
      "배치 137 저장 완료 - 1002개\n"
     ]
    },
    {
     "name": "stderr",
     "output_type": "stream",
     "text": [
      "MFCC 추출 및 증강:  15%|█▌        | 46426/300584 [1:04:20<6:45:12, 10.45it/s] "
     ]
    },
    {
     "name": "stdout",
     "output_type": "stream",
     "text": [
      "배치 138 저장 완료 - 1002개\n"
     ]
    },
    {
     "name": "stderr",
     "output_type": "stream",
     "text": [
      "MFCC 추출 및 증강:  16%|█▌        | 46760/300584 [1:04:54<7:23:27,  9.54it/s] "
     ]
    },
    {
     "name": "stdout",
     "output_type": "stream",
     "text": [
      "배치 139 저장 완료 - 1002개\n"
     ]
    },
    {
     "name": "stderr",
     "output_type": "stream",
     "text": [
      "MFCC 추출 및 증강:  16%|█▌        | 47096/300584 [1:05:25<6:48:10, 10.35it/s]"
     ]
    },
    {
     "name": "stdout",
     "output_type": "stream",
     "text": [
      "배치 140 저장 완료 - 1002개\n"
     ]
    },
    {
     "name": "stderr",
     "output_type": "stream",
     "text": [
      "MFCC 추출 및 증강:  16%|█▌        | 47431/300584 [1:05:56<6:27:59, 10.87it/s]"
     ]
    },
    {
     "name": "stdout",
     "output_type": "stream",
     "text": [
      "배치 141 저장 완료 - 1002개\n"
     ]
    },
    {
     "name": "stderr",
     "output_type": "stream",
     "text": [
      "MFCC 추출 및 증강:  16%|█▌        | 47763/300584 [1:06:22<6:02:19, 11.63it/s]"
     ]
    },
    {
     "name": "stdout",
     "output_type": "stream",
     "text": [
      "배치 142 저장 완료 - 1002개\n"
     ]
    },
    {
     "name": "stderr",
     "output_type": "stream",
     "text": [
      "MFCC 추출 및 증강:  16%|█▌        | 48099/300584 [1:06:50<5:00:54, 13.98it/s]"
     ]
    },
    {
     "name": "stdout",
     "output_type": "stream",
     "text": [
      "배치 143 저장 완료 - 1002개\n"
     ]
    },
    {
     "name": "stderr",
     "output_type": "stream",
     "text": [
      "MFCC 추출 및 증강:  16%|█▌        | 48432/300584 [1:07:17<5:43:21, 12.24it/s]"
     ]
    },
    {
     "name": "stdout",
     "output_type": "stream",
     "text": [
      "배치 144 저장 완료 - 1002개\n"
     ]
    },
    {
     "name": "stderr",
     "output_type": "stream",
     "text": [
      "MFCC 추출 및 증강:  16%|█▌        | 48766/300584 [1:07:43<5:45:38, 12.14it/s]"
     ]
    },
    {
     "name": "stdout",
     "output_type": "stream",
     "text": [
      "배치 145 저장 완료 - 1002개\n"
     ]
    },
    {
     "name": "stderr",
     "output_type": "stream",
     "text": [
      "MFCC 추출 및 증강:  16%|█▋        | 49100/300584 [1:08:09<6:57:47, 10.03it/s]"
     ]
    },
    {
     "name": "stdout",
     "output_type": "stream",
     "text": [
      "배치 146 저장 완료 - 1002개\n"
     ]
    },
    {
     "name": "stderr",
     "output_type": "stream",
     "text": [
      "MFCC 추출 및 증강:  16%|█▋        | 49434/300584 [1:08:37<6:23:28, 10.92it/s]"
     ]
    },
    {
     "name": "stdout",
     "output_type": "stream",
     "text": [
      "배치 147 저장 완료 - 1002개\n"
     ]
    },
    {
     "name": "stderr",
     "output_type": "stream",
     "text": [
      "MFCC 추출 및 증강:  17%|█▋        | 49768/300584 [1:09:04<6:40:14, 10.44it/s]"
     ]
    },
    {
     "name": "stdout",
     "output_type": "stream",
     "text": [
      "배치 148 저장 완료 - 1002개\n"
     ]
    },
    {
     "name": "stderr",
     "output_type": "stream",
     "text": [
      "MFCC 추출 및 증강:  17%|█▋        | 50102/300584 [1:09:33<6:23:46, 10.88it/s] "
     ]
    },
    {
     "name": "stdout",
     "output_type": "stream",
     "text": [
      "배치 149 저장 완료 - 1002개\n"
     ]
    },
    {
     "name": "stderr",
     "output_type": "stream",
     "text": [
      "MFCC 추출 및 증강:  17%|█▋        | 50435/300584 [1:10:00<5:48:35, 11.96it/s]"
     ]
    },
    {
     "name": "stdout",
     "output_type": "stream",
     "text": [
      "배치 150 저장 완료 - 1002개\n"
     ]
    },
    {
     "name": "stderr",
     "output_type": "stream",
     "text": [
      "MFCC 추출 및 증강:  17%|█▋        | 50770/300584 [1:10:29<5:57:33, 11.64it/s]"
     ]
    },
    {
     "name": "stdout",
     "output_type": "stream",
     "text": [
      "배치 151 저장 완료 - 1002개\n"
     ]
    },
    {
     "name": "stderr",
     "output_type": "stream",
     "text": [
      "MFCC 추출 및 증강:  17%|█▋        | 51104/300584 [1:10:59<6:21:36, 10.90it/s]"
     ]
    },
    {
     "name": "stdout",
     "output_type": "stream",
     "text": [
      "배치 152 저장 완료 - 1002개\n"
     ]
    },
    {
     "name": "stderr",
     "output_type": "stream",
     "text": [
      "MFCC 추출 및 증강:  17%|█▋        | 51439/300584 [1:11:29<5:59:10, 11.56it/s]"
     ]
    },
    {
     "name": "stdout",
     "output_type": "stream",
     "text": [
      "배치 153 저장 완료 - 1002개\n"
     ]
    },
    {
     "name": "stderr",
     "output_type": "stream",
     "text": [
      "MFCC 추출 및 증강:  17%|█▋        | 51772/300584 [1:11:56<7:16:43,  9.50it/s]"
     ]
    },
    {
     "name": "stdout",
     "output_type": "stream",
     "text": [
      "배치 154 저장 완료 - 1002개\n"
     ]
    },
    {
     "name": "stderr",
     "output_type": "stream",
     "text": [
      "MFCC 추출 및 증강:  17%|█▋        | 52106/300584 [1:12:25<6:47:22, 10.17it/s]"
     ]
    },
    {
     "name": "stdout",
     "output_type": "stream",
     "text": [
      "배치 155 저장 완료 - 1002개\n"
     ]
    },
    {
     "name": "stderr",
     "output_type": "stream",
     "text": [
      "MFCC 추출 및 증강:  17%|█▋        | 52438/300584 [1:12:53<6:14:11, 11.05it/s]"
     ]
    },
    {
     "name": "stdout",
     "output_type": "stream",
     "text": [
      "배치 156 저장 완료 - 1002개\n"
     ]
    },
    {
     "name": "stderr",
     "output_type": "stream",
     "text": [
      "MFCC 추출 및 증강:  18%|█▊        | 52775/300584 [1:13:23<5:11:48, 13.25it/s]"
     ]
    },
    {
     "name": "stdout",
     "output_type": "stream",
     "text": [
      "배치 157 저장 완료 - 1002개\n"
     ]
    },
    {
     "name": "stderr",
     "output_type": "stream",
     "text": [
      "MFCC 추출 및 증강:  18%|█▊        | 53108/300584 [1:13:53<5:45:59, 11.92it/s]"
     ]
    },
    {
     "name": "stdout",
     "output_type": "stream",
     "text": [
      "배치 158 저장 완료 - 1002개\n"
     ]
    },
    {
     "name": "stderr",
     "output_type": "stream",
     "text": [
      "MFCC 추출 및 증강:  18%|█▊        | 53442/300584 [1:14:26<6:29:56, 10.56it/s]"
     ]
    },
    {
     "name": "stdout",
     "output_type": "stream",
     "text": [
      "배치 159 저장 완료 - 1002개\n"
     ]
    },
    {
     "name": "stderr",
     "output_type": "stream",
     "text": [
      "MFCC 추출 및 증강:  18%|█▊        | 53776/300584 [1:14:56<6:44:11, 10.18it/s]"
     ]
    },
    {
     "name": "stdout",
     "output_type": "stream",
     "text": [
      "배치 160 저장 완료 - 1002개\n"
     ]
    },
    {
     "name": "stderr",
     "output_type": "stream",
     "text": [
      "MFCC 추출 및 증강:  18%|█▊        | 54108/300584 [1:15:25<7:19:08,  9.35it/s]"
     ]
    },
    {
     "name": "stdout",
     "output_type": "stream",
     "text": [
      "배치 161 저장 완료 - 1002개\n"
     ]
    },
    {
     "name": "stderr",
     "output_type": "stream",
     "text": [
      "MFCC 추출 및 증강:  18%|█▊        | 54444/300584 [1:15:57<7:44:17,  8.84it/s] "
     ]
    },
    {
     "name": "stdout",
     "output_type": "stream",
     "text": [
      "배치 162 저장 완료 - 1002개\n"
     ]
    },
    {
     "name": "stderr",
     "output_type": "stream",
     "text": [
      "MFCC 추출 및 증강:  18%|█▊        | 54777/300584 [1:16:27<7:33:52,  9.03it/s]"
     ]
    },
    {
     "name": "stdout",
     "output_type": "stream",
     "text": [
      "배치 163 저장 완료 - 1002개\n"
     ]
    },
    {
     "name": "stderr",
     "output_type": "stream",
     "text": [
      "MFCC 추출 및 증강:  18%|█▊        | 55112/300584 [1:16:57<7:29:39,  9.10it/s]"
     ]
    },
    {
     "name": "stdout",
     "output_type": "stream",
     "text": [
      "배치 164 저장 완료 - 1002개\n"
     ]
    },
    {
     "name": "stderr",
     "output_type": "stream",
     "text": [
      "MFCC 추출 및 증강:  18%|█▊        | 55446/300584 [1:17:27<6:01:05, 11.31it/s]"
     ]
    },
    {
     "name": "stdout",
     "output_type": "stream",
     "text": [
      "배치 165 저장 완료 - 1002개\n"
     ]
    },
    {
     "name": "stderr",
     "output_type": "stream",
     "text": [
      "MFCC 추출 및 증강:  19%|█▊        | 55780/300584 [1:17:57<8:08:32,  8.35it/s]"
     ]
    },
    {
     "name": "stdout",
     "output_type": "stream",
     "text": [
      "배치 166 저장 완료 - 1002개\n"
     ]
    },
    {
     "name": "stderr",
     "output_type": "stream",
     "text": [
      "MFCC 추출 및 증강:  19%|█▊        | 56113/300584 [1:18:27<6:50:55,  9.92it/s]"
     ]
    },
    {
     "name": "stdout",
     "output_type": "stream",
     "text": [
      "배치 167 저장 완료 - 1002개\n"
     ]
    },
    {
     "name": "stderr",
     "output_type": "stream",
     "text": [
      "MFCC 추출 및 증강:  19%|█▉        | 56447/300584 [1:18:57<5:27:02, 12.44it/s]"
     ]
    },
    {
     "name": "stdout",
     "output_type": "stream",
     "text": [
      "배치 168 저장 완료 - 1002개\n"
     ]
    },
    {
     "name": "stderr",
     "output_type": "stream",
     "text": [
      "MFCC 추출 및 증강:  19%|█▉        | 56782/300584 [1:19:26<5:48:00, 11.68it/s]"
     ]
    },
    {
     "name": "stdout",
     "output_type": "stream",
     "text": [
      "배치 169 저장 완료 - 1002개\n"
     ]
    },
    {
     "name": "stderr",
     "output_type": "stream",
     "text": [
      "MFCC 추출 및 증강:  19%|█▉        | 57116/300584 [1:19:51<5:34:26, 12.13it/s]"
     ]
    },
    {
     "name": "stdout",
     "output_type": "stream",
     "text": [
      "배치 170 저장 완료 - 1002개\n"
     ]
    },
    {
     "name": "stderr",
     "output_type": "stream",
     "text": [
      "MFCC 추출 및 증강:  19%|█▉        | 57449/300584 [1:20:17<5:10:20, 13.06it/s]"
     ]
    },
    {
     "name": "stdout",
     "output_type": "stream",
     "text": [
      "배치 171 저장 완료 - 1002개\n"
     ]
    },
    {
     "name": "stderr",
     "output_type": "stream",
     "text": [
      "MFCC 추출 및 증강:  19%|█▉        | 57785/300584 [1:20:43<6:08:23, 10.98it/s]"
     ]
    },
    {
     "name": "stdout",
     "output_type": "stream",
     "text": [
      "배치 172 저장 완료 - 1002개\n"
     ]
    },
    {
     "name": "stderr",
     "output_type": "stream",
     "text": [
      "MFCC 추출 및 증강:  19%|█▉        | 58117/300584 [1:21:08<5:32:21, 12.16it/s]"
     ]
    },
    {
     "name": "stdout",
     "output_type": "stream",
     "text": [
      "배치 173 저장 완료 - 1002개\n"
     ]
    },
    {
     "name": "stderr",
     "output_type": "stream",
     "text": [
      "MFCC 추출 및 증강:  19%|█▉        | 58453/300584 [1:21:34<5:10:34, 12.99it/s]"
     ]
    },
    {
     "name": "stdout",
     "output_type": "stream",
     "text": [
      "배치 174 저장 완료 - 1002개\n"
     ]
    },
    {
     "name": "stderr",
     "output_type": "stream",
     "text": [
      "MFCC 추출 및 증강:  20%|█▉        | 58785/300584 [1:22:00<5:49:39, 11.53it/s]"
     ]
    },
    {
     "name": "stdout",
     "output_type": "stream",
     "text": [
      "배치 175 저장 완료 - 1002개\n"
     ]
    },
    {
     "name": "stderr",
     "output_type": "stream",
     "text": [
      "MFCC 추출 및 증강:  20%|█▉        | 59120/300584 [1:22:27<5:39:20, 11.86it/s]"
     ]
    },
    {
     "name": "stdout",
     "output_type": "stream",
     "text": [
      "배치 176 저장 완료 - 1002개\n"
     ]
    },
    {
     "name": "stderr",
     "output_type": "stream",
     "text": [
      "MFCC 추출 및 증강:  20%|█▉        | 59454/300584 [1:22:53<5:10:38, 12.94it/s] "
     ]
    },
    {
     "name": "stdout",
     "output_type": "stream",
     "text": [
      "배치 177 저장 완료 - 1002개\n"
     ]
    },
    {
     "name": "stderr",
     "output_type": "stream",
     "text": [
      "MFCC 추출 및 증강:  20%|█▉        | 59789/300584 [1:23:17<5:00:42, 13.35it/s]"
     ]
    },
    {
     "name": "stdout",
     "output_type": "stream",
     "text": [
      "배치 178 저장 완료 - 1002개\n"
     ]
    },
    {
     "name": "stderr",
     "output_type": "stream",
     "text": [
      "MFCC 추출 및 증강:  20%|██        | 60121/300584 [1:23:43<6:06:59, 10.92it/s]"
     ]
    },
    {
     "name": "stdout",
     "output_type": "stream",
     "text": [
      "배치 179 저장 완료 - 1002개\n"
     ]
    },
    {
     "name": "stderr",
     "output_type": "stream",
     "text": [
      "MFCC 추출 및 증강:  20%|██        | 60455/300584 [1:24:07<5:23:11, 12.38it/s]"
     ]
    },
    {
     "name": "stdout",
     "output_type": "stream",
     "text": [
      "배치 180 저장 완료 - 1002개\n"
     ]
    },
    {
     "name": "stderr",
     "output_type": "stream",
     "text": [
      "MFCC 추출 및 증강:  20%|██        | 60790/300584 [1:24:33<5:39:15, 11.78it/s]"
     ]
    },
    {
     "name": "stdout",
     "output_type": "stream",
     "text": [
      "배치 181 저장 완료 - 1002개\n"
     ]
    },
    {
     "name": "stderr",
     "output_type": "stream",
     "text": [
      "MFCC 추출 및 증강:  20%|██        | 61125/300584 [1:25:02<5:48:50, 11.44it/s]"
     ]
    },
    {
     "name": "stdout",
     "output_type": "stream",
     "text": [
      "배치 182 저장 완료 - 1002개\n"
     ]
    },
    {
     "name": "stderr",
     "output_type": "stream",
     "text": [
      "MFCC 추출 및 증강:  20%|██        | 61458/300584 [1:25:28<6:04:02, 10.95it/s]"
     ]
    },
    {
     "name": "stdout",
     "output_type": "stream",
     "text": [
      "배치 183 저장 완료 - 1002개\n"
     ]
    },
    {
     "name": "stderr",
     "output_type": "stream",
     "text": [
      "MFCC 추출 및 증강:  21%|██        | 61791/300584 [1:25:54<5:44:17, 11.56it/s]"
     ]
    },
    {
     "name": "stdout",
     "output_type": "stream",
     "text": [
      "배치 184 저장 완료 - 1002개\n"
     ]
    },
    {
     "name": "stderr",
     "output_type": "stream",
     "text": [
      "MFCC 추출 및 증강:  21%|██        | 62127/300584 [1:26:21<5:26:07, 12.19it/s]"
     ]
    },
    {
     "name": "stdout",
     "output_type": "stream",
     "text": [
      "배치 185 저장 완료 - 1002개\n"
     ]
    },
    {
     "name": "stderr",
     "output_type": "stream",
     "text": [
      "MFCC 추출 및 증강:  21%|██        | 62458/300584 [1:26:53<10:27:15,  6.33it/s]"
     ]
    },
    {
     "name": "stdout",
     "output_type": "stream",
     "text": [
      "배치 186 저장 완료 - 1002개\n"
     ]
    },
    {
     "name": "stderr",
     "output_type": "stream",
     "text": [
      "MFCC 추출 및 증강:  21%|██        | 62792/300584 [1:27:26<7:45:13,  8.52it/s] "
     ]
    },
    {
     "name": "stdout",
     "output_type": "stream",
     "text": [
      "배치 187 저장 완료 - 1002개\n"
     ]
    },
    {
     "name": "stderr",
     "output_type": "stream",
     "text": [
      "MFCC 추출 및 증강:  21%|██        | 63127/300584 [1:27:55<9:00:55,  7.32it/s]"
     ]
    },
    {
     "name": "stdout",
     "output_type": "stream",
     "text": [
      "배치 188 저장 완료 - 1002개\n"
     ]
    },
    {
     "name": "stderr",
     "output_type": "stream",
     "text": [
      "MFCC 추출 및 증강:  21%|██        | 63461/300584 [1:28:24<6:29:54, 10.14it/s]"
     ]
    },
    {
     "name": "stdout",
     "output_type": "stream",
     "text": [
      "배치 189 저장 완료 - 1002개\n"
     ]
    },
    {
     "name": "stderr",
     "output_type": "stream",
     "text": [
      "MFCC 추출 및 증강:  21%|██        | 63794/300584 [1:28:53<5:50:52, 11.25it/s]"
     ]
    },
    {
     "name": "stdout",
     "output_type": "stream",
     "text": [
      "배치 190 저장 완료 - 1002개\n"
     ]
    },
    {
     "name": "stderr",
     "output_type": "stream",
     "text": [
      "MFCC 추출 및 증강:  21%|██▏       | 64129/300584 [1:29:25<6:05:26, 10.78it/s] "
     ]
    },
    {
     "name": "stdout",
     "output_type": "stream",
     "text": [
      "배치 191 저장 완료 - 1002개\n"
     ]
    },
    {
     "name": "stderr",
     "output_type": "stream",
     "text": [
      "MFCC 추출 및 증강:  21%|██▏       | 64463/300584 [1:29:56<6:40:46,  9.82it/s]"
     ]
    },
    {
     "name": "stdout",
     "output_type": "stream",
     "text": [
      "배치 192 저장 완료 - 1002개\n"
     ]
    },
    {
     "name": "stderr",
     "output_type": "stream",
     "text": [
      "MFCC 추출 및 증강:  22%|██▏       | 64797/300584 [1:30:22<5:29:50, 11.91it/s]"
     ]
    },
    {
     "name": "stdout",
     "output_type": "stream",
     "text": [
      "배치 193 저장 완료 - 1002개\n"
     ]
    },
    {
     "name": "stderr",
     "output_type": "stream",
     "text": [
      "MFCC 추출 및 증강:  22%|██▏       | 65132/300584 [1:30:47<5:54:34, 11.07it/s]"
     ]
    },
    {
     "name": "stdout",
     "output_type": "stream",
     "text": [
      "배치 194 저장 완료 - 1002개\n"
     ]
    },
    {
     "name": "stderr",
     "output_type": "stream",
     "text": [
      "MFCC 추출 및 증강:  22%|██▏       | 65464/300584 [1:31:12<6:21:28, 10.27it/s]"
     ]
    },
    {
     "name": "stdout",
     "output_type": "stream",
     "text": [
      "배치 195 저장 완료 - 1002개\n"
     ]
    },
    {
     "name": "stderr",
     "output_type": "stream",
     "text": [
      "MFCC 추출 및 증강:  22%|██▏       | 65799/300584 [1:31:36<4:24:49, 14.78it/s]"
     ]
    },
    {
     "name": "stdout",
     "output_type": "stream",
     "text": [
      "배치 196 저장 완료 - 1002개\n"
     ]
    },
    {
     "name": "stderr",
     "output_type": "stream",
     "text": [
      "MFCC 추출 및 증강:  22%|██▏       | 66133/300584 [1:32:01<5:01:06, 12.98it/s]"
     ]
    },
    {
     "name": "stdout",
     "output_type": "stream",
     "text": [
      "배치 197 저장 완료 - 1002개\n"
     ]
    },
    {
     "name": "stderr",
     "output_type": "stream",
     "text": [
      "MFCC 추출 및 증강:  22%|██▏       | 66468/300584 [1:32:22<4:04:16, 15.97it/s]"
     ]
    },
    {
     "name": "stdout",
     "output_type": "stream",
     "text": [
      "배치 198 저장 완료 - 1002개\n"
     ]
    },
    {
     "name": "stderr",
     "output_type": "stream",
     "text": [
      "MFCC 추출 및 증강:  22%|██▏       | 66804/300584 [1:32:43<3:49:20, 16.99it/s]"
     ]
    },
    {
     "name": "stdout",
     "output_type": "stream",
     "text": [
      "배치 199 저장 완료 - 1002개\n"
     ]
    },
    {
     "name": "stderr",
     "output_type": "stream",
     "text": [
      "MFCC 추출 및 증강:  22%|██▏       | 67135/300584 [1:33:05<5:10:15, 12.54it/s]"
     ]
    },
    {
     "name": "stdout",
     "output_type": "stream",
     "text": [
      "배치 200 저장 완료 - 1002개\n"
     ]
    },
    {
     "name": "stderr",
     "output_type": "stream",
     "text": [
      "MFCC 추출 및 증강:  22%|██▏       | 67469/300584 [1:33:27<5:13:52, 12.38it/s]"
     ]
    },
    {
     "name": "stdout",
     "output_type": "stream",
     "text": [
      "배치 201 저장 완료 - 1002개\n"
     ]
    },
    {
     "name": "stderr",
     "output_type": "stream",
     "text": [
      "MFCC 추출 및 증강:  23%|██▎       | 67804/300584 [1:33:49<4:14:17, 15.26it/s]"
     ]
    },
    {
     "name": "stdout",
     "output_type": "stream",
     "text": [
      "배치 202 저장 완료 - 1002개\n"
     ]
    },
    {
     "name": "stderr",
     "output_type": "stream",
     "text": [
      "MFCC 추출 및 증강:  23%|██▎       | 68137/300584 [1:34:13<4:06:39, 15.71it/s]"
     ]
    },
    {
     "name": "stdout",
     "output_type": "stream",
     "text": [
      "배치 203 저장 완료 - 1002개\n"
     ]
    },
    {
     "name": "stderr",
     "output_type": "stream",
     "text": [
      "MFCC 추출 및 증강:  23%|██▎       | 68472/300584 [1:34:36<4:15:29, 15.14it/s]"
     ]
    },
    {
     "name": "stdout",
     "output_type": "stream",
     "text": [
      "배치 204 저장 완료 - 1002개\n"
     ]
    },
    {
     "name": "stderr",
     "output_type": "stream",
     "text": [
      "MFCC 추출 및 증강:  23%|██▎       | 68807/300584 [1:34:57<4:22:59, 14.69it/s]"
     ]
    },
    {
     "name": "stdout",
     "output_type": "stream",
     "text": [
      "배치 205 저장 완료 - 1002개\n"
     ]
    },
    {
     "name": "stderr",
     "output_type": "stream",
     "text": [
      "MFCC 추출 및 증강:  23%|██▎       | 69140/300584 [1:35:19<4:30:31, 14.26it/s]"
     ]
    },
    {
     "name": "stdout",
     "output_type": "stream",
     "text": [
      "배치 206 저장 완료 - 1002개\n"
     ]
    },
    {
     "name": "stderr",
     "output_type": "stream",
     "text": [
      "MFCC 추출 및 증강:  23%|██▎       | 69472/300584 [1:35:41<5:08:33, 12.48it/s]"
     ]
    },
    {
     "name": "stdout",
     "output_type": "stream",
     "text": [
      "배치 207 저장 완료 - 1002개\n"
     ]
    },
    {
     "name": "stderr",
     "output_type": "stream",
     "text": [
      "MFCC 추출 및 증강:  23%|██▎       | 69809/300584 [1:36:02<4:11:58, 15.26it/s]"
     ]
    },
    {
     "name": "stdout",
     "output_type": "stream",
     "text": [
      "배치 208 저장 완료 - 1002개\n"
     ]
    },
    {
     "name": "stderr",
     "output_type": "stream",
     "text": [
      "MFCC 추출 및 증강:  23%|██▎       | 70142/300584 [1:36:24<3:44:43, 17.09it/s]"
     ]
    },
    {
     "name": "stdout",
     "output_type": "stream",
     "text": [
      "배치 209 저장 완료 - 1002개\n"
     ]
    },
    {
     "name": "stderr",
     "output_type": "stream",
     "text": [
      "MFCC 추출 및 증강:  23%|██▎       | 70476/300584 [1:36:44<3:44:15, 17.10it/s]"
     ]
    },
    {
     "name": "stdout",
     "output_type": "stream",
     "text": [
      "배치 210 저장 완료 - 1002개\n"
     ]
    },
    {
     "name": "stderr",
     "output_type": "stream",
     "text": [
      "MFCC 추출 및 증강:  24%|██▎       | 70812/300584 [1:37:04<4:01:13, 15.88it/s]"
     ]
    },
    {
     "name": "stdout",
     "output_type": "stream",
     "text": [
      "배치 211 저장 완료 - 1002개\n"
     ]
    },
    {
     "name": "stderr",
     "output_type": "stream",
     "text": [
      "MFCC 추출 및 증강:  24%|██▎       | 71145/300584 [1:37:25<4:31:36, 14.08it/s]"
     ]
    },
    {
     "name": "stdout",
     "output_type": "stream",
     "text": [
      "배치 212 저장 완료 - 1002개\n"
     ]
    },
    {
     "name": "stderr",
     "output_type": "stream",
     "text": [
      "MFCC 추출 및 증강:  24%|██▍       | 71477/300584 [1:37:45<6:41:12,  9.52it/s]"
     ]
    },
    {
     "name": "stdout",
     "output_type": "stream",
     "text": [
      "배치 213 저장 완료 - 1002개\n"
     ]
    },
    {
     "name": "stderr",
     "output_type": "stream",
     "text": [
      "MFCC 추출 및 증강:  24%|██▍       | 71812/300584 [1:38:06<3:58:55, 15.96it/s]"
     ]
    },
    {
     "name": "stdout",
     "output_type": "stream",
     "text": [
      "배치 214 저장 완료 - 1002개\n"
     ]
    },
    {
     "name": "stderr",
     "output_type": "stream",
     "text": [
      "MFCC 추출 및 증강:  24%|██▍       | 72146/300584 [1:38:29<6:14:31, 10.17it/s]"
     ]
    },
    {
     "name": "stdout",
     "output_type": "stream",
     "text": [
      "배치 215 저장 완료 - 1002개\n"
     ]
    },
    {
     "name": "stderr",
     "output_type": "stream",
     "text": [
      "MFCC 추출 및 증강:  24%|██▍       | 72481/300584 [1:38:52<4:20:51, 14.57it/s]"
     ]
    },
    {
     "name": "stdout",
     "output_type": "stream",
     "text": [
      "배치 216 저장 완료 - 1002개\n"
     ]
    },
    {
     "name": "stderr",
     "output_type": "stream",
     "text": [
      "MFCC 추출 및 증강:  24%|██▍       | 72814/300584 [1:39:14<5:04:47, 12.46it/s]"
     ]
    },
    {
     "name": "stdout",
     "output_type": "stream",
     "text": [
      "배치 217 저장 완료 - 1002개\n"
     ]
    },
    {
     "name": "stderr",
     "output_type": "stream",
     "text": [
      "MFCC 추출 및 증강:  24%|██▍       | 73149/300584 [1:39:35<3:26:51, 18.32it/s]"
     ]
    },
    {
     "name": "stdout",
     "output_type": "stream",
     "text": [
      "배치 218 저장 완료 - 1002개\n"
     ]
    },
    {
     "name": "stderr",
     "output_type": "stream",
     "text": [
      "MFCC 추출 및 증강:  24%|██▍       | 73480/300584 [1:39:57<5:04:41, 12.42it/s]"
     ]
    },
    {
     "name": "stdout",
     "output_type": "stream",
     "text": [
      "배치 219 저장 완료 - 1002개\n"
     ]
    },
    {
     "name": "stderr",
     "output_type": "stream",
     "text": [
      "MFCC 추출 및 증강:  25%|██▍       | 73817/300584 [1:40:18<3:20:04, 18.89it/s]"
     ]
    },
    {
     "name": "stdout",
     "output_type": "stream",
     "text": [
      "배치 220 저장 완료 - 1002개\n"
     ]
    },
    {
     "name": "stderr",
     "output_type": "stream",
     "text": [
      "MFCC 추출 및 증강:  25%|██▍       | 74149/300584 [1:40:41<5:14:40, 11.99it/s] "
     ]
    },
    {
     "name": "stdout",
     "output_type": "stream",
     "text": [
      "배치 221 저장 완료 - 1002개\n"
     ]
    },
    {
     "name": "stderr",
     "output_type": "stream",
     "text": [
      "MFCC 추출 및 증강:  25%|██▍       | 74486/300584 [1:41:01<3:29:21, 18.00it/s]"
     ]
    },
    {
     "name": "stdout",
     "output_type": "stream",
     "text": [
      "배치 222 저장 완료 - 1002개\n"
     ]
    },
    {
     "name": "stderr",
     "output_type": "stream",
     "text": [
      "MFCC 추출 및 증강:  25%|██▍       | 74819/300584 [1:41:22<4:17:38, 14.60it/s]"
     ]
    },
    {
     "name": "stdout",
     "output_type": "stream",
     "text": [
      "배치 223 저장 완료 - 1002개\n"
     ]
    },
    {
     "name": "stderr",
     "output_type": "stream",
     "text": [
      "MFCC 추출 및 증강:  25%|██▌       | 75153/300584 [1:41:42<3:49:47, 16.35it/s]"
     ]
    },
    {
     "name": "stdout",
     "output_type": "stream",
     "text": [
      "배치 224 저장 완료 - 1002개\n"
     ]
    },
    {
     "name": "stderr",
     "output_type": "stream",
     "text": [
      "MFCC 추출 및 증강:  25%|██▌       | 75485/300584 [1:42:04<5:33:40, 11.24it/s]"
     ]
    },
    {
     "name": "stdout",
     "output_type": "stream",
     "text": [
      "배치 225 저장 완료 - 1002개\n"
     ]
    },
    {
     "name": "stderr",
     "output_type": "stream",
     "text": [
      "MFCC 추출 및 증강:  25%|██▌       | 75821/300584 [1:42:25<3:05:27, 20.20it/s]"
     ]
    },
    {
     "name": "stdout",
     "output_type": "stream",
     "text": [
      "배치 226 저장 완료 - 1002개\n"
     ]
    },
    {
     "name": "stderr",
     "output_type": "stream",
     "text": [
      "MFCC 추출 및 증강:  25%|██▌       | 76156/300584 [1:42:46<3:19:16, 18.77it/s]"
     ]
    },
    {
     "name": "stdout",
     "output_type": "stream",
     "text": [
      "배치 227 저장 완료 - 1002개\n"
     ]
    },
    {
     "name": "stderr",
     "output_type": "stream",
     "text": [
      "MFCC 추출 및 증강:  25%|██▌       | 76488/300584 [1:43:07<3:14:00, 19.25it/s]"
     ]
    },
    {
     "name": "stdout",
     "output_type": "stream",
     "text": [
      "배치 228 저장 완료 - 1002개\n"
     ]
    },
    {
     "name": "stderr",
     "output_type": "stream",
     "text": [
      "MFCC 추출 및 증강:  26%|██▌       | 76821/300584 [1:43:29<5:32:30, 11.22it/s]"
     ]
    },
    {
     "name": "stdout",
     "output_type": "stream",
     "text": [
      "배치 229 저장 완료 - 1002개\n"
     ]
    },
    {
     "name": "stderr",
     "output_type": "stream",
     "text": [
      "MFCC 추출 및 증강:  26%|██▌       | 77156/300584 [1:43:51<3:53:18, 15.96it/s]"
     ]
    },
    {
     "name": "stdout",
     "output_type": "stream",
     "text": [
      "배치 230 저장 완료 - 1002개\n"
     ]
    },
    {
     "name": "stderr",
     "output_type": "stream",
     "text": [
      "MFCC 추출 및 증강:  26%|██▌       | 77490/300584 [1:44:13<5:59:30, 10.34it/s]"
     ]
    },
    {
     "name": "stdout",
     "output_type": "stream",
     "text": [
      "배치 231 저장 완료 - 1002개\n"
     ]
    },
    {
     "name": "stderr",
     "output_type": "stream",
     "text": [
      "MFCC 추출 및 증강:  26%|██▌       | 77824/300584 [1:44:36<4:39:51, 13.27it/s]"
     ]
    },
    {
     "name": "stdout",
     "output_type": "stream",
     "text": [
      "배치 232 저장 완료 - 1002개\n"
     ]
    },
    {
     "name": "stderr",
     "output_type": "stream",
     "text": [
      "MFCC 추출 및 증강:  26%|██▌       | 78159/300584 [1:44:58<4:25:26, 13.97it/s]"
     ]
    },
    {
     "name": "stdout",
     "output_type": "stream",
     "text": [
      "배치 233 저장 완료 - 1002개\n"
     ]
    },
    {
     "name": "stderr",
     "output_type": "stream",
     "text": [
      "MFCC 추출 및 증강:  26%|██▌       | 78494/300584 [1:45:20<3:53:16, 15.87it/s]"
     ]
    },
    {
     "name": "stdout",
     "output_type": "stream",
     "text": [
      "배치 234 저장 완료 - 1002개\n"
     ]
    },
    {
     "name": "stderr",
     "output_type": "stream",
     "text": [
      "MFCC 추출 및 증강:  26%|██▌       | 78825/300584 [1:45:43<4:02:14, 15.26it/s]"
     ]
    },
    {
     "name": "stdout",
     "output_type": "stream",
     "text": [
      "배치 235 저장 완료 - 1002개\n"
     ]
    },
    {
     "name": "stderr",
     "output_type": "stream",
     "text": [
      "MFCC 추출 및 증강:  26%|██▋       | 79161/300584 [1:46:04<5:04:26, 12.12it/s]"
     ]
    },
    {
     "name": "stdout",
     "output_type": "stream",
     "text": [
      "배치 236 저장 완료 - 1002개\n"
     ]
    },
    {
     "name": "stderr",
     "output_type": "stream",
     "text": [
      "MFCC 추출 및 증강:  26%|██▋       | 79495/300584 [1:46:26<4:44:33, 12.95it/s]"
     ]
    },
    {
     "name": "stdout",
     "output_type": "stream",
     "text": [
      "배치 237 저장 완료 - 1002개\n"
     ]
    },
    {
     "name": "stderr",
     "output_type": "stream",
     "text": [
      "MFCC 추출 및 증강:  27%|██▋       | 79830/300584 [1:46:48<3:44:16, 16.41it/s]"
     ]
    },
    {
     "name": "stdout",
     "output_type": "stream",
     "text": [
      "배치 238 저장 완료 - 1002개\n"
     ]
    },
    {
     "name": "stderr",
     "output_type": "stream",
     "text": [
      "MFCC 추출 및 증강:  27%|██▋       | 80160/300584 [1:47:10<4:33:14, 13.45it/s]"
     ]
    },
    {
     "name": "stdout",
     "output_type": "stream",
     "text": [
      "배치 239 저장 완료 - 1002개\n"
     ]
    },
    {
     "name": "stderr",
     "output_type": "stream",
     "text": [
      "MFCC 추출 및 증강:  27%|██▋       | 80496/300584 [1:47:32<3:42:58, 16.45it/s]"
     ]
    },
    {
     "name": "stdout",
     "output_type": "stream",
     "text": [
      "배치 240 저장 완료 - 1002개\n"
     ]
    },
    {
     "name": "stderr",
     "output_type": "stream",
     "text": [
      "MFCC 추출 및 증강:  27%|██▋       | 80830/300584 [1:47:56<4:17:38, 14.22it/s]"
     ]
    },
    {
     "name": "stdout",
     "output_type": "stream",
     "text": [
      "배치 241 저장 완료 - 1002개\n"
     ]
    },
    {
     "name": "stderr",
     "output_type": "stream",
     "text": [
      "MFCC 추출 및 증강:  27%|██▋       | 81165/300584 [1:48:18<4:35:53, 13.26it/s]"
     ]
    },
    {
     "name": "stdout",
     "output_type": "stream",
     "text": [
      "배치 242 저장 완료 - 1002개\n"
     ]
    },
    {
     "name": "stderr",
     "output_type": "stream",
     "text": [
      "MFCC 추출 및 증강:  27%|██▋       | 81498/300584 [1:48:40<4:02:10, 15.08it/s]"
     ]
    },
    {
     "name": "stdout",
     "output_type": "stream",
     "text": [
      "배치 243 저장 완료 - 1002개\n"
     ]
    },
    {
     "name": "stderr",
     "output_type": "stream",
     "text": [
      "MFCC 추출 및 증강:  27%|██▋       | 81833/300584 [1:49:04<4:28:43, 13.57it/s]"
     ]
    },
    {
     "name": "stdout",
     "output_type": "stream",
     "text": [
      "배치 244 저장 완료 - 1002개\n"
     ]
    },
    {
     "name": "stderr",
     "output_type": "stream",
     "text": [
      "MFCC 추출 및 증강:  27%|██▋       | 82167/300584 [1:49:26<4:12:07, 14.44it/s]"
     ]
    },
    {
     "name": "stdout",
     "output_type": "stream",
     "text": [
      "배치 245 저장 완료 - 1002개\n"
     ]
    },
    {
     "name": "stderr",
     "output_type": "stream",
     "text": [
      "MFCC 추출 및 증강:  27%|██▋       | 82500/300584 [1:49:49<5:29:21, 11.04it/s]"
     ]
    },
    {
     "name": "stdout",
     "output_type": "stream",
     "text": [
      "배치 246 저장 완료 - 1002개\n"
     ]
    },
    {
     "name": "stderr",
     "output_type": "stream",
     "text": [
      "MFCC 추출 및 증강:  28%|██▊       | 82835/300584 [1:50:10<5:09:16, 11.73it/s]"
     ]
    },
    {
     "name": "stdout",
     "output_type": "stream",
     "text": [
      "배치 247 저장 완료 - 1002개\n"
     ]
    },
    {
     "name": "stderr",
     "output_type": "stream",
     "text": [
      "MFCC 추출 및 증강:  28%|██▊       | 83169/300584 [1:50:30<3:43:05, 16.24it/s]"
     ]
    },
    {
     "name": "stdout",
     "output_type": "stream",
     "text": [
      "배치 248 저장 완료 - 1002개\n"
     ]
    },
    {
     "name": "stderr",
     "output_type": "stream",
     "text": [
      "MFCC 추출 및 증강:  28%|██▊       | 83504/300584 [1:50:51<3:42:11, 16.28it/s]"
     ]
    },
    {
     "name": "stdout",
     "output_type": "stream",
     "text": [
      "배치 249 저장 완료 - 1002개\n"
     ]
    },
    {
     "name": "stderr",
     "output_type": "stream",
     "text": [
      "MFCC 추출 및 증강:  28%|██▊       | 83836/300584 [1:51:12<4:01:33, 14.96it/s]"
     ]
    },
    {
     "name": "stdout",
     "output_type": "stream",
     "text": [
      "배치 250 저장 완료 - 1002개\n"
     ]
    },
    {
     "name": "stderr",
     "output_type": "stream",
     "text": [
      "MFCC 추출 및 증강:  28%|██▊       | 84170/300584 [1:51:32<4:36:59, 13.02it/s]"
     ]
    },
    {
     "name": "stdout",
     "output_type": "stream",
     "text": [
      "배치 251 저장 완료 - 1002개\n"
     ]
    },
    {
     "name": "stderr",
     "output_type": "stream",
     "text": [
      "MFCC 추출 및 증강:  28%|██▊       | 84503/300584 [1:51:52<4:40:47, 12.83it/s]"
     ]
    },
    {
     "name": "stdout",
     "output_type": "stream",
     "text": [
      "배치 252 저장 완료 - 1002개\n"
     ]
    },
    {
     "name": "stderr",
     "output_type": "stream",
     "text": [
      "MFCC 추출 및 증강:  28%|██▊       | 84839/300584 [1:52:15<4:30:41, 13.28it/s]"
     ]
    },
    {
     "name": "stdout",
     "output_type": "stream",
     "text": [
      "배치 253 저장 완료 - 1002개\n"
     ]
    },
    {
     "name": "stderr",
     "output_type": "stream",
     "text": [
      "MFCC 추출 및 증강:  28%|██▊       | 85173/300584 [1:52:36<3:55:54, 15.22it/s]"
     ]
    },
    {
     "name": "stdout",
     "output_type": "stream",
     "text": [
      "배치 254 저장 완료 - 1002개\n"
     ]
    },
    {
     "name": "stderr",
     "output_type": "stream",
     "text": [
      "MFCC 추출 및 증강:  28%|██▊       | 85506/300584 [1:52:57<4:11:08, 14.27it/s]"
     ]
    },
    {
     "name": "stdout",
     "output_type": "stream",
     "text": [
      "배치 255 저장 완료 - 1002개\n"
     ]
    },
    {
     "name": "stderr",
     "output_type": "stream",
     "text": [
      "MFCC 추출 및 증강:  29%|██▊       | 85841/300584 [1:53:19<3:35:13, 16.63it/s]"
     ]
    },
    {
     "name": "stdout",
     "output_type": "stream",
     "text": [
      "배치 256 저장 완료 - 1002개\n"
     ]
    },
    {
     "name": "stderr",
     "output_type": "stream",
     "text": [
      "MFCC 추출 및 증강:  29%|██▊       | 86175/300584 [1:53:42<4:30:28, 13.21it/s]"
     ]
    },
    {
     "name": "stdout",
     "output_type": "stream",
     "text": [
      "배치 257 저장 완료 - 1002개\n"
     ]
    },
    {
     "name": "stderr",
     "output_type": "stream",
     "text": [
      "MFCC 추출 및 증강:  29%|██▉       | 86507/300584 [1:54:04<5:03:18, 11.76it/s]"
     ]
    },
    {
     "name": "stdout",
     "output_type": "stream",
     "text": [
      "배치 258 저장 완료 - 1002개\n"
     ]
    },
    {
     "name": "stderr",
     "output_type": "stream",
     "text": [
      "MFCC 추출 및 증강:  29%|██▉       | 86844/300584 [1:54:25<3:01:38, 19.61it/s]"
     ]
    },
    {
     "name": "stdout",
     "output_type": "stream",
     "text": [
      "배치 259 저장 완료 - 1002개\n"
     ]
    },
    {
     "name": "stderr",
     "output_type": "stream",
     "text": [
      "MFCC 추출 및 증강:  29%|██▉       | 87175/300584 [1:54:45<3:30:41, 16.88it/s]"
     ]
    },
    {
     "name": "stdout",
     "output_type": "stream",
     "text": [
      "배치 260 저장 완료 - 1002개\n"
     ]
    },
    {
     "name": "stderr",
     "output_type": "stream",
     "text": [
      "MFCC 추출 및 증강:  29%|██▉       | 87511/300584 [1:55:08<4:28:13, 13.24it/s]"
     ]
    },
    {
     "name": "stdout",
     "output_type": "stream",
     "text": [
      "배치 261 저장 완료 - 1002개\n"
     ]
    },
    {
     "name": "stderr",
     "output_type": "stream",
     "text": [
      "MFCC 추출 및 증강:  29%|██▉       | 87844/300584 [1:55:30<3:58:19, 14.88it/s]"
     ]
    },
    {
     "name": "stdout",
     "output_type": "stream",
     "text": [
      "배치 262 저장 완료 - 1002개\n"
     ]
    },
    {
     "name": "stderr",
     "output_type": "stream",
     "text": [
      "MFCC 추출 및 증강:  29%|██▉       | 88177/300584 [1:55:52<4:17:27, 13.75it/s]"
     ]
    },
    {
     "name": "stdout",
     "output_type": "stream",
     "text": [
      "배치 263 저장 완료 - 1002개\n"
     ]
    },
    {
     "name": "stderr",
     "output_type": "stream",
     "text": [
      "MFCC 추출 및 증강:  29%|██▉       | 88511/300584 [1:56:14<3:48:21, 15.48it/s]"
     ]
    },
    {
     "name": "stdout",
     "output_type": "stream",
     "text": [
      "배치 264 저장 완료 - 1002개\n"
     ]
    },
    {
     "name": "stderr",
     "output_type": "stream",
     "text": [
      "MFCC 추출 및 증강:  30%|██▉       | 88846/300584 [1:56:35<4:41:21, 12.54it/s]"
     ]
    },
    {
     "name": "stdout",
     "output_type": "stream",
     "text": [
      "배치 265 저장 완료 - 1002개\n"
     ]
    },
    {
     "name": "stderr",
     "output_type": "stream",
     "text": [
      "MFCC 추출 및 증강:  30%|██▉       | 89181/300584 [1:56:57<3:09:24, 18.60it/s]"
     ]
    },
    {
     "name": "stdout",
     "output_type": "stream",
     "text": [
      "배치 266 저장 완료 - 1002개\n"
     ]
    },
    {
     "name": "stderr",
     "output_type": "stream",
     "text": [
      "MFCC 추출 및 증강:  30%|██▉       | 89513/300584 [1:57:19<5:09:11, 11.38it/s]"
     ]
    },
    {
     "name": "stdout",
     "output_type": "stream",
     "text": [
      "배치 267 저장 완료 - 1002개\n"
     ]
    },
    {
     "name": "stderr",
     "output_type": "stream",
     "text": [
      "MFCC 추출 및 증강:  30%|██▉       | 89847/300584 [1:57:42<3:59:50, 14.64it/s]"
     ]
    },
    {
     "name": "stdout",
     "output_type": "stream",
     "text": [
      "배치 268 저장 완료 - 1002개\n"
     ]
    },
    {
     "name": "stderr",
     "output_type": "stream",
     "text": [
      "MFCC 추출 및 증강:  30%|███       | 90183/300584 [1:58:07<5:12:29, 11.22it/s]"
     ]
    },
    {
     "name": "stdout",
     "output_type": "stream",
     "text": [
      "배치 269 저장 완료 - 1002개\n"
     ]
    },
    {
     "name": "stderr",
     "output_type": "stream",
     "text": [
      "MFCC 추출 및 증강:  30%|███       | 90516/300584 [1:58:32<3:57:18, 14.75it/s]"
     ]
    },
    {
     "name": "stdout",
     "output_type": "stream",
     "text": [
      "배치 270 저장 완료 - 1002개\n"
     ]
    },
    {
     "name": "stderr",
     "output_type": "stream",
     "text": [
      "MFCC 추출 및 증강:  30%|███       | 90850/300584 [1:58:54<5:18:26, 10.98it/s]"
     ]
    },
    {
     "name": "stdout",
     "output_type": "stream",
     "text": [
      "배치 271 저장 완료 - 1002개\n"
     ]
    },
    {
     "name": "stderr",
     "output_type": "stream",
     "text": [
      "MFCC 추출 및 증강:  30%|███       | 91184/300584 [1:59:16<3:35:56, 16.16it/s]"
     ]
    },
    {
     "name": "stdout",
     "output_type": "stream",
     "text": [
      "배치 272 저장 완료 - 1002개\n"
     ]
    },
    {
     "name": "stderr",
     "output_type": "stream",
     "text": [
      "MFCC 추출 및 증강:  30%|███       | 91519/300584 [1:59:37<4:00:02, 14.52it/s]"
     ]
    },
    {
     "name": "stdout",
     "output_type": "stream",
     "text": [
      "배치 273 저장 완료 - 1002개\n"
     ]
    },
    {
     "name": "stderr",
     "output_type": "stream",
     "text": [
      "MFCC 추출 및 증강:  31%|███       | 91852/300584 [2:00:00<4:29:04, 12.93it/s]"
     ]
    },
    {
     "name": "stdout",
     "output_type": "stream",
     "text": [
      "배치 274 저장 완료 - 1002개\n"
     ]
    },
    {
     "name": "stderr",
     "output_type": "stream",
     "text": [
      "MFCC 추출 및 증강:  31%|███       | 92187/300584 [2:00:24<4:04:46, 14.19it/s]"
     ]
    },
    {
     "name": "stdout",
     "output_type": "stream",
     "text": [
      "배치 275 저장 완료 - 1002개\n"
     ]
    },
    {
     "name": "stderr",
     "output_type": "stream",
     "text": [
      "MFCC 추출 및 증강:  31%|███       | 92521/300584 [2:00:46<3:49:19, 15.12it/s]"
     ]
    },
    {
     "name": "stdout",
     "output_type": "stream",
     "text": [
      "배치 276 저장 완료 - 1002개\n"
     ]
    },
    {
     "name": "stderr",
     "output_type": "stream",
     "text": [
      "MFCC 추출 및 증강:  31%|███       | 92853/300584 [2:01:08<5:29:33, 10.51it/s]"
     ]
    },
    {
     "name": "stdout",
     "output_type": "stream",
     "text": [
      "배치 277 저장 완료 - 1002개\n"
     ]
    },
    {
     "name": "stderr",
     "output_type": "stream",
     "text": [
      "MFCC 추출 및 증강:  31%|███       | 93187/300584 [2:01:30<3:40:42, 15.66it/s]"
     ]
    },
    {
     "name": "stdout",
     "output_type": "stream",
     "text": [
      "배치 278 저장 완료 - 1002개\n"
     ]
    },
    {
     "name": "stderr",
     "output_type": "stream",
     "text": [
      "MFCC 추출 및 증강:  31%|███       | 93524/300584 [2:01:53<3:42:45, 15.49it/s]"
     ]
    },
    {
     "name": "stdout",
     "output_type": "stream",
     "text": [
      "배치 279 저장 완료 - 1002개\n"
     ]
    },
    {
     "name": "stderr",
     "output_type": "stream",
     "text": [
      "MFCC 추출 및 증강:  31%|███       | 93856/300584 [2:02:15<3:15:40, 17.61it/s]"
     ]
    },
    {
     "name": "stdout",
     "output_type": "stream",
     "text": [
      "배치 280 저장 완료 - 1002개\n"
     ]
    },
    {
     "name": "stderr",
     "output_type": "stream",
     "text": [
      "MFCC 추출 및 증강:  31%|███▏      | 94190/300584 [2:02:39<3:58:11, 14.44it/s]"
     ]
    },
    {
     "name": "stdout",
     "output_type": "stream",
     "text": [
      "배치 281 저장 완료 - 1002개\n"
     ]
    },
    {
     "name": "stderr",
     "output_type": "stream",
     "text": [
      "MFCC 추출 및 증강:  31%|███▏      | 94524/300584 [2:03:01<4:28:58, 12.77it/s]"
     ]
    },
    {
     "name": "stdout",
     "output_type": "stream",
     "text": [
      "배치 282 저장 완료 - 1002개\n"
     ]
    },
    {
     "name": "stderr",
     "output_type": "stream",
     "text": [
      "MFCC 추출 및 증강:  32%|███▏      | 94859/300584 [2:03:24<3:58:18, 14.39it/s]"
     ]
    },
    {
     "name": "stdout",
     "output_type": "stream",
     "text": [
      "배치 283 저장 완료 - 1002개\n"
     ]
    },
    {
     "name": "stderr",
     "output_type": "stream",
     "text": [
      "MFCC 추출 및 증강:  32%|███▏      | 95192/300584 [2:03:46<4:41:13, 12.17it/s]"
     ]
    },
    {
     "name": "stdout",
     "output_type": "stream",
     "text": [
      "배치 284 저장 완료 - 1002개\n"
     ]
    },
    {
     "name": "stderr",
     "output_type": "stream",
     "text": [
      "MFCC 추출 및 증강:  32%|███▏      | 95528/300584 [2:04:12<4:14:14, 13.44it/s]"
     ]
    },
    {
     "name": "stdout",
     "output_type": "stream",
     "text": [
      "배치 285 저장 완료 - 1002개\n"
     ]
    },
    {
     "name": "stderr",
     "output_type": "stream",
     "text": [
      "MFCC 추출 및 증강:  32%|███▏      | 95861/300584 [2:04:41<4:58:48, 11.42it/s]"
     ]
    },
    {
     "name": "stdout",
     "output_type": "stream",
     "text": [
      "배치 286 저장 완료 - 1002개\n"
     ]
    },
    {
     "name": "stderr",
     "output_type": "stream",
     "text": [
      "MFCC 추출 및 증강:  32%|███▏      | 96193/300584 [2:05:08<4:28:02, 12.71it/s]"
     ]
    },
    {
     "name": "stdout",
     "output_type": "stream",
     "text": [
      "배치 287 저장 완료 - 1002개\n"
     ]
    },
    {
     "name": "stderr",
     "output_type": "stream",
     "text": [
      "MFCC 추출 및 증강:  32%|███▏      | 96526/300584 [2:05:37<7:14:53,  7.82it/s]"
     ]
    },
    {
     "name": "stdout",
     "output_type": "stream",
     "text": [
      "배치 288 저장 완료 - 1002개\n"
     ]
    },
    {
     "name": "stderr",
     "output_type": "stream",
     "text": [
      "MFCC 추출 및 증강:  32%|███▏      | 96862/300584 [2:06:04<3:51:11, 14.69it/s]"
     ]
    },
    {
     "name": "stdout",
     "output_type": "stream",
     "text": [
      "배치 289 저장 완료 - 1002개\n"
     ]
    },
    {
     "name": "stderr",
     "output_type": "stream",
     "text": [
      "MFCC 추출 및 증강:  32%|███▏      | 97195/300584 [2:06:29<4:57:17, 11.40it/s]"
     ]
    },
    {
     "name": "stdout",
     "output_type": "stream",
     "text": [
      "배치 290 저장 완료 - 1002개\n"
     ]
    },
    {
     "name": "stderr",
     "output_type": "stream",
     "text": [
      "MFCC 추출 및 증강:  32%|███▏      | 97530/300584 [2:06:55<4:29:48, 12.54it/s]"
     ]
    },
    {
     "name": "stdout",
     "output_type": "stream",
     "text": [
      "배치 291 저장 완료 - 1002개\n"
     ]
    },
    {
     "name": "stderr",
     "output_type": "stream",
     "text": [
      "MFCC 추출 및 증강:  33%|███▎      | 97864/300584 [2:07:22<4:28:48, 12.57it/s]"
     ]
    },
    {
     "name": "stdout",
     "output_type": "stream",
     "text": [
      "배치 292 저장 완료 - 1002개\n"
     ]
    },
    {
     "name": "stderr",
     "output_type": "stream",
     "text": [
      "MFCC 추출 및 증강:  33%|███▎      | 98197/300584 [2:07:48<5:14:29, 10.73it/s]"
     ]
    },
    {
     "name": "stdout",
     "output_type": "stream",
     "text": [
      "배치 293 저장 완료 - 1002개\n"
     ]
    },
    {
     "name": "stderr",
     "output_type": "stream",
     "text": [
      "MFCC 추출 및 증강:  33%|███▎      | 98531/300584 [2:08:15<6:08:32,  9.14it/s]"
     ]
    },
    {
     "name": "stdout",
     "output_type": "stream",
     "text": [
      "배치 294 저장 완료 - 1002개\n"
     ]
    },
    {
     "name": "stderr",
     "output_type": "stream",
     "text": [
      "MFCC 추출 및 증강:  33%|███▎      | 98864/300584 [2:08:43<5:13:33, 10.72it/s]"
     ]
    },
    {
     "name": "stdout",
     "output_type": "stream",
     "text": [
      "배치 295 저장 완료 - 1002개\n"
     ]
    },
    {
     "name": "stderr",
     "output_type": "stream",
     "text": [
      "MFCC 추출 및 증강:  33%|███▎      | 99198/300584 [2:09:14<5:54:05,  9.48it/s]"
     ]
    },
    {
     "name": "stdout",
     "output_type": "stream",
     "text": [
      "배치 296 저장 완료 - 1002개\n"
     ]
    },
    {
     "name": "stderr",
     "output_type": "stream",
     "text": [
      "MFCC 추출 및 증강:  33%|███▎      | 99532/300584 [2:09:44<5:26:52, 10.25it/s]"
     ]
    },
    {
     "name": "stdout",
     "output_type": "stream",
     "text": [
      "배치 297 저장 완료 - 1002개\n"
     ]
    },
    {
     "name": "stderr",
     "output_type": "stream",
     "text": [
      "MFCC 추출 및 증강:  33%|███▎      | 99866/300584 [2:10:13<6:02:04,  9.24it/s]"
     ]
    },
    {
     "name": "stdout",
     "output_type": "stream",
     "text": [
      "배치 298 저장 완료 - 1002개\n"
     ]
    },
    {
     "name": "stderr",
     "output_type": "stream",
     "text": [
      "MFCC 추출 및 증강:  33%|███▎      | 100201/300584 [2:10:44<6:50:08,  8.14it/s]"
     ]
    },
    {
     "name": "stdout",
     "output_type": "stream",
     "text": [
      "배치 299 저장 완료 - 1002개\n"
     ]
    },
    {
     "name": "stderr",
     "output_type": "stream",
     "text": [
      "MFCC 추출 및 증강:  33%|███▎      | 100536/300584 [2:11:16<4:08:11, 13.43it/s]"
     ]
    },
    {
     "name": "stdout",
     "output_type": "stream",
     "text": [
      "배치 300 저장 완료 - 1002개\n"
     ]
    },
    {
     "name": "stderr",
     "output_type": "stream",
     "text": [
      "MFCC 추출 및 증강:  34%|███▎      | 100872/300584 [2:11:42<4:28:46, 12.38it/s]"
     ]
    },
    {
     "name": "stdout",
     "output_type": "stream",
     "text": [
      "배치 301 저장 완료 - 1002개\n"
     ]
    },
    {
     "name": "stderr",
     "output_type": "stream",
     "text": [
      "MFCC 추출 및 증강:  34%|███▎      | 101203/300584 [2:12:09<7:23:45,  7.49it/s]"
     ]
    },
    {
     "name": "stdout",
     "output_type": "stream",
     "text": [
      "배치 302 저장 완료 - 1002개\n"
     ]
    },
    {
     "name": "stderr",
     "output_type": "stream",
     "text": [
      "MFCC 추출 및 증강:  34%|███▍      | 101537/300584 [2:12:36<4:37:54, 11.94it/s]"
     ]
    },
    {
     "name": "stdout",
     "output_type": "stream",
     "text": [
      "배치 303 저장 완료 - 1002개\n"
     ]
    },
    {
     "name": "stderr",
     "output_type": "stream",
     "text": [
      "MFCC 추출 및 증강:  34%|███▍      | 101871/300584 [2:13:04<4:43:39, 11.68it/s]"
     ]
    },
    {
     "name": "stdout",
     "output_type": "stream",
     "text": [
      "배치 304 저장 완료 - 1002개\n"
     ]
    },
    {
     "name": "stderr",
     "output_type": "stream",
     "text": [
      "MFCC 추출 및 증강:  34%|███▍      | 102205/300584 [2:13:33<5:00:15, 11.01it/s]"
     ]
    },
    {
     "name": "stdout",
     "output_type": "stream",
     "text": [
      "배치 305 저장 완료 - 1002개\n"
     ]
    },
    {
     "name": "stderr",
     "output_type": "stream",
     "text": [
      "MFCC 추출 및 증강:  34%|███▍      | 102540/300584 [2:14:01<4:18:28, 12.77it/s]"
     ]
    },
    {
     "name": "stdout",
     "output_type": "stream",
     "text": [
      "배치 306 저장 완료 - 1002개\n"
     ]
    },
    {
     "name": "stderr",
     "output_type": "stream",
     "text": [
      "MFCC 추출 및 증강:  34%|███▍      | 102875/300584 [2:14:27<4:00:07, 13.72it/s]"
     ]
    },
    {
     "name": "stdout",
     "output_type": "stream",
     "text": [
      "배치 307 저장 완료 - 1002개\n"
     ]
    },
    {
     "name": "stderr",
     "output_type": "stream",
     "text": [
      "MFCC 추출 및 증강:  34%|███▍      | 103207/300584 [2:14:53<4:54:52, 11.16it/s]"
     ]
    },
    {
     "name": "stdout",
     "output_type": "stream",
     "text": [
      "배치 308 저장 완료 - 1002개\n"
     ]
    },
    {
     "name": "stderr",
     "output_type": "stream",
     "text": [
      "MFCC 추출 및 증강:  34%|███▍      | 103542/300584 [2:15:21<4:52:44, 11.22it/s]"
     ]
    },
    {
     "name": "stdout",
     "output_type": "stream",
     "text": [
      "배치 309 저장 완료 - 1002개\n"
     ]
    },
    {
     "name": "stderr",
     "output_type": "stream",
     "text": [
      "MFCC 추출 및 증강:  35%|███▍      | 103876/300584 [2:15:48<5:16:08, 10.37it/s]"
     ]
    },
    {
     "name": "stdout",
     "output_type": "stream",
     "text": [
      "배치 310 저장 완료 - 1002개\n"
     ]
    },
    {
     "name": "stderr",
     "output_type": "stream",
     "text": [
      "MFCC 추출 및 증강:  35%|███▍      | 104210/300584 [2:16:18<5:46:32,  9.44it/s]"
     ]
    },
    {
     "name": "stdout",
     "output_type": "stream",
     "text": [
      "배치 311 저장 완료 - 1002개\n"
     ]
    },
    {
     "name": "stderr",
     "output_type": "stream",
     "text": [
      "MFCC 추출 및 증강:  35%|███▍      | 104543/300584 [2:16:46<10:10:12,  5.35it/s]"
     ]
    },
    {
     "name": "stdout",
     "output_type": "stream",
     "text": [
      "배치 312 저장 완료 - 1002개\n"
     ]
    },
    {
     "name": "stderr",
     "output_type": "stream",
     "text": [
      "MFCC 추출 및 증강:  35%|███▍      | 104879/300584 [2:17:20<4:52:49, 11.14it/s] "
     ]
    },
    {
     "name": "stdout",
     "output_type": "stream",
     "text": [
      "배치 313 저장 완료 - 1002개\n"
     ]
    },
    {
     "name": "stderr",
     "output_type": "stream",
     "text": [
      "MFCC 추출 및 증강:  35%|███▌      | 105211/300584 [2:17:53<7:03:48,  7.68it/s]"
     ]
    },
    {
     "name": "stdout",
     "output_type": "stream",
     "text": [
      "배치 314 저장 완료 - 1002개\n"
     ]
    },
    {
     "name": "stderr",
     "output_type": "stream",
     "text": [
      "MFCC 추출 및 증강:  35%|███▌      | 105546/300584 [2:18:25<4:05:32, 13.24it/s]"
     ]
    },
    {
     "name": "stdout",
     "output_type": "stream",
     "text": [
      "배치 315 저장 완료 - 1002개\n"
     ]
    },
    {
     "name": "stderr",
     "output_type": "stream",
     "text": [
      "MFCC 추출 및 증강:  35%|███▌      | 105879/300584 [2:18:56<7:43:28,  7.00it/s]"
     ]
    },
    {
     "name": "stdout",
     "output_type": "stream",
     "text": [
      "배치 316 저장 완료 - 1002개\n"
     ]
    },
    {
     "name": "stderr",
     "output_type": "stream",
     "text": [
      "MFCC 추출 및 증강:  35%|███▌      | 106212/300584 [2:19:27<4:49:17, 11.20it/s]"
     ]
    },
    {
     "name": "stdout",
     "output_type": "stream",
     "text": [
      "배치 317 저장 완료 - 1002개\n"
     ]
    },
    {
     "name": "stderr",
     "output_type": "stream",
     "text": [
      "MFCC 추출 및 증강:  35%|███▌      | 106548/300584 [2:19:59<4:29:53, 11.98it/s]"
     ]
    },
    {
     "name": "stdout",
     "output_type": "stream",
     "text": [
      "배치 318 저장 완료 - 1002개\n"
     ]
    },
    {
     "name": "stderr",
     "output_type": "stream",
     "text": [
      "MFCC 추출 및 증강:  36%|███▌      | 106881/300584 [2:20:25<5:11:04, 10.38it/s]"
     ]
    },
    {
     "name": "stdout",
     "output_type": "stream",
     "text": [
      "배치 319 저장 완료 - 1002개\n"
     ]
    },
    {
     "name": "stderr",
     "output_type": "stream",
     "text": [
      "MFCC 추출 및 증강:  36%|███▌      | 107217/300584 [2:20:50<5:17:11, 10.16it/s]"
     ]
    },
    {
     "name": "stdout",
     "output_type": "stream",
     "text": [
      "배치 320 저장 완료 - 1002개\n"
     ]
    },
    {
     "name": "stderr",
     "output_type": "stream",
     "text": [
      "MFCC 추출 및 증강:  36%|███▌      | 107550/300584 [2:21:16<5:11:42, 10.32it/s]"
     ]
    },
    {
     "name": "stdout",
     "output_type": "stream",
     "text": [
      "배치 321 저장 완료 - 1002개\n"
     ]
    },
    {
     "name": "stderr",
     "output_type": "stream",
     "text": [
      "MFCC 추출 및 증강:  36%|███▌      | 107884/300584 [2:21:44<5:30:36,  9.71it/s]"
     ]
    },
    {
     "name": "stdout",
     "output_type": "stream",
     "text": [
      "배치 322 저장 완료 - 1002개\n"
     ]
    },
    {
     "name": "stderr",
     "output_type": "stream",
     "text": [
      "MFCC 추출 및 증강:  36%|███▌      | 108218/300584 [2:22:11<4:25:07, 12.09it/s]"
     ]
    },
    {
     "name": "stdout",
     "output_type": "stream",
     "text": [
      "배치 323 저장 완료 - 1002개\n"
     ]
    },
    {
     "name": "stderr",
     "output_type": "stream",
     "text": [
      "MFCC 추출 및 증강:  36%|███▌      | 108552/300584 [2:22:38<4:38:24, 11.50it/s]"
     ]
    },
    {
     "name": "stdout",
     "output_type": "stream",
     "text": [
      "배치 324 저장 완료 - 1002개\n"
     ]
    },
    {
     "name": "stderr",
     "output_type": "stream",
     "text": [
      "MFCC 추출 및 증강:  36%|███▌      | 108885/300584 [2:23:04<4:48:45, 11.06it/s]"
     ]
    },
    {
     "name": "stdout",
     "output_type": "stream",
     "text": [
      "배치 325 저장 완료 - 1002개\n"
     ]
    },
    {
     "name": "stderr",
     "output_type": "stream",
     "text": [
      "MFCC 추출 및 증강:  36%|███▋      | 109220/300584 [2:23:30<5:58:15,  8.90it/s]"
     ]
    },
    {
     "name": "stdout",
     "output_type": "stream",
     "text": [
      "배치 326 저장 완료 - 1002개\n"
     ]
    },
    {
     "name": "stderr",
     "output_type": "stream",
     "text": [
      "MFCC 추출 및 증강:  36%|███▋      | 109553/300584 [2:23:57<4:37:28, 11.47it/s]"
     ]
    },
    {
     "name": "stdout",
     "output_type": "stream",
     "text": [
      "배치 327 저장 완료 - 1002개\n"
     ]
    },
    {
     "name": "stderr",
     "output_type": "stream",
     "text": [
      "MFCC 추출 및 증강:  37%|███▋      | 109887/300584 [2:24:24<6:13:12,  8.52it/s]"
     ]
    },
    {
     "name": "stdout",
     "output_type": "stream",
     "text": [
      "배치 328 저장 완료 - 1002개\n"
     ]
    },
    {
     "name": "stderr",
     "output_type": "stream",
     "text": [
      "MFCC 추출 및 증강:  37%|███▋      | 110222/300584 [2:24:50<4:18:20, 12.28it/s]"
     ]
    },
    {
     "name": "stdout",
     "output_type": "stream",
     "text": [
      "배치 329 저장 완료 - 1002개\n"
     ]
    },
    {
     "name": "stderr",
     "output_type": "stream",
     "text": [
      "MFCC 추출 및 증강:  37%|███▋      | 110556/300584 [2:25:17<4:25:11, 11.94it/s]"
     ]
    },
    {
     "name": "stdout",
     "output_type": "stream",
     "text": [
      "배치 330 저장 완료 - 1002개\n"
     ]
    },
    {
     "name": "stderr",
     "output_type": "stream",
     "text": [
      "MFCC 추출 및 증강:  37%|███▋      | 110889/300584 [2:25:43<3:45:15, 14.04it/s]"
     ]
    },
    {
     "name": "stdout",
     "output_type": "stream",
     "text": [
      "배치 331 저장 완료 - 1002개\n"
     ]
    },
    {
     "name": "stderr",
     "output_type": "stream",
     "text": [
      "MFCC 추출 및 증강:  37%|███▋      | 111224/300584 [2:26:10<4:02:07, 13.03it/s]"
     ]
    },
    {
     "name": "stdout",
     "output_type": "stream",
     "text": [
      "배치 332 저장 완료 - 1002개\n"
     ]
    },
    {
     "name": "stderr",
     "output_type": "stream",
     "text": [
      "MFCC 추출 및 증강:  37%|███▋      | 111558/300584 [2:26:36<3:40:20, 14.30it/s]"
     ]
    },
    {
     "name": "stdout",
     "output_type": "stream",
     "text": [
      "배치 333 저장 완료 - 1002개\n"
     ]
    },
    {
     "name": "stderr",
     "output_type": "stream",
     "text": [
      "MFCC 추출 및 증강:  37%|███▋      | 111893/300584 [2:27:06<6:02:06,  8.69it/s]"
     ]
    },
    {
     "name": "stdout",
     "output_type": "stream",
     "text": [
      "배치 334 저장 완료 - 1002개\n"
     ]
    },
    {
     "name": "stderr",
     "output_type": "stream",
     "text": [
      "MFCC 추출 및 증강:  37%|███▋      | 112225/300584 [2:27:38<6:34:00,  7.97it/s]"
     ]
    },
    {
     "name": "stdout",
     "output_type": "stream",
     "text": [
      "배치 335 저장 완료 - 1002개\n"
     ]
    },
    {
     "name": "stderr",
     "output_type": "stream",
     "text": [
      "MFCC 추출 및 증강:  37%|███▋      | 112560/300584 [2:28:08<3:58:33, 13.14it/s]"
     ]
    },
    {
     "name": "stdout",
     "output_type": "stream",
     "text": [
      "배치 336 저장 완료 - 1002개\n"
     ]
    },
    {
     "name": "stderr",
     "output_type": "stream",
     "text": [
      "MFCC 추출 및 증강:  38%|███▊      | 112894/300584 [2:28:38<4:19:15, 12.07it/s]"
     ]
    },
    {
     "name": "stdout",
     "output_type": "stream",
     "text": [
      "배치 337 저장 완료 - 1002개\n"
     ]
    },
    {
     "name": "stderr",
     "output_type": "stream",
     "text": [
      "MFCC 추출 및 증강:  38%|███▊      | 113227/300584 [2:29:08<4:45:10, 10.95it/s]"
     ]
    },
    {
     "name": "stdout",
     "output_type": "stream",
     "text": [
      "배치 338 저장 완료 - 1002개\n"
     ]
    },
    {
     "name": "stderr",
     "output_type": "stream",
     "text": [
      "MFCC 추출 및 증강:  38%|███▊      | 113563/300584 [2:29:38<4:41:38, 11.07it/s]"
     ]
    },
    {
     "name": "stdout",
     "output_type": "stream",
     "text": [
      "배치 339 저장 완료 - 1002개\n"
     ]
    },
    {
     "name": "stderr",
     "output_type": "stream",
     "text": [
      "MFCC 추출 및 증강:  38%|███▊      | 113895/300584 [2:30:08<6:42:32,  7.73it/s]"
     ]
    },
    {
     "name": "stdout",
     "output_type": "stream",
     "text": [
      "배치 340 저장 완료 - 1002개\n"
     ]
    },
    {
     "name": "stderr",
     "output_type": "stream",
     "text": [
      "MFCC 추출 및 증강:  38%|███▊      | 114231/300584 [2:30:40<5:24:33,  9.57it/s]"
     ]
    },
    {
     "name": "stdout",
     "output_type": "stream",
     "text": [
      "배치 341 저장 완료 - 1002개\n"
     ]
    },
    {
     "name": "stderr",
     "output_type": "stream",
     "text": [
      "MFCC 추출 및 증강:  38%|███▊      | 114565/300584 [2:31:11<5:17:55,  9.75it/s]"
     ]
    },
    {
     "name": "stdout",
     "output_type": "stream",
     "text": [
      "배치 342 저장 완료 - 1002개\n"
     ]
    },
    {
     "name": "stderr",
     "output_type": "stream",
     "text": [
      "MFCC 추출 및 증강:  38%|███▊      | 114898/300584 [2:31:38<4:43:30, 10.92it/s]"
     ]
    },
    {
     "name": "stdout",
     "output_type": "stream",
     "text": [
      "배치 343 저장 완료 - 1002개\n"
     ]
    },
    {
     "name": "stderr",
     "output_type": "stream",
     "text": [
      "MFCC 추출 및 증강:  38%|███▊      | 115231/300584 [2:32:07<4:57:58, 10.37it/s]"
     ]
    },
    {
     "name": "stdout",
     "output_type": "stream",
     "text": [
      "배치 344 저장 완료 - 1002개\n"
     ]
    },
    {
     "name": "stderr",
     "output_type": "stream",
     "text": [
      "MFCC 추출 및 증강:  38%|███▊      | 115565/300584 [2:32:34<4:27:11, 11.54it/s]"
     ]
    },
    {
     "name": "stdout",
     "output_type": "stream",
     "text": [
      "배치 345 저장 완료 - 1002개\n"
     ]
    },
    {
     "name": "stderr",
     "output_type": "stream",
     "text": [
      "MFCC 추출 및 증강:  39%|███▊      | 115900/300584 [2:33:02<3:42:18, 13.85it/s]"
     ]
    },
    {
     "name": "stdout",
     "output_type": "stream",
     "text": [
      "배치 346 저장 완료 - 1002개\n"
     ]
    },
    {
     "name": "stderr",
     "output_type": "stream",
     "text": [
      "MFCC 추출 및 증강:  39%|███▊      | 116232/300584 [2:33:31<5:20:55,  9.57it/s]"
     ]
    },
    {
     "name": "stdout",
     "output_type": "stream",
     "text": [
      "배치 347 저장 완료 - 1002개\n"
     ]
    },
    {
     "name": "stderr",
     "output_type": "stream",
     "text": [
      "MFCC 추출 및 증강:  39%|███▉      | 116567/300584 [2:34:05<5:21:50,  9.53it/s]"
     ]
    },
    {
     "name": "stdout",
     "output_type": "stream",
     "text": [
      "배치 348 저장 완료 - 1002개\n"
     ]
    },
    {
     "name": "stderr",
     "output_type": "stream",
     "text": [
      "MFCC 추출 및 증강:  39%|███▉      | 116901/300584 [2:34:42<8:26:47,  6.04it/s]"
     ]
    },
    {
     "name": "stdout",
     "output_type": "stream",
     "text": [
      "배치 349 저장 완료 - 1002개\n"
     ]
    },
    {
     "name": "stderr",
     "output_type": "stream",
     "text": [
      "MFCC 추출 및 증강:  39%|███▉      | 117236/300584 [2:35:16<5:48:12,  8.78it/s]"
     ]
    },
    {
     "name": "stdout",
     "output_type": "stream",
     "text": [
      "배치 350 저장 완료 - 1002개\n"
     ]
    },
    {
     "name": "stderr",
     "output_type": "stream",
     "text": [
      "MFCC 추출 및 증강:  39%|███▉      | 117570/300584 [2:35:49<4:52:50, 10.42it/s]"
     ]
    },
    {
     "name": "stdout",
     "output_type": "stream",
     "text": [
      "배치 351 저장 완료 - 1002개\n"
     ]
    },
    {
     "name": "stderr",
     "output_type": "stream",
     "text": [
      "MFCC 추출 및 증강:  39%|███▉      | 117903/300584 [2:36:23<5:44:05,  8.85it/s]"
     ]
    },
    {
     "name": "stdout",
     "output_type": "stream",
     "text": [
      "배치 352 저장 완료 - 1002개\n"
     ]
    },
    {
     "name": "stderr",
     "output_type": "stream",
     "text": [
      "MFCC 추출 및 증강:  39%|███▉      | 118239/300584 [2:37:00<5:25:34,  9.33it/s]"
     ]
    },
    {
     "name": "stdout",
     "output_type": "stream",
     "text": [
      "배치 353 저장 완료 - 1002개\n"
     ]
    },
    {
     "name": "stderr",
     "output_type": "stream",
     "text": [
      "MFCC 추출 및 증강:  39%|███▉      | 118572/300584 [2:37:33<5:14:15,  9.65it/s]"
     ]
    },
    {
     "name": "stdout",
     "output_type": "stream",
     "text": [
      "배치 354 저장 완료 - 1002개\n"
     ]
    },
    {
     "name": "stderr",
     "output_type": "stream",
     "text": [
      "MFCC 추출 및 증강:  40%|███▉      | 118906/300584 [2:38:03<5:53:42,  8.56it/s]"
     ]
    },
    {
     "name": "stdout",
     "output_type": "stream",
     "text": [
      "배치 355 저장 완료 - 1002개\n"
     ]
    },
    {
     "name": "stderr",
     "output_type": "stream",
     "text": [
      "MFCC 추출 및 증강:  40%|███▉      | 119240/300584 [2:38:27<3:42:36, 13.58it/s]"
     ]
    },
    {
     "name": "stdout",
     "output_type": "stream",
     "text": [
      "배치 356 저장 완료 - 1002개\n"
     ]
    },
    {
     "name": "stderr",
     "output_type": "stream",
     "text": [
      "MFCC 추출 및 증강:  40%|███▉      | 119572/300584 [2:38:48<3:13:43, 15.57it/s]"
     ]
    },
    {
     "name": "stdout",
     "output_type": "stream",
     "text": [
      "배치 357 저장 완료 - 1002개\n"
     ]
    },
    {
     "name": "stderr",
     "output_type": "stream",
     "text": [
      "MFCC 추출 및 증강:  40%|███▉      | 119907/300584 [2:39:14<4:42:18, 10.67it/s]"
     ]
    },
    {
     "name": "stdout",
     "output_type": "stream",
     "text": [
      "배치 358 저장 완료 - 1002개\n"
     ]
    },
    {
     "name": "stderr",
     "output_type": "stream",
     "text": [
      "MFCC 추출 및 증강:  40%|████      | 120241/300584 [2:39:38<5:49:25,  8.60it/s]"
     ]
    },
    {
     "name": "stdout",
     "output_type": "stream",
     "text": [
      "배치 359 저장 완료 - 1002개\n"
     ]
    },
    {
     "name": "stderr",
     "output_type": "stream",
     "text": [
      "MFCC 추출 및 증강:  40%|████      | 120577/300584 [2:40:02<3:46:50, 13.23it/s]"
     ]
    },
    {
     "name": "stdout",
     "output_type": "stream",
     "text": [
      "배치 360 저장 완료 - 1002개\n"
     ]
    },
    {
     "name": "stderr",
     "output_type": "stream",
     "text": [
      "MFCC 추출 및 증강:  40%|████      | 120910/300584 [2:40:26<4:47:32, 10.41it/s]"
     ]
    },
    {
     "name": "stdout",
     "output_type": "stream",
     "text": [
      "배치 361 저장 완료 - 1002개\n"
     ]
    },
    {
     "name": "stderr",
     "output_type": "stream",
     "text": [
      "MFCC 추출 및 증강:  40%|████      | 121244/300584 [2:40:49<3:32:20, 14.08it/s]"
     ]
    },
    {
     "name": "stdout",
     "output_type": "stream",
     "text": [
      "배치 362 저장 완료 - 1002개\n"
     ]
    },
    {
     "name": "stderr",
     "output_type": "stream",
     "text": [
      "MFCC 추출 및 증강:  40%|████      | 121578/300584 [2:41:11<5:51:05,  8.50it/s]"
     ]
    },
    {
     "name": "stdout",
     "output_type": "stream",
     "text": [
      "배치 363 저장 완료 - 1002개\n"
     ]
    },
    {
     "name": "stderr",
     "output_type": "stream",
     "text": [
      "MFCC 추출 및 증강:  41%|████      | 121912/300584 [2:41:34<4:14:45, 11.69it/s]"
     ]
    },
    {
     "name": "stdout",
     "output_type": "stream",
     "text": [
      "배치 364 저장 완료 - 1002개\n"
     ]
    },
    {
     "name": "stderr",
     "output_type": "stream",
     "text": [
      "MFCC 추출 및 증강:  41%|████      | 122246/300584 [2:41:57<3:40:12, 13.50it/s]"
     ]
    },
    {
     "name": "stdout",
     "output_type": "stream",
     "text": [
      "배치 365 저장 완료 - 1002개\n"
     ]
    },
    {
     "name": "stderr",
     "output_type": "stream",
     "text": [
      "MFCC 추출 및 증강:  41%|████      | 122579/300584 [2:42:21<4:14:19, 11.67it/s]"
     ]
    },
    {
     "name": "stdout",
     "output_type": "stream",
     "text": [
      "배치 366 저장 완료 - 1002개\n"
     ]
    },
    {
     "name": "stderr",
     "output_type": "stream",
     "text": [
      "MFCC 추출 및 증강:  41%|████      | 122914/300584 [2:42:45<5:16:19,  9.36it/s]"
     ]
    },
    {
     "name": "stdout",
     "output_type": "stream",
     "text": [
      "배치 367 저장 완료 - 1002개\n"
     ]
    },
    {
     "name": "stderr",
     "output_type": "stream",
     "text": [
      "MFCC 추출 및 증강:  41%|████      | 123249/300584 [2:43:08<3:32:56, 13.88it/s]"
     ]
    },
    {
     "name": "stdout",
     "output_type": "stream",
     "text": [
      "배치 368 저장 완료 - 1002개\n"
     ]
    },
    {
     "name": "stderr",
     "output_type": "stream",
     "text": [
      "MFCC 추출 및 증강:  41%|████      | 123584/300584 [2:43:33<4:25:21, 11.12it/s]"
     ]
    },
    {
     "name": "stdout",
     "output_type": "stream",
     "text": [
      "배치 369 저장 완료 - 1002개\n"
     ]
    },
    {
     "name": "stderr",
     "output_type": "stream",
     "text": [
      "MFCC 추출 및 증강:  41%|████      | 123916/300584 [2:43:58<4:16:05, 11.50it/s]"
     ]
    },
    {
     "name": "stdout",
     "output_type": "stream",
     "text": [
      "배치 370 저장 완료 - 1002개\n"
     ]
    },
    {
     "name": "stderr",
     "output_type": "stream",
     "text": [
      "MFCC 추출 및 증강:  41%|████▏     | 124250/300584 [2:44:21<3:18:26, 14.81it/s]"
     ]
    },
    {
     "name": "stdout",
     "output_type": "stream",
     "text": [
      "배치 371 저장 완료 - 1002개\n"
     ]
    },
    {
     "name": "stderr",
     "output_type": "stream",
     "text": [
      "MFCC 추출 및 증강:  41%|████▏     | 124584/300584 [2:44:46<4:19:28, 11.30it/s]"
     ]
    },
    {
     "name": "stdout",
     "output_type": "stream",
     "text": [
      "배치 372 저장 완료 - 1002개\n"
     ]
    },
    {
     "name": "stderr",
     "output_type": "stream",
     "text": [
      "MFCC 추출 및 증강:  42%|████▏     | 124918/300584 [2:45:12<4:37:41, 10.54it/s]"
     ]
    },
    {
     "name": "stdout",
     "output_type": "stream",
     "text": [
      "배치 373 저장 완료 - 1002개\n"
     ]
    },
    {
     "name": "stderr",
     "output_type": "stream",
     "text": [
      "MFCC 추출 및 증강:  42%|████▏     | 125253/300584 [2:45:37<3:46:26, 12.90it/s]"
     ]
    },
    {
     "name": "stdout",
     "output_type": "stream",
     "text": [
      "배치 374 저장 완료 - 1002개\n"
     ]
    },
    {
     "name": "stderr",
     "output_type": "stream",
     "text": [
      "MFCC 추출 및 증강:  42%|████▏     | 125585/300584 [2:46:01<4:37:19, 10.52it/s]"
     ]
    },
    {
     "name": "stdout",
     "output_type": "stream",
     "text": [
      "배치 375 저장 완료 - 1002개\n"
     ]
    },
    {
     "name": "stderr",
     "output_type": "stream",
     "text": [
      "MFCC 추출 및 증강:  42%|████▏     | 125921/300584 [2:46:25<2:54:51, 16.65it/s]"
     ]
    },
    {
     "name": "stdout",
     "output_type": "stream",
     "text": [
      "배치 376 저장 완료 - 1002개\n"
     ]
    },
    {
     "name": "stderr",
     "output_type": "stream",
     "text": [
      "MFCC 추출 및 증강:  42%|████▏     | 126255/300584 [2:46:48<4:27:38, 10.86it/s]"
     ]
    },
    {
     "name": "stdout",
     "output_type": "stream",
     "text": [
      "배치 377 저장 완료 - 1002개\n"
     ]
    },
    {
     "name": "stderr",
     "output_type": "stream",
     "text": [
      "MFCC 추출 및 증강:  42%|████▏     | 126587/300584 [2:47:13<5:33:05,  8.71it/s]"
     ]
    },
    {
     "name": "stdout",
     "output_type": "stream",
     "text": [
      "배치 378 저장 완료 - 1002개\n"
     ]
    },
    {
     "name": "stderr",
     "output_type": "stream",
     "text": [
      "MFCC 추출 및 증강:  42%|████▏     | 126922/300584 [2:47:37<3:28:45, 13.87it/s]"
     ]
    },
    {
     "name": "stdout",
     "output_type": "stream",
     "text": [
      "배치 379 저장 완료 - 1002개\n"
     ]
    },
    {
     "name": "stderr",
     "output_type": "stream",
     "text": [
      "MFCC 추출 및 증강:  42%|████▏     | 127256/300584 [2:48:01<4:35:02, 10.50it/s]"
     ]
    },
    {
     "name": "stdout",
     "output_type": "stream",
     "text": [
      "배치 380 저장 완료 - 1002개\n"
     ]
    },
    {
     "name": "stderr",
     "output_type": "stream",
     "text": [
      "MFCC 추출 및 증강:  42%|████▏     | 127591/300584 [2:48:25<4:19:50, 11.10it/s]"
     ]
    },
    {
     "name": "stdout",
     "output_type": "stream",
     "text": [
      "배치 381 저장 완료 - 1002개\n"
     ]
    },
    {
     "name": "stderr",
     "output_type": "stream",
     "text": [
      "MFCC 추출 및 증강:  43%|████▎     | 127924/300584 [2:48:50<3:41:20, 13.00it/s]"
     ]
    },
    {
     "name": "stdout",
     "output_type": "stream",
     "text": [
      "배치 382 저장 완료 - 1002개\n"
     ]
    },
    {
     "name": "stderr",
     "output_type": "stream",
     "text": [
      "MFCC 추출 및 증강:  43%|████▎     | 128257/300584 [2:49:14<4:01:30, 11.89it/s]"
     ]
    },
    {
     "name": "stdout",
     "output_type": "stream",
     "text": [
      "배치 383 저장 완료 - 1002개\n"
     ]
    },
    {
     "name": "stderr",
     "output_type": "stream",
     "text": [
      "MFCC 추출 및 증강:  43%|████▎     | 128591/300584 [2:49:40<3:59:05, 11.99it/s]"
     ]
    },
    {
     "name": "stdout",
     "output_type": "stream",
     "text": [
      "배치 384 저장 완료 - 1002개\n"
     ]
    },
    {
     "name": "stderr",
     "output_type": "stream",
     "text": [
      "MFCC 추출 및 증강:  43%|████▎     | 128927/300584 [2:50:03<2:33:02, 18.69it/s]"
     ]
    },
    {
     "name": "stdout",
     "output_type": "stream",
     "text": [
      "배치 385 저장 완료 - 1002개\n"
     ]
    },
    {
     "name": "stderr",
     "output_type": "stream",
     "text": [
      "MFCC 추출 및 증강:  43%|████▎     | 129260/300584 [2:50:26<4:33:55, 10.42it/s]"
     ]
    },
    {
     "name": "stdout",
     "output_type": "stream",
     "text": [
      "배치 386 저장 완료 - 1002개\n"
     ]
    },
    {
     "name": "stderr",
     "output_type": "stream",
     "text": [
      "MFCC 추출 및 증강:  43%|████▎     | 129593/300584 [2:50:52<4:08:05, 11.49it/s]"
     ]
    },
    {
     "name": "stdout",
     "output_type": "stream",
     "text": [
      "배치 387 저장 완료 - 1002개\n"
     ]
    },
    {
     "name": "stderr",
     "output_type": "stream",
     "text": [
      "MFCC 추출 및 증강:  43%|████▎     | 129928/300584 [2:51:17<4:01:35, 11.77it/s]"
     ]
    },
    {
     "name": "stdout",
     "output_type": "stream",
     "text": [
      "배치 388 저장 완료 - 1002개\n"
     ]
    },
    {
     "name": "stderr",
     "output_type": "stream",
     "text": [
      "MFCC 추출 및 증강:  43%|████▎     | 130261/300584 [2:51:41<4:28:27, 10.57it/s]"
     ]
    },
    {
     "name": "stdout",
     "output_type": "stream",
     "text": [
      "배치 389 저장 완료 - 1002개\n"
     ]
    },
    {
     "name": "stderr",
     "output_type": "stream",
     "text": [
      "MFCC 추출 및 증강:  43%|████▎     | 130596/300584 [2:52:05<2:36:55, 18.05it/s]"
     ]
    },
    {
     "name": "stdout",
     "output_type": "stream",
     "text": [
      "배치 390 저장 완료 - 1002개\n"
     ]
    },
    {
     "name": "stderr",
     "output_type": "stream",
     "text": [
      "MFCC 추출 및 증강:  44%|████▎     | 130931/300584 [2:52:26<2:56:20, 16.04it/s]"
     ]
    },
    {
     "name": "stdout",
     "output_type": "stream",
     "text": [
      "배치 391 저장 완료 - 1002개\n"
     ]
    },
    {
     "name": "stderr",
     "output_type": "stream",
     "text": [
      "MFCC 추출 및 증강:  44%|████▎     | 131264/300584 [2:52:47<3:24:57, 13.77it/s]"
     ]
    },
    {
     "name": "stdout",
     "output_type": "stream",
     "text": [
      "배치 392 저장 완료 - 1002개\n"
     ]
    },
    {
     "name": "stderr",
     "output_type": "stream",
     "text": [
      "MFCC 추출 및 증강:  44%|████▍     | 131598/300584 [2:53:07<2:22:58, 19.70it/s]"
     ]
    },
    {
     "name": "stdout",
     "output_type": "stream",
     "text": [
      "배치 393 저장 완료 - 1002개\n"
     ]
    },
    {
     "name": "stderr",
     "output_type": "stream",
     "text": [
      "MFCC 추출 및 증강:  44%|████▍     | 131933/300584 [2:53:29<2:44:53, 17.05it/s]"
     ]
    },
    {
     "name": "stdout",
     "output_type": "stream",
     "text": [
      "배치 394 저장 완료 - 1002개\n"
     ]
    },
    {
     "name": "stderr",
     "output_type": "stream",
     "text": [
      "MFCC 추출 및 증강:  44%|████▍     | 132266/300584 [2:53:50<4:06:35, 11.38it/s]"
     ]
    },
    {
     "name": "stdout",
     "output_type": "stream",
     "text": [
      "배치 395 저장 완료 - 1002개\n"
     ]
    },
    {
     "name": "stderr",
     "output_type": "stream",
     "text": [
      "MFCC 추출 및 증강:  44%|████▍     | 132601/300584 [2:54:12<3:10:51, 14.67it/s]"
     ]
    },
    {
     "name": "stdout",
     "output_type": "stream",
     "text": [
      "배치 396 저장 완료 - 1002개\n"
     ]
    },
    {
     "name": "stderr",
     "output_type": "stream",
     "text": [
      "MFCC 추출 및 증강:  44%|████▍     | 132935/300584 [2:54:33<2:51:52, 16.26it/s]"
     ]
    },
    {
     "name": "stdout",
     "output_type": "stream",
     "text": [
      "배치 397 저장 완료 - 1002개\n"
     ]
    },
    {
     "name": "stderr",
     "output_type": "stream",
     "text": [
      "MFCC 추출 및 증강:  44%|████▍     | 133267/300584 [2:54:53<3:21:25, 13.84it/s]"
     ]
    },
    {
     "name": "stdout",
     "output_type": "stream",
     "text": [
      "배치 398 저장 완료 - 1002개\n"
     ]
    },
    {
     "name": "stderr",
     "output_type": "stream",
     "text": [
      "MFCC 추출 및 증강:  44%|████▍     | 133604/300584 [2:55:12<2:30:32, 18.49it/s]"
     ]
    },
    {
     "name": "stdout",
     "output_type": "stream",
     "text": [
      "배치 399 저장 완료 - 1002개\n"
     ]
    },
    {
     "name": "stderr",
     "output_type": "stream",
     "text": [
      "MFCC 추출 및 증강:  45%|████▍     | 133936/300584 [2:55:33<3:13:17, 14.37it/s]"
     ]
    },
    {
     "name": "stdout",
     "output_type": "stream",
     "text": [
      "배치 400 저장 완료 - 1002개\n"
     ]
    },
    {
     "name": "stderr",
     "output_type": "stream",
     "text": [
      "MFCC 추출 및 증강:  45%|████▍     | 134270/300584 [2:55:53<2:52:42, 16.05it/s]"
     ]
    },
    {
     "name": "stdout",
     "output_type": "stream",
     "text": [
      "배치 401 저장 완료 - 1002개\n"
     ]
    },
    {
     "name": "stderr",
     "output_type": "stream",
     "text": [
      "MFCC 추출 및 증강:  45%|████▍     | 134603/300584 [2:56:13<2:49:38, 16.31it/s]"
     ]
    },
    {
     "name": "stdout",
     "output_type": "stream",
     "text": [
      "배치 402 저장 완료 - 1002개\n"
     ]
    },
    {
     "name": "stderr",
     "output_type": "stream",
     "text": [
      "MFCC 추출 및 증강:  45%|████▍     | 134938/300584 [2:56:34<3:11:37, 14.41it/s]"
     ]
    },
    {
     "name": "stdout",
     "output_type": "stream",
     "text": [
      "배치 403 저장 완료 - 1002개\n"
     ]
    },
    {
     "name": "stderr",
     "output_type": "stream",
     "text": [
      "MFCC 추출 및 증강:  45%|████▌     | 135273/300584 [2:56:54<3:31:50, 13.01it/s]"
     ]
    },
    {
     "name": "stdout",
     "output_type": "stream",
     "text": [
      "배치 404 저장 완료 - 1002개\n"
     ]
    },
    {
     "name": "stderr",
     "output_type": "stream",
     "text": [
      "MFCC 추출 및 증강:  45%|████▌     | 135608/300584 [2:57:14<2:47:28, 16.42it/s]"
     ]
    },
    {
     "name": "stdout",
     "output_type": "stream",
     "text": [
      "배치 405 저장 완료 - 1002개\n"
     ]
    },
    {
     "name": "stderr",
     "output_type": "stream",
     "text": [
      "MFCC 추출 및 증강:  45%|████▌     | 135939/300584 [2:57:35<3:09:57, 14.45it/s]"
     ]
    },
    {
     "name": "stdout",
     "output_type": "stream",
     "text": [
      "배치 406 저장 완료 - 1002개\n"
     ]
    },
    {
     "name": "stderr",
     "output_type": "stream",
     "text": [
      "MFCC 추출 및 증강:  45%|████▌     | 136274/300584 [2:57:55<3:08:44, 14.51it/s]"
     ]
    },
    {
     "name": "stdout",
     "output_type": "stream",
     "text": [
      "배치 407 저장 완료 - 1002개\n"
     ]
    },
    {
     "name": "stderr",
     "output_type": "stream",
     "text": [
      "MFCC 추출 및 증강:  45%|████▌     | 136610/300584 [2:58:17<2:46:35, 16.40it/s]"
     ]
    },
    {
     "name": "stdout",
     "output_type": "stream",
     "text": [
      "배치 408 저장 완료 - 1002개\n"
     ]
    },
    {
     "name": "stderr",
     "output_type": "stream",
     "text": [
      "MFCC 추출 및 증강:  46%|████▌     | 136943/300584 [2:58:37<3:02:09, 14.97it/s]"
     ]
    },
    {
     "name": "stdout",
     "output_type": "stream",
     "text": [
      "배치 409 저장 완료 - 1002개\n"
     ]
    },
    {
     "name": "stderr",
     "output_type": "stream",
     "text": [
      "MFCC 추출 및 증강:  46%|████▌     | 137276/300584 [2:58:59<3:06:36, 14.59it/s]"
     ]
    },
    {
     "name": "stdout",
     "output_type": "stream",
     "text": [
      "배치 410 저장 완료 - 1002개\n"
     ]
    },
    {
     "name": "stderr",
     "output_type": "stream",
     "text": [
      "MFCC 추출 및 증강:  46%|████▌     | 137610/300584 [2:59:19<3:00:21, 15.06it/s]"
     ]
    },
    {
     "name": "stdout",
     "output_type": "stream",
     "text": [
      "배치 411 저장 완료 - 1002개\n"
     ]
    },
    {
     "name": "stderr",
     "output_type": "stream",
     "text": [
      "MFCC 추출 및 증강:  46%|████▌     | 137945/300584 [2:59:39<3:20:54, 13.49it/s]"
     ]
    },
    {
     "name": "stdout",
     "output_type": "stream",
     "text": [
      "배치 412 저장 완료 - 1002개\n"
     ]
    },
    {
     "name": "stderr",
     "output_type": "stream",
     "text": [
      "MFCC 추출 및 증강:  46%|████▌     | 138279/300584 [3:00:00<2:53:22, 15.60it/s]"
     ]
    },
    {
     "name": "stdout",
     "output_type": "stream",
     "text": [
      "배치 413 저장 완료 - 1002개\n"
     ]
    },
    {
     "name": "stderr",
     "output_type": "stream",
     "text": [
      "MFCC 추출 및 증강:  46%|████▌     | 138612/300584 [3:00:20<3:15:49, 13.79it/s]"
     ]
    },
    {
     "name": "stdout",
     "output_type": "stream",
     "text": [
      "배치 414 저장 완료 - 1002개\n"
     ]
    },
    {
     "name": "stderr",
     "output_type": "stream",
     "text": [
      "MFCC 추출 및 증강:  46%|████▌     | 138947/300584 [3:00:42<3:30:07, 12.82it/s]"
     ]
    },
    {
     "name": "stdout",
     "output_type": "stream",
     "text": [
      "배치 415 저장 완료 - 1002개\n"
     ]
    },
    {
     "name": "stderr",
     "output_type": "stream",
     "text": [
      "MFCC 추출 및 증강:  46%|████▋     | 139280/300584 [3:01:01<2:44:24, 16.35it/s]"
     ]
    },
    {
     "name": "stdout",
     "output_type": "stream",
     "text": [
      "배치 416 저장 완료 - 1002개\n"
     ]
    },
    {
     "name": "stderr",
     "output_type": "stream",
     "text": [
      "MFCC 추출 및 증강:  46%|████▋     | 139614/300584 [3:01:22<2:28:04, 18.12it/s]"
     ]
    },
    {
     "name": "stdout",
     "output_type": "stream",
     "text": [
      "배치 417 저장 완료 - 1002개\n"
     ]
    },
    {
     "name": "stderr",
     "output_type": "stream",
     "text": [
      "MFCC 추출 및 증강:  47%|████▋     | 139948/300584 [3:01:41<2:39:52, 16.75it/s]"
     ]
    },
    {
     "name": "stdout",
     "output_type": "stream",
     "text": [
      "배치 418 저장 완료 - 1002개\n"
     ]
    },
    {
     "name": "stderr",
     "output_type": "stream",
     "text": [
      "MFCC 추출 및 증강:  47%|████▋     | 140282/300584 [3:02:01<3:10:47, 14.00it/s]"
     ]
    },
    {
     "name": "stdout",
     "output_type": "stream",
     "text": [
      "배치 419 저장 완료 - 1002개\n"
     ]
    },
    {
     "name": "stderr",
     "output_type": "stream",
     "text": [
      "MFCC 추출 및 증강:  47%|████▋     | 140617/300584 [3:02:20<3:03:09, 14.56it/s]"
     ]
    },
    {
     "name": "stdout",
     "output_type": "stream",
     "text": [
      "배치 420 저장 완료 - 1002개\n"
     ]
    },
    {
     "name": "stderr",
     "output_type": "stream",
     "text": [
      "MFCC 추출 및 증강:  47%|████▋     | 140949/300584 [3:02:39<2:37:38, 16.88it/s]"
     ]
    },
    {
     "name": "stdout",
     "output_type": "stream",
     "text": [
      "배치 421 저장 완료 - 1002개\n"
     ]
    },
    {
     "name": "stderr",
     "output_type": "stream",
     "text": [
      "MFCC 추출 및 증강:  47%|████▋     | 141284/300584 [3:02:59<2:58:47, 14.85it/s]"
     ]
    },
    {
     "name": "stdout",
     "output_type": "stream",
     "text": [
      "배치 422 저장 완료 - 1002개\n"
     ]
    },
    {
     "name": "stderr",
     "output_type": "stream",
     "text": [
      "MFCC 추출 및 증강:  47%|████▋     | 141618/300584 [3:03:18<2:06:28, 20.95it/s]"
     ]
    },
    {
     "name": "stdout",
     "output_type": "stream",
     "text": [
      "배치 423 저장 완료 - 1002개\n"
     ]
    },
    {
     "name": "stderr",
     "output_type": "stream",
     "text": [
      "MFCC 추출 및 증강:  47%|████▋     | 141952/300584 [3:03:38<2:45:51, 15.94it/s]"
     ]
    },
    {
     "name": "stdout",
     "output_type": "stream",
     "text": [
      "배치 424 저장 완료 - 1002개\n"
     ]
    },
    {
     "name": "stderr",
     "output_type": "stream",
     "text": [
      "MFCC 추출 및 증강:  47%|████▋     | 142286/300584 [3:03:58<2:59:25, 14.70it/s]"
     ]
    },
    {
     "name": "stdout",
     "output_type": "stream",
     "text": [
      "배치 425 저장 완료 - 1002개\n"
     ]
    },
    {
     "name": "stderr",
     "output_type": "stream",
     "text": [
      "MFCC 추출 및 증강:  47%|████▋     | 142618/300584 [3:04:20<3:20:57, 13.10it/s]"
     ]
    },
    {
     "name": "stdout",
     "output_type": "stream",
     "text": [
      "배치 426 저장 완료 - 1002개\n"
     ]
    },
    {
     "name": "stderr",
     "output_type": "stream",
     "text": [
      "MFCC 추출 및 증강:  48%|████▊     | 142955/300584 [3:04:42<3:16:48, 13.35it/s]"
     ]
    },
    {
     "name": "stdout",
     "output_type": "stream",
     "text": [
      "배치 427 저장 완료 - 1002개\n"
     ]
    },
    {
     "name": "stderr",
     "output_type": "stream",
     "text": [
      "MFCC 추출 및 증강:  48%|████▊     | 143287/300584 [3:05:03<3:13:38, 13.54it/s]"
     ]
    },
    {
     "name": "stdout",
     "output_type": "stream",
     "text": [
      "배치 428 저장 완료 - 1002개\n"
     ]
    },
    {
     "name": "stderr",
     "output_type": "stream",
     "text": [
      "MFCC 추출 및 증강:  48%|████▊     | 143622/300584 [3:05:24<2:43:55, 15.96it/s]"
     ]
    },
    {
     "name": "stdout",
     "output_type": "stream",
     "text": [
      "배치 429 저장 완료 - 1002개\n"
     ]
    },
    {
     "name": "stderr",
     "output_type": "stream",
     "text": [
      "MFCC 추출 및 증강:  48%|████▊     | 143957/300584 [3:05:45<2:47:32, 15.58it/s]"
     ]
    },
    {
     "name": "stdout",
     "output_type": "stream",
     "text": [
      "배치 430 저장 완료 - 1002개\n"
     ]
    },
    {
     "name": "stderr",
     "output_type": "stream",
     "text": [
      "MFCC 추출 및 증강:  48%|████▊     | 144289/300584 [3:06:04<3:08:00, 13.85it/s]"
     ]
    },
    {
     "name": "stdout",
     "output_type": "stream",
     "text": [
      "배치 431 저장 완료 - 1002개\n"
     ]
    },
    {
     "name": "stderr",
     "output_type": "stream",
     "text": [
      "MFCC 추출 및 증강:  48%|████▊     | 144625/300584 [3:06:25<3:17:30, 13.16it/s]"
     ]
    },
    {
     "name": "stdout",
     "output_type": "stream",
     "text": [
      "배치 432 저장 완료 - 1002개\n"
     ]
    },
    {
     "name": "stderr",
     "output_type": "stream",
     "text": [
      "MFCC 추출 및 증강:  48%|████▊     | 144957/300584 [3:06:46<3:07:40, 13.82it/s]"
     ]
    },
    {
     "name": "stdout",
     "output_type": "stream",
     "text": [
      "배치 433 저장 완료 - 1002개\n"
     ]
    },
    {
     "name": "stderr",
     "output_type": "stream",
     "text": [
      "MFCC 추출 및 증강:  48%|████▊     | 145294/300584 [3:07:06<2:35:12, 16.67it/s]"
     ]
    },
    {
     "name": "stdout",
     "output_type": "stream",
     "text": [
      "배치 434 저장 완료 - 1002개\n"
     ]
    },
    {
     "name": "stderr",
     "output_type": "stream",
     "text": [
      "MFCC 추출 및 증강:  48%|████▊     | 145626/300584 [3:07:25<2:38:41, 16.28it/s]"
     ]
    },
    {
     "name": "stdout",
     "output_type": "stream",
     "text": [
      "배치 435 저장 완료 - 1002개\n"
     ]
    },
    {
     "name": "stderr",
     "output_type": "stream",
     "text": [
      "MFCC 추출 및 증강:  49%|████▊     | 145960/300584 [3:07:47<2:59:46, 14.34it/s]"
     ]
    },
    {
     "name": "stdout",
     "output_type": "stream",
     "text": [
      "배치 436 저장 완료 - 1002개\n"
     ]
    },
    {
     "name": "stderr",
     "output_type": "stream",
     "text": [
      "MFCC 추출 및 증강:  49%|████▊     | 146294/300584 [3:08:08<3:19:57, 12.86it/s]"
     ]
    },
    {
     "name": "stdout",
     "output_type": "stream",
     "text": [
      "배치 437 저장 완료 - 1002개\n"
     ]
    },
    {
     "name": "stderr",
     "output_type": "stream",
     "text": [
      "MFCC 추출 및 증강:  49%|████▉     | 146629/300584 [3:08:28<2:45:18, 15.52it/s]"
     ]
    },
    {
     "name": "stdout",
     "output_type": "stream",
     "text": [
      "배치 438 저장 완료 - 1002개\n"
     ]
    },
    {
     "name": "stderr",
     "output_type": "stream",
     "text": [
      "MFCC 추출 및 증강:  49%|████▉     | 146963/300584 [3:08:48<2:23:30, 17.84it/s]"
     ]
    },
    {
     "name": "stdout",
     "output_type": "stream",
     "text": [
      "배치 439 저장 완료 - 1002개\n"
     ]
    },
    {
     "name": "stderr",
     "output_type": "stream",
     "text": [
      "MFCC 추출 및 증강:  49%|████▉     | 147297/300584 [3:09:09<2:19:16, 18.34it/s]"
     ]
    },
    {
     "name": "stdout",
     "output_type": "stream",
     "text": [
      "배치 440 저장 완료 - 1002개\n"
     ]
    },
    {
     "name": "stderr",
     "output_type": "stream",
     "text": [
      "MFCC 추출 및 증강:  49%|████▉     | 147630/300584 [3:09:32<3:24:57, 12.44it/s]"
     ]
    },
    {
     "name": "stdout",
     "output_type": "stream",
     "text": [
      "배치 441 저장 완료 - 1002개\n"
     ]
    },
    {
     "name": "stderr",
     "output_type": "stream",
     "text": [
      "MFCC 추출 및 증강:  49%|████▉     | 147963/300584 [3:09:58<4:58:54,  8.51it/s]"
     ]
    },
    {
     "name": "stdout",
     "output_type": "stream",
     "text": [
      "배치 442 저장 완료 - 1002개\n"
     ]
    },
    {
     "name": "stderr",
     "output_type": "stream",
     "text": [
      "MFCC 추출 및 증강:  49%|████▉     | 148298/300584 [3:10:24<3:39:18, 11.57it/s]"
     ]
    },
    {
     "name": "stdout",
     "output_type": "stream",
     "text": [
      "배치 443 저장 완료 - 1002개\n"
     ]
    },
    {
     "name": "stderr",
     "output_type": "stream",
     "text": [
      "MFCC 추출 및 증강:  49%|████▉     | 148634/300584 [3:10:46<2:44:52, 15.36it/s]"
     ]
    },
    {
     "name": "stdout",
     "output_type": "stream",
     "text": [
      "배치 444 저장 완료 - 1002개\n"
     ]
    },
    {
     "name": "stderr",
     "output_type": "stream",
     "text": [
      "MFCC 추출 및 증강:  50%|████▉     | 148965/300584 [3:11:10<2:59:00, 14.12it/s]"
     ]
    },
    {
     "name": "stdout",
     "output_type": "stream",
     "text": [
      "배치 445 저장 완료 - 1002개\n"
     ]
    },
    {
     "name": "stderr",
     "output_type": "stream",
     "text": [
      "MFCC 추출 및 증강:  50%|████▉     | 149300/300584 [3:11:33<3:46:43, 11.12it/s]"
     ]
    },
    {
     "name": "stdout",
     "output_type": "stream",
     "text": [
      "배치 446 저장 완료 - 1002개\n"
     ]
    },
    {
     "name": "stderr",
     "output_type": "stream",
     "text": [
      "MFCC 추출 및 증강:  50%|████▉     | 149635/300584 [3:11:55<3:12:52, 13.04it/s]"
     ]
    },
    {
     "name": "stdout",
     "output_type": "stream",
     "text": [
      "배치 447 저장 완료 - 1002개\n"
     ]
    },
    {
     "name": "stderr",
     "output_type": "stream",
     "text": [
      "MFCC 추출 및 증강:  50%|████▉     | 149968/300584 [3:12:16<3:08:00, 13.35it/s]"
     ]
    },
    {
     "name": "stdout",
     "output_type": "stream",
     "text": [
      "배치 448 저장 완료 - 1002개\n"
     ]
    },
    {
     "name": "stderr",
     "output_type": "stream",
     "text": [
      "MFCC 추출 및 증강:  50%|█████     | 150303/300584 [3:12:37<2:54:13, 14.38it/s]"
     ]
    },
    {
     "name": "stdout",
     "output_type": "stream",
     "text": [
      "배치 449 저장 완료 - 1002개\n"
     ]
    },
    {
     "name": "stderr",
     "output_type": "stream",
     "text": [
      "MFCC 추출 및 증강:  50%|█████     | 150635/300584 [3:12:57<2:45:13, 15.13it/s]"
     ]
    },
    {
     "name": "stdout",
     "output_type": "stream",
     "text": [
      "배치 450 저장 완료 - 1002개\n"
     ]
    },
    {
     "name": "stderr",
     "output_type": "stream",
     "text": [
      "MFCC 추출 및 증강:  50%|█████     | 150970/300584 [3:13:18<2:51:01, 14.58it/s]"
     ]
    },
    {
     "name": "stdout",
     "output_type": "stream",
     "text": [
      "배치 451 저장 완료 - 1002개\n"
     ]
    },
    {
     "name": "stderr",
     "output_type": "stream",
     "text": [
      "MFCC 추출 및 증강:  50%|█████     | 151304/300584 [3:13:39<2:26:25, 16.99it/s]"
     ]
    },
    {
     "name": "stdout",
     "output_type": "stream",
     "text": [
      "배치 452 저장 완료 - 1002개\n"
     ]
    },
    {
     "name": "stderr",
     "output_type": "stream",
     "text": [
      "MFCC 추출 및 증강:  50%|█████     | 151637/300584 [3:13:59<2:53:25, 14.31it/s]"
     ]
    },
    {
     "name": "stdout",
     "output_type": "stream",
     "text": [
      "배치 453 저장 완료 - 1002개\n"
     ]
    },
    {
     "name": "stderr",
     "output_type": "stream",
     "text": [
      "MFCC 추출 및 증강:  51%|█████     | 151972/300584 [3:14:20<3:17:08, 12.56it/s]"
     ]
    },
    {
     "name": "stdout",
     "output_type": "stream",
     "text": [
      "배치 454 저장 완료 - 1002개\n"
     ]
    },
    {
     "name": "stderr",
     "output_type": "stream",
     "text": [
      "MFCC 추출 및 증강:  51%|█████     | 152307/300584 [3:14:41<2:23:06, 17.27it/s]"
     ]
    },
    {
     "name": "stdout",
     "output_type": "stream",
     "text": [
      "배치 455 저장 완료 - 1002개\n"
     ]
    },
    {
     "name": "stderr",
     "output_type": "stream",
     "text": [
      "MFCC 추출 및 증강:  51%|█████     | 152640/300584 [3:15:00<2:20:58, 17.49it/s]"
     ]
    },
    {
     "name": "stdout",
     "output_type": "stream",
     "text": [
      "배치 456 저장 완료 - 1002개\n"
     ]
    },
    {
     "name": "stderr",
     "output_type": "stream",
     "text": [
      "MFCC 추출 및 증강:  51%|█████     | 152975/300584 [3:15:21<2:45:23, 14.87it/s]"
     ]
    },
    {
     "name": "stdout",
     "output_type": "stream",
     "text": [
      "배치 457 저장 완료 - 1002개\n"
     ]
    },
    {
     "name": "stderr",
     "output_type": "stream",
     "text": [
      "MFCC 추출 및 증강:  51%|█████     | 153309/300584 [3:15:42<2:25:12, 16.90it/s]"
     ]
    },
    {
     "name": "stdout",
     "output_type": "stream",
     "text": [
      "배치 458 저장 완료 - 1002개\n"
     ]
    },
    {
     "name": "stderr",
     "output_type": "stream",
     "text": [
      "MFCC 추출 및 증강:  51%|█████     | 153643/300584 [3:16:02<2:33:11, 15.99it/s]"
     ]
    },
    {
     "name": "stdout",
     "output_type": "stream",
     "text": [
      "배치 459 저장 완료 - 1002개\n"
     ]
    },
    {
     "name": "stderr",
     "output_type": "stream",
     "text": [
      "MFCC 추출 및 증강:  51%|█████     | 153975/300584 [3:16:24<2:51:30, 14.25it/s]"
     ]
    },
    {
     "name": "stdout",
     "output_type": "stream",
     "text": [
      "배치 460 저장 완료 - 1002개\n"
     ]
    },
    {
     "name": "stderr",
     "output_type": "stream",
     "text": [
      "MFCC 추출 및 증강:  51%|█████▏    | 154310/300584 [3:16:45<2:32:14, 16.01it/s]"
     ]
    },
    {
     "name": "stdout",
     "output_type": "stream",
     "text": [
      "배치 461 저장 완료 - 1002개\n"
     ]
    },
    {
     "name": "stderr",
     "output_type": "stream",
     "text": [
      "MFCC 추출 및 증강:  51%|█████▏    | 154644/300584 [3:17:06<2:37:08, 15.48it/s]"
     ]
    },
    {
     "name": "stdout",
     "output_type": "stream",
     "text": [
      "배치 462 저장 완료 - 1002개\n"
     ]
    },
    {
     "name": "stderr",
     "output_type": "stream",
     "text": [
      "MFCC 추출 및 증강:  52%|█████▏    | 154978/300584 [3:17:29<2:44:00, 14.80it/s]"
     ]
    },
    {
     "name": "stdout",
     "output_type": "stream",
     "text": [
      "배치 463 저장 완료 - 1002개\n"
     ]
    },
    {
     "name": "stderr",
     "output_type": "stream",
     "text": [
      "MFCC 추출 및 증강:  52%|█████▏    | 155314/300584 [3:17:49<2:02:30, 19.76it/s]"
     ]
    },
    {
     "name": "stdout",
     "output_type": "stream",
     "text": [
      "배치 464 저장 완료 - 1002개\n"
     ]
    },
    {
     "name": "stderr",
     "output_type": "stream",
     "text": [
      "MFCC 추출 및 증강:  52%|█████▏    | 155647/300584 [3:18:10<2:15:34, 17.82it/s]"
     ]
    },
    {
     "name": "stdout",
     "output_type": "stream",
     "text": [
      "배치 465 저장 완료 - 1002개\n"
     ]
    },
    {
     "name": "stderr",
     "output_type": "stream",
     "text": [
      "MFCC 추출 및 증강:  52%|█████▏    | 155979/300584 [3:18:30<3:03:55, 13.10it/s]"
     ]
    },
    {
     "name": "stdout",
     "output_type": "stream",
     "text": [
      "배치 466 저장 완료 - 1002개\n"
     ]
    },
    {
     "name": "stderr",
     "output_type": "stream",
     "text": [
      "MFCC 추출 및 증강:  52%|█████▏    | 156313/300584 [3:18:50<2:39:16, 15.10it/s]"
     ]
    },
    {
     "name": "stdout",
     "output_type": "stream",
     "text": [
      "배치 467 저장 완료 - 1002개\n"
     ]
    },
    {
     "name": "stderr",
     "output_type": "stream",
     "text": [
      "MFCC 추출 및 증강:  52%|█████▏    | 156648/300584 [3:19:10<2:50:57, 14.03it/s]"
     ]
    },
    {
     "name": "stdout",
     "output_type": "stream",
     "text": [
      "배치 468 저장 완료 - 1002개\n"
     ]
    },
    {
     "name": "stderr",
     "output_type": "stream",
     "text": [
      "MFCC 추출 및 증강:  52%|█████▏    | 156983/300584 [3:19:30<2:19:08, 17.20it/s]"
     ]
    },
    {
     "name": "stdout",
     "output_type": "stream",
     "text": [
      "배치 469 저장 완료 - 1002개\n"
     ]
    },
    {
     "name": "stderr",
     "output_type": "stream",
     "text": [
      "MFCC 추출 및 증강:  52%|█████▏    | 157317/300584 [3:19:49<2:02:29, 19.49it/s]"
     ]
    },
    {
     "name": "stdout",
     "output_type": "stream",
     "text": [
      "배치 470 저장 완료 - 1002개\n"
     ]
    },
    {
     "name": "stderr",
     "output_type": "stream",
     "text": [
      "MFCC 추출 및 증강:  52%|█████▏    | 157649/300584 [3:20:10<3:08:53, 12.61it/s]"
     ]
    },
    {
     "name": "stdout",
     "output_type": "stream",
     "text": [
      "배치 471 저장 완료 - 1002개\n"
     ]
    },
    {
     "name": "stderr",
     "output_type": "stream",
     "text": [
      "MFCC 추출 및 증강:  53%|█████▎    | 157984/300584 [3:20:32<3:27:44, 11.44it/s]"
     ]
    },
    {
     "name": "stdout",
     "output_type": "stream",
     "text": [
      "배치 472 저장 완료 - 1002개\n"
     ]
    },
    {
     "name": "stderr",
     "output_type": "stream",
     "text": [
      "MFCC 추출 및 증강:  53%|█████▎    | 158318/300584 [3:20:54<2:36:01, 15.20it/s]"
     ]
    },
    {
     "name": "stdout",
     "output_type": "stream",
     "text": [
      "배치 473 저장 완료 - 1002개\n"
     ]
    },
    {
     "name": "stderr",
     "output_type": "stream",
     "text": [
      "MFCC 추출 및 증강:  53%|█████▎    | 158649/300584 [3:21:15<1:54:07, 20.73it/s]"
     ]
    },
    {
     "name": "stdout",
     "output_type": "stream",
     "text": [
      "배치 474 저장 완료 - 1002개\n"
     ]
    },
    {
     "name": "stderr",
     "output_type": "stream",
     "text": [
      "MFCC 추출 및 증강:  53%|█████▎    | 158988/300584 [3:21:36<2:25:02, 16.27it/s]"
     ]
    },
    {
     "name": "stdout",
     "output_type": "stream",
     "text": [
      "배치 475 저장 완료 - 1002개\n"
     ]
    },
    {
     "name": "stderr",
     "output_type": "stream",
     "text": [
      "MFCC 추출 및 증강:  53%|█████▎    | 159320/300584 [3:22:00<2:25:49, 16.15it/s]"
     ]
    },
    {
     "name": "stdout",
     "output_type": "stream",
     "text": [
      "배치 476 저장 완료 - 1002개\n"
     ]
    },
    {
     "name": "stderr",
     "output_type": "stream",
     "text": [
      "MFCC 추출 및 증강:  53%|█████▎    | 159653/300584 [3:22:22<3:16:00, 11.98it/s]"
     ]
    },
    {
     "name": "stdout",
     "output_type": "stream",
     "text": [
      "배치 477 저장 완료 - 1002개\n"
     ]
    },
    {
     "name": "stderr",
     "output_type": "stream",
     "text": [
      "MFCC 추출 및 증강:  53%|█████▎    | 159989/300584 [3:22:43<2:59:41, 13.04it/s]"
     ]
    },
    {
     "name": "stdout",
     "output_type": "stream",
     "text": [
      "배치 478 저장 완료 - 1002개\n"
     ]
    },
    {
     "name": "stderr",
     "output_type": "stream",
     "text": [
      "MFCC 추출 및 증강:  53%|█████▎    | 160323/300584 [3:23:05<2:38:35, 14.74it/s]"
     ]
    },
    {
     "name": "stdout",
     "output_type": "stream",
     "text": [
      "배치 479 저장 완료 - 1002개\n"
     ]
    },
    {
     "name": "stderr",
     "output_type": "stream",
     "text": [
      "MFCC 추출 및 증강:  53%|█████▎    | 160656/300584 [3:23:26<2:34:19, 15.11it/s]"
     ]
    },
    {
     "name": "stdout",
     "output_type": "stream",
     "text": [
      "배치 480 저장 완료 - 1002개\n"
     ]
    },
    {
     "name": "stderr",
     "output_type": "stream",
     "text": [
      "MFCC 추출 및 증강:  54%|█████▎    | 160989/300584 [3:23:46<2:33:39, 15.14it/s]"
     ]
    },
    {
     "name": "stdout",
     "output_type": "stream",
     "text": [
      "배치 481 저장 완료 - 1002개\n"
     ]
    },
    {
     "name": "stderr",
     "output_type": "stream",
     "text": [
      "MFCC 추출 및 증강:  54%|█████▎    | 161323/300584 [3:24:08<2:55:59, 13.19it/s]"
     ]
    },
    {
     "name": "stdout",
     "output_type": "stream",
     "text": [
      "배치 482 저장 완료 - 1002개\n"
     ]
    },
    {
     "name": "stderr",
     "output_type": "stream",
     "text": [
      "MFCC 추출 및 증강:  54%|█████▍    | 161659/300584 [3:24:29<2:42:37, 14.24it/s]"
     ]
    },
    {
     "name": "stdout",
     "output_type": "stream",
     "text": [
      "배치 483 저장 완료 - 1002개\n"
     ]
    },
    {
     "name": "stderr",
     "output_type": "stream",
     "text": [
      "MFCC 추출 및 증강:  54%|█████▍    | 161992/300584 [3:24:52<2:35:32, 14.85it/s]"
     ]
    },
    {
     "name": "stdout",
     "output_type": "stream",
     "text": [
      "배치 484 저장 완료 - 1002개\n"
     ]
    },
    {
     "name": "stderr",
     "output_type": "stream",
     "text": [
      "MFCC 추출 및 증강:  54%|█████▍    | 162326/300584 [3:25:17<3:16:19, 11.74it/s]"
     ]
    },
    {
     "name": "stdout",
     "output_type": "stream",
     "text": [
      "배치 485 저장 완료 - 1002개\n"
     ]
    },
    {
     "name": "stderr",
     "output_type": "stream",
     "text": [
      "MFCC 추출 및 증강:  54%|█████▍    | 162660/300584 [3:25:39<3:28:13, 11.04it/s]"
     ]
    },
    {
     "name": "stdout",
     "output_type": "stream",
     "text": [
      "배치 486 저장 완료 - 1002개\n"
     ]
    },
    {
     "name": "stderr",
     "output_type": "stream",
     "text": [
      "MFCC 추출 및 증강:  54%|█████▍    | 162993/300584 [3:26:02<3:22:31, 11.32it/s]"
     ]
    },
    {
     "name": "stdout",
     "output_type": "stream",
     "text": [
      "배치 487 저장 완료 - 1002개\n"
     ]
    },
    {
     "name": "stderr",
     "output_type": "stream",
     "text": [
      "MFCC 추출 및 증강:  54%|█████▍    | 163328/300584 [3:26:25<2:17:21, 16.65it/s]"
     ]
    },
    {
     "name": "stdout",
     "output_type": "stream",
     "text": [
      "배치 488 저장 완료 - 1002개\n"
     ]
    },
    {
     "name": "stderr",
     "output_type": "stream",
     "text": [
      "MFCC 추출 및 증강:  54%|█████▍    | 163661/300584 [3:26:47<2:36:50, 14.55it/s]"
     ]
    },
    {
     "name": "stdout",
     "output_type": "stream",
     "text": [
      "배치 489 저장 완료 - 1002개\n"
     ]
    },
    {
     "name": "stderr",
     "output_type": "stream",
     "text": [
      "MFCC 추출 및 증강:  55%|█████▍    | 163997/300584 [3:27:08<2:18:42, 16.41it/s]"
     ]
    },
    {
     "name": "stdout",
     "output_type": "stream",
     "text": [
      "배치 490 저장 완료 - 1002개\n"
     ]
    },
    {
     "name": "stderr",
     "output_type": "stream",
     "text": [
      "MFCC 추출 및 증강:  55%|█████▍    | 164329/300584 [3:27:29<1:58:02, 19.24it/s]"
     ]
    },
    {
     "name": "stdout",
     "output_type": "stream",
     "text": [
      "배치 491 저장 완료 - 1002개\n"
     ]
    },
    {
     "name": "stderr",
     "output_type": "stream",
     "text": [
      "MFCC 추출 및 증강:  55%|█████▍    | 164664/300584 [3:27:49<2:03:03, 18.41it/s]"
     ]
    },
    {
     "name": "stdout",
     "output_type": "stream",
     "text": [
      "배치 492 저장 완료 - 1002개\n"
     ]
    },
    {
     "name": "stderr",
     "output_type": "stream",
     "text": [
      "MFCC 추출 및 증강:  55%|█████▍    | 164997/300584 [3:28:08<2:21:02, 16.02it/s]"
     ]
    },
    {
     "name": "stdout",
     "output_type": "stream",
     "text": [
      "배치 493 저장 완료 - 1002개\n"
     ]
    },
    {
     "name": "stderr",
     "output_type": "stream",
     "text": [
      "MFCC 추출 및 증강:  55%|█████▌    | 165334/300584 [3:28:29<1:58:17, 19.06it/s]"
     ]
    },
    {
     "name": "stdout",
     "output_type": "stream",
     "text": [
      "배치 494 저장 완료 - 1002개\n"
     ]
    },
    {
     "name": "stderr",
     "output_type": "stream",
     "text": [
      "MFCC 추출 및 증강:  55%|█████▌    | 165665/300584 [3:28:49<2:28:25, 15.15it/s]"
     ]
    },
    {
     "name": "stdout",
     "output_type": "stream",
     "text": [
      "배치 495 저장 완료 - 1002개\n"
     ]
    },
    {
     "name": "stderr",
     "output_type": "stream",
     "text": [
      "MFCC 추출 및 증강:  55%|█████▌    | 166000/300584 [3:29:11<2:32:08, 14.74it/s]"
     ]
    },
    {
     "name": "stdout",
     "output_type": "stream",
     "text": [
      "배치 496 저장 완료 - 1002개\n"
     ]
    },
    {
     "name": "stderr",
     "output_type": "stream",
     "text": [
      "MFCC 추출 및 증강:  55%|█████▌    | 166335/300584 [3:29:31<2:39:00, 14.07it/s]"
     ]
    },
    {
     "name": "stdout",
     "output_type": "stream",
     "text": [
      "배치 497 저장 완료 - 1002개\n"
     ]
    },
    {
     "name": "stderr",
     "output_type": "stream",
     "text": [
      "MFCC 추출 및 증강:  55%|█████▌    | 166668/300584 [3:29:51<1:57:30, 19.00it/s]"
     ]
    },
    {
     "name": "stdout",
     "output_type": "stream",
     "text": [
      "배치 498 저장 완료 - 1002개\n"
     ]
    },
    {
     "name": "stderr",
     "output_type": "stream",
     "text": [
      "MFCC 추출 및 증강:  56%|█████▌    | 167002/300584 [3:30:12<2:13:36, 16.66it/s]"
     ]
    },
    {
     "name": "stdout",
     "output_type": "stream",
     "text": [
      "배치 499 저장 완료 - 1002개\n"
     ]
    },
    {
     "name": "stderr",
     "output_type": "stream",
     "text": [
      "MFCC 추출 및 증강:  56%|█████▌    | 167336/300584 [3:30:33<2:51:30, 12.95it/s]"
     ]
    },
    {
     "name": "stdout",
     "output_type": "stream",
     "text": [
      "배치 500 저장 완료 - 1002개\n"
     ]
    },
    {
     "name": "stderr",
     "output_type": "stream",
     "text": [
      "MFCC 추출 및 증강:  56%|█████▌    | 167672/300584 [3:30:54<2:13:19, 16.61it/s]"
     ]
    },
    {
     "name": "stdout",
     "output_type": "stream",
     "text": [
      "배치 501 저장 완료 - 1002개\n"
     ]
    },
    {
     "name": "stderr",
     "output_type": "stream",
     "text": [
      "MFCC 추출 및 증강:  56%|█████▌    | 168005/300584 [3:31:13<2:03:43, 17.86it/s]"
     ]
    },
    {
     "name": "stdout",
     "output_type": "stream",
     "text": [
      "배치 502 저장 완료 - 1002개\n"
     ]
    },
    {
     "name": "stderr",
     "output_type": "stream",
     "text": [
      "MFCC 추출 및 증강:  56%|█████▌    | 168338/300584 [3:31:34<2:10:35, 16.88it/s]"
     ]
    },
    {
     "name": "stdout",
     "output_type": "stream",
     "text": [
      "배치 503 저장 완료 - 1002개\n"
     ]
    },
    {
     "name": "stderr",
     "output_type": "stream",
     "text": [
      "MFCC 추출 및 증강:  56%|█████▌    | 168672/300584 [3:31:56<2:40:38, 13.69it/s]"
     ]
    },
    {
     "name": "stdout",
     "output_type": "stream",
     "text": [
      "배치 504 저장 완료 - 1002개\n"
     ]
    },
    {
     "name": "stderr",
     "output_type": "stream",
     "text": [
      "MFCC 추출 및 증강:  56%|█████▌    | 169007/300584 [3:32:20<2:33:36, 14.28it/s]"
     ]
    },
    {
     "name": "stdout",
     "output_type": "stream",
     "text": [
      "배치 505 저장 완료 - 1002개\n"
     ]
    },
    {
     "name": "stderr",
     "output_type": "stream",
     "text": [
      "MFCC 추출 및 증강:  56%|█████▋    | 169340/300584 [3:32:42<2:46:08, 13.17it/s]"
     ]
    },
    {
     "name": "stdout",
     "output_type": "stream",
     "text": [
      "배치 506 저장 완료 - 1002개\n"
     ]
    },
    {
     "name": "stderr",
     "output_type": "stream",
     "text": [
      "MFCC 추출 및 증강:  56%|█████▋    | 169674/300584 [3:33:08<3:34:35, 10.17it/s]"
     ]
    },
    {
     "name": "stdout",
     "output_type": "stream",
     "text": [
      "배치 507 저장 완료 - 1002개\n"
     ]
    },
    {
     "name": "stderr",
     "output_type": "stream",
     "text": [
      "MFCC 추출 및 증강:  57%|█████▋    | 170008/300584 [3:33:35<3:58:30,  9.12it/s]"
     ]
    },
    {
     "name": "stdout",
     "output_type": "stream",
     "text": [
      "배치 508 저장 완료 - 1002개\n"
     ]
    },
    {
     "name": "stderr",
     "output_type": "stream",
     "text": [
      "MFCC 추출 및 증강:  57%|█████▋    | 170343/300584 [3:34:01<2:49:24, 12.81it/s]"
     ]
    },
    {
     "name": "stdout",
     "output_type": "stream",
     "text": [
      "배치 509 저장 완료 - 1002개\n"
     ]
    },
    {
     "name": "stderr",
     "output_type": "stream",
     "text": [
      "MFCC 추출 및 증강:  57%|█████▋    | 170675/300584 [3:34:26<2:37:54, 13.71it/s]"
     ]
    },
    {
     "name": "stdout",
     "output_type": "stream",
     "text": [
      "배치 510 저장 완료 - 1002개\n"
     ]
    },
    {
     "name": "stderr",
     "output_type": "stream",
     "text": [
      "MFCC 추출 및 증강:  57%|█████▋    | 171009/300584 [3:34:54<3:03:14, 11.79it/s]"
     ]
    },
    {
     "name": "stdout",
     "output_type": "stream",
     "text": [
      "배치 511 저장 완료 - 1002개\n"
     ]
    },
    {
     "name": "stderr",
     "output_type": "stream",
     "text": [
      "MFCC 추출 및 증강:  57%|█████▋    | 171343/300584 [3:35:20<2:40:22, 13.43it/s]"
     ]
    },
    {
     "name": "stdout",
     "output_type": "stream",
     "text": [
      "배치 512 저장 완료 - 1002개\n"
     ]
    },
    {
     "name": "stderr",
     "output_type": "stream",
     "text": [
      "MFCC 추출 및 증강:  57%|█████▋    | 171677/300584 [3:35:47<2:58:00, 12.07it/s]"
     ]
    },
    {
     "name": "stdout",
     "output_type": "stream",
     "text": [
      "배치 513 저장 완료 - 1002개\n"
     ]
    },
    {
     "name": "stderr",
     "output_type": "stream",
     "text": [
      "MFCC 추출 및 증강:  57%|█████▋    | 172011/300584 [3:36:14<3:42:54,  9.61it/s]"
     ]
    },
    {
     "name": "stdout",
     "output_type": "stream",
     "text": [
      "배치 514 저장 완료 - 1002개\n"
     ]
    },
    {
     "name": "stderr",
     "output_type": "stream",
     "text": [
      "MFCC 추출 및 증강:  57%|█████▋    | 172345/300584 [3:36:40<2:42:39, 13.14it/s]"
     ]
    },
    {
     "name": "stdout",
     "output_type": "stream",
     "text": [
      "배치 515 저장 완료 - 1002개\n"
     ]
    },
    {
     "name": "stderr",
     "output_type": "stream",
     "text": [
      "MFCC 추출 및 증강:  57%|█████▋    | 172679/300584 [3:37:07<3:25:43, 10.36it/s]"
     ]
    },
    {
     "name": "stdout",
     "output_type": "stream",
     "text": [
      "배치 516 저장 완료 - 1002개\n"
     ]
    },
    {
     "name": "stderr",
     "output_type": "stream",
     "text": [
      "MFCC 추출 및 증강:  58%|█████▊    | 173013/300584 [3:37:37<4:20:06,  8.17it/s]"
     ]
    },
    {
     "name": "stdout",
     "output_type": "stream",
     "text": [
      "배치 517 저장 완료 - 1002개\n"
     ]
    },
    {
     "name": "stderr",
     "output_type": "stream",
     "text": [
      "MFCC 추출 및 증강:  58%|█████▊    | 173348/300584 [3:38:09<2:48:36, 12.58it/s]"
     ]
    },
    {
     "name": "stdout",
     "output_type": "stream",
     "text": [
      "배치 518 저장 완료 - 1002개\n"
     ]
    },
    {
     "name": "stderr",
     "output_type": "stream",
     "text": [
      "MFCC 추출 및 증강:  58%|█████▊    | 173683/300584 [3:38:38<2:43:21, 12.95it/s]"
     ]
    },
    {
     "name": "stdout",
     "output_type": "stream",
     "text": [
      "배치 519 저장 완료 - 1002개\n"
     ]
    },
    {
     "name": "stderr",
     "output_type": "stream",
     "text": [
      "MFCC 추출 및 증강:  58%|█████▊    | 174017/300584 [3:39:04<2:32:43, 13.81it/s]"
     ]
    },
    {
     "name": "stdout",
     "output_type": "stream",
     "text": [
      "배치 520 저장 완료 - 1002개\n"
     ]
    },
    {
     "name": "stderr",
     "output_type": "stream",
     "text": [
      "MFCC 추출 및 증강:  58%|█████▊    | 174349/300584 [3:39:32<3:25:18, 10.25it/s]"
     ]
    },
    {
     "name": "stdout",
     "output_type": "stream",
     "text": [
      "배치 521 저장 완료 - 1002개\n"
     ]
    },
    {
     "name": "stderr",
     "output_type": "stream",
     "text": [
      "MFCC 추출 및 증강:  58%|█████▊    | 174683/300584 [3:40:02<3:24:20, 10.27it/s]"
     ]
    },
    {
     "name": "stdout",
     "output_type": "stream",
     "text": [
      "배치 522 저장 완료 - 1002개\n"
     ]
    },
    {
     "name": "stderr",
     "output_type": "stream",
     "text": [
      "MFCC 추출 및 증강:  58%|█████▊    | 175018/300584 [3:40:30<3:22:23, 10.34it/s]"
     ]
    },
    {
     "name": "stdout",
     "output_type": "stream",
     "text": [
      "배치 523 저장 완료 - 1002개\n"
     ]
    },
    {
     "name": "stderr",
     "output_type": "stream",
     "text": [
      "MFCC 추출 및 증강:  58%|█████▊    | 175351/300584 [3:40:59<3:04:19, 11.32it/s]"
     ]
    },
    {
     "name": "stdout",
     "output_type": "stream",
     "text": [
      "배치 524 저장 완료 - 1002개\n"
     ]
    },
    {
     "name": "stderr",
     "output_type": "stream",
     "text": [
      "MFCC 추출 및 증강:  58%|█████▊    | 175687/300584 [3:41:29<3:03:16, 11.36it/s]"
     ]
    },
    {
     "name": "stdout",
     "output_type": "stream",
     "text": [
      "배치 525 저장 완료 - 1002개\n"
     ]
    },
    {
     "name": "stderr",
     "output_type": "stream",
     "text": [
      "MFCC 추출 및 증강:  59%|█████▊    | 176019/300584 [3:41:58<2:55:55, 11.80it/s]"
     ]
    },
    {
     "name": "stdout",
     "output_type": "stream",
     "text": [
      "배치 526 저장 완료 - 1002개\n"
     ]
    },
    {
     "name": "stderr",
     "output_type": "stream",
     "text": [
      "MFCC 추출 및 증강:  59%|█████▊    | 176354/300584 [3:42:26<2:55:48, 11.78it/s]"
     ]
    },
    {
     "name": "stdout",
     "output_type": "stream",
     "text": [
      "배치 527 저장 완료 - 1002개\n"
     ]
    },
    {
     "name": "stderr",
     "output_type": "stream",
     "text": [
      "MFCC 추출 및 증강:  59%|█████▉    | 176688/300584 [3:42:52<2:39:03, 12.98it/s]"
     ]
    },
    {
     "name": "stdout",
     "output_type": "stream",
     "text": [
      "배치 528 저장 완료 - 1002개\n"
     ]
    },
    {
     "name": "stderr",
     "output_type": "stream",
     "text": [
      "MFCC 추출 및 증강:  59%|█████▉    | 177024/300584 [3:43:19<2:30:54, 13.65it/s]"
     ]
    },
    {
     "name": "stdout",
     "output_type": "stream",
     "text": [
      "배치 529 저장 완료 - 1002개\n"
     ]
    },
    {
     "name": "stderr",
     "output_type": "stream",
     "text": [
      "MFCC 추출 및 증강:  59%|█████▉    | 177356/300584 [3:43:44<2:38:48, 12.93it/s]"
     ]
    },
    {
     "name": "stdout",
     "output_type": "stream",
     "text": [
      "배치 530 저장 완료 - 1002개\n"
     ]
    },
    {
     "name": "stderr",
     "output_type": "stream",
     "text": [
      "MFCC 추출 및 증강:  59%|█████▉    | 177690/300584 [3:44:11<3:18:37, 10.31it/s]"
     ]
    },
    {
     "name": "stdout",
     "output_type": "stream",
     "text": [
      "배치 531 저장 완료 - 1002개\n"
     ]
    },
    {
     "name": "stderr",
     "output_type": "stream",
     "text": [
      "MFCC 추출 및 증강:  59%|█████▉    | 178024/300584 [3:44:38<3:12:02, 10.64it/s]"
     ]
    },
    {
     "name": "stdout",
     "output_type": "stream",
     "text": [
      "배치 532 저장 완료 - 1002개\n"
     ]
    },
    {
     "name": "stderr",
     "output_type": "stream",
     "text": [
      "MFCC 추출 및 증강:  59%|█████▉    | 178357/300584 [3:45:04<3:40:42,  9.23it/s]"
     ]
    },
    {
     "name": "stdout",
     "output_type": "stream",
     "text": [
      "배치 533 저장 완료 - 1002개\n"
     ]
    },
    {
     "name": "stderr",
     "output_type": "stream",
     "text": [
      "MFCC 추출 및 증강:  59%|█████▉    | 178692/300584 [3:45:31<3:51:42,  8.77it/s]"
     ]
    },
    {
     "name": "stdout",
     "output_type": "stream",
     "text": [
      "배치 534 저장 완료 - 1002개\n"
     ]
    },
    {
     "name": "stderr",
     "output_type": "stream",
     "text": [
      "MFCC 추출 및 증강:  60%|█████▉    | 179026/300584 [3:45:57<3:00:18, 11.24it/s]"
     ]
    },
    {
     "name": "stdout",
     "output_type": "stream",
     "text": [
      "배치 535 저장 완료 - 1002개\n"
     ]
    },
    {
     "name": "stderr",
     "output_type": "stream",
     "text": [
      "MFCC 추출 및 증강:  60%|█████▉    | 179358/300584 [3:46:22<2:48:43, 11.97it/s]"
     ]
    },
    {
     "name": "stdout",
     "output_type": "stream",
     "text": [
      "배치 536 저장 완료 - 1002개\n"
     ]
    },
    {
     "name": "stderr",
     "output_type": "stream",
     "text": [
      "MFCC 추출 및 증강:  60%|█████▉    | 179695/300584 [3:46:50<2:30:04, 13.43it/s]"
     ]
    },
    {
     "name": "stdout",
     "output_type": "stream",
     "text": [
      "배치 537 저장 완료 - 1002개\n"
     ]
    },
    {
     "name": "stderr",
     "output_type": "stream",
     "text": [
      "MFCC 추출 및 증강:  60%|█████▉    | 180026/300584 [3:47:18<2:41:23, 12.45it/s]"
     ]
    },
    {
     "name": "stdout",
     "output_type": "stream",
     "text": [
      "배치 538 저장 완료 - 1002개\n"
     ]
    },
    {
     "name": "stderr",
     "output_type": "stream",
     "text": [
      "MFCC 추출 및 증강:  60%|██████    | 180361/300584 [3:47:45<3:43:36,  8.96it/s]"
     ]
    },
    {
     "name": "stdout",
     "output_type": "stream",
     "text": [
      "배치 539 저장 완료 - 1002개\n"
     ]
    },
    {
     "name": "stderr",
     "output_type": "stream",
     "text": [
      "MFCC 추출 및 증강:  60%|██████    | 180696/300584 [3:48:14<3:51:10,  8.64it/s]"
     ]
    },
    {
     "name": "stdout",
     "output_type": "stream",
     "text": [
      "배치 540 저장 완료 - 1002개\n"
     ]
    },
    {
     "name": "stderr",
     "output_type": "stream",
     "text": [
      "MFCC 추출 및 증강:  60%|██████    | 181029/300584 [3:48:40<3:20:15,  9.95it/s]"
     ]
    },
    {
     "name": "stdout",
     "output_type": "stream",
     "text": [
      "배치 541 저장 완료 - 1002개\n"
     ]
    },
    {
     "name": "stderr",
     "output_type": "stream",
     "text": [
      "MFCC 추출 및 증강:  60%|██████    | 181364/300584 [3:49:06<3:12:32, 10.32it/s]"
     ]
    },
    {
     "name": "stdout",
     "output_type": "stream",
     "text": [
      "배치 542 저장 완료 - 1002개\n"
     ]
    },
    {
     "name": "stderr",
     "output_type": "stream",
     "text": [
      "MFCC 추출 및 증강:  60%|██████    | 181696/300584 [3:49:34<3:54:50,  8.44it/s]"
     ]
    },
    {
     "name": "stdout",
     "output_type": "stream",
     "text": [
      "배치 543 저장 완료 - 1002개\n"
     ]
    },
    {
     "name": "stderr",
     "output_type": "stream",
     "text": [
      "MFCC 추출 및 증강:  61%|██████    | 182031/300584 [3:50:02<2:58:23, 11.08it/s]"
     ]
    },
    {
     "name": "stdout",
     "output_type": "stream",
     "text": [
      "배치 544 저장 완료 - 1002개\n"
     ]
    },
    {
     "name": "stderr",
     "output_type": "stream",
     "text": [
      "MFCC 추출 및 증강:  61%|██████    | 182364/300584 [3:50:30<6:00:51,  5.46it/s]"
     ]
    },
    {
     "name": "stdout",
     "output_type": "stream",
     "text": [
      "배치 545 저장 완료 - 1002개\n"
     ]
    },
    {
     "name": "stderr",
     "output_type": "stream",
     "text": [
      "MFCC 추출 및 증강:  61%|██████    | 182702/300584 [3:50:58<3:06:15, 10.55it/s]"
     ]
    },
    {
     "name": "stdout",
     "output_type": "stream",
     "text": [
      "배치 546 저장 완료 - 1002개\n"
     ]
    },
    {
     "name": "stderr",
     "output_type": "stream",
     "text": [
      "MFCC 추출 및 증강:  61%|██████    | 183033/300584 [3:51:25<3:18:11,  9.89it/s]"
     ]
    },
    {
     "name": "stdout",
     "output_type": "stream",
     "text": [
      "배치 547 저장 완료 - 1002개\n"
     ]
    },
    {
     "name": "stderr",
     "output_type": "stream",
     "text": [
      "MFCC 추출 및 증강:  61%|██████    | 183369/300584 [3:51:52<3:11:43, 10.19it/s]"
     ]
    },
    {
     "name": "stdout",
     "output_type": "stream",
     "text": [
      "배치 548 저장 완료 - 1002개\n"
     ]
    },
    {
     "name": "stderr",
     "output_type": "stream",
     "text": [
      "MFCC 추출 및 증강:  61%|██████    | 183703/300584 [3:52:22<3:34:21,  9.09it/s]"
     ]
    },
    {
     "name": "stdout",
     "output_type": "stream",
     "text": [
      "배치 549 저장 완료 - 1002개\n"
     ]
    },
    {
     "name": "stderr",
     "output_type": "stream",
     "text": [
      "MFCC 추출 및 증강:  61%|██████    | 184036/300584 [3:52:51<4:01:59,  8.03it/s]"
     ]
    },
    {
     "name": "stdout",
     "output_type": "stream",
     "text": [
      "배치 550 저장 완료 - 1002개\n"
     ]
    },
    {
     "name": "stderr",
     "output_type": "stream",
     "text": [
      "MFCC 추출 및 증강:  61%|██████▏   | 184370/300584 [3:53:21<3:33:51,  9.06it/s]"
     ]
    },
    {
     "name": "stdout",
     "output_type": "stream",
     "text": [
      "배치 551 저장 완료 - 1002개\n"
     ]
    },
    {
     "name": "stderr",
     "output_type": "stream",
     "text": [
      "MFCC 추출 및 증강:  61%|██████▏   | 184704/300584 [3:53:52<3:35:45,  8.95it/s]"
     ]
    },
    {
     "name": "stdout",
     "output_type": "stream",
     "text": [
      "배치 552 저장 완료 - 1002개\n"
     ]
    },
    {
     "name": "stderr",
     "output_type": "stream",
     "text": [
      "MFCC 추출 및 증강:  62%|██████▏   | 185037/300584 [3:54:20<4:13:52,  7.59it/s]"
     ]
    },
    {
     "name": "stdout",
     "output_type": "stream",
     "text": [
      "배치 553 저장 완료 - 1002개\n"
     ]
    },
    {
     "name": "stderr",
     "output_type": "stream",
     "text": [
      "MFCC 추출 및 증강:  62%|██████▏   | 185371/300584 [3:54:50<3:37:42,  8.82it/s]"
     ]
    },
    {
     "name": "stdout",
     "output_type": "stream",
     "text": [
      "배치 554 저장 완료 - 1002개\n"
     ]
    },
    {
     "name": "stderr",
     "output_type": "stream",
     "text": [
      "MFCC 추출 및 증강:  62%|██████▏   | 185705/300584 [3:55:22<3:43:37,  8.56it/s]"
     ]
    },
    {
     "name": "stdout",
     "output_type": "stream",
     "text": [
      "배치 555 저장 완료 - 1002개\n"
     ]
    },
    {
     "name": "stderr",
     "output_type": "stream",
     "text": [
      "MFCC 추출 및 증강:  62%|██████▏   | 186039/300584 [3:55:51<2:09:02, 14.79it/s]"
     ]
    },
    {
     "name": "stdout",
     "output_type": "stream",
     "text": [
      "배치 556 저장 완료 - 1002개\n"
     ]
    },
    {
     "name": "stderr",
     "output_type": "stream",
     "text": [
      "MFCC 추출 및 증강:  62%|██████▏   | 186374/300584 [3:56:18<2:16:37, 13.93it/s]"
     ]
    },
    {
     "name": "stdout",
     "output_type": "stream",
     "text": [
      "배치 557 저장 완료 - 1002개\n"
     ]
    },
    {
     "name": "stderr",
     "output_type": "stream",
     "text": [
      "MFCC 추출 및 증강:  62%|██████▏   | 186708/300584 [3:56:45<2:45:59, 11.43it/s]"
     ]
    },
    {
     "name": "stdout",
     "output_type": "stream",
     "text": [
      "배치 558 저장 완료 - 1002개\n"
     ]
    },
    {
     "name": "stderr",
     "output_type": "stream",
     "text": [
      "MFCC 추출 및 증강:  62%|██████▏   | 187043/300584 [3:57:12<2:15:04, 14.01it/s]"
     ]
    },
    {
     "name": "stdout",
     "output_type": "stream",
     "text": [
      "배치 559 저장 완료 - 1002개\n"
     ]
    },
    {
     "name": "stderr",
     "output_type": "stream",
     "text": [
      "MFCC 추출 및 증강:  62%|██████▏   | 187376/300584 [3:57:37<2:26:04, 12.92it/s]"
     ]
    },
    {
     "name": "stdout",
     "output_type": "stream",
     "text": [
      "배치 560 저장 완료 - 1002개\n"
     ]
    },
    {
     "name": "stderr",
     "output_type": "stream",
     "text": [
      "MFCC 추출 및 증강:  62%|██████▏   | 187711/300584 [3:58:04<2:19:41, 13.47it/s]"
     ]
    },
    {
     "name": "stdout",
     "output_type": "stream",
     "text": [
      "배치 561 저장 완료 - 1002개\n"
     ]
    },
    {
     "name": "stderr",
     "output_type": "stream",
     "text": [
      "MFCC 추출 및 증강:  63%|██████▎   | 188044/300584 [3:58:31<2:20:16, 13.37it/s]"
     ]
    },
    {
     "name": "stdout",
     "output_type": "stream",
     "text": [
      "배치 562 저장 완료 - 1002개\n"
     ]
    },
    {
     "name": "stderr",
     "output_type": "stream",
     "text": [
      "MFCC 추출 및 증강:  63%|██████▎   | 188378/300584 [3:58:57<2:07:10, 14.70it/s]"
     ]
    },
    {
     "name": "stdout",
     "output_type": "stream",
     "text": [
      "배치 563 저장 완료 - 1002개\n"
     ]
    },
    {
     "name": "stderr",
     "output_type": "stream",
     "text": [
      "MFCC 추출 및 증강:  63%|██████▎   | 188711/300584 [3:59:23<3:03:54, 10.14it/s]"
     ]
    },
    {
     "name": "stdout",
     "output_type": "stream",
     "text": [
      "배치 564 저장 완료 - 1002개\n"
     ]
    },
    {
     "name": "stderr",
     "output_type": "stream",
     "text": [
      "MFCC 추출 및 증강:  63%|██████▎   | 189046/300584 [3:59:48<2:21:13, 13.16it/s]"
     ]
    },
    {
     "name": "stdout",
     "output_type": "stream",
     "text": [
      "배치 565 저장 완료 - 1002개\n"
     ]
    },
    {
     "name": "stderr",
     "output_type": "stream",
     "text": [
      "MFCC 추출 및 증강:  63%|██████▎   | 189378/300584 [4:00:13<2:47:51, 11.04it/s]"
     ]
    },
    {
     "name": "stdout",
     "output_type": "stream",
     "text": [
      "배치 566 저장 완료 - 1002개\n"
     ]
    },
    {
     "name": "stderr",
     "output_type": "stream",
     "text": [
      "MFCC 추출 및 증강:  63%|██████▎   | 189714/300584 [4:00:40<2:11:35, 14.04it/s]"
     ]
    },
    {
     "name": "stdout",
     "output_type": "stream",
     "text": [
      "배치 567 저장 완료 - 1002개\n"
     ]
    },
    {
     "name": "stderr",
     "output_type": "stream",
     "text": [
      "MFCC 추출 및 증강:  63%|██████▎   | 190048/300584 [4:01:04<1:54:16, 16.12it/s]"
     ]
    },
    {
     "name": "stdout",
     "output_type": "stream",
     "text": [
      "배치 568 저장 완료 - 1002개\n"
     ]
    },
    {
     "name": "stderr",
     "output_type": "stream",
     "text": [
      "MFCC 추출 및 증강:  63%|██████▎   | 190382/300584 [4:01:30<2:23:23, 12.81it/s]"
     ]
    },
    {
     "name": "stdout",
     "output_type": "stream",
     "text": [
      "배치 569 저장 완료 - 1002개\n"
     ]
    },
    {
     "name": "stderr",
     "output_type": "stream",
     "text": [
      "MFCC 추출 및 증강:  63%|██████▎   | 190717/300584 [4:01:59<1:53:42, 16.10it/s]"
     ]
    },
    {
     "name": "stdout",
     "output_type": "stream",
     "text": [
      "배치 570 저장 완료 - 1002개\n"
     ]
    },
    {
     "name": "stderr",
     "output_type": "stream",
     "text": [
      "MFCC 추출 및 증강:  64%|██████▎   | 191049/300584 [4:02:25<3:03:17,  9.96it/s]"
     ]
    },
    {
     "name": "stdout",
     "output_type": "stream",
     "text": [
      "배치 571 저장 완료 - 1002개\n"
     ]
    },
    {
     "name": "stderr",
     "output_type": "stream",
     "text": [
      "MFCC 추출 및 증강:  64%|██████▎   | 191386/300584 [4:02:50<2:14:04, 13.57it/s]"
     ]
    },
    {
     "name": "stdout",
     "output_type": "stream",
     "text": [
      "배치 572 저장 완료 - 1002개\n"
     ]
    },
    {
     "name": "stderr",
     "output_type": "stream",
     "text": [
      "MFCC 추출 및 증강:  64%|██████▍   | 191718/300584 [4:03:19<2:47:13, 10.85it/s]"
     ]
    },
    {
     "name": "stdout",
     "output_type": "stream",
     "text": [
      "배치 573 저장 완료 - 1002개\n"
     ]
    },
    {
     "name": "stderr",
     "output_type": "stream",
     "text": [
      "MFCC 추출 및 증강:  64%|██████▍   | 192051/300584 [4:03:48<3:37:16,  8.33it/s]"
     ]
    },
    {
     "name": "stdout",
     "output_type": "stream",
     "text": [
      "배치 574 저장 완료 - 1002개\n"
     ]
    },
    {
     "name": "stderr",
     "output_type": "stream",
     "text": [
      "MFCC 추출 및 증강:  64%|██████▍   | 192387/300584 [4:04:17<2:24:42, 12.46it/s]"
     ]
    },
    {
     "name": "stdout",
     "output_type": "stream",
     "text": [
      "배치 575 저장 완료 - 1002개\n"
     ]
    },
    {
     "name": "stderr",
     "output_type": "stream",
     "text": [
      "MFCC 추출 및 증강:  64%|██████▍   | 192721/300584 [4:04:45<2:19:23, 12.90it/s]"
     ]
    },
    {
     "name": "stdout",
     "output_type": "stream",
     "text": [
      "배치 576 저장 완료 - 1002개\n"
     ]
    },
    {
     "name": "stderr",
     "output_type": "stream",
     "text": [
      "MFCC 추출 및 증강:  64%|██████▍   | 193053/300584 [4:05:11<2:39:13, 11.26it/s]"
     ]
    },
    {
     "name": "stdout",
     "output_type": "stream",
     "text": [
      "배치 577 저장 완료 - 1002개\n"
     ]
    },
    {
     "name": "stderr",
     "output_type": "stream",
     "text": [
      "MFCC 추출 및 증강:  64%|██████▍   | 193387/300584 [4:05:37<2:31:19, 11.81it/s]"
     ]
    },
    {
     "name": "stdout",
     "output_type": "stream",
     "text": [
      "배치 578 저장 완료 - 1002개\n"
     ]
    },
    {
     "name": "stderr",
     "output_type": "stream",
     "text": [
      "MFCC 추출 및 증강:  64%|██████▍   | 193722/300584 [4:06:05<2:32:16, 11.70it/s]"
     ]
    },
    {
     "name": "stdout",
     "output_type": "stream",
     "text": [
      "배치 579 저장 완료 - 1002개\n"
     ]
    },
    {
     "name": "stderr",
     "output_type": "stream",
     "text": [
      "MFCC 추출 및 증강:  65%|██████▍   | 194056/300584 [4:06:30<2:16:10, 13.04it/s]"
     ]
    },
    {
     "name": "stdout",
     "output_type": "stream",
     "text": [
      "배치 580 저장 완료 - 1002개\n"
     ]
    },
    {
     "name": "stderr",
     "output_type": "stream",
     "text": [
      "MFCC 추출 및 증강:  65%|██████▍   | 194388/300584 [4:06:56<2:35:46, 11.36it/s]"
     ]
    },
    {
     "name": "stdout",
     "output_type": "stream",
     "text": [
      "배치 581 저장 완료 - 1002개\n"
     ]
    },
    {
     "name": "stderr",
     "output_type": "stream",
     "text": [
      "MFCC 추출 및 증강:  65%|██████▍   | 194722/300584 [4:07:26<2:08:48, 13.70it/s]"
     ]
    },
    {
     "name": "stdout",
     "output_type": "stream",
     "text": [
      "배치 582 저장 완료 - 1002개\n"
     ]
    },
    {
     "name": "stderr",
     "output_type": "stream",
     "text": [
      "MFCC 추출 및 증강:  65%|██████▍   | 195056/300584 [4:07:55<3:30:22,  8.36it/s]"
     ]
    },
    {
     "name": "stdout",
     "output_type": "stream",
     "text": [
      "배치 583 저장 완료 - 1002개\n"
     ]
    },
    {
     "name": "stderr",
     "output_type": "stream",
     "text": [
      "MFCC 추출 및 증강:  65%|██████▌   | 195391/300584 [4:08:22<2:42:12, 10.81it/s]"
     ]
    },
    {
     "name": "stdout",
     "output_type": "stream",
     "text": [
      "배치 584 저장 완료 - 1002개\n"
     ]
    },
    {
     "name": "stderr",
     "output_type": "stream",
     "text": [
      "MFCC 추출 및 증강:  65%|██████▌   | 195726/300584 [4:08:51<2:48:38, 10.36it/s]"
     ]
    },
    {
     "name": "stdout",
     "output_type": "stream",
     "text": [
      "배치 585 저장 완료 - 1002개\n"
     ]
    },
    {
     "name": "stderr",
     "output_type": "stream",
     "text": [
      "MFCC 추출 및 증강:  65%|██████▌   | 196060/300584 [4:09:18<2:07:17, 13.69it/s]"
     ]
    },
    {
     "name": "stdout",
     "output_type": "stream",
     "text": [
      "배치 586 저장 완료 - 1002개\n"
     ]
    },
    {
     "name": "stderr",
     "output_type": "stream",
     "text": [
      "MFCC 추출 및 증강:  65%|██████▌   | 196393/300584 [4:09:42<2:01:34, 14.28it/s]"
     ]
    },
    {
     "name": "stdout",
     "output_type": "stream",
     "text": [
      "배치 587 저장 완료 - 1002개\n"
     ]
    },
    {
     "name": "stderr",
     "output_type": "stream",
     "text": [
      "MFCC 추출 및 증강:  65%|██████▌   | 196726/300584 [4:10:07<2:10:40, 13.25it/s]"
     ]
    },
    {
     "name": "stdout",
     "output_type": "stream",
     "text": [
      "배치 588 저장 완료 - 1002개\n"
     ]
    },
    {
     "name": "stderr",
     "output_type": "stream",
     "text": [
      "MFCC 추출 및 증강:  66%|██████▌   | 197062/300584 [4:10:32<2:18:29, 12.46it/s]"
     ]
    },
    {
     "name": "stdout",
     "output_type": "stream",
     "text": [
      "배치 589 저장 완료 - 1002개\n"
     ]
    },
    {
     "name": "stderr",
     "output_type": "stream",
     "text": [
      "MFCC 추출 및 증강:  66%|██████▌   | 197397/300584 [4:10:55<1:52:08, 15.34it/s]"
     ]
    },
    {
     "name": "stdout",
     "output_type": "stream",
     "text": [
      "배치 590 저장 완료 - 1002개\n"
     ]
    },
    {
     "name": "stderr",
     "output_type": "stream",
     "text": [
      "MFCC 추출 및 증강:  66%|██████▌   | 197731/300584 [4:11:16<1:55:14, 14.88it/s]"
     ]
    },
    {
     "name": "stdout",
     "output_type": "stream",
     "text": [
      "배치 591 저장 완료 - 1002개\n"
     ]
    },
    {
     "name": "stderr",
     "output_type": "stream",
     "text": [
      "MFCC 추출 및 증강:  66%|██████▌   | 198063/300584 [4:11:39<2:07:59, 13.35it/s]"
     ]
    },
    {
     "name": "stdout",
     "output_type": "stream",
     "text": [
      "배치 592 저장 완료 - 1002개\n"
     ]
    },
    {
     "name": "stderr",
     "output_type": "stream",
     "text": [
      "MFCC 추출 및 증강:  66%|██████▌   | 198398/300584 [4:12:00<2:12:27, 12.86it/s]"
     ]
    },
    {
     "name": "stdout",
     "output_type": "stream",
     "text": [
      "배치 593 저장 완료 - 1002개\n"
     ]
    },
    {
     "name": "stderr",
     "output_type": "stream",
     "text": [
      "MFCC 추출 및 증강:  66%|██████▌   | 198731/300584 [4:12:19<2:20:20, 12.10it/s]"
     ]
    },
    {
     "name": "stdout",
     "output_type": "stream",
     "text": [
      "배치 594 저장 완료 - 1002개\n"
     ]
    },
    {
     "name": "stderr",
     "output_type": "stream",
     "text": [
      "MFCC 추출 및 증강:  66%|██████▌   | 199066/300584 [4:12:39<1:50:07, 15.36it/s]"
     ]
    },
    {
     "name": "stdout",
     "output_type": "stream",
     "text": [
      "배치 595 저장 완료 - 1002개\n"
     ]
    },
    {
     "name": "stderr",
     "output_type": "stream",
     "text": [
      "MFCC 추출 및 증강:  66%|██████▋   | 199400/300584 [4:13:01<2:16:37, 12.34it/s]"
     ]
    },
    {
     "name": "stdout",
     "output_type": "stream",
     "text": [
      "배치 596 저장 완료 - 1002개\n"
     ]
    },
    {
     "name": "stderr",
     "output_type": "stream",
     "text": [
      "MFCC 추출 및 증강:  66%|██████▋   | 199736/300584 [4:13:20<1:40:11, 16.78it/s]"
     ]
    },
    {
     "name": "stdout",
     "output_type": "stream",
     "text": [
      "배치 597 저장 완료 - 1002개\n"
     ]
    },
    {
     "name": "stderr",
     "output_type": "stream",
     "text": [
      "MFCC 추출 및 증강:  67%|██████▋   | 200068/300584 [4:13:42<2:26:57, 11.40it/s]"
     ]
    },
    {
     "name": "stdout",
     "output_type": "stream",
     "text": [
      "배치 598 저장 완료 - 1002개\n"
     ]
    },
    {
     "name": "stderr",
     "output_type": "stream",
     "text": [
      "MFCC 추출 및 증강:  67%|██████▋   | 200403/300584 [4:14:01<1:51:50, 14.93it/s]"
     ]
    },
    {
     "name": "stdout",
     "output_type": "stream",
     "text": [
      "배치 599 저장 완료 - 1002개\n"
     ]
    },
    {
     "name": "stderr",
     "output_type": "stream",
     "text": [
      "MFCC 추출 및 증강:  67%|██████▋   | 200738/300584 [4:14:19<1:54:25, 14.54it/s]"
     ]
    },
    {
     "name": "stdout",
     "output_type": "stream",
     "text": [
      "배치 600 저장 완료 - 1002개\n"
     ]
    },
    {
     "name": "stderr",
     "output_type": "stream",
     "text": [
      "MFCC 추출 및 증강:  67%|██████▋   | 201070/300584 [4:14:37<1:37:35, 17.00it/s]"
     ]
    },
    {
     "name": "stdout",
     "output_type": "stream",
     "text": [
      "배치 601 저장 완료 - 1002개\n"
     ]
    },
    {
     "name": "stderr",
     "output_type": "stream",
     "text": [
      "MFCC 추출 및 증강:  67%|██████▋   | 201403/300584 [4:14:56<2:23:07, 11.55it/s]"
     ]
    },
    {
     "name": "stdout",
     "output_type": "stream",
     "text": [
      "배치 602 저장 완료 - 1002개\n"
     ]
    },
    {
     "name": "stderr",
     "output_type": "stream",
     "text": [
      "MFCC 추출 및 증강:  67%|██████▋   | 201739/300584 [4:15:16<1:38:44, 16.68it/s]"
     ]
    },
    {
     "name": "stdout",
     "output_type": "stream",
     "text": [
      "배치 603 저장 완료 - 1002개\n"
     ]
    },
    {
     "name": "stderr",
     "output_type": "stream",
     "text": [
      "MFCC 추출 및 증강:  67%|██████▋   | 202074/300584 [4:15:37<1:51:14, 14.76it/s]"
     ]
    },
    {
     "name": "stdout",
     "output_type": "stream",
     "text": [
      "배치 604 저장 완료 - 1002개\n"
     ]
    },
    {
     "name": "stderr",
     "output_type": "stream",
     "text": [
      "MFCC 추출 및 증강:  67%|██████▋   | 202406/300584 [4:15:57<2:05:58, 12.99it/s]"
     ]
    },
    {
     "name": "stdout",
     "output_type": "stream",
     "text": [
      "배치 605 저장 완료 - 1002개\n"
     ]
    },
    {
     "name": "stderr",
     "output_type": "stream",
     "text": [
      "MFCC 추출 및 증강:  67%|██████▋   | 202739/300584 [4:16:18<2:01:45, 13.39it/s]"
     ]
    },
    {
     "name": "stdout",
     "output_type": "stream",
     "text": [
      "배치 606 저장 완료 - 1002개\n"
     ]
    },
    {
     "name": "stderr",
     "output_type": "stream",
     "text": [
      "MFCC 추출 및 증강:  68%|██████▊   | 203075/300584 [4:16:41<1:53:30, 14.32it/s]"
     ]
    },
    {
     "name": "stdout",
     "output_type": "stream",
     "text": [
      "배치 607 저장 완료 - 1002개\n"
     ]
    },
    {
     "name": "stderr",
     "output_type": "stream",
     "text": [
      "MFCC 추출 및 증강:  68%|██████▊   | 203408/300584 [4:17:02<2:10:01, 12.46it/s]"
     ]
    },
    {
     "name": "stdout",
     "output_type": "stream",
     "text": [
      "배치 608 저장 완료 - 1002개\n"
     ]
    },
    {
     "name": "stderr",
     "output_type": "stream",
     "text": [
      "MFCC 추출 및 증강:  68%|██████▊   | 203742/300584 [4:17:26<2:02:05, 13.22it/s]"
     ]
    },
    {
     "name": "stdout",
     "output_type": "stream",
     "text": [
      "배치 609 저장 완료 - 1002개\n"
     ]
    },
    {
     "name": "stderr",
     "output_type": "stream",
     "text": [
      "MFCC 추출 및 증강:  68%|██████▊   | 204077/300584 [4:17:48<1:51:54, 14.37it/s]"
     ]
    },
    {
     "name": "stdout",
     "output_type": "stream",
     "text": [
      "배치 610 저장 완료 - 1002개\n"
     ]
    },
    {
     "name": "stderr",
     "output_type": "stream",
     "text": [
      "MFCC 추출 및 증강:  68%|██████▊   | 204410/300584 [4:18:12<2:04:11, 12.91it/s]"
     ]
    },
    {
     "name": "stdout",
     "output_type": "stream",
     "text": [
      "배치 611 저장 완료 - 1002개\n"
     ]
    },
    {
     "name": "stderr",
     "output_type": "stream",
     "text": [
      "MFCC 추출 및 증강:  68%|██████▊   | 204745/300584 [4:18:34<1:40:41, 15.86it/s]"
     ]
    },
    {
     "name": "stdout",
     "output_type": "stream",
     "text": [
      "배치 612 저장 완료 - 1002개\n"
     ]
    },
    {
     "name": "stderr",
     "output_type": "stream",
     "text": [
      "MFCC 추출 및 증강:  68%|██████▊   | 205077/300584 [4:18:55<2:18:20, 11.51it/s]"
     ]
    },
    {
     "name": "stdout",
     "output_type": "stream",
     "text": [
      "배치 613 저장 완료 - 1002개\n"
     ]
    },
    {
     "name": "stderr",
     "output_type": "stream",
     "text": [
      "MFCC 추출 및 증강:  68%|██████▊   | 205411/300584 [4:19:19<2:16:48, 11.59it/s]"
     ]
    },
    {
     "name": "stdout",
     "output_type": "stream",
     "text": [
      "배치 614 저장 완료 - 1002개\n"
     ]
    },
    {
     "name": "stderr",
     "output_type": "stream",
     "text": [
      "MFCC 추출 및 증강:  68%|██████▊   | 205745/300584 [4:19:43<2:38:53,  9.95it/s]"
     ]
    },
    {
     "name": "stdout",
     "output_type": "stream",
     "text": [
      "배치 615 저장 완료 - 1002개\n"
     ]
    },
    {
     "name": "stderr",
     "output_type": "stream",
     "text": [
      "MFCC 추출 및 증강:  69%|██████▊   | 206080/300584 [4:20:06<2:08:05, 12.30it/s]"
     ]
    },
    {
     "name": "stdout",
     "output_type": "stream",
     "text": [
      "배치 616 저장 완료 - 1002개\n"
     ]
    },
    {
     "name": "stderr",
     "output_type": "stream",
     "text": [
      "MFCC 추출 및 증강:  69%|██████▊   | 206415/300584 [4:20:32<1:41:22, 15.48it/s]"
     ]
    },
    {
     "name": "stdout",
     "output_type": "stream",
     "text": [
      "배치 617 저장 완료 - 1002개\n"
     ]
    },
    {
     "name": "stderr",
     "output_type": "stream",
     "text": [
      "MFCC 추출 및 증강:  69%|██████▉   | 206748/300584 [4:20:52<1:37:12, 16.09it/s]"
     ]
    },
    {
     "name": "stdout",
     "output_type": "stream",
     "text": [
      "배치 618 저장 완료 - 1002개\n"
     ]
    },
    {
     "name": "stderr",
     "output_type": "stream",
     "text": [
      "MFCC 추출 및 증강:  69%|██████▉   | 207084/300584 [4:21:12<2:06:39, 12.30it/s]"
     ]
    },
    {
     "name": "stdout",
     "output_type": "stream",
     "text": [
      "배치 619 저장 완료 - 1002개\n"
     ]
    },
    {
     "name": "stderr",
     "output_type": "stream",
     "text": [
      "MFCC 추출 및 증강:  69%|██████▉   | 207415/300584 [4:21:32<2:11:09, 11.84it/s]"
     ]
    },
    {
     "name": "stdout",
     "output_type": "stream",
     "text": [
      "배치 620 저장 완료 - 1002개\n"
     ]
    },
    {
     "name": "stderr",
     "output_type": "stream",
     "text": [
      "MFCC 추출 및 증강:  69%|██████▉   | 207749/300584 [4:21:54<1:44:08, 14.86it/s]"
     ]
    },
    {
     "name": "stdout",
     "output_type": "stream",
     "text": [
      "배치 621 저장 완료 - 1002개\n"
     ]
    },
    {
     "name": "stderr",
     "output_type": "stream",
     "text": [
      "MFCC 추출 및 증강:  69%|██████▉   | 208083/300584 [4:22:15<1:50:46, 13.92it/s]"
     ]
    },
    {
     "name": "stdout",
     "output_type": "stream",
     "text": [
      "배치 622 저장 완료 - 1002개\n"
     ]
    },
    {
     "name": "stderr",
     "output_type": "stream",
     "text": [
      "MFCC 추출 및 증강:  69%|██████▉   | 208419/300584 [4:22:37<1:34:25, 16.27it/s]"
     ]
    },
    {
     "name": "stdout",
     "output_type": "stream",
     "text": [
      "배치 623 저장 완료 - 1002개\n"
     ]
    },
    {
     "name": "stderr",
     "output_type": "stream",
     "text": [
      "MFCC 추출 및 증강:  69%|██████▉   | 208751/300584 [4:22:56<1:18:22, 19.53it/s]"
     ]
    },
    {
     "name": "stdout",
     "output_type": "stream",
     "text": [
      "배치 624 저장 완료 - 1002개\n"
     ]
    },
    {
     "name": "stderr",
     "output_type": "stream",
     "text": [
      "MFCC 추출 및 증강:  70%|██████▉   | 209086/300584 [4:23:17<1:48:30, 14.05it/s]"
     ]
    },
    {
     "name": "stdout",
     "output_type": "stream",
     "text": [
      "배치 625 저장 완료 - 1002개\n"
     ]
    },
    {
     "name": "stderr",
     "output_type": "stream",
     "text": [
      "MFCC 추출 및 증강:  70%|██████▉   | 209420/300584 [4:23:42<2:05:08, 12.14it/s]"
     ]
    },
    {
     "name": "stdout",
     "output_type": "stream",
     "text": [
      "배치 626 저장 완료 - 1002개\n"
     ]
    },
    {
     "name": "stderr",
     "output_type": "stream",
     "text": [
      "MFCC 추출 및 증강:  70%|██████▉   | 209752/300584 [4:24:07<1:28:08, 17.17it/s]"
     ]
    },
    {
     "name": "stdout",
     "output_type": "stream",
     "text": [
      "배치 627 저장 완료 - 1002개\n"
     ]
    },
    {
     "name": "stderr",
     "output_type": "stream",
     "text": [
      "MFCC 추출 및 증강:  70%|██████▉   | 210087/300584 [4:24:32<2:14:56, 11.18it/s]"
     ]
    },
    {
     "name": "stdout",
     "output_type": "stream",
     "text": [
      "배치 628 저장 완료 - 1002개\n"
     ]
    },
    {
     "name": "stderr",
     "output_type": "stream",
     "text": [
      "MFCC 추출 및 증강:  70%|███████   | 210422/300584 [4:24:58<2:44:32,  9.13it/s]"
     ]
    },
    {
     "name": "stdout",
     "output_type": "stream",
     "text": [
      "배치 629 저장 완료 - 1002개\n"
     ]
    },
    {
     "name": "stderr",
     "output_type": "stream",
     "text": [
      "MFCC 추출 및 증강:  70%|███████   | 210756/300584 [4:25:23<2:47:45,  8.92it/s]"
     ]
    },
    {
     "name": "stdout",
     "output_type": "stream",
     "text": [
      "배치 630 저장 완료 - 1002개\n"
     ]
    },
    {
     "name": "stderr",
     "output_type": "stream",
     "text": [
      "MFCC 추출 및 증강:  70%|███████   | 211089/300584 [4:25:45<2:38:01,  9.44it/s]"
     ]
    },
    {
     "name": "stdout",
     "output_type": "stream",
     "text": [
      "배치 631 저장 완료 - 1002개\n"
     ]
    },
    {
     "name": "stderr",
     "output_type": "stream",
     "text": [
      "MFCC 추출 및 증강:  70%|███████   | 211425/300584 [4:26:08<1:48:35, 13.68it/s]"
     ]
    },
    {
     "name": "stdout",
     "output_type": "stream",
     "text": [
      "배치 632 저장 완료 - 1002개\n"
     ]
    },
    {
     "name": "stderr",
     "output_type": "stream",
     "text": [
      "MFCC 추출 및 증강:  70%|███████   | 211757/300584 [4:26:34<2:16:54, 10.81it/s]"
     ]
    },
    {
     "name": "stdout",
     "output_type": "stream",
     "text": [
      "배치 633 저장 완료 - 1002개\n"
     ]
    },
    {
     "name": "stderr",
     "output_type": "stream",
     "text": [
      "MFCC 추출 및 증강:  71%|███████   | 212092/300584 [4:27:03<2:22:31, 10.35it/s]"
     ]
    },
    {
     "name": "stdout",
     "output_type": "stream",
     "text": [
      "배치 634 저장 완료 - 1002개\n"
     ]
    },
    {
     "name": "stderr",
     "output_type": "stream",
     "text": [
      "MFCC 추출 및 증강:  71%|███████   | 212425/300584 [4:27:28<1:42:44, 14.30it/s]"
     ]
    },
    {
     "name": "stdout",
     "output_type": "stream",
     "text": [
      "배치 635 저장 완료 - 1002개\n"
     ]
    },
    {
     "name": "stderr",
     "output_type": "stream",
     "text": [
      "MFCC 추출 및 증강:  71%|███████   | 212759/300584 [4:27:50<1:48:20, 13.51it/s]"
     ]
    },
    {
     "name": "stdout",
     "output_type": "stream",
     "text": [
      "배치 636 저장 완료 - 1002개\n"
     ]
    },
    {
     "name": "stderr",
     "output_type": "stream",
     "text": [
      "MFCC 추출 및 증강:  71%|███████   | 213095/300584 [4:28:10<1:21:51, 17.81it/s]"
     ]
    },
    {
     "name": "stdout",
     "output_type": "stream",
     "text": [
      "배치 637 저장 완료 - 1002개\n"
     ]
    },
    {
     "name": "stderr",
     "output_type": "stream",
     "text": [
      "MFCC 추출 및 증강:  71%|███████   | 213429/300584 [4:28:31<1:30:11, 16.11it/s]"
     ]
    },
    {
     "name": "stdout",
     "output_type": "stream",
     "text": [
      "배치 638 저장 완료 - 1002개\n"
     ]
    },
    {
     "name": "stderr",
     "output_type": "stream",
     "text": [
      "MFCC 추출 및 증강:  71%|███████   | 213761/300584 [4:28:53<1:45:39, 13.69it/s]"
     ]
    },
    {
     "name": "stdout",
     "output_type": "stream",
     "text": [
      "배치 639 저장 완료 - 1002개\n"
     ]
    },
    {
     "name": "stderr",
     "output_type": "stream",
     "text": [
      "MFCC 추출 및 증강:  71%|███████   | 214098/300584 [4:29:15<1:26:30, 16.66it/s]"
     ]
    },
    {
     "name": "stdout",
     "output_type": "stream",
     "text": [
      "배치 640 저장 완료 - 1002개\n"
     ]
    },
    {
     "name": "stderr",
     "output_type": "stream",
     "text": [
      "MFCC 추출 및 증강:  71%|███████▏  | 214429/300584 [4:29:38<2:06:55, 11.31it/s]"
     ]
    },
    {
     "name": "stdout",
     "output_type": "stream",
     "text": [
      "배치 641 저장 완료 - 1002개\n"
     ]
    },
    {
     "name": "stderr",
     "output_type": "stream",
     "text": [
      "MFCC 추출 및 증강:  71%|███████▏  | 214766/300584 [4:29:59<1:15:39, 18.90it/s]"
     ]
    },
    {
     "name": "stdout",
     "output_type": "stream",
     "text": [
      "배치 642 저장 완료 - 1002개\n"
     ]
    },
    {
     "name": "stderr",
     "output_type": "stream",
     "text": [
      "MFCC 추출 및 증강:  72%|███████▏  | 215099/300584 [4:30:20<1:29:04, 16.00it/s]"
     ]
    },
    {
     "name": "stdout",
     "output_type": "stream",
     "text": [
      "배치 643 저장 완료 - 1002개\n"
     ]
    },
    {
     "name": "stderr",
     "output_type": "stream",
     "text": [
      "MFCC 추출 및 증강:  72%|███████▏  | 215430/300584 [4:30:43<2:02:00, 11.63it/s]"
     ]
    },
    {
     "name": "stdout",
     "output_type": "stream",
     "text": [
      "배치 644 저장 완료 - 1002개\n"
     ]
    },
    {
     "name": "stderr",
     "output_type": "stream",
     "text": [
      "MFCC 추출 및 증강:  72%|███████▏  | 215766/300584 [4:31:06<2:07:54, 11.05it/s]"
     ]
    },
    {
     "name": "stdout",
     "output_type": "stream",
     "text": [
      "배치 645 저장 완료 - 1002개\n"
     ]
    },
    {
     "name": "stderr",
     "output_type": "stream",
     "text": [
      "MFCC 추출 및 증강:  72%|███████▏  | 216101/300584 [4:31:28<1:32:15, 15.26it/s]"
     ]
    },
    {
     "name": "stdout",
     "output_type": "stream",
     "text": [
      "배치 646 저장 완료 - 1002개\n"
     ]
    },
    {
     "name": "stderr",
     "output_type": "stream",
     "text": [
      "MFCC 추출 및 증강:  72%|███████▏  | 216434/300584 [4:31:52<1:29:22, 15.69it/s]"
     ]
    },
    {
     "name": "stdout",
     "output_type": "stream",
     "text": [
      "배치 647 저장 완료 - 1002개\n"
     ]
    },
    {
     "name": "stderr",
     "output_type": "stream",
     "text": [
      "MFCC 추출 및 증강:  72%|███████▏  | 216767/300584 [4:32:13<1:27:09, 16.03it/s]"
     ]
    },
    {
     "name": "stdout",
     "output_type": "stream",
     "text": [
      "배치 648 저장 완료 - 1002개\n"
     ]
    },
    {
     "name": "stderr",
     "output_type": "stream",
     "text": [
      "MFCC 추출 및 증강:  72%|███████▏  | 217104/300584 [4:32:33<1:27:12, 15.96it/s]"
     ]
    },
    {
     "name": "stdout",
     "output_type": "stream",
     "text": [
      "배치 649 저장 완료 - 1002개\n"
     ]
    },
    {
     "name": "stderr",
     "output_type": "stream",
     "text": [
      "MFCC 추출 및 증강:  72%|███████▏  | 217434/300584 [4:32:58<1:46:32, 13.01it/s]"
     ]
    },
    {
     "name": "stdout",
     "output_type": "stream",
     "text": [
      "배치 650 저장 완료 - 1002개\n"
     ]
    },
    {
     "name": "stderr",
     "output_type": "stream",
     "text": [
      "MFCC 추출 및 증강:  72%|███████▏  | 217769/300584 [4:33:23<1:49:50, 12.57it/s]"
     ]
    },
    {
     "name": "stdout",
     "output_type": "stream",
     "text": [
      "배치 651 저장 완료 - 1002개\n"
     ]
    },
    {
     "name": "stderr",
     "output_type": "stream",
     "text": [
      "MFCC 추출 및 증강:  73%|███████▎  | 218105/300584 [4:33:47<1:50:48, 12.41it/s]"
     ]
    },
    {
     "name": "stdout",
     "output_type": "stream",
     "text": [
      "배치 652 저장 완료 - 1002개\n"
     ]
    },
    {
     "name": "stderr",
     "output_type": "stream",
     "text": [
      "MFCC 추출 및 증강:  73%|███████▎  | 218437/300584 [4:34:12<1:55:14, 11.88it/s]"
     ]
    },
    {
     "name": "stdout",
     "output_type": "stream",
     "text": [
      "배치 653 저장 완료 - 1002개\n"
     ]
    },
    {
     "name": "stderr",
     "output_type": "stream",
     "text": [
      "MFCC 추출 및 증강:  73%|███████▎  | 218771/300584 [4:34:36<1:54:51, 11.87it/s]"
     ]
    },
    {
     "name": "stdout",
     "output_type": "stream",
     "text": [
      "배치 654 저장 완료 - 1002개\n"
     ]
    },
    {
     "name": "stderr",
     "output_type": "stream",
     "text": [
      "MFCC 추출 및 증강:  73%|███████▎  | 219105/300584 [4:35:02<2:06:10, 10.76it/s]"
     ]
    },
    {
     "name": "stdout",
     "output_type": "stream",
     "text": [
      "배치 655 저장 완료 - 1002개\n"
     ]
    },
    {
     "name": "stderr",
     "output_type": "stream",
     "text": [
      "MFCC 추출 및 증강:  73%|███████▎  | 219440/300584 [4:35:33<1:55:53, 11.67it/s]"
     ]
    },
    {
     "name": "stdout",
     "output_type": "stream",
     "text": [
      "배치 656 저장 완료 - 1002개\n"
     ]
    },
    {
     "name": "stderr",
     "output_type": "stream",
     "text": [
      "MFCC 추출 및 증강:  73%|███████▎  | 219773/300584 [4:36:00<2:28:42,  9.06it/s]"
     ]
    },
    {
     "name": "stdout",
     "output_type": "stream",
     "text": [
      "배치 657 저장 완료 - 1002개\n"
     ]
    },
    {
     "name": "stderr",
     "output_type": "stream",
     "text": [
      "MFCC 추출 및 증강:  73%|███████▎  | 220107/300584 [4:36:26<1:44:18, 12.86it/s]"
     ]
    },
    {
     "name": "stdout",
     "output_type": "stream",
     "text": [
      "배치 658 저장 완료 - 1002개\n"
     ]
    },
    {
     "name": "stderr",
     "output_type": "stream",
     "text": [
      "MFCC 추출 및 증강:  73%|███████▎  | 220441/300584 [4:36:54<2:08:20, 10.41it/s]"
     ]
    },
    {
     "name": "stdout",
     "output_type": "stream",
     "text": [
      "배치 659 저장 완료 - 1002개\n"
     ]
    },
    {
     "name": "stderr",
     "output_type": "stream",
     "text": [
      "MFCC 추출 및 증강:  73%|███████▎  | 220775/300584 [4:37:19<1:36:44, 13.75it/s]"
     ]
    },
    {
     "name": "stdout",
     "output_type": "stream",
     "text": [
      "배치 660 저장 완료 - 1002개\n"
     ]
    },
    {
     "name": "stderr",
     "output_type": "stream",
     "text": [
      "MFCC 추출 및 증강:  74%|███████▎  | 221109/300584 [4:37:42<1:33:01, 14.24it/s]"
     ]
    },
    {
     "name": "stdout",
     "output_type": "stream",
     "text": [
      "배치 661 저장 완료 - 1002개\n"
     ]
    },
    {
     "name": "stderr",
     "output_type": "stream",
     "text": [
      "MFCC 추출 및 증강:  74%|███████▎  | 221443/300584 [4:38:08<1:39:49, 13.21it/s]"
     ]
    },
    {
     "name": "stdout",
     "output_type": "stream",
     "text": [
      "배치 662 저장 완료 - 1002개\n"
     ]
    },
    {
     "name": "stderr",
     "output_type": "stream",
     "text": [
      "MFCC 추출 및 증강:  74%|███████▍  | 221779/300584 [4:38:31<1:16:28, 17.18it/s]"
     ]
    },
    {
     "name": "stdout",
     "output_type": "stream",
     "text": [
      "배치 663 저장 완료 - 1002개\n"
     ]
    },
    {
     "name": "stderr",
     "output_type": "stream",
     "text": [
      "MFCC 추출 및 증강:  74%|███████▍  | 222111/300584 [4:38:54<2:01:45, 10.74it/s]"
     ]
    },
    {
     "name": "stdout",
     "output_type": "stream",
     "text": [
      "배치 664 저장 완료 - 1002개\n"
     ]
    },
    {
     "name": "stderr",
     "output_type": "stream",
     "text": [
      "MFCC 추출 및 증강:  74%|███████▍  | 222446/300584 [4:39:19<1:23:42, 15.56it/s]"
     ]
    },
    {
     "name": "stdout",
     "output_type": "stream",
     "text": [
      "배치 665 저장 완료 - 1002개\n"
     ]
    },
    {
     "name": "stderr",
     "output_type": "stream",
     "text": [
      "MFCC 추출 및 증강:  74%|███████▍  | 222779/300584 [4:39:39<1:46:12, 12.21it/s]"
     ]
    },
    {
     "name": "stdout",
     "output_type": "stream",
     "text": [
      "배치 666 저장 완료 - 1002개\n"
     ]
    },
    {
     "name": "stderr",
     "output_type": "stream",
     "text": [
      "MFCC 추출 및 증강:  74%|███████▍  | 223114/300584 [4:40:03<1:37:10, 13.29it/s]"
     ]
    },
    {
     "name": "stdout",
     "output_type": "stream",
     "text": [
      "배치 667 저장 완료 - 1002개\n"
     ]
    },
    {
     "name": "stderr",
     "output_type": "stream",
     "text": [
      "MFCC 추출 및 증강:  74%|███████▍  | 223447/300584 [4:40:26<1:29:31, 14.36it/s]"
     ]
    },
    {
     "name": "stdout",
     "output_type": "stream",
     "text": [
      "배치 668 저장 완료 - 1002개\n"
     ]
    },
    {
     "name": "stderr",
     "output_type": "stream",
     "text": [
      "MFCC 추출 및 증강:  74%|███████▍  | 223784/300584 [4:40:49<1:12:55, 17.55it/s]"
     ]
    },
    {
     "name": "stdout",
     "output_type": "stream",
     "text": [
      "배치 669 저장 완료 - 1002개\n"
     ]
    },
    {
     "name": "stderr",
     "output_type": "stream",
     "text": [
      "MFCC 추출 및 증강:  75%|███████▍  | 224117/300584 [4:41:11<1:06:19, 19.21it/s]"
     ]
    },
    {
     "name": "stdout",
     "output_type": "stream",
     "text": [
      "배치 670 저장 완료 - 1002개\n"
     ]
    },
    {
     "name": "stderr",
     "output_type": "stream",
     "text": [
      "MFCC 추출 및 증강:  75%|███████▍  | 224450/300584 [4:41:35<1:32:56, 13.65it/s]"
     ]
    },
    {
     "name": "stdout",
     "output_type": "stream",
     "text": [
      "배치 671 저장 완료 - 1002개\n"
     ]
    },
    {
     "name": "stderr",
     "output_type": "stream",
     "text": [
      "MFCC 추출 및 증강:  75%|███████▍  | 224784/300584 [4:41:57<1:36:33, 13.08it/s]"
     ]
    },
    {
     "name": "stdout",
     "output_type": "stream",
     "text": [
      "배치 672 저장 완료 - 1002개\n"
     ]
    },
    {
     "name": "stderr",
     "output_type": "stream",
     "text": [
      "MFCC 추출 및 증강:  75%|███████▍  | 225118/300584 [4:42:18<1:24:45, 14.84it/s]"
     ]
    },
    {
     "name": "stdout",
     "output_type": "stream",
     "text": [
      "배치 673 저장 완료 - 1002개\n"
     ]
    },
    {
     "name": "stderr",
     "output_type": "stream",
     "text": [
      "MFCC 추출 및 증강:  75%|███████▌  | 225452/300584 [4:42:42<1:18:18, 15.99it/s]"
     ]
    },
    {
     "name": "stdout",
     "output_type": "stream",
     "text": [
      "배치 674 저장 완료 - 1002개\n"
     ]
    },
    {
     "name": "stderr",
     "output_type": "stream",
     "text": [
      "MFCC 추출 및 증강:  75%|███████▌  | 225785/300584 [4:43:06<1:44:41, 11.91it/s]"
     ]
    },
    {
     "name": "stdout",
     "output_type": "stream",
     "text": [
      "배치 675 저장 완료 - 1002개\n"
     ]
    },
    {
     "name": "stderr",
     "output_type": "stream",
     "text": [
      "MFCC 추출 및 증강:  75%|███████▌  | 226119/300584 [4:43:29<2:02:59, 10.09it/s]"
     ]
    },
    {
     "name": "stdout",
     "output_type": "stream",
     "text": [
      "배치 676 저장 완료 - 1002개\n"
     ]
    },
    {
     "name": "stderr",
     "output_type": "stream",
     "text": [
      "MFCC 추출 및 증강:  75%|███████▌  | 226454/300584 [4:43:52<1:15:57, 16.27it/s]"
     ]
    },
    {
     "name": "stdout",
     "output_type": "stream",
     "text": [
      "배치 677 저장 완료 - 1002개\n"
     ]
    },
    {
     "name": "stderr",
     "output_type": "stream",
     "text": [
      "MFCC 추출 및 증강:  75%|███████▌  | 226789/300584 [4:44:13<1:18:58, 15.57it/s]"
     ]
    },
    {
     "name": "stdout",
     "output_type": "stream",
     "text": [
      "배치 678 저장 완료 - 1002개\n"
     ]
    },
    {
     "name": "stderr",
     "output_type": "stream",
     "text": [
      "MFCC 추출 및 증강:  76%|███████▌  | 227121/300584 [4:44:33<1:40:48, 12.15it/s]"
     ]
    },
    {
     "name": "stdout",
     "output_type": "stream",
     "text": [
      "배치 679 저장 완료 - 1002개\n"
     ]
    },
    {
     "name": "stderr",
     "output_type": "stream",
     "text": [
      "MFCC 추출 및 증강:  76%|███████▌  | 227455/300584 [4:44:57<1:43:14, 11.80it/s]"
     ]
    },
    {
     "name": "stdout",
     "output_type": "stream",
     "text": [
      "배치 680 저장 완료 - 1002개\n"
     ]
    },
    {
     "name": "stderr",
     "output_type": "stream",
     "text": [
      "MFCC 추출 및 증강:  76%|███████▌  | 227790/300584 [4:45:22<1:25:29, 14.19it/s]"
     ]
    },
    {
     "name": "stdout",
     "output_type": "stream",
     "text": [
      "배치 681 저장 완료 - 1002개\n"
     ]
    },
    {
     "name": "stderr",
     "output_type": "stream",
     "text": [
      "MFCC 추출 및 증강:  76%|███████▌  | 228125/300584 [4:45:46<1:27:52, 13.74it/s]"
     ]
    },
    {
     "name": "stdout",
     "output_type": "stream",
     "text": [
      "배치 682 저장 완료 - 1002개\n"
     ]
    },
    {
     "name": "stderr",
     "output_type": "stream",
     "text": [
      "MFCC 추출 및 증강:  76%|███████▌  | 228458/300584 [4:46:09<1:15:47, 15.86it/s]"
     ]
    },
    {
     "name": "stdout",
     "output_type": "stream",
     "text": [
      "배치 683 저장 완료 - 1002개\n"
     ]
    },
    {
     "name": "stderr",
     "output_type": "stream",
     "text": [
      "MFCC 추출 및 증강:  76%|███████▌  | 228795/300584 [4:46:28<55:43, 21.47it/s]  "
     ]
    },
    {
     "name": "stdout",
     "output_type": "stream",
     "text": [
      "배치 684 저장 완료 - 1002개\n"
     ]
    },
    {
     "name": "stderr",
     "output_type": "stream",
     "text": [
      "MFCC 추출 및 증강:  76%|███████▌  | 229126/300584 [4:46:47<1:11:25, 16.67it/s]"
     ]
    },
    {
     "name": "stdout",
     "output_type": "stream",
     "text": [
      "배치 685 저장 완료 - 1002개\n"
     ]
    },
    {
     "name": "stderr",
     "output_type": "stream",
     "text": [
      "MFCC 추출 및 증강:  76%|███████▋  | 229461/300584 [4:47:09<1:19:27, 14.92it/s]"
     ]
    },
    {
     "name": "stdout",
     "output_type": "stream",
     "text": [
      "배치 686 저장 완료 - 1002개\n"
     ]
    },
    {
     "name": "stderr",
     "output_type": "stream",
     "text": [
      "MFCC 추출 및 증강:  76%|███████▋  | 229794/300584 [4:47:30<1:04:11, 18.38it/s]"
     ]
    },
    {
     "name": "stdout",
     "output_type": "stream",
     "text": [
      "배치 687 저장 완료 - 1002개\n"
     ]
    },
    {
     "name": "stderr",
     "output_type": "stream",
     "text": [
      "MFCC 추출 및 증강:  77%|███████▋  | 230130/300584 [4:47:50<1:22:49, 14.18it/s]"
     ]
    },
    {
     "name": "stdout",
     "output_type": "stream",
     "text": [
      "배치 688 저장 완료 - 1002개\n"
     ]
    },
    {
     "name": "stderr",
     "output_type": "stream",
     "text": [
      "MFCC 추출 및 증강:  77%|███████▋  | 230462/300584 [4:48:14<1:19:20, 14.73it/s]"
     ]
    },
    {
     "name": "stdout",
     "output_type": "stream",
     "text": [
      "배치 689 저장 완료 - 1002개\n"
     ]
    },
    {
     "name": "stderr",
     "output_type": "stream",
     "text": [
      "MFCC 추출 및 증강:  77%|███████▋  | 230796/300584 [4:48:35<1:22:06, 14.17it/s]"
     ]
    },
    {
     "name": "stdout",
     "output_type": "stream",
     "text": [
      "배치 690 저장 완료 - 1002개\n"
     ]
    },
    {
     "name": "stderr",
     "output_type": "stream",
     "text": [
      "MFCC 추출 및 증강:  77%|███████▋  | 231130/300584 [4:48:57<1:25:19, 13.57it/s]"
     ]
    },
    {
     "name": "stdout",
     "output_type": "stream",
     "text": [
      "배치 691 저장 완료 - 1002개\n"
     ]
    },
    {
     "name": "stderr",
     "output_type": "stream",
     "text": [
      "MFCC 추출 및 증강:  77%|███████▋  | 231464/300584 [4:49:21<1:40:40, 11.44it/s]"
     ]
    },
    {
     "name": "stdout",
     "output_type": "stream",
     "text": [
      "배치 692 저장 완료 - 1002개\n"
     ]
    },
    {
     "name": "stderr",
     "output_type": "stream",
     "text": [
      "MFCC 추출 및 증강:  77%|███████▋  | 231798/300584 [4:49:44<1:32:05, 12.45it/s]"
     ]
    },
    {
     "name": "stdout",
     "output_type": "stream",
     "text": [
      "배치 693 저장 완료 - 1002개\n"
     ]
    },
    {
     "name": "stderr",
     "output_type": "stream",
     "text": [
      "MFCC 추출 및 증강:  77%|███████▋  | 232131/300584 [4:50:10<1:28:13, 12.93it/s]"
     ]
    },
    {
     "name": "stdout",
     "output_type": "stream",
     "text": [
      "배치 694 저장 완료 - 1002개\n"
     ]
    },
    {
     "name": "stderr",
     "output_type": "stream",
     "text": [
      "MFCC 추출 및 증강:  77%|███████▋  | 232466/300584 [4:50:34<1:20:49, 14.05it/s]"
     ]
    },
    {
     "name": "stdout",
     "output_type": "stream",
     "text": [
      "배치 695 저장 완료 - 1002개\n"
     ]
    },
    {
     "name": "stderr",
     "output_type": "stream",
     "text": [
      "MFCC 추출 및 증강:  77%|███████▋  | 232800/300584 [4:50:55<1:16:47, 14.71it/s]"
     ]
    },
    {
     "name": "stdout",
     "output_type": "stream",
     "text": [
      "배치 696 저장 완료 - 1002개\n"
     ]
    },
    {
     "name": "stderr",
     "output_type": "stream",
     "text": [
      "MFCC 추출 및 증강:  78%|███████▊  | 233133/300584 [4:51:17<1:38:09, 11.45it/s]"
     ]
    },
    {
     "name": "stdout",
     "output_type": "stream",
     "text": [
      "배치 697 저장 완료 - 1002개\n"
     ]
    },
    {
     "name": "stderr",
     "output_type": "stream",
     "text": [
      "MFCC 추출 및 증강:  78%|███████▊  | 233467/300584 [4:51:42<1:33:16, 11.99it/s]"
     ]
    },
    {
     "name": "stdout",
     "output_type": "stream",
     "text": [
      "배치 698 저장 완료 - 1002개\n"
     ]
    },
    {
     "name": "stderr",
     "output_type": "stream",
     "text": [
      "MFCC 추출 및 증강:  78%|███████▊  | 233801/300584 [4:52:05<1:34:31, 11.77it/s]"
     ]
    },
    {
     "name": "stdout",
     "output_type": "stream",
     "text": [
      "배치 699 저장 완료 - 1002개\n"
     ]
    },
    {
     "name": "stderr",
     "output_type": "stream",
     "text": [
      "MFCC 추출 및 증강:  78%|███████▊  | 234135/300584 [4:52:30<1:48:14, 10.23it/s]"
     ]
    },
    {
     "name": "stdout",
     "output_type": "stream",
     "text": [
      "배치 700 저장 완료 - 1002개\n"
     ]
    },
    {
     "name": "stderr",
     "output_type": "stream",
     "text": [
      "MFCC 추출 및 증강:  78%|███████▊  | 234470/300584 [4:52:56<1:32:33, 11.90it/s]"
     ]
    },
    {
     "name": "stdout",
     "output_type": "stream",
     "text": [
      "배치 701 저장 완료 - 1002개\n"
     ]
    },
    {
     "name": "stderr",
     "output_type": "stream",
     "text": [
      "MFCC 추출 및 증강:  78%|███████▊  | 234803/300584 [4:53:17<1:27:26, 12.54it/s]"
     ]
    },
    {
     "name": "stdout",
     "output_type": "stream",
     "text": [
      "배치 702 저장 완료 - 1002개\n"
     ]
    },
    {
     "name": "stderr",
     "output_type": "stream",
     "text": [
      "MFCC 추출 및 증강:  78%|███████▊  | 235138/300584 [4:53:39<1:12:27, 15.05it/s]"
     ]
    },
    {
     "name": "stdout",
     "output_type": "stream",
     "text": [
      "배치 703 저장 완료 - 1002개\n"
     ]
    },
    {
     "name": "stderr",
     "output_type": "stream",
     "text": [
      "MFCC 추출 및 증강:  78%|███████▊  | 235473/300584 [4:54:04<1:03:35, 17.06it/s]"
     ]
    },
    {
     "name": "stdout",
     "output_type": "stream",
     "text": [
      "배치 704 저장 완료 - 1002개\n"
     ]
    },
    {
     "name": "stderr",
     "output_type": "stream",
     "text": [
      "MFCC 추출 및 증강:  78%|███████▊  | 235805/300584 [4:54:28<1:16:59, 14.02it/s]"
     ]
    },
    {
     "name": "stdout",
     "output_type": "stream",
     "text": [
      "배치 705 저장 완료 - 1002개\n"
     ]
    },
    {
     "name": "stderr",
     "output_type": "stream",
     "text": [
      "MFCC 추출 및 증강:  79%|███████▊  | 236138/300584 [4:54:52<1:24:46, 12.67it/s]"
     ]
    },
    {
     "name": "stdout",
     "output_type": "stream",
     "text": [
      "배치 706 저장 완료 - 1002개\n"
     ]
    },
    {
     "name": "stderr",
     "output_type": "stream",
     "text": [
      "MFCC 추출 및 증강:  79%|███████▊  | 236473/300584 [4:55:15<1:10:33, 15.15it/s]"
     ]
    },
    {
     "name": "stdout",
     "output_type": "stream",
     "text": [
      "배치 707 저장 완료 - 1002개\n"
     ]
    },
    {
     "name": "stderr",
     "output_type": "stream",
     "text": [
      "MFCC 추출 및 증강:  79%|███████▉  | 236808/300584 [4:55:35<1:12:35, 14.64it/s]"
     ]
    },
    {
     "name": "stdout",
     "output_type": "stream",
     "text": [
      "배치 708 저장 완료 - 1002개\n"
     ]
    },
    {
     "name": "stderr",
     "output_type": "stream",
     "text": [
      "MFCC 추출 및 증강:  79%|███████▉  | 237142/300584 [4:55:57<1:25:00, 12.44it/s]"
     ]
    },
    {
     "name": "stdout",
     "output_type": "stream",
     "text": [
      "배치 709 저장 완료 - 1002개\n"
     ]
    },
    {
     "name": "stderr",
     "output_type": "stream",
     "text": [
      "MFCC 추출 및 증강:  79%|███████▉  | 237477/300584 [4:56:21<1:04:49, 16.22it/s]"
     ]
    },
    {
     "name": "stdout",
     "output_type": "stream",
     "text": [
      "배치 710 저장 완료 - 1002개\n"
     ]
    },
    {
     "name": "stderr",
     "output_type": "stream",
     "text": [
      "MFCC 추출 및 증강:  79%|███████▉  | 237810/300584 [4:56:43<1:06:04, 15.84it/s]"
     ]
    },
    {
     "name": "stdout",
     "output_type": "stream",
     "text": [
      "배치 711 저장 완료 - 1002개\n"
     ]
    },
    {
     "name": "stderr",
     "output_type": "stream",
     "text": [
      "MFCC 추출 및 증강:  79%|███████▉  | 238142/300584 [4:57:09<1:17:52, 13.36it/s]"
     ]
    },
    {
     "name": "stdout",
     "output_type": "stream",
     "text": [
      "배치 712 저장 완료 - 1002개\n"
     ]
    },
    {
     "name": "stderr",
     "output_type": "stream",
     "text": [
      "MFCC 추출 및 증강:  79%|███████▉  | 238477/300584 [4:57:32<58:45, 17.61it/s]  "
     ]
    },
    {
     "name": "stdout",
     "output_type": "stream",
     "text": [
      "배치 713 저장 완료 - 1002개\n"
     ]
    },
    {
     "name": "stderr",
     "output_type": "stream",
     "text": [
      "MFCC 추출 및 증강:  79%|███████▉  | 238811/300584 [4:57:51<1:08:41, 14.99it/s]"
     ]
    },
    {
     "name": "stdout",
     "output_type": "stream",
     "text": [
      "배치 714 저장 완료 - 1002개\n"
     ]
    },
    {
     "name": "stderr",
     "output_type": "stream",
     "text": [
      "MFCC 추출 및 증강:  80%|███████▉  | 239147/300584 [4:58:12<59:59, 17.07it/s]  "
     ]
    },
    {
     "name": "stdout",
     "output_type": "stream",
     "text": [
      "배치 715 저장 완료 - 1002개\n"
     ]
    },
    {
     "name": "stderr",
     "output_type": "stream",
     "text": [
      "MFCC 추출 및 증강:  80%|███████▉  | 239479/300584 [4:58:36<1:33:38, 10.88it/s]"
     ]
    },
    {
     "name": "stdout",
     "output_type": "stream",
     "text": [
      "배치 716 저장 완료 - 1002개\n"
     ]
    },
    {
     "name": "stderr",
     "output_type": "stream",
     "text": [
      "MFCC 추출 및 증강:  80%|███████▉  | 239815/300584 [4:58:59<1:08:42, 14.74it/s]"
     ]
    },
    {
     "name": "stdout",
     "output_type": "stream",
     "text": [
      "배치 717 저장 완료 - 1002개\n"
     ]
    },
    {
     "name": "stderr",
     "output_type": "stream",
     "text": [
      "MFCC 추출 및 증강:  80%|███████▉  | 240148/300584 [4:59:24<1:27:17, 11.54it/s]"
     ]
    },
    {
     "name": "stdout",
     "output_type": "stream",
     "text": [
      "배치 718 저장 완료 - 1002개\n"
     ]
    },
    {
     "name": "stderr",
     "output_type": "stream",
     "text": [
      "MFCC 추출 및 증강:  80%|████████  | 240481/300584 [4:59:47<1:17:51, 12.87it/s]"
     ]
    },
    {
     "name": "stdout",
     "output_type": "stream",
     "text": [
      "배치 719 저장 완료 - 1002개\n"
     ]
    },
    {
     "name": "stderr",
     "output_type": "stream",
     "text": [
      "MFCC 추출 및 증강:  80%|████████  | 240816/300584 [5:00:08<1:21:32, 12.22it/s]"
     ]
    },
    {
     "name": "stdout",
     "output_type": "stream",
     "text": [
      "배치 720 저장 완료 - 1002개\n"
     ]
    },
    {
     "name": "stderr",
     "output_type": "stream",
     "text": [
      "MFCC 추출 및 증강:  80%|████████  | 241150/300584 [5:00:31<1:07:28, 14.68it/s]"
     ]
    },
    {
     "name": "stdout",
     "output_type": "stream",
     "text": [
      "배치 721 저장 완료 - 1002개\n"
     ]
    },
    {
     "name": "stderr",
     "output_type": "stream",
     "text": [
      "MFCC 추출 및 증강:  80%|████████  | 241482/300584 [5:00:56<1:28:56, 11.07it/s]"
     ]
    },
    {
     "name": "stdout",
     "output_type": "stream",
     "text": [
      "배치 722 저장 완료 - 1002개\n"
     ]
    },
    {
     "name": "stderr",
     "output_type": "stream",
     "text": [
      "MFCC 추출 및 증강:  80%|████████  | 241818/300584 [5:01:21<58:53, 16.63it/s]  "
     ]
    },
    {
     "name": "stdout",
     "output_type": "stream",
     "text": [
      "배치 723 저장 완료 - 1002개\n"
     ]
    },
    {
     "name": "stderr",
     "output_type": "stream",
     "text": [
      "MFCC 추출 및 증강:  81%|████████  | 242152/300584 [5:01:46<1:14:22, 13.10it/s]"
     ]
    },
    {
     "name": "stdout",
     "output_type": "stream",
     "text": [
      "배치 724 저장 완료 - 1002개\n"
     ]
    },
    {
     "name": "stderr",
     "output_type": "stream",
     "text": [
      "MFCC 추출 및 증강:  81%|████████  | 242486/300584 [5:02:11<1:10:38, 13.71it/s]"
     ]
    },
    {
     "name": "stdout",
     "output_type": "stream",
     "text": [
      "배치 725 저장 완료 - 1002개\n"
     ]
    },
    {
     "name": "stderr",
     "output_type": "stream",
     "text": [
      "MFCC 추출 및 증강:  81%|████████  | 242820/300584 [5:02:33<1:09:00, 13.95it/s]"
     ]
    },
    {
     "name": "stdout",
     "output_type": "stream",
     "text": [
      "배치 726 저장 완료 - 1002개\n"
     ]
    },
    {
     "name": "stderr",
     "output_type": "stream",
     "text": [
      "MFCC 추출 및 증강:  81%|████████  | 243153/300584 [5:02:58<1:28:33, 10.81it/s]"
     ]
    },
    {
     "name": "stdout",
     "output_type": "stream",
     "text": [
      "배치 727 저장 완료 - 1002개\n"
     ]
    },
    {
     "name": "stderr",
     "output_type": "stream",
     "text": [
      "MFCC 추출 및 증강:  81%|████████  | 243487/300584 [5:03:25<1:27:40, 10.85it/s]"
     ]
    },
    {
     "name": "stdout",
     "output_type": "stream",
     "text": [
      "배치 728 저장 완료 - 1002개\n"
     ]
    },
    {
     "name": "stderr",
     "output_type": "stream",
     "text": [
      "MFCC 추출 및 증강:  81%|████████  | 243823/300584 [5:03:49<1:02:27, 15.14it/s]"
     ]
    },
    {
     "name": "stdout",
     "output_type": "stream",
     "text": [
      "배치 729 저장 완료 - 1002개\n"
     ]
    },
    {
     "name": "stderr",
     "output_type": "stream",
     "text": [
      "MFCC 추출 및 증강:  81%|████████  | 244156/300584 [5:04:16<1:18:16, 12.02it/s]"
     ]
    },
    {
     "name": "stdout",
     "output_type": "stream",
     "text": [
      "배치 730 저장 완료 - 1002개\n"
     ]
    },
    {
     "name": "stderr",
     "output_type": "stream",
     "text": [
      "MFCC 추출 및 증강:  81%|████████▏ | 244491/300584 [5:04:38<54:40, 17.10it/s]  "
     ]
    },
    {
     "name": "stdout",
     "output_type": "stream",
     "text": [
      "배치 731 저장 완료 - 1002개\n"
     ]
    },
    {
     "name": "stderr",
     "output_type": "stream",
     "text": [
      "MFCC 추출 및 증강:  81%|████████▏ | 244826/300584 [5:04:58<52:21, 17.75it/s]  "
     ]
    },
    {
     "name": "stdout",
     "output_type": "stream",
     "text": [
      "배치 732 저장 완료 - 1002개\n"
     ]
    },
    {
     "name": "stderr",
     "output_type": "stream",
     "text": [
      "MFCC 추출 및 증강:  82%|████████▏ | 245157/300584 [5:05:18<1:04:46, 14.26it/s]"
     ]
    },
    {
     "name": "stdout",
     "output_type": "stream",
     "text": [
      "배치 733 저장 완료 - 1002개\n"
     ]
    },
    {
     "name": "stderr",
     "output_type": "stream",
     "text": [
      "MFCC 추출 및 증강:  82%|████████▏ | 245492/300584 [5:05:40<56:47, 16.17it/s]  "
     ]
    },
    {
     "name": "stdout",
     "output_type": "stream",
     "text": [
      "배치 734 저장 완료 - 1002개\n"
     ]
    },
    {
     "name": "stderr",
     "output_type": "stream",
     "text": [
      "MFCC 추출 및 증강:  82%|████████▏ | 245827/300584 [5:06:02<55:52, 16.33it/s]  "
     ]
    },
    {
     "name": "stdout",
     "output_type": "stream",
     "text": [
      "배치 735 저장 완료 - 1002개\n"
     ]
    },
    {
     "name": "stderr",
     "output_type": "stream",
     "text": [
      "MFCC 추출 및 증강:  82%|████████▏ | 246159/300584 [5:06:25<1:15:16, 12.05it/s]"
     ]
    },
    {
     "name": "stdout",
     "output_type": "stream",
     "text": [
      "배치 736 저장 완료 - 1002개\n"
     ]
    },
    {
     "name": "stderr",
     "output_type": "stream",
     "text": [
      "MFCC 추출 및 증강:  82%|████████▏ | 246493/300584 [5:06:47<52:32, 17.16it/s]  "
     ]
    },
    {
     "name": "stdout",
     "output_type": "stream",
     "text": [
      "배치 737 저장 완료 - 1002개\n"
     ]
    },
    {
     "name": "stderr",
     "output_type": "stream",
     "text": [
      "MFCC 추출 및 증강:  82%|████████▏ | 246829/300584 [5:07:08<46:09, 19.41it/s]  "
     ]
    },
    {
     "name": "stdout",
     "output_type": "stream",
     "text": [
      "배치 738 저장 완료 - 1002개\n"
     ]
    },
    {
     "name": "stderr",
     "output_type": "stream",
     "text": [
      "MFCC 추출 및 증강:  82%|████████▏ | 247161/300584 [5:07:29<1:14:44, 11.91it/s]"
     ]
    },
    {
     "name": "stdout",
     "output_type": "stream",
     "text": [
      "배치 739 저장 완료 - 1002개\n"
     ]
    },
    {
     "name": "stderr",
     "output_type": "stream",
     "text": [
      "MFCC 추출 및 증강:  82%|████████▏ | 247495/300584 [5:07:53<1:08:55, 12.84it/s]"
     ]
    },
    {
     "name": "stdout",
     "output_type": "stream",
     "text": [
      "배치 740 저장 완료 - 1002개\n"
     ]
    },
    {
     "name": "stderr",
     "output_type": "stream",
     "text": [
      "MFCC 추출 및 증강:  82%|████████▏ | 247830/300584 [5:08:14<1:01:41, 14.25it/s]"
     ]
    },
    {
     "name": "stdout",
     "output_type": "stream",
     "text": [
      "배치 741 저장 완료 - 1002개\n"
     ]
    },
    {
     "name": "stderr",
     "output_type": "stream",
     "text": [
      "MFCC 추출 및 증강:  83%|████████▎ | 248163/300584 [5:08:38<1:16:49, 11.37it/s]"
     ]
    },
    {
     "name": "stdout",
     "output_type": "stream",
     "text": [
      "배치 742 저장 완료 - 1002개\n"
     ]
    },
    {
     "name": "stderr",
     "output_type": "stream",
     "text": [
      "MFCC 추출 및 증강:  83%|████████▎ | 248499/300584 [5:08:58<57:10, 15.18it/s]  "
     ]
    },
    {
     "name": "stdout",
     "output_type": "stream",
     "text": [
      "배치 743 저장 완료 - 1002개\n"
     ]
    },
    {
     "name": "stderr",
     "output_type": "stream",
     "text": [
      "MFCC 추출 및 증강:  83%|████████▎ | 248832/300584 [5:09:17<56:10, 15.35it/s]  "
     ]
    },
    {
     "name": "stdout",
     "output_type": "stream",
     "text": [
      "배치 744 저장 완료 - 1002개\n"
     ]
    },
    {
     "name": "stderr",
     "output_type": "stream",
     "text": [
      "MFCC 추출 및 증강:  83%|████████▎ | 249166/300584 [5:09:37<51:13, 16.73it/s]  "
     ]
    },
    {
     "name": "stdout",
     "output_type": "stream",
     "text": [
      "배치 745 저장 완료 - 1002개\n"
     ]
    },
    {
     "name": "stderr",
     "output_type": "stream",
     "text": [
      "MFCC 추출 및 증강:  83%|████████▎ | 249499/300584 [5:10:00<57:11, 14.89it/s]  "
     ]
    },
    {
     "name": "stdout",
     "output_type": "stream",
     "text": [
      "배치 746 저장 완료 - 1002개\n"
     ]
    },
    {
     "name": "stderr",
     "output_type": "stream",
     "text": [
      "MFCC 추출 및 증강:  83%|████████▎ | 249833/300584 [5:10:21<1:04:26, 13.13it/s]"
     ]
    },
    {
     "name": "stdout",
     "output_type": "stream",
     "text": [
      "배치 747 저장 완료 - 1002개\n"
     ]
    },
    {
     "name": "stderr",
     "output_type": "stream",
     "text": [
      "MFCC 추출 및 증강:  83%|████████▎ | 250168/300584 [5:10:45<1:06:43, 12.59it/s]"
     ]
    },
    {
     "name": "stdout",
     "output_type": "stream",
     "text": [
      "배치 748 저장 완료 - 1002개\n"
     ]
    },
    {
     "name": "stderr",
     "output_type": "stream",
     "text": [
      "MFCC 추출 및 증강:  83%|████████▎ | 250503/300584 [5:11:07<52:38, 15.86it/s]  "
     ]
    },
    {
     "name": "stdout",
     "output_type": "stream",
     "text": [
      "배치 749 저장 완료 - 1002개\n"
     ]
    },
    {
     "name": "stderr",
     "output_type": "stream",
     "text": [
      "MFCC 추출 및 증강:  83%|████████▎ | 250837/300584 [5:11:28<1:03:03, 13.15it/s]"
     ]
    },
    {
     "name": "stdout",
     "output_type": "stream",
     "text": [
      "배치 750 저장 완료 - 1002개\n"
     ]
    },
    {
     "name": "stderr",
     "output_type": "stream",
     "text": [
      "MFCC 추출 및 증강:  84%|████████▎ | 251170/300584 [5:11:49<1:03:25, 12.99it/s]"
     ]
    },
    {
     "name": "stdout",
     "output_type": "stream",
     "text": [
      "배치 751 저장 완료 - 1002개\n"
     ]
    },
    {
     "name": "stderr",
     "output_type": "stream",
     "text": [
      "MFCC 추출 및 증강:  84%|████████▎ | 251504/300584 [5:12:13<1:11:33, 11.43it/s]"
     ]
    },
    {
     "name": "stdout",
     "output_type": "stream",
     "text": [
      "배치 752 저장 완료 - 1002개\n"
     ]
    },
    {
     "name": "stderr",
     "output_type": "stream",
     "text": [
      "MFCC 추출 및 증강:  84%|████████▍ | 251837/300584 [5:12:35<1:03:58, 12.70it/s]"
     ]
    },
    {
     "name": "stdout",
     "output_type": "stream",
     "text": [
      "배치 753 저장 완료 - 1002개\n"
     ]
    },
    {
     "name": "stderr",
     "output_type": "stream",
     "text": [
      "MFCC 추출 및 증강:  84%|████████▍ | 252171/300584 [5:13:00<1:45:20,  7.66it/s]"
     ]
    },
    {
     "name": "stdout",
     "output_type": "stream",
     "text": [
      "배치 754 저장 완료 - 1002개\n"
     ]
    },
    {
     "name": "stderr",
     "output_type": "stream",
     "text": [
      "MFCC 추출 및 증강:  84%|████████▍ | 252505/300584 [5:13:35<2:08:59,  6.21it/s]"
     ]
    },
    {
     "name": "stdout",
     "output_type": "stream",
     "text": [
      "배치 755 저장 완료 - 1002개\n"
     ]
    },
    {
     "name": "stderr",
     "output_type": "stream",
     "text": [
      "MFCC 추출 및 증강:  84%|████████▍ | 252840/300584 [5:14:03<1:00:41, 13.11it/s]"
     ]
    },
    {
     "name": "stdout",
     "output_type": "stream",
     "text": [
      "배치 756 저장 완료 - 1002개\n"
     ]
    },
    {
     "name": "stderr",
     "output_type": "stream",
     "text": [
      "MFCC 추출 및 증강:  84%|████████▍ | 253174/300584 [5:14:29<1:05:46, 12.01it/s]"
     ]
    },
    {
     "name": "stdout",
     "output_type": "stream",
     "text": [
      "배치 757 저장 완료 - 1002개\n"
     ]
    },
    {
     "name": "stderr",
     "output_type": "stream",
     "text": [
      "MFCC 추출 및 증강:  84%|████████▍ | 253508/300584 [5:14:57<1:00:06, 13.05it/s]"
     ]
    },
    {
     "name": "stdout",
     "output_type": "stream",
     "text": [
      "배치 758 저장 완료 - 1002개\n"
     ]
    },
    {
     "name": "stderr",
     "output_type": "stream",
     "text": [
      "MFCC 추출 및 증강:  84%|████████▍ | 253841/300584 [5:15:24<1:25:51,  9.07it/s]"
     ]
    },
    {
     "name": "stdout",
     "output_type": "stream",
     "text": [
      "배치 759 저장 완료 - 1002개\n"
     ]
    },
    {
     "name": "stderr",
     "output_type": "stream",
     "text": [
      "MFCC 추출 및 증강:  85%|████████▍ | 254176/300584 [5:15:52<1:10:30, 10.97it/s]"
     ]
    },
    {
     "name": "stdout",
     "output_type": "stream",
     "text": [
      "배치 760 저장 완료 - 1002개\n"
     ]
    },
    {
     "name": "stderr",
     "output_type": "stream",
     "text": [
      "MFCC 추출 및 증강:  85%|████████▍ | 254509/300584 [5:16:17<59:16, 12.95it/s]  "
     ]
    },
    {
     "name": "stdout",
     "output_type": "stream",
     "text": [
      "배치 761 저장 완료 - 1002개\n"
     ]
    },
    {
     "name": "stderr",
     "output_type": "stream",
     "text": [
      "MFCC 추출 및 증강:  85%|████████▍ | 254843/300584 [5:16:41<1:05:26, 11.65it/s]"
     ]
    },
    {
     "name": "stdout",
     "output_type": "stream",
     "text": [
      "배치 762 저장 완료 - 1002개\n"
     ]
    },
    {
     "name": "stderr",
     "output_type": "stream",
     "text": [
      "MFCC 추출 및 증강:  85%|████████▍ | 255179/300584 [5:17:06<1:55:08,  6.57it/s]"
     ]
    },
    {
     "name": "stdout",
     "output_type": "stream",
     "text": [
      "배치 763 저장 완료 - 1002개\n"
     ]
    },
    {
     "name": "stderr",
     "output_type": "stream",
     "text": [
      "MFCC 추출 및 증강:  85%|████████▌ | 255511/300584 [5:17:32<1:06:32, 11.29it/s]"
     ]
    },
    {
     "name": "stdout",
     "output_type": "stream",
     "text": [
      "배치 764 저장 완료 - 1002개\n"
     ]
    },
    {
     "name": "stderr",
     "output_type": "stream",
     "text": [
      "MFCC 추출 및 증강:  85%|████████▌ | 255845/300584 [5:17:58<1:40:52,  7.39it/s]"
     ]
    },
    {
     "name": "stdout",
     "output_type": "stream",
     "text": [
      "배치 765 저장 완료 - 1002개\n"
     ]
    },
    {
     "name": "stderr",
     "output_type": "stream",
     "text": [
      "MFCC 추출 및 증강:  85%|████████▌ | 256180/300584 [5:18:25<1:12:04, 10.27it/s]"
     ]
    },
    {
     "name": "stdout",
     "output_type": "stream",
     "text": [
      "배치 766 저장 완료 - 1002개\n"
     ]
    },
    {
     "name": "stderr",
     "output_type": "stream",
     "text": [
      "MFCC 추출 및 증강:  85%|████████▌ | 256515/300584 [5:18:52<1:12:34, 10.12it/s]"
     ]
    },
    {
     "name": "stdout",
     "output_type": "stream",
     "text": [
      "배치 767 저장 완료 - 1002개\n"
     ]
    },
    {
     "name": "stderr",
     "output_type": "stream",
     "text": [
      "MFCC 추출 및 증강:  85%|████████▌ | 256848/300584 [5:19:18<1:17:23,  9.42it/s]"
     ]
    },
    {
     "name": "stdout",
     "output_type": "stream",
     "text": [
      "배치 768 저장 완료 - 1002개\n"
     ]
    },
    {
     "name": "stderr",
     "output_type": "stream",
     "text": [
      "MFCC 추출 및 증강:  86%|████████▌ | 257181/300584 [5:19:45<1:13:30,  9.84it/s]"
     ]
    },
    {
     "name": "stdout",
     "output_type": "stream",
     "text": [
      "배치 769 저장 완료 - 1002개\n"
     ]
    },
    {
     "name": "stderr",
     "output_type": "stream",
     "text": [
      "MFCC 추출 및 증강:  86%|████████▌ | 257516/300584 [5:20:15<1:15:46,  9.47it/s]"
     ]
    },
    {
     "name": "stdout",
     "output_type": "stream",
     "text": [
      "배치 770 저장 완료 - 1002개\n"
     ]
    },
    {
     "name": "stderr",
     "output_type": "stream",
     "text": [
      "MFCC 추출 및 증강:  86%|████████▌ | 257850/300584 [5:20:44<1:18:00,  9.13it/s]"
     ]
    },
    {
     "name": "stdout",
     "output_type": "stream",
     "text": [
      "배치 771 저장 완료 - 1002개\n"
     ]
    },
    {
     "name": "stderr",
     "output_type": "stream",
     "text": [
      "MFCC 추출 및 증강:  86%|████████▌ | 258183/300584 [5:21:14<1:08:51, 10.26it/s]"
     ]
    },
    {
     "name": "stdout",
     "output_type": "stream",
     "text": [
      "배치 772 저장 완료 - 1002개\n"
     ]
    },
    {
     "name": "stderr",
     "output_type": "stream",
     "text": [
      "MFCC 추출 및 증강:  86%|████████▌ | 258519/300584 [5:21:42<53:09, 13.19it/s]  "
     ]
    },
    {
     "name": "stdout",
     "output_type": "stream",
     "text": [
      "배치 773 저장 완료 - 1002개\n"
     ]
    },
    {
     "name": "stderr",
     "output_type": "stream",
     "text": [
      "MFCC 추출 및 증강:  86%|████████▌ | 258851/300584 [5:22:09<1:05:11, 10.67it/s]"
     ]
    },
    {
     "name": "stdout",
     "output_type": "stream",
     "text": [
      "배치 774 저장 완료 - 1002개\n"
     ]
    },
    {
     "name": "stderr",
     "output_type": "stream",
     "text": [
      "MFCC 추출 및 증강:  86%|████████▌ | 259186/300584 [5:22:39<1:05:00, 10.61it/s]"
     ]
    },
    {
     "name": "stdout",
     "output_type": "stream",
     "text": [
      "배치 775 저장 완료 - 1002개\n"
     ]
    },
    {
     "name": "stderr",
     "output_type": "stream",
     "text": [
      "MFCC 추출 및 증강:  86%|████████▋ | 259519/300584 [5:23:09<1:34:41,  7.23it/s]"
     ]
    },
    {
     "name": "stdout",
     "output_type": "stream",
     "text": [
      "배치 776 저장 완료 - 1002개\n"
     ]
    },
    {
     "name": "stderr",
     "output_type": "stream",
     "text": [
      "MFCC 추출 및 증강:  86%|████████▋ | 259852/300584 [5:23:38<1:16:29,  8.88it/s]"
     ]
    },
    {
     "name": "stdout",
     "output_type": "stream",
     "text": [
      "배치 777 저장 완료 - 1002개\n"
     ]
    },
    {
     "name": "stderr",
     "output_type": "stream",
     "text": [
      "MFCC 추출 및 증강:  87%|████████▋ | 260187/300584 [5:24:09<1:17:27,  8.69it/s]"
     ]
    },
    {
     "name": "stdout",
     "output_type": "stream",
     "text": [
      "배치 778 저장 완료 - 1002개\n"
     ]
    },
    {
     "name": "stderr",
     "output_type": "stream",
     "text": [
      "MFCC 추출 및 증강:  87%|████████▋ | 260520/300584 [5:24:39<55:38, 12.00it/s]  "
     ]
    },
    {
     "name": "stdout",
     "output_type": "stream",
     "text": [
      "배치 779 저장 완료 - 1002개\n"
     ]
    },
    {
     "name": "stderr",
     "output_type": "stream",
     "text": [
      "MFCC 추출 및 증강:  87%|████████▋ | 260855/300584 [5:25:10<1:28:39,  7.47it/s]"
     ]
    },
    {
     "name": "stdout",
     "output_type": "stream",
     "text": [
      "배치 780 저장 완료 - 1002개\n"
     ]
    },
    {
     "name": "stderr",
     "output_type": "stream",
     "text": [
      "MFCC 추출 및 증강:  87%|████████▋ | 261189/300584 [5:25:39<1:01:52, 10.61it/s]"
     ]
    },
    {
     "name": "stdout",
     "output_type": "stream",
     "text": [
      "배치 781 저장 완료 - 1002개\n"
     ]
    },
    {
     "name": "stderr",
     "output_type": "stream",
     "text": [
      "MFCC 추출 및 증강:  87%|████████▋ | 261524/300584 [5:26:08<50:14, 12.96it/s]  "
     ]
    },
    {
     "name": "stdout",
     "output_type": "stream",
     "text": [
      "배치 782 저장 완료 - 1002개\n"
     ]
    },
    {
     "name": "stderr",
     "output_type": "stream",
     "text": [
      "MFCC 추출 및 증강:  87%|████████▋ | 261860/300584 [5:26:36<55:48, 11.57it/s]  "
     ]
    },
    {
     "name": "stdout",
     "output_type": "stream",
     "text": [
      "배치 783 저장 완료 - 1002개\n"
     ]
    },
    {
     "name": "stderr",
     "output_type": "stream",
     "text": [
      "MFCC 추출 및 증강:  87%|████████▋ | 262191/300584 [5:27:04<1:34:47,  6.75it/s]"
     ]
    },
    {
     "name": "stdout",
     "output_type": "stream",
     "text": [
      "배치 784 저장 완료 - 1002개\n"
     ]
    },
    {
     "name": "stderr",
     "output_type": "stream",
     "text": [
      "MFCC 추출 및 증강:  87%|████████▋ | 262525/300584 [5:27:37<1:24:19,  7.52it/s]"
     ]
    },
    {
     "name": "stdout",
     "output_type": "stream",
     "text": [
      "배치 785 저장 완료 - 1002개\n"
     ]
    },
    {
     "name": "stderr",
     "output_type": "stream",
     "text": [
      "MFCC 추출 및 증강:  87%|████████▋ | 262859/300584 [5:28:10<1:19:51,  7.87it/s]"
     ]
    },
    {
     "name": "stdout",
     "output_type": "stream",
     "text": [
      "배치 786 저장 완료 - 1002개\n"
     ]
    },
    {
     "name": "stderr",
     "output_type": "stream",
     "text": [
      "MFCC 추출 및 증강:  88%|████████▊ | 263193/300584 [5:28:42<52:01, 11.98it/s]  "
     ]
    },
    {
     "name": "stdout",
     "output_type": "stream",
     "text": [
      "배치 787 저장 완료 - 1002개\n"
     ]
    },
    {
     "name": "stderr",
     "output_type": "stream",
     "text": [
      "MFCC 추출 및 증강:  88%|████████▊ | 263528/300584 [5:29:08<44:30, 13.88it/s]  "
     ]
    },
    {
     "name": "stdout",
     "output_type": "stream",
     "text": [
      "배치 788 저장 완료 - 1002개\n"
     ]
    },
    {
     "name": "stderr",
     "output_type": "stream",
     "text": [
      "MFCC 추출 및 증강:  88%|████████▊ | 263862/300584 [5:29:31<42:19, 14.46it/s]"
     ]
    },
    {
     "name": "stdout",
     "output_type": "stream",
     "text": [
      "배치 789 저장 완료 - 1002개\n"
     ]
    },
    {
     "name": "stderr",
     "output_type": "stream",
     "text": [
      "MFCC 추출 및 증강:  88%|████████▊ | 264196/300584 [5:29:55<48:25, 12.52it/s]"
     ]
    },
    {
     "name": "stdout",
     "output_type": "stream",
     "text": [
      "배치 790 저장 완료 - 1002개\n"
     ]
    },
    {
     "name": "stderr",
     "output_type": "stream",
     "text": [
      "MFCC 추출 및 증강:  88%|████████▊ | 264531/300584 [5:30:21<51:21, 11.70it/s]  "
     ]
    },
    {
     "name": "stdout",
     "output_type": "stream",
     "text": [
      "배치 791 저장 완료 - 1002개\n"
     ]
    },
    {
     "name": "stderr",
     "output_type": "stream",
     "text": [
      "MFCC 추출 및 증강:  88%|████████▊ | 264864/300584 [5:30:47<43:41, 13.63it/s]  "
     ]
    },
    {
     "name": "stdout",
     "output_type": "stream",
     "text": [
      "배치 792 저장 완료 - 1002개\n"
     ]
    },
    {
     "name": "stderr",
     "output_type": "stream",
     "text": [
      "MFCC 추출 및 증강:  88%|████████▊ | 265198/300584 [5:31:12<41:53, 14.08it/s]  "
     ]
    },
    {
     "name": "stdout",
     "output_type": "stream",
     "text": [
      "배치 793 저장 완료 - 1002개\n"
     ]
    },
    {
     "name": "stderr",
     "output_type": "stream",
     "text": [
      "MFCC 추출 및 증강:  88%|████████▊ | 265533/300584 [5:31:36<58:07, 10.05it/s]  "
     ]
    },
    {
     "name": "stdout",
     "output_type": "stream",
     "text": [
      "배치 794 저장 완료 - 1002개\n"
     ]
    },
    {
     "name": "stderr",
     "output_type": "stream",
     "text": [
      "MFCC 추출 및 증강:  88%|████████▊ | 265867/300584 [5:32:00<47:09, 12.27it/s]"
     ]
    },
    {
     "name": "stdout",
     "output_type": "stream",
     "text": [
      "배치 795 저장 완료 - 1002개\n"
     ]
    },
    {
     "name": "stderr",
     "output_type": "stream",
     "text": [
      "MFCC 추출 및 증강:  89%|████████▊ | 266202/300584 [5:32:23<44:17, 12.94it/s]"
     ]
    },
    {
     "name": "stdout",
     "output_type": "stream",
     "text": [
      "배치 796 저장 완료 - 1002개\n"
     ]
    },
    {
     "name": "stderr",
     "output_type": "stream",
     "text": [
      "MFCC 추출 및 증강:  89%|████████▊ | 266533/300584 [5:32:46<43:55, 12.92it/s]"
     ]
    },
    {
     "name": "stdout",
     "output_type": "stream",
     "text": [
      "배치 797 저장 완료 - 1002개\n"
     ]
    },
    {
     "name": "stderr",
     "output_type": "stream",
     "text": [
      "MFCC 추출 및 증강:  89%|████████▉ | 266869/300584 [5:33:08<38:54, 14.44it/s]"
     ]
    },
    {
     "name": "stdout",
     "output_type": "stream",
     "text": [
      "배치 798 저장 완료 - 1002개\n"
     ]
    },
    {
     "name": "stderr",
     "output_type": "stream",
     "text": [
      "MFCC 추출 및 증강:  89%|████████▉ | 267204/300584 [5:33:30<36:15, 15.34it/s]"
     ]
    },
    {
     "name": "stdout",
     "output_type": "stream",
     "text": [
      "배치 799 저장 완료 - 1002개\n"
     ]
    },
    {
     "name": "stderr",
     "output_type": "stream",
     "text": [
      "MFCC 추출 및 증강:  89%|████████▉ | 267537/300584 [5:33:50<39:56, 13.79it/s]"
     ]
    },
    {
     "name": "stdout",
     "output_type": "stream",
     "text": [
      "배치 800 저장 완료 - 1002개\n"
     ]
    },
    {
     "name": "stderr",
     "output_type": "stream",
     "text": [
      "MFCC 추출 및 증강:  89%|████████▉ | 267869/300584 [5:34:09<36:10, 15.07it/s]"
     ]
    },
    {
     "name": "stdout",
     "output_type": "stream",
     "text": [
      "배치 801 저장 완료 - 1002개\n"
     ]
    },
    {
     "name": "stderr",
     "output_type": "stream",
     "text": [
      "MFCC 추출 및 증강:  89%|████████▉ | 268204/300584 [5:34:30<46:38, 11.57it/s]"
     ]
    },
    {
     "name": "stdout",
     "output_type": "stream",
     "text": [
      "배치 802 저장 완료 - 1002개\n"
     ]
    },
    {
     "name": "stderr",
     "output_type": "stream",
     "text": [
      "MFCC 추출 및 증강:  89%|████████▉ | 268538/300584 [5:34:54<54:13,  9.85it/s]"
     ]
    },
    {
     "name": "stdout",
     "output_type": "stream",
     "text": [
      "배치 803 저장 완료 - 1002개\n"
     ]
    },
    {
     "name": "stderr",
     "output_type": "stream",
     "text": [
      "MFCC 추출 및 증강:  89%|████████▉ | 268873/300584 [5:35:17<38:54, 13.58it/s]"
     ]
    },
    {
     "name": "stdout",
     "output_type": "stream",
     "text": [
      "배치 804 저장 완료 - 1002개\n"
     ]
    },
    {
     "name": "stderr",
     "output_type": "stream",
     "text": [
      "MFCC 추출 및 증강:  90%|████████▉ | 269207/300584 [5:35:40<38:17, 13.66it/s]"
     ]
    },
    {
     "name": "stdout",
     "output_type": "stream",
     "text": [
      "배치 805 저장 완료 - 1002개\n"
     ]
    },
    {
     "name": "stderr",
     "output_type": "stream",
     "text": [
      "MFCC 추출 및 증강:  90%|████████▉ | 269540/300584 [5:36:02<36:20, 14.24it/s]"
     ]
    },
    {
     "name": "stdout",
     "output_type": "stream",
     "text": [
      "배치 806 저장 완료 - 1002개\n"
     ]
    },
    {
     "name": "stderr",
     "output_type": "stream",
     "text": [
      "MFCC 추출 및 증강:  90%|████████▉ | 269875/300584 [5:36:24<36:54, 13.87it/s]  "
     ]
    },
    {
     "name": "stdout",
     "output_type": "stream",
     "text": [
      "배치 807 저장 완료 - 1002개\n"
     ]
    },
    {
     "name": "stderr",
     "output_type": "stream",
     "text": [
      "MFCC 추출 및 증강:  90%|████████▉ | 270209/300584 [5:36:46<40:28, 12.51it/s]"
     ]
    },
    {
     "name": "stdout",
     "output_type": "stream",
     "text": [
      "배치 808 저장 완료 - 1002개\n"
     ]
    },
    {
     "name": "stderr",
     "output_type": "stream",
     "text": [
      "MFCC 추출 및 증강:  90%|█████████ | 270541/300584 [5:37:07<37:54, 13.21it/s]"
     ]
    },
    {
     "name": "stdout",
     "output_type": "stream",
     "text": [
      "배치 809 저장 완료 - 1002개\n"
     ]
    },
    {
     "name": "stderr",
     "output_type": "stream",
     "text": [
      "MFCC 추출 및 증강:  90%|█████████ | 270876/300584 [5:37:28<28:54, 17.13it/s]"
     ]
    },
    {
     "name": "stdout",
     "output_type": "stream",
     "text": [
      "배치 810 저장 완료 - 1002개\n"
     ]
    },
    {
     "name": "stderr",
     "output_type": "stream",
     "text": [
      "MFCC 추출 및 증강:  90%|█████████ | 271212/300584 [5:37:49<33:43, 14.52it/s]"
     ]
    },
    {
     "name": "stdout",
     "output_type": "stream",
     "text": [
      "배치 811 저장 완료 - 1002개\n"
     ]
    },
    {
     "name": "stderr",
     "output_type": "stream",
     "text": [
      "MFCC 추출 및 증강:  90%|█████████ | 271543/300584 [5:38:08<32:56, 14.69it/s]"
     ]
    },
    {
     "name": "stdout",
     "output_type": "stream",
     "text": [
      "배치 812 저장 완료 - 1002개\n"
     ]
    },
    {
     "name": "stderr",
     "output_type": "stream",
     "text": [
      "MFCC 추출 및 증강:  90%|█████████ | 271879/300584 [5:38:28<29:22, 16.29it/s]"
     ]
    },
    {
     "name": "stdout",
     "output_type": "stream",
     "text": [
      "배치 813 저장 완료 - 1002개\n"
     ]
    },
    {
     "name": "stderr",
     "output_type": "stream",
     "text": [
      "MFCC 추출 및 증강:  91%|█████████ | 272211/300584 [5:38:49<37:31, 12.60it/s]"
     ]
    },
    {
     "name": "stdout",
     "output_type": "stream",
     "text": [
      "배치 814 저장 완료 - 1002개\n"
     ]
    },
    {
     "name": "stderr",
     "output_type": "stream",
     "text": [
      "MFCC 추출 및 증강:  91%|█████████ | 272544/300584 [5:39:14<53:17,  8.77it/s]"
     ]
    },
    {
     "name": "stdout",
     "output_type": "stream",
     "text": [
      "배치 815 저장 완료 - 1002개\n"
     ]
    },
    {
     "name": "stderr",
     "output_type": "stream",
     "text": [
      "MFCC 추출 및 증강:  91%|█████████ | 272879/300584 [5:39:37<37:00, 12.48it/s]"
     ]
    },
    {
     "name": "stdout",
     "output_type": "stream",
     "text": [
      "배치 816 저장 완료 - 1002개\n"
     ]
    },
    {
     "name": "stderr",
     "output_type": "stream",
     "text": [
      "MFCC 추출 및 증강:  91%|█████████ | 273214/300584 [5:39:58<27:15, 16.74it/s]"
     ]
    },
    {
     "name": "stdout",
     "output_type": "stream",
     "text": [
      "배치 817 저장 완료 - 1002개\n"
     ]
    },
    {
     "name": "stderr",
     "output_type": "stream",
     "text": [
      "MFCC 추출 및 증강:  91%|█████████ | 273549/300584 [5:40:19<41:27, 10.87it/s]"
     ]
    },
    {
     "name": "stdout",
     "output_type": "stream",
     "text": [
      "배치 818 저장 완료 - 1002개\n"
     ]
    },
    {
     "name": "stderr",
     "output_type": "stream",
     "text": [
      "MFCC 추출 및 증강:  91%|█████████ | 273881/300584 [5:40:40<32:19, 13.76it/s]"
     ]
    },
    {
     "name": "stdout",
     "output_type": "stream",
     "text": [
      "배치 819 저장 완료 - 1002개\n"
     ]
    },
    {
     "name": "stderr",
     "output_type": "stream",
     "text": [
      "MFCC 추출 및 증강:  91%|█████████ | 274217/300584 [5:41:00<28:45, 15.28it/s]"
     ]
    },
    {
     "name": "stdout",
     "output_type": "stream",
     "text": [
      "배치 820 저장 완료 - 1002개\n"
     ]
    },
    {
     "name": "stderr",
     "output_type": "stream",
     "text": [
      "MFCC 추출 및 증강:  91%|█████████▏| 274551/300584 [5:41:19<29:21, 14.78it/s]"
     ]
    },
    {
     "name": "stdout",
     "output_type": "stream",
     "text": [
      "배치 821 저장 완료 - 1002개\n"
     ]
    },
    {
     "name": "stderr",
     "output_type": "stream",
     "text": [
      "MFCC 추출 및 증강:  91%|█████████▏| 274885/300584 [5:41:42<39:14, 10.91it/s]  "
     ]
    },
    {
     "name": "stdout",
     "output_type": "stream",
     "text": [
      "배치 822 저장 완료 - 1002개\n"
     ]
    },
    {
     "name": "stderr",
     "output_type": "stream",
     "text": [
      "MFCC 추출 및 증강:  92%|█████████▏| 275218/300584 [5:42:05<26:48, 15.77it/s]"
     ]
    },
    {
     "name": "stdout",
     "output_type": "stream",
     "text": [
      "배치 823 저장 완료 - 1002개\n"
     ]
    },
    {
     "name": "stderr",
     "output_type": "stream",
     "text": [
      "MFCC 추출 및 증강:  92%|█████████▏| 275552/300584 [5:42:28<36:45, 11.35it/s]"
     ]
    },
    {
     "name": "stdout",
     "output_type": "stream",
     "text": [
      "배치 824 저장 완료 - 1002개\n"
     ]
    },
    {
     "name": "stderr",
     "output_type": "stream",
     "text": [
      "MFCC 추출 및 증강:  92%|█████████▏| 275887/300584 [5:42:53<29:00, 14.19it/s]"
     ]
    },
    {
     "name": "stdout",
     "output_type": "stream",
     "text": [
      "배치 825 저장 완료 - 1002개\n"
     ]
    },
    {
     "name": "stderr",
     "output_type": "stream",
     "text": [
      "MFCC 추출 및 증강:  92%|█████████▏| 276220/300584 [5:43:15<29:27, 13.79it/s]"
     ]
    },
    {
     "name": "stdout",
     "output_type": "stream",
     "text": [
      "배치 826 저장 완료 - 1002개\n"
     ]
    },
    {
     "name": "stderr",
     "output_type": "stream",
     "text": [
      "MFCC 추출 및 증강:  92%|█████████▏| 276554/300584 [5:43:38<28:51, 13.88it/s]"
     ]
    },
    {
     "name": "stdout",
     "output_type": "stream",
     "text": [
      "배치 827 저장 완료 - 1002개\n"
     ]
    },
    {
     "name": "stderr",
     "output_type": "stream",
     "text": [
      "MFCC 추출 및 증강:  92%|█████████▏| 276887/300584 [5:44:02<29:02, 13.60it/s]"
     ]
    },
    {
     "name": "stdout",
     "output_type": "stream",
     "text": [
      "배치 828 저장 완료 - 1002개\n"
     ]
    },
    {
     "name": "stderr",
     "output_type": "stream",
     "text": [
      "MFCC 추출 및 증강:  92%|█████████▏| 277222/300584 [5:44:25<30:20, 12.83it/s]"
     ]
    },
    {
     "name": "stdout",
     "output_type": "stream",
     "text": [
      "배치 829 저장 완료 - 1002개\n"
     ]
    },
    {
     "name": "stderr",
     "output_type": "stream",
     "text": [
      "MFCC 추출 및 증강:  92%|█████████▏| 277555/300584 [5:44:51<29:21, 13.07it/s]"
     ]
    },
    {
     "name": "stdout",
     "output_type": "stream",
     "text": [
      "배치 830 저장 완료 - 1002개\n"
     ]
    },
    {
     "name": "stderr",
     "output_type": "stream",
     "text": [
      "MFCC 추출 및 증강:  92%|█████████▏| 277889/300584 [5:45:15<33:05, 11.43it/s]"
     ]
    },
    {
     "name": "stdout",
     "output_type": "stream",
     "text": [
      "배치 831 저장 완료 - 1002개\n"
     ]
    },
    {
     "name": "stderr",
     "output_type": "stream",
     "text": [
      "MFCC 추출 및 증강:  93%|█████████▎| 278223/300584 [5:45:37<30:45, 12.12it/s]"
     ]
    },
    {
     "name": "stdout",
     "output_type": "stream",
     "text": [
      "배치 832 저장 완료 - 1002개\n"
     ]
    },
    {
     "name": "stderr",
     "output_type": "stream",
     "text": [
      "MFCC 추출 및 증강:  93%|█████████▎| 278559/300584 [5:45:59<27:02, 13.58it/s]"
     ]
    },
    {
     "name": "stdout",
     "output_type": "stream",
     "text": [
      "배치 833 저장 완료 - 1002개\n"
     ]
    },
    {
     "name": "stderr",
     "output_type": "stream",
     "text": [
      "MFCC 추출 및 증강:  93%|█████████▎| 278892/300584 [5:46:21<24:11, 14.94it/s]"
     ]
    },
    {
     "name": "stdout",
     "output_type": "stream",
     "text": [
      "배치 834 저장 완료 - 1002개\n"
     ]
    },
    {
     "name": "stderr",
     "output_type": "stream",
     "text": [
      "MFCC 추출 및 증강:  93%|█████████▎| 279226/300584 [5:46:44<33:05, 10.75it/s]"
     ]
    },
    {
     "name": "stdout",
     "output_type": "stream",
     "text": [
      "배치 835 저장 완료 - 1002개\n"
     ]
    },
    {
     "name": "stderr",
     "output_type": "stream",
     "text": [
      "MFCC 추출 및 증강:  93%|█████████▎| 279560/300584 [5:47:05<24:00, 14.60it/s]"
     ]
    },
    {
     "name": "stdout",
     "output_type": "stream",
     "text": [
      "배치 836 저장 완료 - 1002개\n"
     ]
    },
    {
     "name": "stderr",
     "output_type": "stream",
     "text": [
      "MFCC 추출 및 증강:  93%|█████████▎| 279895/300584 [5:47:25<22:42, 15.18it/s]"
     ]
    },
    {
     "name": "stdout",
     "output_type": "stream",
     "text": [
      "배치 837 저장 완료 - 1002개\n"
     ]
    },
    {
     "name": "stderr",
     "output_type": "stream",
     "text": [
      "MFCC 추출 및 증강:  93%|█████████▎| 280228/300584 [5:47:45<20:18, 16.70it/s]"
     ]
    },
    {
     "name": "stdout",
     "output_type": "stream",
     "text": [
      "배치 838 저장 완료 - 1002개\n"
     ]
    },
    {
     "name": "stderr",
     "output_type": "stream",
     "text": [
      "MFCC 추출 및 증강:  93%|█████████▎| 280563/300584 [5:48:05<21:07, 15.80it/s]"
     ]
    },
    {
     "name": "stdout",
     "output_type": "stream",
     "text": [
      "배치 839 저장 완료 - 1002개\n"
     ]
    },
    {
     "name": "stderr",
     "output_type": "stream",
     "text": [
      "MFCC 추출 및 증강:  93%|█████████▎| 280894/300584 [5:48:26<21:17, 15.42it/s]"
     ]
    },
    {
     "name": "stdout",
     "output_type": "stream",
     "text": [
      "배치 840 저장 완료 - 1002개\n"
     ]
    },
    {
     "name": "stderr",
     "output_type": "stream",
     "text": [
      "MFCC 추출 및 증강:  94%|█████████▎| 281230/300584 [5:48:49<24:32, 13.14it/s]"
     ]
    },
    {
     "name": "stdout",
     "output_type": "stream",
     "text": [
      "배치 841 저장 완료 - 1002개\n"
     ]
    },
    {
     "name": "stderr",
     "output_type": "stream",
     "text": [
      "MFCC 추출 및 증강:  94%|█████████▎| 281564/300584 [5:49:13<31:13, 10.15it/s]"
     ]
    },
    {
     "name": "stdout",
     "output_type": "stream",
     "text": [
      "배치 842 저장 완료 - 1002개\n"
     ]
    },
    {
     "name": "stderr",
     "output_type": "stream",
     "text": [
      "MFCC 추출 및 증강:  94%|█████████▍| 281898/300584 [5:49:36<21:39, 14.38it/s]"
     ]
    },
    {
     "name": "stdout",
     "output_type": "stream",
     "text": [
      "배치 843 저장 완료 - 1002개\n"
     ]
    },
    {
     "name": "stderr",
     "output_type": "stream",
     "text": [
      "MFCC 추출 및 증강:  94%|█████████▍| 282233/300584 [5:49:58<20:02, 15.27it/s]"
     ]
    },
    {
     "name": "stdout",
     "output_type": "stream",
     "text": [
      "배치 844 저장 완료 - 1002개\n"
     ]
    },
    {
     "name": "stderr",
     "output_type": "stream",
     "text": [
      "MFCC 추출 및 증강:  94%|█████████▍| 282567/300584 [5:50:19<19:26, 15.44it/s]"
     ]
    },
    {
     "name": "stdout",
     "output_type": "stream",
     "text": [
      "배치 845 저장 완료 - 1002개\n"
     ]
    },
    {
     "name": "stderr",
     "output_type": "stream",
     "text": [
      "MFCC 추출 및 증강:  94%|█████████▍| 282899/300584 [5:50:43<21:15, 13.87it/s]"
     ]
    },
    {
     "name": "stdout",
     "output_type": "stream",
     "text": [
      "배치 846 저장 완료 - 1002개\n"
     ]
    },
    {
     "name": "stderr",
     "output_type": "stream",
     "text": [
      "MFCC 추출 및 증강:  94%|█████████▍| 283232/300584 [5:51:08<33:27,  8.64it/s]"
     ]
    },
    {
     "name": "stdout",
     "output_type": "stream",
     "text": [
      "배치 847 저장 완료 - 1002개\n"
     ]
    },
    {
     "name": "stderr",
     "output_type": "stream",
     "text": [
      "MFCC 추출 및 증강:  94%|█████████▍| 283567/300584 [5:51:34<22:27, 12.63it/s]"
     ]
    },
    {
     "name": "stdout",
     "output_type": "stream",
     "text": [
      "배치 848 저장 완료 - 1002개\n"
     ]
    },
    {
     "name": "stderr",
     "output_type": "stream",
     "text": [
      "MFCC 추출 및 증강:  94%|█████████▍| 283901/300584 [5:51:58<26:00, 10.69it/s]"
     ]
    },
    {
     "name": "stdout",
     "output_type": "stream",
     "text": [
      "배치 849 저장 완료 - 1002개\n"
     ]
    },
    {
     "name": "stderr",
     "output_type": "stream",
     "text": [
      "MFCC 추출 및 증강:  95%|█████████▍| 284236/300584 [5:52:23<28:45,  9.48it/s]"
     ]
    },
    {
     "name": "stdout",
     "output_type": "stream",
     "text": [
      "배치 850 저장 완료 - 1002개\n"
     ]
    },
    {
     "name": "stderr",
     "output_type": "stream",
     "text": [
      "MFCC 추출 및 증강:  95%|█████████▍| 284569/300584 [5:52:47<22:25, 11.90it/s]"
     ]
    },
    {
     "name": "stdout",
     "output_type": "stream",
     "text": [
      "배치 851 저장 완료 - 1002개\n"
     ]
    },
    {
     "name": "stderr",
     "output_type": "stream",
     "text": [
      "MFCC 추출 및 증강:  95%|█████████▍| 284905/300584 [5:53:08<17:46, 14.70it/s]"
     ]
    },
    {
     "name": "stdout",
     "output_type": "stream",
     "text": [
      "배치 852 저장 완료 - 1002개\n"
     ]
    },
    {
     "name": "stderr",
     "output_type": "stream",
     "text": [
      "MFCC 추출 및 증강:  95%|█████████▍| 285238/300584 [5:53:28<16:48, 15.21it/s]"
     ]
    },
    {
     "name": "stdout",
     "output_type": "stream",
     "text": [
      "배치 853 저장 완료 - 1002개\n"
     ]
    },
    {
     "name": "stderr",
     "output_type": "stream",
     "text": [
      "MFCC 추출 및 증강:  95%|█████████▌| 285573/300584 [5:53:49<16:12, 15.43it/s]"
     ]
    },
    {
     "name": "stdout",
     "output_type": "stream",
     "text": [
      "배치 854 저장 완료 - 1002개\n"
     ]
    },
    {
     "name": "stderr",
     "output_type": "stream",
     "text": [
      "MFCC 추출 및 증강:  95%|█████████▌| 285906/300584 [5:54:08<17:41, 13.83it/s]"
     ]
    },
    {
     "name": "stdout",
     "output_type": "stream",
     "text": [
      "배치 855 저장 완료 - 1002개\n"
     ]
    },
    {
     "name": "stderr",
     "output_type": "stream",
     "text": [
      "MFCC 추출 및 증강:  95%|█████████▌| 286240/300584 [5:54:28<14:58, 15.96it/s]"
     ]
    },
    {
     "name": "stdout",
     "output_type": "stream",
     "text": [
      "배치 856 저장 완료 - 1002개\n"
     ]
    },
    {
     "name": "stderr",
     "output_type": "stream",
     "text": [
      "MFCC 추출 및 증강:  95%|█████████▌| 286574/300584 [5:54:47<17:08, 13.62it/s]"
     ]
    },
    {
     "name": "stdout",
     "output_type": "stream",
     "text": [
      "배치 857 저장 완료 - 1002개\n"
     ]
    },
    {
     "name": "stderr",
     "output_type": "stream",
     "text": [
      "MFCC 추출 및 증강:  95%|█████████▌| 286907/300584 [5:55:08<15:47, 14.44it/s]"
     ]
    },
    {
     "name": "stdout",
     "output_type": "stream",
     "text": [
      "배치 858 저장 완료 - 1002개\n"
     ]
    },
    {
     "name": "stderr",
     "output_type": "stream",
     "text": [
      "MFCC 추출 및 증강:  96%|█████████▌| 287241/300584 [5:55:31<21:13, 10.48it/s]"
     ]
    },
    {
     "name": "stdout",
     "output_type": "stream",
     "text": [
      "배치 859 저장 완료 - 1002개\n"
     ]
    },
    {
     "name": "stderr",
     "output_type": "stream",
     "text": [
      "MFCC 추출 및 증강:  96%|█████████▌| 287577/300584 [5:55:53<12:43, 17.03it/s]"
     ]
    },
    {
     "name": "stdout",
     "output_type": "stream",
     "text": [
      "배치 860 저장 완료 - 1002개\n"
     ]
    },
    {
     "name": "stderr",
     "output_type": "stream",
     "text": [
      "MFCC 추출 및 증강:  96%|█████████▌| 287910/300584 [5:56:14<18:05, 11.68it/s]"
     ]
    },
    {
     "name": "stdout",
     "output_type": "stream",
     "text": [
      "배치 861 저장 완료 - 1002개\n"
     ]
    },
    {
     "name": "stderr",
     "output_type": "stream",
     "text": [
      "MFCC 추출 및 증강:  96%|█████████▌| 288244/300584 [5:56:35<12:00, 17.13it/s]"
     ]
    },
    {
     "name": "stdout",
     "output_type": "stream",
     "text": [
      "배치 862 저장 완료 - 1002개\n"
     ]
    },
    {
     "name": "stderr",
     "output_type": "stream",
     "text": [
      "MFCC 추출 및 증강:  96%|█████████▌| 288577/300584 [5:56:54<13:46, 14.53it/s]"
     ]
    },
    {
     "name": "stdout",
     "output_type": "stream",
     "text": [
      "배치 863 저장 완료 - 1002개\n"
     ]
    },
    {
     "name": "stderr",
     "output_type": "stream",
     "text": [
      "MFCC 추출 및 증강:  96%|█████████▌| 288913/300584 [5:57:16<14:42, 13.22it/s]"
     ]
    },
    {
     "name": "stdout",
     "output_type": "stream",
     "text": [
      "배치 864 저장 완료 - 1002개\n"
     ]
    },
    {
     "name": "stderr",
     "output_type": "stream",
     "text": [
      "MFCC 추출 및 증강:  96%|█████████▌| 289246/300584 [5:57:38<13:29, 14.00it/s]"
     ]
    },
    {
     "name": "stdout",
     "output_type": "stream",
     "text": [
      "배치 865 저장 완료 - 1002개\n"
     ]
    },
    {
     "name": "stderr",
     "output_type": "stream",
     "text": [
      "MFCC 추출 및 증강:  96%|█████████▋| 289580/300584 [5:58:00<14:15, 12.86it/s]"
     ]
    },
    {
     "name": "stdout",
     "output_type": "stream",
     "text": [
      "배치 866 저장 완료 - 1002개\n"
     ]
    },
    {
     "name": "stderr",
     "output_type": "stream",
     "text": [
      "MFCC 추출 및 증강:  96%|█████████▋| 289915/300584 [5:58:22<12:19, 14.42it/s]"
     ]
    },
    {
     "name": "stdout",
     "output_type": "stream",
     "text": [
      "배치 867 저장 완료 - 1002개\n"
     ]
    },
    {
     "name": "stderr",
     "output_type": "stream",
     "text": [
      "MFCC 추출 및 증강:  97%|█████████▋| 290250/300584 [5:58:43<10:16, 16.75it/s]"
     ]
    },
    {
     "name": "stdout",
     "output_type": "stream",
     "text": [
      "배치 868 저장 완료 - 1002개\n"
     ]
    },
    {
     "name": "stderr",
     "output_type": "stream",
     "text": [
      "MFCC 추출 및 증강:  97%|█████████▋| 290582/300584 [5:59:04<10:17, 16.19it/s]"
     ]
    },
    {
     "name": "stdout",
     "output_type": "stream",
     "text": [
      "배치 869 저장 완료 - 1002개\n"
     ]
    },
    {
     "name": "stderr",
     "output_type": "stream",
     "text": [
      "MFCC 추출 및 증강:  97%|█████████▋| 290917/300584 [5:59:25<10:19, 15.61it/s]"
     ]
    },
    {
     "name": "stdout",
     "output_type": "stream",
     "text": [
      "배치 870 저장 완료 - 1002개\n"
     ]
    },
    {
     "name": "stderr",
     "output_type": "stream",
     "text": [
      "MFCC 추출 및 증강:  97%|█████████▋| 291251/300584 [5:59:46<08:43, 17.84it/s]"
     ]
    },
    {
     "name": "stdout",
     "output_type": "stream",
     "text": [
      "배치 871 저장 완료 - 1002개\n"
     ]
    },
    {
     "name": "stderr",
     "output_type": "stream",
     "text": [
      "MFCC 추출 및 증강:  97%|█████████▋| 291584/300584 [6:00:08<10:29, 14.30it/s]"
     ]
    },
    {
     "name": "stdout",
     "output_type": "stream",
     "text": [
      "배치 872 저장 완료 - 1002개\n"
     ]
    },
    {
     "name": "stderr",
     "output_type": "stream",
     "text": [
      "MFCC 추출 및 증강:  97%|█████████▋| 291918/300584 [6:00:28<08:03, 17.91it/s]"
     ]
    },
    {
     "name": "stdout",
     "output_type": "stream",
     "text": [
      "배치 873 저장 완료 - 1002개\n"
     ]
    },
    {
     "name": "stderr",
     "output_type": "stream",
     "text": [
      "MFCC 추출 및 증강:  97%|█████████▋| 292252/300584 [6:00:49<10:11, 13.62it/s]"
     ]
    },
    {
     "name": "stdout",
     "output_type": "stream",
     "text": [
      "배치 874 저장 완료 - 1002개\n"
     ]
    },
    {
     "name": "stderr",
     "output_type": "stream",
     "text": [
      "MFCC 추출 및 증강:  97%|█████████▋| 292586/300584 [6:01:10<10:18, 12.93it/s]"
     ]
    },
    {
     "name": "stdout",
     "output_type": "stream",
     "text": [
      "배치 875 저장 완료 - 1002개\n"
     ]
    },
    {
     "name": "stderr",
     "output_type": "stream",
     "text": [
      "MFCC 추출 및 증강:  97%|█████████▋| 292921/300584 [6:01:31<07:51, 16.26it/s]"
     ]
    },
    {
     "name": "stdout",
     "output_type": "stream",
     "text": [
      "배치 876 저장 완료 - 1002개\n"
     ]
    },
    {
     "name": "stderr",
     "output_type": "stream",
     "text": [
      "MFCC 추출 및 증강:  98%|█████████▊| 293253/300584 [6:01:51<08:14, 14.82it/s]"
     ]
    },
    {
     "name": "stdout",
     "output_type": "stream",
     "text": [
      "배치 877 저장 완료 - 1002개\n"
     ]
    },
    {
     "name": "stderr",
     "output_type": "stream",
     "text": [
      "MFCC 추출 및 증강:  98%|█████████▊| 293589/300584 [6:02:12<06:47, 17.16it/s]"
     ]
    },
    {
     "name": "stdout",
     "output_type": "stream",
     "text": [
      "배치 878 저장 완료 - 1002개\n"
     ]
    },
    {
     "name": "stderr",
     "output_type": "stream",
     "text": [
      "MFCC 추출 및 증강:  98%|█████████▊| 293923/300584 [6:02:32<06:43, 16.52it/s]"
     ]
    },
    {
     "name": "stdout",
     "output_type": "stream",
     "text": [
      "배치 879 저장 완료 - 1002개\n"
     ]
    },
    {
     "name": "stderr",
     "output_type": "stream",
     "text": [
      "MFCC 추출 및 증강:  98%|█████████▊| 294257/300584 [6:02:52<06:36, 15.94it/s]"
     ]
    },
    {
     "name": "stdout",
     "output_type": "stream",
     "text": [
      "배치 880 저장 완료 - 1002개\n"
     ]
    },
    {
     "name": "stderr",
     "output_type": "stream",
     "text": [
      "MFCC 추출 및 증강:  98%|█████████▊| 294591/300584 [6:03:12<07:03, 14.16it/s]"
     ]
    },
    {
     "name": "stdout",
     "output_type": "stream",
     "text": [
      "배치 881 저장 완료 - 1002개\n"
     ]
    },
    {
     "name": "stderr",
     "output_type": "stream",
     "text": [
      "MFCC 추출 및 증강:  98%|█████████▊| 294922/300584 [6:03:36<06:22, 14.81it/s]"
     ]
    },
    {
     "name": "stdout",
     "output_type": "stream",
     "text": [
      "배치 882 저장 완료 - 1002개\n"
     ]
    },
    {
     "name": "stderr",
     "output_type": "stream",
     "text": [
      "MFCC 추출 및 증강:  98%|█████████▊| 295258/300584 [6:04:00<07:26, 11.92it/s]"
     ]
    },
    {
     "name": "stdout",
     "output_type": "stream",
     "text": [
      "배치 883 저장 완료 - 1002개\n"
     ]
    },
    {
     "name": "stderr",
     "output_type": "stream",
     "text": [
      "MFCC 추출 및 증강:  98%|█████████▊| 295592/300584 [6:04:23<05:22, 15.47it/s]"
     ]
    },
    {
     "name": "stdout",
     "output_type": "stream",
     "text": [
      "배치 884 저장 완료 - 1002개\n"
     ]
    },
    {
     "name": "stderr",
     "output_type": "stream",
     "text": [
      "MFCC 추출 및 증강:  98%|█████████▊| 295927/300584 [6:04:42<03:58, 19.53it/s]"
     ]
    },
    {
     "name": "stdout",
     "output_type": "stream",
     "text": [
      "배치 885 저장 완료 - 1002개\n"
     ]
    },
    {
     "name": "stderr",
     "output_type": "stream",
     "text": [
      "MFCC 추출 및 증강:  99%|█████████▊| 296259/300584 [6:05:01<04:19, 16.66it/s]"
     ]
    },
    {
     "name": "stdout",
     "output_type": "stream",
     "text": [
      "배치 886 저장 완료 - 1002개\n"
     ]
    },
    {
     "name": "stderr",
     "output_type": "stream",
     "text": [
      "MFCC 추출 및 증강:  99%|█████████▊| 296596/300584 [6:05:20<03:36, 18.43it/s]"
     ]
    },
    {
     "name": "stdout",
     "output_type": "stream",
     "text": [
      "배치 887 저장 완료 - 1002개\n"
     ]
    },
    {
     "name": "stderr",
     "output_type": "stream",
     "text": [
      "MFCC 추출 및 증강:  99%|█████████▉| 296927/300584 [6:05:42<04:29, 13.57it/s]"
     ]
    },
    {
     "name": "stdout",
     "output_type": "stream",
     "text": [
      "배치 888 저장 완료 - 1002개\n"
     ]
    },
    {
     "name": "stderr",
     "output_type": "stream",
     "text": [
      "MFCC 추출 및 증강:  99%|█████████▉| 297261/300584 [6:06:03<04:17, 12.92it/s]"
     ]
    },
    {
     "name": "stdout",
     "output_type": "stream",
     "text": [
      "배치 889 저장 완료 - 1002개\n"
     ]
    },
    {
     "name": "stderr",
     "output_type": "stream",
     "text": [
      "MFCC 추출 및 증강:  99%|█████████▉| 297596/300584 [6:06:25<03:35, 13.88it/s]"
     ]
    },
    {
     "name": "stdout",
     "output_type": "stream",
     "text": [
      "배치 890 저장 완료 - 1002개\n"
     ]
    },
    {
     "name": "stderr",
     "output_type": "stream",
     "text": [
      "MFCC 추출 및 증강:  99%|█████████▉| 297929/300584 [6:06:46<02:31, 17.51it/s]"
     ]
    },
    {
     "name": "stdout",
     "output_type": "stream",
     "text": [
      "배치 891 저장 완료 - 1002개\n"
     ]
    },
    {
     "name": "stderr",
     "output_type": "stream",
     "text": [
      "MFCC 추출 및 증강:  99%|█████████▉| 298265/300584 [6:07:07<02:55, 13.24it/s]"
     ]
    },
    {
     "name": "stdout",
     "output_type": "stream",
     "text": [
      "배치 892 저장 완료 - 1002개\n"
     ]
    },
    {
     "name": "stderr",
     "output_type": "stream",
     "text": [
      "MFCC 추출 및 증강:  99%|█████████▉| 298598/300584 [6:07:28<02:20, 14.13it/s]"
     ]
    },
    {
     "name": "stdout",
     "output_type": "stream",
     "text": [
      "배치 893 저장 완료 - 1002개\n"
     ]
    },
    {
     "name": "stderr",
     "output_type": "stream",
     "text": [
      "MFCC 추출 및 증강:  99%|█████████▉| 298931/300584 [6:07:50<01:47, 15.36it/s]"
     ]
    },
    {
     "name": "stdout",
     "output_type": "stream",
     "text": [
      "배치 894 저장 완료 - 1002개\n"
     ]
    },
    {
     "name": "stderr",
     "output_type": "stream",
     "text": [
      "MFCC 추출 및 증강: 100%|█████████▉| 299266/300584 [6:08:12<01:28, 14.92it/s]"
     ]
    },
    {
     "name": "stdout",
     "output_type": "stream",
     "text": [
      "배치 895 저장 완료 - 1002개\n"
     ]
    },
    {
     "name": "stderr",
     "output_type": "stream",
     "text": [
      "MFCC 추출 및 증강: 100%|█████████▉| 299600/300584 [6:08:35<01:12, 13.63it/s]"
     ]
    },
    {
     "name": "stdout",
     "output_type": "stream",
     "text": [
      "배치 896 저장 완료 - 1002개\n"
     ]
    },
    {
     "name": "stderr",
     "output_type": "stream",
     "text": [
      "MFCC 추출 및 증강: 100%|█████████▉| 299934/300584 [6:08:57<00:41, 15.83it/s]"
     ]
    },
    {
     "name": "stdout",
     "output_type": "stream",
     "text": [
      "배치 897 저장 완료 - 1002개\n"
     ]
    },
    {
     "name": "stderr",
     "output_type": "stream",
     "text": [
      "MFCC 추출 및 증강: 100%|█████████▉| 300268/300584 [6:09:19<00:24, 12.92it/s]"
     ]
    },
    {
     "name": "stdout",
     "output_type": "stream",
     "text": [
      "배치 898 저장 완료 - 1002개\n"
     ]
    },
    {
     "name": "stderr",
     "output_type": "stream",
     "text": [
      "MFCC 추출 및 증강: 100%|██████████| 300584/300584 [6:09:40<00:00, 13.55it/s]"
     ]
    },
    {
     "name": "stdout",
     "output_type": "stream",
     "text": [
      "마지막 배치 899 저장 완료 - 954개\n",
      "전체 MFCC 추출 및 저장 작업 완료\n"
     ]
    },
    {
     "name": "stderr",
     "output_type": "stream",
     "text": [
      "\n"
     ]
    }
   ],
   "source": [
    "import os\n",
    "import numpy as np\n",
    "import pandas as pd\n",
    "import librosa\n",
    "from audiomentations import Compose, AddGaussianNoise, TimeStretch, PitchShift, Shift\n",
    "from tqdm import tqdm\n",
    "\n",
    "# 1. 입력 및 출력 경로 설정\n",
    "csv_path = \"./data/usou/metadata_4class.csv\"\n",
    "output_dir = \"/media/usou/PortableSSD/mldl_project/data4class_batches\"\n",
    "os.makedirs(output_dir, exist_ok=True)\n",
    "\n",
    "# 2. 오디오 및 MFCC 관련 설정\n",
    "n_mfcc = 40                     # 추출할 MFCC 계수 수\n",
    "max_len = 300                  # MFCC 길이 고정값\n",
    "n_augment = 2                  # 증강 횟수 (원본 포함 총 3배)\n",
    "batch_size = 1000              # 배치 저장 단위\n",
    "\n",
    "# 3. 데이터프레임 불러오기\n",
    "df = pd.read_csv(csv_path)\n",
    "\n",
    "# 4. 증강 파이프라인 설정\n",
    "augment = Compose([\n",
    "    AddGaussianNoise(min_amplitude=0.001, max_amplitude=0.015, p=0.7),\n",
    "    TimeStretch(min_rate=0.9, max_rate=1.1, p=0.5),\n",
    "    PitchShift(min_semitones=-2, max_semitones=2, p=0.5),\n",
    "    Shift(min_shift=-0.2, max_shift=0.2, p=0.5)\n",
    "])\n",
    "\n",
    "# 5. MFCC 추출 함수 정의\n",
    "def extract_mfcc(y, sr):\n",
    "    mfcc = librosa.feature.mfcc(y=y, sr=sr, n_mfcc=n_mfcc)\n",
    "    if mfcc.shape[1] < max_len:\n",
    "        pad_width = max_len - mfcc.shape[1]\n",
    "        mfcc = np.pad(mfcc, ((0, 0), (0, pad_width)), mode='constant')\n",
    "    else:\n",
    "        mfcc = mfcc[:, :max_len]\n",
    "    return mfcc\n",
    "\n",
    "# 6. 배치별로 데이터를 저장하기 위한 변수 초기화\n",
    "mfcc_batch = []\n",
    "label_batch = []\n",
    "batch_index = 0\n",
    "\n",
    "# 7. tqdm을 이용해 전체 진행 상황 표시\n",
    "for idx, row in tqdm(df.iterrows(), total=len(df), desc=\"MFCC 추출 및 증강\"):\n",
    "    wav_path = row[\"wav_path\"]\n",
    "    emotion = row[\"emotion\"]\n",
    "\n",
    "    try:\n",
    "        # 원본 로딩\n",
    "        y, sr = librosa.load(wav_path, sr=16000)\n",
    "\n",
    "        # 원본 MFCC 저장\n",
    "        mfcc_batch.append(extract_mfcc(y, sr))\n",
    "        label_batch.append(emotion)\n",
    "\n",
    "        # 증강 MFCC 저장\n",
    "        for _ in range(n_augment):\n",
    "            y_aug = augment(samples=y, sample_rate=sr)\n",
    "            mfcc_batch.append(extract_mfcc(y_aug, sr))\n",
    "            label_batch.append(emotion)\n",
    "\n",
    "        # 일정 크기의 배치가 모이면 저장 후 초기화\n",
    "        if len(mfcc_batch) >= batch_size:\n",
    "            np.save(os.path.join(output_dir, f\"mfcc_batch_{batch_index}.npy\"), np.array(mfcc_batch))\n",
    "            np.save(os.path.join(output_dir, f\"label_batch_{batch_index}.npy\"), np.array(label_batch, dtype=object))\n",
    "            print(f\"배치 {batch_index} 저장 완료 - {len(mfcc_batch)}개\")\n",
    "            batch_index += 1\n",
    "            mfcc_batch.clear()\n",
    "            label_batch.clear()\n",
    "\n",
    "    except Exception as e:\n",
    "        print(f\"오류 발생: {wav_path} → {e}\")\n",
    "        continue\n",
    "\n",
    "# 8. 마지막에 남은 배치도 저장\n",
    "if mfcc_batch:\n",
    "    np.save(os.path.join(output_dir, f\"mfcc_batch_{batch_index}.npy\"), np.array(mfcc_batch))\n",
    "    np.save(os.path.join(output_dir, f\"label_batch_{batch_index}.npy\"), np.array(label_batch, dtype=object))\n",
    "    print(f\"마지막 배치 {batch_index} 저장 완료 - {len(mfcc_batch)}개\")\n",
    "\n",
    "print(\"전체 MFCC 추출 및 저장 작업 완료\")\n"
   ]
  },
  {
   "cell_type": "markdown",
   "metadata": {},
   "source": [
    "# Validation"
   ]
  },
  {
   "cell_type": "markdown",
   "metadata": {},
   "source": [
    "## JSON -> DataFrame"
   ]
  },
  {
   "cell_type": "code",
   "execution_count": 2,
   "metadata": {},
   "outputs": [
    {
     "name": "stdout",
     "output_type": "stream",
     "text": [
      "총 수집된 검증 샘플 수: 300584\n",
      "에러 발생 수: 0\n"
     ]
    }
   ],
   "source": [
    "import os\n",
    "import json\n",
    "import pandas as pd\n",
    "\n",
    "# 검증 데이터의 JSON 폴더 경로 (변경 필요)\n",
    "label_root = \"/media/usou/PortableSSD/mldl/015.감성 및 발화 스타일별 음성합성 데이터/01.데이터/1.Training/라벨링데이터/\"\n",
    "wav_root   = \"/media/usou/PortableSSD/mldl/015.감성 및 발화 스타일별 음성합성 데이터/01.데이터/1.Training/원천데이터/\"\n",
    "\n",
    "save_dir = \"./data/usou\"\n",
    "os.makedirs(save_dir, exist_ok=True)\n",
    "\n",
    "target_classes = ['Happy', 'Sad', 'Angry', 'Neutrality']\n",
    "\n",
    "data = []\n",
    "broken_files = []\n",
    "\n",
    "for folder_path, _, files in os.walk(label_root):\n",
    "    for file_name in files:\n",
    "        if not file_name.endswith(\".json\"):\n",
    "            continue\n",
    "        json_path = os.path.join(folder_path, file_name)\n",
    "        try:\n",
    "            with open(json_path, 'r', encoding='utf-8') as f:\n",
    "                content = json.load(f)\n",
    "\n",
    "            emotion = content[\"화자정보\"][\"Emotion\"]\n",
    "            if emotion not in target_classes:\n",
    "                continue\n",
    "\n",
    "            style = content[\"화자정보\"].get(\"SpeechStyle\", \"N/A\")\n",
    "            sensitivity = content[\"화자정보\"].get(\"Sensitivity\", \"N/A\")\n",
    "            wav_file = content[\"파일정보\"][\"FileName\"]\n",
    "\n",
    "            relative_path = os.path.relpath(folder_path, start=label_root)\n",
    "            relative_path = relative_path.replace(\"TL\", \"TS\")\n",
    "            wav_path = os.path.join(wav_root, relative_path, wav_file)\n",
    "\n",
    "            if os.path.exists(wav_path):\n",
    "                data.append({\n",
    "                    \"wav_path\": wav_path,\n",
    "                    \"emotion\": emotion,\n",
    "                    \"style\": style,\n",
    "                    \"sensitivity\": sensitivity\n",
    "                })\n",
    "            else:\n",
    "                broken_files.append(wav_path)\n",
    "        except Exception as e:\n",
    "            broken_files.append(json_path)\n",
    "\n",
    "df = pd.DataFrame(data)\n",
    "df.to_csv(os.path.join(save_dir, \"metadata_4class_val.csv\"), index=False)\n",
    "\n",
    "with open(os.path.join(save_dir, \"broken_files_val.txt\"), \"w\") as f:\n",
    "    for path in broken_files:\n",
    "        f.write(path + \"\\n\")\n",
    "\n",
    "print(\"총 수집된 검증 샘플 수:\", len(df))\n",
    "print(\"에러 발생 수:\", len(broken_files))\n"
   ]
  },
  {
   "cell_type": "markdown",
   "metadata": {},
   "source": [
    "# 검증용 MFCC 추출"
   ]
  },
  {
   "cell_type": "code",
   "execution_count": null,
   "metadata": {},
   "outputs": [],
   "source": [
    "import os\n",
    "import numpy as np\n",
    "import tensorflow as tf\n",
    "from tensorflow.keras.callbacks import EarlyStopping, ModelCheckpoint\n",
    "from tqdm import tqdm\n",
    "import glob\n",
    "\n",
    "# ✅ CNN 모델 정의 함수 호출\n",
    "model = build_cnn_model()\n",
    "\n",
    "# ✅ 하이퍼파라미터\n",
    "BATCH_SIZE = 64\n",
    "EPOCHS = 300\n",
    "PATIENCE = 30\n",
    "\n",
    "# ✅ 학습 데이터 경로\n",
    "train_mfcc_dir = \"/media/usou/PortableSSD/mldl_project/data4class_batches\"\n",
    "train_label_dir = \"/media/usou/PortableSSD/mldl_project/data4class_batches\"\n",
    "\n",
    "# ✅ 검증 데이터 배치 파일들이 저장된 경로\n",
    "val_dir = \"/media/usou/PortableSSD/mldl_project/data4class_val_batches\"\n",
    "val_mfcc_files = sorted(glob.glob(os.path.join(val_dir, \"mfcc_val_batch_*.npy\")))\n",
    "val_label_files = sorted(glob.glob(os.path.join(val_dir, \"label_val_batch_*.npy\")))\n",
    "\n",
    "# ✅ 검증 데이터 로딩\n",
    "val_x = np.concatenate([np.load(f) for f in val_mfcc_files], axis=0)\n",
    "val_y = np.concatenate([np.load(f) for f in val_label_files], axis=0)\n",
    "\n",
    "# ✅ 학습용 배치 제너레이터\n",
    "def data_generator(mfcc_dir, label_dir, batch_size):\n",
    "    mfcc_files = sorted(glob.glob(os.path.join(mfcc_dir, \"mfcc_batch_*.npy\")))\n",
    "    label_files = sorted(glob.glob(os.path.join(label_dir, \"label_batch_*.npy\")))\n",
    "\n",
    "    while True:\n",
    "        for mfcc_file, label_file in zip(mfcc_files, label_files):\n",
    "            x = np.load(mfcc_file)\n",
    "            y = np.load(label_file)\n",
    "            for i in range(0, len(x), batch_size):\n",
    "                yield x[i:i+batch_size], y[i:i+batch_size]\n",
    "\n",
    "# ✅ 콜백 설정\n",
    "checkpoint_path = \"/media/usou/PortableSSD/mldl_project/model_ckpt/best_model_voice_emotion_analysis.keras\"\n",
    "callbacks = [\n",
    "    EarlyStopping(monitor='val_accuracy', patience=PATIENCE, restore_best_weights=True),\n",
    "    ModelCheckpoint(filepath=checkpoint_path, monitor='val_accuracy', save_best_only=True)\n",
    "]\n",
    "\n",
    "# ✅ 전체 학습 스텝 계산\n",
    "train_steps = sum([np.load(f).shape[0] for f in glob.glob(os.path.join(train_label_dir, \"label_batch_*.npy\"))]) // BATCH_SIZE\n",
    "\n",
    "# ✅ 모델 학습 시작\n",
    "model.fit(\n",
    "    data_generator(train_mfcc_dir, train_label_dir, BATCH_SIZE),\n",
    "    steps_per_epoch=train_steps,\n",
    "    epochs=EPOCHS,\n",
    "    validation_data=(val_x, val_y),\n",
    "    callbacks=callbacks\n",
    ")\n"
   ]
  },
  {
   "cell_type": "markdown",
   "metadata": {},
   "source": [
    "##  Train, Validation 라벨 인코딩 "
   ]
  },
  {
   "cell_type": "markdown",
   "metadata": {},
   "source": [
    "- 학습 데이터의 모든 배치 레이블을 모아서 LabelEncoder를 fit 합니다.\n",
    "- label_encoder.pkl로 저장하여 나중에 복원 가능하게 합니다.\n",
    "- 학습 데이터와 검증 데이터 모두 동일한 인코더로 인코딩하여 일관성 유지합니다."
   ]
  },
  {
   "cell_type": "code",
   "execution_count": 5,
   "metadata": {},
   "outputs": [
    {
     "name": "stderr",
     "output_type": "stream",
     "text": [
      "학습 레이블 수집:   0%|          | 0/900 [00:00<?, ?it/s]"
     ]
    },
    {
     "name": "stderr",
     "output_type": "stream",
     "text": [
      "학습 레이블 수집: 100%|██████████| 900/900 [00:00<00:00, 6233.83it/s]\n"
     ]
    },
    {
     "name": "stdout",
     "output_type": "stream",
     "text": [
      "LabelEncoder 저장 완료: /media/usou/PortableSSD/mldl_project/data4class_batches/voice_label_encoder.pkl\n",
      "클래스 목록: [0 1 2 3]\n",
      "학습용 레이블 인코딩 완료\n",
      "검증 배치 0는 이미 숫자형으로 인코딩되어 있어 건너뜀\n",
      "검증 배치 1는 이미 숫자형으로 인코딩되어 있어 건너뜀\n",
      "검증 배치 2는 이미 숫자형으로 인코딩되어 있어 건너뜀\n",
      "검증 배치 3는 이미 숫자형으로 인코딩되어 있어 건너뜀\n",
      "검증 배치 4는 이미 숫자형으로 인코딩되어 있어 건너뜀\n",
      "검증 배치 5는 이미 숫자형으로 인코딩되어 있어 건너뜀\n",
      "검증 배치 6는 이미 숫자형으로 인코딩되어 있어 건너뜀\n",
      "검증 배치 7는 이미 숫자형으로 인코딩되어 있어 건너뜀\n",
      "검증 배치 8는 이미 숫자형으로 인코딩되어 있어 건너뜀\n",
      "검증 배치 9는 이미 숫자형으로 인코딩되어 있어 건너뜀\n",
      "검증 배치 10는 이미 숫자형으로 인코딩되어 있어 건너뜀\n",
      "검증 배치 11는 이미 숫자형으로 인코딩되어 있어 건너뜀\n",
      "검증 배치 12는 이미 숫자형으로 인코딩되어 있어 건너뜀\n",
      "검증 배치 13는 이미 숫자형으로 인코딩되어 있어 건너뜀\n",
      "검증 배치 14는 이미 숫자형으로 인코딩되어 있어 건너뜀\n",
      "검증 배치 15는 이미 숫자형으로 인코딩되어 있어 건너뜀\n",
      "검증 배치 16는 이미 숫자형으로 인코딩되어 있어 건너뜀\n",
      "검증 배치 17는 이미 숫자형으로 인코딩되어 있어 건너뜀\n",
      "검증 배치 18는 이미 숫자형으로 인코딩되어 있어 건너뜀\n",
      "검증 배치 19는 이미 숫자형으로 인코딩되어 있어 건너뜀\n",
      "검증 배치 20는 이미 숫자형으로 인코딩되어 있어 건너뜀\n",
      "검증 배치 21는 이미 숫자형으로 인코딩되어 있어 건너뜀\n",
      "검증 배치 22는 이미 숫자형으로 인코딩되어 있어 건너뜀\n",
      "검증 배치 23는 이미 숫자형으로 인코딩되어 있어 건너뜀\n",
      "검증 배치 24는 이미 숫자형으로 인코딩되어 있어 건너뜀\n",
      "검증 배치 25는 이미 숫자형으로 인코딩되어 있어 건너뜀\n",
      "검증 배치 26는 이미 숫자형으로 인코딩되어 있어 건너뜀\n",
      "검증 배치 27는 이미 숫자형으로 인코딩되어 있어 건너뜀\n",
      "검증 배치 28는 이미 숫자형으로 인코딩되어 있어 건너뜀\n",
      "검증 배치 29는 이미 숫자형으로 인코딩되어 있어 건너뜀\n",
      "검증 배치 30는 이미 숫자형으로 인코딩되어 있어 건너뜀\n",
      "검증 배치 31는 이미 숫자형으로 인코딩되어 있어 건너뜀\n",
      "검증 배치 32는 이미 숫자형으로 인코딩되어 있어 건너뜀\n",
      "검증 배치 33는 이미 숫자형으로 인코딩되어 있어 건너뜀\n",
      "검증 배치 34는 이미 숫자형으로 인코딩되어 있어 건너뜀\n",
      "검증 배치 35는 이미 숫자형으로 인코딩되어 있어 건너뜀\n",
      "검증 배치 36는 이미 숫자형으로 인코딩되어 있어 건너뜀\n",
      "검증 배치 37는 이미 숫자형으로 인코딩되어 있어 건너뜀\n",
      "검증 배치 38는 이미 숫자형으로 인코딩되어 있어 건너뜀\n",
      "검증 배치 39는 이미 숫자형으로 인코딩되어 있어 건너뜀\n",
      "검증 배치 40는 이미 숫자형으로 인코딩되어 있어 건너뜀\n",
      "검증 배치 41는 이미 숫자형으로 인코딩되어 있어 건너뜀\n",
      "검증 배치 42는 이미 숫자형으로 인코딩되어 있어 건너뜀\n",
      "검증 배치 43는 이미 숫자형으로 인코딩되어 있어 건너뜀\n",
      "검증 배치 44는 이미 숫자형으로 인코딩되어 있어 건너뜀\n",
      "검증 배치 45는 이미 숫자형으로 인코딩되어 있어 건너뜀\n",
      "검증 배치 46는 이미 숫자형으로 인코딩되어 있어 건너뜀\n",
      "검증 배치 47는 이미 숫자형으로 인코딩되어 있어 건너뜀\n",
      "검증 배치 48는 이미 숫자형으로 인코딩되어 있어 건너뜀\n",
      "검증 배치 49는 이미 숫자형으로 인코딩되어 있어 건너뜀\n",
      "검증 배치 50는 이미 숫자형으로 인코딩되어 있어 건너뜀\n",
      "검증 배치 51는 이미 숫자형으로 인코딩되어 있어 건너뜀\n",
      "검증 배치 52는 이미 숫자형으로 인코딩되어 있어 건너뜀\n",
      "검증 배치 53는 이미 숫자형으로 인코딩되어 있어 건너뜀\n",
      "검증 배치 54는 이미 숫자형으로 인코딩되어 있어 건너뜀\n",
      "검증 배치 55는 이미 숫자형으로 인코딩되어 있어 건너뜀\n",
      "검증 배치 56는 이미 숫자형으로 인코딩되어 있어 건너뜀\n",
      "검증 배치 57는 이미 숫자형으로 인코딩되어 있어 건너뜀\n",
      "검증 배치 58는 이미 숫자형으로 인코딩되어 있어 건너뜀\n",
      "검증 배치 59는 이미 숫자형으로 인코딩되어 있어 건너뜀\n",
      "검증 배치 60는 이미 숫자형으로 인코딩되어 있어 건너뜀\n",
      "검증 배치 61는 이미 숫자형으로 인코딩되어 있어 건너뜀\n",
      "검증 배치 62는 이미 숫자형으로 인코딩되어 있어 건너뜀\n",
      "검증 배치 63는 이미 숫자형으로 인코딩되어 있어 건너뜀\n",
      "검증 배치 64는 이미 숫자형으로 인코딩되어 있어 건너뜀\n",
      "검증 배치 65는 이미 숫자형으로 인코딩되어 있어 건너뜀\n",
      "검증 배치 66는 이미 숫자형으로 인코딩되어 있어 건너뜀\n",
      "검증 배치 67는 이미 숫자형으로 인코딩되어 있어 건너뜀\n",
      "검증 배치 68는 이미 숫자형으로 인코딩되어 있어 건너뜀\n",
      "검증 배치 69는 이미 숫자형으로 인코딩되어 있어 건너뜀\n",
      "검증 배치 70는 이미 숫자형으로 인코딩되어 있어 건너뜀\n",
      "검증 배치 71는 이미 숫자형으로 인코딩되어 있어 건너뜀\n",
      "검증 배치 72는 이미 숫자형으로 인코딩되어 있어 건너뜀\n",
      "검증 배치 73는 이미 숫자형으로 인코딩되어 있어 건너뜀\n",
      "검증 배치 74는 이미 숫자형으로 인코딩되어 있어 건너뜀\n",
      "검증 배치 75는 이미 숫자형으로 인코딩되어 있어 건너뜀\n",
      "검증 배치 76는 이미 숫자형으로 인코딩되어 있어 건너뜀\n",
      "검증 배치 77는 이미 숫자형으로 인코딩되어 있어 건너뜀\n",
      "검증 배치 78는 이미 숫자형으로 인코딩되어 있어 건너뜀\n",
      "검증 배치 79는 이미 숫자형으로 인코딩되어 있어 건너뜀\n",
      "검증 배치 80는 이미 숫자형으로 인코딩되어 있어 건너뜀\n",
      "검증 배치 81는 이미 숫자형으로 인코딩되어 있어 건너뜀\n",
      "검증 배치 82는 이미 숫자형으로 인코딩되어 있어 건너뜀\n",
      "검증 배치 83는 이미 숫자형으로 인코딩되어 있어 건너뜀\n",
      "검증 배치 84는 이미 숫자형으로 인코딩되어 있어 건너뜀\n",
      "검증 배치 85는 이미 숫자형으로 인코딩되어 있어 건너뜀\n",
      "검증 배치 86는 이미 숫자형으로 인코딩되어 있어 건너뜀\n",
      "검증 배치 87는 이미 숫자형으로 인코딩되어 있어 건너뜀\n",
      "검증 배치 88는 이미 숫자형으로 인코딩되어 있어 건너뜀\n",
      "검증 배치 89는 이미 숫자형으로 인코딩되어 있어 건너뜀\n",
      "검증 배치 90는 이미 숫자형으로 인코딩되어 있어 건너뜀\n",
      "검증 배치 91는 이미 숫자형으로 인코딩되어 있어 건너뜀\n",
      "검증 배치 92는 이미 숫자형으로 인코딩되어 있어 건너뜀\n",
      "검증 배치 93는 이미 숫자형으로 인코딩되어 있어 건너뜀\n",
      "검증 배치 94는 이미 숫자형으로 인코딩되어 있어 건너뜀\n",
      "검증 배치 95는 이미 숫자형으로 인코딩되어 있어 건너뜀\n",
      "검증 배치 96는 이미 숫자형으로 인코딩되어 있어 건너뜀\n",
      "검증 배치 97는 이미 숫자형으로 인코딩되어 있어 건너뜀\n",
      "검증 배치 98는 이미 숫자형으로 인코딩되어 있어 건너뜀\n",
      "검증 배치 99는 이미 숫자형으로 인코딩되어 있어 건너뜀\n",
      "검증 배치 100는 이미 숫자형으로 인코딩되어 있어 건너뜀\n",
      "검증 배치 101는 이미 숫자형으로 인코딩되어 있어 건너뜀\n",
      "검증 배치 102는 이미 숫자형으로 인코딩되어 있어 건너뜀\n",
      "검증 배치 103는 이미 숫자형으로 인코딩되어 있어 건너뜀\n",
      "검증 배치 104는 이미 숫자형으로 인코딩되어 있어 건너뜀\n",
      "검증 배치 105는 이미 숫자형으로 인코딩되어 있어 건너뜀\n",
      "검증 배치 106는 이미 숫자형으로 인코딩되어 있어 건너뜀\n",
      "검증 배치 107는 이미 숫자형으로 인코딩되어 있어 건너뜀\n",
      "검증 배치 108는 이미 숫자형으로 인코딩되어 있어 건너뜀\n",
      "검증 배치 109는 이미 숫자형으로 인코딩되어 있어 건너뜀\n",
      "검증 배치 110는 이미 숫자형으로 인코딩되어 있어 건너뜀\n",
      "검증 배치 111는 이미 숫자형으로 인코딩되어 있어 건너뜀\n",
      "검증 배치 112는 이미 숫자형으로 인코딩되어 있어 건너뜀\n",
      "검증 배치 113는 이미 숫자형으로 인코딩되어 있어 건너뜀\n",
      "검증 배치 114는 이미 숫자형으로 인코딩되어 있어 건너뜀\n",
      "검증 배치 115는 이미 숫자형으로 인코딩되어 있어 건너뜀\n",
      "검증 배치 116는 이미 숫자형으로 인코딩되어 있어 건너뜀\n",
      "검증 배치 117는 이미 숫자형으로 인코딩되어 있어 건너뜀\n",
      "검증 배치 118는 이미 숫자형으로 인코딩되어 있어 건너뜀\n",
      "검증 배치 119는 이미 숫자형으로 인코딩되어 있어 건너뜀\n",
      "검증 배치 120는 이미 숫자형으로 인코딩되어 있어 건너뜀\n",
      "검증 배치 121는 이미 숫자형으로 인코딩되어 있어 건너뜀\n",
      "검증 배치 122는 이미 숫자형으로 인코딩되어 있어 건너뜀\n",
      "검증 배치 123는 이미 숫자형으로 인코딩되어 있어 건너뜀\n",
      "검증 배치 124는 이미 숫자형으로 인코딩되어 있어 건너뜀\n",
      "검증 배치 125는 이미 숫자형으로 인코딩되어 있어 건너뜀\n",
      "검증 배치 126는 이미 숫자형으로 인코딩되어 있어 건너뜀\n",
      "검증 배치 127는 이미 숫자형으로 인코딩되어 있어 건너뜀\n",
      "검증 배치 128는 이미 숫자형으로 인코딩되어 있어 건너뜀\n",
      "검증 배치 129는 이미 숫자형으로 인코딩되어 있어 건너뜀\n",
      "검증 배치 130는 이미 숫자형으로 인코딩되어 있어 건너뜀\n",
      "검증 배치 131는 이미 숫자형으로 인코딩되어 있어 건너뜀\n",
      "검증 배치 132는 이미 숫자형으로 인코딩되어 있어 건너뜀\n",
      "검증 배치 133는 이미 숫자형으로 인코딩되어 있어 건너뜀\n",
      "검증 배치 134는 이미 숫자형으로 인코딩되어 있어 건너뜀\n",
      "검증 배치 135는 이미 숫자형으로 인코딩되어 있어 건너뜀\n",
      "검증 배치 136는 이미 숫자형으로 인코딩되어 있어 건너뜀\n",
      "검증 배치 137는 이미 숫자형으로 인코딩되어 있어 건너뜀\n",
      "검증 배치 138는 이미 숫자형으로 인코딩되어 있어 건너뜀\n",
      "검증 배치 139는 이미 숫자형으로 인코딩되어 있어 건너뜀\n",
      "검증 배치 140는 이미 숫자형으로 인코딩되어 있어 건너뜀\n",
      "검증 배치 141는 이미 숫자형으로 인코딩되어 있어 건너뜀\n",
      "검증 배치 142는 이미 숫자형으로 인코딩되어 있어 건너뜀\n",
      "검증 배치 143는 이미 숫자형으로 인코딩되어 있어 건너뜀\n",
      "검증 배치 144는 이미 숫자형으로 인코딩되어 있어 건너뜀\n",
      "검증 배치 145는 이미 숫자형으로 인코딩되어 있어 건너뜀\n",
      "검증 배치 146는 이미 숫자형으로 인코딩되어 있어 건너뜀\n",
      "검증 배치 147는 이미 숫자형으로 인코딩되어 있어 건너뜀\n",
      "검증 배치 148는 이미 숫자형으로 인코딩되어 있어 건너뜀\n",
      "검증 배치 149는 이미 숫자형으로 인코딩되어 있어 건너뜀\n",
      "검증 배치 150는 이미 숫자형으로 인코딩되어 있어 건너뜀\n",
      "검증 배치 151는 이미 숫자형으로 인코딩되어 있어 건너뜀\n",
      "검증 배치 152는 이미 숫자형으로 인코딩되어 있어 건너뜀\n",
      "검증 배치 153는 이미 숫자형으로 인코딩되어 있어 건너뜀\n",
      "검증 배치 154는 이미 숫자형으로 인코딩되어 있어 건너뜀\n",
      "검증 배치 155는 이미 숫자형으로 인코딩되어 있어 건너뜀\n",
      "검증 배치 156는 이미 숫자형으로 인코딩되어 있어 건너뜀\n",
      "검증 배치 157는 이미 숫자형으로 인코딩되어 있어 건너뜀\n",
      "검증 배치 158는 이미 숫자형으로 인코딩되어 있어 건너뜀\n",
      "검증 배치 159는 이미 숫자형으로 인코딩되어 있어 건너뜀\n",
      "검증 배치 160는 이미 숫자형으로 인코딩되어 있어 건너뜀\n",
      "검증 배치 161는 이미 숫자형으로 인코딩되어 있어 건너뜀\n",
      "검증 배치 162는 이미 숫자형으로 인코딩되어 있어 건너뜀\n",
      "검증 배치 163는 이미 숫자형으로 인코딩되어 있어 건너뜀\n",
      "검증 배치 164는 이미 숫자형으로 인코딩되어 있어 건너뜀\n",
      "검증 배치 165는 이미 숫자형으로 인코딩되어 있어 건너뜀\n",
      "검증 배치 166는 이미 숫자형으로 인코딩되어 있어 건너뜀\n",
      "검증 배치 167는 이미 숫자형으로 인코딩되어 있어 건너뜀\n",
      "검증 배치 168는 이미 숫자형으로 인코딩되어 있어 건너뜀\n",
      "검증 배치 169는 이미 숫자형으로 인코딩되어 있어 건너뜀\n",
      "검증 배치 170는 이미 숫자형으로 인코딩되어 있어 건너뜀\n",
      "검증 배치 171는 이미 숫자형으로 인코딩되어 있어 건너뜀\n",
      "검증 배치 172는 이미 숫자형으로 인코딩되어 있어 건너뜀\n",
      "검증 배치 173는 이미 숫자형으로 인코딩되어 있어 건너뜀\n",
      "검증 배치 174는 이미 숫자형으로 인코딩되어 있어 건너뜀\n",
      "검증 배치 175는 이미 숫자형으로 인코딩되어 있어 건너뜀\n",
      "검증 배치 176는 이미 숫자형으로 인코딩되어 있어 건너뜀\n",
      "검증 배치 177는 이미 숫자형으로 인코딩되어 있어 건너뜀\n",
      "검증 배치 178는 이미 숫자형으로 인코딩되어 있어 건너뜀\n",
      "검증 배치 179는 이미 숫자형으로 인코딩되어 있어 건너뜀\n",
      "검증 배치 180는 이미 숫자형으로 인코딩되어 있어 건너뜀\n",
      "검증 배치 181는 이미 숫자형으로 인코딩되어 있어 건너뜀\n",
      "검증 배치 182는 이미 숫자형으로 인코딩되어 있어 건너뜀\n",
      "검증 배치 183는 이미 숫자형으로 인코딩되어 있어 건너뜀\n",
      "검증 배치 184는 이미 숫자형으로 인코딩되어 있어 건너뜀\n",
      "검증 배치 185는 이미 숫자형으로 인코딩되어 있어 건너뜀\n",
      "검증 배치 186는 이미 숫자형으로 인코딩되어 있어 건너뜀\n",
      "검증 배치 187는 이미 숫자형으로 인코딩되어 있어 건너뜀\n",
      "검증 배치 188는 이미 숫자형으로 인코딩되어 있어 건너뜀\n",
      "검증 배치 189는 이미 숫자형으로 인코딩되어 있어 건너뜀\n",
      "검증 배치 190는 이미 숫자형으로 인코딩되어 있어 건너뜀\n",
      "검증 배치 191는 이미 숫자형으로 인코딩되어 있어 건너뜀\n",
      "검증 배치 192는 이미 숫자형으로 인코딩되어 있어 건너뜀\n",
      "검증 배치 193는 이미 숫자형으로 인코딩되어 있어 건너뜀\n",
      "검증 배치 194는 이미 숫자형으로 인코딩되어 있어 건너뜀\n",
      "검증 배치 195는 이미 숫자형으로 인코딩되어 있어 건너뜀\n",
      "검증 배치 196는 이미 숫자형으로 인코딩되어 있어 건너뜀\n",
      "검증 배치 197는 이미 숫자형으로 인코딩되어 있어 건너뜀\n",
      "검증 배치 198는 이미 숫자형으로 인코딩되어 있어 건너뜀\n",
      "검증 배치 199는 이미 숫자형으로 인코딩되어 있어 건너뜀\n",
      "검증 배치 200는 이미 숫자형으로 인코딩되어 있어 건너뜀\n",
      "검증 배치 201는 이미 숫자형으로 인코딩되어 있어 건너뜀\n",
      "검증 배치 202는 이미 숫자형으로 인코딩되어 있어 건너뜀\n",
      "검증 배치 203는 이미 숫자형으로 인코딩되어 있어 건너뜀\n",
      "검증 배치 204는 이미 숫자형으로 인코딩되어 있어 건너뜀\n",
      "검증 배치 205는 이미 숫자형으로 인코딩되어 있어 건너뜀\n",
      "검증 배치 206는 이미 숫자형으로 인코딩되어 있어 건너뜀\n",
      "검증 배치 207는 이미 숫자형으로 인코딩되어 있어 건너뜀\n",
      "검증 배치 208는 이미 숫자형으로 인코딩되어 있어 건너뜀\n",
      "검증 배치 209는 이미 숫자형으로 인코딩되어 있어 건너뜀\n",
      "검증 배치 210는 이미 숫자형으로 인코딩되어 있어 건너뜀\n",
      "검증 배치 211는 이미 숫자형으로 인코딩되어 있어 건너뜀\n",
      "검증 배치 212는 이미 숫자형으로 인코딩되어 있어 건너뜀\n",
      "검증 배치 213는 이미 숫자형으로 인코딩되어 있어 건너뜀\n",
      "검증 배치 214는 이미 숫자형으로 인코딩되어 있어 건너뜀\n",
      "검증 배치 215는 이미 숫자형으로 인코딩되어 있어 건너뜀\n",
      "검증 배치 216는 이미 숫자형으로 인코딩되어 있어 건너뜀\n",
      "검증 배치 217는 이미 숫자형으로 인코딩되어 있어 건너뜀\n",
      "검증 배치 218는 이미 숫자형으로 인코딩되어 있어 건너뜀\n",
      "검증 배치 219는 이미 숫자형으로 인코딩되어 있어 건너뜀\n",
      "검증 배치 220는 이미 숫자형으로 인코딩되어 있어 건너뜀\n",
      "검증 배치 221는 이미 숫자형으로 인코딩되어 있어 건너뜀\n",
      "검증 배치 222는 이미 숫자형으로 인코딩되어 있어 건너뜀\n",
      "검증 배치 223는 이미 숫자형으로 인코딩되어 있어 건너뜀\n",
      "검증 배치 224는 이미 숫자형으로 인코딩되어 있어 건너뜀\n",
      "검증 배치 225는 이미 숫자형으로 인코딩되어 있어 건너뜀\n",
      "검증 배치 226는 이미 숫자형으로 인코딩되어 있어 건너뜀\n",
      "검증 배치 227는 이미 숫자형으로 인코딩되어 있어 건너뜀\n",
      "검증 배치 228는 이미 숫자형으로 인코딩되어 있어 건너뜀\n",
      "검증 배치 229는 이미 숫자형으로 인코딩되어 있어 건너뜀\n",
      "검증 배치 230는 이미 숫자형으로 인코딩되어 있어 건너뜀\n",
      "검증 배치 231는 이미 숫자형으로 인코딩되어 있어 건너뜀\n",
      "검증 배치 232는 이미 숫자형으로 인코딩되어 있어 건너뜀\n",
      "검증 배치 233는 이미 숫자형으로 인코딩되어 있어 건너뜀\n",
      "검증 배치 234는 이미 숫자형으로 인코딩되어 있어 건너뜀\n",
      "검증 배치 235는 이미 숫자형으로 인코딩되어 있어 건너뜀\n",
      "검증 배치 236는 이미 숫자형으로 인코딩되어 있어 건너뜀\n",
      "검증 배치 237는 이미 숫자형으로 인코딩되어 있어 건너뜀\n",
      "검증 배치 238는 이미 숫자형으로 인코딩되어 있어 건너뜀\n",
      "검증 배치 239는 이미 숫자형으로 인코딩되어 있어 건너뜀\n",
      "검증 배치 240는 이미 숫자형으로 인코딩되어 있어 건너뜀\n",
      "검증 배치 241는 이미 숫자형으로 인코딩되어 있어 건너뜀\n",
      "검증 배치 242는 이미 숫자형으로 인코딩되어 있어 건너뜀\n",
      "검증 배치 243는 이미 숫자형으로 인코딩되어 있어 건너뜀\n",
      "검증 배치 244는 이미 숫자형으로 인코딩되어 있어 건너뜀\n",
      "검증 배치 245는 이미 숫자형으로 인코딩되어 있어 건너뜀\n",
      "검증 배치 246는 이미 숫자형으로 인코딩되어 있어 건너뜀\n",
      "검증 배치 247는 이미 숫자형으로 인코딩되어 있어 건너뜀\n",
      "검증 배치 248는 이미 숫자형으로 인코딩되어 있어 건너뜀\n",
      "검증 배치 249는 이미 숫자형으로 인코딩되어 있어 건너뜀\n",
      "검증 배치 250는 이미 숫자형으로 인코딩되어 있어 건너뜀\n",
      "검증 배치 251는 이미 숫자형으로 인코딩되어 있어 건너뜀\n",
      "검증 배치 252는 이미 숫자형으로 인코딩되어 있어 건너뜀\n",
      "검증 배치 253는 이미 숫자형으로 인코딩되어 있어 건너뜀\n",
      "검증 배치 254는 이미 숫자형으로 인코딩되어 있어 건너뜀\n",
      "검증 배치 255는 이미 숫자형으로 인코딩되어 있어 건너뜀\n",
      "검증 배치 256는 이미 숫자형으로 인코딩되어 있어 건너뜀\n",
      "검증 배치 257는 이미 숫자형으로 인코딩되어 있어 건너뜀\n",
      "검증 배치 258는 이미 숫자형으로 인코딩되어 있어 건너뜀\n",
      "검증 배치 259는 이미 숫자형으로 인코딩되어 있어 건너뜀\n",
      "검증 배치 260는 이미 숫자형으로 인코딩되어 있어 건너뜀\n",
      "검증 배치 261는 이미 숫자형으로 인코딩되어 있어 건너뜀\n",
      "검증 배치 262는 이미 숫자형으로 인코딩되어 있어 건너뜀\n",
      "검증 배치 263는 이미 숫자형으로 인코딩되어 있어 건너뜀\n",
      "검증 배치 264는 이미 숫자형으로 인코딩되어 있어 건너뜀\n",
      "검증 배치 265는 이미 숫자형으로 인코딩되어 있어 건너뜀\n",
      "검증 배치 266는 이미 숫자형으로 인코딩되어 있어 건너뜀\n",
      "검증 배치 267는 이미 숫자형으로 인코딩되어 있어 건너뜀\n",
      "검증 배치 268는 이미 숫자형으로 인코딩되어 있어 건너뜀\n",
      "검증 배치 269는 이미 숫자형으로 인코딩되어 있어 건너뜀\n",
      "검증 배치 270는 이미 숫자형으로 인코딩되어 있어 건너뜀\n",
      "검증 배치 271는 이미 숫자형으로 인코딩되어 있어 건너뜀\n",
      "검증 배치 272는 이미 숫자형으로 인코딩되어 있어 건너뜀\n",
      "검증 배치 273는 이미 숫자형으로 인코딩되어 있어 건너뜀\n",
      "검증 배치 274는 이미 숫자형으로 인코딩되어 있어 건너뜀\n",
      "검증 배치 275는 이미 숫자형으로 인코딩되어 있어 건너뜀\n",
      "검증 배치 276는 이미 숫자형으로 인코딩되어 있어 건너뜀\n",
      "검증 배치 277는 이미 숫자형으로 인코딩되어 있어 건너뜀\n",
      "검증 배치 278는 이미 숫자형으로 인코딩되어 있어 건너뜀\n",
      "검증 배치 279는 이미 숫자형으로 인코딩되어 있어 건너뜀\n",
      "검증 배치 280는 이미 숫자형으로 인코딩되어 있어 건너뜀\n",
      "검증 배치 281는 이미 숫자형으로 인코딩되어 있어 건너뜀\n",
      "검증 배치 282는 이미 숫자형으로 인코딩되어 있어 건너뜀\n",
      "검증 배치 283는 이미 숫자형으로 인코딩되어 있어 건너뜀\n",
      "검증 배치 284는 이미 숫자형으로 인코딩되어 있어 건너뜀\n",
      "검증 배치 285는 이미 숫자형으로 인코딩되어 있어 건너뜀\n",
      "검증 배치 286는 이미 숫자형으로 인코딩되어 있어 건너뜀\n",
      "검증 배치 287는 이미 숫자형으로 인코딩되어 있어 건너뜀\n",
      "검증 배치 288는 이미 숫자형으로 인코딩되어 있어 건너뜀\n",
      "검증 배치 289는 이미 숫자형으로 인코딩되어 있어 건너뜀\n",
      "검증 배치 290는 이미 숫자형으로 인코딩되어 있어 건너뜀\n",
      "검증 배치 291는 이미 숫자형으로 인코딩되어 있어 건너뜀\n",
      "검증 배치 292는 이미 숫자형으로 인코딩되어 있어 건너뜀\n",
      "검증 배치 293는 이미 숫자형으로 인코딩되어 있어 건너뜀\n",
      "검증 배치 294는 이미 숫자형으로 인코딩되어 있어 건너뜀\n",
      "검증 배치 295는 이미 숫자형으로 인코딩되어 있어 건너뜀\n",
      "검증 배치 296는 이미 숫자형으로 인코딩되어 있어 건너뜀\n",
      "검증 배치 297는 이미 숫자형으로 인코딩되어 있어 건너뜀\n",
      "검증 배치 298는 이미 숫자형으로 인코딩되어 있어 건너뜀\n",
      "검증 배치 299는 이미 숫자형으로 인코딩되어 있어 건너뜀\n",
      "검증 배치 300는 이미 숫자형으로 인코딩되어 있어 건너뜀\n",
      "검증용 레이블 인코딩 완료\n"
     ]
    }
   ],
   "source": [
    "import os\n",
    "import numpy as np\n",
    "import pickle\n",
    "from sklearn.preprocessing import LabelEncoder\n",
    "from tqdm import tqdm\n",
    "\n",
    "# 경로 설정\n",
    "train_label_dir = \"/media/usou/PortableSSD/mldl_project/data4class_batches\"\n",
    "val_label_dir = \"/media/usou/PortableSSD/mldl_project/data4class_val_batches\"\n",
    "encoder_save_path = os.path.join(train_label_dir, \"voice_label_encoder.pkl\")\n",
    "\n",
    "# 학습용 레이블 로딩\n",
    "label_files = sorted([\n",
    "    f for f in os.listdir(train_label_dir)\n",
    "    if f.startswith(\"label_batch_\") and f.endswith(\".npy\")\n",
    "])\n",
    "\n",
    "all_labels = []\n",
    "label_batches = []\n",
    "\n",
    "for f in tqdm(label_files, desc=\"학습 레이블 수집\"):\n",
    "    labels = np.load(os.path.join(train_label_dir, f), allow_pickle=True)\n",
    "    label_batches.append(labels)\n",
    "    all_labels.extend(labels)\n",
    "\n",
    "# LabelEncoder 학습 및 저장\n",
    "label_encoder = LabelEncoder()\n",
    "label_encoder.fit(all_labels)\n",
    "\n",
    "with open(encoder_save_path, \"wb\") as f:\n",
    "    pickle.dump(label_encoder, f)\n",
    "\n",
    "print(\"LabelEncoder 저장 완료:\", encoder_save_path)\n",
    "print(\"클래스 목록:\", label_encoder.classes_)\n",
    "\n",
    "# 학습용 인코딩 저장\n",
    "for i, labels in enumerate(label_batches):\n",
    "    encoded = label_encoder.transform(labels)\n",
    "    np.save(os.path.join(train_label_dir, f\"label_batch_{i}.npy\"), encoded)\n",
    "\n",
    "print(\"학습용 레이블 인코딩 완료\")\n",
    "\n",
    "# 검증용 인코딩\n",
    "val_label_files = sorted([\n",
    "    f for f in os.listdir(val_label_dir)\n",
    "    if f.startswith(\"label_val_batch_\") and f.endswith(\".npy\")\n",
    "])\n",
    "\n",
    "for i, f in enumerate(val_label_files):\n",
    "    path = os.path.join(val_label_dir, f)\n",
    "    labels = np.load(path, allow_pickle=True)\n",
    "\n",
    "    # 배열 전체의 dtype으로 판단 (보다 안전하게 처리)\n",
    "    if np.issubdtype(labels.dtype, np.str_):\n",
    "        try:\n",
    "            encoded = label_encoder.transform(labels)\n",
    "            np.save(path, encoded)\n",
    "        except Exception as e:\n",
    "            print(f\"⚠️ 검증 배치 {i} 인코딩 중 오류 발생: {e}\")\n",
    "    else:\n",
    "        print(f\"검증 배치 {i}는 이미 숫자형으로 인코딩되어 있어 건너뜀\")\n",
    "\n",
    "print(\"검증용 레이블 인코딩 완료\")\n"
   ]
  },
  {
   "cell_type": "markdown",
   "metadata": {},
   "source": [
    "# 라이브러리 및 하이퍼 파라미터 설정"
   ]
  },
  {
   "cell_type": "code",
   "execution_count": 5,
   "metadata": {},
   "outputs": [],
   "source": [
    "import os\n",
    "import numpy as np\n",
    "import tensorflow as tf\n",
    "from tensorflow.keras import layers, models\n",
    "from tensorflow.keras.callbacks import EarlyStopping, ModelCheckpoint\n",
    "import glob\n",
    "\n",
    "# GPU 메모리 과도할당 방지 설정\n",
    "# GPU 메모리를 사용할 만큼만 점진적으로 할당하도록 설정하여 OOM 방지\n",
    "os.environ['TF_FORCE_GPU_ALLOW_GROWTH'] = 'true'\n",
    "\n",
    "# 하이퍼파라미터 설정\n",
    "BATCH_SIZE = 64           # 한 배치에 들어가는 샘플 수\n",
    "EPOCHS = 300              # 학습 반복 횟수\n",
    "PATIENCE = 30             # EarlyStopping이 참조할 patience 값\n",
    "\n",
    "# 데이터 디렉토리 경로 설정\n",
    "train_dir = \"/media/usou/PortableSSD/mldl_project/data4class_batches\"           # 학습 데이터 배치 경로\n",
    "val_dir = \"/media/usou/PortableSSD/mldl_project/data4class_val_batches\"         # 검증 데이터 배치 경로\n",
    "\n",
    "# 모델 저장 경로 설정\n",
    "checkpoint_path = \"/media/usou/PortableSSD/mldl_project/model_ckpt/best_model_voice_emotion_analysis.keras\"\n"
   ]
  },
  {
   "cell_type": "markdown",
   "metadata": {},
   "source": [
    "## TensorFlow CNN 모델 정의 및 컴파일"
   ]
  },
  {
   "cell_type": "code",
   "execution_count": 6,
   "metadata": {},
   "outputs": [
    {
     "name": "stderr",
     "output_type": "stream",
     "text": [
      "/home/usou/dev_ws/superbad/deeplearning-repo-3/dolbom_venv/lib/python3.12/site-packages/keras/src/layers/convolutional/base_conv.py:107: UserWarning: Do not pass an `input_shape`/`input_dim` argument to a layer. When using Sequential models, prefer using an `Input(shape)` object as the first layer in the model instead.\n",
      "  super().__init__(activity_regularizer=activity_regularizer, **kwargs)\n"
     ]
    }
   ],
   "source": [
    "from tensorflow.keras import layers, models\n",
    "\n",
    "def build_cnn_model(input_shape=(40, 300, 1), num_classes=4):\n",
    "    \"\"\"\n",
    "    CNN 기반 음성 감정 분류 모델을 정의합니다.\n",
    "\n",
    "    Parameters:\n",
    "        input_shape (tuple): 입력 데이터 형태 (MFCC의 높이, 너비, 채널 수)\n",
    "        num_classes (int): 분류할 감정 클래스 수\n",
    "\n",
    "    Returns:\n",
    "        model (tf.keras.Model): 컴파일된 CNN 모델\n",
    "    \"\"\"\n",
    "    model = models.Sequential()\n",
    "\n",
    "    # 첫 번째 컨볼루션 블록\n",
    "    model.add(layers.Conv2D(32, (3, 3), activation='relu', padding='same', input_shape=input_shape))\n",
    "    model.add(layers.BatchNormalization())\n",
    "    model.add(layers.MaxPooling2D((2, 2)))\n",
    "\n",
    "    # 두 번째 컨볼루션 블록\n",
    "    model.add(layers.Conv2D(64, (3, 3), activation='relu', padding='same'))\n",
    "    model.add(layers.BatchNormalization())\n",
    "    model.add(layers.MaxPooling2D((2, 2)))\n",
    "\n",
    "    # 세 번째 컨볼루션 블록\n",
    "    model.add(layers.Conv2D(128, (3, 3), activation='relu', padding='same'))\n",
    "    model.add(layers.BatchNormalization())\n",
    "    model.add(layers.MaxPooling2D((2, 2)))\n",
    "\n",
    "    # 완전 연결층\n",
    "    model.add(layers.Flatten())\n",
    "    model.add(layers.Dense(128, activation='relu'))\n",
    "    model.add(layers.Dropout(0.5))  # 과적합 방지용 드롭아웃\n",
    "    model.add(layers.Dense(num_classes, activation='softmax'))\n",
    "\n",
    "    # 모델 컴파일\n",
    "    model.compile(optimizer='adam',\n",
    "                  loss='sparse_categorical_crossentropy',\n",
    "                  metrics=['accuracy'])\n",
    "\n",
    "    return model\n",
    "\n",
    "# 모델 생성\n",
    "model = build_cnn_model()\n"
   ]
  },
  {
   "cell_type": "markdown",
   "metadata": {},
   "source": [
    "## 학습용 데이터 제너레이터 정의"
   ]
  },
  {
   "cell_type": "code",
   "execution_count": 7,
   "metadata": {},
   "outputs": [],
   "source": [
    "import glob\n",
    "import numpy as np\n",
    "import os\n",
    "\n",
    "def data_generator(mfcc_dir, label_dir, batch_size):\n",
    "    \"\"\"\n",
    "    학습 데이터를 배치 단위로 로드하는 제너레이터 함수입니다.\n",
    "\n",
    "    Parameters:\n",
    "        mfcc_dir (str): MFCC 배치 파일 디렉토리\n",
    "        label_dir (str): 라벨 배치 파일 디렉토리\n",
    "        batch_size (int): 배치 크기\n",
    "\n",
    "    Yields:\n",
    "        Tuple of (x_batch, y_batch): 배치 단위의 입력과 정답\n",
    "    \"\"\"\n",
    "    mfcc_files = sorted(glob.glob(os.path.join(mfcc_dir, \"mfcc_batch_*.npy\")))\n",
    "    label_files = sorted(glob.glob(os.path.join(label_dir, \"label_batch_*.npy\")))\n",
    "\n",
    "    while True:\n",
    "        for mfcc_file, label_file in zip(mfcc_files, label_files):\n",
    "            x = np.load(mfcc_file)\n",
    "            y = np.load(label_file)\n",
    "\n",
    "            # 데이터 길이 맞추기 (불일치 방지)\n",
    "            min_len = min(len(x), len(y))\n",
    "            x = x[:min_len]\n",
    "            y = y[:min_len]\n",
    "\n",
    "            # 채널 차원 추가\n",
    "            x = x[..., np.newaxis]  # (batch, 40, 300, 1)\n",
    "\n",
    "            for i in range(0, min_len, batch_size):\n",
    "                yield x[i:i+batch_size], y[i:i+batch_size]\n"
   ]
  },
  {
   "cell_type": "markdown",
   "metadata": {},
   "source": [
    "## 검증 데이터 로딩"
   ]
  },
  {
   "cell_type": "code",
   "execution_count": 8,
   "metadata": {},
   "outputs": [
    {
     "name": "stdout",
     "output_type": "stream",
     "text": [
      "검증 데이터 shape: (3000, 40, 300, 1) (3000,)\n"
     ]
    }
   ],
   "source": [
    "import glob\n",
    "\n",
    "# 셀 4. 안정적인 검증 데이터 로딩\n",
    "\n",
    "val_mfcc_files = sorted(glob.glob(os.path.join(val_dir, \"mfcc_val_batch_*.npy\")))\n",
    "val_label_files = sorted(glob.glob(os.path.join(val_dir, \"label_val_batch_*.npy\")))\n",
    "\n",
    "val_x_list, val_y_list = [], []\n",
    "\n",
    "# 너무 많은 파일을 한 번에 로드하지 않도록 제한\n",
    "max_files = 3  # 우선 3개 파일로 테스트 → 점진적으로 늘릴 수 있음\n",
    "\n",
    "for mfcc_file, label_file in zip(val_mfcc_files[:max_files], val_label_files[:max_files]):\n",
    "    x = np.load(mfcc_file, mmap_mode='r')[..., np.newaxis]  # 메모리 매핑으로 로딩 효율 개선\n",
    "    y = np.load(label_file, allow_pickle=True)\n",
    "    \n",
    "    val_x_list.append(x)\n",
    "    val_y_list.append(y)\n",
    "\n",
    "val_x = np.concatenate(val_x_list, axis=0)\n",
    "val_y = np.concatenate(val_y_list, axis=0)\n",
    "\n",
    "print(\"검증 데이터 shape:\", val_x.shape, val_y.shape)\n"
   ]
  },
  {
   "cell_type": "markdown",
   "metadata": {},
   "source": [
    "## 모델 학습"
   ]
  },
  {
   "cell_type": "code",
   "execution_count": 9,
   "metadata": {},
   "outputs": [
    {
     "name": "stdout",
     "output_type": "stream",
     "text": [
      "Epoch 1/300\n"
     ]
    },
    {
     "name": "stderr",
     "output_type": "stream",
     "text": [
      "WARNING: All log messages before absl::InitializeLog() is called are written to STDERR\n",
      "I0000 00:00:1743682332.209154   26837 service.cc:152] XLA service 0x7fd1dc002220 initialized for platform CUDA (this does not guarantee that XLA will be used). Devices:\n",
      "I0000 00:00:1743682332.209578   26837 service.cc:160]   StreamExecutor device (0): NVIDIA GeForce RTX 2060, Compute Capability 7.5\n",
      "2025-04-03 21:12:12.298548: I tensorflow/compiler/mlir/tensorflow/utils/dump_mlir_util.cc:269] disabling MLIR crash reproducer, set env var `MLIR_CRASH_REPRODUCER_DIRECTORY` to enable.\n",
      "I0000 00:00:1743682332.669803   26837 cuda_dnn.cc:529] Loaded cuDNN version 90800\n",
      "2025-04-03 21:12:13.096315: I external/local_xla/xla/service/gpu/autotuning/conv_algorithm_picker.cc:549] Omitted potentially buggy algorithm eng14{k25=2} for conv %cudnn-conv-bias-activation.9 = (f32[64,32,40,300]{3,2,1,0}, u8[0]{0}) custom-call(f32[64,1,40,300]{3,2,1,0} %bitcast.6075, f32[32,1,3,3]{3,2,1,0} %bitcast.6082, f32[32]{0} %bitcast.7058), window={size=3x3 pad=1_1x1_1}, dim_labels=bf01_oi01->bf01, custom_call_target=\"__cudnn$convBiasActivationForward\", metadata={op_type=\"Conv2D\" op_name=\"sequential_1/conv2d_1/convolution\" source_file=\"/home/usou/dev_ws/superbad/deeplearning-repo-3/dolbom_venv/lib/python3.12/site-packages/tensorflow/python/framework/ops.py\" source_line=1200}, backend_config={\"operation_queue_id\":\"0\",\"wait_on_operation_queues\":[],\"cudnn_conv_backend_config\":{\"conv_result_scale\":1,\"activation_mode\":\"kNone\",\"side_input_scale\":0,\"leakyrelu_alpha\":0},\"force_earliest_schedule\":false}\n",
      "2025-04-03 21:12:13.184354: I external/local_xla/xla/service/gpu/autotuning/conv_algorithm_picker.cc:549] Omitted potentially buggy algorithm eng14{k25=2} for conv %cudnn-conv-bias-activation.10 = (f32[64,64,20,150]{3,2,1,0}, u8[0]{0}) custom-call(f32[64,32,20,150]{3,2,1,0} %bitcast.7223, f32[64,32,3,3]{3,2,1,0} %bitcast.6157, f32[64]{0} %bitcast.7283), window={size=3x3 pad=1_1x1_1}, dim_labels=bf01_oi01->bf01, custom_call_target=\"__cudnn$convBiasActivationForward\", metadata={op_type=\"Conv2D\" op_name=\"sequential_1/conv2d_1_2/convolution\" source_file=\"/home/usou/dev_ws/superbad/deeplearning-repo-3/dolbom_venv/lib/python3.12/site-packages/tensorflow/python/framework/ops.py\" source_line=1200}, backend_config={\"operation_queue_id\":\"0\",\"wait_on_operation_queues\":[],\"cudnn_conv_backend_config\":{\"conv_result_scale\":1,\"activation_mode\":\"kNone\",\"side_input_scale\":0,\"leakyrelu_alpha\":0},\"force_earliest_schedule\":false}\n",
      "2025-04-03 21:12:13.569306: I external/local_xla/xla/service/gpu/autotuning/conv_algorithm_picker.cc:549] Omitted potentially buggy algorithm eng14{k25=2} for conv %cudnn-conv-bias-activation.11 = (f32[64,128,10,75]{3,2,1,0}, u8[0]{0}) custom-call(f32[64,64,10,75]{3,2,1,0} %bitcast.7449, f32[128,64,3,3]{3,2,1,0} %bitcast.6232, f32[128]{0} %bitcast.7509), window={size=3x3 pad=1_1x1_1}, dim_labels=bf01_oi01->bf01, custom_call_target=\"__cudnn$convBiasActivationForward\", metadata={op_type=\"Conv2D\" op_name=\"sequential_1/conv2d_2_1/convolution\" source_file=\"/home/usou/dev_ws/superbad/deeplearning-repo-3/dolbom_venv/lib/python3.12/site-packages/tensorflow/python/framework/ops.py\" source_line=1200}, backend_config={\"operation_queue_id\":\"0\",\"wait_on_operation_queues\":[],\"cudnn_conv_backend_config\":{\"conv_result_scale\":1,\"activation_mode\":\"kNone\",\"side_input_scale\":0,\"leakyrelu_alpha\":0},\"force_earliest_schedule\":false}\n",
      "2025-04-03 21:12:14.212689: E external/local_xla/xla/stream_executor/cuda/cuda_timer.cc:86] Delay kernel timed out: measured time has sub-optimal accuracy. There may be a missing warmup execution, please investigate in Nsight Systems.\n",
      "2025-04-03 21:12:14.379634: E external/local_xla/xla/stream_executor/cuda/cuda_timer.cc:86] Delay kernel timed out: measured time has sub-optimal accuracy. There may be a missing warmup execution, please investigate in Nsight Systems.\n"
     ]
    },
    {
     "name": "stdout",
     "output_type": "stream",
     "text": [
      "\u001b[1m    5/14089\u001b[0m \u001b[37m━━━━━━━━━━━━━━━━━━━━\u001b[0m \u001b[1m8:36\u001b[0m 37ms/step - accuracy: 0.6218 - loss: 1.2386 "
     ]
    },
    {
     "name": "stderr",
     "output_type": "stream",
     "text": [
      "I0000 00:00:1743682337.550856   26837 device_compiler.h:188] Compiled cluster using XLA!  This line is logged at most once for the lifetime of the process.\n"
     ]
    },
    {
     "name": "stdout",
     "output_type": "stream",
     "text": [
      "\u001b[1m   15/14089\u001b[0m \u001b[37m━━━━━━━━━━━━━━━━━━━━\u001b[0m \u001b[1m7:25\u001b[0m 32ms/step - accuracy: 0.8168 - loss: 0.6000"
     ]
    },
    {
     "name": "stderr",
     "output_type": "stream",
     "text": [
      "2025-04-03 21:12:18.649738: I external/local_xla/xla/service/gpu/autotuning/conv_algorithm_picker.cc:549] Omitted potentially buggy algorithm eng14{k25=2} for conv %cudnn-conv-bias-activation.9 = (f32[42,32,40,300]{3,2,1,0}, u8[0]{0}) custom-call(f32[42,1,40,300]{3,2,1,0} %bitcast.6075, f32[32,1,3,3]{3,2,1,0} %bitcast.6082, f32[32]{0} %bitcast.7058), window={size=3x3 pad=1_1x1_1}, dim_labels=bf01_oi01->bf01, custom_call_target=\"__cudnn$convBiasActivationForward\", metadata={op_type=\"Conv2D\" op_name=\"sequential_1/conv2d_1/convolution\" source_file=\"/home/usou/dev_ws/superbad/deeplearning-repo-3/dolbom_venv/lib/python3.12/site-packages/tensorflow/python/framework/ops.py\" source_line=1200}, backend_config={\"operation_queue_id\":\"0\",\"wait_on_operation_queues\":[],\"cudnn_conv_backend_config\":{\"conv_result_scale\":1,\"activation_mode\":\"kNone\",\"side_input_scale\":0,\"leakyrelu_alpha\":0},\"force_earliest_schedule\":false}\n",
      "2025-04-03 21:12:18.662184: I external/local_xla/xla/service/gpu/autotuning/conv_algorithm_picker.cc:549] Omitted potentially buggy algorithm eng14{k25=2} for conv %cudnn-conv-bias-activation.10 = (f32[42,64,20,150]{3,2,1,0}, u8[0]{0}) custom-call(f32[42,32,20,150]{3,2,1,0} %bitcast.7223, f32[64,32,3,3]{3,2,1,0} %bitcast.6157, f32[64]{0} %bitcast.7283), window={size=3x3 pad=1_1x1_1}, dim_labels=bf01_oi01->bf01, custom_call_target=\"__cudnn$convBiasActivationForward\", metadata={op_type=\"Conv2D\" op_name=\"sequential_1/conv2d_1_2/convolution\" source_file=\"/home/usou/dev_ws/superbad/deeplearning-repo-3/dolbom_venv/lib/python3.12/site-packages/tensorflow/python/framework/ops.py\" source_line=1200}, backend_config={\"operation_queue_id\":\"0\",\"wait_on_operation_queues\":[],\"cudnn_conv_backend_config\":{\"conv_result_scale\":1,\"activation_mode\":\"kNone\",\"side_input_scale\":0,\"leakyrelu_alpha\":0},\"force_earliest_schedule\":false}\n",
      "2025-04-03 21:12:18.922032: I external/local_xla/xla/service/gpu/autotuning/conv_algorithm_picker.cc:549] Omitted potentially buggy algorithm eng14{k25=2} for conv %cudnn-conv-bias-activation.11 = (f32[42,128,10,75]{3,2,1,0}, u8[0]{0}) custom-call(f32[42,64,10,75]{3,2,1,0} %bitcast.7449, f32[128,64,3,3]{3,2,1,0} %bitcast.6232, f32[128]{0} %bitcast.7509), window={size=3x3 pad=1_1x1_1}, dim_labels=bf01_oi01->bf01, custom_call_target=\"__cudnn$convBiasActivationForward\", metadata={op_type=\"Conv2D\" op_name=\"sequential_1/conv2d_2_1/convolution\" source_file=\"/home/usou/dev_ws/superbad/deeplearning-repo-3/dolbom_venv/lib/python3.12/site-packages/tensorflow/python/framework/ops.py\" source_line=1200}, backend_config={\"operation_queue_id\":\"0\",\"wait_on_operation_queues\":[],\"cudnn_conv_backend_config\":{\"conv_result_scale\":1,\"activation_mode\":\"kNone\",\"side_input_scale\":0,\"leakyrelu_alpha\":0},\"force_earliest_schedule\":false}\n",
      "2025-04-03 21:12:19.432696: E external/local_xla/xla/stream_executor/cuda/cuda_timer.cc:86] Delay kernel timed out: measured time has sub-optimal accuracy. There may be a missing warmup execution, please investigate in Nsight Systems.\n",
      "2025-04-03 21:12:19.592934: E external/local_xla/xla/stream_executor/cuda/cuda_timer.cc:86] Delay kernel timed out: measured time has sub-optimal accuracy. There may be a missing warmup execution, please investigate in Nsight Systems.\n",
      "2025-04-03 21:12:20.383662: E external/local_xla/xla/stream_executor/cuda/cuda_timer.cc:86] Delay kernel timed out: measured time has sub-optimal accuracy. There may be a missing warmup execution, please investigate in Nsight Systems.\n",
      "2025-04-03 21:12:20.653420: E external/local_xla/xla/stream_executor/cuda/cuda_timer.cc:86] Delay kernel timed out: measured time has sub-optimal accuracy. There may be a missing warmup execution, please investigate in Nsight Systems.\n",
      "2025-04-03 21:12:20.911935: E external/local_xla/xla/stream_executor/cuda/cuda_timer.cc:86] Delay kernel timed out: measured time has sub-optimal accuracy. There may be a missing warmup execution, please investigate in Nsight Systems.\n"
     ]
    },
    {
     "name": "stdout",
     "output_type": "stream",
     "text": [
      "\u001b[1m12765/14089\u001b[0m \u001b[32m━━━━━━━━━━━━━━━━━━\u001b[0m\u001b[37m━━\u001b[0m \u001b[1m37s\u001b[0m 28ms/step - accuracy: 0.4891 - loss: 4.3896"
     ]
    },
    {
     "name": "stderr",
     "output_type": "stream",
     "text": [
      "2025-04-03 21:18:18.906775: I external/local_xla/xla/service/gpu/autotuning/conv_algorithm_picker.cc:549] Omitted potentially buggy algorithm eng14{k25=2} for conv %cudnn-conv-bias-activation.9 = (f32[58,32,40,300]{3,2,1,0}, u8[0]{0}) custom-call(f32[58,1,40,300]{3,2,1,0} %bitcast.6075, f32[32,1,3,3]{3,2,1,0} %bitcast.6082, f32[32]{0} %bitcast.7058), window={size=3x3 pad=1_1x1_1}, dim_labels=bf01_oi01->bf01, custom_call_target=\"__cudnn$convBiasActivationForward\", metadata={op_type=\"Conv2D\" op_name=\"sequential_1/conv2d_1/convolution\" source_file=\"/home/usou/dev_ws/superbad/deeplearning-repo-3/dolbom_venv/lib/python3.12/site-packages/tensorflow/python/framework/ops.py\" source_line=1200}, backend_config={\"operation_queue_id\":\"0\",\"wait_on_operation_queues\":[],\"cudnn_conv_backend_config\":{\"conv_result_scale\":1,\"activation_mode\":\"kNone\",\"side_input_scale\":0,\"leakyrelu_alpha\":0},\"force_earliest_schedule\":false}\n",
      "2025-04-03 21:18:18.940993: I external/local_xla/xla/service/gpu/autotuning/conv_algorithm_picker.cc:549] Omitted potentially buggy algorithm eng14{k25=2} for conv %cudnn-conv-bias-activation.10 = (f32[58,64,20,150]{3,2,1,0}, u8[0]{0}) custom-call(f32[58,32,20,150]{3,2,1,0} %bitcast.7223, f32[64,32,3,3]{3,2,1,0} %bitcast.6157, f32[64]{0} %bitcast.7283), window={size=3x3 pad=1_1x1_1}, dim_labels=bf01_oi01->bf01, custom_call_target=\"__cudnn$convBiasActivationForward\", metadata={op_type=\"Conv2D\" op_name=\"sequential_1/conv2d_1_2/convolution\" source_file=\"/home/usou/dev_ws/superbad/deeplearning-repo-3/dolbom_venv/lib/python3.12/site-packages/tensorflow/python/framework/ops.py\" source_line=1200}, backend_config={\"operation_queue_id\":\"0\",\"wait_on_operation_queues\":[],\"cudnn_conv_backend_config\":{\"conv_result_scale\":1,\"activation_mode\":\"kNone\",\"side_input_scale\":0,\"leakyrelu_alpha\":0},\"force_earliest_schedule\":false}\n",
      "2025-04-03 21:18:19.274469: I external/local_xla/xla/service/gpu/autotuning/conv_algorithm_picker.cc:549] Omitted potentially buggy algorithm eng14{k25=2} for conv %cudnn-conv-bias-activation.11 = (f32[58,128,10,75]{3,2,1,0}, u8[0]{0}) custom-call(f32[58,64,10,75]{3,2,1,0} %bitcast.7449, f32[128,64,3,3]{3,2,1,0} %bitcast.6232, f32[128]{0} %bitcast.7509), window={size=3x3 pad=1_1x1_1}, dim_labels=bf01_oi01->bf01, custom_call_target=\"__cudnn$convBiasActivationForward\", metadata={op_type=\"Conv2D\" op_name=\"sequential_1/conv2d_2_1/convolution\" source_file=\"/home/usou/dev_ws/superbad/deeplearning-repo-3/dolbom_venv/lib/python3.12/site-packages/tensorflow/python/framework/ops.py\" source_line=1200}, backend_config={\"operation_queue_id\":\"0\",\"wait_on_operation_queues\":[],\"cudnn_conv_backend_config\":{\"conv_result_scale\":1,\"activation_mode\":\"kNone\",\"side_input_scale\":0,\"leakyrelu_alpha\":0},\"force_earliest_schedule\":false}\n",
      "2025-04-03 21:18:19.867075: E external/local_xla/xla/stream_executor/cuda/cuda_timer.cc:86] Delay kernel timed out: measured time has sub-optimal accuracy. There may be a missing warmup execution, please investigate in Nsight Systems.\n",
      "2025-04-03 21:18:20.035184: E external/local_xla/xla/stream_executor/cuda/cuda_timer.cc:86] Delay kernel timed out: measured time has sub-optimal accuracy. There may be a missing warmup execution, please investigate in Nsight Systems.\n",
      "2025-04-03 21:18:20.911919: E external/local_xla/xla/stream_executor/cuda/cuda_timer.cc:86] Delay kernel timed out: measured time has sub-optimal accuracy. There may be a missing warmup execution, please investigate in Nsight Systems.\n",
      "2025-04-03 21:18:21.185970: E external/local_xla/xla/stream_executor/cuda/cuda_timer.cc:86] Delay kernel timed out: measured time has sub-optimal accuracy. There may be a missing warmup execution, please investigate in Nsight Systems.\n",
      "2025-04-03 21:18:21.458632: E external/local_xla/xla/stream_executor/cuda/cuda_timer.cc:86] Delay kernel timed out: measured time has sub-optimal accuracy. There may be a missing warmup execution, please investigate in Nsight Systems.\n",
      "2025-04-03 21:18:21.506758: E external/local_xla/xla/service/slow_operation_alarm.cc:73] Trying algorithm eng4{k11=1} for conv %cudnn-conv-bw-input.3 = (f32[58,32,20,150]{3,2,1,0}, u8[0]{0}) custom-call(f32[58,64,20,150]{3,2,1,0} %bitcast.7287, f32[64,32,3,3]{3,2,1,0} %bitcast.6157), window={size=3x3 pad=1_1x1_1}, dim_labels=bf01_oi01->bf01, custom_call_target=\"__cudnn$convBackwardInput\", metadata={op_type=\"Conv2DBackpropInput\" op_name=\"gradient_tape/sequential_1/conv2d_1_2/convolution/Conv2DBackpropInput\" source_file=\"/home/usou/dev_ws/superbad/deeplearning-repo-3/dolbom_venv/lib/python3.12/site-packages/tensorflow/python/framework/ops.py\" source_line=1200}, backend_config={\"operation_queue_id\":\"0\",\"wait_on_operation_queues\":[],\"cudnn_conv_backend_config\":{\"conv_result_scale\":1,\"activation_mode\":\"kNone\",\"side_input_scale\":0,\"leakyrelu_alpha\":0},\"force_earliest_schedule\":false} is taking a while...\n",
      "2025-04-03 21:18:21.729967: E external/local_xla/xla/stream_executor/cuda/cuda_timer.cc:86] Delay kernel timed out: measured time has sub-optimal accuracy. There may be a missing warmup execution, please investigate in Nsight Systems.\n",
      "2025-04-03 21:18:22.004842: E external/local_xla/xla/stream_executor/cuda/cuda_timer.cc:86] Delay kernel timed out: measured time has sub-optimal accuracy. There may be a missing warmup execution, please investigate in Nsight Systems.\n",
      "2025-04-03 21:18:22.274539: E external/local_xla/xla/stream_executor/cuda/cuda_timer.cc:86] Delay kernel timed out: measured time has sub-optimal accuracy. There may be a missing warmup execution, please investigate in Nsight Systems.\n",
      "2025-04-03 21:18:22.550212: E external/local_xla/xla/stream_executor/cuda/cuda_timer.cc:86] Delay kernel timed out: measured time has sub-optimal accuracy. There may be a missing warmup execution, please investigate in Nsight Systems.\n",
      "2025-04-03 21:18:22.820847: E external/local_xla/xla/stream_executor/cuda/cuda_timer.cc:86] Delay kernel timed out: measured time has sub-optimal accuracy. There may be a missing warmup execution, please investigate in Nsight Systems.\n",
      "2025-04-03 21:18:23.093690: E external/local_xla/xla/stream_executor/cuda/cuda_timer.cc:86] Delay kernel timed out: measured time has sub-optimal accuracy. There may be a missing warmup execution, please investigate in Nsight Systems.\n",
      "2025-04-03 21:18:23.366832: E external/local_xla/xla/stream_executor/cuda/cuda_timer.cc:86] Delay kernel timed out: measured time has sub-optimal accuracy. There may be a missing warmup execution, please investigate in Nsight Systems.\n",
      "2025-04-03 21:18:23.383539: E external/local_xla/xla/service/slow_operation_alarm.cc:140] The operation took 2.876351237s\n",
      "Trying algorithm eng4{k11=1} for conv %cudnn-conv-bw-input.3 = (f32[58,32,20,150]{3,2,1,0}, u8[0]{0}) custom-call(f32[58,64,20,150]{3,2,1,0} %bitcast.7287, f32[64,32,3,3]{3,2,1,0} %bitcast.6157), window={size=3x3 pad=1_1x1_1}, dim_labels=bf01_oi01->bf01, custom_call_target=\"__cudnn$convBackwardInput\", metadata={op_type=\"Conv2DBackpropInput\" op_name=\"gradient_tape/sequential_1/conv2d_1_2/convolution/Conv2DBackpropInput\" source_file=\"/home/usou/dev_ws/superbad/deeplearning-repo-3/dolbom_venv/lib/python3.12/site-packages/tensorflow/python/framework/ops.py\" source_line=1200}, backend_config={\"operation_queue_id\":\"0\",\"wait_on_operation_queues\":[],\"cudnn_conv_backend_config\":{\"conv_result_scale\":1,\"activation_mode\":\"kNone\",\"side_input_scale\":0,\"leakyrelu_alpha\":0},\"force_earliest_schedule\":false} is taking a while...\n"
     ]
    },
    {
     "name": "stdout",
     "output_type": "stream",
     "text": [
      "\u001b[1m14089/14089\u001b[0m \u001b[32m━━━━━━━━━━━━━━━━━━━━\u001b[0m\u001b[37m\u001b[0m \u001b[1m0s\u001b[0m 29ms/step - accuracy: 0.4829 - loss: 4.2140"
     ]
    },
    {
     "name": "stderr",
     "output_type": "stream",
     "text": [
      "2025-04-03 21:19:03.321099: I external/local_xla/xla/service/gpu/autotuning/conv_algorithm_picker.cc:549] Omitted potentially buggy algorithm eng14{k25=2} for conv %cudnn-conv-bias-activation.9 = (f32[32,32,40,300]{3,2,1,0}, u8[0]{0}) custom-call(f32[32,1,40,300]{3,2,1,0} %bitcast.658, f32[32,1,3,3]{3,2,1,0} %bitcast.665, f32[32]{0} %bitcast.667), window={size=3x3 pad=1_1x1_1}, dim_labels=bf01_oi01->bf01, custom_call_target=\"__cudnn$convBiasActivationForward\", metadata={op_type=\"Conv2D\" op_name=\"sequential_1/conv2d_1/convolution\" source_file=\"/home/usou/dev_ws/superbad/deeplearning-repo-3/dolbom_venv/lib/python3.12/site-packages/tensorflow/python/framework/ops.py\" source_line=1200}, backend_config={\"operation_queue_id\":\"0\",\"wait_on_operation_queues\":[],\"cudnn_conv_backend_config\":{\"conv_result_scale\":1,\"activation_mode\":\"kRelu\",\"side_input_scale\":0,\"leakyrelu_alpha\":0},\"force_earliest_schedule\":false}\n",
      "2025-04-03 21:19:03.330652: I external/local_xla/xla/service/gpu/autotuning/conv_algorithm_picker.cc:549] Omitted potentially buggy algorithm eng14{k25=2} for conv %cudnn-conv-bias-activation.10 = (f32[32,64,20,150]{3,2,1,0}, u8[0]{0}) custom-call(f32[32,32,20,150]{3,2,1,0} %bitcast.695, f32[64,32,3,3]{3,2,1,0} %bitcast.702, f32[64]{0} %bitcast.704), window={size=3x3 pad=1_1x1_1}, dim_labels=bf01_oi01->bf01, custom_call_target=\"__cudnn$convBiasActivationForward\", metadata={op_type=\"Conv2D\" op_name=\"sequential_1/conv2d_1_2/convolution\" source_file=\"/home/usou/dev_ws/superbad/deeplearning-repo-3/dolbom_venv/lib/python3.12/site-packages/tensorflow/python/framework/ops.py\" source_line=1200}, backend_config={\"operation_queue_id\":\"0\",\"wait_on_operation_queues\":[],\"cudnn_conv_backend_config\":{\"conv_result_scale\":1,\"activation_mode\":\"kRelu\",\"side_input_scale\":0,\"leakyrelu_alpha\":0},\"force_earliest_schedule\":false}\n",
      "2025-04-03 21:19:03.527905: I external/local_xla/xla/service/gpu/autotuning/conv_algorithm_picker.cc:549] Omitted potentially buggy algorithm eng14{k25=2} for conv %cudnn-conv-bias-activation.11 = (f32[32,128,10,75]{3,2,1,0}, u8[0]{0}) custom-call(f32[32,64,10,75]{3,2,1,0} %bitcast.732, f32[128,64,3,3]{3,2,1,0} %bitcast.739, f32[128]{0} %bitcast.741), window={size=3x3 pad=1_1x1_1}, dim_labels=bf01_oi01->bf01, custom_call_target=\"__cudnn$convBiasActivationForward\", metadata={op_type=\"Conv2D\" op_name=\"sequential_1/conv2d_2_1/convolution\" source_file=\"/home/usou/dev_ws/superbad/deeplearning-repo-3/dolbom_venv/lib/python3.12/site-packages/tensorflow/python/framework/ops.py\" source_line=1200}, backend_config={\"operation_queue_id\":\"0\",\"wait_on_operation_queues\":[],\"cudnn_conv_backend_config\":{\"conv_result_scale\":1,\"activation_mode\":\"kRelu\",\"side_input_scale\":0,\"leakyrelu_alpha\":0},\"force_earliest_schedule\":false}\n",
      "2025-04-03 21:19:04.471919: I external/local_xla/xla/service/gpu/autotuning/conv_algorithm_picker.cc:549] Omitted potentially buggy algorithm eng14{k25=2} for conv %cudnn-conv-bias-activation.9 = (f32[24,32,40,300]{3,2,1,0}, u8[0]{0}) custom-call(f32[24,1,40,300]{3,2,1,0} %bitcast.658, f32[32,1,3,3]{3,2,1,0} %bitcast.665, f32[32]{0} %bitcast.667), window={size=3x3 pad=1_1x1_1}, dim_labels=bf01_oi01->bf01, custom_call_target=\"__cudnn$convBiasActivationForward\", metadata={op_type=\"Conv2D\" op_name=\"sequential_1/conv2d_1/convolution\" source_file=\"/home/usou/dev_ws/superbad/deeplearning-repo-3/dolbom_venv/lib/python3.12/site-packages/tensorflow/python/framework/ops.py\" source_line=1200}, backend_config={\"operation_queue_id\":\"0\",\"wait_on_operation_queues\":[],\"cudnn_conv_backend_config\":{\"conv_result_scale\":1,\"activation_mode\":\"kRelu\",\"side_input_scale\":0,\"leakyrelu_alpha\":0},\"force_earliest_schedule\":false}\n",
      "2025-04-03 21:19:04.487801: I external/local_xla/xla/service/gpu/autotuning/conv_algorithm_picker.cc:549] Omitted potentially buggy algorithm eng14{k25=2} for conv %cudnn-conv-bias-activation.10 = (f32[24,64,20,150]{3,2,1,0}, u8[0]{0}) custom-call(f32[24,32,20,150]{3,2,1,0} %bitcast.695, f32[64,32,3,3]{3,2,1,0} %bitcast.702, f32[64]{0} %bitcast.704), window={size=3x3 pad=1_1x1_1}, dim_labels=bf01_oi01->bf01, custom_call_target=\"__cudnn$convBiasActivationForward\", metadata={op_type=\"Conv2D\" op_name=\"sequential_1/conv2d_1_2/convolution\" source_file=\"/home/usou/dev_ws/superbad/deeplearning-repo-3/dolbom_venv/lib/python3.12/site-packages/tensorflow/python/framework/ops.py\" source_line=1200}, backend_config={\"operation_queue_id\":\"0\",\"wait_on_operation_queues\":[],\"cudnn_conv_backend_config\":{\"conv_result_scale\":1,\"activation_mode\":\"kRelu\",\"side_input_scale\":0,\"leakyrelu_alpha\":0},\"force_earliest_schedule\":false}\n",
      "2025-04-03 21:19:04.650035: I external/local_xla/xla/service/gpu/autotuning/conv_algorithm_picker.cc:549] Omitted potentially buggy algorithm eng14{k25=2} for conv %cudnn-conv-bias-activation.11 = (f32[24,128,10,75]{3,2,1,0}, u8[0]{0}) custom-call(f32[24,64,10,75]{3,2,1,0} %bitcast.732, f32[128,64,3,3]{3,2,1,0} %bitcast.739, f32[128]{0} %bitcast.741), window={size=3x3 pad=1_1x1_1}, dim_labels=bf01_oi01->bf01, custom_call_target=\"__cudnn$convBiasActivationForward\", metadata={op_type=\"Conv2D\" op_name=\"sequential_1/conv2d_2_1/convolution\" source_file=\"/home/usou/dev_ws/superbad/deeplearning-repo-3/dolbom_venv/lib/python3.12/site-packages/tensorflow/python/framework/ops.py\" source_line=1200}, backend_config={\"operation_queue_id\":\"0\",\"wait_on_operation_queues\":[],\"cudnn_conv_backend_config\":{\"conv_result_scale\":1,\"activation_mode\":\"kRelu\",\"side_input_scale\":0,\"leakyrelu_alpha\":0},\"force_earliest_schedule\":false}\n"
     ]
    },
    {
     "name": "stdout",
     "output_type": "stream",
     "text": [
      "\u001b[1m14089/14089\u001b[0m \u001b[32m━━━━━━━━━━━━━━━━━━━━\u001b[0m\u001b[37m\u001b[0m \u001b[1m416s\u001b[0m 29ms/step - accuracy: 0.4829 - loss: 4.2138 - val_accuracy: 0.0000e+00 - val_loss: 1.1736\n",
      "Epoch 2/300\n",
      "\u001b[1m14089/14089\u001b[0m \u001b[32m━━━━━━━━━━━━━━━━━━━━\u001b[0m\u001b[37m\u001b[0m \u001b[1m393s\u001b[0m 28ms/step - accuracy: 0.4244 - loss: 1.3382 - val_accuracy: 0.3333 - val_loss: 1.1441\n",
      "Epoch 3/300\n",
      "\u001b[1m14089/14089\u001b[0m \u001b[32m━━━━━━━━━━━━━━━━━━━━\u001b[0m\u001b[37m\u001b[0m \u001b[1m392s\u001b[0m 28ms/step - accuracy: 0.4067 - loss: 1.3278 - val_accuracy: 0.6667 - val_loss: 1.1410\n",
      "Epoch 4/300\n",
      "\u001b[1m14089/14089\u001b[0m \u001b[32m━━━━━━━━━━━━━━━━━━━━\u001b[0m\u001b[37m\u001b[0m \u001b[1m380s\u001b[0m 27ms/step - accuracy: 0.3746 - loss: 1.3312 - val_accuracy: 0.0000e+00 - val_loss: 1.2207\n",
      "Epoch 5/300\n",
      "\u001b[1m14089/14089\u001b[0m \u001b[32m━━━━━━━━━━━━━━━━━━━━\u001b[0m\u001b[37m\u001b[0m \u001b[1m367s\u001b[0m 26ms/step - accuracy: 0.3768 - loss: 1.3111 - val_accuracy: 0.0000e+00 - val_loss: 1.3933\n",
      "Epoch 6/300\n",
      "\u001b[1m14089/14089\u001b[0m \u001b[32m━━━━━━━━━━━━━━━━━━━━\u001b[0m\u001b[37m\u001b[0m \u001b[1m367s\u001b[0m 26ms/step - accuracy: 0.3552 - loss: 1.3110 - val_accuracy: 0.0000e+00 - val_loss: 1.3153\n",
      "Epoch 7/300\n",
      "\u001b[1m14089/14089\u001b[0m \u001b[32m━━━━━━━━━━━━━━━━━━━━\u001b[0m\u001b[37m\u001b[0m \u001b[1m367s\u001b[0m 26ms/step - accuracy: 0.4015 - loss: 1.2857 - val_accuracy: 0.3333 - val_loss: 1.2338\n",
      "Epoch 8/300\n",
      "\u001b[1m14089/14089\u001b[0m \u001b[32m━━━━━━━━━━━━━━━━━━━━\u001b[0m\u001b[37m\u001b[0m \u001b[1m367s\u001b[0m 26ms/step - accuracy: 0.3956 - loss: 1.2785 - val_accuracy: 0.3333 - val_loss: 1.1687\n",
      "Epoch 9/300\n",
      "\u001b[1m14089/14089\u001b[0m \u001b[32m━━━━━━━━━━━━━━━━━━━━\u001b[0m\u001b[37m\u001b[0m \u001b[1m367s\u001b[0m 26ms/step - accuracy: 0.3812 - loss: 1.2776 - val_accuracy: 0.3333 - val_loss: 1.0949\n",
      "Epoch 10/300\n",
      "\u001b[1m14089/14089\u001b[0m \u001b[32m━━━━━━━━━━━━━━━━━━━━\u001b[0m\u001b[37m\u001b[0m \u001b[1m367s\u001b[0m 26ms/step - accuracy: 0.3686 - loss: 1.2852 - val_accuracy: 0.3333 - val_loss: 1.0227\n",
      "Epoch 11/300\n",
      "\u001b[1m14089/14089\u001b[0m \u001b[32m━━━━━━━━━━━━━━━━━━━━\u001b[0m\u001b[37m\u001b[0m \u001b[1m368s\u001b[0m 26ms/step - accuracy: 0.3472 - loss: 1.3216 - val_accuracy: 0.3333 - val_loss: 1.0150\n",
      "Epoch 12/300\n",
      "\u001b[1m14089/14089\u001b[0m \u001b[32m━━━━━━━━━━━━━━━━━━━━\u001b[0m\u001b[37m\u001b[0m \u001b[1m380s\u001b[0m 27ms/step - accuracy: 0.3830 - loss: 1.2876 - val_accuracy: 0.6667 - val_loss: 1.0011\n",
      "Epoch 13/300\n",
      "\u001b[1m11298/14089\u001b[0m \u001b[32m━━━━━━━━━━━━━━━━\u001b[0m\u001b[37m━━━━\u001b[0m \u001b[1m1:24\u001b[0m 30ms/step - accuracy: 0.3823 - loss: 1.2551"
     ]
    },
    {
     "ename": "KeyboardInterrupt",
     "evalue": "",
     "output_type": "error",
     "traceback": [
      "\u001b[31m---------------------------------------------------------------------------\u001b[39m",
      "\u001b[31mKeyboardInterrupt\u001b[39m                         Traceback (most recent call last)",
      "\u001b[36mCell\u001b[39m\u001b[36m \u001b[39m\u001b[32mIn[9]\u001b[39m\u001b[32m, line 25\u001b[39m\n\u001b[32m     10\u001b[39m callbacks = [\n\u001b[32m     11\u001b[39m     EarlyStopping(\n\u001b[32m     12\u001b[39m         monitor=\u001b[33m'\u001b[39m\u001b[33mval_accuracy\u001b[39m\u001b[33m'\u001b[39m,          \u001b[38;5;66;03m# 검증 정확도를 기준으로\u001b[39;00m\n\u001b[32m   (...)\u001b[39m\u001b[32m     20\u001b[39m     )\n\u001b[32m     21\u001b[39m ]\n\u001b[32m     23\u001b[39m \u001b[38;5;66;03m# 모델 학습 시작\u001b[39;00m\n\u001b[32m     24\u001b[39m \u001b[38;5;66;03m# → 배치 제너레이터로 학습 데이터를 공급하고, 메모리에 올린 검증 데이터를 사용\u001b[39;00m\n\u001b[32m---> \u001b[39m\u001b[32m25\u001b[39m \u001b[43mmodel\u001b[49m\u001b[43m.\u001b[49m\u001b[43mfit\u001b[49m\u001b[43m(\u001b[49m\n\u001b[32m     26\u001b[39m \u001b[43m    \u001b[49m\u001b[43mdata_generator\u001b[49m\u001b[43m(\u001b[49m\u001b[43mtrain_dir\u001b[49m\u001b[43m,\u001b[49m\u001b[43m \u001b[49m\u001b[43mtrain_dir\u001b[49m\u001b[43m,\u001b[49m\u001b[43m \u001b[49m\u001b[43mBATCH_SIZE\u001b[49m\u001b[43m)\u001b[49m\u001b[43m,\u001b[49m\u001b[43m  \u001b[49m\u001b[38;5;66;43;03m# 학습 데이터 제너레이터\u001b[39;49;00m\n\u001b[32m     27\u001b[39m \u001b[43m    \u001b[49m\u001b[43msteps_per_epoch\u001b[49m\u001b[43m=\u001b[49m\u001b[43mtrain_steps\u001b[49m\u001b[43m,\u001b[49m\u001b[43m                       \u001b[49m\u001b[38;5;66;43;03m# 에폭당 스텝 수\u001b[39;49;00m\n\u001b[32m     28\u001b[39m \u001b[43m    \u001b[49m\u001b[43mepochs\u001b[49m\u001b[43m=\u001b[49m\u001b[43mEPOCHS\u001b[49m\u001b[43m,\u001b[49m\u001b[43m                                     \u001b[49m\u001b[38;5;66;43;03m# 총 에폭 수\u001b[39;49;00m\n\u001b[32m     29\u001b[39m \u001b[43m    \u001b[49m\u001b[43mvalidation_data\u001b[49m\u001b[43m=\u001b[49m\u001b[43m(\u001b[49m\u001b[43mval_x\u001b[49m\u001b[43m,\u001b[49m\u001b[43m \u001b[49m\u001b[43mval_y\u001b[49m\u001b[43m)\u001b[49m\u001b[43m,\u001b[49m\u001b[43m                    \u001b[49m\u001b[38;5;66;43;03m# 검증 데이터\u001b[39;49;00m\n\u001b[32m     30\u001b[39m \u001b[43m    \u001b[49m\u001b[43mcallbacks\u001b[49m\u001b[43m=\u001b[49m\u001b[43mcallbacks\u001b[49m\u001b[43m                                \u001b[49m\u001b[38;5;66;43;03m# 조기 종료 및 체크포인트\u001b[39;49;00m\n\u001b[32m     31\u001b[39m \u001b[43m)\u001b[49m\n",
      "\u001b[36mFile \u001b[39m\u001b[32m~/dev_ws/superbad/deeplearning-repo-3/dolbom_venv/lib/python3.12/site-packages/keras/src/utils/traceback_utils.py:117\u001b[39m, in \u001b[36mfilter_traceback.<locals>.error_handler\u001b[39m\u001b[34m(*args, **kwargs)\u001b[39m\n\u001b[32m    115\u001b[39m filtered_tb = \u001b[38;5;28;01mNone\u001b[39;00m\n\u001b[32m    116\u001b[39m \u001b[38;5;28;01mtry\u001b[39;00m:\n\u001b[32m--> \u001b[39m\u001b[32m117\u001b[39m     \u001b[38;5;28;01mreturn\u001b[39;00m \u001b[43mfn\u001b[49m\u001b[43m(\u001b[49m\u001b[43m*\u001b[49m\u001b[43margs\u001b[49m\u001b[43m,\u001b[49m\u001b[43m \u001b[49m\u001b[43m*\u001b[49m\u001b[43m*\u001b[49m\u001b[43mkwargs\u001b[49m\u001b[43m)\u001b[49m\n\u001b[32m    118\u001b[39m \u001b[38;5;28;01mexcept\u001b[39;00m \u001b[38;5;167;01mException\u001b[39;00m \u001b[38;5;28;01mas\u001b[39;00m e:\n\u001b[32m    119\u001b[39m     filtered_tb = _process_traceback_frames(e.__traceback__)\n",
      "\u001b[36mFile \u001b[39m\u001b[32m~/dev_ws/superbad/deeplearning-repo-3/dolbom_venv/lib/python3.12/site-packages/keras/src/backend/tensorflow/trainer.py:371\u001b[39m, in \u001b[36mTensorFlowTrainer.fit\u001b[39m\u001b[34m(self, x, y, batch_size, epochs, verbose, callbacks, validation_split, validation_data, shuffle, class_weight, sample_weight, initial_epoch, steps_per_epoch, validation_steps, validation_batch_size, validation_freq)\u001b[39m\n\u001b[32m    369\u001b[39m \u001b[38;5;28;01mfor\u001b[39;00m step, iterator \u001b[38;5;129;01min\u001b[39;00m epoch_iterator:\n\u001b[32m    370\u001b[39m     callbacks.on_train_batch_begin(step)\n\u001b[32m--> \u001b[39m\u001b[32m371\u001b[39m     logs = \u001b[38;5;28;43mself\u001b[39;49m\u001b[43m.\u001b[49m\u001b[43mtrain_function\u001b[49m\u001b[43m(\u001b[49m\u001b[43miterator\u001b[49m\u001b[43m)\u001b[49m\n\u001b[32m    372\u001b[39m     callbacks.on_train_batch_end(step, logs)\n\u001b[32m    373\u001b[39m     \u001b[38;5;28;01mif\u001b[39;00m \u001b[38;5;28mself\u001b[39m.stop_training:\n",
      "\u001b[36mFile \u001b[39m\u001b[32m~/dev_ws/superbad/deeplearning-repo-3/dolbom_venv/lib/python3.12/site-packages/keras/src/backend/tensorflow/trainer.py:219\u001b[39m, in \u001b[36mTensorFlowTrainer._make_function.<locals>.function\u001b[39m\u001b[34m(iterator)\u001b[39m\n\u001b[32m    215\u001b[39m \u001b[38;5;28;01mdef\u001b[39;00m\u001b[38;5;250m \u001b[39m\u001b[34mfunction\u001b[39m(iterator):\n\u001b[32m    216\u001b[39m     \u001b[38;5;28;01mif\u001b[39;00m \u001b[38;5;28misinstance\u001b[39m(\n\u001b[32m    217\u001b[39m         iterator, (tf.data.Iterator, tf.distribute.DistributedIterator)\n\u001b[32m    218\u001b[39m     ):\n\u001b[32m--> \u001b[39m\u001b[32m219\u001b[39m         opt_outputs = \u001b[43mmulti_step_on_iterator\u001b[49m\u001b[43m(\u001b[49m\u001b[43miterator\u001b[49m\u001b[43m)\u001b[49m\n\u001b[32m    220\u001b[39m         \u001b[38;5;28;01mif\u001b[39;00m \u001b[38;5;129;01mnot\u001b[39;00m opt_outputs.has_value():\n\u001b[32m    221\u001b[39m             \u001b[38;5;28;01mraise\u001b[39;00m \u001b[38;5;167;01mStopIteration\u001b[39;00m\n",
      "\u001b[36mFile \u001b[39m\u001b[32m~/dev_ws/superbad/deeplearning-repo-3/dolbom_venv/lib/python3.12/site-packages/tensorflow/python/util/traceback_utils.py:150\u001b[39m, in \u001b[36mfilter_traceback.<locals>.error_handler\u001b[39m\u001b[34m(*args, **kwargs)\u001b[39m\n\u001b[32m    148\u001b[39m filtered_tb = \u001b[38;5;28;01mNone\u001b[39;00m\n\u001b[32m    149\u001b[39m \u001b[38;5;28;01mtry\u001b[39;00m:\n\u001b[32m--> \u001b[39m\u001b[32m150\u001b[39m   \u001b[38;5;28;01mreturn\u001b[39;00m \u001b[43mfn\u001b[49m\u001b[43m(\u001b[49m\u001b[43m*\u001b[49m\u001b[43margs\u001b[49m\u001b[43m,\u001b[49m\u001b[43m \u001b[49m\u001b[43m*\u001b[49m\u001b[43m*\u001b[49m\u001b[43mkwargs\u001b[49m\u001b[43m)\u001b[49m\n\u001b[32m    151\u001b[39m \u001b[38;5;28;01mexcept\u001b[39;00m \u001b[38;5;167;01mException\u001b[39;00m \u001b[38;5;28;01mas\u001b[39;00m e:\n\u001b[32m    152\u001b[39m   filtered_tb = _process_traceback_frames(e.__traceback__)\n",
      "\u001b[36mFile \u001b[39m\u001b[32m~/dev_ws/superbad/deeplearning-repo-3/dolbom_venv/lib/python3.12/site-packages/tensorflow/python/eager/polymorphic_function/polymorphic_function.py:833\u001b[39m, in \u001b[36mFunction.__call__\u001b[39m\u001b[34m(self, *args, **kwds)\u001b[39m\n\u001b[32m    830\u001b[39m compiler = \u001b[33m\"\u001b[39m\u001b[33mxla\u001b[39m\u001b[33m\"\u001b[39m \u001b[38;5;28;01mif\u001b[39;00m \u001b[38;5;28mself\u001b[39m._jit_compile \u001b[38;5;28;01melse\u001b[39;00m \u001b[33m\"\u001b[39m\u001b[33mnonXla\u001b[39m\u001b[33m\"\u001b[39m\n\u001b[32m    832\u001b[39m \u001b[38;5;28;01mwith\u001b[39;00m OptionalXlaContext(\u001b[38;5;28mself\u001b[39m._jit_compile):\n\u001b[32m--> \u001b[39m\u001b[32m833\u001b[39m   result = \u001b[38;5;28;43mself\u001b[39;49m\u001b[43m.\u001b[49m\u001b[43m_call\u001b[49m\u001b[43m(\u001b[49m\u001b[43m*\u001b[49m\u001b[43margs\u001b[49m\u001b[43m,\u001b[49m\u001b[43m \u001b[49m\u001b[43m*\u001b[49m\u001b[43m*\u001b[49m\u001b[43mkwds\u001b[49m\u001b[43m)\u001b[49m\n\u001b[32m    835\u001b[39m new_tracing_count = \u001b[38;5;28mself\u001b[39m.experimental_get_tracing_count()\n\u001b[32m    836\u001b[39m without_tracing = (tracing_count == new_tracing_count)\n",
      "\u001b[36mFile \u001b[39m\u001b[32m~/dev_ws/superbad/deeplearning-repo-3/dolbom_venv/lib/python3.12/site-packages/tensorflow/python/eager/polymorphic_function/polymorphic_function.py:878\u001b[39m, in \u001b[36mFunction._call\u001b[39m\u001b[34m(self, *args, **kwds)\u001b[39m\n\u001b[32m    875\u001b[39m \u001b[38;5;28mself\u001b[39m._lock.release()\n\u001b[32m    876\u001b[39m \u001b[38;5;66;03m# In this case we have not created variables on the first call. So we can\u001b[39;00m\n\u001b[32m    877\u001b[39m \u001b[38;5;66;03m# run the first trace but we should fail if variables are created.\u001b[39;00m\n\u001b[32m--> \u001b[39m\u001b[32m878\u001b[39m results = \u001b[43mtracing_compilation\u001b[49m\u001b[43m.\u001b[49m\u001b[43mcall_function\u001b[49m\u001b[43m(\u001b[49m\n\u001b[32m    879\u001b[39m \u001b[43m    \u001b[49m\u001b[43margs\u001b[49m\u001b[43m,\u001b[49m\u001b[43m \u001b[49m\u001b[43mkwds\u001b[49m\u001b[43m,\u001b[49m\u001b[43m \u001b[49m\u001b[38;5;28;43mself\u001b[39;49m\u001b[43m.\u001b[49m\u001b[43m_variable_creation_config\u001b[49m\n\u001b[32m    880\u001b[39m \u001b[43m\u001b[49m\u001b[43m)\u001b[49m\n\u001b[32m    881\u001b[39m \u001b[38;5;28;01mif\u001b[39;00m \u001b[38;5;28mself\u001b[39m._created_variables:\n\u001b[32m    882\u001b[39m   \u001b[38;5;28;01mraise\u001b[39;00m \u001b[38;5;167;01mValueError\u001b[39;00m(\u001b[33m\"\u001b[39m\u001b[33mCreating variables on a non-first call to a function\u001b[39m\u001b[33m\"\u001b[39m\n\u001b[32m    883\u001b[39m                    \u001b[33m\"\u001b[39m\u001b[33m decorated with tf.function.\u001b[39m\u001b[33m\"\u001b[39m)\n",
      "\u001b[36mFile \u001b[39m\u001b[32m~/dev_ws/superbad/deeplearning-repo-3/dolbom_venv/lib/python3.12/site-packages/tensorflow/python/eager/polymorphic_function/tracing_compilation.py:139\u001b[39m, in \u001b[36mcall_function\u001b[39m\u001b[34m(args, kwargs, tracing_options)\u001b[39m\n\u001b[32m    137\u001b[39m bound_args = function.function_type.bind(*args, **kwargs)\n\u001b[32m    138\u001b[39m flat_inputs = function.function_type.unpack_inputs(bound_args)\n\u001b[32m--> \u001b[39m\u001b[32m139\u001b[39m \u001b[38;5;28;01mreturn\u001b[39;00m \u001b[43mfunction\u001b[49m\u001b[43m.\u001b[49m\u001b[43m_call_flat\u001b[49m\u001b[43m(\u001b[49m\u001b[43m  \u001b[49m\u001b[38;5;66;43;03m# pylint: disable=protected-access\u001b[39;49;00m\n\u001b[32m    140\u001b[39m \u001b[43m    \u001b[49m\u001b[43mflat_inputs\u001b[49m\u001b[43m,\u001b[49m\u001b[43m \u001b[49m\u001b[43mcaptured_inputs\u001b[49m\u001b[43m=\u001b[49m\u001b[43mfunction\u001b[49m\u001b[43m.\u001b[49m\u001b[43mcaptured_inputs\u001b[49m\n\u001b[32m    141\u001b[39m \u001b[43m\u001b[49m\u001b[43m)\u001b[49m\n",
      "\u001b[36mFile \u001b[39m\u001b[32m~/dev_ws/superbad/deeplearning-repo-3/dolbom_venv/lib/python3.12/site-packages/tensorflow/python/eager/polymorphic_function/concrete_function.py:1322\u001b[39m, in \u001b[36mConcreteFunction._call_flat\u001b[39m\u001b[34m(self, tensor_inputs, captured_inputs)\u001b[39m\n\u001b[32m   1318\u001b[39m possible_gradient_type = gradients_util.PossibleTapeGradientTypes(args)\n\u001b[32m   1319\u001b[39m \u001b[38;5;28;01mif\u001b[39;00m (possible_gradient_type == gradients_util.POSSIBLE_GRADIENT_TYPES_NONE\n\u001b[32m   1320\u001b[39m     \u001b[38;5;129;01mand\u001b[39;00m executing_eagerly):\n\u001b[32m   1321\u001b[39m   \u001b[38;5;66;03m# No tape is watching; skip to running the function.\u001b[39;00m\n\u001b[32m-> \u001b[39m\u001b[32m1322\u001b[39m   \u001b[38;5;28;01mreturn\u001b[39;00m \u001b[38;5;28;43mself\u001b[39;49m\u001b[43m.\u001b[49m\u001b[43m_inference_function\u001b[49m\u001b[43m.\u001b[49m\u001b[43mcall_preflattened\u001b[49m\u001b[43m(\u001b[49m\u001b[43margs\u001b[49m\u001b[43m)\u001b[49m\n\u001b[32m   1323\u001b[39m forward_backward = \u001b[38;5;28mself\u001b[39m._select_forward_and_backward_functions(\n\u001b[32m   1324\u001b[39m     args,\n\u001b[32m   1325\u001b[39m     possible_gradient_type,\n\u001b[32m   1326\u001b[39m     executing_eagerly)\n\u001b[32m   1327\u001b[39m forward_function, args_with_tangents = forward_backward.forward()\n",
      "\u001b[36mFile \u001b[39m\u001b[32m~/dev_ws/superbad/deeplearning-repo-3/dolbom_venv/lib/python3.12/site-packages/tensorflow/python/eager/polymorphic_function/atomic_function.py:216\u001b[39m, in \u001b[36mAtomicFunction.call_preflattened\u001b[39m\u001b[34m(self, args)\u001b[39m\n\u001b[32m    214\u001b[39m \u001b[38;5;28;01mdef\u001b[39;00m\u001b[38;5;250m \u001b[39m\u001b[34mcall_preflattened\u001b[39m(\u001b[38;5;28mself\u001b[39m, args: Sequence[core.Tensor]) -> Any:\n\u001b[32m    215\u001b[39m \u001b[38;5;250m  \u001b[39m\u001b[33;03m\"\"\"Calls with flattened tensor inputs and returns the structured output.\"\"\"\u001b[39;00m\n\u001b[32m--> \u001b[39m\u001b[32m216\u001b[39m   flat_outputs = \u001b[38;5;28;43mself\u001b[39;49m\u001b[43m.\u001b[49m\u001b[43mcall_flat\u001b[49m\u001b[43m(\u001b[49m\u001b[43m*\u001b[49m\u001b[43margs\u001b[49m\u001b[43m)\u001b[49m\n\u001b[32m    217\u001b[39m   \u001b[38;5;28;01mreturn\u001b[39;00m \u001b[38;5;28mself\u001b[39m.function_type.pack_output(flat_outputs)\n",
      "\u001b[36mFile \u001b[39m\u001b[32m~/dev_ws/superbad/deeplearning-repo-3/dolbom_venv/lib/python3.12/site-packages/tensorflow/python/eager/polymorphic_function/atomic_function.py:251\u001b[39m, in \u001b[36mAtomicFunction.call_flat\u001b[39m\u001b[34m(self, *args)\u001b[39m\n\u001b[32m    249\u001b[39m \u001b[38;5;28;01mwith\u001b[39;00m record.stop_recording():\n\u001b[32m    250\u001b[39m   \u001b[38;5;28;01mif\u001b[39;00m \u001b[38;5;28mself\u001b[39m._bound_context.executing_eagerly():\n\u001b[32m--> \u001b[39m\u001b[32m251\u001b[39m     outputs = \u001b[38;5;28;43mself\u001b[39;49m\u001b[43m.\u001b[49m\u001b[43m_bound_context\u001b[49m\u001b[43m.\u001b[49m\u001b[43mcall_function\u001b[49m\u001b[43m(\u001b[49m\n\u001b[32m    252\u001b[39m \u001b[43m        \u001b[49m\u001b[38;5;28;43mself\u001b[39;49m\u001b[43m.\u001b[49m\u001b[43mname\u001b[49m\u001b[43m,\u001b[49m\n\u001b[32m    253\u001b[39m \u001b[43m        \u001b[49m\u001b[38;5;28;43mlist\u001b[39;49m\u001b[43m(\u001b[49m\u001b[43margs\u001b[49m\u001b[43m)\u001b[49m\u001b[43m,\u001b[49m\n\u001b[32m    254\u001b[39m \u001b[43m        \u001b[49m\u001b[38;5;28;43mlen\u001b[39;49m\u001b[43m(\u001b[49m\u001b[38;5;28;43mself\u001b[39;49m\u001b[43m.\u001b[49m\u001b[43mfunction_type\u001b[49m\u001b[43m.\u001b[49m\u001b[43mflat_outputs\u001b[49m\u001b[43m)\u001b[49m\u001b[43m,\u001b[49m\n\u001b[32m    255\u001b[39m \u001b[43m    \u001b[49m\u001b[43m)\u001b[49m\n\u001b[32m    256\u001b[39m   \u001b[38;5;28;01melse\u001b[39;00m:\n\u001b[32m    257\u001b[39m     outputs = make_call_op_in_graph(\n\u001b[32m    258\u001b[39m         \u001b[38;5;28mself\u001b[39m,\n\u001b[32m    259\u001b[39m         \u001b[38;5;28mlist\u001b[39m(args),\n\u001b[32m    260\u001b[39m         \u001b[38;5;28mself\u001b[39m._bound_context.function_call_options.as_attrs(),\n\u001b[32m    261\u001b[39m     )\n",
      "\u001b[36mFile \u001b[39m\u001b[32m~/dev_ws/superbad/deeplearning-repo-3/dolbom_venv/lib/python3.12/site-packages/tensorflow/python/eager/context.py:1688\u001b[39m, in \u001b[36mContext.call_function\u001b[39m\u001b[34m(self, name, tensor_inputs, num_outputs)\u001b[39m\n\u001b[32m   1686\u001b[39m cancellation_context = cancellation.context()\n\u001b[32m   1687\u001b[39m \u001b[38;5;28;01mif\u001b[39;00m cancellation_context \u001b[38;5;129;01mis\u001b[39;00m \u001b[38;5;28;01mNone\u001b[39;00m:\n\u001b[32m-> \u001b[39m\u001b[32m1688\u001b[39m   outputs = \u001b[43mexecute\u001b[49m\u001b[43m.\u001b[49m\u001b[43mexecute\u001b[49m\u001b[43m(\u001b[49m\n\u001b[32m   1689\u001b[39m \u001b[43m      \u001b[49m\u001b[43mname\u001b[49m\u001b[43m.\u001b[49m\u001b[43mdecode\u001b[49m\u001b[43m(\u001b[49m\u001b[33;43m\"\u001b[39;49m\u001b[33;43mutf-8\u001b[39;49m\u001b[33;43m\"\u001b[39;49m\u001b[43m)\u001b[49m\u001b[43m,\u001b[49m\n\u001b[32m   1690\u001b[39m \u001b[43m      \u001b[49m\u001b[43mnum_outputs\u001b[49m\u001b[43m=\u001b[49m\u001b[43mnum_outputs\u001b[49m\u001b[43m,\u001b[49m\n\u001b[32m   1691\u001b[39m \u001b[43m      \u001b[49m\u001b[43minputs\u001b[49m\u001b[43m=\u001b[49m\u001b[43mtensor_inputs\u001b[49m\u001b[43m,\u001b[49m\n\u001b[32m   1692\u001b[39m \u001b[43m      \u001b[49m\u001b[43mattrs\u001b[49m\u001b[43m=\u001b[49m\u001b[43mattrs\u001b[49m\u001b[43m,\u001b[49m\n\u001b[32m   1693\u001b[39m \u001b[43m      \u001b[49m\u001b[43mctx\u001b[49m\u001b[43m=\u001b[49m\u001b[38;5;28;43mself\u001b[39;49m\u001b[43m,\u001b[49m\n\u001b[32m   1694\u001b[39m \u001b[43m  \u001b[49m\u001b[43m)\u001b[49m\n\u001b[32m   1695\u001b[39m \u001b[38;5;28;01melse\u001b[39;00m:\n\u001b[32m   1696\u001b[39m   outputs = execute.execute_with_cancellation(\n\u001b[32m   1697\u001b[39m       name.decode(\u001b[33m\"\u001b[39m\u001b[33mutf-8\u001b[39m\u001b[33m\"\u001b[39m),\n\u001b[32m   1698\u001b[39m       num_outputs=num_outputs,\n\u001b[32m   (...)\u001b[39m\u001b[32m   1702\u001b[39m       cancellation_manager=cancellation_context,\n\u001b[32m   1703\u001b[39m   )\n",
      "\u001b[36mFile \u001b[39m\u001b[32m~/dev_ws/superbad/deeplearning-repo-3/dolbom_venv/lib/python3.12/site-packages/tensorflow/python/eager/execute.py:53\u001b[39m, in \u001b[36mquick_execute\u001b[39m\u001b[34m(op_name, num_outputs, inputs, attrs, ctx, name)\u001b[39m\n\u001b[32m     51\u001b[39m \u001b[38;5;28;01mtry\u001b[39;00m:\n\u001b[32m     52\u001b[39m   ctx.ensure_initialized()\n\u001b[32m---> \u001b[39m\u001b[32m53\u001b[39m   tensors = \u001b[43mpywrap_tfe\u001b[49m\u001b[43m.\u001b[49m\u001b[43mTFE_Py_Execute\u001b[49m\u001b[43m(\u001b[49m\u001b[43mctx\u001b[49m\u001b[43m.\u001b[49m\u001b[43m_handle\u001b[49m\u001b[43m,\u001b[49m\u001b[43m \u001b[49m\u001b[43mdevice_name\u001b[49m\u001b[43m,\u001b[49m\u001b[43m \u001b[49m\u001b[43mop_name\u001b[49m\u001b[43m,\u001b[49m\n\u001b[32m     54\u001b[39m \u001b[43m                                      \u001b[49m\u001b[43minputs\u001b[49m\u001b[43m,\u001b[49m\u001b[43m \u001b[49m\u001b[43mattrs\u001b[49m\u001b[43m,\u001b[49m\u001b[43m \u001b[49m\u001b[43mnum_outputs\u001b[49m\u001b[43m)\u001b[49m\n\u001b[32m     55\u001b[39m \u001b[38;5;28;01mexcept\u001b[39;00m core._NotOkStatusException \u001b[38;5;28;01mas\u001b[39;00m e:\n\u001b[32m     56\u001b[39m   \u001b[38;5;28;01mif\u001b[39;00m name \u001b[38;5;129;01mis\u001b[39;00m \u001b[38;5;129;01mnot\u001b[39;00m \u001b[38;5;28;01mNone\u001b[39;00m:\n",
      "\u001b[31mKeyboardInterrupt\u001b[39m: "
     ]
    }
   ],
   "source": [
    "# 전체 학습 스텝 수 계산\n",
    "# → 각 배치 파일의 샘플 수를 모두 더한 후, 배치 크기로 나누어 steps_per_epoch 계산\n",
    "train_steps = sum([\n",
    "    np.load(f).shape[0] \n",
    "    for f in glob.glob(os.path.join(train_dir, \"label_batch_*.npy\"))\n",
    "]) // BATCH_SIZE\n",
    "\n",
    "# 콜백 정의\n",
    "# → 성능이 개선되지 않으면 조기 종료, 최고 성능 모델만 저장\n",
    "callbacks = [\n",
    "    EarlyStopping(\n",
    "        monitor='val_accuracy',          # 검증 정확도를 기준으로\n",
    "        patience=PATIENCE,               # patience 기간 설정\n",
    "        restore_best_weights=True        # 가장 좋은 성능의 가중치 복원\n",
    "    ),\n",
    "    ModelCheckpoint(\n",
    "        filepath=checkpoint_path,        # 모델 저장 경로\n",
    "        monitor='val_accuracy',          # 모니터링 기준\n",
    "        save_best_only=True              # 최고 성능만 저장\n",
    "    )\n",
    "]\n",
    "\n",
    "# 모델 학습 시작\n",
    "# → 배치 제너레이터로 학습 데이터를 공급하고, 메모리에 올린 검증 데이터를 사용\n",
    "model.fit(\n",
    "    data_generator(train_dir, train_dir, BATCH_SIZE),  # 학습 데이터 제너레이터\n",
    "    steps_per_epoch=train_steps,                       # 에폭당 스텝 수\n",
    "    epochs=EPOCHS,                                     # 총 에폭 수\n",
    "    validation_data=(val_x, val_y),                    # 검증 데이터\n",
    "    callbacks=callbacks                                # 조기 종료 및 체크포인트\n",
    ")\n"
   ]
  },
  {
   "cell_type": "markdown",
   "metadata": {},
   "source": [
    "## 문제 발생\n",
    "\n",
    "- val_accuracy가 0.3333, 0.6667에서 반복됨 → 특정 클래스만 예측되고 있는 문제 가능성\n",
    "\n",
    "- loss는 줄긴 하지만 전체적으로 정체 상태\n",
    "\n",
    "- accuracy가 점점 낮아지는 경향도 보임\n",
    "\n",
    "- 약 80분 투자했지만, EarlyStopping 조건을 만족하지 못하고 긴 학습 예상"
   ]
  },
  {
   "cell_type": "markdown",
   "metadata": {},
   "source": [
    "## 데이터 불균형 확인용 코드\n",
    "- 데이터셋의 감정 라벨 분포를 확인해서, 특정 감정이 너무 많거나 적은 경우 모델이 그 감정으로만 예측할 가능성이 있기 때문에 반드시 체크해야 합니다."
   ]
  },
  {
   "cell_type": "code",
   "execution_count": 10,
   "metadata": {},
   "outputs": [
    {
     "name": "stdout",
     "output_type": "stream",
     "text": [
      "라벨 분포: Counter({0: 245001, 1: 235755, 3: 228996, 2: 192000})\n"
     ]
    },
    {
     "data": {
      "image/png": "[encoded data removed]",
      "text/plain": [
       "<Figure size 600x400 with 1 Axes>"
      ]
     },
     "metadata": {},
     "output_type": "display_data"
    }
   ],
   "source": [
    "import numpy as np\n",
    "import glob\n",
    "import os\n",
    "from collections import Counter\n",
    "import matplotlib.pyplot as plt\n",
    "\n",
    "# 라벨 배치 파일 경로 설정\n",
    "label_dir = \"/media/usou/PortableSSD/mldl_project/data4class_batches\"\n",
    "label_files = sorted(glob.glob(os.path.join(label_dir, \"label_batch_*.npy\")))\n",
    "\n",
    "# 전체 라벨 수집\n",
    "all_labels = []\n",
    "\n",
    "for file in label_files:\n",
    "    labels = np.load(file, allow_pickle=True)\n",
    "    all_labels.extend(labels.tolist())\n",
    "\n",
    "# 라벨 분포 확인\n",
    "label_counts = Counter(all_labels)\n",
    "print(\"라벨 분포:\", label_counts)\n",
    "\n",
    "# 시각화\n",
    "plt.figure(figsize=(6, 4))\n",
    "plt.bar(label_counts.keys(), label_counts.values())\n",
    "plt.title(\"Emotion Label Distribution (Train Set)\")\n",
    "plt.xlabel(\"Label\")\n",
    "plt.ylabel(\"Count\")\n",
    "plt.grid(axis='y')\n",
    "plt.show()\n"
   ]
  },
  {
   "cell_type": "markdown",
   "metadata": {},
   "source": [
    "# 감정 클래스 불균형 확인 코드"
   ]
  },
  {
   "cell_type": "code",
   "execution_count": 1,
   "metadata": {},
   "outputs": [
    {
     "data": {
      "image/png": "[encoded data removed]",
      "text/plain": [
       "<Figure size 800x400 with 1 Axes>"
      ]
     },
     "metadata": {},
     "output_type": "display_data"
    }
   ],
   "source": [
    "import os\n",
    "import numpy as np\n",
    "import glob\n",
    "import matplotlib.pyplot as plt\n",
    "from collections import Counter\n",
    "\n",
    "# 라벨 배치 경로\n",
    "label_dir = \"/media/usou/PortableSSD/mldl_project/data4class_batches\"\n",
    "label_files = sorted(glob.glob(os.path.join(label_dir, \"label_batch_*.npy\")))\n",
    "\n",
    "# 모든 라벨 로딩\n",
    "all_labels = []\n",
    "for file in label_files:\n",
    "    labels = np.load(file, allow_pickle=True)\n",
    "    all_labels.extend(labels)\n",
    "\n",
    "# 라벨 분포 확인\n",
    "label_counter = Counter(all_labels)\n",
    "\n",
    "# 시각화\n",
    "plt.figure(figsize=(8, 4))\n",
    "plt.bar(label_counter.keys(), label_counter.values())\n",
    "plt.title(\"Training Label Distribution\")\n",
    "plt.xlabel(\"Emotion Class\")\n",
    "plt.ylabel(\"Count\")\n",
    "plt.xticks(rotation=45)\n",
    "plt.tight_layout()\n",
    "plt.show()\n"
   ]
  },
  {
   "cell_type": "markdown",
   "metadata": {},
   "source": [
    "- class_weight 적용\n",
    "\n",
    "- 증강 재조정\n",
    "\n",
    "- 또는 RandomUnderSampler, SMOTE 등 대안 고려"
   ]
  },
  {
   "cell_type": "markdown",
   "metadata": {},
   "source": [
    "## 1. class-weight 적용\n",
    "- 클래스 불균형 문제를 완화하기 위해 각 클래스에 역비례 가중치를 적용할 수 있습니다. 아래는 전체 라벨을 분석하고 class_weight을 자동으로 계산하는 코드"
   ]
  },
  {
   "cell_type": "code",
   "execution_count": 2,
   "metadata": {},
   "outputs": [
    {
     "name": "stdout",
     "output_type": "stream",
     "text": [
      "적용할 class_weight: {0: 0.9201513463210355, 1: 0.9562384679009989, 2: 1.17415625, 3: 0.9844626107006236}\n"
     ]
    }
   ],
   "source": [
    "from sklearn.utils.class_weight import compute_class_weight\n",
    "import numpy as np\n",
    "\n",
    "# 전체 라벨을 숫자로 인코딩한 리스트라고 가정 (예: [0, 1, 0, 2, 3, 1, ...])\n",
    "all_labels_array = np.array(all_labels)\n",
    "\n",
    "# 고유 클래스 목록\n",
    "classes = np.unique(all_labels_array)\n",
    "\n",
    "# 클래스 가중치 계산\n",
    "weights = compute_class_weight(class_weight='balanced', classes=classes, y=all_labels_array)\n",
    "class_weights = dict(zip(classes, weights))\n",
    "\n",
    "print(\"적용할 class_weight:\", class_weights)\n"
   ]
  },
  {
   "cell_type": "markdown",
   "metadata": {},
   "source": [
    "## 2. 모델 학습 코드 개선\n",
    "- 지금까지 개선사항을 반영하여, 각 셀에 맞게 구성해드립니다. (class_weight 적용 포함)\n",
    "\n",
    "### 셀 1. 환경 및 경로 설정"
   ]
  },
  {
   "cell_type": "code",
   "execution_count": 3,
   "metadata": {},
   "outputs": [
    {
     "name": "stderr",
     "output_type": "stream",
     "text": [
      "2025-04-03 23:59:16.882290: E external/local_xla/xla/stream_executor/cuda/cuda_fft.cc:467] Unable to register cuFFT factory: Attempting to register factory for plugin cuFFT when one has already been registered\n",
      "WARNING: All log messages before absl::InitializeLog() is called are written to STDERR\n",
      "E0000 00:00:1743692356.950121   44334 cuda_dnn.cc:8579] Unable to register cuDNN factory: Attempting to register factory for plugin cuDNN when one has already been registered\n",
      "E0000 00:00:1743692356.973294   44334 cuda_blas.cc:1407] Unable to register cuBLAS factory: Attempting to register factory for plugin cuBLAS when one has already been registered\n",
      "W0000 00:00:1743692357.116733   44334 computation_placer.cc:177] computation placer already registered. Please check linkage and avoid linking the same target more than once.\n",
      "W0000 00:00:1743692357.116793   44334 computation_placer.cc:177] computation placer already registered. Please check linkage and avoid linking the same target more than once.\n",
      "W0000 00:00:1743692357.116796   44334 computation_placer.cc:177] computation placer already registered. Please check linkage and avoid linking the same target more than once.\n",
      "W0000 00:00:1743692357.116799   44334 computation_placer.cc:177] computation placer already registered. Please check linkage and avoid linking the same target more than once.\n",
      "2025-04-03 23:59:17.135814: I tensorflow/core/platform/cpu_feature_guard.cc:210] This TensorFlow binary is optimized to use available CPU instructions in performance-critical operations.\n",
      "To enable the following instructions: AVX2 FMA, in other operations, rebuild TensorFlow with the appropriate compiler flags.\n"
     ]
    }
   ],
   "source": [
    "import os\n",
    "import numpy as np\n",
    "import tensorflow as tf\n",
    "from tensorflow.keras.callbacks import EarlyStopping, ModelCheckpoint\n",
    "from tensorflow.keras import layers, models\n",
    "import glob\n",
    "from collections import Counter\n",
    "from sklearn.utils.class_weight import compute_class_weight\n",
    "\n",
    "# GPU 메모리 점진적 할당\n",
    "os.environ['TF_FORCE_GPU_ALLOW_GROWTH'] = 'true'\n",
    "\n",
    "# 하이퍼파라미터\n",
    "BATCH_SIZE = 64\n",
    "EPOCHS = 300\n",
    "PATIENCE = 30\n",
    "\n",
    "# 경로 설정\n",
    "train_dir = \"/media/usou/PortableSSD/mldl_project/data4class_batches\"\n",
    "val_dir = \"/media/usou/PortableSSD/mldl_project/data4class_val_batches\"\n",
    "checkpoint_path = \"/media/usou/PortableSSD/mldl_project/model_ckpt/best_model_voice_emotion_analysis.keras\"\n"
   ]
  },
  {
   "cell_type": "markdown",
   "metadata": {},
   "source": [
    "### 셀 2. CNN 모델 정의"
   ]
  },
  {
   "cell_type": "code",
   "execution_count": 4,
   "metadata": {},
   "outputs": [
    {
     "name": "stderr",
     "output_type": "stream",
     "text": [
      "/home/usou/dev_ws/superbad/deeplearning-repo-3/dolbom_venv/lib/python3.12/site-packages/keras/src/layers/convolutional/base_conv.py:107: UserWarning: Do not pass an `input_shape`/`input_dim` argument to a layer. When using Sequential models, prefer using an `Input(shape)` object as the first layer in the model instead.\n",
      "  super().__init__(activity_regularizer=activity_regularizer, **kwargs)\n",
      "2025-04-03 23:59:22.700145: W tensorflow/core/common_runtime/gpu/gpu_bfc_allocator.cc:47] Overriding orig_value setting because the TF_FORCE_GPU_ALLOW_GROWTH environment variable is set. Original config value was 0.\n",
      "I0000 00:00:1743692362.700595   44334 gpu_device.cc:2019] Created device /job:localhost/replica:0/task:0/device:GPU:0 with 4738 MB memory:  -> device: 0, name: NVIDIA GeForce RTX 2060, pci bus id: 0000:01:00.0, compute capability: 7.5\n"
     ]
    }
   ],
   "source": [
    "def build_cnn_model(input_shape=(40, 300, 1), num_classes=4):\n",
    "    model = models.Sequential()\n",
    "    model.add(layers.Conv2D(32, (3, 3), activation='relu', padding='same', input_shape=input_shape))\n",
    "    model.add(layers.BatchNormalization())\n",
    "    model.add(layers.MaxPooling2D((2, 2)))\n",
    "\n",
    "    model.add(layers.Conv2D(64, (3, 3), activation='relu', padding='same'))\n",
    "    model.add(layers.BatchNormalization())\n",
    "    model.add(layers.MaxPooling2D((2, 2)))\n",
    "\n",
    "    model.add(layers.Conv2D(128, (3, 3), activation='relu', padding='same'))\n",
    "    model.add(layers.BatchNormalization())\n",
    "    model.add(layers.MaxPooling2D((2, 2)))\n",
    "\n",
    "    model.add(layers.Flatten())\n",
    "    model.add(layers.Dense(128, activation='relu'))\n",
    "    model.add(layers.Dropout(0.5))\n",
    "    model.add(layers.Dense(num_classes, activation='softmax'))\n",
    "\n",
    "    model.compile(optimizer='adam', loss='sparse_categorical_crossentropy', metrics=['accuracy'])\n",
    "    return model\n",
    "\n",
    "model = build_cnn_model()\n"
   ]
  },
  {
   "cell_type": "markdown",
   "metadata": {},
   "source": [
    "### 셀 3. 데이터 제너레이터 및 클래스 가중치 계산"
   ]
  },
  {
   "cell_type": "code",
   "execution_count": 5,
   "metadata": {},
   "outputs": [
    {
     "name": "stdout",
     "output_type": "stream",
     "text": [
      "적용할 클래스 가중치: {0: 0.9201513463210355, 1: 0.9562384679009989, 2: 1.17415625, 3: 0.9844626107006236}\n"
     ]
    }
   ],
   "source": [
    "def data_generator(mfcc_dir, label_dir, batch_size):\n",
    "    mfcc_files = sorted(glob.glob(os.path.join(mfcc_dir, \"mfcc_batch_*.npy\")))\n",
    "    label_files = sorted(glob.glob(os.path.join(label_dir, \"label_batch_*.npy\")))\n",
    "\n",
    "    while True:\n",
    "        for mfcc_file, label_file in zip(mfcc_files, label_files):\n",
    "            x = np.load(mfcc_file)\n",
    "            y = np.load(label_file, allow_pickle=True)\n",
    "\n",
    "            min_len = min(len(x), len(y))\n",
    "            x = x[:min_len][..., np.newaxis]\n",
    "            y = y[:min_len]\n",
    "\n",
    "            for i in range(0, min_len, batch_size):\n",
    "                yield x[i:i+batch_size], y[i:i+batch_size]\n",
    "\n",
    "# 전체 라벨을 모아서 class_weight 계산\n",
    "all_labels = []\n",
    "for f in glob.glob(os.path.join(train_dir, \"label_batch_*.npy\")):\n",
    "    labels = np.load(f, allow_pickle=True)\n",
    "    all_labels.extend(labels)\n",
    "\n",
    "classes = np.unique(all_labels)\n",
    "weights = compute_class_weight('balanced', classes=classes, y=all_labels)\n",
    "class_weights = dict(zip(classes, weights))\n",
    "\n",
    "print(\"적용할 클래스 가중치:\", class_weights)\n"
   ]
  },
  {
   "cell_type": "markdown",
   "metadata": {},
   "source": [
    "### 셀 4. 검증 데이터 로딩"
   ]
  },
  {
   "cell_type": "code",
   "execution_count": 8,
   "metadata": {},
   "outputs": [
    {
     "name": "stdout",
     "output_type": "stream",
     "text": [
      "검증 데이터 shape: (5000, 40, 300, 1) (5000,)\n"
     ]
    }
   ],
   "source": [
    "import glob\n",
    "import os\n",
    "import numpy as np\n",
    "\n",
    "# 검증 데이터 배치 파일 목록\n",
    "val_mfcc_files = sorted(glob.glob(os.path.join(val_dir, \"mfcc_val_batch_*.npy\")))\n",
    "val_label_files = sorted(glob.glob(os.path.join(val_dir, \"label_val_batch_*.npy\")))\n",
    "\n",
    "# 최대 로딩할 샘플 수 제한 (예: 5000개)\n",
    "max_samples = 5000\n",
    "loaded = 0\n",
    "\n",
    "val_x_list, val_y_list = [], []\n",
    "\n",
    "for mfcc_file, label_file in zip(val_mfcc_files, val_label_files):\n",
    "    # 각 배치 파일 로딩\n",
    "    x = np.load(mfcc_file)[..., np.newaxis]  # (배치, 40, 300, 1)\n",
    "    y = np.load(label_file, allow_pickle=True)\n",
    "\n",
    "    # 남은 개수 계산 후 일부만 사용 (과도한 메모리 사용 방지)\n",
    "    remaining = max_samples - loaded\n",
    "    if len(x) > remaining:\n",
    "        x = x[:remaining]\n",
    "        y = y[:remaining]\n",
    "\n",
    "    val_x_list.append(x)\n",
    "    val_y_list.append(y)\n",
    "    loaded += len(x)\n",
    "\n",
    "    if loaded >= max_samples:\n",
    "        break\n",
    "\n",
    "# 최종 배열로 병합\n",
    "val_x = np.concatenate(val_x_list, axis=0)\n",
    "val_y = np.concatenate(val_y_list, axis=0)\n",
    "\n",
    "print(\"검증 데이터 shape:\", val_x.shape, val_y.shape)\n"
   ]
  },
  {
   "cell_type": "code",
   "execution_count": 10,
   "metadata": {},
   "outputs": [
    {
     "ename": "TypeError",
     "evalue": "'<' not supported between instances of 'str' and 'int'",
     "output_type": "error",
     "traceback": [
      "\u001b[31m---------------------------------------------------------------------------\u001b[39m",
      "\u001b[31mTypeError\u001b[39m                                 Traceback (most recent call last)",
      "\u001b[36mCell\u001b[39m\u001b[36m \u001b[39m\u001b[32mIn[10]\u001b[39m\u001b[32m, line 3\u001b[39m\n\u001b[32m      1\u001b[39m \u001b[38;5;66;03m# 문자열을 숫자로 매핑 (예: 감정 레이블이 str인 경우)\u001b[39;00m\n\u001b[32m      2\u001b[39m \u001b[38;5;28;01mif\u001b[39;00m val_y.dtype.type \u001b[38;5;129;01mis\u001b[39;00m np.str_ \u001b[38;5;129;01mor\u001b[39;00m val_y.dtype.type \u001b[38;5;129;01mis\u001b[39;00m np.object_:\n\u001b[32m----> \u001b[39m\u001b[32m3\u001b[39m     unique_labels = \u001b[38;5;28;43msorted\u001b[39;49m\u001b[43m(\u001b[49m\u001b[38;5;28;43mset\u001b[39;49m\u001b[43m(\u001b[49m\u001b[43mval_y\u001b[49m\u001b[43m)\u001b[49m\u001b[43m)\u001b[49m\n\u001b[32m      4\u001b[39m     label_to_index = {label: idx \u001b[38;5;28;01mfor\u001b[39;00m idx, label \u001b[38;5;129;01min\u001b[39;00m \u001b[38;5;28menumerate\u001b[39m(unique_labels)}\n\u001b[32m      5\u001b[39m     val_y = np.array([label_to_index[label] \u001b[38;5;28;01mfor\u001b[39;00m label \u001b[38;5;129;01min\u001b[39;00m val_y])\n",
      "\u001b[31mTypeError\u001b[39m: '<' not supported between instances of 'str' and 'int'"
     ]
    }
   ],
   "source": [
    "# 문자열을 숫자로 매핑 (예: 감정 레이블이 str인 경우)\n",
    "if val_y.dtype.type is np.str_ or val_y.dtype.type is np.object_:\n",
    "    unique_labels = sorted(set(val_y))\n",
    "    label_to_index = {label: idx for idx, label in enumerate(unique_labels)}\n",
    "    val_y = np.array([label_to_index[label] for label in val_y])\n"
   ]
  },
  {
   "cell_type": "code",
   "execution_count": 9,
   "metadata": {},
   "outputs": [
    {
     "ename": "TypeError",
     "evalue": "'<' not supported between instances of 'str' and 'int'",
     "output_type": "error",
     "traceback": [
      "\u001b[31m---------------------------------------------------------------------------\u001b[39m",
      "\u001b[31mTypeError\u001b[39m                                 Traceback (most recent call last)",
      "\u001b[36mCell\u001b[39m\u001b[36m \u001b[39m\u001b[32mIn[9]\u001b[39m\u001b[32m, line 4\u001b[39m\n\u001b[32m      1\u001b[39m \u001b[38;5;28;01mfrom\u001b[39;00m\u001b[38;5;250m \u001b[39m\u001b[34;01msklearn\u001b[39;00m\u001b[34;01m.\u001b[39;00m\u001b[34;01mutils\u001b[39;00m\u001b[34;01m.\u001b[39;00m\u001b[34;01mclass_weight\u001b[39;00m\u001b[38;5;250m \u001b[39m\u001b[38;5;28;01mimport\u001b[39;00m compute_class_weight\n\u001b[32m      2\u001b[39m \u001b[38;5;28;01mimport\u001b[39;00m\u001b[38;5;250m \u001b[39m\u001b[34;01mnumpy\u001b[39;00m\u001b[38;5;250m \u001b[39m\u001b[38;5;28;01mas\u001b[39;00m\u001b[38;5;250m \u001b[39m\u001b[34;01mnp\u001b[39;00m\n\u001b[32m----> \u001b[39m\u001b[32m4\u001b[39m classes = \u001b[43mnp\u001b[49m\u001b[43m.\u001b[49m\u001b[43munique\u001b[49m\u001b[43m(\u001b[49m\u001b[43mval_y\u001b[49m\u001b[43m)\u001b[49m\n\u001b[32m      5\u001b[39m class_weights = \u001b[38;5;28mdict\u001b[39m(\u001b[38;5;28menumerate\u001b[39m(compute_class_weight(\u001b[33m'\u001b[39m\u001b[33mbalanced\u001b[39m\u001b[33m'\u001b[39m, classes=classes, y=val_y)))\n",
      "\u001b[36mFile \u001b[39m\u001b[32m~/dev_ws/superbad/deeplearning-repo-3/dolbom_venv/lib/python3.12/site-packages/numpy/lib/arraysetops.py:274\u001b[39m, in \u001b[36munique\u001b[39m\u001b[34m(ar, return_index, return_inverse, return_counts, axis, equal_nan)\u001b[39m\n\u001b[32m    272\u001b[39m ar = np.asanyarray(ar)\n\u001b[32m    273\u001b[39m \u001b[38;5;28;01mif\u001b[39;00m axis \u001b[38;5;129;01mis\u001b[39;00m \u001b[38;5;28;01mNone\u001b[39;00m:\n\u001b[32m--> \u001b[39m\u001b[32m274\u001b[39m     ret = \u001b[43m_unique1d\u001b[49m\u001b[43m(\u001b[49m\u001b[43mar\u001b[49m\u001b[43m,\u001b[49m\u001b[43m \u001b[49m\u001b[43mreturn_index\u001b[49m\u001b[43m,\u001b[49m\u001b[43m \u001b[49m\u001b[43mreturn_inverse\u001b[49m\u001b[43m,\u001b[49m\u001b[43m \u001b[49m\u001b[43mreturn_counts\u001b[49m\u001b[43m,\u001b[49m\u001b[43m \u001b[49m\n\u001b[32m    275\u001b[39m \u001b[43m                    \u001b[49m\u001b[43mequal_nan\u001b[49m\u001b[43m=\u001b[49m\u001b[43mequal_nan\u001b[49m\u001b[43m)\u001b[49m\n\u001b[32m    276\u001b[39m     \u001b[38;5;28;01mreturn\u001b[39;00m _unpack_tuple(ret)\n\u001b[32m    278\u001b[39m \u001b[38;5;66;03m# axis was specified and not None\u001b[39;00m\n",
      "\u001b[36mFile \u001b[39m\u001b[32m~/dev_ws/superbad/deeplearning-repo-3/dolbom_venv/lib/python3.12/site-packages/numpy/lib/arraysetops.py:336\u001b[39m, in \u001b[36m_unique1d\u001b[39m\u001b[34m(ar, return_index, return_inverse, return_counts, equal_nan)\u001b[39m\n\u001b[32m    334\u001b[39m     aux = ar[perm]\n\u001b[32m    335\u001b[39m \u001b[38;5;28;01melse\u001b[39;00m:\n\u001b[32m--> \u001b[39m\u001b[32m336\u001b[39m     \u001b[43mar\u001b[49m\u001b[43m.\u001b[49m\u001b[43msort\u001b[49m\u001b[43m(\u001b[49m\u001b[43m)\u001b[49m\n\u001b[32m    337\u001b[39m     aux = ar\n\u001b[32m    338\u001b[39m mask = np.empty(aux.shape, dtype=np.bool_)\n",
      "\u001b[31mTypeError\u001b[39m: '<' not supported between instances of 'str' and 'int'"
     ]
    }
   ],
   "source": [
    "from sklearn.utils.class_weight import compute_class_weight\n",
    "import numpy as np\n",
    "\n",
    "classes = np.unique(val_y)\n",
    "class_weights = dict(enumerate(compute_class_weight('balanced', classes=classes, y=val_y)))\n"
   ]
  },
  {
   "cell_type": "code",
   "execution_count": 6,
   "metadata": {},
   "outputs": [
    {
     "name": "stdout",
     "output_type": "stream",
     "text": [
      "클래스 가중치: {0: 25.048666666666666, 1: 2.087388888888889, 2: 0.6288341889782888, 3: 0.8134664826391708, 4: 0.8491073446327684, 5: 0.6739672460492565}\n"
     ]
    }
   ],
   "source": [
    "import numpy as np\n",
    "import glob\n",
    "import os\n",
    "from sklearn.utils.class_weight import compute_class_weight\n",
    "\n",
    "# 검증 라벨 배치 파일 경로\n",
    "val_label_files = sorted(glob.glob(os.path.join(val_dir, \"label_val_batch_*.npy\")))\n",
    "\n",
    "# 클래스 가중치 계산용 라벨만 메모리에 점진적으로 로딩\n",
    "val_labels = []\n",
    "\n",
    "for label_file in val_label_files:\n",
    "    y = np.load(label_file, allow_pickle=True)\n",
    "    val_labels.extend(y)\n",
    "\n",
    "val_y_raw = np.array(val_labels)\n",
    "\n",
    "# 문자열 라벨이면 숫자 인덱스로 인코딩\n",
    "if val_y_raw.dtype.type is np.str_ or val_y_raw.dtype.type is np.object_:\n",
    "    unique_labels = sorted(set(val_y_raw))\n",
    "    label_to_index = {label: idx for idx, label in enumerate(unique_labels)}\n",
    "    val_y = np.array([label_to_index[label] for label in val_y_raw])\n",
    "else:\n",
    "    val_y = val_y_raw.copy()\n",
    "\n",
    "# 클래스 가중치 계산\n",
    "classes = np.unique(val_y)\n",
    "class_weights = dict(enumerate(compute_class_weight(class_weight='balanced', classes=classes, y=val_y)))\n",
    "\n",
    "# 결과 출력\n",
    "print(\"클래스 가중치:\", class_weights)\n"
   ]
  },
  {
   "cell_type": "code",
   "execution_count": 22,
   "metadata": {},
   "outputs": [],
   "source": [
    "import tensorflow as tf\n",
    "import numpy as np\n",
    "import glob\n",
    "import os\n",
    "\n",
    "def val_data_generator(val_mfcc_dir, val_label_dir, batch_size):\n",
    "    \"\"\"\n",
    "    검증 데이터를 배치 단위로 불러오는 제너레이터 함수입니다.\n",
    "    - 메모리 이슈를 피하기 위해 배치 단위로 불러옵니다.\n",
    "    \n",
    "    Parameters:\n",
    "        val_mfcc_dir (str): MFCC 검증 배치 파일 경로\n",
    "        val_label_dir (str): 라벨 검증 배치 파일 경로\n",
    "        batch_size (int): 배치 크기\n",
    "\n",
    "    Yields:\n",
    "        Tuple[np.ndarray, np.ndarray]: (x_batch, y_batch)\n",
    "    \"\"\"\n",
    "    mfcc_files = sorted(glob.glob(os.path.join(val_mfcc_dir, \"mfcc_val_batch_*.npy\")))\n",
    "    label_files = sorted(glob.glob(os.path.join(val_label_dir, \"label_val_batch_*.npy\")))\n",
    "\n",
    "    while True:\n",
    "        for mfcc_file, label_file in zip(mfcc_files, label_files):\n",
    "            x = np.load(mfcc_file)[..., np.newaxis]  # (batch, 40, 300, 1)\n",
    "            y_raw = np.load(label_file, allow_pickle=True)\n",
    "\n",
    "            # 문자열 레이블이면 숫자로 변환\n",
    "            if y_raw.dtype.type is np.str_ or y_raw.dtype.type is np.object_:\n",
    "                unique_labels = sorted(set(y_raw))\n",
    "                label_to_index = {label: idx for idx, label in enumerate(unique_labels)}\n",
    "                y = np.array([label_to_index[label] for label in y_raw])\n",
    "            else:\n",
    "                y = y_raw.copy()\n",
    "\n",
    "            min_len = min(len(x), len(y))\n",
    "            x = x[:min_len]\n",
    "            y = y[:min_len]\n",
    "\n",
    "            for i in range(0, min_len, batch_size):\n",
    "                yield x[i:i+batch_size], y[i:i+batch_size]\n"
   ]
  },
  {
   "cell_type": "code",
   "execution_count": 23,
   "metadata": {},
   "outputs": [],
   "source": [
    "# 검증 제너레이터 인스턴스 생성\n",
    "val_generator = val_data_generator(val_dir, val_dir, BATCH_SIZE)\n"
   ]
  },
  {
   "cell_type": "code",
   "execution_count": 24,
   "metadata": {},
   "outputs": [
    {
     "ename": "ValueError",
     "evalue": "Argument `class_weight` is not supported for Python generator inputs. Received: class_weight={0: 25.048666666666666, 1: 2.087388888888889, 2: 0.6288341889782888, 3: 0.8134664826391708, 4: 0.8491073446327684, 5: 0.6739672460492565}",
     "output_type": "error",
     "traceback": [
      "\u001b[31m---------------------------------------------------------------------------\u001b[39m",
      "\u001b[31mValueError\u001b[39m                                Traceback (most recent call last)",
      "\u001b[36mCell\u001b[39m\u001b[36m \u001b[39m\u001b[32mIn[24]\u001b[39m\u001b[32m, line 31\u001b[39m\n\u001b[32m     17\u001b[39m callbacks = [\n\u001b[32m     18\u001b[39m     EarlyStopping(\n\u001b[32m     19\u001b[39m         monitor=\u001b[33m'\u001b[39m\u001b[33mval_accuracy\u001b[39m\u001b[33m'\u001b[39m,\n\u001b[32m   (...)\u001b[39m\u001b[32m     27\u001b[39m     )\n\u001b[32m     28\u001b[39m ]\n\u001b[32m     30\u001b[39m \u001b[38;5;66;03m# 모델 학습 실행\u001b[39;00m\n\u001b[32m---> \u001b[39m\u001b[32m31\u001b[39m history = \u001b[43mmodel\u001b[49m\u001b[43m.\u001b[49m\u001b[43mfit\u001b[49m\u001b[43m(\u001b[49m\n\u001b[32m     32\u001b[39m \u001b[43m    \u001b[49m\u001b[43mdata_generator\u001b[49m\u001b[43m(\u001b[49m\u001b[43mtrain_dir\u001b[49m\u001b[43m,\u001b[49m\u001b[43m \u001b[49m\u001b[43mtrain_dir\u001b[49m\u001b[43m,\u001b[49m\u001b[43m \u001b[49m\u001b[43mBATCH_SIZE\u001b[49m\u001b[43m)\u001b[49m\u001b[43m,\u001b[49m\u001b[43m  \u001b[49m\u001b[38;5;66;43;03m# 학습용 제너레이터\u001b[39;49;00m\n\u001b[32m     33\u001b[39m \u001b[43m    \u001b[49m\u001b[43msteps_per_epoch\u001b[49m\u001b[43m=\u001b[49m\u001b[43mtrain_steps\u001b[49m\u001b[43m,\u001b[49m\n\u001b[32m     34\u001b[39m \u001b[43m    \u001b[49m\u001b[43mepochs\u001b[49m\u001b[43m=\u001b[49m\u001b[43mEPOCHS\u001b[49m\u001b[43m,\u001b[49m\n\u001b[32m     35\u001b[39m \u001b[43m    \u001b[49m\u001b[43mvalidation_data\u001b[49m\u001b[43m=\u001b[49m\u001b[43mval_generator\u001b[49m\u001b[43m,\u001b[49m\u001b[43m                    \u001b[49m\u001b[38;5;66;43;03m# 검증용 제너레이터\u001b[39;49;00m\n\u001b[32m     36\u001b[39m \u001b[43m    \u001b[49m\u001b[43mvalidation_steps\u001b[49m\u001b[43m=\u001b[49m\u001b[43mval_steps\u001b[49m\u001b[43m,\u001b[49m\n\u001b[32m     37\u001b[39m \u001b[43m    \u001b[49m\u001b[43mcallbacks\u001b[49m\u001b[43m=\u001b[49m\u001b[43mcallbacks\u001b[49m\u001b[43m,\u001b[49m\n\u001b[32m     38\u001b[39m \u001b[43m    \u001b[49m\u001b[43mclass_weight\u001b[49m\u001b[43m=\u001b[49m\u001b[43mclass_weights\u001b[49m\u001b[43m                        \u001b[49m\u001b[38;5;66;43;03m# 클래스 가중치 적용\u001b[39;49;00m\n\u001b[32m     39\u001b[39m \u001b[43m)\u001b[49m\n",
      "\u001b[36mFile \u001b[39m\u001b[32m~/dev_ws/superbad/deeplearning-repo-3/dolbom_venv/lib/python3.12/site-packages/keras/src/utils/traceback_utils.py:122\u001b[39m, in \u001b[36mfilter_traceback.<locals>.error_handler\u001b[39m\u001b[34m(*args, **kwargs)\u001b[39m\n\u001b[32m    119\u001b[39m     filtered_tb = _process_traceback_frames(e.__traceback__)\n\u001b[32m    120\u001b[39m     \u001b[38;5;66;03m# To get the full stack trace, call:\u001b[39;00m\n\u001b[32m    121\u001b[39m     \u001b[38;5;66;03m# `keras.config.disable_traceback_filtering()`\u001b[39;00m\n\u001b[32m--> \u001b[39m\u001b[32m122\u001b[39m     \u001b[38;5;28;01mraise\u001b[39;00m e.with_traceback(filtered_tb) \u001b[38;5;28;01mfrom\u001b[39;00m\u001b[38;5;250m \u001b[39m\u001b[38;5;28;01mNone\u001b[39;00m\n\u001b[32m    123\u001b[39m \u001b[38;5;28;01mfinally\u001b[39;00m:\n\u001b[32m    124\u001b[39m     \u001b[38;5;28;01mdel\u001b[39;00m filtered_tb\n",
      "\u001b[36mFile \u001b[39m\u001b[32m~/dev_ws/superbad/deeplearning-repo-3/dolbom_venv/lib/python3.12/site-packages/keras/src/trainers/data_adapters/__init__.py:113\u001b[39m, in \u001b[36mget_data_adapter\u001b[39m\u001b[34m(x, y, sample_weight, batch_size, steps_per_epoch, shuffle, class_weight)\u001b[39m\n\u001b[32m    109\u001b[39m         raise_unsupported_arg(\n\u001b[32m    110\u001b[39m             \u001b[33m\"\u001b[39m\u001b[33msample_weights\u001b[39m\u001b[33m\"\u001b[39m, \u001b[33m\"\u001b[39m\u001b[33mthe sample weights\u001b[39m\u001b[33m\"\u001b[39m, \u001b[33m\"\u001b[39m\u001b[33mPyDataset\u001b[39m\u001b[33m\"\u001b[39m\n\u001b[32m    111\u001b[39m         )\n\u001b[32m    112\u001b[39m     \u001b[38;5;28;01mif\u001b[39;00m class_weight \u001b[38;5;129;01mis\u001b[39;00m \u001b[38;5;129;01mnot\u001b[39;00m \u001b[38;5;28;01mNone\u001b[39;00m:\n\u001b[32m--> \u001b[39m\u001b[32m113\u001b[39m         \u001b[38;5;28;01mraise\u001b[39;00m \u001b[38;5;167;01mValueError\u001b[39;00m(\n\u001b[32m    114\u001b[39m             \u001b[33m\"\u001b[39m\u001b[33mArgument `class_weight` is not supported for Python \u001b[39m\u001b[33m\"\u001b[39m\n\u001b[32m    115\u001b[39m             \u001b[33mf\u001b[39m\u001b[33m\"\u001b[39m\u001b[33mgenerator inputs. Received: class_weight=\u001b[39m\u001b[38;5;132;01m{\u001b[39;00mclass_weight\u001b[38;5;132;01m}\u001b[39;00m\u001b[33m\"\u001b[39m\n\u001b[32m    116\u001b[39m         )\n\u001b[32m    117\u001b[39m     \u001b[38;5;28;01mreturn\u001b[39;00m GeneratorDataAdapter(x)\n\u001b[32m    118\u001b[39m     \u001b[38;5;66;03m# TODO: should we warn or not?\u001b[39;00m\n\u001b[32m    119\u001b[39m     \u001b[38;5;66;03m# warnings.warn(\u001b[39;00m\n\u001b[32m    120\u001b[39m     \u001b[38;5;66;03m#     \"`shuffle=True` was passed, but will be ignored since the \"\u001b[39;00m\n\u001b[32m   (...)\u001b[39m\u001b[32m    123\u001b[39m     \u001b[38;5;66;03m# )\u001b[39;00m\n\u001b[32m    124\u001b[39m \u001b[38;5;28;01melse\u001b[39;00m:\n",
      "\u001b[31mValueError\u001b[39m: Argument `class_weight` is not supported for Python generator inputs. Received: class_weight={0: 25.048666666666666, 1: 2.087388888888889, 2: 0.6288341889782888, 3: 0.8134664826391708, 4: 0.8491073446327684, 5: 0.6739672460492565}"
     ]
    }
   ],
   "source": [
    "# 검증 제너레이터 인스턴스 생성\n",
    "val_generator = val_data_generator(val_dir, val_dir, BATCH_SIZE)\n",
    "\n",
    "# 학습 스텝 수 계산 (전체 학습 샘플 수 / 배치 크기)\n",
    "train_steps = sum([\n",
    "    np.load(f).shape[0]\n",
    "    for f in glob.glob(os.path.join(train_dir, \"label_batch_*.npy\"))\n",
    "]) // BATCH_SIZE\n",
    "\n",
    "# 검증 스텝 수 계산 (전체 검증 샘플 수 / 배치 크기)\n",
    "val_steps = sum([\n",
    "    np.load(f, allow_pickle=True).shape[0]\n",
    "    for f in glob.glob(os.path.join(val_dir, \"label_val_batch_*.npy\"))\n",
    "]) // BATCH_SIZE\n",
    "\n",
    "# 콜백 정의\n",
    "callbacks = [\n",
    "    EarlyStopping(\n",
    "        monitor='val_accuracy',\n",
    "        patience=PATIENCE,\n",
    "        restore_best_weights=True\n",
    "    ),\n",
    "    ModelCheckpoint(\n",
    "        filepath=checkpoint_path,\n",
    "        monitor='val_accuracy',\n",
    "        save_best_only=True\n",
    "    )\n",
    "]\n",
    "\n",
    "# 모델 학습 실행\n",
    "history = model.fit(\n",
    "    data_generator(train_dir, train_dir, BATCH_SIZE),  # 학습용 제너레이터\n",
    "    steps_per_epoch=train_steps,\n",
    "    epochs=EPOCHS,\n",
    "    validation_data=val_generator,                    # 검증용 제너레이터\n",
    "    validation_steps=val_steps,\n",
    "    callbacks=callbacks,\n",
    "    class_weight=class_weights                        # 클래스 가중치 적용\n",
    ")\n"
   ]
  },
  {
   "cell_type": "markdown",
   "metadata": {},
   "source": [
    "- 오류의 원인은 class_weight 인자는 Python 제너레이터 기반 입력에 사용할 수 없기 때문"
   ]
  },
  {
   "cell_type": "markdown",
   "metadata": {},
   "source": []
  },
  {
   "cell_type": "code",
   "execution_count": 1,
   "metadata": {},
   "outputs": [
    {
     "name": "stdout",
     "output_type": "stream",
     "text": [
      "✅ 4클래스 필터링 완료: 0개 → ./data/usou/metadata_4class.csv\n"
     ]
    }
   ],
   "source": [
    "import os\n",
    "import json\n",
    "import pandas as pd\n",
    "\n",
    "# 설정\n",
    "json_dir = \"/media/usou/PortableSSD/mldl_project/json_data\"\n",
    "output_csv_path = \"./data/usou/metadata_4class.csv\"\n",
    "target_emotions = {\"angry\", \"happy\", \"neutrality\", \"sad\"}\n",
    "\n",
    "data = []\n",
    "for root, _, files in os.walk(json_dir):\n",
    "    for fname in files:\n",
    "        if fname.endswith(\".json\"):\n",
    "            with open(os.path.join(root, fname), \"r\", encoding=\"utf-8\") as f:\n",
    "                content = json.load(f)\n",
    "                if content[\"emotion\"] in target_emotions:\n",
    "                    data.append({\"wav_path\": content[\"wav_path\"], \"emotion\": content[\"emotion\"]})\n",
    "\n",
    "df = pd.DataFrame(data)\n",
    "df.to_csv(output_csv_path, index=False)\n",
    "print(f\"✅ 4클래스 필터링 완료: {len(df)}개 → {output_csv_path}\")\n"
   ]
  },
  {
   "cell_type": "markdown",
   "metadata": {},
   "source": [
    "## class_weight 효과를 반영한 데이터 오버샘플링 진행"
   ]
  },
  {
   "cell_type": "code",
   "execution_count": 1,
   "metadata": {},
   "outputs": [
    {
     "name": "stderr",
     "output_type": "stream",
     "text": [
      "/tmp/ipykernel_5428/2753053002.py:20: DtypeWarning: Columns (2,3) have mixed types. Specify dtype option on import or set low_memory=False.\n",
      "  df = pd.read_csv(csv_path)\n",
      "오버샘플링된 MFCC 추출:   0%|          | 12/326668 [00:01<12:16:51,  7.39it/s]\n"
     ]
    },
    {
     "ename": "KeyboardInterrupt",
     "evalue": "",
     "output_type": "error",
     "traceback": [
      "\u001b[31m---------------------------------------------------------------------------\u001b[39m",
      "\u001b[31mKeyboardInterrupt\u001b[39m                         Traceback (most recent call last)",
      "\u001b[36mCell\u001b[39m\u001b[36m \u001b[39m\u001b[32mIn[1]\u001b[39m\u001b[32m, line 52\u001b[39m\n\u001b[32m     50\u001b[39m \u001b[38;5;28;01mtry\u001b[39;00m:\n\u001b[32m     51\u001b[39m     y, sr = librosa.load(row[\u001b[33m\"\u001b[39m\u001b[33mwav_path\u001b[39m\u001b[33m\"\u001b[39m], sr=\u001b[32m16000\u001b[39m)\n\u001b[32m---> \u001b[39m\u001b[32m52\u001b[39m     mfcc = \u001b[43mextract_mfcc\u001b[49m\u001b[43m(\u001b[49m\u001b[43my\u001b[49m\u001b[43m,\u001b[49m\u001b[43m \u001b[49m\u001b[43msr\u001b[49m\u001b[43m)\u001b[49m\n\u001b[32m     53\u001b[39m     mfcc_batch.append(mfcc)\n\u001b[32m     54\u001b[39m     label_batch.append(row[\u001b[33m\"\u001b[39m\u001b[33memotion\u001b[39m\u001b[33m\"\u001b[39m])\n",
      "\u001b[36mCell\u001b[39m\u001b[36m \u001b[39m\u001b[32mIn[1]\u001b[39m\u001b[32m, line 36\u001b[39m, in \u001b[36mextract_mfcc\u001b[39m\u001b[34m(y, sr)\u001b[39m\n\u001b[32m     35\u001b[39m \u001b[38;5;28;01mdef\u001b[39;00m\u001b[38;5;250m \u001b[39m\u001b[34mextract_mfcc\u001b[39m(y, sr):\n\u001b[32m---> \u001b[39m\u001b[32m36\u001b[39m     mfcc = \u001b[43mlibrosa\u001b[49m\u001b[43m.\u001b[49m\u001b[43mfeature\u001b[49m\u001b[43m.\u001b[49m\u001b[43mmfcc\u001b[49m\u001b[43m(\u001b[49m\u001b[43my\u001b[49m\u001b[43m=\u001b[49m\u001b[43my\u001b[49m\u001b[43m,\u001b[49m\u001b[43m \u001b[49m\u001b[43msr\u001b[49m\u001b[43m=\u001b[49m\u001b[43msr\u001b[49m\u001b[43m,\u001b[49m\u001b[43m \u001b[49m\u001b[43mn_mfcc\u001b[49m\u001b[43m=\u001b[49m\u001b[43mn_mfcc\u001b[49m\u001b[43m)\u001b[49m\n\u001b[32m     37\u001b[39m     \u001b[38;5;28;01mif\u001b[39;00m mfcc.shape[\u001b[32m1\u001b[39m] < max_len:\n\u001b[32m     38\u001b[39m         pad_width = max_len - mfcc.shape[\u001b[32m1\u001b[39m]\n",
      "\u001b[36mFile \u001b[39m\u001b[32m~/dev_ws/superbad/deeplearning-repo-3/dolbom_venv/lib/python3.12/site-packages/librosa/feature/spectral.py:1993\u001b[39m, in \u001b[36mmfcc\u001b[39m\u001b[34m(y, sr, S, n_mfcc, dct_type, norm, lifter, mel_norm, **kwargs)\u001b[39m\n\u001b[32m   1846\u001b[39m \u001b[38;5;250m\u001b[39m\u001b[33;03m\"\"\"Mel-frequency cepstral coefficients (MFCCs)\u001b[39;00m\n\u001b[32m   1847\u001b[39m \n\u001b[32m   1848\u001b[39m \u001b[33;03m.. warning:: If multi-channel audio input ``y`` is provided, the MFCC\u001b[39;00m\n\u001b[32m   (...)\u001b[39m\u001b[32m   1989\u001b[39m \u001b[33;03m>>> fig.colorbar(img2, ax=[ax[1]])\u001b[39;00m\n\u001b[32m   1990\u001b[39m \u001b[33;03m\"\"\"\u001b[39;00m\n\u001b[32m   1991\u001b[39m \u001b[38;5;28;01mif\u001b[39;00m S \u001b[38;5;129;01mis\u001b[39;00m \u001b[38;5;28;01mNone\u001b[39;00m:\n\u001b[32m   1992\u001b[39m     \u001b[38;5;66;03m# multichannel behavior may be different due to relative noise floor differences between channels\u001b[39;00m\n\u001b[32m-> \u001b[39m\u001b[32m1993\u001b[39m     S = power_to_db(\u001b[43mmelspectrogram\u001b[49m\u001b[43m(\u001b[49m\u001b[43my\u001b[49m\u001b[43m=\u001b[49m\u001b[43my\u001b[49m\u001b[43m,\u001b[49m\u001b[43m \u001b[49m\u001b[43msr\u001b[49m\u001b[43m=\u001b[49m\u001b[43msr\u001b[49m\u001b[43m,\u001b[49m\u001b[43m \u001b[49m\u001b[43mnorm\u001b[49m\u001b[43m \u001b[49m\u001b[43m=\u001b[49m\u001b[43m \u001b[49m\u001b[43mmel_norm\u001b[49m\u001b[43m,\u001b[49m\u001b[43m \u001b[49m\u001b[43m*\u001b[49m\u001b[43m*\u001b[49m\u001b[43mkwargs\u001b[49m\u001b[43m)\u001b[49m)\n\u001b[32m   1995\u001b[39m fft = get_fftlib()\n\u001b[32m   1996\u001b[39m M: np.ndarray = fft.dct(S, axis=-\u001b[32m2\u001b[39m, \u001b[38;5;28mtype\u001b[39m=dct_type, norm=norm)[\n\u001b[32m   1997\u001b[39m     ..., :n_mfcc, :\n\u001b[32m   1998\u001b[39m ]\n",
      "\u001b[36mFile \u001b[39m\u001b[32m~/dev_ws/superbad/deeplearning-repo-3/dolbom_venv/lib/python3.12/site-packages/librosa/feature/spectral.py:2135\u001b[39m, in \u001b[36mmelspectrogram\u001b[39m\u001b[34m(y, sr, S, n_fft, hop_length, win_length, window, center, pad_mode, power, **kwargs)\u001b[39m\n\u001b[32m   2013\u001b[39m \u001b[38;5;28;01mdef\u001b[39;00m\u001b[38;5;250m \u001b[39m\u001b[34mmelspectrogram\u001b[39m(\n\u001b[32m   2014\u001b[39m     *,\n\u001b[32m   2015\u001b[39m     y: Optional[np.ndarray] = \u001b[38;5;28;01mNone\u001b[39;00m,\n\u001b[32m   (...)\u001b[39m\u001b[32m   2025\u001b[39m     **kwargs: Any,\n\u001b[32m   2026\u001b[39m ) -> np.ndarray:\n\u001b[32m   2027\u001b[39m \u001b[38;5;250m    \u001b[39m\u001b[33;03m\"\"\"Compute a mel-scaled spectrogram.\u001b[39;00m\n\u001b[32m   2028\u001b[39m \n\u001b[32m   2029\u001b[39m \u001b[33;03m    If a spectrogram input ``S`` is provided, then it is mapped directly onto\u001b[39;00m\n\u001b[32m   (...)\u001b[39m\u001b[32m   2133\u001b[39m \u001b[33;03m    >>> ax.set(title='Mel-frequency spectrogram')\u001b[39;00m\n\u001b[32m   2134\u001b[39m \u001b[33;03m    \"\"\"\u001b[39;00m\n\u001b[32m-> \u001b[39m\u001b[32m2135\u001b[39m     S, n_fft = \u001b[43m_spectrogram\u001b[49m\u001b[43m(\u001b[49m\n\u001b[32m   2136\u001b[39m \u001b[43m        \u001b[49m\u001b[43my\u001b[49m\u001b[43m=\u001b[49m\u001b[43my\u001b[49m\u001b[43m,\u001b[49m\n\u001b[32m   2137\u001b[39m \u001b[43m        \u001b[49m\u001b[43mS\u001b[49m\u001b[43m=\u001b[49m\u001b[43mS\u001b[49m\u001b[43m,\u001b[49m\n\u001b[32m   2138\u001b[39m \u001b[43m        \u001b[49m\u001b[43mn_fft\u001b[49m\u001b[43m=\u001b[49m\u001b[43mn_fft\u001b[49m\u001b[43m,\u001b[49m\n\u001b[32m   2139\u001b[39m \u001b[43m        \u001b[49m\u001b[43mhop_length\u001b[49m\u001b[43m=\u001b[49m\u001b[43mhop_length\u001b[49m\u001b[43m,\u001b[49m\n\u001b[32m   2140\u001b[39m \u001b[43m        \u001b[49m\u001b[43mpower\u001b[49m\u001b[43m=\u001b[49m\u001b[43mpower\u001b[49m\u001b[43m,\u001b[49m\n\u001b[32m   2141\u001b[39m \u001b[43m        \u001b[49m\u001b[43mwin_length\u001b[49m\u001b[43m=\u001b[49m\u001b[43mwin_length\u001b[49m\u001b[43m,\u001b[49m\n\u001b[32m   2142\u001b[39m \u001b[43m        \u001b[49m\u001b[43mwindow\u001b[49m\u001b[43m=\u001b[49m\u001b[43mwindow\u001b[49m\u001b[43m,\u001b[49m\n\u001b[32m   2143\u001b[39m \u001b[43m        \u001b[49m\u001b[43mcenter\u001b[49m\u001b[43m=\u001b[49m\u001b[43mcenter\u001b[49m\u001b[43m,\u001b[49m\n\u001b[32m   2144\u001b[39m \u001b[43m        \u001b[49m\u001b[43mpad_mode\u001b[49m\u001b[43m=\u001b[49m\u001b[43mpad_mode\u001b[49m\u001b[43m,\u001b[49m\n\u001b[32m   2145\u001b[39m \u001b[43m    \u001b[49m\u001b[43m)\u001b[49m\n\u001b[32m   2147\u001b[39m     \u001b[38;5;66;03m# Build a Mel filter\u001b[39;00m\n\u001b[32m   2148\u001b[39m     mel_basis = filters.mel(sr=sr, n_fft=n_fft, **kwargs)\n",
      "\u001b[36mFile \u001b[39m\u001b[32m~/dev_ws/superbad/deeplearning-repo-3/dolbom_venv/lib/python3.12/site-packages/librosa/core/spectrum.py:2945\u001b[39m, in \u001b[36m_spectrogram\u001b[39m\u001b[34m(y, S, n_fft, hop_length, power, win_length, window, center, pad_mode)\u001b[39m\n\u001b[32m   2939\u001b[39m     \u001b[38;5;28;01mif\u001b[39;00m y \u001b[38;5;129;01mis\u001b[39;00m \u001b[38;5;28;01mNone\u001b[39;00m:\n\u001b[32m   2940\u001b[39m         \u001b[38;5;28;01mraise\u001b[39;00m ParameterError(\n\u001b[32m   2941\u001b[39m             \u001b[33m\"\u001b[39m\u001b[33mInput signal must be provided to compute a spectrogram\u001b[39m\u001b[33m\"\u001b[39m\n\u001b[32m   2942\u001b[39m         )\n\u001b[32m   2943\u001b[39m     S = (\n\u001b[32m   2944\u001b[39m         np.abs(\n\u001b[32m-> \u001b[39m\u001b[32m2945\u001b[39m             \u001b[43mstft\u001b[49m\u001b[43m(\u001b[49m\n\u001b[32m   2946\u001b[39m \u001b[43m                \u001b[49m\u001b[43my\u001b[49m\u001b[43m,\u001b[49m\n\u001b[32m   2947\u001b[39m \u001b[43m                \u001b[49m\u001b[43mn_fft\u001b[49m\u001b[43m=\u001b[49m\u001b[43mn_fft\u001b[49m\u001b[43m,\u001b[49m\n\u001b[32m   2948\u001b[39m \u001b[43m                \u001b[49m\u001b[43mhop_length\u001b[49m\u001b[43m=\u001b[49m\u001b[43mhop_length\u001b[49m\u001b[43m,\u001b[49m\n\u001b[32m   2949\u001b[39m \u001b[43m                \u001b[49m\u001b[43mwin_length\u001b[49m\u001b[43m=\u001b[49m\u001b[43mwin_length\u001b[49m\u001b[43m,\u001b[49m\n\u001b[32m   2950\u001b[39m \u001b[43m                \u001b[49m\u001b[43mcenter\u001b[49m\u001b[43m=\u001b[49m\u001b[43mcenter\u001b[49m\u001b[43m,\u001b[49m\n\u001b[32m   2951\u001b[39m \u001b[43m                \u001b[49m\u001b[43mwindow\u001b[49m\u001b[43m=\u001b[49m\u001b[43mwindow\u001b[49m\u001b[43m,\u001b[49m\n\u001b[32m   2952\u001b[39m \u001b[43m                \u001b[49m\u001b[43mpad_mode\u001b[49m\u001b[43m=\u001b[49m\u001b[43mpad_mode\u001b[49m\u001b[43m,\u001b[49m\n\u001b[32m   2953\u001b[39m \u001b[43m            \u001b[49m\u001b[43m)\u001b[49m\n\u001b[32m   2954\u001b[39m         )\n\u001b[32m   2955\u001b[39m         ** power\n\u001b[32m   2956\u001b[39m     )\n\u001b[32m   2958\u001b[39m \u001b[38;5;28;01mreturn\u001b[39;00m S, n_fft\n",
      "\u001b[36mFile \u001b[39m\u001b[32m~/dev_ws/superbad/deeplearning-repo-3/dolbom_venv/lib/python3.12/site-packages/librosa/core/spectrum.py:387\u001b[39m, in \u001b[36mstft\u001b[39m\u001b[34m(y, n_fft, hop_length, win_length, window, center, dtype, pad_mode, out)\u001b[39m\n\u001b[32m    384\u001b[39m \u001b[38;5;28;01mfor\u001b[39;00m bl_s \u001b[38;5;129;01min\u001b[39;00m \u001b[38;5;28mrange\u001b[39m(\u001b[32m0\u001b[39m, y_frames.shape[-\u001b[32m1\u001b[39m], n_columns):\n\u001b[32m    385\u001b[39m     bl_t = \u001b[38;5;28mmin\u001b[39m(bl_s + n_columns, y_frames.shape[-\u001b[32m1\u001b[39m])\n\u001b[32m--> \u001b[39m\u001b[32m387\u001b[39m     stft_matrix[..., bl_s + off_start : bl_t + off_start] = \u001b[43mfft\u001b[49m\u001b[43m.\u001b[49m\u001b[43mrfft\u001b[49m\u001b[43m(\u001b[49m\n\u001b[32m    388\u001b[39m \u001b[43m        \u001b[49m\u001b[43mfft_window\u001b[49m\u001b[43m \u001b[49m\u001b[43m*\u001b[49m\u001b[43m \u001b[49m\u001b[43my_frames\u001b[49m\u001b[43m[\u001b[49m\u001b[43m.\u001b[49m\u001b[43m.\u001b[49m\u001b[43m.\u001b[49m\u001b[43m,\u001b[49m\u001b[43m \u001b[49m\u001b[43mbl_s\u001b[49m\u001b[43m:\u001b[49m\u001b[43mbl_t\u001b[49m\u001b[43m]\u001b[49m\u001b[43m,\u001b[49m\u001b[43m \u001b[49m\u001b[43maxis\u001b[49m\u001b[43m=\u001b[49m\u001b[43m-\u001b[49m\u001b[32;43m2\u001b[39;49m\n\u001b[32m    389\u001b[39m \u001b[43m    \u001b[49m\u001b[43m)\u001b[49m\n\u001b[32m    390\u001b[39m \u001b[38;5;28;01mreturn\u001b[39;00m stft_matrix\n",
      "\u001b[36mFile \u001b[39m\u001b[32m~/dev_ws/superbad/deeplearning-repo-3/dolbom_venv/lib/python3.12/site-packages/scipy/fft/_backend.py:28\u001b[39m, in \u001b[36m_ScipyBackend.__ua_function__\u001b[39m\u001b[34m(method, args, kwargs)\u001b[39m\n\u001b[32m     26\u001b[39m \u001b[38;5;28;01mif\u001b[39;00m fn \u001b[38;5;129;01mis\u001b[39;00m \u001b[38;5;28;01mNone\u001b[39;00m:\n\u001b[32m     27\u001b[39m     \u001b[38;5;28;01mreturn\u001b[39;00m \u001b[38;5;28mNotImplemented\u001b[39m\n\u001b[32m---> \u001b[39m\u001b[32m28\u001b[39m \u001b[38;5;28;01mreturn\u001b[39;00m \u001b[43mfn\u001b[49m\u001b[43m(\u001b[49m\u001b[43m*\u001b[49m\u001b[43margs\u001b[49m\u001b[43m,\u001b[49m\u001b[43m \u001b[49m\u001b[43m*\u001b[49m\u001b[43m*\u001b[49m\u001b[43mkwargs\u001b[49m\u001b[43m)\u001b[49m\n",
      "\u001b[36mFile \u001b[39m\u001b[32m~/dev_ws/superbad/deeplearning-repo-3/dolbom_venv/lib/python3.12/site-packages/scipy/fft/_basic_backend.py:91\u001b[39m, in \u001b[36mrfft\u001b[39m\u001b[34m(x, n, axis, norm, overwrite_x, workers, plan)\u001b[39m\n\u001b[32m     89\u001b[39m \u001b[38;5;28;01mdef\u001b[39;00m\u001b[38;5;250m \u001b[39m\u001b[34mrfft\u001b[39m(x, n=\u001b[38;5;28;01mNone\u001b[39;00m, axis=-\u001b[32m1\u001b[39m, norm=\u001b[38;5;28;01mNone\u001b[39;00m,\n\u001b[32m     90\u001b[39m          overwrite_x=\u001b[38;5;28;01mFalse\u001b[39;00m, workers=\u001b[38;5;28;01mNone\u001b[39;00m, *, plan=\u001b[38;5;28;01mNone\u001b[39;00m):\n\u001b[32m---> \u001b[39m\u001b[32m91\u001b[39m     \u001b[38;5;28;01mreturn\u001b[39;00m \u001b[43m_execute_1D\u001b[49m\u001b[43m(\u001b[49m\u001b[33;43m'\u001b[39;49m\u001b[33;43mrfft\u001b[39;49m\u001b[33;43m'\u001b[39;49m\u001b[43m,\u001b[49m\u001b[43m \u001b[49m\u001b[43m_pocketfft\u001b[49m\u001b[43m.\u001b[49m\u001b[43mrfft\u001b[49m\u001b[43m,\u001b[49m\u001b[43m \u001b[49m\u001b[43mx\u001b[49m\u001b[43m,\u001b[49m\u001b[43m \u001b[49m\u001b[43mn\u001b[49m\u001b[43m=\u001b[49m\u001b[43mn\u001b[49m\u001b[43m,\u001b[49m\u001b[43m \u001b[49m\u001b[43maxis\u001b[49m\u001b[43m=\u001b[49m\u001b[43maxis\u001b[49m\u001b[43m,\u001b[49m\u001b[43m \u001b[49m\u001b[43mnorm\u001b[49m\u001b[43m=\u001b[49m\u001b[43mnorm\u001b[49m\u001b[43m,\u001b[49m\n\u001b[32m     92\u001b[39m \u001b[43m                       \u001b[49m\u001b[43moverwrite_x\u001b[49m\u001b[43m=\u001b[49m\u001b[43moverwrite_x\u001b[49m\u001b[43m,\u001b[49m\u001b[43m \u001b[49m\u001b[43mworkers\u001b[49m\u001b[43m=\u001b[49m\u001b[43mworkers\u001b[49m\u001b[43m,\u001b[49m\u001b[43m \u001b[49m\u001b[43mplan\u001b[49m\u001b[43m=\u001b[49m\u001b[43mplan\u001b[49m\u001b[43m)\u001b[49m\n",
      "\u001b[36mFile \u001b[39m\u001b[32m~/dev_ws/superbad/deeplearning-repo-3/dolbom_venv/lib/python3.12/site-packages/scipy/fft/_basic_backend.py:32\u001b[39m, in \u001b[36m_execute_1D\u001b[39m\u001b[34m(func_str, pocketfft_func, x, n, axis, norm, overwrite_x, workers, plan)\u001b[39m\n\u001b[32m     30\u001b[39m \u001b[38;5;28;01mif\u001b[39;00m is_numpy(xp):\n\u001b[32m     31\u001b[39m     x = np.asarray(x)\n\u001b[32m---> \u001b[39m\u001b[32m32\u001b[39m     \u001b[38;5;28;01mreturn\u001b[39;00m \u001b[43mpocketfft_func\u001b[49m\u001b[43m(\u001b[49m\u001b[43mx\u001b[49m\u001b[43m,\u001b[49m\u001b[43m \u001b[49m\u001b[43mn\u001b[49m\u001b[43m=\u001b[49m\u001b[43mn\u001b[49m\u001b[43m,\u001b[49m\u001b[43m \u001b[49m\u001b[43maxis\u001b[49m\u001b[43m=\u001b[49m\u001b[43maxis\u001b[49m\u001b[43m,\u001b[49m\u001b[43m \u001b[49m\u001b[43mnorm\u001b[49m\u001b[43m=\u001b[49m\u001b[43mnorm\u001b[49m\u001b[43m,\u001b[49m\n\u001b[32m     33\u001b[39m \u001b[43m                          \u001b[49m\u001b[43moverwrite_x\u001b[49m\u001b[43m=\u001b[49m\u001b[43moverwrite_x\u001b[49m\u001b[43m,\u001b[49m\u001b[43m \u001b[49m\u001b[43mworkers\u001b[49m\u001b[43m=\u001b[49m\u001b[43mworkers\u001b[49m\u001b[43m,\u001b[49m\u001b[43m \u001b[49m\u001b[43mplan\u001b[49m\u001b[43m=\u001b[49m\u001b[43mplan\u001b[49m\u001b[43m)\u001b[49m\n\u001b[32m     35\u001b[39m norm = _validate_fft_args(workers, plan, norm)\n\u001b[32m     36\u001b[39m \u001b[38;5;28;01mif\u001b[39;00m \u001b[38;5;28mhasattr\u001b[39m(xp, \u001b[33m'\u001b[39m\u001b[33mfft\u001b[39m\u001b[33m'\u001b[39m):\n",
      "\u001b[36mFile \u001b[39m\u001b[32m~/dev_ws/superbad/deeplearning-repo-3/dolbom_venv/lib/python3.12/site-packages/scipy/fft/_pocketfft/basic.py:61\u001b[39m, in \u001b[36mr2c\u001b[39m\u001b[34m(forward, x, n, axis, norm, overwrite_x, workers, plan)\u001b[39m\n\u001b[32m     58\u001b[39m     \u001b[38;5;28;01mraise\u001b[39;00m \u001b[38;5;167;01mValueError\u001b[39;00m(\u001b[33mf\u001b[39m\u001b[33m\"\u001b[39m\u001b[33minvalid number of data points (\u001b[39m\u001b[38;5;132;01m{\u001b[39;00mtmp.shape[axis]\u001b[38;5;132;01m}\u001b[39;00m\u001b[33m) specified\u001b[39m\u001b[33m\"\u001b[39m)\n\u001b[32m     60\u001b[39m \u001b[38;5;66;03m# Note: overwrite_x is not utilised\u001b[39;00m\n\u001b[32m---> \u001b[39m\u001b[32m61\u001b[39m \u001b[38;5;28;01mreturn\u001b[39;00m \u001b[43mpfft\u001b[49m\u001b[43m.\u001b[49m\u001b[43mr2c\u001b[49m\u001b[43m(\u001b[49m\u001b[43mtmp\u001b[49m\u001b[43m,\u001b[49m\u001b[43m \u001b[49m\u001b[43m(\u001b[49m\u001b[43maxis\u001b[49m\u001b[43m,\u001b[49m\u001b[43m)\u001b[49m\u001b[43m,\u001b[49m\u001b[43m \u001b[49m\u001b[43mforward\u001b[49m\u001b[43m,\u001b[49m\u001b[43m \u001b[49m\u001b[43mnorm\u001b[49m\u001b[43m,\u001b[49m\u001b[43m \u001b[49m\u001b[38;5;28;43;01mNone\u001b[39;49;00m\u001b[43m,\u001b[49m\u001b[43m \u001b[49m\u001b[43mworkers\u001b[49m\u001b[43m)\u001b[49m\n",
      "\u001b[31mKeyboardInterrupt\u001b[39m: "
     ]
    }
   ],
   "source": [
    "import os\n",
    "import numpy as np\n",
    "import pandas as pd\n",
    "import librosa\n",
    "from collections import Counter\n",
    "from sklearn.utils import resample\n",
    "from tqdm import tqdm\n",
    "\n",
    "# 1. 경로 설정\n",
    "csv_path = \"./data/usou/metadata_4class.csv\"\n",
    "output_dir = \"/media/usou/PortableSSD/mldl_project/data4class_oversampled_batches\"\n",
    "os.makedirs(output_dir, exist_ok=True)\n",
    "\n",
    "# 2. MFCC 설정\n",
    "n_mfcc = 40\n",
    "max_len = 300\n",
    "batch_size = 1000\n",
    "\n",
    "# 3. 데이터 불러오기\n",
    "df = pd.read_csv(csv_path)\n",
    "\n",
    "# 4. 클래스별 분포 확인\n",
    "label_counts = df['emotion'].value_counts()\n",
    "max_count = label_counts.max()\n",
    "\n",
    "# 5. 오버샘플링 수행\n",
    "oversampled_df = pd.DataFrame()\n",
    "\n",
    "for emotion, group in df.groupby('emotion'):\n",
    "    # 클래스별로 최대 수만큼 오버샘플링\n",
    "    group_oversampled = resample(group, replace=True, n_samples=max_count, random_state=42)\n",
    "    oversampled_df = pd.concat([oversampled_df, group_oversampled])\n",
    "\n",
    "# 6. MFCC 추출 함수\n",
    "def extract_mfcc(y, sr):\n",
    "    mfcc = librosa.feature.mfcc(y=y, sr=sr, n_mfcc=n_mfcc)\n",
    "    if mfcc.shape[1] < max_len:\n",
    "        pad_width = max_len - mfcc.shape[1]\n",
    "        mfcc = np.pad(mfcc, ((0, 0), (0, pad_width)), mode='constant')\n",
    "    else:\n",
    "        mfcc = mfcc[:, :max_len]\n",
    "    return mfcc\n",
    "\n",
    "# 7. 배치 저장\n",
    "mfcc_batch = []\n",
    "label_batch = []\n",
    "batch_index = 0\n",
    "\n",
    "for _, row in tqdm(oversampled_df.iterrows(), total=len(oversampled_df), desc=\"오버샘플링된 MFCC 추출\"):\n",
    "    try:\n",
    "        y, sr = librosa.load(row[\"wav_path\"], sr=16000)\n",
    "        mfcc = extract_mfcc(y, sr)\n",
    "        mfcc_batch.append(mfcc)\n",
    "        label_batch.append(row[\"emotion\"])\n",
    "\n",
    "        if len(mfcc_batch) >= batch_size:\n",
    "            np.save(os.path.join(output_dir, f\"mfcc_batch_{batch_index}.npy\"), np.array(mfcc_batch))\n",
    "            np.save(os.path.join(output_dir, f\"label_batch_{batch_index}.npy\"), np.array(label_batch, dtype=object))\n",
    "            print(f\"배치 {batch_index} 저장 완료 - {len(mfcc_batch)}개\")\n",
    "            batch_index += 1\n",
    "            mfcc_batch.clear()\n",
    "            label_batch.clear()\n",
    "\n",
    "    except Exception as e:\n",
    "        print(f\"오류: {row['wav_path']} → {e}\")\n",
    "        continue\n",
    "\n",
    "# 8. 마지막 배치 저장\n",
    "if mfcc_batch:\n",
    "    np.save(os.path.join(output_dir, f\"mfcc_batch_{batch_index}.npy\"), np.array(mfcc_batch))\n",
    "    np.save(os.path.join(output_dir, f\"label_batch_{batch_index}.npy\"), np.array(label_batch, dtype=object))\n",
    "    print(f\"마지막 배치 {batch_index} 저장 완료 - {len(mfcc_batch)}개\")\n",
    "\n",
    "print(\"오버샘플링 기반 MFCC 추출 완료\")\n"
   ]
  },
  {
   "cell_type": "markdown",
   "metadata": {},
   "source": [
    "# 라벨 인코딩"
   ]
  },
  {
   "cell_type": "code",
   "execution_count": 2,
   "metadata": {},
   "outputs": [
    {
     "name": "stderr",
     "output_type": "stream",
     "text": [
      "전체 라벨 로딩:   0%|          | 0/327 [00:00<?, ?it/s]"
     ]
    },
    {
     "name": "stderr",
     "output_type": "stream",
     "text": [
      "전체 라벨 로딩: 100%|██████████| 327/327 [00:01<00:00, 321.24it/s]\n"
     ]
    },
    {
     "name": "stdout",
     "output_type": "stream",
     "text": [
      "✅ LabelEncoder 학습 및 저장 완료: /media/usou/PortableSSD/mldl_project/models/label_encoder_4class.pkl\n",
      "클래스 목록: ['Angry' 'Happy' 'Neutrality' 'Sad']\n"
     ]
    }
   ],
   "source": [
    "import os\n",
    "import pickle\n",
    "import numpy as np\n",
    "from sklearn.preprocessing import LabelEncoder\n",
    "from glob import glob\n",
    "from tqdm import tqdm\n",
    "\n",
    "# 1. 경로 설정\n",
    "label_path = \"/media/usou/PortableSSD/mldl_project/data4class_oversampled_batches/label_batch_*.npy\"\n",
    "save_dir = \"/media/usou/PortableSSD/mldl_project/models\"\n",
    "os.makedirs(save_dir, exist_ok=True)\n",
    "\n",
    "# 2. 전체 라벨 수집\n",
    "all_labels = []\n",
    "for label_file in tqdm(sorted(glob(label_path)), desc=\"전체 라벨 로딩\"):\n",
    "    labels = np.load(label_file, allow_pickle=True)\n",
    "    all_labels.extend(labels)\n",
    "\n",
    "# 3. 라벨 인코더 학습 및 저장\n",
    "le = LabelEncoder()\n",
    "le.fit(all_labels)\n",
    "\n",
    "encoder_path = os.path.join(save_dir, \"label_encoder_4class.pkl\")\n",
    "with open(encoder_path, \"wb\") as f:\n",
    "    pickle.dump(le, f)\n",
    "\n",
    "print(\"✅ LabelEncoder 학습 및 저장 완료:\", encoder_path)\n",
    "print(\"클래스 목록:\", le.classes_)\n"
   ]
  },
  {
   "cell_type": "markdown",
   "metadata": {},
   "source": [
    "## 배치 제너레이터 정의 "
   ]
  },
  {
   "cell_type": "code",
   "execution_count": 3,
   "metadata": {},
   "outputs": [
    {
     "name": "stderr",
     "output_type": "stream",
     "text": [
      "2025-04-04 17:24:28.947118: E external/local_xla/xla/stream_executor/cuda/cuda_fft.cc:467] Unable to register cuFFT factory: Attempting to register factory for plugin cuFFT when one has already been registered\n",
      "WARNING: All log messages before absl::InitializeLog() is called are written to STDERR\n",
      "E0000 00:00:1743755068.995799    5428 cuda_dnn.cc:8579] Unable to register cuDNN factory: Attempting to register factory for plugin cuDNN when one has already been registered\n",
      "E0000 00:00:1743755069.009420    5428 cuda_blas.cc:1407] Unable to register cuBLAS factory: Attempting to register factory for plugin cuBLAS when one has already been registered\n",
      "W0000 00:00:1743755069.127231    5428 computation_placer.cc:177] computation placer already registered. Please check linkage and avoid linking the same target more than once.\n",
      "W0000 00:00:1743755069.127250    5428 computation_placer.cc:177] computation placer already registered. Please check linkage and avoid linking the same target more than once.\n",
      "W0000 00:00:1743755069.127251    5428 computation_placer.cc:177] computation placer already registered. Please check linkage and avoid linking the same target more than once.\n",
      "W0000 00:00:1743755069.127253    5428 computation_placer.cc:177] computation placer already registered. Please check linkage and avoid linking the same target more than once.\n",
      "2025-04-04 17:24:29.142424: I tensorflow/core/platform/cpu_feature_guard.cc:210] This TensorFlow binary is optimized to use available CPU instructions in performance-critical operations.\n",
      "To enable the following instructions: AVX2 FMA, in other operations, rebuild TensorFlow with the appropriate compiler flags.\n"
     ]
    },
    {
     "ename": "",
     "evalue": "",
     "output_type": "error",
     "traceback": [
      "\u001b[1;31mThe Kernel crashed while executing code in the current cell or a previous cell. \n",
      "\u001b[1;31mPlease review the code in the cell(s) to identify a possible cause of the failure. \n",
      "\u001b[1;31mClick <a href='https://aka.ms/vscodeJupyterKernelCrash'>here</a> for more info. \n",
      "\u001b[1;31mView Jupyter <a href='command:jupyter.viewOutput'>log</a> for further details."
     ]
    }
   ],
   "source": [
    "import numpy as np\n",
    "import os\n",
    "import pickle\n",
    "from tensorflow.keras.utils import Sequence\n",
    "\n",
    "class MFCCBatchGenerator(Sequence):\n",
    "    def __init__(self, data_dir, encoder_path, batch_size=32, shuffle=True):\n",
    "        self.data_dir = data_dir\n",
    "        self.batch_size = batch_size\n",
    "        self.shuffle = shuffle\n",
    "\n",
    "        # 파일 목록\n",
    "        self.mfcc_files = sorted([f for f in os.listdir(data_dir) if f.startswith(\"mfcc_batch_\")])\n",
    "        self.label_files = sorted([f for f in os.listdir(data_dir) if f.startswith(\"label_batch_\")])\n",
    "        self.indexes = np.arange(len(self.mfcc_files))\n",
    "\n",
    "        # 라벨 인코더 로드\n",
    "        with open(encoder_path, \"rb\") as f:\n",
    "            self.encoder = pickle.load(f)\n",
    "\n",
    "        if shuffle:\n",
    "            np.random.shuffle(self.indexes)\n",
    "\n",
    "    def __len__(self):\n",
    "        return len(self.mfcc_files)\n",
    "\n",
    "    def __getitem__(self, idx):\n",
    "        i = self.indexes[idx]\n",
    "        mfcc_path = os.path.join(self.data_dir, self.mfcc_files[i])\n",
    "        label_path = os.path.join(self.data_dir, self.label_files[i])\n",
    "\n",
    "        X = np.load(mfcc_path)\n",
    "        y = np.load(label_path, allow_pickle=True)\n",
    "        y_encoded = self.encoder.transform(y)\n",
    "\n",
    "        return X[..., np.newaxis], y_encoded\n",
    "\n",
    "    def on_epoch_end(self):\n",
    "        if self.shuffle:\n",
    "            np.random.shuffle(self.indexes)\n"
   ]
  },
  {
   "cell_type": "markdown",
   "metadata": {},
   "source": [
    "## 모델 구조 추천 (성능 좋은 CNN 기반)\n",
    "- 기존보다 조금 더 깊고, BatchNormalization, Dropout 등을 넣어서 일반화 성능을 높이는 구조입니다.\n",
    "\n",
    "- 커널 과부하를 막기 위해 파라미터 수를 100만 이하로 제한했습니다."
   ]
  },
  {
   "cell_type": "code",
   "execution_count": null,
   "metadata": {},
   "outputs": [],
   "source": [
    "from tensorflow.keras.models import Sequential\n",
    "from tensorflow.keras.layers import Conv2D, MaxPooling2D, BatchNormalization\n",
    "from tensorflow.keras.layers import Flatten, Dense, Dropout\n",
    "from tensorflow.keras.optimizers import Adam\n",
    "\n",
    "def build_cnn_model(input_shape=(40, 300, 1), num_classes=4):\n",
    "    model = Sequential()\n",
    "\n",
    "    model.add(Conv2D(32, (3, 3), activation='relu', padding='same', input_shape=input_shape))\n",
    "    model.add(BatchNormalization())\n",
    "    model.add(MaxPooling2D((2, 2)))\n",
    "\n",
    "    model.add(Conv2D(64, (3, 3), activation='relu', padding='same'))\n",
    "    model.add(BatchNormalization())\n",
    "    model.add(MaxPooling2D((2, 2)))\n",
    "\n",
    "    model.add(Conv2D(128, (3, 3), activation='relu', padding='same'))\n",
    "    model.add(BatchNormalization())\n",
    "    model.add(MaxPooling2D((2, 2)))\n",
    "\n",
    "    model.add(Flatten())\n",
    "    model.add(Dense(128, activation='relu'))\n",
    "    model.add(Dropout(0.3))\n",
    "    model.add(Dense(num_classes, activation='softmax'))\n",
    "\n",
    "    model.compile(\n",
    "        optimizer=Adam(learning_rate=0.0005),\n",
    "        loss='sparse_categorical_crossentropy',\n",
    "        metrics=['accuracy']\n",
    "    )\n",
    "\n",
    "    return model\n"
   ]
  },
  {
   "cell_type": "markdown",
   "metadata": {},
   "source": [
    "# 학습 "
   ]
  },
  {
   "cell_type": "code",
   "execution_count": 20,
   "metadata": {},
   "outputs": [
    {
     "ename": "TypeError",
     "evalue": "MFCCBatchGenerator.__init__() missing 1 required positional argument: 'encoder_path'",
     "output_type": "error",
     "traceback": [
      "\u001b[31m---------------------------------------------------------------------------\u001b[39m",
      "\u001b[31mTypeError\u001b[39m                                 Traceback (most recent call last)",
      "\u001b[36mCell\u001b[39m\u001b[36m \u001b[39m\u001b[32mIn[20]\u001b[39m\u001b[32m, line 11\u001b[39m\n\u001b[32m      8\u001b[39m history_save_path = \u001b[33m\"\u001b[39m\u001b[33m./ai/models/history_4class.pkl\u001b[39m\u001b[33m\"\u001b[39m\n\u001b[32m     10\u001b[39m \u001b[38;5;66;03m# 배치 제너레이터 생성\u001b[39;00m\n\u001b[32m---> \u001b[39m\u001b[32m11\u001b[39m train_generator = \u001b[43mMFCCBatchGenerator\u001b[49m\u001b[43m(\u001b[49m\u001b[43mdata_dir\u001b[49m\u001b[43m=\u001b[49m\u001b[43mtrain_data_dir\u001b[49m\u001b[43m,\u001b[49m\u001b[43m \u001b[49m\u001b[43mbatch_size\u001b[49m\u001b[43m=\u001b[49m\u001b[32;43m64\u001b[39;49m\u001b[43m,\u001b[49m\u001b[43m \u001b[49m\u001b[43mshuffle\u001b[49m\u001b[43m=\u001b[49m\u001b[38;5;28;43;01mTrue\u001b[39;49;00m\u001b[43m)\u001b[49m\n\u001b[32m     13\u001b[39m \u001b[38;5;66;03m# 모델 빌드\u001b[39;00m\n\u001b[32m     14\u001b[39m model = build_cnn_model(input_shape=(\u001b[32m40\u001b[39m, \u001b[32m300\u001b[39m, \u001b[32m1\u001b[39m), num_classes=\u001b[32m4\u001b[39m)\n",
      "\u001b[31mTypeError\u001b[39m: MFCCBatchGenerator.__init__() missing 1 required positional argument: 'encoder_path'"
     ]
    }
   ],
   "source": [
    "import os\n",
    "from tensorflow.keras.callbacks import EarlyStopping, ModelCheckpoint\n",
    "import pickle\n",
    "\n",
    "# 경로 설정\n",
    "train_data_dir = \"/media/usou/PortableSSD/mldl_project/data4class_oversampled_batches\"\n",
    "model_save_path = \"./ai/models/voice_emotion_model_4class.keras\"\n",
    "history_save_path = \"./ai/models/history_4class.pkl\"\n",
    "\n",
    "# 배치 제너레이터 생성\n",
    "train_generator = MFCCBatchGenerator(data_dir=train_data_dir, batch_size=64, shuffle=True)\n",
    "\n",
    "# 모델 빌드\n",
    "model = build_cnn_model(input_shape=(40, 300, 1), num_classes=4)\n",
    "\n",
    "# 콜백 설정\n",
    "callbacks = [\n",
    "    EarlyStopping(monitor='loss', patience=60, restore_best_weights=True, verbose=1),\n",
    "    ModelCheckpoint(model_save_path, monitor='loss', save_best_only=True, verbose=1)\n",
    "]\n",
    "\n",
    "# 학습\n",
    "history = model.fit(\n",
    "    train_generator,\n",
    "    epochs=300,\n",
    "    callbacks=callbacks,\n",
    "    verbose=1\n",
    ")\n",
    "\n",
    "# 학습 이력 저장\n",
    "with open(history_save_path, \"wb\") as f:\n",
    "    pickle.dump(history.history, f)\n",
    "\n",
    "print(\"✅ 학습 완료 및 모델/이력 저장 완료\")\n"
   ]
  },
  {
   "cell_type": "markdown",
   "metadata": {},
   "source": [
    "# 다시 시작 \n",
    "# JSON -> DataFrame 변환(4개 감정만 필터링)"
   ]
  },
  {
   "cell_type": "code",
   "execution_count": 2,
   "metadata": {},
   "outputs": [
    {
     "name": "stderr",
     "output_type": "stream",
     "text": [
      "JSON 파일 탐색: 449it [02:39,  2.82it/s]\n"
     ]
    },
    {
     "name": "stdout",
     "output_type": "stream",
     "text": [
      "✅ 정상 처리된 데이터 수: 236584\n",
      "⚠️ 오류 수: 0\n"
     ]
    }
   ],
   "source": [
    "import os\n",
    "import json\n",
    "import pandas as pd\n",
    "from tqdm import tqdm\n",
    "\n",
    "# 사용할 감정 4종\n",
    "target_emotions = {\"neutral\", \"angry\", \"happy\", \"sad\"}\n",
    "\n",
    "# JSON 및 WAV 최상위 경로\n",
    "label_root = \"/media/usou/PortableSSD/mldl/015.감성 및 발화 스타일별 음성합성 데이터/01.데이터/1.Training/라벨링데이터/\"\n",
    "wav_root = \"/media/usou/PortableSSD/mldl/015.감성 및 발화 스타일별 음성합성 데이터/01.데이터/1.Training/원천데이터/\"\n",
    "\n",
    "# 결과 저장 경로: 외장 하드 mldl_4class 폴더\n",
    "save_dir = \"/media/usou/PortableSSD/mldl_4class\"\n",
    "os.makedirs(save_dir, exist_ok=True)\n",
    "\n",
    "# 데이터 수집 리스트\n",
    "data = []\n",
    "broken_files = []\n",
    "\n",
    "# JSON 탐색 및 처리\n",
    "for folder_path, _, files in tqdm(os.walk(label_root), desc=\"JSON 파일 탐색\"):\n",
    "    for file_name in files:\n",
    "        if file_name.endswith(\".json\"):\n",
    "            json_path = os.path.join(folder_path, file_name)\n",
    "            try:\n",
    "                with open(json_path, 'r', encoding='utf-8') as f:\n",
    "                    content = json.load(f)\n",
    "\n",
    "                emotion = content[\"화자정보\"][\"Emotion\"]\n",
    "                if emotion.lower() not in target_emotions:\n",
    "                    continue\n",
    "\n",
    "                style = content[\"화자정보\"].get(\"SpeechStyle\", \"N/A\")\n",
    "                sensitivity = content[\"화자정보\"].get(\"Sensitivity\", \"N/A\")\n",
    "                wav_file = content[\"파일정보\"][\"FileName\"]\n",
    "\n",
    "                relative_path = os.path.relpath(folder_path, start=label_root).replace(\"TL\", \"TS\")\n",
    "                wav_path = os.path.join(wav_root, relative_path, wav_file)\n",
    "\n",
    "                if os.path.exists(wav_path):\n",
    "                    data.append({\n",
    "                        \"wav_path\": wav_path,\n",
    "                        \"emotion\": emotion.lower(),\n",
    "                        \"style\": style,\n",
    "                        \"sensitivity\": sensitivity\n",
    "                    })\n",
    "                else:\n",
    "                    print(f\"[WAV 없음] {wav_path}\")\n",
    "                    broken_files.append(wav_path)\n",
    "\n",
    "            except Exception as e:\n",
    "                print(f\"[JSON 오류] {json_path}: {e}\")\n",
    "                broken_files.append(json_path)\n",
    "\n",
    "# DataFrame 저장\n",
    "df = pd.DataFrame(data)\n",
    "df.to_csv(os.path.join(save_dir, \"metadata_cleaned.csv\"), index=False)\n",
    "\n",
    "# 오류 로그 저장\n",
    "with open(os.path.join(save_dir, \"broken_files.txt\"), \"w\") as f:\n",
    "    for path in broken_files:\n",
    "        f.write(path + \"\\n\")\n",
    "\n",
    "print(f\"✅ 정상 처리된 데이터 수: {len(df)}\")\n",
    "print(f\"⚠️ 오류 수: {len(broken_files)}\")\n"
   ]
  },
  {
   "cell_type": "markdown",
   "metadata": {},
   "source": [
    "# MFCC 추출"
   ]
  },
  {
   "cell_type": "code",
   "execution_count": 3,
   "metadata": {},
   "outputs": [
    {
     "name": "stderr",
     "output_type": "stream",
     "text": [
      "/tmp/ipykernel_5551/4277833996.py:12: DtypeWarning: Columns (2) have mixed types. Specify dtype option on import or set low_memory=False.\n",
      "  df = pd.read_csv(csv_path)\n",
      "/tmp/ipykernel_5551/4277833996.py:18: DeprecationWarning: DataFrameGroupBy.apply operated on the grouping columns. This behavior is deprecated, and in a future version of pandas the grouping columns will be excluded from the operation. Either pass `include_groups=False` to exclude the groupings or explicitly select the grouping columns after groupby to silence this warning.\n",
      "  balanced_df = df.groupby('emotion', group_keys=False).apply(lambda x: x.sample(min_class_count, random_state=42)).reset_index(drop=True)\n"
     ]
    },
    {
     "name": "stdout",
     "output_type": "stream",
     "text": [
      "각 클래스 균형 샘플 수: 76332\n"
     ]
    },
    {
     "name": "stderr",
     "output_type": "stream",
     "text": [
      "MFCC 추출 중: 100%|██████████| 228996/228996 [44:48<00:00, 85.17it/s] "
     ]
    },
    {
     "name": "stdout",
     "output_type": "stream",
     "text": [
      "✅ 저장된 MFCC 배치 수: 23\n",
      "⚠️ 실패한 파일 수: 0\n"
     ]
    },
    {
     "name": "stderr",
     "output_type": "stream",
     "text": [
      "\n"
     ]
    }
   ],
   "source": [
    "import os\n",
    "import librosa\n",
    "import pandas as pd\n",
    "import numpy as np\n",
    "from tqdm import tqdm\n",
    "from collections import defaultdict\n",
    "\n",
    "# ============================\n",
    "# 1. 메타데이터 로드 및 클래스 균형 맞춤\n",
    "# ============================\n",
    "csv_path = \"/media/usou/PortableSSD/mldl_4class/metadata_cleaned.csv\"\n",
    "df = pd.read_csv(csv_path)\n",
    "\n",
    "# 클래스별 개수 파악\n",
    "min_class_count = df['emotion'].value_counts().min()\n",
    "\n",
    "# 클래스별 균형 맞춤\n",
    "balanced_df = df.groupby('emotion', group_keys=False).apply(lambda x: x.sample(min_class_count, random_state=42)).reset_index(drop=True)\n",
    "\n",
    "print(\"각 클래스 균형 샘플 수:\", min_class_count)\n",
    "\n",
    "# ============================\n",
    "# 2. 설정값 정의\n",
    "# ============================\n",
    "sample_rate = 16000\n",
    "max_duration = 5.0\n",
    "save_interval = 10000\n",
    "\n",
    "# 저장 디렉토리\n",
    "save_dir = \"/media/usou/PortableSSD/mldl_4class/mfcc_batches\"\n",
    "os.makedirs(save_dir, exist_ok=True)\n",
    "\n",
    "# ============================\n",
    "# 3. MFCC 추출 루프 (제너레이터 스타일)\n",
    "# ============================\n",
    "mfcc_features = []\n",
    "labels = []\n",
    "error_files = []\n",
    "save_counter = 0\n",
    "\n",
    "for idx, row in tqdm(balanced_df.iterrows(), total=len(balanced_df), desc=\"MFCC 추출 중\"):\n",
    "    wav_path = row[\"wav_path\"]\n",
    "    try:\n",
    "        y, sr = librosa.load(wav_path, sr=sample_rate, duration=max_duration)\n",
    "        mfcc = librosa.feature.mfcc(y=y, sr=sr, n_mfcc=13)\n",
    "        mfcc_features.append(mfcc.T)\n",
    "        labels.append(row[\"emotion\"])\n",
    "    except Exception as e:\n",
    "        print(f\"Error processing {wav_path}: {e}\")\n",
    "        error_files.append(wav_path)\n",
    "\n",
    "    if len(mfcc_features) >= save_interval:\n",
    "        np.save(os.path.join(save_dir, f\"mfcc_batch_{save_counter}.npy\"), np.array(mfcc_features, dtype=object))\n",
    "        np.save(os.path.join(save_dir, f\"label_batch_{save_counter}.npy\"), np.array(labels))\n",
    "        save_counter += 1\n",
    "        mfcc_features = []\n",
    "        labels = []\n",
    "\n",
    "# 남은 데이터 저장\n",
    "if mfcc_features:\n",
    "    np.save(os.path.join(save_dir, f\"mfcc_batch_{save_counter}.npy\"), np.array(mfcc_features, dtype=object))\n",
    "    np.save(os.path.join(save_dir, f\"label_batch_{save_counter}.npy\"), np.array(labels))\n",
    "\n",
    "# ============================\n",
    "# 4. 에러 로그 저장\n",
    "# ============================\n",
    "error_path = \"/media/usou/PortableSSD/mldl_4class/broken_audio_files.txt\"\n",
    "with open(error_path, \"w\") as f:\n",
    "    for path in error_files:\n",
    "        f.write(path + \"\\n\")\n",
    "\n",
    "# ============================\n",
    "# 5. 요약 출력\n",
    "# ============================\n",
    "print(f\"✅ 저장된 MFCC 배치 수: {save_counter + 1}\")\n",
    "print(f\"⚠️ 실패한 파일 수: {len(error_files)}\")\n"
   ]
  },
  {
   "cell_type": "markdown",
   "metadata": {},
   "source": [
    "# 레이블 인코딩(Train 데이터)"
   ]
  },
  {
   "cell_type": "code",
   "execution_count": 7,
   "metadata": {},
   "outputs": [
    {
     "name": "stderr",
     "output_type": "stream",
     "text": [
      "/tmp/ipykernel_5551/2700387088.py:12: DtypeWarning: Columns (2) have mixed types. Specify dtype option on import or set low_memory=False.\n",
      "  df = pd.read_csv(csv_path)\n"
     ]
    },
    {
     "name": "stdout",
     "output_type": "stream",
     "text": [
      "✅ 레이블 인코딩 완료 및 저장\n",
      "📦 저장 경로: /media/usou/PortableSSD/mldl_4class/mfcc_batches/encoded_labels\n"
     ]
    }
   ],
   "source": [
    "import os\n",
    "import pandas as pd\n",
    "import numpy as np\n",
    "from sklearn.preprocessing import LabelEncoder\n",
    "import pickle\n",
    "from tqdm import tqdm\n",
    "\n",
    "# ===============================\n",
    "# 1. 메타데이터 로드\n",
    "# ===============================\n",
    "csv_path = \"/media/usou/PortableSSD/mldl_4class/metadata_cleaned.csv\"\n",
    "df = pd.read_csv(csv_path)\n",
    "\n",
    "# ===============================\n",
    "# 2. 레이블 인코딩\n",
    "# ===============================\n",
    "encoder = LabelEncoder()\n",
    "encoded_labels = encoder.fit_transform(df[\"emotion\"])  # 'happy' → 0, ...\n",
    "\n",
    "# ===============================\n",
    "# 3. 인코더 저장 (나중에 검증 데이터에 동일하게 적용)\n",
    "# ===============================\n",
    "encoder_path = \"./label_encoder.pkl\"  # 현재 코드 폴더에 저장\n",
    "with open(encoder_path, \"wb\") as f:\n",
    "    pickle.dump(encoder, f)\n",
    "\n",
    "# ===============================\n",
    "# 4. 라벨을 MFCC 배치 기준으로 분리 저장\n",
    "# ===============================\n",
    "\n",
    "# 학습 데이터의 MFCC 배치 수 확인\n",
    "mfcc_dir = \"/media/usou/PortableSSD/mldl_4class/mfcc_batches\"\n",
    "mfcc_batches = sorted([f for f in os.listdir(mfcc_dir) if f.startswith(\"mfcc_batch\")])\n",
    "label_save_dir = os.path.join(mfcc_dir, \"encoded_labels\")\n",
    "os.makedirs(label_save_dir, exist_ok=True)\n",
    "\n",
    "start_idx = 0\n",
    "for i, batch_name in enumerate(mfcc_batches):\n",
    "    mfcc_path = os.path.join(mfcc_dir, batch_name)\n",
    "    batch_mfcc = np.load(mfcc_path, allow_pickle=True)\n",
    "    end_idx = start_idx + len(batch_mfcc)\n",
    "    batch_labels = encoded_labels[start_idx:end_idx]\n",
    "    \n",
    "    # 저장\n",
    "    np.save(os.path.join(label_save_dir, f\"label_batch_{i}.npy\"), batch_labels)\n",
    "    start_idx = end_idx\n",
    "\n",
    "print(\"✅ 레이블 인코딩 완료 및 저장\")\n",
    "print(\"📦 저장 경로:\", label_save_dir)\n"
   ]
  },
  {
   "cell_type": "markdown",
   "metadata": {},
   "source": [
    "## Validation 전처리 (Train 과 동일)"
   ]
  },
  {
   "cell_type": "code",
   "execution_count": 5,
   "metadata": {},
   "outputs": [
    {
     "name": "stderr",
     "output_type": "stream",
     "text": [
      "Validation JSON 탐색: 0it [00:00, ?it/s]"
     ]
    },
    {
     "name": "stderr",
     "output_type": "stream",
     "text": [
      "Validation JSON 탐색: 88it [00:05, 15.21it/s]\n"
     ]
    },
    {
     "name": "stdout",
     "output_type": "stream",
     "text": [
      "✅ Validation 데이터 수: 36207\n",
      "⚠️ 오류 파일 수: 0\n"
     ]
    }
   ],
   "source": [
    "import os\n",
    "import json\n",
    "import pandas as pd\n",
    "from tqdm import tqdm\n",
    "\n",
    "# ========================================\n",
    "# 1. 경로 설정\n",
    "# ========================================\n",
    "\n",
    "label_root = \"/media/usou/PortableSSD/mldl/015.감성 및 발화 스타일별 음성합성 데이터/01.데이터/2.Validation/라벨링데이터/VL1\"\n",
    "wav_root = \"/media/usou/PortableSSD/mldl/015.감성 및 발화 스타일별 음성합성 데이터/01.데이터/2.Validation/원천데이터/VS1\"\n",
    "save_dir = \"/media/usou/PortableSSD/mldl_4class/validation\"\n",
    "os.makedirs(save_dir, exist_ok=True)\n",
    "\n",
    "# ========================================\n",
    "# 2. 필터링 감정 정의 및 리스트 초기화\n",
    "# ========================================\n",
    "\n",
    "target_emotions = {\"neutral\", \"angry\", \"happy\", \"sad\"}\n",
    "data = []\n",
    "broken_files = []\n",
    "\n",
    "# ========================================\n",
    "# 3. JSON 탐색 및 필터링 처리\n",
    "# ========================================\n",
    "\n",
    "for folder_path, _, files in tqdm(os.walk(label_root), desc=\"Validation JSON 탐색\"):\n",
    "    for file_name in files:\n",
    "        if file_name.endswith(\".json\"):\n",
    "            json_path = os.path.join(folder_path, file_name)\n",
    "            try:\n",
    "                with open(json_path, 'r', encoding='utf-8') as f:\n",
    "                    content = json.load(f)\n",
    "\n",
    "                emotion = content[\"화자정보\"][\"Emotion\"].lower()\n",
    "                if emotion not in target_emotions:\n",
    "                    continue\n",
    "\n",
    "                style = content[\"화자정보\"].get(\"SpeechStyle\", \"N/A\")\n",
    "                sensitivity = content[\"화자정보\"].get(\"Sensitivity\", \"N/A\")\n",
    "                wav_file = content[\"파일정보\"][\"FileName\"]\n",
    "\n",
    "                relative_path = os.path.relpath(folder_path, start=label_root)\n",
    "                wav_path = os.path.join(wav_root, relative_path, wav_file)\n",
    "\n",
    "                if os.path.exists(wav_path):\n",
    "                    data.append({\n",
    "                        \"wav_path\": wav_path,\n",
    "                        \"emotion\": emotion,\n",
    "                        \"style\": style,\n",
    "                        \"sensitivity\": sensitivity\n",
    "                    })\n",
    "                else:\n",
    "                    print(f\"WAV 파일 없음: {wav_path}\")\n",
    "                    broken_files.append(wav_path)\n",
    "\n",
    "            except Exception as e:\n",
    "                print(f\"JSON 읽기 오류: {json_path}, 에러: {e}\")\n",
    "                broken_files.append(json_path)\n",
    "\n",
    "# ========================================\n",
    "# 4. 결과 저장\n",
    "# ========================================\n",
    "\n",
    "df = pd.DataFrame(data)\n",
    "df.to_csv(os.path.join(save_dir, \"metadata_cleaned_val.csv\"), index=False)\n",
    "\n",
    "with open(os.path.join(save_dir, \"broken_val_files.txt\"), \"w\") as f:\n",
    "    for path in broken_files:\n",
    "        f.write(path + \"\\n\")\n",
    "\n",
    "print(f\"✅ Validation 데이터 수: {len(df)}\")\n",
    "print(f\"⚠️ 오류 파일 수: {len(broken_files)}\")\n"
   ]
  },
  {
   "cell_type": "markdown",
   "metadata": {},
   "source": [
    "## MFCC 추출 (Validation용, 클래스 불균형 조정 없이 전체 추출)"
   ]
  },
  {
   "cell_type": "code",
   "execution_count": 6,
   "metadata": {},
   "outputs": [
    {
     "name": "stderr",
     "output_type": "stream",
     "text": [
      "MFCC 추출 중 (Validation): 100%|██████████| 36207/36207 [10:14<00:00, 58.88it/s]\n"
     ]
    },
    {
     "name": "stdout",
     "output_type": "stream",
     "text": [
      "✅ 저장된 MFCC 배치 수: 4\n",
      "⚠️ 실패한 파일 수: 0\n"
     ]
    }
   ],
   "source": [
    "import os\n",
    "import librosa\n",
    "import pandas as pd\n",
    "import numpy as np\n",
    "from tqdm import tqdm\n",
    "\n",
    "# ========================================\n",
    "# 1. 메타데이터 로드\n",
    "# ========================================\n",
    "\n",
    "csv_path = \"/media/usou/PortableSSD/mldl_4class/validation/metadata_cleaned_val.csv\"\n",
    "df = pd.read_csv(csv_path)\n",
    "\n",
    "# ========================================\n",
    "# 2. 설정값 정의\n",
    "# ========================================\n",
    "\n",
    "sample_rate = 16000\n",
    "max_duration = 5.0\n",
    "save_interval = 10000\n",
    "\n",
    "# 저장 디렉토리\n",
    "save_dir = \"/media/usou/PortableSSD/mldl_4class/validation/mfcc_batches\"\n",
    "os.makedirs(save_dir, exist_ok=True)\n",
    "\n",
    "# ========================================\n",
    "# 3. MFCC 추출 루프 (제너레이터 방식)\n",
    "# ========================================\n",
    "\n",
    "mfcc_features = []\n",
    "labels = []\n",
    "error_files = []\n",
    "save_counter = 0\n",
    "\n",
    "for idx, row in tqdm(df.iterrows(), total=len(df), desc=\"MFCC 추출 중 (Validation)\"):\n",
    "    wav_path = row[\"wav_path\"]\n",
    "    try:\n",
    "        y, sr = librosa.load(wav_path, sr=sample_rate, duration=max_duration)\n",
    "        mfcc = librosa.feature.mfcc(y=y, sr=sr, n_mfcc=13)\n",
    "        mfcc_features.append(mfcc.T)\n",
    "        labels.append(row[\"emotion\"])\n",
    "    except Exception as e:\n",
    "        print(f\"Error processing {wav_path}: {e}\")\n",
    "        error_files.append(wav_path)\n",
    "\n",
    "    if len(mfcc_features) >= save_interval:\n",
    "        np.save(os.path.join(save_dir, f\"mfcc_batch_{save_counter}.npy\"), np.array(mfcc_features, dtype=object))\n",
    "        np.save(os.path.join(save_dir, f\"label_batch_{save_counter}.npy\"), np.array(labels))\n",
    "        save_counter += 1\n",
    "        mfcc_features = []\n",
    "        labels = []\n",
    "\n",
    "# 남은 데이터 저장\n",
    "if mfcc_features:\n",
    "    np.save(os.path.join(save_dir, f\"mfcc_batch_{save_counter}.npy\"), np.array(mfcc_features, dtype=object))\n",
    "    np.save(os.path.join(save_dir, f\"label_batch_{save_counter}.npy\"), np.array(labels))\n",
    "\n",
    "# ========================================\n",
    "# 4. 에러 로그 저장\n",
    "# ========================================\n",
    "\n",
    "with open(\"/media/usou/PortableSSD/mldl_4class/validation/broken_audio_val.txt\", \"w\") as f:\n",
    "    for path in error_files:\n",
    "        f.write(path + \"\\n\")\n",
    "\n",
    "# ========================================\n",
    "# 5. 결과 출력\n",
    "# ========================================\n",
    "\n",
    "print(f\"✅ 저장된 MFCC 배치 수: {save_counter + 1}\")\n",
    "print(f\"⚠️ 실패한 파일 수: {len(error_files)}\")\n"
   ]
  },
  {
   "cell_type": "markdown",
   "metadata": {},
   "source": [
    "# Validation 레이블 인코딩 (학습용 인코더 재사용)"
   ]
  },
  {
   "cell_type": "code",
   "execution_count": 8,
   "metadata": {},
   "outputs": [
    {
     "name": "stdout",
     "output_type": "stream",
     "text": [
      "✅ Validation 라벨 인코딩 완료 및 저장\n",
      "📦 저장 경로: /media/usou/PortableSSD/mldl_4class/validation/mfcc_batches/encoded_labels\n"
     ]
    }
   ],
   "source": [
    "import os\n",
    "import pandas as pd\n",
    "import numpy as np\n",
    "import pickle\n",
    "from tqdm import tqdm\n",
    "\n",
    "# ========================================\n",
    "# 1. LabelEncoder 로드\n",
    "# ========================================\n",
    "encoder_path = \"./label_encoder.pkl\"  # Train 3번 셀에서 저장한 인코더\n",
    "with open(encoder_path, \"rb\") as f:\n",
    "    encoder = pickle.load(f)\n",
    "\n",
    "# ========================================\n",
    "# 2. Validation 메타데이터 로드\n",
    "# ========================================\n",
    "csv_path = \"/media/usou/PortableSSD/mldl_4class/validation/metadata_cleaned_val.csv\"\n",
    "df = pd.read_csv(csv_path)\n",
    "\n",
    "# ========================================\n",
    "# 3. 레이블 인코딩 적용\n",
    "# ========================================\n",
    "encoded_labels = encoder.transform(df[\"emotion\"])\n",
    "\n",
    "# ========================================\n",
    "# 4. MFCC 배치 기준으로 라벨 분리 저장\n",
    "# ========================================\n",
    "mfcc_dir = \"/media/usou/PortableSSD/mldl_4class/validation/mfcc_batches\"\n",
    "mfcc_batches = sorted([f for f in os.listdir(mfcc_dir) if f.startswith(\"mfcc_batch\")])\n",
    "label_save_dir = os.path.join(mfcc_dir, \"encoded_labels\")\n",
    "os.makedirs(label_save_dir, exist_ok=True)\n",
    "\n",
    "start_idx = 0\n",
    "for i, batch_name in enumerate(mfcc_batches):\n",
    "    mfcc_path = os.path.join(mfcc_dir, batch_name)\n",
    "    batch_mfcc = np.load(mfcc_path, allow_pickle=True)\n",
    "    end_idx = start_idx + len(batch_mfcc)\n",
    "    batch_labels = encoded_labels[start_idx:end_idx]\n",
    "    \n",
    "    # 저장\n",
    "    np.save(os.path.join(label_save_dir, f\"label_batch_{i}.npy\"), batch_labels)\n",
    "    start_idx = end_idx\n",
    "\n",
    "print(\"✅ Validation 라벨 인코딩 완료 및 저장\")\n",
    "print(\"📦 저장 경로:\", label_save_dir)\n"
   ]
  },
  {
   "cell_type": "markdown",
   "metadata": {},
   "source": [
    "## CNN 모델 정의 (TensorFlow)"
   ]
  },
  {
   "cell_type": "code",
   "execution_count": 1,
   "metadata": {},
   "outputs": [
    {
     "name": "stderr",
     "output_type": "stream",
     "text": [
      "2025-04-04 22:04:02.463416: E external/local_xla/xla/stream_executor/cuda/cuda_fft.cc:467] Unable to register cuFFT factory: Attempting to register factory for plugin cuFFT when one has already been registered\n",
      "WARNING: All log messages before absl::InitializeLog() is called are written to STDERR\n",
      "E0000 00:00:1743771842.481758   21737 cuda_dnn.cc:8579] Unable to register cuDNN factory: Attempting to register factory for plugin cuDNN when one has already been registered\n",
      "E0000 00:00:1743771842.487580   21737 cuda_blas.cc:1407] Unable to register cuBLAS factory: Attempting to register factory for plugin cuBLAS when one has already been registered\n",
      "W0000 00:00:1743771842.501105   21737 computation_placer.cc:177] computation placer already registered. Please check linkage and avoid linking the same target more than once.\n",
      "W0000 00:00:1743771842.501129   21737 computation_placer.cc:177] computation placer already registered. Please check linkage and avoid linking the same target more than once.\n",
      "W0000 00:00:1743771842.501130   21737 computation_placer.cc:177] computation placer already registered. Please check linkage and avoid linking the same target more than once.\n",
      "W0000 00:00:1743771842.501131   21737 computation_placer.cc:177] computation placer already registered. Please check linkage and avoid linking the same target more than once.\n",
      "2025-04-04 22:04:02.505074: I tensorflow/core/platform/cpu_feature_guard.cc:210] This TensorFlow binary is optimized to use available CPU instructions in performance-critical operations.\n",
      "To enable the following instructions: AVX2 FMA, in other operations, rebuild TensorFlow with the appropriate compiler flags.\n",
      "2025-04-04 22:04:05.800758: E external/local_xla/xla/stream_executor/cuda/cuda_platform.cc:51] failed call to cuInit: INTERNAL: CUDA error: Failed call to cuInit: CUDA_ERROR_UNKNOWN: unknown error\n",
      "2025-04-04 22:04:05.800780: I external/local_xla/xla/stream_executor/cuda/cuda_diagnostics.cc:178] verbose logging is disabled. Rerun with verbose logging (usually --v=1 or --vmodule=cuda_diagnostics=1) to get more diagnostic output from this module\n",
      "2025-04-04 22:04:05.800784: I external/local_xla/xla/stream_executor/cuda/cuda_diagnostics.cc:183] retrieving CUDA diagnostic information for host: usou-GP75-Leopard-10SEK\n",
      "2025-04-04 22:04:05.800787: I external/local_xla/xla/stream_executor/cuda/cuda_diagnostics.cc:190] hostname: usou-GP75-Leopard-10SEK\n",
      "2025-04-04 22:04:05.800876: I external/local_xla/xla/stream_executor/cuda/cuda_diagnostics.cc:197] libcuda reported version is: 550.144.3\n",
      "2025-04-04 22:04:05.800887: I external/local_xla/xla/stream_executor/cuda/cuda_diagnostics.cc:201] kernel reported version is: 550.144.3\n",
      "2025-04-04 22:04:05.800889: I external/local_xla/xla/stream_executor/cuda/cuda_diagnostics.cc:291] kernel version seems to match DSO: 550.144.3\n",
      "/home/usou/dev_ws/superbad/deeplearning-repo-3/dolbom_venv/lib/python3.12/site-packages/keras/src/layers/convolutional/base_conv.py:107: UserWarning: Do not pass an `input_shape`/`input_dim` argument to a layer. When using Sequential models, prefer using an `Input(shape)` object as the first layer in the model instead.\n",
      "  super().__init__(activity_regularizer=activity_regularizer, **kwargs)\n"
     ]
    },
    {
     "data": {
      "text/html": [
       "<pre style=\"white-space:pre;overflow-x:auto;line-height:normal;font-family:Menlo,'DejaVu Sans Mono',consolas,'Courier New',monospace\"><span style=\"font-weight: bold\">Model: \"sequential\"</span>\n",
       "</pre>\n"
      ],
      "text/plain": [
       "\u001b[1mModel: \"sequential\"\u001b[0m\n"
      ]
     },
     "metadata": {},
     "output_type": "display_data"
    },
    {
     "data": {
      "text/html": [
       "<pre style=\"white-space:pre;overflow-x:auto;line-height:normal;font-family:Menlo,'DejaVu Sans Mono',consolas,'Courier New',monospace\">┏━━━━━━━━━━━━━━━━━━━━━━━━━━━━━━━━━┳━━━━━━━━━━━━━━━━━━━━━━━━┳━━━━━━━━━━━━━━━┓\n",
       "┃<span style=\"font-weight: bold\"> Layer (type)                    </span>┃<span style=\"font-weight: bold\"> Output Shape           </span>┃<span style=\"font-weight: bold\">       Param # </span>┃\n",
       "┡━━━━━━━━━━━━━━━━━━━━━━━━━━━━━━━━━╇━━━━━━━━━━━━━━━━━━━━━━━━╇━━━━━━━━━━━━━━━┩\n",
       "│ conv2d (<span style=\"color: #0087ff; text-decoration-color: #0087ff\">Conv2D</span>)                 │ (<span style=\"color: #00d7ff; text-decoration-color: #00d7ff\">None</span>, <span style=\"color: #00af00; text-decoration-color: #00af00\">40</span>, <span style=\"color: #00af00; text-decoration-color: #00af00\">100</span>, <span style=\"color: #00af00; text-decoration-color: #00af00\">32</span>)    │           <span style=\"color: #00af00; text-decoration-color: #00af00\">320</span> │\n",
       "├─────────────────────────────────┼────────────────────────┼───────────────┤\n",
       "│ batch_normalization             │ (<span style=\"color: #00d7ff; text-decoration-color: #00d7ff\">None</span>, <span style=\"color: #00af00; text-decoration-color: #00af00\">40</span>, <span style=\"color: #00af00; text-decoration-color: #00af00\">100</span>, <span style=\"color: #00af00; text-decoration-color: #00af00\">32</span>)    │           <span style=\"color: #00af00; text-decoration-color: #00af00\">128</span> │\n",
       "│ (<span style=\"color: #0087ff; text-decoration-color: #0087ff\">BatchNormalization</span>)            │                        │               │\n",
       "├─────────────────────────────────┼────────────────────────┼───────────────┤\n",
       "│ max_pooling2d (<span style=\"color: #0087ff; text-decoration-color: #0087ff\">MaxPooling2D</span>)    │ (<span style=\"color: #00d7ff; text-decoration-color: #00d7ff\">None</span>, <span style=\"color: #00af00; text-decoration-color: #00af00\">20</span>, <span style=\"color: #00af00; text-decoration-color: #00af00\">50</span>, <span style=\"color: #00af00; text-decoration-color: #00af00\">32</span>)     │             <span style=\"color: #00af00; text-decoration-color: #00af00\">0</span> │\n",
       "├─────────────────────────────────┼────────────────────────┼───────────────┤\n",
       "│ conv2d_1 (<span style=\"color: #0087ff; text-decoration-color: #0087ff\">Conv2D</span>)               │ (<span style=\"color: #00d7ff; text-decoration-color: #00d7ff\">None</span>, <span style=\"color: #00af00; text-decoration-color: #00af00\">20</span>, <span style=\"color: #00af00; text-decoration-color: #00af00\">50</span>, <span style=\"color: #00af00; text-decoration-color: #00af00\">64</span>)     │        <span style=\"color: #00af00; text-decoration-color: #00af00\">18,496</span> │\n",
       "├─────────────────────────────────┼────────────────────────┼───────────────┤\n",
       "│ batch_normalization_1           │ (<span style=\"color: #00d7ff; text-decoration-color: #00d7ff\">None</span>, <span style=\"color: #00af00; text-decoration-color: #00af00\">20</span>, <span style=\"color: #00af00; text-decoration-color: #00af00\">50</span>, <span style=\"color: #00af00; text-decoration-color: #00af00\">64</span>)     │           <span style=\"color: #00af00; text-decoration-color: #00af00\">256</span> │\n",
       "│ (<span style=\"color: #0087ff; text-decoration-color: #0087ff\">BatchNormalization</span>)            │                        │               │\n",
       "├─────────────────────────────────┼────────────────────────┼───────────────┤\n",
       "│ max_pooling2d_1 (<span style=\"color: #0087ff; text-decoration-color: #0087ff\">MaxPooling2D</span>)  │ (<span style=\"color: #00d7ff; text-decoration-color: #00d7ff\">None</span>, <span style=\"color: #00af00; text-decoration-color: #00af00\">10</span>, <span style=\"color: #00af00; text-decoration-color: #00af00\">25</span>, <span style=\"color: #00af00; text-decoration-color: #00af00\">64</span>)     │             <span style=\"color: #00af00; text-decoration-color: #00af00\">0</span> │\n",
       "├─────────────────────────────────┼────────────────────────┼───────────────┤\n",
       "│ conv2d_2 (<span style=\"color: #0087ff; text-decoration-color: #0087ff\">Conv2D</span>)               │ (<span style=\"color: #00d7ff; text-decoration-color: #00d7ff\">None</span>, <span style=\"color: #00af00; text-decoration-color: #00af00\">10</span>, <span style=\"color: #00af00; text-decoration-color: #00af00\">25</span>, <span style=\"color: #00af00; text-decoration-color: #00af00\">128</span>)    │        <span style=\"color: #00af00; text-decoration-color: #00af00\">73,856</span> │\n",
       "├─────────────────────────────────┼────────────────────────┼───────────────┤\n",
       "│ batch_normalization_2           │ (<span style=\"color: #00d7ff; text-decoration-color: #00d7ff\">None</span>, <span style=\"color: #00af00; text-decoration-color: #00af00\">10</span>, <span style=\"color: #00af00; text-decoration-color: #00af00\">25</span>, <span style=\"color: #00af00; text-decoration-color: #00af00\">128</span>)    │           <span style=\"color: #00af00; text-decoration-color: #00af00\">512</span> │\n",
       "│ (<span style=\"color: #0087ff; text-decoration-color: #0087ff\">BatchNormalization</span>)            │                        │               │\n",
       "├─────────────────────────────────┼────────────────────────┼───────────────┤\n",
       "│ max_pooling2d_2 (<span style=\"color: #0087ff; text-decoration-color: #0087ff\">MaxPooling2D</span>)  │ (<span style=\"color: #00d7ff; text-decoration-color: #00d7ff\">None</span>, <span style=\"color: #00af00; text-decoration-color: #00af00\">5</span>, <span style=\"color: #00af00; text-decoration-color: #00af00\">12</span>, <span style=\"color: #00af00; text-decoration-color: #00af00\">128</span>)     │             <span style=\"color: #00af00; text-decoration-color: #00af00\">0</span> │\n",
       "├─────────────────────────────────┼────────────────────────┼───────────────┤\n",
       "│ flatten (<span style=\"color: #0087ff; text-decoration-color: #0087ff\">Flatten</span>)               │ (<span style=\"color: #00d7ff; text-decoration-color: #00d7ff\">None</span>, <span style=\"color: #00af00; text-decoration-color: #00af00\">7680</span>)           │             <span style=\"color: #00af00; text-decoration-color: #00af00\">0</span> │\n",
       "├─────────────────────────────────┼────────────────────────┼───────────────┤\n",
       "│ dense (<span style=\"color: #0087ff; text-decoration-color: #0087ff\">Dense</span>)                   │ (<span style=\"color: #00d7ff; text-decoration-color: #00d7ff\">None</span>, <span style=\"color: #00af00; text-decoration-color: #00af00\">128</span>)            │       <span style=\"color: #00af00; text-decoration-color: #00af00\">983,168</span> │\n",
       "├─────────────────────────────────┼────────────────────────┼───────────────┤\n",
       "│ dropout (<span style=\"color: #0087ff; text-decoration-color: #0087ff\">Dropout</span>)               │ (<span style=\"color: #00d7ff; text-decoration-color: #00d7ff\">None</span>, <span style=\"color: #00af00; text-decoration-color: #00af00\">128</span>)            │             <span style=\"color: #00af00; text-decoration-color: #00af00\">0</span> │\n",
       "├─────────────────────────────────┼────────────────────────┼───────────────┤\n",
       "│ dense_1 (<span style=\"color: #0087ff; text-decoration-color: #0087ff\">Dense</span>)                 │ (<span style=\"color: #00d7ff; text-decoration-color: #00d7ff\">None</span>, <span style=\"color: #00af00; text-decoration-color: #00af00\">4</span>)              │           <span style=\"color: #00af00; text-decoration-color: #00af00\">516</span> │\n",
       "└─────────────────────────────────┴────────────────────────┴───────────────┘\n",
       "</pre>\n"
      ],
      "text/plain": [
       "┏━━━━━━━━━━━━━━━━━━━━━━━━━━━━━━━━━┳━━━━━━━━━━━━━━━━━━━━━━━━┳━━━━━━━━━━━━━━━┓\n",
       "┃\u001b[1m \u001b[0m\u001b[1mLayer (type)                   \u001b[0m\u001b[1m \u001b[0m┃\u001b[1m \u001b[0m\u001b[1mOutput Shape          \u001b[0m\u001b[1m \u001b[0m┃\u001b[1m \u001b[0m\u001b[1m      Param #\u001b[0m\u001b[1m \u001b[0m┃\n",
       "┡━━━━━━━━━━━━━━━━━━━━━━━━━━━━━━━━━╇━━━━━━━━━━━━━━━━━━━━━━━━╇━━━━━━━━━━━━━━━┩\n",
       "│ conv2d (\u001b[38;5;33mConv2D\u001b[0m)                 │ (\u001b[38;5;45mNone\u001b[0m, \u001b[38;5;34m40\u001b[0m, \u001b[38;5;34m100\u001b[0m, \u001b[38;5;34m32\u001b[0m)    │           \u001b[38;5;34m320\u001b[0m │\n",
       "├─────────────────────────────────┼────────────────────────┼───────────────┤\n",
       "│ batch_normalization             │ (\u001b[38;5;45mNone\u001b[0m, \u001b[38;5;34m40\u001b[0m, \u001b[38;5;34m100\u001b[0m, \u001b[38;5;34m32\u001b[0m)    │           \u001b[38;5;34m128\u001b[0m │\n",
       "│ (\u001b[38;5;33mBatchNormalization\u001b[0m)            │                        │               │\n",
       "├─────────────────────────────────┼────────────────────────┼───────────────┤\n",
       "│ max_pooling2d (\u001b[38;5;33mMaxPooling2D\u001b[0m)    │ (\u001b[38;5;45mNone\u001b[0m, \u001b[38;5;34m20\u001b[0m, \u001b[38;5;34m50\u001b[0m, \u001b[38;5;34m32\u001b[0m)     │             \u001b[38;5;34m0\u001b[0m │\n",
       "├─────────────────────────────────┼────────────────────────┼───────────────┤\n",
       "│ conv2d_1 (\u001b[38;5;33mConv2D\u001b[0m)               │ (\u001b[38;5;45mNone\u001b[0m, \u001b[38;5;34m20\u001b[0m, \u001b[38;5;34m50\u001b[0m, \u001b[38;5;34m64\u001b[0m)     │        \u001b[38;5;34m18,496\u001b[0m │\n",
       "├─────────────────────────────────┼────────────────────────┼───────────────┤\n",
       "│ batch_normalization_1           │ (\u001b[38;5;45mNone\u001b[0m, \u001b[38;5;34m20\u001b[0m, \u001b[38;5;34m50\u001b[0m, \u001b[38;5;34m64\u001b[0m)     │           \u001b[38;5;34m256\u001b[0m │\n",
       "│ (\u001b[38;5;33mBatchNormalization\u001b[0m)            │                        │               │\n",
       "├─────────────────────────────────┼────────────────────────┼───────────────┤\n",
       "│ max_pooling2d_1 (\u001b[38;5;33mMaxPooling2D\u001b[0m)  │ (\u001b[38;5;45mNone\u001b[0m, \u001b[38;5;34m10\u001b[0m, \u001b[38;5;34m25\u001b[0m, \u001b[38;5;34m64\u001b[0m)     │             \u001b[38;5;34m0\u001b[0m │\n",
       "├─────────────────────────────────┼────────────────────────┼───────────────┤\n",
       "│ conv2d_2 (\u001b[38;5;33mConv2D\u001b[0m)               │ (\u001b[38;5;45mNone\u001b[0m, \u001b[38;5;34m10\u001b[0m, \u001b[38;5;34m25\u001b[0m, \u001b[38;5;34m128\u001b[0m)    │        \u001b[38;5;34m73,856\u001b[0m │\n",
       "├─────────────────────────────────┼────────────────────────┼───────────────┤\n",
       "│ batch_normalization_2           │ (\u001b[38;5;45mNone\u001b[0m, \u001b[38;5;34m10\u001b[0m, \u001b[38;5;34m25\u001b[0m, \u001b[38;5;34m128\u001b[0m)    │           \u001b[38;5;34m512\u001b[0m │\n",
       "│ (\u001b[38;5;33mBatchNormalization\u001b[0m)            │                        │               │\n",
       "├─────────────────────────────────┼────────────────────────┼───────────────┤\n",
       "│ max_pooling2d_2 (\u001b[38;5;33mMaxPooling2D\u001b[0m)  │ (\u001b[38;5;45mNone\u001b[0m, \u001b[38;5;34m5\u001b[0m, \u001b[38;5;34m12\u001b[0m, \u001b[38;5;34m128\u001b[0m)     │             \u001b[38;5;34m0\u001b[0m │\n",
       "├─────────────────────────────────┼────────────────────────┼───────────────┤\n",
       "│ flatten (\u001b[38;5;33mFlatten\u001b[0m)               │ (\u001b[38;5;45mNone\u001b[0m, \u001b[38;5;34m7680\u001b[0m)           │             \u001b[38;5;34m0\u001b[0m │\n",
       "├─────────────────────────────────┼────────────────────────┼───────────────┤\n",
       "│ dense (\u001b[38;5;33mDense\u001b[0m)                   │ (\u001b[38;5;45mNone\u001b[0m, \u001b[38;5;34m128\u001b[0m)            │       \u001b[38;5;34m983,168\u001b[0m │\n",
       "├─────────────────────────────────┼────────────────────────┼───────────────┤\n",
       "│ dropout (\u001b[38;5;33mDropout\u001b[0m)               │ (\u001b[38;5;45mNone\u001b[0m, \u001b[38;5;34m128\u001b[0m)            │             \u001b[38;5;34m0\u001b[0m │\n",
       "├─────────────────────────────────┼────────────────────────┼───────────────┤\n",
       "│ dense_1 (\u001b[38;5;33mDense\u001b[0m)                 │ (\u001b[38;5;45mNone\u001b[0m, \u001b[38;5;34m4\u001b[0m)              │           \u001b[38;5;34m516\u001b[0m │\n",
       "└─────────────────────────────────┴────────────────────────┴───────────────┘\n"
      ]
     },
     "metadata": {},
     "output_type": "display_data"
    },
    {
     "data": {
      "text/html": [
       "<pre style=\"white-space:pre;overflow-x:auto;line-height:normal;font-family:Menlo,'DejaVu Sans Mono',consolas,'Courier New',monospace\"><span style=\"font-weight: bold\"> Total params: </span><span style=\"color: #00af00; text-decoration-color: #00af00\">1,077,252</span> (4.11 MB)\n",
       "</pre>\n"
      ],
      "text/plain": [
       "\u001b[1m Total params: \u001b[0m\u001b[38;5;34m1,077,252\u001b[0m (4.11 MB)\n"
      ]
     },
     "metadata": {},
     "output_type": "display_data"
    },
    {
     "data": {
      "text/html": [
       "<pre style=\"white-space:pre;overflow-x:auto;line-height:normal;font-family:Menlo,'DejaVu Sans Mono',consolas,'Courier New',monospace\"><span style=\"font-weight: bold\"> Trainable params: </span><span style=\"color: #00af00; text-decoration-color: #00af00\">1,076,804</span> (4.11 MB)\n",
       "</pre>\n"
      ],
      "text/plain": [
       "\u001b[1m Trainable params: \u001b[0m\u001b[38;5;34m1,076,804\u001b[0m (4.11 MB)\n"
      ]
     },
     "metadata": {},
     "output_type": "display_data"
    },
    {
     "data": {
      "text/html": [
       "<pre style=\"white-space:pre;overflow-x:auto;line-height:normal;font-family:Menlo,'DejaVu Sans Mono',consolas,'Courier New',monospace\"><span style=\"font-weight: bold\"> Non-trainable params: </span><span style=\"color: #00af00; text-decoration-color: #00af00\">448</span> (1.75 KB)\n",
       "</pre>\n"
      ],
      "text/plain": [
       "\u001b[1m Non-trainable params: \u001b[0m\u001b[38;5;34m448\u001b[0m (1.75 KB)\n"
      ]
     },
     "metadata": {},
     "output_type": "display_data"
    }
   ],
   "source": [
    "import tensorflow as tf\n",
    "from tensorflow.keras.models import Sequential\n",
    "from tensorflow.keras.layers import Conv2D, MaxPooling2D, BatchNormalization\n",
    "from tensorflow.keras.layers import Flatten, Dense, Dropout\n",
    "from tensorflow.keras.optimizers import Adam\n",
    "\n",
    "# GPU 메모리 점진 할당\n",
    "gpus = tf.config.experimental.list_physical_devices('GPU')\n",
    "for gpu in gpus:\n",
    "    tf.config.experimental.set_memory_growth(gpu, True)\n",
    "\n",
    "def build_cnn_model(input_shape=(40, 100, 1), num_classes=4):  # ← 줄인 입력\n",
    "    model = Sequential()\n",
    "\n",
    "    model.add(Conv2D(32, (3, 3), activation='relu', padding='same', input_shape=input_shape))\n",
    "    model.add(BatchNormalization())\n",
    "    model.add(MaxPooling2D((2, 2)))\n",
    "\n",
    "    model.add(Conv2D(64, (3, 3), activation='relu', padding='same'))\n",
    "    model.add(BatchNormalization())\n",
    "    model.add(MaxPooling2D((2, 2)))\n",
    "\n",
    "    model.add(Conv2D(128, (3, 3), activation='relu', padding='same'))\n",
    "    model.add(BatchNormalization())\n",
    "    model.add(MaxPooling2D((2, 2)))\n",
    "\n",
    "    model.add(Flatten())\n",
    "    model.add(Dense(128, activation='relu'))\n",
    "    model.add(Dropout(0.3))\n",
    "    model.add(Dense(num_classes, activation='softmax'))\n",
    "\n",
    "    model.compile(\n",
    "        optimizer=Adam(learning_rate=0.0005),\n",
    "        loss='sparse_categorical_crossentropy',\n",
    "        metrics=['accuracy']\n",
    "    )\n",
    "\n",
    "    return model\n",
    "\n",
    "# 모델 인스턴스 생성\n",
    "model = build_cnn_model(input_shape=(40, 100, 1), num_classes=4)\n",
    "model.summary()\n"
   ]
  },
  {
   "cell_type": "code",
   "execution_count": 5,
   "metadata": {},
   "outputs": [
    {
     "name": "stdout",
     "output_type": "stream",
     "text": [
      "Epoch 1/300\n",
      "\u001b[1m23/23\u001b[0m \u001b[32m━━━━━━━━━━━━━━━━━━━━\u001b[0m\u001b[37m\u001b[0m \u001b[1m0s\u001b[0m 4s/step - accuracy: 0.2027 - loss: 3.1182"
     ]
    },
    {
     "name": "stderr",
     "output_type": "stream",
     "text": [
      "WARNING:absl:You are saving your model as an HDF5 file via `model.save()` or `keras.saving.save_model(model)`. This file format is considered legacy. We recommend using instead the native Keras format, e.g. `model.save('my_model.keras')` or `keras.saving.save_model(model, 'my_model.keras')`. \n"
     ]
    },
    {
     "name": "stdout",
     "output_type": "stream",
     "text": [
      "\u001b[1m23/23\u001b[0m \u001b[32m━━━━━━━━━━━━━━━━━━━━\u001b[0m\u001b[37m\u001b[0m \u001b[1m106s\u001b[0m 4s/step - accuracy: 0.2051 - loss: 3.0772 - val_accuracy: 0.3149 - val_loss: 1.2610\n",
      "Epoch 2/300\n",
      "\u001b[1m23/23\u001b[0m \u001b[32m━━━━━━━━━━━━━━━━━━━━\u001b[0m\u001b[37m\u001b[0m \u001b[1m107s\u001b[0m 5s/step - accuracy: 0.3663 - loss: 1.1645 - val_accuracy: 0.3414 - val_loss: 1.3809\n",
      "Epoch 3/300\n",
      "\u001b[1m23/23\u001b[0m \u001b[32m━━━━━━━━━━━━━━━━━━━━\u001b[0m\u001b[37m\u001b[0m \u001b[1m0s\u001b[0m 5s/step - accuracy: 0.3615 - loss: 1.1496"
     ]
    },
    {
     "name": "stderr",
     "output_type": "stream",
     "text": [
      "WARNING:absl:You are saving your model as an HDF5 file via `model.save()` or `keras.saving.save_model(model)`. This file format is considered legacy. We recommend using instead the native Keras format, e.g. `model.save('my_model.keras')` or `keras.saving.save_model(model, 'my_model.keras')`. \n"
     ]
    },
    {
     "name": "stdout",
     "output_type": "stream",
     "text": [
      "\u001b[1m23/23\u001b[0m \u001b[32m━━━━━━━━━━━━━━━━━━━━\u001b[0m\u001b[37m\u001b[0m \u001b[1m111s\u001b[0m 5s/step - accuracy: 0.3599 - loss: 1.1505 - val_accuracy: 0.3349 - val_loss: 1.1638\n",
      "Epoch 4/300\n",
      "\u001b[1m23/23\u001b[0m \u001b[32m━━━━━━━━━━━━━━━━━━━━\u001b[0m\u001b[37m\u001b[0m \u001b[1m0s\u001b[0m 5s/step - accuracy: 0.3368 - loss: 1.1462"
     ]
    },
    {
     "name": "stderr",
     "output_type": "stream",
     "text": [
      "WARNING:absl:You are saving your model as an HDF5 file via `model.save()` or `keras.saving.save_model(model)`. This file format is considered legacy. We recommend using instead the native Keras format, e.g. `model.save('my_model.keras')` or `keras.saving.save_model(model, 'my_model.keras')`. \n"
     ]
    },
    {
     "name": "stdout",
     "output_type": "stream",
     "text": [
      "\u001b[1m23/23\u001b[0m \u001b[32m━━━━━━━━━━━━━━━━━━━━\u001b[0m\u001b[37m\u001b[0m \u001b[1m126s\u001b[0m 5s/step - accuracy: 0.3373 - loss: 1.1459 - val_accuracy: 0.2621 - val_loss: 1.1333\n",
      "Epoch 5/300\n",
      "\u001b[1m23/23\u001b[0m \u001b[32m━━━━━━━━━━━━━━━━━━━━\u001b[0m\u001b[37m\u001b[0m \u001b[1m132s\u001b[0m 6s/step - accuracy: 0.3099 - loss: 1.1686 - val_accuracy: 0.2642 - val_loss: 1.1390\n",
      "Epoch 6/300\n",
      "\u001b[1m23/23\u001b[0m \u001b[32m━━━━━━━━━━━━━━━━━━━━\u001b[0m\u001b[37m\u001b[0m \u001b[1m0s\u001b[0m 5s/step - accuracy: 0.4517 - loss: 1.1090"
     ]
    },
    {
     "name": "stderr",
     "output_type": "stream",
     "text": [
      "WARNING:absl:You are saving your model as an HDF5 file via `model.save()` or `keras.saving.save_model(model)`. This file format is considered legacy. We recommend using instead the native Keras format, e.g. `model.save('my_model.keras')` or `keras.saving.save_model(model, 'my_model.keras')`. \n"
     ]
    },
    {
     "name": "stdout",
     "output_type": "stream",
     "text": [
      "\u001b[1m23/23\u001b[0m \u001b[32m━━━━━━━━━━━━━━━━━━━━\u001b[0m\u001b[37m\u001b[0m \u001b[1m124s\u001b[0m 5s/step - accuracy: 0.4465 - loss: 1.1123 - val_accuracy: 0.3261 - val_loss: 1.1330\n",
      "Epoch 7/300\n",
      "\u001b[1m23/23\u001b[0m \u001b[32m━━━━━━━━━━━━━━━━━━━━\u001b[0m\u001b[37m\u001b[0m \u001b[1m0s\u001b[0m 4s/step - accuracy: 0.2651 - loss: 1.1654"
     ]
    },
    {
     "name": "stderr",
     "output_type": "stream",
     "text": [
      "WARNING:absl:You are saving your model as an HDF5 file via `model.save()` or `keras.saving.save_model(model)`. This file format is considered legacy. We recommend using instead the native Keras format, e.g. `model.save('my_model.keras')` or `keras.saving.save_model(model, 'my_model.keras')`. \n"
     ]
    },
    {
     "name": "stdout",
     "output_type": "stream",
     "text": [
      "\u001b[1m23/23\u001b[0m \u001b[32m━━━━━━━━━━━━━━━━━━━━\u001b[0m\u001b[37m\u001b[0m \u001b[1m101s\u001b[0m 4s/step - accuracy: 0.2664 - loss: 1.1652 - val_accuracy: 0.2822 - val_loss: 1.1324\n",
      "Epoch 8/300\n",
      "\u001b[1m23/23\u001b[0m \u001b[32m━━━━━━━━━━━━━━━━━━━━\u001b[0m\u001b[37m\u001b[0m \u001b[1m0s\u001b[0m 4s/step - accuracy: 0.3532 - loss: 1.1339"
     ]
    },
    {
     "name": "stderr",
     "output_type": "stream",
     "text": [
      "WARNING:absl:You are saving your model as an HDF5 file via `model.save()` or `keras.saving.save_model(model)`. This file format is considered legacy. We recommend using instead the native Keras format, e.g. `model.save('my_model.keras')` or `keras.saving.save_model(model, 'my_model.keras')`. \n"
     ]
    },
    {
     "name": "stdout",
     "output_type": "stream",
     "text": [
      "\u001b[1m23/23\u001b[0m \u001b[32m━━━━━━━━━━━━━━━━━━━━\u001b[0m\u001b[37m\u001b[0m \u001b[1m102s\u001b[0m 4s/step - accuracy: 0.3524 - loss: 1.1342 - val_accuracy: 0.2450 - val_loss: 1.1249\n",
      "Epoch 9/300\n",
      "\u001b[1m23/23\u001b[0m \u001b[32m━━━━━━━━━━━━━━━━━━━━\u001b[0m\u001b[37m\u001b[0m \u001b[1m102s\u001b[0m 4s/step - accuracy: 0.3006 - loss: 1.1394 - val_accuracy: 0.3115 - val_loss: 1.1345\n",
      "Epoch 10/300\n",
      "\u001b[1m23/23\u001b[0m \u001b[32m━━━━━━━━━━━━━━━━━━━━\u001b[0m\u001b[37m\u001b[0m \u001b[1m102s\u001b[0m 4s/step - accuracy: 0.4110 - loss: 1.0952 - val_accuracy: 0.1949 - val_loss: 1.1297\n",
      "Epoch 11/300\n",
      "\u001b[1m23/23\u001b[0m \u001b[32m━━━━━━━━━━━━━━━━━━━━\u001b[0m\u001b[37m\u001b[0m \u001b[1m102s\u001b[0m 4s/step - accuracy: 0.3814 - loss: 1.1115 - val_accuracy: 0.1884 - val_loss: 1.1356\n",
      "Epoch 12/300\n",
      "\u001b[1m23/23\u001b[0m \u001b[32m━━━━━━━━━━━━━━━━━━━━\u001b[0m\u001b[37m\u001b[0m \u001b[1m102s\u001b[0m 4s/step - accuracy: 0.3903 - loss: 1.1074 - val_accuracy: 0.2793 - val_loss: 1.1410\n",
      "Epoch 13/300\n",
      "\u001b[1m23/23\u001b[0m \u001b[32m━━━━━━━━━━━━━━━━━━━━\u001b[0m\u001b[37m\u001b[0m \u001b[1m103s\u001b[0m 4s/step - accuracy: 0.3617 - loss: 1.1145 - val_accuracy: 0.2570 - val_loss: 1.1457\n",
      "Epoch 14/300\n",
      "\u001b[1m23/23\u001b[0m \u001b[32m━━━━━━━━━━━━━━━━━━━━\u001b[0m\u001b[37m\u001b[0m \u001b[1m0s\u001b[0m 4s/step - accuracy: 0.3680 - loss: 1.1364"
     ]
    },
    {
     "name": "stderr",
     "output_type": "stream",
     "text": [
      "WARNING:absl:You are saving your model as an HDF5 file via `model.save()` or `keras.saving.save_model(model)`. This file format is considered legacy. We recommend using instead the native Keras format, e.g. `model.save('my_model.keras')` or `keras.saving.save_model(model, 'my_model.keras')`. \n"
     ]
    },
    {
     "name": "stdout",
     "output_type": "stream",
     "text": [
      "\u001b[1m23/23\u001b[0m \u001b[32m━━━━━━━━━━━━━━━━━━━━\u001b[0m\u001b[37m\u001b[0m \u001b[1m105s\u001b[0m 5s/step - accuracy: 0.3656 - loss: 1.1376 - val_accuracy: 0.2433 - val_loss: 1.1226\n",
      "Epoch 15/300\n",
      "\u001b[1m23/23\u001b[0m \u001b[32m━━━━━━━━━━━━━━━━━━━━\u001b[0m\u001b[37m\u001b[0m \u001b[1m0s\u001b[0m 4s/step - accuracy: 0.3630 - loss: 1.1103"
     ]
    },
    {
     "name": "stderr",
     "output_type": "stream",
     "text": [
      "WARNING:absl:You are saving your model as an HDF5 file via `model.save()` or `keras.saving.save_model(model)`. This file format is considered legacy. We recommend using instead the native Keras format, e.g. `model.save('my_model.keras')` or `keras.saving.save_model(model, 'my_model.keras')`. \n"
     ]
    },
    {
     "name": "stdout",
     "output_type": "stream",
     "text": [
      "\u001b[1m23/23\u001b[0m \u001b[32m━━━━━━━━━━━━━━━━━━━━\u001b[0m\u001b[37m\u001b[0m \u001b[1m102s\u001b[0m 4s/step - accuracy: 0.3618 - loss: 1.1107 - val_accuracy: 0.3411 - val_loss: 1.1187\n",
      "Epoch 16/300\n",
      "\u001b[1m23/23\u001b[0m \u001b[32m━━━━━━━━━━━━━━━━━━━━\u001b[0m\u001b[37m\u001b[0m \u001b[1m102s\u001b[0m 4s/step - accuracy: 0.3613 - loss: 1.1172 - val_accuracy: 0.3214 - val_loss: 1.1275\n",
      "Epoch 17/300\n",
      "\u001b[1m23/23\u001b[0m \u001b[32m━━━━━━━━━━━━━━━━━━━━\u001b[0m\u001b[37m\u001b[0m \u001b[1m102s\u001b[0m 4s/step - accuracy: 0.3556 - loss: 1.1164 - val_accuracy: 0.3163 - val_loss: 1.1356\n",
      "Epoch 18/300\n",
      "\u001b[1m23/23\u001b[0m \u001b[32m━━━━━━━━━━━━━━━━━━━━\u001b[0m\u001b[37m\u001b[0m \u001b[1m103s\u001b[0m 4s/step - accuracy: 0.3601 - loss: 1.1171 - val_accuracy: 0.2519 - val_loss: 1.1342\n",
      "Epoch 19/300\n",
      "\u001b[1m23/23\u001b[0m \u001b[32m━━━━━━━━━━━━━━━━━━━━\u001b[0m\u001b[37m\u001b[0m \u001b[1m103s\u001b[0m 4s/step - accuracy: 0.3586 - loss: 1.1072 - val_accuracy: 0.3008 - val_loss: 1.1405\n",
      "Epoch 20/300\n",
      "\u001b[1m23/23\u001b[0m \u001b[32m━━━━━━━━━━━━━━━━━━━━\u001b[0m\u001b[37m\u001b[0m \u001b[1m102s\u001b[0m 4s/step - accuracy: 0.3168 - loss: 1.1444 - val_accuracy: 0.2285 - val_loss: 1.1235\n",
      "Epoch 21/300\n",
      "\u001b[1m23/23\u001b[0m \u001b[32m━━━━━━━━━━━━━━━━━━━━\u001b[0m\u001b[37m\u001b[0m \u001b[1m102s\u001b[0m 4s/step - accuracy: 0.3062 - loss: 1.1207 - val_accuracy: 0.2825 - val_loss: 1.1190\n",
      "Epoch 22/300\n",
      "\u001b[1m23/23\u001b[0m \u001b[32m━━━━━━━━━━━━━━━━━━━━\u001b[0m\u001b[37m\u001b[0m \u001b[1m103s\u001b[0m 4s/step - accuracy: 0.3809 - loss: 1.1091 - val_accuracy: 0.2540 - val_loss: 1.1246\n",
      "Epoch 23/300\n",
      "\u001b[1m23/23\u001b[0m \u001b[32m━━━━━━━━━━━━━━━━━━━━\u001b[0m\u001b[37m\u001b[0m \u001b[1m106s\u001b[0m 5s/step - accuracy: 0.3396 - loss: 1.1154 - val_accuracy: 0.1686 - val_loss: 1.1221\n",
      "Epoch 24/300\n",
      "\u001b[1m23/23\u001b[0m \u001b[32m━━━━━━━━━━━━━━━━━━━━\u001b[0m\u001b[37m\u001b[0m \u001b[1m101s\u001b[0m 4s/step - accuracy: 0.3956 - loss: 1.1021 - val_accuracy: 0.1889 - val_loss: 1.1284\n",
      "Epoch 25/300\n",
      "\u001b[1m23/23\u001b[0m \u001b[32m━━━━━━━━━━━━━━━━━━━━\u001b[0m\u001b[37m\u001b[0m \u001b[1m101s\u001b[0m 4s/step - accuracy: 0.3629 - loss: 1.1064 - val_accuracy: 0.2572 - val_loss: 1.1326\n",
      "Epoch 26/300\n",
      "\u001b[1m23/23\u001b[0m \u001b[32m━━━━━━━━━━━━━━━━━━━━\u001b[0m\u001b[37m\u001b[0m \u001b[1m101s\u001b[0m 4s/step - accuracy: 0.3005 - loss: 1.1222 - val_accuracy: 0.2399 - val_loss: 1.1288\n",
      "Epoch 27/300\n",
      "\u001b[1m23/23\u001b[0m \u001b[32m━━━━━━━━━━━━━━━━━━━━\u001b[0m\u001b[37m\u001b[0m \u001b[1m101s\u001b[0m 4s/step - accuracy: 0.3474 - loss: 1.1167 - val_accuracy: 0.1613 - val_loss: 1.1311\n",
      "Epoch 28/300\n",
      "\u001b[1m23/23\u001b[0m \u001b[32m━━━━━━━━━━━━━━━━━━━━\u001b[0m\u001b[37m\u001b[0m \u001b[1m101s\u001b[0m 4s/step - accuracy: 0.3800 - loss: 1.1024 - val_accuracy: 0.2122 - val_loss: 1.1373\n",
      "Epoch 29/300\n",
      "\u001b[1m23/23\u001b[0m \u001b[32m━━━━━━━━━━━━━━━━━━━━\u001b[0m\u001b[37m\u001b[0m \u001b[1m101s\u001b[0m 4s/step - accuracy: 0.3673 - loss: 1.1005 - val_accuracy: 0.2523 - val_loss: 1.1351\n",
      "Epoch 30/300\n",
      "\u001b[1m23/23\u001b[0m \u001b[32m━━━━━━━━━━━━━━━━━━━━\u001b[0m\u001b[37m\u001b[0m \u001b[1m101s\u001b[0m 4s/step - accuracy: 0.3406 - loss: 1.0992 - val_accuracy: 0.1660 - val_loss: 1.1370\n",
      "Epoch 31/300\n",
      "\u001b[1m23/23\u001b[0m \u001b[32m━━━━━━━━━━━━━━━━━━━━\u001b[0m\u001b[37m\u001b[0m \u001b[1m101s\u001b[0m 4s/step - accuracy: 0.3578 - loss: 1.0996 - val_accuracy: 0.1874 - val_loss: 1.1347\n",
      "Epoch 32/300\n",
      "\u001b[1m23/23\u001b[0m \u001b[32m━━━━━━━━━━━━━━━━━━━━\u001b[0m\u001b[37m\u001b[0m \u001b[1m97s\u001b[0m 4s/step - accuracy: 0.3675 - loss: 1.0999 - val_accuracy: 0.1350 - val_loss: 1.1443\n",
      "Epoch 33/300\n",
      "\u001b[1m23/23\u001b[0m \u001b[32m━━━━━━━━━━━━━━━━━━━━\u001b[0m\u001b[37m\u001b[0m \u001b[1m77s\u001b[0m 3s/step - accuracy: 0.2945 - loss: 1.1164 - val_accuracy: 0.2314 - val_loss: 1.1370\n",
      "Epoch 34/300\n",
      "\u001b[1m23/23\u001b[0m \u001b[32m━━━━━━━━━━━━━━━━━━━━\u001b[0m\u001b[37m\u001b[0m \u001b[1m77s\u001b[0m 3s/step - accuracy: 0.3202 - loss: 1.1106 - val_accuracy: 0.1958 - val_loss: 1.1325\n",
      "Epoch 35/300\n",
      "\u001b[1m23/23\u001b[0m \u001b[32m━━━━━━━━━━━━━━━━━━━━\u001b[0m\u001b[37m\u001b[0m \u001b[1m77s\u001b[0m 3s/step - accuracy: 0.3428 - loss: 1.1012 - val_accuracy: 0.1536 - val_loss: 1.1376\n",
      "Epoch 36/300\n",
      "\u001b[1m23/23\u001b[0m \u001b[32m━━━━━━━━━━━━━━━━━━━━\u001b[0m\u001b[37m\u001b[0m \u001b[1m77s\u001b[0m 3s/step - accuracy: 0.3612 - loss: 1.1013 - val_accuracy: 0.2322 - val_loss: 1.1390\n",
      "Epoch 37/300\n",
      "\u001b[1m23/23\u001b[0m \u001b[32m━━━━━━━━━━━━━━━━━━━━\u001b[0m\u001b[37m\u001b[0m \u001b[1m77s\u001b[0m 3s/step - accuracy: 0.3865 - loss: 1.0886 - val_accuracy: 0.1668 - val_loss: 1.1576\n",
      "Epoch 38/300\n",
      "\u001b[1m23/23\u001b[0m \u001b[32m━━━━━━━━━━━━━━━━━━━━\u001b[0m\u001b[37m\u001b[0m \u001b[1m77s\u001b[0m 3s/step - accuracy: 0.3492 - loss: 1.1005 - val_accuracy: 0.1624 - val_loss: 1.1365\n",
      "Epoch 39/300\n",
      "\u001b[1m23/23\u001b[0m \u001b[32m━━━━━━━━━━━━━━━━━━━━\u001b[0m\u001b[37m\u001b[0m \u001b[1m77s\u001b[0m 3s/step - accuracy: 0.3546 - loss: 1.0961 - val_accuracy: 0.1607 - val_loss: 1.1570\n",
      "Epoch 40/300\n",
      "\u001b[1m23/23\u001b[0m \u001b[32m━━━━━━━━━━━━━━━━━━━━\u001b[0m\u001b[37m\u001b[0m \u001b[1m77s\u001b[0m 3s/step - accuracy: 0.4010 - loss: 1.0841 - val_accuracy: 0.1990 - val_loss: 1.1483\n",
      "Epoch 41/300\n",
      "\u001b[1m23/23\u001b[0m \u001b[32m━━━━━━━━━━━━━━━━━━━━\u001b[0m\u001b[37m\u001b[0m \u001b[1m77s\u001b[0m 3s/step - accuracy: 0.4465 - loss: 1.0725 - val_accuracy: 0.1493 - val_loss: 1.1424\n",
      "Epoch 42/300\n",
      "\u001b[1m23/23\u001b[0m \u001b[32m━━━━━━━━━━━━━━━━━━━━\u001b[0m\u001b[37m\u001b[0m \u001b[1m77s\u001b[0m 3s/step - accuracy: 0.3413 - loss: 1.1071 - val_accuracy: 0.1608 - val_loss: 1.1376\n",
      "Epoch 43/300\n",
      "\u001b[1m23/23\u001b[0m \u001b[32m━━━━━━━━━━━━━━━━━━━━\u001b[0m\u001b[37m\u001b[0m \u001b[1m77s\u001b[0m 3s/step - accuracy: 0.3419 - loss: 1.0985 - val_accuracy: 0.2479 - val_loss: 1.1485\n",
      "Epoch 44/300\n",
      "\u001b[1m23/23\u001b[0m \u001b[32m━━━━━━━━━━━━━━━━━━━━\u001b[0m\u001b[37m\u001b[0m \u001b[1m77s\u001b[0m 3s/step - accuracy: 0.3719 - loss: 1.0842 - val_accuracy: 0.1405 - val_loss: 1.1616\n",
      "Epoch 45/300\n",
      "\u001b[1m23/23\u001b[0m \u001b[32m━━━━━━━━━━━━━━━━━━━━\u001b[0m\u001b[37m\u001b[0m \u001b[1m77s\u001b[0m 3s/step - accuracy: 0.3283 - loss: 1.1023 - val_accuracy: 0.1554 - val_loss: 1.1648\n",
      "✅ 학습 완료 및 저장됨\n"
     ]
    }
   ],
   "source": [
    "import os\n",
    "import numpy as np\n",
    "import pickle\n",
    "from tensorflow.keras.callbacks import EarlyStopping, ModelCheckpoint\n",
    "from tensorflow.keras.utils import Sequence\n",
    "\n",
    "# =============================\n",
    "# 1. 제너레이터 정의 (샘플 개수 맞춤 처리 포함)\n",
    "# =============================\n",
    "class MFCCGenerator(Sequence):\n",
    "    def __init__(self, mfcc_dir, label_dir, batch_size=32):\n",
    "        self.mfcc_paths = sorted([os.path.join(mfcc_dir, f) for f in os.listdir(mfcc_dir) if f.startswith(\"mfcc_batch\")])\n",
    "        self.label_paths = sorted([os.path.join(label_dir, f) for f in os.listdir(label_dir) if f.startswith(\"label_batch\")])\n",
    "        self.batch_size = batch_size\n",
    "\n",
    "    def __len__(self):\n",
    "        return len(self.mfcc_paths)\n",
    "\n",
    "    def __getitem__(self, idx):\n",
    "        x = np.load(self.mfcc_paths[idx], allow_pickle=True)\n",
    "        y = np.load(self.label_paths[idx])\n",
    "\n",
    "        # 오류 방지: 길이 맞춤\n",
    "        min_len = min(len(x), len(y))\n",
    "        x = x[:min_len]\n",
    "        y = y[:min_len]\n",
    "\n",
    "        # Padding & Shape 변환\n",
    "        x = np.stack([\n",
    "            np.pad(sample, ((0, max(0, 40 - sample.shape[0])), (0, 0)), mode='constant')[:40]\n",
    "            for sample in x\n",
    "        ])\n",
    "        x = np.transpose(x, (0, 2, 1))            # (batch, 13, 40)\n",
    "        x = x[..., np.newaxis]                    # (batch, 13, 40, 1)\n",
    "        x = np.transpose(x, (0, 2, 1, 3))         # → (batch, 40, 13, 1)\n",
    "        return x, y\n",
    "\n",
    "# =============================\n",
    "# 2. 경로 설정\n",
    "# =============================\n",
    "train_mfcc_dir = \"/media/usou/PortableSSD/mldl_4class/mfcc_batches\"\n",
    "train_label_dir = os.path.join(train_mfcc_dir, \"encoded_labels\")\n",
    "\n",
    "val_mfcc_dir = \"/media/usou/PortableSSD/mldl_4class/validation/mfcc_batches\"\n",
    "val_label_dir = os.path.join(val_mfcc_dir, \"encoded_labels\")\n",
    "\n",
    "# =============================\n",
    "# 3. 제너레이터 준비\n",
    "# =============================\n",
    "train_gen = MFCCGenerator(train_mfcc_dir, train_label_dir, batch_size=32)\n",
    "val_gen = MFCCGenerator(val_mfcc_dir, val_label_dir, batch_size=32)\n",
    "\n",
    "# =============================\n",
    "# 4. 모델 불러오기 (4번 셀에서 정의된 함수 사용)\n",
    "# =============================\n",
    "model = build_cnn_model(input_shape=(40, 13, 1), num_classes=4)\n",
    "\n",
    "# =============================\n",
    "# 5. 콜백 설정\n",
    "# =============================\n",
    "callbacks = [\n",
    "    EarlyStopping(patience=30, restore_best_weights=True, monitor='val_loss'),\n",
    "    ModelCheckpoint(\"voice_emotion_analyze.h5\", save_best_only=True, monitor='val_loss')\n",
    "]\n",
    "\n",
    "# =============================\n",
    "# 6. 학습 실행\n",
    "# =============================\n",
    "history = model.fit(\n",
    "    train_gen,\n",
    "    validation_data=val_gen,\n",
    "    epochs=300,\n",
    "    callbacks=callbacks\n",
    ")\n",
    "\n",
    "# =============================\n",
    "# 7. 학습 기록 저장 (.pkl)\n",
    "# =============================\n",
    "with open(\"voice_emotion_analyze_history.pkl\", \"wb\") as f:\n",
    "    pickle.dump(history.history, f)\n",
    "\n",
    "print(\"✅ 학습 완료 및 저장됨\")\n"
   ]
  },
  {
   "cell_type": "code",
   "execution_count": 6,
   "metadata": {},
   "outputs": [
    {
     "data": {
      "image/png": "[encoded data removed]",
      "text/plain": [
       "<Figure size 1200x500 with 2 Axes>"
      ]
     },
     "metadata": {},
     "output_type": "display_data"
    }
   ],
   "source": [
    "import pickle\n",
    "import matplotlib.pyplot as plt\n",
    "\n",
    "# ================================\n",
    "# 1. history 로드\n",
    "# ================================\n",
    "with open(\"voice_emotion_analyze_history.pkl\", \"rb\") as f:\n",
    "    history = pickle.load(f)\n",
    "\n",
    "# ================================\n",
    "# 2. 시각화\n",
    "# ================================\n",
    "plt.figure(figsize=(12, 5))\n",
    "\n",
    "# Accuracy\n",
    "plt.subplot(1, 2, 1)\n",
    "plt.plot(history['accuracy'], label='Train Accuracy')\n",
    "plt.plot(history['val_accuracy'], label='Val Accuracy')\n",
    "plt.title(\"Accuracy over Epochs\")\n",
    "plt.xlabel(\"Epoch\")\n",
    "plt.ylabel(\"Accuracy\")\n",
    "plt.legend()\n",
    "plt.grid(True)\n",
    "\n",
    "# Loss\n",
    "plt.subplot(1, 2, 2)\n",
    "plt.plot(history['loss'], label='Train Loss')\n",
    "plt.plot(history['val_loss'], label='Val Loss')\n",
    "plt.title(\"Loss over Epochs\")\n",
    "plt.xlabel(\"Epoch\")\n",
    "plt.ylabel(\"Loss\")\n",
    "plt.legend()\n",
    "plt.grid(True)\n",
    "\n",
    "plt.tight_layout()\n",
    "plt.show()\n"
   ]
  },
  {
   "cell_type": "markdown",
   "metadata": {},
   "source": [
    "# 성능 개선 CNN + LSTM 모델 정의"
   ]
  },
  {
   "cell_type": "code",
   "execution_count": 7,
   "metadata": {},
   "outputs": [
    {
     "data": {
      "text/html": [
       "<pre style=\"white-space:pre;overflow-x:auto;line-height:normal;font-family:Menlo,'DejaVu Sans Mono',consolas,'Courier New',monospace\"><span style=\"font-weight: bold\">Model: \"functional_39\"</span>\n",
       "</pre>\n"
      ],
      "text/plain": [
       "\u001b[1mModel: \"functional_39\"\u001b[0m\n"
      ]
     },
     "metadata": {},
     "output_type": "display_data"
    },
    {
     "data": {
      "text/html": [
       "<pre style=\"white-space:pre;overflow-x:auto;line-height:normal;font-family:Menlo,'DejaVu Sans Mono',consolas,'Courier New',monospace\">┏━━━━━━━━━━━━━━━━━━━━━━━━━━━━━━━━━┳━━━━━━━━━━━━━━━━━━━━━━━━┳━━━━━━━━━━━━━━━┓\n",
       "┃<span style=\"font-weight: bold\"> Layer (type)                    </span>┃<span style=\"font-weight: bold\"> Output Shape           </span>┃<span style=\"font-weight: bold\">       Param # </span>┃\n",
       "┡━━━━━━━━━━━━━━━━━━━━━━━━━━━━━━━━━╇━━━━━━━━━━━━━━━━━━━━━━━━╇━━━━━━━━━━━━━━━┩\n",
       "│ input_layer_3 (<span style=\"color: #0087ff; text-decoration-color: #0087ff\">InputLayer</span>)      │ (<span style=\"color: #00d7ff; text-decoration-color: #00d7ff\">None</span>, <span style=\"color: #00af00; text-decoration-color: #00af00\">40</span>, <span style=\"color: #00af00; text-decoration-color: #00af00\">13</span>, <span style=\"color: #00af00; text-decoration-color: #00af00\">1</span>)      │             <span style=\"color: #00af00; text-decoration-color: #00af00\">0</span> │\n",
       "├─────────────────────────────────┼────────────────────────┼───────────────┤\n",
       "│ conv2d_9 (<span style=\"color: #0087ff; text-decoration-color: #0087ff\">Conv2D</span>)               │ (<span style=\"color: #00d7ff; text-decoration-color: #00d7ff\">None</span>, <span style=\"color: #00af00; text-decoration-color: #00af00\">40</span>, <span style=\"color: #00af00; text-decoration-color: #00af00\">13</span>, <span style=\"color: #00af00; text-decoration-color: #00af00\">32</span>)     │           <span style=\"color: #00af00; text-decoration-color: #00af00\">320</span> │\n",
       "├─────────────────────────────────┼────────────────────────┼───────────────┤\n",
       "│ batch_normalization_9           │ (<span style=\"color: #00d7ff; text-decoration-color: #00d7ff\">None</span>, <span style=\"color: #00af00; text-decoration-color: #00af00\">40</span>, <span style=\"color: #00af00; text-decoration-color: #00af00\">13</span>, <span style=\"color: #00af00; text-decoration-color: #00af00\">32</span>)     │           <span style=\"color: #00af00; text-decoration-color: #00af00\">128</span> │\n",
       "│ (<span style=\"color: #0087ff; text-decoration-color: #0087ff\">BatchNormalization</span>)            │                        │               │\n",
       "├─────────────────────────────────┼────────────────────────┼───────────────┤\n",
       "│ max_pooling2d_9 (<span style=\"color: #0087ff; text-decoration-color: #0087ff\">MaxPooling2D</span>)  │ (<span style=\"color: #00d7ff; text-decoration-color: #00d7ff\">None</span>, <span style=\"color: #00af00; text-decoration-color: #00af00\">20</span>, <span style=\"color: #00af00; text-decoration-color: #00af00\">6</span>, <span style=\"color: #00af00; text-decoration-color: #00af00\">32</span>)      │             <span style=\"color: #00af00; text-decoration-color: #00af00\">0</span> │\n",
       "├─────────────────────────────────┼────────────────────────┼───────────────┤\n",
       "│ conv2d_10 (<span style=\"color: #0087ff; text-decoration-color: #0087ff\">Conv2D</span>)              │ (<span style=\"color: #00d7ff; text-decoration-color: #00d7ff\">None</span>, <span style=\"color: #00af00; text-decoration-color: #00af00\">20</span>, <span style=\"color: #00af00; text-decoration-color: #00af00\">6</span>, <span style=\"color: #00af00; text-decoration-color: #00af00\">64</span>)      │        <span style=\"color: #00af00; text-decoration-color: #00af00\">18,496</span> │\n",
       "├─────────────────────────────────┼────────────────────────┼───────────────┤\n",
       "│ batch_normalization_10          │ (<span style=\"color: #00d7ff; text-decoration-color: #00d7ff\">None</span>, <span style=\"color: #00af00; text-decoration-color: #00af00\">20</span>, <span style=\"color: #00af00; text-decoration-color: #00af00\">6</span>, <span style=\"color: #00af00; text-decoration-color: #00af00\">64</span>)      │           <span style=\"color: #00af00; text-decoration-color: #00af00\">256</span> │\n",
       "│ (<span style=\"color: #0087ff; text-decoration-color: #0087ff\">BatchNormalization</span>)            │                        │               │\n",
       "├─────────────────────────────────┼────────────────────────┼───────────────┤\n",
       "│ max_pooling2d_10 (<span style=\"color: #0087ff; text-decoration-color: #0087ff\">MaxPooling2D</span>) │ (<span style=\"color: #00d7ff; text-decoration-color: #00d7ff\">None</span>, <span style=\"color: #00af00; text-decoration-color: #00af00\">10</span>, <span style=\"color: #00af00; text-decoration-color: #00af00\">3</span>, <span style=\"color: #00af00; text-decoration-color: #00af00\">64</span>)      │             <span style=\"color: #00af00; text-decoration-color: #00af00\">0</span> │\n",
       "├─────────────────────────────────┼────────────────────────┼───────────────┤\n",
       "│ time_distributed                │ (<span style=\"color: #00d7ff; text-decoration-color: #00d7ff\">None</span>, <span style=\"color: #00af00; text-decoration-color: #00af00\">10</span>, <span style=\"color: #00af00; text-decoration-color: #00af00\">192</span>)        │             <span style=\"color: #00af00; text-decoration-color: #00af00\">0</span> │\n",
       "│ (<span style=\"color: #0087ff; text-decoration-color: #0087ff\">TimeDistributed</span>)               │                        │               │\n",
       "├─────────────────────────────────┼────────────────────────┼───────────────┤\n",
       "│ lstm (<span style=\"color: #0087ff; text-decoration-color: #0087ff\">LSTM</span>)                     │ (<span style=\"color: #00d7ff; text-decoration-color: #00d7ff\">None</span>, <span style=\"color: #00af00; text-decoration-color: #00af00\">64</span>)             │        <span style=\"color: #00af00; text-decoration-color: #00af00\">65,792</span> │\n",
       "├─────────────────────────────────┼────────────────────────┼───────────────┤\n",
       "│ dropout_3 (<span style=\"color: #0087ff; text-decoration-color: #0087ff\">Dropout</span>)             │ (<span style=\"color: #00d7ff; text-decoration-color: #00d7ff\">None</span>, <span style=\"color: #00af00; text-decoration-color: #00af00\">64</span>)             │             <span style=\"color: #00af00; text-decoration-color: #00af00\">0</span> │\n",
       "├─────────────────────────────────┼────────────────────────┼───────────────┤\n",
       "│ dense_6 (<span style=\"color: #0087ff; text-decoration-color: #0087ff\">Dense</span>)                 │ (<span style=\"color: #00d7ff; text-decoration-color: #00d7ff\">None</span>, <span style=\"color: #00af00; text-decoration-color: #00af00\">4</span>)              │           <span style=\"color: #00af00; text-decoration-color: #00af00\">260</span> │\n",
       "└─────────────────────────────────┴────────────────────────┴───────────────┘\n",
       "</pre>\n"
      ],
      "text/plain": [
       "┏━━━━━━━━━━━━━━━━━━━━━━━━━━━━━━━━━┳━━━━━━━━━━━━━━━━━━━━━━━━┳━━━━━━━━━━━━━━━┓\n",
       "┃\u001b[1m \u001b[0m\u001b[1mLayer (type)                   \u001b[0m\u001b[1m \u001b[0m┃\u001b[1m \u001b[0m\u001b[1mOutput Shape          \u001b[0m\u001b[1m \u001b[0m┃\u001b[1m \u001b[0m\u001b[1m      Param #\u001b[0m\u001b[1m \u001b[0m┃\n",
       "┡━━━━━━━━━━━━━━━━━━━━━━━━━━━━━━━━━╇━━━━━━━━━━━━━━━━━━━━━━━━╇━━━━━━━━━━━━━━━┩\n",
       "│ input_layer_3 (\u001b[38;5;33mInputLayer\u001b[0m)      │ (\u001b[38;5;45mNone\u001b[0m, \u001b[38;5;34m40\u001b[0m, \u001b[38;5;34m13\u001b[0m, \u001b[38;5;34m1\u001b[0m)      │             \u001b[38;5;34m0\u001b[0m │\n",
       "├─────────────────────────────────┼────────────────────────┼───────────────┤\n",
       "│ conv2d_9 (\u001b[38;5;33mConv2D\u001b[0m)               │ (\u001b[38;5;45mNone\u001b[0m, \u001b[38;5;34m40\u001b[0m, \u001b[38;5;34m13\u001b[0m, \u001b[38;5;34m32\u001b[0m)     │           \u001b[38;5;34m320\u001b[0m │\n",
       "├─────────────────────────────────┼────────────────────────┼───────────────┤\n",
       "│ batch_normalization_9           │ (\u001b[38;5;45mNone\u001b[0m, \u001b[38;5;34m40\u001b[0m, \u001b[38;5;34m13\u001b[0m, \u001b[38;5;34m32\u001b[0m)     │           \u001b[38;5;34m128\u001b[0m │\n",
       "│ (\u001b[38;5;33mBatchNormalization\u001b[0m)            │                        │               │\n",
       "├─────────────────────────────────┼────────────────────────┼───────────────┤\n",
       "│ max_pooling2d_9 (\u001b[38;5;33mMaxPooling2D\u001b[0m)  │ (\u001b[38;5;45mNone\u001b[0m, \u001b[38;5;34m20\u001b[0m, \u001b[38;5;34m6\u001b[0m, \u001b[38;5;34m32\u001b[0m)      │             \u001b[38;5;34m0\u001b[0m │\n",
       "├─────────────────────────────────┼────────────────────────┼───────────────┤\n",
       "│ conv2d_10 (\u001b[38;5;33mConv2D\u001b[0m)              │ (\u001b[38;5;45mNone\u001b[0m, \u001b[38;5;34m20\u001b[0m, \u001b[38;5;34m6\u001b[0m, \u001b[38;5;34m64\u001b[0m)      │        \u001b[38;5;34m18,496\u001b[0m │\n",
       "├─────────────────────────────────┼────────────────────────┼───────────────┤\n",
       "│ batch_normalization_10          │ (\u001b[38;5;45mNone\u001b[0m, \u001b[38;5;34m20\u001b[0m, \u001b[38;5;34m6\u001b[0m, \u001b[38;5;34m64\u001b[0m)      │           \u001b[38;5;34m256\u001b[0m │\n",
       "│ (\u001b[38;5;33mBatchNormalization\u001b[0m)            │                        │               │\n",
       "├─────────────────────────────────┼────────────────────────┼───────────────┤\n",
       "│ max_pooling2d_10 (\u001b[38;5;33mMaxPooling2D\u001b[0m) │ (\u001b[38;5;45mNone\u001b[0m, \u001b[38;5;34m10\u001b[0m, \u001b[38;5;34m3\u001b[0m, \u001b[38;5;34m64\u001b[0m)      │             \u001b[38;5;34m0\u001b[0m │\n",
       "├─────────────────────────────────┼────────────────────────┼───────────────┤\n",
       "│ time_distributed                │ (\u001b[38;5;45mNone\u001b[0m, \u001b[38;5;34m10\u001b[0m, \u001b[38;5;34m192\u001b[0m)        │             \u001b[38;5;34m0\u001b[0m │\n",
       "│ (\u001b[38;5;33mTimeDistributed\u001b[0m)               │                        │               │\n",
       "├─────────────────────────────────┼────────────────────────┼───────────────┤\n",
       "│ lstm (\u001b[38;5;33mLSTM\u001b[0m)                     │ (\u001b[38;5;45mNone\u001b[0m, \u001b[38;5;34m64\u001b[0m)             │        \u001b[38;5;34m65,792\u001b[0m │\n",
       "├─────────────────────────────────┼────────────────────────┼───────────────┤\n",
       "│ dropout_3 (\u001b[38;5;33mDropout\u001b[0m)             │ (\u001b[38;5;45mNone\u001b[0m, \u001b[38;5;34m64\u001b[0m)             │             \u001b[38;5;34m0\u001b[0m │\n",
       "├─────────────────────────────────┼────────────────────────┼───────────────┤\n",
       "│ dense_6 (\u001b[38;5;33mDense\u001b[0m)                 │ (\u001b[38;5;45mNone\u001b[0m, \u001b[38;5;34m4\u001b[0m)              │           \u001b[38;5;34m260\u001b[0m │\n",
       "└─────────────────────────────────┴────────────────────────┴───────────────┘\n"
      ]
     },
     "metadata": {},
     "output_type": "display_data"
    },
    {
     "data": {
      "text/html": [
       "<pre style=\"white-space:pre;overflow-x:auto;line-height:normal;font-family:Menlo,'DejaVu Sans Mono',consolas,'Courier New',monospace\"><span style=\"font-weight: bold\"> Total params: </span><span style=\"color: #00af00; text-decoration-color: #00af00\">85,252</span> (333.02 KB)\n",
       "</pre>\n"
      ],
      "text/plain": [
       "\u001b[1m Total params: \u001b[0m\u001b[38;5;34m85,252\u001b[0m (333.02 KB)\n"
      ]
     },
     "metadata": {},
     "output_type": "display_data"
    },
    {
     "data": {
      "text/html": [
       "<pre style=\"white-space:pre;overflow-x:auto;line-height:normal;font-family:Menlo,'DejaVu Sans Mono',consolas,'Courier New',monospace\"><span style=\"font-weight: bold\"> Trainable params: </span><span style=\"color: #00af00; text-decoration-color: #00af00\">85,060</span> (332.27 KB)\n",
       "</pre>\n"
      ],
      "text/plain": [
       "\u001b[1m Trainable params: \u001b[0m\u001b[38;5;34m85,060\u001b[0m (332.27 KB)\n"
      ]
     },
     "metadata": {},
     "output_type": "display_data"
    },
    {
     "data": {
      "text/html": [
       "<pre style=\"white-space:pre;overflow-x:auto;line-height:normal;font-family:Menlo,'DejaVu Sans Mono',consolas,'Courier New',monospace\"><span style=\"font-weight: bold\"> Non-trainable params: </span><span style=\"color: #00af00; text-decoration-color: #00af00\">192</span> (768.00 B)\n",
       "</pre>\n"
      ],
      "text/plain": [
       "\u001b[1m Non-trainable params: \u001b[0m\u001b[38;5;34m192\u001b[0m (768.00 B)\n"
      ]
     },
     "metadata": {},
     "output_type": "display_data"
    }
   ],
   "source": [
    "from tensorflow.keras.models import Model\n",
    "from tensorflow.keras.layers import Input, Conv2D, MaxPooling2D, BatchNormalization\n",
    "from tensorflow.keras.layers import TimeDistributed, Flatten, LSTM, Dense, Dropout\n",
    "from tensorflow.keras.optimizers import Adam\n",
    "import tensorflow as tf\n",
    "\n",
    "# GPU 메모리 점진 할당 설정\n",
    "gpus = tf.config.experimental.list_physical_devices('GPU')\n",
    "for gpu in gpus:\n",
    "    tf.config.experimental.set_memory_growth(gpu, True)\n",
    "\n",
    "def build_cnn_lstm_model(input_shape=(40, 13, 1), num_classes=4):\n",
    "    inputs = Input(shape=input_shape)\n",
    "\n",
    "    # CNN block\n",
    "    x = Conv2D(32, (3, 3), activation='relu', padding='same')(inputs)\n",
    "    x = BatchNormalization()(x)\n",
    "    x = MaxPooling2D((2, 2))(x)\n",
    "\n",
    "    x = Conv2D(64, (3, 3), activation='relu', padding='same')(x)\n",
    "    x = BatchNormalization()(x)\n",
    "    x = MaxPooling2D((2, 2))(x)\n",
    "\n",
    "    x = TimeDistributed(Flatten())(x)  # (batch, time_steps, features)\n",
    "\n",
    "    # LSTM block\n",
    "    x = LSTM(64, return_sequences=False)(x)\n",
    "    x = Dropout(0.3)(x)\n",
    "\n",
    "    # Output\n",
    "    outputs = Dense(num_classes, activation='softmax')(x)\n",
    "\n",
    "    model = Model(inputs, outputs)\n",
    "    model.compile(\n",
    "        optimizer=Adam(learning_rate=0.0005),\n",
    "        loss='sparse_categorical_crossentropy',\n",
    "        metrics=['accuracy']\n",
    "    )\n",
    "    return model\n",
    "\n",
    "# 모델 생성\n",
    "model = build_cnn_lstm_model()\n",
    "model.summary()\n"
   ]
  },
  {
   "cell_type": "code",
   "execution_count": null,
   "metadata": {},
   "outputs": [],
   "source": []
  }
 ],
 "metadata": {
  "kernelspec": {
   "display_name": "dolbom_venv",
   "language": "python",
   "name": "python3"
  },
  "language_info": {
   "codemirror_mode": {
    "name": "ipython",
    "version": 3
   },
   "file_extension": ".py",
   "mimetype": "text/x-python",
   "name": "python",
   "nbconvert_exporter": "python",
   "pygments_lexer": "ipython3",
   "version": "3.12.3"
  }
 },
 "nbformat": 4,
 "nbformat_minor": 2
}
