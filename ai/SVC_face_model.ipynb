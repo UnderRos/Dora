{
 "cells": [
  {
   "cell_type": "code",
   "execution_count": null,
   "metadata": {},
   "outputs": [
    {
     "name": "stderr",
     "output_type": "stream",
     "text": [
      "  0%|          | 0/114001 [00:00<?, ?it/s]"
     ]
    },
    {
     "name": "stdout",
     "output_type": "stream",
     "text": [
      "❌ 오류: color_dataset/path → Confirm that color_dataset/path exists\n"
     ]
    },
    {
     "name": "stderr",
     "output_type": "stream",
     "text": [
      "I0000 00:00:1743126727.088477  104103 cuda_dnn.cc:529] Loaded cuDNN version 90800\n",
      "100%|██████████| 114001/114001 [2:46:04<00:00, 11.44it/s] \n"
     ]
    }
   ],
   "source": [
    "import pandas as pd\n",
    "import os\n",
    "from deepface import DeepFace\n",
    "from sklearn.model_selection import train_test_split\n",
    "from sklearn.svm import SVC\n",
    "from sklearn.metrics import classification_report\n",
    "import numpy as np\n",
    "from tqdm import tqdm\n",
    "\n",
    "# 숫자 라벨 → 텍스트 감정 라벨로 매핑\n",
    "label_map = {0: \"angry\", 1: \"happy\", 2: \"neutral\", 3: \"sad\"}\n",
    "\n",
    "def load_dataset_from_csv(csv_path, img_root, model_name=\"ArcFace\"):\n",
    "    df = pd.read_csv(csv_path, header=None, names=[\"filename\", \"label\"])\n",
    "    X, y = [], []\n",
    "\n",
    "    for _, row in tqdm(df.iterrows(), total=len(df)):\n",
    "        filename = os.path.basename(row[\"filename\"])  # 경로 제거\n",
    "        img_path = os.path.join(img_root, filename)\n",
    "        try:\n",
    "            embedding = DeepFace.represent(img_path=img_path,\n",
    "                                           model_name=model_name,\n",
    "                                           enforce_detection=False)[0]['embedding']\n",
    "            X.append(embedding)\n",
    "            y.append(label_map[int(row[\"label\"])])\n",
    "        except Exception as e:\n",
    "            print(f\"❌ 오류: {img_path} → {e}\")\n",
    "            continue\n",
    "\n",
    "    return np.array(X), np.array(y)\n",
    "\n",
    "# 데이터 불러오기\n",
    "X, y = load_dataset_from_csv(\"color_dataset.csv\", \"color_dataset\")\n",
    "\n",
    "# 데이터 분할\n",
    "X_train, X_test, y_train, y_test = train_test_split(\n",
    "    X, y, test_size=0.2, stratify=y, random_state=42\n",
    ")\n",
    "\n",
    "# 분류기 학습\n",
    "clf = SVC(kernel=\"rbf\", probability=True)\n",
    "clf.fit(X_train, y_train)\n",
    "\n",
    "# 평가\n",
    "y_pred = clf.predict(X_test)\n",
    "print(classification_report(y_test, y_pred))\n"
   ]
  },
  {
   "cell_type": "code",
   "execution_count": null,
   "metadata": {},
   "outputs": [],
   "source": []
  }
 ],
 "metadata": {
  "kernelspec": {
   "display_name": "MLDL_venv",
   "language": "python",
   "name": "python3"
  },
  "language_info": {
   "codemirror_mode": {
    "name": "ipython",
    "version": 3
   },
   "file_extension": ".py",
   "mimetype": "text/x-python",
   "name": "python",
   "nbconvert_exporter": "python",
   "pygments_lexer": "ipython3",
   "version": "3.12.3"
  }
 },
 "nbformat": 4,
 "nbformat_minor": 2
}
